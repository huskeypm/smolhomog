{
 "metadata": {
  "name": "tnc"
 }, 
 "nbformat": 2, 
 "worksheets": [
  {
   "cells": [
    {
     "cell_type": "code", 
     "collapsed": false, 
     "input": [
      "# for chemcca11 only", 
      "import sys", 
      "from dolfin import *", 
      "sys.path.append(\"/net/home/huskeypm/bin/grids/\")", 
      "sys.path.append(\"/net/home/huskeypm/Sources/smolhomog/example/\")", 
      "sys.path.append(\"/net/home/huskeypm/Sources/homogenization/\")", 
      "import caseRunner as cr # just for PB stuff", 
      "", 
      "", 
      "cr.dims=3", 
      "## make mesh ", 
      "makeMesh=False", 
      "if(makeMesh):", 
      "  #import gamer  ", 
      "  import makeCubicMeshPDB as mm", 
      "  boxdims =np.array([50,46,46])", 
      "  # verified that mesh is centered  ", 
      "  meshFile = mm.makeExteriorMesh(\"tnc.pdb\",molratio=1,boxdim=boxdims,type=\"box\")", 
      "  print \"WARNING: will want to remove <domain> section  from xml file and resave\""
     ], 
     "language": "python", 
     "outputs": [
      {
       "output_type": "stream", 
       "stream": "stdout", 
       "text": [
        "WARNING: This code is no-where close to being validated (use at your own risk)", 
        "WARNING: removed ANG TO UM", 
        "WARNING: removed ANG TO UM", 
        "WARNING: removed ANG TO UM", 
        "WARNING: removed ANG TO UM", 
        "WARNING: overriding parms (conflicting w smol on vm)", 
        "WARNING: bounds are hardcoded"
       ]
      }
     ], 
     "prompt_number": 1
    }, 
    {
     "cell_type": "code", 
     "collapsed": false, 
     "input": [
      "meshFile = \"tnc_mesh.xml\"", 
      "", 
      "mode = \"uniform\" ", 
      "mode = \"local\"", 
      "## assign charge ", 
      "cr.activeSite = np.array([4.435000,15.388000,-6.019000])", 
      "class allBoundary(SubDomain):", 
      "  def inside(self,x,on_boundary):", 
      "        #if on_boundary:", 
      "        #  print 1", 
      "        return on_boundary", 
      "    ", 
      "class innerBoundary(SubDomain):", 
      "  def inside(self,x,on_boundary):", 
      "    inner = np.linalg.norm(x-cr.activeSite) < 10.", 
      "    return inner and on_boundary", 
      "", 
      "mesh = Mesh(meshFile)", 
      "V = FunctionSpace(mesh,\"CG\",1)", 
      "", 
      "# Get total SA first ", 
      "subdomainsTemp = MeshFunction(\"uint\",mesh,3-1)", 
      "allboundary = allBoundary()", 
      "allMarker = 1", 
      "allboundary.mark(subdomainsTemp,allMarker)", 
      "ds = Measure(\"ds\")[subdomainsTemp] ", 
      "totSA =  assemble(Constant(1)*ds(allMarker),mesh=mesh)", 
      "", 
      "subdomains = MeshFunction(\"uint\",mesh,3-1)", 
      "boundary = innerBoundary();", 
      "chargeMarker = 2", 
      "boundary.mark(subdomains,chargeMarker)", 
      "ds = Measure(\"ds\")[subdomains] ", 
      "integratedDensity= assemble(Constant(1)*ds(chargeMarker),mesh=mesh)", 
      "", 
      "checkBC=True", 
      "if(checkBC):", 
      "    import view ", 
      "    bcs = [DirichletBC(V,Constant(1.),subdomains,chargeMarker)]", 
      "    view.PrintBoundary(mesh,bcs)", 
      "", 
      "", 
      "# get VolFrac", 
      "freeVol= assemble(Constant(1.)*dx(0),mesh=mesh)", 
      "totVol=(np.max(mesh.coordinates())- np.min(mesh.coordinates()))**3", 
      "volFrac = freeVol/totVol", 
      "print \"Vol frac %f :\" % (volFrac)"
     ], 
     "language": "python", 
     "outputs": [
      {
       "output_type": "stream", 
       "stream": "stdout", 
       "text": [
        "Printing boundary 0", 
        "Marked 24250/24250 "
       ]
      }, 
      {
       "output_type": "stream", 
       "stream": "stdout", 
       "text": [
        "", 
        "Printing marked.pvd for viewing", 
        "Vol frac 0.707088 :"
       ]
      }, 
      {
       "output_type": "stream", 
       "stream": "stdout", 
       "text": [
        ""
       ]
      }
     ], 
     "prompt_number": 2
    }, 
    {
     "cell_type": "code", 
     "collapsed": false, 
     "input": [
      "", 
      "", 
      "# Get charge density for non-uniform case", 
      "# see 130903_tnc.tex ns ", 
      "sigma_unif = -0.01 # C/m^2", 
      "totalCharge=  sigma_unif * totSA", 
      "sigma_nonunif  = totalCharge/integratedDensity", 
      "print sigma_nonunif"
     ], 
     "language": "python", 
     "outputs": [
      {
       "output_type": "stream", 
       "stream": "stdout", 
       "text": [
        "-0.301161920235"
       ]
      }
     ], 
     "prompt_number": 3
    }, 
    {
     "cell_type": "code", 
     "collapsed": false, 
     "input": [
      "allBoundary()"
     ], 
     "language": "python", 
     "outputs": [
      {
       "output_type": "pyout", 
       "prompt_number": 4, 
       "text": [
        "<__main__.allBoundary; proxy of <Swig Object of type 'boost::shared_ptr< dolfin::SubDomain > *' at 0x3cd7ed0> >"
       ]
      }
     ], 
     "prompt_number": 4
    }, 
    {
     "cell_type": "code", 
     "collapsed": false, 
     "input": [
      "# quick test", 
      "ionC = 0.15 # M ", 
      "if(0):", 
      "    z,DsNonUnif=cr.runCase(meshFile=meshFile,\\", 
      "                ionC=ionC,sigma=sigma_nonunif,chargeBoundary=innerBoundary)", 
      "if(0): ", 
      "    z,DsUnif=cr.runCase(meshFile=meshFile,\\", 
      "                ionC=ionC,sigma=sigma_unif,chargeBoundary=allBoundary)", 
      "print DsNonUnif", 
      "print DsUnif"
     ], 
     "language": "python", 
     "outputs": [
      {
       "ename": "NameError", 
       "evalue": "name 'DsUnif' is not defined", 
       "output_type": "pyerr", 
       "traceback": [
        "\u001b[0;31m---------------------------------------------------------------------------\u001b[0m\n\u001b[0;31mNameError\u001b[0m                                 Traceback (most recent call last)", 
        "\u001b[0;32m/u2/huskeypm/Sources/smolhomog/example/tnc/<ipython-input-82-3e1f762d39ec>\u001b[0m in \u001b[0;36m<module>\u001b[0;34m()\u001b[0m\n\u001b[1;32m      8\u001b[0m                 ionC=ionC,sigma=sigma_unif,chargeBoundary=allBoundary)\n\u001b[1;32m      9\u001b[0m \u001b[0;32mprint\u001b[0m \u001b[0mDsNonUnif\u001b[0m\u001b[0;34m\u001b[0m\u001b[0m\n\u001b[0;32m---> 10\u001b[0;31m \u001b[0;32mprint\u001b[0m \u001b[0mDsUnif\u001b[0m\u001b[0;34m\u001b[0m\u001b[0m\n\u001b[0m", 
        "\u001b[0;31mNameError\u001b[0m: name 'DsUnif' is not defined"
       ]
      }, 
      {
       "output_type": "stream", 
       "stream": "stdout", 
       "text": [
        "[  8.77247152e-09   7.76995925e-05   7.55945243e-01   8.28437274e+03", 
        "   1.02440114e+08]"
       ]
      }
     ], 
     "prompt_number": 82
    }, 
    {
     "cell_type": "code", 
     "collapsed": false, 
     "input": [
      "#import homoglight as hl", 
      "#results = hl.runHomog(fileXML=meshFile,gamer=1)", 
      "", 
      "#z,Ds=cr.runCase(meshFile=meshFile,\\", 
      "#                ionC=0.15,sigma=-0.01,chargeBoundary=innerBoundary,singleCase=True,\\", 
      "#                meshType=\"gamer\")", 
      "", 
      "ionC = 0.15", 
      "nCs=8", 
      "ionCs = 10**np.linspace(-3,0,nCs)", 
      "nLigs = 5", 
      "allDsUnif = np.zeros((nCs,nLigs))", 
      "allDsNonUnif = np.copy(allDsUnif)", 
      "print ionCs", 
      "for i,ionC in enumerate(ionCs):", 
      "    z,DsNonUnif=cr.runCase(meshFile=meshFile,\\", 
      "                ionC=ionC,sigma=sigma_nonunif,chargeBoundary=innerBoundary)", 
      "    z,DsUnif=cr.runCase(meshFile=meshFile,\\", 
      "                ionC=ionC,sigma=sigma_unif,chargeBoundary=allBoundary)", 
      "", 
      "    # store", 
      "    allDsUnif[i,:] = DsUnif", 
      "    # store", 
      "    allDsNonUnif[i,:] = DsNonUnif"
     ], 
     "language": "python", 
     "outputs": [
      {
       "output_type": "stream", 
       "stream": "stdout", 
       "text": [
        "[ 0.001       0.0026827   0.00719686  0.01930698  0.05179475  0.13894955", 
        "  0.37275937  1.        ]", 
        "-261.756385165"
       ]
      }, 
      {
       "output_type": "stream", 
       "stream": "stdout", 
       "text": [
        "", 
        "Solving linear form of PBE"
       ]
      }, 
      {
       "output_type": "stream", 
       "stream": "stdout", 
       "text": [
        "", 
        "[-19. -22.  21.]"
       ]
      }, 
      {
       "output_type": "stream", 
       "stream": "stdout", 
       "text": [
        "  maps to  (19.0, 22.0, -21.0)", 
        "[-19. -22.  21.]  maps to  (-19.0, 22.0, -21.0)", 
        "[-19.  22. -21.]  maps to  (-19.0, -22.0, 21.0)", 
        "Not loading subdomains, since don't think they're needed", 
        "Loading electrostatic potential from argument", 
        "Using q=-2.000000 for the ligand", 
        "Potential range: 10.726579 - 12.089305 "
       ]
      }, 
      {
       "output_type": "stream", 
       "stream": "stdout", 
       "text": [
        "", 
        "WARNING: Your potential does not seem to cross through 0 (reguirement at outer boundary", 
        "SA: 1.485589e+04 [um^2]"
       ]
      }, 
      {
       "output_type": "stream", 
       "stream": "stdout", 
       "text": [
        "", 
        "Volume: 6.023262e+04 [um^3]", 
        "Total volume (assuming rectangular): 7.022400e+04 [um^3]", 
        "volume fraction (assuming rectangular): 8.577212e-01 [um^3]", 
        "WARNING: assuming D=1."
       ]
      }, 
      {
       "output_type": "stream", 
       "stream": "stdout", 
       "text": [
        "", 
        "Adding in electrostatic component", 
        "pmf REMOVEME 10.726579,12.089305 "
       ]
      }, 
      {
       "output_type": "stream", 
       "stream": "stdout", 
       "text": [
        "", 
        "Intfact: exp(p); 0.000000,0.000000 "
       ]
      }, 
      {
       "output_type": "stream", 
       "stream": "stdout", 
       "text": [
        "", 
        "Using amg preconditioner instead of ilu"
       ]
      }, 
      {
       "output_type": "stream", 
       "stream": "stdout", 
       "text": [
        "", 
        "Writing "
       ]
      }, 
      {
       "output_type": "stream", 
       "stream": "stdout", 
       "text": [
        " ./Molecular_unit.pvd", 
        "omegasO"
       ]
      }, 
      {
       "output_type": "stream", 
       "stream": "stdout", 
       "text": [
        "", 
        "[ 0.00038915  0.00034808  0.00038685]", 
        "omegas", 
        "[ 0.00038915  0.00034808  0.00038685]", 
        "Reweighting by unit cell vol", 
        "d_eff= [0.00,0.00,0.00] for d=1.00", 
        "problem.volUnitCell 70224.0", 
        "[-19. -22.  21.]"
       ]
      }, 
      {
       "output_type": "stream", 
       "stream": "stdout", 
       "text": [
        "  maps to  (19.0, 22.0, -21.0)", 
        "[-19. -22.  21.]  maps to  (-19.0, 22.0, -21.0)", 
        "[-19.  22. -21.]  maps to  (-19.0, -22.0, 21.0)", 
        "Not loading subdomains, since don't think they're needed", 
        "Loading electrostatic potential from argument", 
        "Using q=-1.000000 for the ligand", 
        "Potential range: 5.363289 - 6.044652 "
       ]
      }, 
      {
       "output_type": "stream", 
       "stream": "stdout", 
       "text": [
        "", 
        "WARNING: Your potential does not seem to cross through 0 (reguirement at outer boundary", 
        "SA: 1.485589e+04 [um^2]"
       ]
      }, 
      {
       "output_type": "stream", 
       "stream": "stdout", 
       "text": [
        "", 
        "Volume: 6.023262e+04 [um^3]", 
        "Total volume (assuming rectangular): 7.022400e+04 [um^3]", 
        "volume fraction (assuming rectangular): 8.577212e-01 [um^3]", 
        "WARNING: assuming D=1."
       ]
      }, 
      {
       "output_type": "stream", 
       "stream": "stdout", 
       "text": [
        "", 
        "Adding in electrostatic component", 
        "pmf REMOVEME 5.363289,6.044652 "
       ]
      }, 
      {
       "output_type": "stream", 
       "stream": "stdout", 
       "text": [
        "", 
        "Intfact: exp(p); 0.000037,0.000118 "
       ]
      }, 
      {
       "output_type": "stream", 
       "stream": "stdout", 
       "text": [
        "", 
        "Using amg preconditioner instead of ilu"
       ]
      }, 
      {
       "output_type": "stream", 
       "stream": "stdout", 
       "text": [
        "", 
        "Writing "
       ]
      }, 
      {
       "output_type": "stream", 
       "stream": "stdout", 
       "text": [
        " ./Molecular_unit.pvd", 
        "omegasO"
       ]
      }, 
      {
       "output_type": "stream", 
       "stream": "stdout", 
       "text": [
        "", 
        "[ 4.39909216  4.38522758  4.44511801]", 
        "omegas", 
        "[ 4.39909216  4.38522758  4.44511801]", 
        "Reweighting by unit cell vol", 
        "d_eff= [0.00,0.00,0.00] for d=1.00", 
        "problem.volUnitCell 70224.0", 
        "[-19. -22.  21.]"
       ]
      }, 
      {
       "output_type": "stream", 
       "stream": "stdout", 
       "text": [
        "  maps to  (19.0, 22.0, -21.0)", 
        "[-19. -22.  21.]  maps to  (-19.0, 22.0, -21.0)", 
        "[-19.  22. -21.]  maps to  (-19.0, -22.0, 21.0)", 
        "Not loading subdomains, since don't think they're needed", 
        "Loading electrostatic potential from argument", 
        "Using q=0.000000 for the ligand", 
        "Potential range: -0.000000 - -0.000000 "
       ]
      }, 
      {
       "output_type": "stream", 
       "stream": "stdout", 
       "text": [
        "", 
        "SA: 1.485589e+04 [um^2]"
       ]
      }, 
      {
       "output_type": "stream", 
       "stream": "stdout", 
       "text": [
        "", 
        "Volume: 6.023262e+04 [um^3]", 
        "Total volume (assuming rectangular): 7.022400e+04 [um^3]", 
        "volume fraction (assuming rectangular): 8.577212e-01 [um^3]", 
        "WARNING: assuming D=1."
       ]
      }, 
      {
       "output_type": "stream", 
       "stream": "stdout", 
       "text": [
        "", 
        "Adding in electrostatic component", 
        "pmf REMOVEME -0.000000,-0.000000 "
       ]
      }, 
      {
       "output_type": "stream", 
       "stream": "stdout", 
       "text": [
        "", 
        "Intfact: exp(p); 1.000000,1.000000 "
       ]
      }, 
      {
       "output_type": "stream", 
       "stream": "stdout", 
       "text": [
        "", 
        "Using amg preconditioner instead of ilu"
       ]
      }, 
      {
       "output_type": "stream", 
       "stream": "stdout", 
       "text": [
        "", 
        "Writing "
       ]
      }, 
      {
       "output_type": "stream", 
       "stream": "stdout", 
       "text": [
        " ./Molecular_unit.pvd", 
        "omegasO"
       ]
      }, 
      {
       "output_type": "stream", 
       "stream": "stdout", 
       "text": [
        "", 
        "[ 53085.4987298   54533.17781236  54186.11511853]", 
        "omegas", 
        "[ 53085.4987298   54533.17781236  54186.11511853]", 
        "Reweighting by unit cell vol", 
        "d_eff= [0.76,0.78,0.77] for d=1.00", 
        "problem.volUnitCell 70224.0", 
        "[-19. -22.  21.]"
       ]
      }, 
      {
       "output_type": "stream", 
       "stream": "stdout", 
       "text": [
        "  maps to  (19.0, 22.0, -21.0)", 
        "[-19. -22.  21.]  maps to  (-19.0, 22.0, -21.0)", 
        "[-19.  22. -21.]  maps to  (-19.0, -22.0, 21.0)", 
        "Not loading subdomains, since don't think they're needed", 
        "Loading electrostatic potential from argument", 
        "Using q=1.000000 for the ligand", 
        "Potential range: -6.044652 - -5.363289 "
       ]
      }, 
      {
       "output_type": "stream", 
       "stream": "stdout", 
       "text": [
        "", 
        "WARNING: Your potential does not seem to cross through 0 (reguirement at outer boundary", 
        "SA: 1.485589e+04 [um^2]"
       ]
      }, 
      {
       "output_type": "stream", 
       "stream": "stdout", 
       "text": [
        "", 
        "Volume: 6.023262e+04 [um^3]", 
        "Total volume (assuming rectangular): 7.022400e+04 [um^3]", 
        "volume fraction (assuming rectangular): 8.577212e-01 [um^3]", 
        "WARNING: assuming D=1."
       ]
      }, 
      {
       "output_type": "stream", 
       "stream": "stdout", 
       "text": [
        "", 
        "Adding in electrostatic component", 
        "pmf REMOVEME -6.044652,-5.363289 "
       ]
      }, 
      {
       "output_type": "stream", 
       "stream": "stdout", 
       "text": [
        "", 
        "Intfact: exp(p); 8470.397459,26724.690843 "
       ]
      }, 
      {
       "output_type": "stream", 
       "stream": "stdout", 
       "text": [
        "", 
        "Using amg preconditioner instead of ilu"
       ]
      }, 
      {
       "output_type": "stream", 
       "stream": "stdout", 
       "text": [
        "", 
        "Writing "
       ]
      }, 
      {
       "output_type": "stream", 
       "stream": "stdout", 
       "text": [
        " ./Molecular_unit.pvd", 
        "omegasO"
       ]
      }, 
      {
       "output_type": "stream", 
       "stream": "stdout", 
       "text": [
        "", 
        "[  6.90252778e+08   6.64424690e+08   6.99967965e+08]", 
        "omegas", 
        "[  6.90252778e+08   6.64424690e+08   6.99967965e+08]", 
        "Reweighting by unit cell vol", 
        "d_eff= [9829.30,9461.50,9967.65] for d=1.00", 
        "problem.volUnitCell 70224.0", 
        "[-19. -22.  21.]"
       ]
      }, 
      {
       "output_type": "stream", 
       "stream": "stdout", 
       "text": [
        "  maps to  (19.0, 22.0, -21.0)", 
        "[-19. -22.  21.]  maps to  (-19.0, 22.0, -21.0)", 
        "[-19.  22. -21.]  maps to  (-19.0, -22.0, 21.0)", 
        "Not loading subdomains, since don't think they're needed", 
        "Loading electrostatic potential from argument", 
        "Using q=2.000000 for the ligand", 
        "Potential range: -12.089305 - -10.726579 "
       ]
      }, 
      {
       "output_type": "stream", 
       "stream": "stdout", 
       "text": [
        "", 
        "WARNING: Your potential does not seem to cross through 0 (reguirement at outer boundary", 
        "SA: 1.485589e+04 [um^2]"
       ]
      }, 
      {
       "output_type": "stream", 
       "stream": "stdout", 
       "text": [
        "", 
        "Volume: 6.023262e+04 [um^3]", 
        "Total volume (assuming rectangular): 7.022400e+04 [um^3]", 
        "volume fraction (assuming rectangular): 8.577212e-01 [um^3]", 
        "WARNING: assuming D=1."
       ]
      }, 
      {
       "output_type": "stream", 
       "stream": "stdout", 
       "text": [
        "", 
        "Adding in electrostatic component", 
        "pmf REMOVEME -12.089305,-10.726579 "
       ]
      }, 
      {
       "output_type": "stream", 
       "stream": "stdout", 
       "text": [
        "", 
        "Intfact: exp(p); 71747633.105351,714209100.659035 "
       ]
      }, 
      {
       "output_type": "stream", 
       "stream": "stdout", 
       "text": [
        "", 
        "Using amg preconditioner instead of ilu"
       ]
      }, 
      {
       "output_type": "stream", 
       "stream": "stdout", 
       "text": [
        "", 
        "Writing "
       ]
      }, 
      {
       "output_type": "stream", 
       "stream": "stdout", 
       "text": [
        " ./Molecular_unit.pvd", 
        "omegasO"
       ]
      }, 
      {
       "output_type": "stream", 
       "stream": "stdout", 
       "text": [
        "", 
        "[  9.66186842e+12   7.88382454e+12   9.47479037e+12]", 
        "omegas", 
        "[  9.66186842e+12   7.88382454e+12   9.47479037e+12]", 
        "Reweighting by unit cell vol", 
        "d_eff= [137586415.12,112266811.09,134922396.48] for d=1.00", 
        "problem.volUnitCell 70224.0", 
        "-88.4092531631"
       ]
      }, 
      {
       "output_type": "stream", 
       "stream": "stdout", 
       "text": [
        "", 
        "Solving linear form of PBE"
       ]
      }, 
      {
       "output_type": "stream", 
       "stream": "stdout", 
       "text": [
        "", 
        "[-19. -22.  21.]"
       ]
      }, 
      {
       "output_type": "stream", 
       "stream": "stdout", 
       "text": [
        "  maps to  (19.0, 22.0, -21.0)", 
        "[-19. -22.  21.]  maps to  (-19.0, 22.0, -21.0)", 
        "[-19.  22. -21.]  maps to  (-19.0, -22.0, 21.0)", 
        "Not loading subdomains, since don't think they're needed", 
        "Loading electrostatic potential from argument", 
        "Using q=-2.000000 for the ligand", 
        "Potential range: 4.073433 - 4.083211 "
       ]
      }, 
      {
       "output_type": "stream", 
       "stream": "stdout", 
       "text": [
        "", 
        "WARNING: Your potential does not seem to cross through 0 (reguirement at outer boundary", 
        "SA: 1.485589e+04 [um^2]"
       ]
      }, 
      {
       "output_type": "stream", 
       "stream": "stdout", 
       "text": [
        "", 
        "Volume: 6.023262e+04 [um^3]", 
        "Total volume (assuming rectangular): 7.022400e+04 [um^3]", 
        "volume fraction (assuming rectangular): 8.577212e-01 [um^3]", 
        "WARNING: assuming D=1."
       ]
      }, 
      {
       "output_type": "stream", 
       "stream": "stdout", 
       "text": [
        "", 
        "Adding in electrostatic component", 
        "pmf REMOVEME 4.073433,4.083211 "
       ]
      }, 
      {
       "output_type": "stream", 
       "stream": "stdout", 
       "text": [
        "", 
        "Intfact: exp(p); 0.001022,0.001039 "
       ]
      }, 
      {
       "output_type": "stream", 
       "stream": "stdout", 
       "text": [
        "", 
        "Using amg preconditioner instead of ilu"
       ]
      }, 
      {
       "output_type": "stream", 
       "stream": "stdout", 
       "text": [
        "", 
        "Writing "
       ]
      }, 
      {
       "output_type": "stream", 
       "stream": "stdout", 
       "text": [
        " ./Molecular_unit.pvd", 
        "omegasO"
       ]
      }, 
      {
       "output_type": "stream", 
       "stream": "stdout", 
       "text": [
        "", 
        "[ 54.5276629   56.01141338  55.66031047]", 
        "omegas", 
        "[ 54.5276629   56.01141338  55.66031047]", 
        "Reweighting by unit cell vol", 
        "d_eff= [0.00,0.00,0.00] for d=1.00", 
        "problem.volUnitCell 70224.0", 
        "[-19. -22.  21.]"
       ]
      }, 
      {
       "output_type": "stream", 
       "stream": "stdout", 
       "text": [
        "  maps to  (19.0, 22.0, -21.0)", 
        "[-19. -22.  21.]  maps to  (-19.0, 22.0, -21.0)", 
        "[-19.  22. -21.]  maps to  (-19.0, -22.0, 21.0)", 
        "Not loading subdomains, since don't think they're needed", 
        "Loading electrostatic potential from argument", 
        "Using q=-1.000000 for the ligand", 
        "Potential range: 2.036717 - 2.041605 "
       ]
      }, 
      {
       "output_type": "stream", 
       "stream": "stdout", 
       "text": [
        "", 
        "WARNING: Your potential does not seem to cross through 0 (reguirement at outer boundary", 
        "SA: 1.485589e+04 [um^2]"
       ]
      }, 
      {
       "output_type": "stream", 
       "stream": "stdout", 
       "text": [
        "", 
        "Volume: 6.023262e+04 [um^3]", 
        "Total volume (assuming rectangular): 7.022400e+04 [um^3]", 
        "volume fraction (assuming rectangular): 8.577212e-01 [um^3]", 
        "WARNING: assuming D=1."
       ]
      }, 
      {
       "output_type": "stream", 
       "stream": "stdout", 
       "text": [
        "", 
        "Adding in electrostatic component", 
        "pmf REMOVEME 2.036717,2.041605 "
       ]
      }, 
      {
       "output_type": "stream", 
       "stream": "stdout", 
       "text": [
        "", 
        "Intfact: exp(p); 0.031974,0.032238 "
       ]
      }, 
      {
       "output_type": "stream", 
       "stream": "stdout", 
       "text": [
        "", 
        "Using amg preconditioner instead of ilu"
       ]
      }, 
      {
       "output_type": "stream", 
       "stream": "stdout", 
       "text": [
        "", 
        "Writing "
       ]
      }, 
      {
       "output_type": "stream", 
       "stream": "stdout", 
       "text": [
        " ./Molecular_unit.pvd", 
        "omegasO"
       ]
      }, 
      {
       "output_type": "stream", 
       "stream": "stdout", 
       "text": [
        "", 
        "[ 1701.35717428  1747.70362026  1736.66426405]", 
        "omegas", 
        "[ 1701.35717428  1747.70362026  1736.66426405]", 
        "Reweighting by unit cell vol", 
        "d_eff= [0.02,0.02,0.02] for d=1.00", 
        "problem.volUnitCell 70224.0", 
        "[-19. -22.  21.]"
       ]
      }, 
      {
       "output_type": "stream", 
       "stream": "stdout", 
       "text": [
        "  maps to  (19.0, 22.0, -21.0)", 
        "[-19. -22.  21.]  maps to  (-19.0, 22.0, -21.0)", 
        "[-19.  22. -21.]  maps to  (-19.0, -22.0, 21.0)", 
        "Not loading subdomains, since don't think they're needed", 
        "Loading electrostatic potential from argument", 
        "Using q=0.000000 for the ligand", 
        "Potential range: -0.000000 - -0.000000 "
       ]
      }, 
      {
       "output_type": "stream", 
       "stream": "stdout", 
       "text": [
        "", 
        "SA: 1.485589e+04 [um^2]"
       ]
      }, 
      {
       "output_type": "stream", 
       "stream": "stdout", 
       "text": [
        "", 
        "Volume: 6.023262e+04 [um^3]", 
        "Total volume (assuming rectangular): 7.022400e+04 [um^3]", 
        "volume fraction (assuming rectangular): 8.577212e-01 [um^3]", 
        "WARNING: assuming D=1."
       ]
      }, 
      {
       "output_type": "stream", 
       "stream": "stdout", 
       "text": [
        "", 
        "Adding in electrostatic component", 
        "pmf REMOVEME -0.000000,-0.000000 "
       ]
      }, 
      {
       "output_type": "stream", 
       "stream": "stdout", 
       "text": [
        "", 
        "Intfact: exp(p); 1.000000,1.000000 "
       ]
      }, 
      {
       "output_type": "stream", 
       "stream": "stdout", 
       "text": [
        "", 
        "Using amg preconditioner instead of ilu"
       ]
      }, 
      {
       "output_type": "stream", 
       "stream": "stdout", 
       "text": [
        "", 
        "Writing "
       ]
      }, 
      {
       "output_type": "stream", 
       "stream": "stdout", 
       "text": [
        " ./Molecular_unit.pvd", 
        "omegasO"
       ]
      }, 
      {
       "output_type": "stream", 
       "stream": "stdout", 
       "text": [
        "", 
        "[ 53085.4987298   54533.17781236  54186.11511853]", 
        "omegas", 
        "[ 53085.4987298   54533.17781236  54186.11511853]", 
        "Reweighting by unit cell vol", 
        "d_eff= [0.76,0.78,0.77] for d=1.00", 
        "problem.volUnitCell 70224.0", 
        "[-19. -22.  21.]"
       ]
      }, 
      {
       "output_type": "stream", 
       "stream": "stdout", 
       "text": [
        "  maps to  (19.0, 22.0, -21.0)", 
        "[-19. -22.  21.]  maps to  (-19.0, 22.0, -21.0)", 
        "[-19.  22. -21.]  maps to  (-19.0, -22.0, 21.0)", 
        "Not loading subdomains, since don't think they're needed", 
        "Loading electrostatic potential from argument", 
        "Using q=1.000000 for the ligand", 
        "Potential range: -2.041605 - -2.036717 "
       ]
      }, 
      {
       "output_type": "stream", 
       "stream": "stdout", 
       "text": [
        "", 
        "WARNING: Your potential does not seem to cross through 0 (reguirement at outer boundary", 
        "SA: 1.485589e+04 [um^2]"
       ]
      }, 
      {
       "output_type": "stream", 
       "stream": "stdout", 
       "text": [
        "", 
        "Volume: 6.023262e+04 [um^3]", 
        "Total volume (assuming rectangular): 7.022400e+04 [um^3]", 
        "volume fraction (assuming rectangular): 8.577212e-01 [um^3]", 
        "WARNING: assuming D=1."
       ]
      }, 
      {
       "output_type": "stream", 
       "stream": "stdout", 
       "text": [
        "", 
        "Adding in electrostatic component", 
        "pmf REMOVEME -2.041605,-2.036717 "
       ]
      }, 
      {
       "output_type": "stream", 
       "stream": "stdout", 
       "text": [
        "", 
        "Intfact: exp(p); 31.018942,31.275715 "
       ]
      }, 
      {
       "output_type": "stream", 
       "stream": "stdout", 
       "text": [
        "", 
        "Using amg preconditioner instead of ilu"
       ]
      }, 
      {
       "output_type": "stream", 
       "stream": "stdout", 
       "text": [
        "", 
        "Writing "
       ]
      }, 
      {
       "output_type": "stream", 
       "stream": "stdout", 
       "text": [
        " ./Molecular_unit.pvd", 
        "omegasO"
       ]
      }, 
      {
       "output_type": "stream", 
       "stream": "stdout", 
       "text": [
        "", 
        "[ 1656372.81573297  1701592.62235265  1690682.53098603]", 
        "omegas", 
        "[ 1656372.81573297  1701592.62235265  1690682.53098603]", 
        "Reweighting by unit cell vol", 
        "d_eff= [23.59,24.23,24.08] for d=1.00", 
        "problem.volUnitCell 70224.0", 
        "[-19. -22.  21.]"
       ]
      }, 
      {
       "output_type": "stream", 
       "stream": "stdout", 
       "text": [
        "  maps to  (19.0, 22.0, -21.0)", 
        "[-19. -22.  21.]  maps to  (-19.0, 22.0, -21.0)", 
        "[-19.  22. -21.]  maps to  (-19.0, -22.0, 21.0)", 
        "Not loading subdomains, since don't think they're needed", 
        "Loading electrostatic potential from argument", 
        "Using q=2.000000 for the ligand", 
        "Potential range: -4.083211 - -4.073433 "
       ]
      }, 
      {
       "output_type": "stream", 
       "stream": "stdout", 
       "text": [
        "", 
        "WARNING: Your potential does not seem to cross through 0 (reguirement at outer boundary", 
        "SA: 1.485589e+04 [um^2]"
       ]
      }, 
      {
       "output_type": "stream", 
       "stream": "stdout", 
       "text": [
        "", 
        "Volume: 6.023262e+04 [um^3]", 
        "Total volume (assuming rectangular): 7.022400e+04 [um^3]", 
        "volume fraction (assuming rectangular): 8.577212e-01 [um^3]", 
        "WARNING: assuming D=1."
       ]
      }, 
      {
       "output_type": "stream", 
       "stream": "stdout", 
       "text": [
        "", 
        "Adding in electrostatic component", 
        "pmf REMOVEME -4.083211,-4.073433 "
       ]
      }, 
      {
       "output_type": "stream", 
       "stream": "stdout", 
       "text": [
        "", 
        "Intfact: exp(p); 962.174793,978.170361 "
       ]
      }, 
      {
       "output_type": "stream", 
       "stream": "stdout", 
       "text": [
        "", 
        "Using amg preconditioner instead of ilu"
       ]
      }, 
      {
       "output_type": "stream", 
       "stream": "stdout", 
       "text": [
        "", 
        "Writing "
       ]
      }, 
      {
       "output_type": "stream", 
       "stream": "stdout", 
       "text": [
        " ./Molecular_unit.pvd", 
        "omegasO"
       ]
      }, 
      {
       "output_type": "stream", 
       "stream": "stdout", 
       "text": [
        "", 
        "[ 51682329.11426355  53094818.14743461  52751888.8755413 ]", 
        "omegas", 
        "[ 51682329.11426355  53094818.14743461  52751888.8755413 ]", 
        "Reweighting by unit cell vol", 
        "d_eff= [735.96,756.08,751.19] for d=1.00", 
        "problem.volUnitCell 70224.0", 
        "-236.398317865"
       ]
      }, 
      {
       "output_type": "stream", 
       "stream": "stdout", 
       "text": [
        "", 
        "Solving linear form of PBE"
       ]
      }, 
      {
       "output_type": "stream", 
       "stream": "stdout", 
       "text": [
        "", 
        "[-19. -22.  21.]"
       ]
      }, 
      {
       "output_type": "stream", 
       "stream": "stdout", 
       "text": [
        "  maps to  (19.0, 22.0, -21.0)", 
        "[-19. -22.  21.]  maps to  (-19.0, 22.0, -21.0)", 
        "[-19.  22. -21.]  maps to  (-19.0, -22.0, 21.0)", 
        "Not loading subdomains, since don't think they're needed", 
        "Loading electrostatic potential from argument", 
        "Using q=-2.000000 for the ligand", 
        "Potential range: 8.200325 - 10.918134 "
       ]
      }, 
      {
       "output_type": "stream", 
       "stream": "stdout", 
       "text": [
        "", 
        "WARNING: Your potential does not seem to cross through 0 (reguirement at outer boundary", 
        "SA: 1.485589e+04 [um^2]"
       ]
      }, 
      {
       "output_type": "stream", 
       "stream": "stdout", 
       "text": [
        "", 
        "Volume: 6.023262e+04 [um^3]", 
        "Total volume (assuming rectangular): 7.022400e+04 [um^3]", 
        "volume fraction (assuming rectangular): 8.577212e-01 [um^3]", 
        "WARNING: assuming D=1."
       ]
      }, 
      {
       "output_type": "stream", 
       "stream": "stdout", 
       "text": [
        "", 
        "Adding in electrostatic component", 
        "pmf REMOVEME 8.200325,10.918134 "
       ]
      }, 
      {
       "output_type": "stream", 
       "stream": "stdout", 
       "text": [
        "", 
        "Intfact: exp(p); 0.000000,0.000001 "
       ]
      }, 
      {
       "output_type": "stream", 
       "stream": "stdout", 
       "text": [
        "", 
        "Using amg preconditioner instead of ilu"
       ]
      }, 
      {
       "output_type": "stream", 
       "stream": "stdout", 
       "text": [
        "", 
        "Writing "
       ]
      }, 
      {
       "output_type": "stream", 
       "stream": "stdout", 
       "text": [
        " ./Molecular_unit.pvd", 
        "omegasO"
       ]
      }, 
      {
       "output_type": "stream", 
       "stream": "stdout", 
       "text": [
        "", 
        "[ 0.01432657  0.01205993  0.01387749]", 
        "omegas", 
        "[ 0.01432657  0.01205993  0.01387749]", 
        "Reweighting by unit cell vol", 
        "d_eff= [0.00,0.00,0.00] for d=1.00", 
        "problem.volUnitCell 70224.0", 
        "[-19. -22.  21.]"
       ]
      }, 
      {
       "output_type": "stream", 
       "stream": "stdout", 
       "text": [
        "  maps to  (19.0, 22.0, -21.0)", 
        "[-19. -22.  21.]  maps to  (-19.0, 22.0, -21.0)", 
        "[-19.  22. -21.]  maps to  (-19.0, -22.0, 21.0)", 
        "Not loading subdomains, since don't think they're needed", 
        "Loading electrostatic potential from argument", 
        "Using q=-1.000000 for the ligand", 
        "Potential range: 4.100162 - 5.459067 "
       ]
      }, 
      {
       "output_type": "stream", 
       "stream": "stdout", 
       "text": [
        "", 
        "WARNING: Your potential does not seem to cross through 0 (reguirement at outer boundary", 
        "SA: 1.485589e+04 [um^2]"
       ]
      }, 
      {
       "output_type": "stream", 
       "stream": "stdout", 
       "text": [
        "", 
        "Volume: 6.023262e+04 [um^3]", 
        "Total volume (assuming rectangular): 7.022400e+04 [um^3]", 
        "volume fraction (assuming rectangular): 8.577212e-01 [um^3]", 
        "WARNING: assuming D=1."
       ]
      }, 
      {
       "output_type": "stream", 
       "stream": "stdout", 
       "text": [
        "", 
        "Adding in electrostatic component", 
        "pmf REMOVEME 4.100162,5.459067 "
       ]
      }, 
      {
       "output_type": "stream", 
       "stream": "stdout", 
       "text": [
        "", 
        "Intfact: exp(p); 0.000100,0.000994 "
       ]
      }, 
      {
       "output_type": "stream", 
       "stream": "stdout", 
       "text": [
        "", 
        "Using amg preconditioner instead of ilu"
       ]
      }, 
      {
       "output_type": "stream", 
       "stream": "stdout", 
       "text": [
        "", 
        "Writing "
       ]
      }, 
      {
       "output_type": "stream", 
       "stream": "stdout", 
       "text": [
        " ./Molecular_unit.pvd", 
        "omegasO"
       ]
      }, 
      {
       "output_type": "stream", 
       "stream": "stdout", 
       "text": [
        "", 
        "[ 25.74631597  25.16524091  25.09295257]", 
        "omegas", 
        "[ 25.74631597  25.16524091  25.09295257]", 
        "Reweighting by unit cell vol", 
        "d_eff= [0.00,0.00,0.00] for d=1.00", 
        "problem.volUnitCell 70224.0", 
        "[-19. -22.  21.]"
       ]
      }, 
      {
       "output_type": "stream", 
       "stream": "stdout", 
       "text": [
        "  maps to  (19.0, 22.0, -21.0)", 
        "[-19. -22.  21.]  maps to  (-19.0, 22.0, -21.0)", 
        "[-19.  22. -21.]  maps to  (-19.0, -22.0, 21.0)", 
        "Not loading subdomains, since don't think they're needed", 
        "Loading electrostatic potential from argument", 
        "Using q=0.000000 for the ligand", 
        "Potential range: -0.000000 - -0.000000 "
       ]
      }, 
      {
       "output_type": "stream", 
       "stream": "stdout", 
       "text": [
        "", 
        "SA: 1.485589e+04 [um^2]"
       ]
      }, 
      {
       "output_type": "stream", 
       "stream": "stdout", 
       "text": [
        "", 
        "Volume: 6.023262e+04 [um^3]", 
        "Total volume (assuming rectangular): 7.022400e+04 [um^3]", 
        "volume fraction (assuming rectangular): 8.577212e-01 [um^3]", 
        "WARNING: assuming D=1."
       ]
      }, 
      {
       "output_type": "stream", 
       "stream": "stdout", 
       "text": [
        "", 
        "Adding in electrostatic component", 
        "pmf REMOVEME -0.000000,-0.000000 "
       ]
      }, 
      {
       "output_type": "stream", 
       "stream": "stdout", 
       "text": [
        "", 
        "Intfact: exp(p); 1.000000,1.000000 "
       ]
      }, 
      {
       "output_type": "stream", 
       "stream": "stdout", 
       "text": [
        "", 
        "Using amg preconditioner instead of ilu"
       ]
      }, 
      {
       "output_type": "stream", 
       "stream": "stdout", 
       "text": [
        "", 
        "Writing "
       ]
      }, 
      {
       "output_type": "stream", 
       "stream": "stdout", 
       "text": [
        " ./Molecular_unit.pvd", 
        "omegasO"
       ]
      }, 
      {
       "output_type": "stream", 
       "stream": "stdout", 
       "text": [
        "", 
        "[ 53085.4987298   54533.17781236  54186.11511853]", 
        "omegas", 
        "[ 53085.4987298   54533.17781236  54186.11511853]", 
        "Reweighting by unit cell vol", 
        "d_eff= [0.76,0.78,0.77] for d=1.00", 
        "problem.volUnitCell 70224.0", 
        "[-19. -22.  21.]"
       ]
      }, 
      {
       "output_type": "stream", 
       "stream": "stdout", 
       "text": [
        "  maps to  (19.0, 22.0, -21.0)", 
        "[-19. -22.  21.]  maps to  (-19.0, 22.0, -21.0)", 
        "[-19.  22. -21.]  maps to  (-19.0, -22.0, 21.0)", 
        "Not loading subdomains, since don't think they're needed", 
        "Loading electrostatic potential from argument", 
        "Using q=1.000000 for the ligand", 
        "Potential range: -5.459067 - -4.100162 "
       ]
      }, 
      {
       "output_type": "stream", 
       "stream": "stdout", 
       "text": [
        "", 
        "WARNING: Your potential does not seem to cross through 0 (reguirement at outer boundary", 
        "SA: 1.485589e+04 [um^2]"
       ]
      }, 
      {
       "output_type": "stream", 
       "stream": "stdout", 
       "text": [
        "", 
        "Volume: 6.023262e+04 [um^3]", 
        "Total volume (assuming rectangular): 7.022400e+04 [um^3]", 
        "volume fraction (assuming rectangular): 8.577212e-01 [um^3]", 
        "WARNING: assuming D=1."
       ]
      }, 
      {
       "output_type": "stream", 
       "stream": "stdout", 
       "text": [
        "", 
        "Adding in electrostatic component", 
        "pmf REMOVEME -5.459067,-4.100162 "
       ]
      }, 
      {
       "output_type": "stream", 
       "stream": "stdout", 
       "text": [
        "", 
        "Intfact: exp(p); 1006.536612,9955.164996 "
       ]
      }, 
      {
       "output_type": "stream", 
       "stream": "stdout", 
       "text": [
        "", 
        "Using amg preconditioner instead of ilu"
       ]
      }, 
      {
       "output_type": "stream", 
       "stream": "stdout", 
       "text": [
        "", 
        "Writing "
       ]
      }, 
      {
       "output_type": "stream", 
       "stream": "stdout", 
       "text": [
        " ./Molecular_unit.pvd", 
        "omegasO"
       ]
      }, 
      {
       "output_type": "stream", 
       "stream": "stdout", 
       "text": [
        "", 
        "[  1.34280655e+08   1.23409813e+08   1.35416442e+08]", 
        "omegas", 
        "[  1.34280655e+08   1.23409813e+08   1.35416442e+08]", 
        "Reweighting by unit cell vol", 
        "d_eff= [1912.18,1757.37,1928.35] for d=1.00", 
        "problem.volUnitCell 70224.0", 
        "[-19. -22.  21.]"
       ]
      }, 
      {
       "output_type": "stream", 
       "stream": "stdout", 
       "text": [
        "  maps to  (19.0, 22.0, -21.0)", 
        "[-19. -22.  21.]  maps to  (-19.0, 22.0, -21.0)", 
        "[-19.  22. -21.]  maps to  (-19.0, -22.0, 21.0)", 
        "Not loading subdomains, since don't think they're needed", 
        "Loading electrostatic potential from argument", 
        "Using q=2.000000 for the ligand", 
        "Potential range: -10.918134 - -8.200325 "
       ]
      }, 
      {
       "output_type": "stream", 
       "stream": "stdout", 
       "text": [
        "", 
        "WARNING: Your potential does not seem to cross through 0 (reguirement at outer boundary", 
        "SA: 1.485589e+04 [um^2]"
       ]
      }, 
      {
       "output_type": "stream", 
       "stream": "stdout", 
       "text": [
        "", 
        "Volume: 6.023262e+04 [um^3]", 
        "Total volume (assuming rectangular): 7.022400e+04 [um^3]", 
        "volume fraction (assuming rectangular): 8.577212e-01 [um^3]", 
        "WARNING: assuming D=1."
       ]
      }, 
      {
       "output_type": "stream", 
       "stream": "stdout", 
       "text": [
        "", 
        "Adding in electrostatic component", 
        "pmf REMOVEME -10.918134,-8.200325 "
       ]
      }, 
      {
       "output_type": "stream", 
       "stream": "stdout", 
       "text": [
        "", 
        "Intfact: exp(p); 1013115.952303,99105310.095475 "
       ]
      }, 
      {
       "output_type": "stream", 
       "stream": "stdout", 
       "text": [
        "", 
        "Using amg preconditioner instead of ilu"
       ]
      }, 
      {
       "output_type": "stream", 
       "stream": "stdout", 
       "text": [
        "", 
        "Writing "
       ]
      }, 
      {
       "output_type": "stream", 
       "stream": "stdout", 
       "text": [
        " ./Molecular_unit.pvd", 
        "omegasO"
       ]
      }, 
      {
       "output_type": "stream", 
       "stream": "stdout", 
       "text": [
        "", 
        "[  4.09299381e+11   2.93816916e+11   3.54097685e+11]", 
        "omegas", 
        "[  4.09299381e+11   2.93816916e+11   3.54097685e+11]", 
        "Reweighting by unit cell vol", 
        "d_eff= [5828482.87,4183995.73,5042402.67] for d=1.00", 
        "problem.volUnitCell 70224.0", 
        "-65.5492208438"
       ]
      }, 
      {
       "output_type": "stream", 
       "stream": "stdout", 
       "text": [
        "", 
        "Solving linear form of PBE"
       ]
      }, 
      {
       "output_type": "stream", 
       "stream": "stdout", 
       "text": [
        "", 
        "[-19. -22.  21.]"
       ]
      }, 
      {
       "output_type": "stream", 
       "stream": "stdout", 
       "text": [
        "  maps to  (19.0, 22.0, -21.0)", 
        "[-19. -22.  21.]  maps to  (-19.0, 22.0, -21.0)", 
        "[-19.  22. -21.]  maps to  (-19.0, -22.0, 21.0)", 
        "Not loading subdomains, since don't think they're needed", 
        "Loading electrostatic potential from argument", 
        "Using q=-2.000000 for the ligand", 
        "Potential range: 3.008018 - 3.027412 "
       ]
      }, 
      {
       "output_type": "stream", 
       "stream": "stdout", 
       "text": [
        "", 
        "WARNING: Your potential does not seem to cross through 0 (reguirement at outer boundary", 
        "SA: 1.485589e+04 [um^2]"
       ]
      }, 
      {
       "output_type": "stream", 
       "stream": "stdout", 
       "text": [
        "", 
        "Volume: 6.023262e+04 [um^3]", 
        "Total volume (assuming rectangular): 7.022400e+04 [um^3]", 
        "volume fraction (assuming rectangular): 8.577212e-01 [um^3]", 
        "WARNING: assuming D=1."
       ]
      }, 
      {
       "output_type": "stream", 
       "stream": "stdout", 
       "text": [
        "", 
        "Adding in electrostatic component", 
        "pmf REMOVEME 3.008018,3.027412 "
       ]
      }, 
      {
       "output_type": "stream", 
       "stream": "stdout", 
       "text": [
        "", 
        "Intfact: exp(p); 0.006065,0.006266 "
       ]
      }, 
      {
       "output_type": "stream", 
       "stream": "stdout", 
       "text": [
        "", 
        "Using amg preconditioner instead of ilu"
       ]
      }, 
      {
       "output_type": "stream", 
       "stream": "stdout", 
       "text": [
        "", 
        "Writing "
       ]
      }, 
      {
       "output_type": "stream", 
       "stream": "stdout", 
       "text": [
        " ./Molecular_unit.pvd", 
        "omegasO"
       ]
      }, 
      {
       "output_type": "stream", 
       "stream": "stdout", 
       "text": [
        "", 
        "[ 324.99941116  333.8236997   331.76311456]", 
        "omegas", 
        "[ 324.99941116  333.8236997   331.76311456]", 
        "Reweighting by unit cell vol", 
        "d_eff= [0.00,0.00,0.00] for d=1.00", 
        "problem.volUnitCell 70224.0", 
        "[-19. -22.  21.]"
       ]
      }, 
      {
       "output_type": "stream", 
       "stream": "stdout", 
       "text": [
        "  maps to  (19.0, 22.0, -21.0)", 
        "[-19. -22.  21.]  maps to  (-19.0, 22.0, -21.0)", 
        "[-19.  22. -21.]  maps to  (-19.0, -22.0, 21.0)", 
        "Not loading subdomains, since don't think they're needed", 
        "Loading electrostatic potential from argument", 
        "Using q=-1.000000 for the ligand", 
        "Potential range: 1.504009 - 1.513706 "
       ]
      }, 
      {
       "output_type": "stream", 
       "stream": "stdout", 
       "text": [
        "", 
        "WARNING: Your potential does not seem to cross through 0 (reguirement at outer boundary", 
        "SA: 1.485589e+04 [um^2]"
       ]
      }, 
      {
       "output_type": "stream", 
       "stream": "stdout", 
       "text": [
        "", 
        "Volume: 6.023262e+04 [um^3]", 
        "Total volume (assuming rectangular): 7.022400e+04 [um^3]", 
        "volume fraction (assuming rectangular): 8.577212e-01 [um^3]", 
        "WARNING: assuming D=1."
       ]
      }, 
      {
       "output_type": "stream", 
       "stream": "stdout", 
       "text": [
        "", 
        "Adding in electrostatic component", 
        "pmf REMOVEME 1.504009,1.513706 "
       ]
      }, 
      {
       "output_type": "stream", 
       "stream": "stdout", 
       "text": [
        "", 
        "Intfact: exp(p); 0.077877,0.079161 "
       ]
      }, 
      {
       "output_type": "stream", 
       "stream": "stdout", 
       "text": [
        "", 
        "Using amg preconditioner instead of ilu"
       ]
      }, 
      {
       "output_type": "stream", 
       "stream": "stdout", 
       "text": [
        "", 
        "Writing "
       ]
      }, 
      {
       "output_type": "stream", 
       "stream": "stdout", 
       "text": [
        " ./Molecular_unit.pvd", 
        "omegasO"
       ]
      }, 
      {
       "output_type": "stream", 
       "stream": "stdout", 
       "text": [
        "", 
        "[ 4153.60991709  4266.63519121  4239.88723333]", 
        "omegas", 
        "[ 4153.60991709  4266.63519121  4239.88723333]", 
        "Reweighting by unit cell vol", 
        "d_eff= [0.06,0.06,0.06] for d=1.00", 
        "problem.volUnitCell 70224.0", 
        "[-19. -22.  21.]"
       ]
      }, 
      {
       "output_type": "stream", 
       "stream": "stdout", 
       "text": [
        "  maps to  (19.0, 22.0, -21.0)", 
        "[-19. -22.  21.]  maps to  (-19.0, 22.0, -21.0)", 
        "[-19.  22. -21.]  maps to  (-19.0, -22.0, 21.0)", 
        "Not loading subdomains, since don't think they're needed", 
        "Loading electrostatic potential from argument", 
        "Using q=0.000000 for the ligand", 
        "Potential range: -0.000000 - -0.000000 "
       ]
      }, 
      {
       "output_type": "stream", 
       "stream": "stdout", 
       "text": [
        "", 
        "SA: 1.485589e+04 [um^2]"
       ]
      }, 
      {
       "output_type": "stream", 
       "stream": "stdout", 
       "text": [
        "", 
        "Volume: 6.023262e+04 [um^3]", 
        "Total volume (assuming rectangular): 7.022400e+04 [um^3]", 
        "volume fraction (assuming rectangular): 8.577212e-01 [um^3]", 
        "WARNING: assuming D=1."
       ]
      }, 
      {
       "output_type": "stream", 
       "stream": "stdout", 
       "text": [
        "", 
        "Adding in electrostatic component", 
        "pmf REMOVEME -0.000000,-0.000000 "
       ]
      }, 
      {
       "output_type": "stream", 
       "stream": "stdout", 
       "text": [
        "", 
        "Intfact: exp(p); 1.000000,1.000000 "
       ]
      }, 
      {
       "output_type": "stream", 
       "stream": "stdout", 
       "text": [
        "", 
        "Using amg preconditioner instead of ilu"
       ]
      }, 
      {
       "output_type": "stream", 
       "stream": "stdout", 
       "text": [
        "", 
        "Writing "
       ]
      }, 
      {
       "output_type": "stream", 
       "stream": "stdout", 
       "text": [
        " ./Molecular_unit.pvd", 
        "omegasO"
       ]
      }, 
      {
       "output_type": "stream", 
       "stream": "stdout", 
       "text": [
        "", 
        "[ 53085.4987298   54533.17781236  54186.11511853]", 
        "omegas", 
        "[ 53085.4987298   54533.17781236  54186.11511853]", 
        "Reweighting by unit cell vol", 
        "d_eff= [0.76,0.78,0.77] for d=1.00", 
        "problem.volUnitCell 70224.0", 
        "[-19. -22.  21.]"
       ]
      }, 
      {
       "output_type": "stream", 
       "stream": "stdout", 
       "text": [
        "  maps to  (19.0, 22.0, -21.0)", 
        "[-19. -22.  21.]  maps to  (-19.0, 22.0, -21.0)", 
        "[-19.  22. -21.]  maps to  (-19.0, -22.0, 21.0)", 
        "Not loading subdomains, since don't think they're needed", 
        "Loading electrostatic potential from argument", 
        "Using q=1.000000 for the ligand", 
        "Potential range: -1.513706 - -1.504009 "
       ]
      }, 
      {
       "output_type": "stream", 
       "stream": "stdout", 
       "text": [
        "", 
        "WARNING: Your potential does not seem to cross through 0 (reguirement at outer boundary", 
        "SA: 1.485589e+04 [um^2]"
       ]
      }, 
      {
       "output_type": "stream", 
       "stream": "stdout", 
       "text": [
        "", 
        "Volume: 6.023262e+04 [um^3]", 
        "Total volume (assuming rectangular): 7.022400e+04 [um^3]", 
        "volume fraction (assuming rectangular): 8.577212e-01 [um^3]", 
        "WARNING: assuming D=1."
       ]
      }, 
      {
       "output_type": "stream", 
       "stream": "stdout", 
       "text": [
        "", 
        "Adding in electrostatic component", 
        "pmf REMOVEME -1.513706,-1.504009 "
       ]
      }, 
      {
       "output_type": "stream", 
       "stream": "stdout", 
       "text": [
        "", 
        "Intfact: exp(p); 12.632478,12.840757 "
       ]
      }, 
      {
       "output_type": "stream", 
       "stream": "stdout", 
       "text": [
        "", 
        "Using amg preconditioner instead of ilu"
       ]
      }, 
      {
       "output_type": "stream", 
       "stream": "stdout", 
       "text": [
        "", 
        "Writing "
       ]
      }, 
      {
       "output_type": "stream", 
       "stream": "stdout", 
       "text": [
        " ./Molecular_unit.pvd", 
        "omegasO"
       ]
      }, 
      {
       "output_type": "stream", 
       "stream": "stdout", 
       "text": [
        "", 
        "[ 678473.90226314  697016.49130806  692515.05688018]", 
        "omegas", 
        "[ 678473.90226314  697016.49130806  692515.05688018]", 
        "Reweighting by unit cell vol", 
        "d_eff= [9.66,9.93,9.86] for d=1.00", 
        "problem.volUnitCell 70224.0", 
        "[-19. -22.  21.]"
       ]
      }, 
      {
       "output_type": "stream", 
       "stream": "stdout", 
       "text": [
        "  maps to  (19.0, 22.0, -21.0)", 
        "[-19. -22.  21.]  maps to  (-19.0, 22.0, -21.0)", 
        "[-19.  22. -21.]  maps to  (-19.0, -22.0, 21.0)", 
        "Not loading subdomains, since don't think they're needed", 
        "Loading electrostatic potential from argument", 
        "Using q=2.000000 for the ligand", 
        "Potential range: -3.027412 - -3.008018 "
       ]
      }, 
      {
       "output_type": "stream", 
       "stream": "stdout", 
       "text": [
        "", 
        "WARNING: Your potential does not seem to cross through 0 (reguirement at outer boundary", 
        "SA: 1.485589e+04 [um^2]"
       ]
      }, 
      {
       "output_type": "stream", 
       "stream": "stdout", 
       "text": [
        "", 
        "Volume: 6.023262e+04 [um^3]", 
        "Total volume (assuming rectangular): 7.022400e+04 [um^3]", 
        "volume fraction (assuming rectangular): 8.577212e-01 [um^3]", 
        "WARNING: assuming D=1."
       ]
      }, 
      {
       "output_type": "stream", 
       "stream": "stdout", 
       "text": [
        "", 
        "Adding in electrostatic component", 
        "pmf REMOVEME -3.027412,-3.008018 "
       ]
      }, 
      {
       "output_type": "stream", 
       "stream": "stdout", 
       "text": [
        "", 
        "Intfact: exp(p); 159.579505,164.885047 "
       ]
      }, 
      {
       "output_type": "stream", 
       "stream": "stdout", 
       "text": [
        "", 
        "Using amg preconditioner instead of ilu"
       ]
      }, 
      {
       "output_type": "stream", 
       "stream": "stdout", 
       "text": [
        "", 
        "Writing "
       ]
      }, 
      {
       "output_type": "stream", 
       "stream": "stdout", 
       "text": [
        " ./Molecular_unit.pvd", 
        "omegasO"
       ]
      }, 
      {
       "output_type": "stream", 
       "stream": "stdout", 
       "text": [
        "", 
        "[ 8671564.20496695  8909067.52190505  8850705.96829744]", 
        "omegas", 
        "[ 8671564.20496695  8909067.52190505  8850705.96829744]", 
        "Reweighting by unit cell vol", 
        "d_eff= [123.48,126.87,126.04] for d=1.00", 
        "problem.volUnitCell 70224.0", 
        "-211.045737789"
       ]
      }, 
      {
       "output_type": "stream", 
       "stream": "stdout", 
       "text": [
        "", 
        "Solving linear form of PBE"
       ]
      }, 
      {
       "output_type": "stream", 
       "stream": "stdout", 
       "text": [
        "", 
        "[-19. -22.  21.]"
       ]
      }, 
      {
       "output_type": "stream", 
       "stream": "stdout", 
       "text": [
        "  maps to  (19.0, 22.0, -21.0)", 
        "[-19. -22.  21.]  maps to  (-19.0, 22.0, -21.0)", 
        "[-19.  22. -21.]  maps to  (-19.0, -22.0, 21.0)", 
        "Not loading subdomains, since don't think they're needed", 
        "Loading electrostatic potential from argument", 
        "Using q=-2.000000 for the ligand", 
        "Potential range: 4.228556 - 9.747217 "
       ]
      }, 
      {
       "output_type": "stream", 
       "stream": "stdout", 
       "text": [
        "", 
        "WARNING: Your potential does not seem to cross through 0 (reguirement at outer boundary", 
        "SA: 1.485589e+04 [um^2]"
       ]
      }, 
      {
       "output_type": "stream", 
       "stream": "stdout", 
       "text": [
        "", 
        "Volume: 6.023262e+04 [um^3]", 
        "Total volume (assuming rectangular): 7.022400e+04 [um^3]", 
        "volume fraction (assuming rectangular): 8.577212e-01 [um^3]", 
        "WARNING: assuming D=1."
       ]
      }, 
      {
       "output_type": "stream", 
       "stream": "stdout", 
       "text": [
        "", 
        "Adding in electrostatic component", 
        "pmf REMOVEME 4.228556,9.747217 "
       ]
      }, 
      {
       "output_type": "stream", 
       "stream": "stdout", 
       "text": [
        "", 
        "Intfact: exp(p); 0.000000,0.000800 "
       ]
      }, 
      {
       "output_type": "stream", 
       "stream": "stdout", 
       "text": [
        "", 
        "Using amg preconditioner instead of ilu"
       ]
      }, 
      {
       "output_type": "stream", 
       "stream": "stdout", 
       "text": [
        "", 
        "Writing "
       ]
      }, 
      {
       "output_type": "stream", 
       "stream": "stdout", 
       "text": [
        " ./Molecular_unit.pvd", 
        "omegasO"
       ]
      }, 
      {
       "output_type": "stream", 
       "stream": "stdout", 
       "text": [
        "", 
        "[ 10.15985188   2.47896127   9.22665855]", 
        "omegas", 
        "[ 10.15985188   2.47896127   9.22665855]", 
        "Reweighting by unit cell vol", 
        "d_eff= [0.00,0.00,0.00] for d=1.00", 
        "problem.volUnitCell 70224.0", 
        "[-19. -22.  21.]"
       ]
      }, 
      {
       "output_type": "stream", 
       "stream": "stdout", 
       "text": [
        "  maps to  (19.0, 22.0, -21.0)", 
        "[-19. -22.  21.]  maps to  (-19.0, 22.0, -21.0)", 
        "[-19.  22. -21.]  maps to  (-19.0, -22.0, 21.0)", 
        "Not loading subdomains, since don't think they're needed", 
        "Loading electrostatic potential from argument", 
        "Using q=-1.000000 for the ligand", 
        "Potential range: 2.114278 - 4.873609 "
       ]
      }, 
      {
       "output_type": "stream", 
       "stream": "stdout", 
       "text": [
        "", 
        "WARNING: Your potential does not seem to cross through 0 (reguirement at outer boundary", 
        "SA: 1.485589e+04 [um^2]"
       ]
      }, 
      {
       "output_type": "stream", 
       "stream": "stdout", 
       "text": [
        "", 
        "Volume: 6.023262e+04 [um^3]", 
        "Total volume (assuming rectangular): 7.022400e+04 [um^3]", 
        "volume fraction (assuming rectangular): 8.577212e-01 [um^3]", 
        "WARNING: assuming D=1."
       ]
      }, 
      {
       "output_type": "stream", 
       "stream": "stdout", 
       "text": [
        "", 
        "Adding in electrostatic component", 
        "pmf REMOVEME 2.114278,4.873609 "
       ]
      }, 
      {
       "output_type": "stream", 
       "stream": "stdout", 
       "text": [
        "", 
        "Intfact: exp(p); 0.000270,0.028286 "
       ]
      }, 
      {
       "output_type": "stream", 
       "stream": "stdout", 
       "text": [
        "", 
        "Using amg preconditioner instead of ilu"
       ]
      }, 
      {
       "output_type": "stream", 
       "stream": "stdout", 
       "text": [
        "", 
        "Writing "
       ]
      }, 
      {
       "output_type": "stream", 
       "stream": "stdout", 
       "text": [
        " ./Molecular_unit.pvd", 
        "omegasO"
       ]
      }, 
      {
       "output_type": "stream", 
       "stream": "stdout", 
       "text": [
        "", 
        "[ 594.91485234  372.00484928  555.16154338]", 
        "omegas", 
        "[ 594.91485234  372.00484928  555.16154338]", 
        "Reweighting by unit cell vol", 
        "d_eff= [0.01,0.01,0.01] for d=1.00", 
        "problem.volUnitCell 70224.0", 
        "[-19. -22.  21.]"
       ]
      }, 
      {
       "output_type": "stream", 
       "stream": "stdout", 
       "text": [
        "  maps to  (19.0, 22.0, -21.0)", 
        "[-19. -22.  21.]  maps to  (-19.0, 22.0, -21.0)", 
        "[-19.  22. -21.]  maps to  (-19.0, -22.0, 21.0)", 
        "Not loading subdomains, since don't think they're needed", 
        "Loading electrostatic potential from argument", 
        "Using q=0.000000 for the ligand", 
        "Potential range: -0.000000 - -0.000000 "
       ]
      }, 
      {
       "output_type": "stream", 
       "stream": "stdout", 
       "text": [
        "", 
        "SA: 1.485589e+04 [um^2]"
       ]
      }, 
      {
       "output_type": "stream", 
       "stream": "stdout", 
       "text": [
        "", 
        "Volume: 6.023262e+04 [um^3]", 
        "Total volume (assuming rectangular): 7.022400e+04 [um^3]", 
        "volume fraction (assuming rectangular): 8.577212e-01 [um^3]", 
        "WARNING: assuming D=1."
       ]
      }, 
      {
       "output_type": "stream", 
       "stream": "stdout", 
       "text": [
        "", 
        "Adding in electrostatic component", 
        "pmf REMOVEME -0.000000,-0.000000 "
       ]
      }, 
      {
       "output_type": "stream", 
       "stream": "stdout", 
       "text": [
        "", 
        "Intfact: exp(p); 1.000000,1.000000 "
       ]
      }, 
      {
       "output_type": "stream", 
       "stream": "stdout", 
       "text": [
        "", 
        "Using amg preconditioner instead of ilu"
       ]
      }, 
      {
       "output_type": "stream", 
       "stream": "stdout", 
       "text": [
        "", 
        "Writing "
       ]
      }, 
      {
       "output_type": "stream", 
       "stream": "stdout", 
       "text": [
        " ./Molecular_unit.pvd", 
        "omegasO"
       ]
      }, 
      {
       "output_type": "stream", 
       "stream": "stdout", 
       "text": [
        "", 
        "[ 53085.4987298   54533.17781236  54186.11511853]", 
        "omegas", 
        "[ 53085.4987298   54533.17781236  54186.11511853]", 
        "Reweighting by unit cell vol", 
        "d_eff= [0.76,0.78,0.77] for d=1.00", 
        "problem.volUnitCell 70224.0", 
        "[-19. -22.  21.]"
       ]
      }, 
      {
       "output_type": "stream", 
       "stream": "stdout", 
       "text": [
        "  maps to  (19.0, 22.0, -21.0)", 
        "[-19. -22.  21.]  maps to  (-19.0, 22.0, -21.0)", 
        "[-19.  22. -21.]  maps to  (-19.0, -22.0, 21.0)", 
        "Not loading subdomains, since don't think they're needed", 
        "Loading electrostatic potential from argument", 
        "Using q=1.000000 for the ligand", 
        "Potential range: -4.873609 - -2.114278 "
       ]
      }, 
      {
       "output_type": "stream", 
       "stream": "stdout", 
       "text": [
        "", 
        "WARNING: Your potential does not seem to cross through 0 (reguirement at outer boundary", 
        "SA: 1.485589e+04 [um^2]"
       ]
      }, 
      {
       "output_type": "stream", 
       "stream": "stdout", 
       "text": [
        "", 
        "Volume: 6.023262e+04 [um^3]", 
        "Total volume (assuming rectangular): 7.022400e+04 [um^3]", 
        "volume fraction (assuming rectangular): 8.577212e-01 [um^3]", 
        "WARNING: assuming D=1."
       ]
      }, 
      {
       "output_type": "stream", 
       "stream": "stdout", 
       "text": [
        "", 
        "Adding in electrostatic component", 
        "pmf REMOVEME -4.873609,-2.114278 "
       ]
      }, 
      {
       "output_type": "stream", 
       "stream": "stdout", 
       "text": [
        "", 
        "Intfact: exp(p); 35.353354,3709.172546 "
       ]
      }, 
      {
       "output_type": "stream", 
       "stream": "stdout", 
       "text": [
        "", 
        "Using amg preconditioner instead of ilu"
       ]
      }, 
      {
       "output_type": "stream", 
       "stream": "stdout", 
       "text": [
        "", 
        "Writing "
       ]
      }, 
      {
       "output_type": "stream", 
       "stream": "stdout", 
       "text": [
        " ./Molecular_unit.pvd", 
        "omegasO"
       ]
      }, 
      {
       "output_type": "stream", 
       "stream": "stdout", 
       "text": [
        "", 
        "[ 13273367.08673106   5712690.85352968  11002214.43723596]", 
        "omegas", 
        "[ 13273367.08673106   5712690.85352968  11002214.43723596]", 
        "Reweighting by unit cell vol", 
        "d_eff= [189.01,81.35,156.67] for d=1.00", 
        "problem.volUnitCell 70224.0", 
        "[-19. -22.  21.]"
       ]
      }, 
      {
       "output_type": "stream", 
       "stream": "stdout", 
       "text": [
        "  maps to  (19.0, 22.0, -21.0)", 
        "[-19. -22.  21.]  maps to  (-19.0, 22.0, -21.0)", 
        "[-19.  22. -21.]  maps to  (-19.0, -22.0, 21.0)", 
        "Not loading subdomains, since don't think they're needed", 
        "Loading electrostatic potential from argument", 
        "Using q=2.000000 for the ligand", 
        "Potential range: -9.747217 - -4.228556 "
       ]
      }, 
      {
       "output_type": "stream", 
       "stream": "stdout", 
       "text": [
        "", 
        "WARNING: Your potential does not seem to cross through 0 (reguirement at outer boundary", 
        "SA: 1.485589e+04 [um^2]"
       ]
      }, 
      {
       "output_type": "stream", 
       "stream": "stdout", 
       "text": [
        "", 
        "Volume: 6.023262e+04 [um^3]", 
        "Total volume (assuming rectangular): 7.022400e+04 [um^3]", 
        "volume fraction (assuming rectangular): 8.577212e-01 [um^3]", 
        "WARNING: assuming D=1."
       ]
      }, 
      {
       "output_type": "stream", 
       "stream": "stdout", 
       "text": [
        "", 
        "Adding in electrostatic component", 
        "pmf REMOVEME -9.747217,-4.228556 "
       ]
      }, 
      {
       "output_type": "stream", 
       "stream": "stdout", 
       "text": [
        "", 
        "Intfact: exp(p); 1249.859655,13757960.977349 "
       ]
      }, 
      {
       "output_type": "stream", 
       "stream": "stdout", 
       "text": [
        "", 
        "Using amg preconditioner instead of ilu"
       ]
      }, 
      {
       "output_type": "stream", 
       "stream": "stdout", 
       "text": [
        "", 
        "Writing "
       ]
      }, 
      {
       "output_type": "stream", 
       "stream": "stdout", 
       "text": [
        " ./Molecular_unit.pvd", 
        "omegasO"
       ]
      }, 
      {
       "output_type": "stream", 
       "stream": "stdout", 
       "text": [
        "", 
        "[  5.32172359e+09   4.32530678e+08   2.32912721e+09]", 
        "omegas", 
        "[  5.32172359e+09   4.32530678e+08   2.32912721e+09]", 
        "Reweighting by unit cell vol", 
        "d_eff= [75782.12,6159.30,33167.11] for d=1.00", 
        "problem.volUnitCell 70224.0", 
        "-45.5744845808"
       ]
      }, 
      {
       "output_type": "stream", 
       "stream": "stdout", 
       "text": [
        "", 
        "Solving linear form of PBE"
       ]
      }, 
      {
       "output_type": "stream", 
       "stream": "stdout", 
       "text": [
        "", 
        "[-19. -22.  21.]"
       ]
      }, 
      {
       "output_type": "stream", 
       "stream": "stdout", 
       "text": [
        "  maps to  (19.0, 22.0, -21.0)", 
        "[-19. -22.  21.]  maps to  (-19.0, 22.0, -21.0)", 
        "[-19.  22. -21.]  maps to  (-19.0, -22.0, 21.0)", 
        "Not loading subdomains, since don't think they're needed", 
        "Loading electrostatic potential from argument", 
        "Using q=-2.000000 for the ligand", 
        "Potential range: 2.071789 - 2.104873 "
       ]
      }, 
      {
       "output_type": "stream", 
       "stream": "stdout", 
       "text": [
        "", 
        "WARNING: Your potential does not seem to cross through 0 (reguirement at outer boundary", 
        "SA: 1.485589e+04 [um^2]"
       ]
      }, 
      {
       "output_type": "stream", 
       "stream": "stdout", 
       "text": [
        "", 
        "Volume: 6.023262e+04 [um^3]", 
        "Total volume (assuming rectangular): 7.022400e+04 [um^3]", 
        "volume fraction (assuming rectangular): 8.577212e-01 [um^3]", 
        "WARNING: assuming D=1."
       ]
      }, 
      {
       "output_type": "stream", 
       "stream": "stdout", 
       "text": [
        "", 
        "Adding in electrostatic component", 
        "pmf REMOVEME 2.071789,2.104873 "
       ]
      }, 
      {
       "output_type": "stream", 
       "stream": "stdout", 
       "text": [
        "", 
        "Intfact: exp(p); 0.028738,0.030387 "
       ]
      }, 
      {
       "output_type": "stream", 
       "stream": "stdout", 
       "text": [
        "", 
        "Using amg preconditioner instead of ilu"
       ]
      }, 
      {
       "output_type": "stream", 
       "stream": "stdout", 
       "text": [
        "", 
        "Writing "
       ]
      }, 
      {
       "output_type": "stream", 
       "stream": "stdout", 
       "text": [
        " ./Molecular_unit.pvd", 
        "omegasO"
       ]
      }, 
      {
       "output_type": "stream", 
       "stream": "stdout", 
       "text": [
        "", 
        "[ 1551.02200665  1592.90943278  1583.23375187]", 
        "omegas", 
        "[ 1551.02200665  1592.90943278  1583.23375187]", 
        "Reweighting by unit cell vol", 
        "d_eff= [0.02,0.02,0.02] for d=1.00", 
        "problem.volUnitCell 70224.0", 
        "[-19. -22.  21.]"
       ]
      }, 
      {
       "output_type": "stream", 
       "stream": "stdout", 
       "text": [
        "  maps to  (19.0, 22.0, -21.0)", 
        "[-19. -22.  21.]  maps to  (-19.0, 22.0, -21.0)", 
        "[-19.  22. -21.]  maps to  (-19.0, -22.0, 21.0)", 
        "Not loading subdomains, since don't think they're needed", 
        "Loading electrostatic potential from argument", 
        "Using q=-1.000000 for the ligand", 
        "Potential range: 1.035894 - 1.052436 "
       ]
      }, 
      {
       "output_type": "stream", 
       "stream": "stdout", 
       "text": [
        "", 
        "WARNING: Your potential does not seem to cross through 0 (reguirement at outer boundary", 
        "SA: 1.485589e+04 [um^2]"
       ]
      }, 
      {
       "output_type": "stream", 
       "stream": "stdout", 
       "text": [
        "", 
        "Volume: 6.023262e+04 [um^3]"
       ]
      }, 
      {
       "output_type": "stream", 
       "stream": "stdout", 
       "text": [
        "", 
        "Total volume (assuming rectangular): 7.022400e+04 [um^3]", 
        "volume fraction (assuming rectangular): 8.577212e-01 [um^3]", 
        "WARNING: assuming D=1."
       ]
      }, 
      {
       "output_type": "stream", 
       "stream": "stdout", 
       "text": [
        "", 
        "Adding in electrostatic component", 
        "pmf REMOVEME 1.035894,1.052436 "
       ]
      }, 
      {
       "output_type": "stream", 
       "stream": "stdout", 
       "text": [
        "", 
        "Intfact: exp(p); 0.169523,0.174319 "
       ]
      }, 
      {
       "output_type": "stream", 
       "stream": "stdout", 
       "text": [
        "", 
        "Using amg preconditioner instead of ilu"
       ]
      }, 
      {
       "output_type": "stream", 
       "stream": "stdout", 
       "text": [
        "", 
        "Writing "
       ]
      }, 
      {
       "output_type": "stream", 
       "stream": "stdout", 
       "text": [
        " ./Molecular_unit.pvd", 
        "omegasO"
       ]
      }, 
      {
       "output_type": "stream", 
       "stream": "stdout", 
       "text": [
        "", 
        "[ 9073.72782144  9319.97925602  9261.99684256]", 
        "omegas", 
        "[ 9073.72782144  9319.97925602  9261.99684256]", 
        "Reweighting by unit cell vol", 
        "d_eff= [0.13,0.13,0.13] for d=1.00", 
        "problem.volUnitCell 70224.0", 
        "[-19. -22.  21.]"
       ]
      }, 
      {
       "output_type": "stream", 
       "stream": "stdout", 
       "text": [
        "  maps to  (19.0, 22.0, -21.0)", 
        "[-19. -22.  21.]  maps to  (-19.0, 22.0, -21.0)", 
        "[-19.  22. -21.]  maps to  (-19.0, -22.0, 21.0)", 
        "Not loading subdomains, since don't think they're needed", 
        "Loading electrostatic potential from argument", 
        "Using q=0.000000 for the ligand", 
        "Potential range: -0.000000 - -0.000000 "
       ]
      }, 
      {
       "output_type": "stream", 
       "stream": "stdout", 
       "text": [
        "", 
        "SA: 1.485589e+04 [um^2]"
       ]
      }, 
      {
       "output_type": "stream", 
       "stream": "stdout", 
       "text": [
        "", 
        "Volume: 6.023262e+04 [um^3]", 
        "Total volume (assuming rectangular): 7.022400e+04 [um^3]", 
        "volume fraction (assuming rectangular): 8.577212e-01 [um^3]", 
        "WARNING: assuming D=1."
       ]
      }, 
      {
       "output_type": "stream", 
       "stream": "stdout", 
       "text": [
        "", 
        "Adding in electrostatic component", 
        "pmf REMOVEME -0.000000,-0.000000 "
       ]
      }, 
      {
       "output_type": "stream", 
       "stream": "stdout", 
       "text": [
        "", 
        "Intfact: exp(p); 1.000000,1.000000 "
       ]
      }, 
      {
       "output_type": "stream", 
       "stream": "stdout", 
       "text": [
        "", 
        "Using amg preconditioner instead of ilu"
       ]
      }, 
      {
       "output_type": "stream", 
       "stream": "stdout", 
       "text": [
        "", 
        "Writing "
       ]
      }, 
      {
       "output_type": "stream", 
       "stream": "stdout", 
       "text": [
        " ./Molecular_unit.pvd", 
        "omegasO"
       ]
      }, 
      {
       "output_type": "stream", 
       "stream": "stdout", 
       "text": [
        "", 
        "[ 53085.4987298   54533.17781236  54186.11511853]", 
        "omegas", 
        "[ 53085.4987298   54533.17781236  54186.11511853]", 
        "Reweighting by unit cell vol", 
        "d_eff= [0.76,0.78,0.77] for d=1.00", 
        "problem.volUnitCell 70224.0", 
        "[-19. -22.  21.]"
       ]
      }, 
      {
       "output_type": "stream", 
       "stream": "stdout", 
       "text": [
        "  maps to  (19.0, 22.0, -21.0)", 
        "[-19. -22.  21.]  maps to  (-19.0, 22.0, -21.0)", 
        "[-19.  22. -21.]  maps to  (-19.0, -22.0, 21.0)", 
        "Not loading subdomains, since don't think they're needed", 
        "Loading electrostatic potential from argument", 
        "Using q=1.000000 for the ligand", 
        "Potential range: -1.052436 - -1.035894 "
       ]
      }, 
      {
       "output_type": "stream", 
       "stream": "stdout", 
       "text": [
        "", 
        "WARNING: Your potential does not seem to cross through 0 (reguirement at outer boundary", 
        "SA: 1.485589e+04 [um^2]"
       ]
      }, 
      {
       "output_type": "stream", 
       "stream": "stdout", 
       "text": [
        "", 
        "Volume: 6.023262e+04 [um^3]", 
        "Total volume (assuming rectangular): 7.022400e+04 [um^3]", 
        "volume fraction (assuming rectangular): 8.577212e-01 [um^3]", 
        "WARNING: assuming D=1."
       ]
      }, 
      {
       "output_type": "stream", 
       "stream": "stdout", 
       "text": [
        "", 
        "Adding in electrostatic component", 
        "pmf REMOVEME -1.052436,-1.035894 "
       ]
      }, 
      {
       "output_type": "stream", 
       "stream": "stdout", 
       "text": [
        "", 
        "Intfact: exp(p); 5.736624,5.898901 "
       ]
      }, 
      {
       "output_type": "stream", 
       "stream": "stdout", 
       "text": [
        "", 
        "Using amg preconditioner instead of ilu"
       ]
      }, 
      {
       "output_type": "stream", 
       "stream": "stdout", 
       "text": [
        "", 
        "Writing "
       ]
      }, 
      {
       "output_type": "stream", 
       "stream": "stdout", 
       "text": [
        " ./Molecular_unit.pvd", 
        "omegasO"
       ]
      }, 
      {
       "output_type": "stream", 
       "stream": "stdout", 
       "text": [
        "", 
        "[ 310590.65967134  319101.35852311  317026.19251905]", 
        "omegas", 
        "[ 310590.65967134  319101.35852311  317026.19251905]", 
        "Reweighting by unit cell vol", 
        "d_eff= [4.42,4.54,4.51] for d=1.00", 
        "problem.volUnitCell 70224.0", 
        "[-19. -22.  21.]"
       ]
      }, 
      {
       "output_type": "stream", 
       "stream": "stdout", 
       "text": [
        "  maps to  (19.0, 22.0, -21.0)", 
        "[-19. -22.  21.]  maps to  (-19.0, 22.0, -21.0)", 
        "[-19.  22. -21.]  maps to  (-19.0, -22.0, 21.0)", 
        "Not loading subdomains, since don't think they're needed", 
        "Loading electrostatic potential from argument", 
        "Using q=2.000000 for the ligand", 
        "Potential range: -2.104873 - -2.071789 "
       ]
      }, 
      {
       "output_type": "stream", 
       "stream": "stdout", 
       "text": [
        "", 
        "WARNING: Your potential does not seem to cross through 0 (reguirement at outer boundary", 
        "SA: 1.485589e+04 [um^2]"
       ]
      }, 
      {
       "output_type": "stream", 
       "stream": "stdout", 
       "text": [
        "", 
        "Volume: 6.023262e+04 [um^3]", 
        "Total volume (assuming rectangular): 7.022400e+04 [um^3]", 
        "volume fraction (assuming rectangular): 8.577212e-01 [um^3]", 
        "WARNING: assuming D=1."
       ]
      }, 
      {
       "output_type": "stream", 
       "stream": "stdout", 
       "text": [
        "", 
        "Adding in electrostatic component", 
        "pmf REMOVEME -2.104873,-2.071789 "
       ]
      }, 
      {
       "output_type": "stream", 
       "stream": "stdout", 
       "text": [
        "", 
        "Intfact: exp(p); 32.908854,34.797036 "
       ]
      }, 
      {
       "output_type": "stream", 
       "stream": "stdout", 
       "text": [
        "", 
        "Using amg preconditioner instead of ilu"
       ]
      }, 
      {
       "output_type": "stream", 
       "stream": "stdout", 
       "text": [
        "", 
        "Writing "
       ]
      }, 
      {
       "output_type": "stream", 
       "stream": "stdout", 
       "text": [
        " ./Molecular_unit.pvd", 
        "omegasO"
       ]
      }, 
      {
       "output_type": "stream", 
       "stream": "stdout", 
       "text": [
        "", 
        "[ 1817285.63180757  1867318.80878168  1854923.33086927]", 
        "omegas", 
        "[ 1817285.63180757  1867318.80878168  1854923.33086927]", 
        "Reweighting by unit cell vol", 
        "d_eff= [25.88,26.59,26.41] for d=1.00", 
        "problem.volUnitCell 70224.0", 
        "-185.707859289"
       ]
      }, 
      {
       "output_type": "stream", 
       "stream": "stdout", 
       "text": [
        "", 
        "Solving linear form of PBE"
       ]
      }, 
      {
       "output_type": "stream", 
       "stream": "stdout", 
       "text": [
        "", 
        "[-19. -22.  21.]"
       ]
      }, 
      {
       "output_type": "stream", 
       "stream": "stdout", 
       "text": [
        "  maps to  (19.0, 22.0, -21.0)", 
        "[-19. -22.  21.]  maps to  (-19.0, 22.0, -21.0)", 
        "[-19.  22. -21.]  maps to  (-19.0, -22.0, 21.0)", 
        "Not loading subdomains, since don't think they're needed", 
        "Loading electrostatic potential from argument", 
        "Using q=-2.000000 for the ligand", 
        "Potential range: 1.433322 - 8.576979 "
       ]
      }, 
      {
       "output_type": "stream", 
       "stream": "stdout", 
       "text": [
        "", 
        "WARNING: Your potential does not seem to cross through 0 (reguirement at outer boundary", 
        "SA: 1.485589e+04 [um^2]"
       ]
      }, 
      {
       "output_type": "stream", 
       "stream": "stdout", 
       "text": [
        "", 
        "Volume: 6.023262e+04 [um^3]", 
        "Total volume (assuming rectangular): 7.022400e+04 [um^3]", 
        "volume fraction (assuming rectangular): 8.577212e-01 [um^3]", 
        "WARNING: assuming D=1."
       ]
      }, 
      {
       "output_type": "stream", 
       "stream": "stdout", 
       "text": [
        "", 
        "Adding in electrostatic component", 
        "pmf REMOVEME 1.433322,8.576979 "
       ]
      }, 
      {
       "output_type": "stream", 
       "stream": "stdout", 
       "text": [
        "", 
        "Intfact: exp(p); 0.000001,0.089183 "
       ]
      }, 
      {
       "output_type": "stream", 
       "stream": "stdout", 
       "text": [
        "", 
        "Using amg preconditioner instead of ilu"
       ]
      }, 
      {
       "output_type": "stream", 
       "stream": "stdout", 
       "text": [
        "", 
        "Writing "
       ]
      }, 
      {
       "output_type": "stream", 
       "stream": "stdout", 
       "text": [
        " ./Molecular_unit.pvd", 
        "omegasO"
       ]
      }, 
      {
       "output_type": "stream", 
       "stream": "stdout", 
       "text": [
        "", 
        "[ 1231.7911303    225.98131589  1126.17109748]", 
        "omegas", 
        "[ 1231.7911303    225.98131589  1126.17109748]", 
        "Reweighting by unit cell vol", 
        "d_eff= [0.02,0.00,0.02] for d=1.00", 
        "problem.volUnitCell 70224.0", 
        "[-19. -22.  21.]"
       ]
      }, 
      {
       "output_type": "stream", 
       "stream": "stdout", 
       "text": [
        "  maps to  (19.0, 22.0, -21.0)", 
        "[-19. -22.  21.]  maps to  (-19.0, 22.0, -21.0)", 
        "[-19.  22. -21.]  maps to  (-19.0, -22.0, 21.0)", 
        "Not loading subdomains, since don't think they're needed", 
        "Loading electrostatic potential from argument", 
        "Using q=-1.000000 for the ligand", 
        "Potential range: 0.716661 - 4.288489 "
       ]
      }, 
      {
       "output_type": "stream", 
       "stream": "stdout", 
       "text": [
        "", 
        "WARNING: Your potential does not seem to cross through 0 (reguirement at outer boundary", 
        "SA: 1.485589e+04 [um^2]"
       ]
      }, 
      {
       "output_type": "stream", 
       "stream": "stdout", 
       "text": [
        "", 
        "Volume: 6.023262e+04 [um^3]", 
        "Total volume (assuming rectangular): 7.022400e+04 [um^3]", 
        "volume fraction (assuming rectangular): 8.577212e-01 [um^3]", 
        "WARNING: assuming D=1."
       ]
      }, 
      {
       "output_type": "stream", 
       "stream": "stdout", 
       "text": [
        "", 
        "Adding in electrostatic component", 
        "pmf REMOVEME 0.716661,4.288489 "
       ]
      }, 
      {
       "output_type": "stream", 
       "stream": "stdout", 
       "text": [
        "", 
        "Intfact: exp(p); 0.000723,0.298635 "
       ]
      }, 
      {
       "output_type": "stream", 
       "stream": "stdout", 
       "text": [
        "", 
        "Using amg preconditioner instead of ilu"
       ]
      }, 
      {
       "output_type": "stream", 
       "stream": "stdout", 
       "text": [
        "", 
        "Writing "
       ]
      }, 
      {
       "output_type": "stream", 
       "stream": "stdout", 
       "text": [
        " ./Molecular_unit.pvd", 
        "omegasO"
       ]
      }, 
      {
       "output_type": "stream", 
       "stream": "stdout", 
       "text": [
        "", 
        "[ 6375.64431527  3434.22132537  5927.50436035]", 
        "omegas", 
        "[ 6375.64431527  3434.22132537  5927.50436035]", 
        "Reweighting by unit cell vol", 
        "d_eff= [0.09,0.05,0.08] for d=1.00", 
        "problem.volUnitCell 70224.0", 
        "[-19. -22.  21.]"
       ]
      }, 
      {
       "output_type": "stream", 
       "stream": "stdout", 
       "text": [
        "  maps to  (19.0, 22.0, -21.0)", 
        "[-19. -22.  21.]  maps to  (-19.0, 22.0, -21.0)", 
        "[-19.  22. -21.]  maps to  (-19.0, -22.0, 21.0)", 
        "Not loading subdomains, since don't think they're needed", 
        "Loading electrostatic potential from argument", 
        "Using q=0.000000 for the ligand", 
        "Potential range: -0.000000 - -0.000000 "
       ]
      }, 
      {
       "output_type": "stream", 
       "stream": "stdout", 
       "text": [
        "", 
        "SA: 1.485589e+04 [um^2]"
       ]
      }, 
      {
       "output_type": "stream", 
       "stream": "stdout", 
       "text": [
        "", 
        "Volume: 6.023262e+04 [um^3]", 
        "Total volume (assuming rectangular): 7.022400e+04 [um^3]", 
        "volume fraction (assuming rectangular): 8.577212e-01 [um^3]", 
        "WARNING: assuming D=1."
       ]
      }, 
      {
       "output_type": "stream", 
       "stream": "stdout", 
       "text": [
        "", 
        "Adding in electrostatic component", 
        "pmf REMOVEME -0.000000,-0.000000 "
       ]
      }, 
      {
       "output_type": "stream", 
       "stream": "stdout", 
       "text": [
        "", 
        "Intfact: exp(p); 1.000000,1.000000 "
       ]
      }, 
      {
       "output_type": "stream", 
       "stream": "stdout", 
       "text": [
        "", 
        "Using amg preconditioner instead of ilu"
       ]
      }, 
      {
       "output_type": "stream", 
       "stream": "stdout", 
       "text": [
        "", 
        "Writing "
       ]
      }, 
      {
       "output_type": "stream", 
       "stream": "stdout", 
       "text": [
        " ./Molecular_unit.pvd", 
        "omegasO"
       ]
      }, 
      {
       "output_type": "stream", 
       "stream": "stdout", 
       "text": [
        "", 
        "[ 53085.4987298   54533.17781236  54186.11511853]", 
        "omegas", 
        "[ 53085.4987298   54533.17781236  54186.11511853]", 
        "Reweighting by unit cell vol", 
        "d_eff= [0.76,0.78,0.77] for d=1.00", 
        "problem.volUnitCell 70224.0", 
        "[-19. -22.  21.]"
       ]
      }, 
      {
       "output_type": "stream", 
       "stream": "stdout", 
       "text": [
        "  maps to  (19.0, 22.0, -21.0)", 
        "[-19. -22.  21.]  maps to  (-19.0, 22.0, -21.0)", 
        "[-19.  22. -21.]  maps to  (-19.0, -22.0, 21.0)", 
        "Not loading subdomains, since don't think they're needed", 
        "Loading electrostatic potential from argument", 
        "Using q=1.000000 for the ligand", 
        "Potential range: -4.288489 - -0.716661 "
       ]
      }, 
      {
       "output_type": "stream", 
       "stream": "stdout", 
       "text": [
        "", 
        "WARNING: Your potential does not seem to cross through 0 (reguirement at outer boundary", 
        "SA: 1.485589e+04 [um^2]"
       ]
      }, 
      {
       "output_type": "stream", 
       "stream": "stdout", 
       "text": [
        "", 
        "Volume: 6.023262e+04 [um^3]", 
        "Total volume (assuming rectangular): 7.022400e+04 [um^3]", 
        "volume fraction (assuming rectangular): 8.577212e-01 [um^3]", 
        "WARNING: assuming D=1."
       ]
      }, 
      {
       "output_type": "stream", 
       "stream": "stdout", 
       "text": [
        "", 
        "Adding in electrostatic component", 
        "pmf REMOVEME -4.288489,-0.716661 "
       ]
      }, 
      {
       "output_type": "stream", 
       "stream": "stdout", 
       "text": [
        "", 
        "Intfact: exp(p); 3.348574,1382.783692 "
       ]
      }, 
      {
       "output_type": "stream", 
       "stream": "stdout", 
       "text": [
        "", 
        "Using amg preconditioner instead of ilu"
       ]
      }, 
      {
       "output_type": "stream", 
       "stream": "stdout", 
       "text": [
        "", 
        "Writing "
       ]
      }, 
      {
       "output_type": "stream", 
       "stream": "stdout", 
       "text": [
        " ./Molecular_unit.pvd", 
        "omegasO"
       ]
      }, 
      {
       "output_type": "stream", 
       "stream": "stdout", 
       "text": [
        "", 
        "[ 1857491.69335709   533249.20991457  1319514.11930223]", 
        "omegas", 
        "[ 1857491.69335709   533249.20991457  1319514.11930223]", 
        "Reweighting by unit cell vol", 
        "d_eff= [26.45,7.59,18.79] for d=1.00", 
        "problem.volUnitCell 70224.0", 
        "[-19. -22.  21.]"
       ]
      }, 
      {
       "output_type": "stream", 
       "stream": "stdout", 
       "text": [
        "  maps to  (19.0, 22.0, -21.0)", 
        "[-19. -22.  21.]  maps to  (-19.0, 22.0, -21.0)", 
        "[-19.  22. -21.]  maps to  (-19.0, -22.0, 21.0)", 
        "Not loading subdomains, since don't think they're needed", 
        "Loading electrostatic potential from argument", 
        "Using q=2.000000 for the ligand", 
        "Potential range: -8.576979 - -1.433322 "
       ]
      }, 
      {
       "output_type": "stream", 
       "stream": "stdout", 
       "text": [
        "", 
        "WARNING: Your potential does not seem to cross through 0 (reguirement at outer boundary", 
        "SA: 1.485589e+04 [um^2]"
       ]
      }, 
      {
       "output_type": "stream", 
       "stream": "stdout", 
       "text": [
        "", 
        "Volume: 6.023262e+04 [um^3]", 
        "Total volume (assuming rectangular): 7.022400e+04 [um^3]", 
        "volume fraction (assuming rectangular): 8.577212e-01 [um^3]", 
        "WARNING: assuming D=1."
       ]
      }, 
      {
       "output_type": "stream", 
       "stream": "stdout", 
       "text": [
        "", 
        "Adding in electrostatic component", 
        "pmf REMOVEME -8.576979,-1.433322 "
       ]
      }, 
      {
       "output_type": "stream", 
       "stream": "stdout", 
       "text": [
        "", 
        "Intfact: exp(p); 11.212950,1912090.738479 "
       ]
      }, 
      {
       "output_type": "stream", 
       "stream": "stdout", 
       "text": [
        "", 
        "Using amg preconditioner instead of ilu"
       ]
      }, 
      {
       "output_type": "stream", 
       "stream": "stdout", 
       "text": [
        "", 
        "Writing "
       ]
      }, 
      {
       "output_type": "stream", 
       "stream": "stdout", 
       "text": [
        " ./Molecular_unit.pvd", 
        "omegasO"
       ]
      }, 
      {
       "output_type": "stream", 
       "stream": "stdout", 
       "text": [
        "", 
        "[ 93228913.5384929    3379244.16138074  28340262.44196449]", 
        "omegas", 
        "[ 93228913.5384929    3379244.16138074  28340262.44196449]", 
        "Reweighting by unit cell vol", 
        "d_eff= [1327.59,48.12,403.57] for d=1.00", 
        "problem.volUnitCell 70224.0", 
        "-29.9016125944"
       ]
      }, 
      {
       "output_type": "stream", 
       "stream": "stdout", 
       "text": [
        "", 
        "Solving linear form of PBE"
       ]
      }, 
      {
       "output_type": "stream", 
       "stream": "stdout", 
       "text": [
        "", 
        "[-19. -22.  21.]"
       ]
      }, 
      {
       "output_type": "stream", 
       "stream": "stdout", 
       "text": [
        "  maps to  (19.0, 22.0, -21.0)", 
        "[-19. -22.  21.]  maps to  (-19.0, 22.0, -21.0)", 
        "[-19.  22. -21.]  maps to  (-19.0, -22.0, 21.0)", 
        "Not loading subdomains, since don't think they're needed", 
        "Loading electrostatic potential from argument", 
        "Using q=-2.000000 for the ligand", 
        "Potential range: 1.319030 - 1.381016 "
       ]
      }, 
      {
       "output_type": "stream", 
       "stream": "stdout", 
       "text": [
        "", 
        "WARNING: Your potential does not seem to cross through 0 (reguirement at outer boundary", 
        "SA: 1.485589e+04 [um^2]"
       ]
      }, 
      {
       "output_type": "stream", 
       "stream": "stdout", 
       "text": [
        "", 
        "Volume: 6.023262e+04 [um^3]", 
        "Total volume (assuming rectangular): 7.022400e+04 [um^3]", 
        "volume fraction (assuming rectangular): 8.577212e-01 [um^3]", 
        "WARNING: assuming D=1."
       ]
      }, 
      {
       "output_type": "stream", 
       "stream": "stdout", 
       "text": [
        "", 
        "Adding in electrostatic component", 
        "pmf REMOVEME 1.319030,1.381016 "
       ]
      }, 
      {
       "output_type": "stream", 
       "stream": "stdout", 
       "text": [
        "", 
        "Intfact: exp(p); 0.097406,0.108139 "
       ]
      }, 
      {
       "output_type": "stream", 
       "stream": "stdout", 
       "text": [
        "", 
        "Using amg preconditioner instead of ilu"
       ]
      }, 
      {
       "output_type": "stream", 
       "stream": "stdout", 
       "text": [
        "", 
        "Writing "
       ]
      }, 
      {
       "output_type": "stream", 
       "stream": "stdout", 
       "text": [
        " ./Molecular_unit.pvd", 
        "omegasO"
       ]
      }, 
      {
       "output_type": "stream", 
       "stream": "stdout", 
       "text": [
        "", 
        "[ 5331.44857961  5474.74801408  5443.39576061]", 
        "omegas", 
        "[ 5331.44857961  5474.74801408  5443.39576061]", 
        "Reweighting by unit cell vol", 
        "d_eff= [0.08,0.08,0.08] for d=1.00", 
        "problem.volUnitCell 70224.0", 
        "[-19. -22.  21.]"
       ]
      }, 
      {
       "output_type": "stream", 
       "stream": "stdout", 
       "text": [
        "  maps to  (19.0, 22.0, -21.0)", 
        "[-19. -22.  21.]  maps to  (-19.0, 22.0, -21.0)", 
        "[-19.  22. -21.]  maps to  (-19.0, -22.0, 21.0)", 
        "Not loading subdomains, since don't think they're needed", 
        "Loading electrostatic potential from argument", 
        "Using q=-1.000000 for the ligand", 
        "Potential range: 0.659515 - 0.690508 "
       ]
      }, 
      {
       "output_type": "stream", 
       "stream": "stdout", 
       "text": [
        "", 
        "WARNING: Your potential does not seem to cross through 0 (reguirement at outer boundary", 
        "SA: 1.485589e+04 [um^2]"
       ]
      }, 
      {
       "output_type": "stream", 
       "stream": "stdout", 
       "text": [
        "", 
        "Volume: 6.023262e+04 [um^3]", 
        "Total volume (assuming rectangular): 7.022400e+04 [um^3]", 
        "volume fraction (assuming rectangular): 8.577212e-01 [um^3]", 
        "WARNING: assuming D=1."
       ]
      }, 
      {
       "output_type": "stream", 
       "stream": "stdout", 
       "text": [
        "", 
        "Adding in electrostatic component", 
        "pmf REMOVEME 0.659515,0.690508 "
       ]
      }, 
      {
       "output_type": "stream", 
       "stream": "stdout", 
       "text": [
        "", 
        "Intfact: exp(p); 0.312100,0.328846 "
       ]
      }, 
      {
       "output_type": "stream", 
       "stream": "stdout", 
       "text": [
        "", 
        "Using amg preconditioner instead of ilu"
       ]
      }, 
      {
       "output_type": "stream", 
       "stream": "stdout", 
       "text": [
        "", 
        "Writing "
       ]
      }, 
      {
       "output_type": "stream", 
       "stream": "stdout", 
       "text": [
        " ./Molecular_unit.pvd", 
        "omegasO"
       ]
      }, 
      {
       "output_type": "stream", 
       "stream": "stdout", 
       "text": [
        "", 
        "[ 16821.85582133  17277.32325155  17172.75687864]", 
        "omegas", 
        "[ 16821.85582133  17277.32325155  17172.75687864]", 
        "Reweighting by unit cell vol", 
        "d_eff= [0.24,0.25,0.24] for d=1.00", 
        "problem.volUnitCell 70224.0", 
        "[-19. -22.  21.]"
       ]
      }, 
      {
       "output_type": "stream", 
       "stream": "stdout", 
       "text": [
        "  maps to  (19.0, 22.0, -21.0)", 
        "[-19. -22.  21.]  maps to  (-19.0, 22.0, -21.0)", 
        "[-19.  22. -21.]  maps to  (-19.0, -22.0, 21.0)", 
        "Not loading subdomains, since don't think they're needed", 
        "Loading electrostatic potential from argument", 
        "Using q=0.000000 for the ligand", 
        "Potential range: -0.000000 - -0.000000 "
       ]
      }, 
      {
       "output_type": "stream", 
       "stream": "stdout", 
       "text": [
        "", 
        "SA: 1.485589e+04 [um^2]"
       ]
      }, 
      {
       "output_type": "stream", 
       "stream": "stdout", 
       "text": [
        "", 
        "Volume: 6.023262e+04 [um^3]", 
        "Total volume (assuming rectangular): 7.022400e+04 [um^3]", 
        "volume fraction (assuming rectangular): 8.577212e-01 [um^3]", 
        "WARNING: assuming D=1."
       ]
      }, 
      {
       "output_type": "stream", 
       "stream": "stdout", 
       "text": [
        "", 
        "Adding in electrostatic component", 
        "pmf REMOVEME -0.000000,-0.000000 "
       ]
      }, 
      {
       "output_type": "stream", 
       "stream": "stdout", 
       "text": [
        "", 
        "Intfact: exp(p); 1.000000,1.000000 "
       ]
      }, 
      {
       "output_type": "stream", 
       "stream": "stdout", 
       "text": [
        "", 
        "Using amg preconditioner instead of ilu"
       ]
      }, 
      {
       "output_type": "stream", 
       "stream": "stdout", 
       "text": [
        "", 
        "Writing "
       ]
      }, 
      {
       "output_type": "stream", 
       "stream": "stdout", 
       "text": [
        " ./Molecular_unit.pvd", 
        "omegasO"
       ]
      }, 
      {
       "output_type": "stream", 
       "stream": "stdout", 
       "text": [
        "", 
        "[ 53085.4987298   54533.17781236  54186.11511853]", 
        "omegas", 
        "[ 53085.4987298   54533.17781236  54186.11511853]", 
        "Reweighting by unit cell vol", 
        "d_eff= [0.76,0.78,0.77] for d=1.00", 
        "problem.volUnitCell 70224.0", 
        "[-19. -22.  21.]"
       ]
      }, 
      {
       "output_type": "stream", 
       "stream": "stdout", 
       "text": [
        "  maps to  (19.0, 22.0, -21.0)", 
        "[-19. -22.  21.]  maps to  (-19.0, 22.0, -21.0)", 
        "[-19.  22. -21.]  maps to  (-19.0, -22.0, 21.0)", 
        "Not loading subdomains, since don't think they're needed", 
        "Loading electrostatic potential from argument", 
        "Using q=1.000000 for the ligand", 
        "Potential range: -0.690508 - -0.659515 "
       ]
      }, 
      {
       "output_type": "stream", 
       "stream": "stdout", 
       "text": [
        "", 
        "WARNING: Your potential does not seem to cross through 0 (reguirement at outer boundary", 
        "SA: 1.485589e+04 [um^2]"
       ]
      }, 
      {
       "output_type": "stream", 
       "stream": "stdout", 
       "text": [
        "", 
        "Volume: 6.023262e+04 [um^3]", 
        "Total volume (assuming rectangular): 7.022400e+04 [um^3]", 
        "volume fraction (assuming rectangular): 8.577212e-01 [um^3]", 
        "WARNING: assuming D=1."
       ]
      }, 
      {
       "output_type": "stream", 
       "stream": "stdout", 
       "text": [
        "", 
        "Adding in electrostatic component", 
        "pmf REMOVEME -0.690508,-0.659515 "
       ]
      }, 
      {
       "output_type": "stream", 
       "stream": "stdout", 
       "text": [
        "", 
        "Intfact: exp(p); 3.040940,3.204101 "
       ]
      }, 
      {
       "output_type": "stream", 
       "stream": "stdout", 
       "text": [
        "", 
        "Using amg preconditioner instead of ilu"
       ]
      }, 
      {
       "output_type": "stream", 
       "stream": "stdout", 
       "text": [
        "", 
        "Writing "
       ]
      }, 
      {
       "output_type": "stream", 
       "stream": "stdout", 
       "text": [
        " ./Molecular_unit.pvd", 
        "omegasO"
       ]
      }, 
      {
       "output_type": "stream", 
       "stream": "stdout", 
       "text": [
        "", 
        "[ 167552.56578368  172154.02242464  171006.91041781]", 
        "omegas", 
        "[ 167552.56578368  172154.02242464  171006.91041781]", 
        "Reweighting by unit cell vol", 
        "d_eff= [2.39,2.45,2.44] for d=1.00", 
        "problem.volUnitCell 70224.0", 
        "[-19. -22.  21.]"
       ]
      }, 
      {
       "output_type": "stream", 
       "stream": "stdout", 
       "text": [
        "  maps to  (19.0, 22.0, -21.0)", 
        "[-19. -22.  21.]  maps to  (-19.0, 22.0, -21.0)", 
        "[-19.  22. -21.]  maps to  (-19.0, -22.0, 21.0)", 
        "Not loading subdomains, since don't think they're needed", 
        "Loading electrostatic potential from argument", 
        "Using q=2.000000 for the ligand", 
        "Potential range: -1.381016 - -1.319030 "
       ]
      }, 
      {
       "output_type": "stream", 
       "stream": "stdout", 
       "text": [
        "", 
        "WARNING: Your potential does not seem to cross through 0 (reguirement at outer boundary", 
        "SA: 1.485589e+04 [um^2]"
       ]
      }, 
      {
       "output_type": "stream", 
       "stream": "stdout", 
       "text": [
        "", 
        "Volume: 6.023262e+04 [um^3]", 
        "Total volume (assuming rectangular): 7.022400e+04 [um^3]", 
        "volume fraction (assuming rectangular): 8.577212e-01 [um^3]", 
        "WARNING: assuming D=1."
       ]
      }, 
      {
       "output_type": "stream", 
       "stream": "stdout", 
       "text": [
        "", 
        "Adding in electrostatic component", 
        "pmf REMOVEME -1.381016,-1.319030 "
       ]
      }, 
      {
       "output_type": "stream", 
       "stream": "stdout", 
       "text": [
        "", 
        "Intfact: exp(p); 9.247318,10.266264 "
       ]
      }, 
      {
       "output_type": "stream", 
       "stream": "stdout", 
       "text": [
        "", 
        "Using amg preconditioner instead of ilu"
       ]
      }, 
      {
       "output_type": "stream", 
       "stream": "stdout", 
       "text": [
        "", 
        "Writing "
       ]
      }, 
      {
       "output_type": "stream", 
       "stream": "stdout", 
       "text": [
        " ./Molecular_unit.pvd", 
        "omegasO"
       ]
      }, 
      {
       "output_type": "stream", 
       "stream": "stdout", 
       "text": [
        "", 
        "[ 528931.34800463  543557.5424962   539779.90725073]", 
        "omegas", 
        "[ 528931.34800463  543557.5424962   539779.90725073]", 
        "Reweighting by unit cell vol", 
        "d_eff= [7.53,7.74,7.69] for d=1.00", 
        "problem.volUnitCell 70224.0", 
        "-160.409284687"
       ]
      }, 
      {
       "output_type": "stream", 
       "stream": "stdout", 
       "text": [
        "", 
        "Solving linear form of PBE"
       ]
      }, 
      {
       "output_type": "stream", 
       "stream": "stdout", 
       "text": [
        "", 
        "[-19. -22.  21.]"
       ]
      }, 
      {
       "output_type": "stream", 
       "stream": "stdout", 
       "text": [
        "  maps to  (19.0, 22.0, -21.0)", 
        "[-19. -22.  21.]  maps to  (-19.0, 22.0, -21.0)", 
        "[-19.  22. -21.]  maps to  (-19.0, -22.0, 21.0)", 
        "Not loading subdomains, since don't think they're needed", 
        "Loading electrostatic potential from argument", 
        "Using q=-2.000000 for the ligand", 
        "Potential range: 0.269945 - 7.408556 "
       ]
      }, 
      {
       "output_type": "stream", 
       "stream": "stdout", 
       "text": [
        "", 
        "WARNING: Your potential does not seem to cross through 0 (reguirement at outer boundary", 
        "SA: 1.485589e+04 [um^2]"
       ]
      }, 
      {
       "output_type": "stream", 
       "stream": "stdout", 
       "text": [
        "", 
        "Volume: 6.023262e+04 [um^3]", 
        "Total volume (assuming rectangular): 7.022400e+04 [um^3]", 
        "volume fraction (assuming rectangular): 8.577212e-01 [um^3]", 
        "WARNING: assuming D=1."
       ]
      }, 
      {
       "output_type": "stream", 
       "stream": "stdout", 
       "text": [
        "", 
        "Adding in electrostatic component", 
        "pmf REMOVEME 0.269945,7.408556 "
       ]
      }, 
      {
       "output_type": "stream", 
       "stream": "stdout", 
       "text": [
        "", 
        "Intfact: exp(p); 0.000004,0.634309 "
       ]
      }, 
      {
       "output_type": "stream", 
       "stream": "stdout", 
       "text": [
        "", 
        "Using amg preconditioner instead of ilu"
       ]
      }, 
      {
       "output_type": "stream", 
       "stream": "stdout", 
       "text": [
        "", 
        "Writing "
       ]
      }, 
      {
       "output_type": "stream", 
       "stream": "stdout", 
       "text": [
        " ./Molecular_unit.pvd", 
        "omegasO"
       ]
      }, 
      {
       "output_type": "stream", 
       "stream": "stdout", 
       "text": [
        "", 
        "[ 11652.53972119   4224.51812006  10391.39902136]", 
        "omegas", 
        "[ 11652.53972119   4224.51812006  10391.39902136]", 
        "Reweighting by unit cell vol", 
        "d_eff= [0.17,0.06,0.15] for d=1.00", 
        "problem.volUnitCell 70224.0", 
        "[-19. -22.  21.]"
       ]
      }, 
      {
       "output_type": "stream", 
       "stream": "stdout", 
       "text": [
        "  maps to  (19.0, 22.0, -21.0)", 
        "[-19. -22.  21.]  maps to  (-19.0, 22.0, -21.0)", 
        "[-19.  22. -21.]  maps to  (-19.0, -22.0, 21.0)", 
        "Not loading subdomains, since don't think they're needed", 
        "Loading electrostatic potential from argument", 
        "Using q=-1.000000 for the ligand", 
        "Potential range: 0.134973 - 3.704278 "
       ]
      }, 
      {
       "output_type": "stream", 
       "stream": "stdout", 
       "text": [
        "", 
        "WARNING: Your potential does not seem to cross through 0 (reguirement at outer boundary", 
        "SA: 1.485589e+04 [um^2]"
       ]
      }, 
      {
       "output_type": "stream", 
       "stream": "stdout", 
       "text": [
        "", 
        "Volume: 6.023262e+04 [um^3]", 
        "Total volume (assuming rectangular): 7.022400e+04 [um^3]", 
        "volume fraction (assuming rectangular): 8.577212e-01 [um^3]", 
        "WARNING: assuming D=1."
       ]
      }, 
      {
       "output_type": "stream", 
       "stream": "stdout", 
       "text": [
        "", 
        "Adding in electrostatic component", 
        "pmf REMOVEME 0.134973,3.704278 "
       ]
      }, 
      {
       "output_type": "stream", 
       "stream": "stdout", 
       "text": [
        "", 
        "Intfact: exp(p); 0.001937,0.796435 "
       ]
      }, 
      {
       "output_type": "stream", 
       "stream": "stdout", 
       "text": [
        "", 
        "Using amg preconditioner instead of ilu"
       ]
      }, 
      {
       "output_type": "stream", 
       "stream": "stdout", 
       "text": [
        "", 
        "Writing "
       ]
      }, 
      {
       "output_type": "stream", 
       "stream": "stdout", 
       "text": [
        " ./Molecular_unit.pvd", 
        "omegasO"
       ]
      }, 
      {
       "output_type": "stream", 
       "stream": "stdout", 
       "text": [
        "", 
        "[ 20356.27934488  13941.95146509  18849.62282486]", 
        "omegas", 
        "[ 20356.27934488  13941.95146509  18849.62282486]", 
        "Reweighting by unit cell vol", 
        "d_eff= [0.29,0.20,0.27] for d=1.00", 
        "problem.volUnitCell 70224.0", 
        "[-19. -22.  21.]"
       ]
      }, 
      {
       "output_type": "stream", 
       "stream": "stdout", 
       "text": [
        "  maps to  (19.0, 22.0, -21.0)", 
        "[-19. -22.  21.]  maps to  (-19.0, 22.0, -21.0)", 
        "[-19.  22. -21.]  maps to  (-19.0, -22.0, 21.0)", 
        "Not loading subdomains, since don't think they're needed", 
        "Loading electrostatic potential from argument", 
        "Using q=0.000000 for the ligand", 
        "Potential range: -0.000000 - -0.000000 "
       ]
      }, 
      {
       "output_type": "stream", 
       "stream": "stdout", 
       "text": [
        "", 
        "SA: 1.485589e+04 [um^2]"
       ]
      }, 
      {
       "output_type": "stream", 
       "stream": "stdout", 
       "text": [
        "", 
        "Volume: 6.023262e+04 [um^3]", 
        "Total volume (assuming rectangular): 7.022400e+04 [um^3]", 
        "volume fraction (assuming rectangular): 8.577212e-01 [um^3]", 
        "WARNING: assuming D=1."
       ]
      }, 
      {
       "output_type": "stream", 
       "stream": "stdout", 
       "text": [
        "", 
        "Adding in electrostatic component", 
        "pmf REMOVEME -0.000000,-0.000000 "
       ]
      }, 
      {
       "output_type": "stream", 
       "stream": "stdout", 
       "text": [
        "", 
        "Intfact: exp(p); 1.000000,1.000000 "
       ]
      }, 
      {
       "output_type": "stream", 
       "stream": "stdout", 
       "text": [
        "", 
        "Using amg preconditioner instead of ilu"
       ]
      }, 
      {
       "output_type": "stream", 
       "stream": "stdout", 
       "text": [
        "", 
        "Writing "
       ]
      }, 
      {
       "output_type": "stream", 
       "stream": "stdout", 
       "text": [
        " ./Molecular_unit.pvd", 
        "omegasO"
       ]
      }, 
      {
       "output_type": "stream", 
       "stream": "stdout", 
       "text": [
        "", 
        "[ 53085.4987298   54533.17781236  54186.11511853]", 
        "omegas", 
        "[ 53085.4987298   54533.17781236  54186.11511853]", 
        "Reweighting by unit cell vol", 
        "d_eff= [0.76,0.78,0.77] for d=1.00", 
        "problem.volUnitCell 70224.0", 
        "[-19. -22.  21.]"
       ]
      }, 
      {
       "output_type": "stream", 
       "stream": "stdout", 
       "text": [
        "  maps to  (19.0, 22.0, -21.0)", 
        "[-19. -22.  21.]  maps to  (-19.0, 22.0, -21.0)", 
        "[-19.  22. -21.]  maps to  (-19.0, -22.0, 21.0)", 
        "Not loading subdomains, since don't think they're needed", 
        "Loading electrostatic potential from argument", 
        "Using q=1.000000 for the ligand", 
        "Potential range: -3.704278 - -0.134973 "
       ]
      }, 
      {
       "output_type": "stream", 
       "stream": "stdout", 
       "text": [
        "", 
        "WARNING: Your potential does not seem to cross through 0 (reguirement at outer boundary", 
        "SA: 1.485589e+04 [um^2]"
       ]
      }, 
      {
       "output_type": "stream", 
       "stream": "stdout", 
       "text": [
        "", 
        "Volume: 6.023262e+04 [um^3]", 
        "Total volume (assuming rectangular): 7.022400e+04 [um^3]", 
        "volume fraction (assuming rectangular): 8.577212e-01 [um^3]", 
        "WARNING: assuming D=1."
       ]
      }, 
      {
       "output_type": "stream", 
       "stream": "stdout", 
       "text": [
        "", 
        "Adding in electrostatic component", 
        "pmf REMOVEME -3.704278,-0.134973 "
       ]
      }, 
      {
       "output_type": "stream", 
       "stream": "stdout", 
       "text": [
        "", 
        "Intfact: exp(p); 1.255595,516.292935 "
       ]
      }, 
      {
       "output_type": "stream", 
       "stream": "stdout", 
       "text": [
        "", 
        "Using amg preconditioner instead of ilu"
       ]
      }, 
      {
       "output_type": "stream", 
       "stream": "stdout", 
       "text": [
        "", 
        "Writing "
       ]
      }, 
      {
       "output_type": "stream", 
       "stream": "stdout", 
       "text": [
        " ./Molecular_unit.pvd", 
        "omegasO"
       ]
      }, 
      {
       "output_type": "stream", 
       "stream": "stdout", 
       "text": [
        "", 
        "[ 455563.58445828  162942.04198761  314311.36771844]", 
        "omegas", 
        "[ 455563.58445828  162942.04198761  314311.36771844]", 
        "Reweighting by unit cell vol", 
        "d_eff= [6.49,2.32,4.48] for d=1.00", 
        "problem.volUnitCell 70224.0", 
        "[-19. -22.  21.]"
       ]
      }, 
      {
       "output_type": "stream", 
       "stream": "stdout", 
       "text": [
        "  maps to  (19.0, 22.0, -21.0)", 
        "[-19. -22.  21.]  maps to  (-19.0, 22.0, -21.0)", 
        "[-19.  22. -21.]  maps to  (-19.0, -22.0, 21.0)", 
        "Not loading subdomains, since don't think they're needed", 
        "Loading electrostatic potential from argument", 
        "Using q=2.000000 for the ligand", 
        "Potential range: -7.408556 - -0.269945 "
       ]
      }, 
      {
       "output_type": "stream", 
       "stream": "stdout", 
       "text": [
        "", 
        "WARNING: Your potential does not seem to cross through 0 (reguirement at outer boundary", 
        "SA: 1.485589e+04 [um^2]"
       ]
      }, 
      {
       "output_type": "stream", 
       "stream": "stdout", 
       "text": [
        "", 
        "Volume: 6.023262e+04 [um^3]", 
        "Total volume (assuming rectangular): 7.022400e+04 [um^3]", 
        "volume fraction (assuming rectangular): 8.577212e-01 [um^3]", 
        "WARNING: assuming D=1."
       ]
      }, 
      {
       "output_type": "stream", 
       "stream": "stdout", 
       "text": [
        "", 
        "Adding in electrostatic component", 
        "pmf REMOVEME -7.408556,-0.269945 "
       ]
      }, 
      {
       "output_type": "stream", 
       "stream": "stdout", 
       "text": [
        "", 
        "Intfact: exp(p); 1.576519,266558.394673 "
       ]
      }, 
      {
       "output_type": "stream", 
       "stream": "stdout", 
       "text": [
        "", 
        "Using amg preconditioner instead of ilu"
       ]
      }, 
      {
       "output_type": "stream", 
       "stream": "stdout", 
       "text": [
        "", 
        "Writing "
       ]
      }, 
      {
       "output_type": "stream", 
       "stream": "stdout", 
       "text": [
        " ./Molecular_unit.pvd", 
        "omegasO"
       ]
      }, 
      {
       "output_type": "stream", 
       "stream": "stdout", 
       "text": [
        "", 
        "[ 4704770.83337905   331817.8484505   1331602.96779389]", 
        "omegas", 
        "[ 4704770.83337905   331817.8484505   1331602.96779389]", 
        "Reweighting by unit cell vol", 
        "d_eff= [67.00,4.73,18.96] for d=1.00", 
        "problem.volUnitCell 70224.0", 
        "-18.8762585401"
       ]
      }, 
      {
       "output_type": "stream", 
       "stream": "stdout", 
       "text": [
        "", 
        "Solving linear form of PBE"
       ]
      }, 
      {
       "output_type": "stream", 
       "stream": "stdout", 
       "text": [
        "", 
        "[-19. -22.  21.]"
       ]
      }, 
      {
       "output_type": "stream", 
       "stream": "stdout", 
       "text": [
        "  maps to  (19.0, 22.0, -21.0)", 
        "[-19. -22.  21.]  maps to  (-19.0, 22.0, -21.0)", 
        "[-19.  22. -21.]  maps to  (-19.0, -22.0, 21.0)", 
        "Not loading subdomains, since don't think they're needed", 
        "Loading electrostatic potential from argument", 
        "Using q=-2.000000 for the ligand", 
        "Potential range: 0.771876 - 0.871806 "
       ]
      }, 
      {
       "output_type": "stream", 
       "stream": "stdout", 
       "text": [
        "", 
        "WARNING: Your potential does not seem to cross through 0 (reguirement at outer boundary", 
        "SA: 1.485589e+04 [um^2]"
       ]
      }, 
      {
       "output_type": "stream", 
       "stream": "stdout", 
       "text": [
        "", 
        "Volume: 6.023262e+04 [um^3]", 
        "Total volume (assuming rectangular): 7.022400e+04 [um^3]", 
        "volume fraction (assuming rectangular): 8.577212e-01 [um^3]", 
        "WARNING: assuming D=1."
       ]
      }, 
      {
       "output_type": "stream", 
       "stream": "stdout", 
       "text": [
        "", 
        "Adding in electrostatic component", 
        "pmf REMOVEME 0.771876,0.871806 "
       ]
      }, 
      {
       "output_type": "stream", 
       "stream": "stdout", 
       "text": [
        "", 
        "Intfact: exp(p); 0.229888,0.272083 "
       ]
      }, 
      {
       "output_type": "stream", 
       "stream": "stdout", 
       "text": [
        "", 
        "Using amg preconditioner instead of ilu"
       ]
      }, 
      {
       "output_type": "stream", 
       "stream": "stdout", 
       "text": [
        "", 
        "Writing "
       ]
      }, 
      {
       "output_type": "stream", 
       "stream": "stdout", 
       "text": [
        " ./Molecular_unit.pvd", 
        "omegasO"
       ]
      }, 
      {
       "output_type": "stream", 
       "stream": "stdout", 
       "text": [
        "", 
        "[ 12834.83700032  13176.3587665   13106.66608895]", 
        "omegas", 
        "[ 12834.83700032  13176.3587665   13106.66608895]", 
        "Reweighting by unit cell vol", 
        "d_eff= [0.18,0.19,0.19] for d=1.00", 
        "problem.volUnitCell 70224.0", 
        "[-19. -22.  21.]"
       ]
      }, 
      {
       "output_type": "stream", 
       "stream": "stdout", 
       "text": [
        "  maps to  (19.0, 22.0, -21.0)", 
        "[-19. -22.  21.]  maps to  (-19.0, 22.0, -21.0)", 
        "[-19.  22. -21.]  maps to  (-19.0, -22.0, 21.0)", 
        "Not loading subdomains, since don't think they're needed", 
        "Loading electrostatic potential from argument", 
        "Using q=-1.000000 for the ligand", 
        "Potential range: 0.385938 - 0.435903 "
       ]
      }, 
      {
       "output_type": "stream", 
       "stream": "stdout", 
       "text": [
        "", 
        "WARNING: Your potential does not seem to cross through 0 (reguirement at outer boundary", 
        "SA: 1.485589e+04 [um^2]"
       ]
      }, 
      {
       "output_type": "stream", 
       "stream": "stdout", 
       "text": [
        "", 
        "Volume: 6.023262e+04 [um^3]", 
        "Total volume (assuming rectangular): 7.022400e+04 [um^3]", 
        "volume fraction (assuming rectangular): 8.577212e-01 [um^3]", 
        "WARNING: assuming D=1."
       ]
      }, 
      {
       "output_type": "stream", 
       "stream": "stdout", 
       "text": [
        "", 
        "Adding in electrostatic component", 
        "pmf REMOVEME 0.385938,0.435903 "
       ]
      }, 
      {
       "output_type": "stream", 
       "stream": "stdout", 
       "text": [
        "", 
        "Intfact: exp(p); 0.479467,0.521616 "
       ]
      }, 
      {
       "output_type": "stream", 
       "stream": "stdout", 
       "text": [
        "", 
        "Using amg preconditioner instead of ilu"
       ]
      }, 
      {
       "output_type": "stream", 
       "stream": "stdout", 
       "text": [
        "", 
        "Writing "
       ]
      }, 
      {
       "output_type": "stream", 
       "stream": "stdout", 
       "text": [
        " ./Molecular_unit.pvd", 
        "omegasO"
       ]
      }, 
      {
       "output_type": "stream", 
       "stream": "stdout", 
       "text": [
        "", 
        "[ 26096.67812016  26799.84096792  26643.19391631]", 
        "omegas", 
        "[ 26096.67812016  26799.84096792  26643.19391631]", 
        "Reweighting by unit cell vol", 
        "d_eff= [0.37,0.38,0.38] for d=1.00", 
        "problem.volUnitCell 70224.0", 
        "[-19. -22.  21.]"
       ]
      }, 
      {
       "output_type": "stream", 
       "stream": "stdout", 
       "text": [
        "  maps to  (19.0, 22.0, -21.0)", 
        "[-19. -22.  21.]  maps to  (-19.0, 22.0, -21.0)", 
        "[-19.  22. -21.]  maps to  (-19.0, -22.0, 21.0)", 
        "Not loading subdomains, since don't think they're needed", 
        "Loading electrostatic potential from argument", 
        "Using q=0.000000 for the ligand", 
        "Potential range: -0.000000 - -0.000000 "
       ]
      }, 
      {
       "output_type": "stream", 
       "stream": "stdout", 
       "text": [
        "", 
        "SA: 1.485589e+04 [um^2]"
       ]
      }, 
      {
       "output_type": "stream", 
       "stream": "stdout", 
       "text": [
        "", 
        "Volume: 6.023262e+04 [um^3]", 
        "Total volume (assuming rectangular): 7.022400e+04 [um^3]", 
        "volume fraction (assuming rectangular): 8.577212e-01 [um^3]", 
        "WARNING: assuming D=1."
       ]
      }, 
      {
       "output_type": "stream", 
       "stream": "stdout", 
       "text": [
        "", 
        "Adding in electrostatic component", 
        "pmf REMOVEME -0.000000,-0.000000 "
       ]
      }, 
      {
       "output_type": "stream", 
       "stream": "stdout", 
       "text": [
        "", 
        "Intfact: exp(p); 1.000000,1.000000 "
       ]
      }, 
      {
       "output_type": "stream", 
       "stream": "stdout", 
       "text": [
        "", 
        "Using amg preconditioner instead of ilu"
       ]
      }, 
      {
       "output_type": "stream", 
       "stream": "stdout", 
       "text": [
        "", 
        "Writing "
       ]
      }, 
      {
       "output_type": "stream", 
       "stream": "stdout", 
       "text": [
        " ./Molecular_unit.pvd", 
        "omegasO"
       ]
      }, 
      {
       "output_type": "stream", 
       "stream": "stdout", 
       "text": [
        "", 
        "[ 53085.4987298   54533.17781236  54186.11511853]", 
        "omegas", 
        "[ 53085.4987298   54533.17781236  54186.11511853]", 
        "Reweighting by unit cell vol", 
        "d_eff= [0.76,0.78,0.77] for d=1.00", 
        "problem.volUnitCell 70224.0", 
        "[-19. -22.  21.]"
       ]
      }, 
      {
       "output_type": "stream", 
       "stream": "stdout", 
       "text": [
        "  maps to  (19.0, 22.0, -21.0)", 
        "[-19. -22.  21.]  maps to  (-19.0, 22.0, -21.0)", 
        "[-19.  22. -21.]  maps to  (-19.0, -22.0, 21.0)", 
        "Not loading subdomains, since don't think they're needed", 
        "Loading electrostatic potential from argument", 
        "Using q=1.000000 for the ligand", 
        "Potential range: -0.435903 - -0.385938 "
       ]
      }, 
      {
       "output_type": "stream", 
       "stream": "stdout", 
       "text": [
        "", 
        "WARNING: Your potential does not seem to cross through 0 (reguirement at outer boundary", 
        "SA: 1.485589e+04 [um^2]"
       ]
      }, 
      {
       "output_type": "stream", 
       "stream": "stdout", 
       "text": [
        "", 
        "Volume: 6.023262e+04 [um^3]", 
        "Total volume (assuming rectangular): 7.022400e+04 [um^3]", 
        "volume fraction (assuming rectangular): 8.577212e-01 [um^3]", 
        "WARNING: assuming D=1."
       ]
      }, 
      {
       "output_type": "stream", 
       "stream": "stdout", 
       "text": [
        "", 
        "Adding in electrostatic component", 
        "pmf REMOVEME -0.435903,-0.385938 "
       ]
      }, 
      {
       "output_type": "stream", 
       "stream": "stdout", 
       "text": [
        "", 
        "Intfact: exp(p); 1.917118,2.085651 "
       ]
      }, 
      {
       "output_type": "stream", 
       "stream": "stdout", 
       "text": [
        "", 
        "Using amg preconditioner instead of ilu"
       ]
      }, 
      {
       "output_type": "stream", 
       "stream": "stdout", 
       "text": [
        "", 
        "Writing "
       ]
      }, 
      {
       "output_type": "stream", 
       "stream": "stdout", 
       "text": [
        " ./Molecular_unit.pvd", 
        "omegasO"
       ]
      }, 
      {
       "output_type": "stream", 
       "stream": "stdout", 
       "text": [
        "", 
        "[ 108034.34862529  111014.88162805  110254.54172742]", 
        "omegas", 
        "[ 108034.34862529  111014.88162805  110254.54172742]", 
        "Reweighting by unit cell vol", 
        "d_eff= [1.54,1.58,1.57] for d=1.00", 
        "problem.volUnitCell 70224.0", 
        "[-19. -22.  21.]"
       ]
      }, 
      {
       "output_type": "stream", 
       "stream": "stdout", 
       "text": [
        "  maps to  (19.0, 22.0, -21.0)", 
        "[-19. -22.  21.]  maps to  (-19.0, 22.0, -21.0)", 
        "[-19.  22. -21.]  maps to  (-19.0, -22.0, 21.0)", 
        "Not loading subdomains, since don't think they're needed", 
        "Loading electrostatic potential from argument", 
        "Using q=2.000000 for the ligand", 
        "Potential range: -0.871806 - -0.771876 "
       ]
      }, 
      {
       "output_type": "stream", 
       "stream": "stdout", 
       "text": [
        "", 
        "WARNING: Your potential does not seem to cross through 0 (reguirement at outer boundary", 
        "SA: 1.485589e+04 [um^2]"
       ]
      }, 
      {
       "output_type": "stream", 
       "stream": "stdout", 
       "text": [
        "", 
        "Volume: 6.023262e+04 [um^3]", 
        "Total volume (assuming rectangular): 7.022400e+04 [um^3]", 
        "volume fraction (assuming rectangular): 8.577212e-01 [um^3]", 
        "WARNING: assuming D=1."
       ]
      }, 
      {
       "output_type": "stream", 
       "stream": "stdout", 
       "text": [
        "", 
        "Adding in electrostatic component", 
        "pmf REMOVEME -0.871806,-0.771876 "
       ]
      }, 
      {
       "output_type": "stream", 
       "stream": "stdout", 
       "text": [
        "", 
        "Intfact: exp(p); 3.675343,4.349941 "
       ]
      }, 
      {
       "output_type": "stream", 
       "stream": "stdout", 
       "text": [
        "", 
        "Using amg preconditioner instead of ilu"
       ]
      }, 
      {
       "output_type": "stream", 
       "stream": "stdout", 
       "text": [
        "", 
        "Writing "
       ]
      }, 
      {
       "output_type": "stream", 
       "stream": "stdout", 
       "text": [
        " ./Molecular_unit.pvd", 
        "omegasO"
       ]
      }, 
      {
       "output_type": "stream", 
       "stream": "stdout", 
       "text": [
        "", 
        "[ 219959.35851087  226096.20196832  224445.36849127]", 
        "omegas", 
        "[ 219959.35851087  226096.20196832  224445.36849127]", 
        "Reweighting by unit cell vol", 
        "d_eff= [3.13,3.22,3.20] for d=1.00", 
        "problem.volUnitCell 70224.0", 
        "-135.215183737"
       ]
      }, 
      {
       "output_type": "stream", 
       "stream": "stdout", 
       "text": [
        "", 
        "Solving linear form of PBE"
       ]
      }, 
      {
       "output_type": "stream", 
       "stream": "stdout", 
       "text": [
        "", 
        "[-19. -22.  21.]"
       ]
      }, 
      {
       "output_type": "stream", 
       "stream": "stdout", 
       "text": [
        "  maps to  (19.0, 22.0, -21.0)", 
        "[-19. -22.  21.]  maps to  (-19.0, 22.0, -21.0)", 
        "[-19.  22. -21.]  maps to  (-19.0, -22.0, 21.0)", 
        "Not loading subdomains, since don't think they're needed", 
        "Loading electrostatic potential from argument", 
        "Using q=-2.000000 for the ligand", 
        "Potential range: 0.016204 - 6.244958 "
       ]
      }, 
      {
       "output_type": "stream", 
       "stream": "stdout", 
       "text": [
        "", 
        "WARNING: Your potential does not seem to cross through 0 (reguirement at outer boundary", 
        "SA: 1.485589e+04 [um^2]"
       ]
      }, 
      {
       "output_type": "stream", 
       "stream": "stdout", 
       "text": [
        "", 
        "Volume: 6.023262e+04 [um^3]", 
        "Total volume (assuming rectangular): 7.022400e+04 [um^3]", 
        "volume fraction (assuming rectangular): 8.577212e-01 [um^3]", 
        "WARNING: assuming D=1."
       ]
      }, 
      {
       "output_type": "stream", 
       "stream": "stdout", 
       "text": [
        "", 
        "Adding in electrostatic component", 
        "pmf REMOVEME 0.016204,6.244958 "
       ]
      }, 
      {
       "output_type": "stream", 
       "stream": "stdout", 
       "text": [
        "", 
        "Intfact: exp(p); 0.000027,0.973045 "
       ]
      }, 
      {
       "output_type": "stream", 
       "stream": "stdout", 
       "text": [
        "", 
        "Using amg preconditioner instead of ilu"
       ]
      }, 
      {
       "output_type": "stream", 
       "stream": "stdout", 
       "text": [
        "", 
        "Writing "
       ]
      }, 
      {
       "output_type": "stream", 
       "stream": "stdout", 
       "text": [
        " ./Molecular_unit.pvd", 
        "omegasO"
       ]
      }, 
      {
       "output_type": "stream", 
       "stream": "stdout", 
       "text": [
        "", 
        "[ 29371.17192806  21405.8129318   27031.52524518]", 
        "omegas", 
        "[ 29371.17192806  21405.8129318   27031.52524518]", 
        "Reweighting by unit cell vol", 
        "d_eff= [0.42,0.30,0.38] for d=1.00", 
        "problem.volUnitCell 70224.0", 
        "[-19. -22.  21.]"
       ]
      }, 
      {
       "output_type": "stream", 
       "stream": "stdout", 
       "text": [
        "  maps to  (19.0, 22.0, -21.0)", 
        "[-19. -22.  21.]  maps to  (-19.0, 22.0, -21.0)", 
        "[-19.  22. -21.]  maps to  (-19.0, -22.0, 21.0)", 
        "Not loading subdomains, since don't think they're needed", 
        "Loading electrostatic potential from argument", 
        "Using q=-1.000000 for the ligand", 
        "Potential range: 0.008102 - 3.122479 "
       ]
      }, 
      {
       "output_type": "stream", 
       "stream": "stdout", 
       "text": [
        "", 
        "WARNING: Your potential does not seem to cross through 0 (reguirement at outer boundary", 
        "SA: 1.485589e+04 [um^2]"
       ]
      }, 
      {
       "output_type": "stream", 
       "stream": "stdout", 
       "text": [
        "", 
        "Volume: 6.023262e+04 [um^3]", 
        "Total volume (assuming rectangular): 7.022400e+04 [um^3]", 
        "volume fraction (assuming rectangular): 8.577212e-01 [um^3]", 
        "WARNING: assuming D=1."
       ]
      }, 
      {
       "output_type": "stream", 
       "stream": "stdout", 
       "text": [
        "", 
        "Adding in electrostatic component", 
        "pmf REMOVEME 0.008102,3.122479 "
       ]
      }, 
      {
       "output_type": "stream", 
       "stream": "stdout", 
       "text": [
        "", 
        "Intfact: exp(p); 0.005166,0.986430 "
       ]
      }, 
      {
       "output_type": "stream", 
       "stream": "stdout", 
       "text": [
        "", 
        "Using amg preconditioner instead of ilu"
       ]
      }, 
      {
       "output_type": "stream", 
       "stream": "stdout", 
       "text": [
        "", 
        "Writing "
       ]
      }, 
      {
       "output_type": "stream", 
       "stream": "stdout", 
       "text": [
        " ./Molecular_unit.pvd", 
        "omegasO"
       ]
      }, 
      {
       "output_type": "stream", 
       "stream": "stdout", 
       "text": [
        "", 
        "[ 35366.04428351  33056.44642199  33931.85390214]", 
        "omegas", 
        "[ 35366.04428351  33056.44642199  33931.85390214]", 
        "Reweighting by unit cell vol", 
        "d_eff= [0.50,0.47,0.48] for d=1.00", 
        "problem.volUnitCell 70224.0", 
        "[-19. -22.  21.]"
       ]
      }, 
      {
       "output_type": "stream", 
       "stream": "stdout", 
       "text": [
        "  maps to  (19.0, 22.0, -21.0)", 
        "[-19. -22.  21.]  maps to  (-19.0, 22.0, -21.0)", 
        "[-19.  22. -21.]  maps to  (-19.0, -22.0, 21.0)", 
        "Not loading subdomains, since don't think they're needed", 
        "Loading electrostatic potential from argument", 
        "Using q=0.000000 for the ligand", 
        "Potential range: -0.000000 - -0.000000 "
       ]
      }, 
      {
       "output_type": "stream", 
       "stream": "stdout", 
       "text": [
        "", 
        "SA: 1.485589e+04 [um^2]"
       ]
      }, 
      {
       "output_type": "stream", 
       "stream": "stdout", 
       "text": [
        "", 
        "Volume: 6.023262e+04 [um^3]", 
        "Total volume (assuming rectangular): 7.022400e+04 [um^3]", 
        "volume fraction (assuming rectangular): 8.577212e-01 [um^3]", 
        "WARNING: assuming D=1."
       ]
      }, 
      {
       "output_type": "stream", 
       "stream": "stdout", 
       "text": [
        "", 
        "Adding in electrostatic component", 
        "pmf REMOVEME -0.000000,-0.000000 "
       ]
      }, 
      {
       "output_type": "stream", 
       "stream": "stdout", 
       "text": [
        "", 
        "Intfact: exp(p); 1.000000,1.000000 "
       ]
      }, 
      {
       "output_type": "stream", 
       "stream": "stdout", 
       "text": [
        "", 
        "Using amg preconditioner instead of ilu"
       ]
      }, 
      {
       "output_type": "stream", 
       "stream": "stdout", 
       "text": [
        "", 
        "Writing "
       ]
      }, 
      {
       "output_type": "stream", 
       "stream": "stdout", 
       "text": [
        " ./Molecular_unit.pvd", 
        "omegasO"
       ]
      }, 
      {
       "output_type": "stream", 
       "stream": "stdout", 
       "text": [
        "", 
        "[ 53085.4987298   54533.17781236  54186.11511853]", 
        "omegas", 
        "[ 53085.4987298   54533.17781236  54186.11511853]", 
        "Reweighting by unit cell vol", 
        "d_eff= [0.76,0.78,0.77] for d=1.00", 
        "problem.volUnitCell 70224.0", 
        "[-19. -22.  21.]"
       ]
      }, 
      {
       "output_type": "stream", 
       "stream": "stdout", 
       "text": [
        "  maps to  (19.0, 22.0, -21.0)", 
        "[-19. -22.  21.]  maps to  (-19.0, 22.0, -21.0)", 
        "[-19.  22. -21.]  maps to  (-19.0, -22.0, 21.0)", 
        "Not loading subdomains, since don't think they're needed", 
        "Loading electrostatic potential from argument", 
        "Using q=1.000000 for the ligand", 
        "Potential range: -3.122479 - -0.008102 "
       ]
      }, 
      {
       "output_type": "stream", 
       "stream": "stdout", 
       "text": [
        "", 
        "WARNING: Your potential does not seem to cross through 0 (reguirement at outer boundary", 
        "SA: 1.485589e+04 [um^2]"
       ]
      }, 
      {
       "output_type": "stream", 
       "stream": "stdout", 
       "text": [
        "", 
        "Volume: 6.023262e+04 [um^3]", 
        "Total volume (assuming rectangular): 7.022400e+04 [um^3]", 
        "volume fraction (assuming rectangular): 8.577212e-01 [um^3]", 
        "WARNING: assuming D=1."
       ]
      }, 
      {
       "output_type": "stream", 
       "stream": "stdout", 
       "text": [
        "", 
        "Adding in electrostatic component", 
        "pmf REMOVEME -3.122479,-0.008102 "
       ]
      }, 
      {
       "output_type": "stream", 
       "stream": "stdout", 
       "text": [
        "", 
        "Intfact: exp(p); 1.013756,193.555274 "
       ]
      }, 
      {
       "output_type": "stream", 
       "stream": "stdout", 
       "text": [
        "", 
        "Using amg preconditioner instead of ilu"
       ]
      }, 
      {
       "output_type": "stream", 
       "stream": "stdout", 
       "text": [
        "", 
        "Writing "
       ]
      }, 
      {
       "output_type": "stream", 
       "stream": "stdout", 
       "text": [
        " ./Molecular_unit.pvd", 
        "omegasO"
       ]
      }, 
      {
       "output_type": "stream", 
       "stream": "stdout", 
       "text": [
        "", 
        "[ 139045.37002023   85189.03525434  122491.98498116]", 
        "omegas", 
        "[ 139045.37002023   85189.03525434  122491.98498116]", 
        "Reweighting by unit cell vol", 
        "d_eff= [1.98,1.21,1.74] for d=1.00", 
        "problem.volUnitCell 70224.0", 
        "[-19. -22.  21.]"
       ]
      }, 
      {
       "output_type": "stream", 
       "stream": "stdout", 
       "text": [
        "  maps to  (19.0, 22.0, -21.0)", 
        "[-19. -22.  21.]  maps to  (-19.0, 22.0, -21.0)", 
        "[-19.  22. -21.]  maps to  (-19.0, -22.0, 21.0)", 
        "Not loading subdomains, since don't think they're needed", 
        "Loading electrostatic potential from argument", 
        "Using q=2.000000 for the ligand", 
        "Potential range: -6.244958 - -0.016204 "
       ]
      }, 
      {
       "output_type": "stream", 
       "stream": "stdout", 
       "text": [
        "", 
        "WARNING: Your potential does not seem to cross through 0 (reguirement at outer boundary", 
        "SA: 1.485589e+04 [um^2]"
       ]
      }, 
      {
       "output_type": "stream", 
       "stream": "stdout", 
       "text": [
        "", 
        "Volume: 6.023262e+04 [um^3]", 
        "Total volume (assuming rectangular): 7.022400e+04 [um^3]", 
        "volume fraction (assuming rectangular): 8.577212e-01 [um^3]", 
        "WARNING: assuming D=1."
       ]
      }, 
      {
       "output_type": "stream", 
       "stream": "stdout", 
       "text": [
        "", 
        "Adding in electrostatic component", 
        "pmf REMOVEME -6.244958,-0.016204 "
       ]
      }, 
      {
       "output_type": "stream", 
       "stream": "stdout", 
       "text": [
        "", 
        "Intfact: exp(p); 1.027702,37463.644021 "
       ]
      }, 
      {
       "output_type": "stream", 
       "stream": "stdout", 
       "text": [
        "", 
        "Using amg preconditioner instead of ilu"
       ]
      }, 
      {
       "output_type": "stream", 
       "stream": "stdout", 
       "text": [
        "", 
        "Writing "
       ]
      }, 
      {
       "output_type": "stream", 
       "stream": "stdout", 
       "text": [
        " ./Molecular_unit.pvd", 
        "omegasO"
       ]
      }, 
      {
       "output_type": "stream", 
       "stream": "stdout", 
       "text": [
        "", 
        "[ 359303.96869633  108599.13494372  232353.06755291]", 
        "omegas", 
        "[ 359303.96869633  108599.13494372  232353.06755291]", 
        "Reweighting by unit cell vol", 
        "d_eff= [5.12,1.55,3.31] for d=1.00", 
        "problem.volUnitCell 70224.0", 
        "-11.6846189527"
       ]
      }, 
      {
       "output_type": "stream", 
       "stream": "stdout", 
       "text": [
        "", 
        "Solving linear form of PBE"
       ]
      }, 
      {
       "output_type": "stream", 
       "stream": "stdout", 
       "text": [
        "", 
        "[-19. -22.  21.]"
       ]
      }, 
      {
       "output_type": "stream", 
       "stream": "stdout", 
       "text": [
        "  maps to  (19.0, 22.0, -21.0)", 
        "[-19. -22.  21.]  maps to  (-19.0, 22.0, -21.0)", 
        "[-19.  22. -21.]  maps to  (-19.0, -22.0, 21.0)", 
        "Not loading subdomains, since don't think they're needed", 
        "Loading electrostatic potential from argument", 
        "Using q=-2.000000 for the ligand", 
        "Potential range: 0.393097 - 0.539658 "
       ]
      }, 
      {
       "output_type": "stream", 
       "stream": "stdout", 
       "text": [
        "", 
        "WARNING: Your potential does not seem to cross through 0 (reguirement at outer boundary", 
        "SA: 1.485589e+04 [um^2]"
       ]
      }, 
      {
       "output_type": "stream", 
       "stream": "stdout", 
       "text": [
        "", 
        "Volume: 6.023262e+04 [um^3]", 
        "Total volume (assuming rectangular): 7.022400e+04 [um^3]", 
        "volume fraction (assuming rectangular): 8.577212e-01 [um^3]", 
        "WARNING: assuming D=1."
       ]
      }, 
      {
       "output_type": "stream", 
       "stream": "stdout", 
       "text": [
        "", 
        "Adding in electrostatic component", 
        "pmf REMOVEME 0.393097,0.539658 "
       ]
      }, 
      {
       "output_type": "stream", 
       "stream": "stdout", 
       "text": [
        "", 
        "Intfact: exp(p); 0.402505,0.515357 "
       ]
      }, 
      {
       "output_type": "stream", 
       "stream": "stdout", 
       "text": [
        "", 
        "Using amg preconditioner instead of ilu"
       ]
      }, 
      {
       "output_type": "stream", 
       "stream": "stdout", 
       "text": [
        "", 
        "Writing "
       ]
      }, 
      {
       "output_type": "stream", 
       "stream": "stdout", 
       "text": [
        " ./Molecular_unit.pvd", 
        "omegasO"
       ]
      }, 
      {
       "output_type": "stream", 
       "stream": "stdout", 
       "text": [
        "", 
        "[ 23090.01829113  23694.8563399   23583.99503168]", 
        "omegas", 
        "[ 23090.01829113  23694.8563399   23583.99503168]", 
        "Reweighting by unit cell vol", 
        "d_eff= [0.33,0.34,0.34] for d=1.00", 
        "problem.volUnitCell 70224.0", 
        "[-19. -22.  21.]"
       ]
      }, 
      {
       "output_type": "stream", 
       "stream": "stdout", 
       "text": [
        "  maps to  (19.0, 22.0, -21.0)", 
        "[-19. -22.  21.]  maps to  (-19.0, 22.0, -21.0)", 
        "[-19.  22. -21.]  maps to  (-19.0, -22.0, 21.0)", 
        "Not loading subdomains, since don't think they're needed", 
        "Loading electrostatic potential from argument", 
        "Using q=-1.000000 for the ligand", 
        "Potential range: 0.196548 - 0.269829 "
       ]
      }, 
      {
       "output_type": "stream", 
       "stream": "stdout", 
       "text": [
        "", 
        "WARNING: Your potential does not seem to cross through 0 (reguirement at outer boundary", 
        "SA: 1.485589e+04 [um^2]"
       ]
      }, 
      {
       "output_type": "stream", 
       "stream": "stdout", 
       "text": [
        "", 
        "Volume: 6.023262e+04 [um^3]", 
        "Total volume (assuming rectangular): 7.022400e+04 [um^3]", 
        "volume fraction (assuming rectangular): 8.577212e-01 [um^3]", 
        "WARNING: assuming D=1."
       ]
      }, 
      {
       "output_type": "stream", 
       "stream": "stdout", 
       "text": [
        "", 
        "Adding in electrostatic component", 
        "pmf REMOVEME 0.196548,0.269829 "
       ]
      }, 
      {
       "output_type": "stream", 
       "stream": "stdout", 
       "text": [
        "", 
        "Intfact: exp(p); 0.634433,0.717884 "
       ]
      }, 
      {
       "output_type": "stream", 
       "stream": "stdout", 
       "text": [
        "", 
        "Using amg preconditioner instead of ilu"
       ]
      }, 
      {
       "output_type": "stream", 
       "stream": "stdout", 
       "text": [
        "", 
        "Writing "
       ]
      }, 
      {
       "output_type": "stream", 
       "stream": "stdout", 
       "text": [
        " ./Molecular_unit.pvd", 
        "omegasO"
       ]
      }, 
      {
       "output_type": "stream", 
       "stream": "stdout", 
       "text": [
        "", 
        "[ 34992.47380726  35928.40254148  35728.49443063]", 
        "omegas", 
        "[ 34992.47380726  35928.40254148  35728.49443063]", 
        "Reweighting by unit cell vol", 
        "d_eff= [0.50,0.51,0.51] for d=1.00", 
        "problem.volUnitCell 70224.0", 
        "[-19. -22.  21.]"
       ]
      }, 
      {
       "output_type": "stream", 
       "stream": "stdout", 
       "text": [
        "  maps to  (19.0, 22.0, -21.0)", 
        "[-19. -22.  21.]  maps to  (-19.0, 22.0, -21.0)", 
        "[-19.  22. -21.]  maps to  (-19.0, -22.0, 21.0)", 
        "Not loading subdomains, since don't think they're needed", 
        "Loading electrostatic potential from argument", 
        "Using q=0.000000 for the ligand", 
        "Potential range: -0.000000 - -0.000000 "
       ]
      }, 
      {
       "output_type": "stream", 
       "stream": "stdout", 
       "text": [
        "", 
        "SA: 1.485589e+04 [um^2]"
       ]
      }, 
      {
       "output_type": "stream", 
       "stream": "stdout", 
       "text": [
        "", 
        "Volume: 6.023262e+04 [um^3]", 
        "Total volume (assuming rectangular): 7.022400e+04 [um^3]", 
        "volume fraction (assuming rectangular): 8.577212e-01 [um^3]", 
        "WARNING: assuming D=1."
       ]
      }, 
      {
       "output_type": "stream", 
       "stream": "stdout", 
       "text": [
        "", 
        "Adding in electrostatic component", 
        "pmf REMOVEME -0.000000,-0.000000 "
       ]
      }, 
      {
       "output_type": "stream", 
       "stream": "stdout", 
       "text": [
        "", 
        "Intfact: exp(p); 1.000000,1.000000 "
       ]
      }, 
      {
       "output_type": "stream", 
       "stream": "stdout", 
       "text": [
        "", 
        "Using amg preconditioner instead of ilu"
       ]
      }, 
      {
       "output_type": "stream", 
       "stream": "stdout", 
       "text": [
        "", 
        "Writing "
       ]
      }, 
      {
       "output_type": "stream", 
       "stream": "stdout", 
       "text": [
        " ./Molecular_unit.pvd", 
        "omegasO"
       ]
      }, 
      {
       "output_type": "stream", 
       "stream": "stdout", 
       "text": [
        "", 
        "[ 53085.4987298   54533.17781236  54186.11511853]", 
        "omegas", 
        "[ 53085.4987298   54533.17781236  54186.11511853]", 
        "Reweighting by unit cell vol", 
        "d_eff= [0.76,0.78,0.77] for d=1.00", 
        "problem.volUnitCell 70224.0", 
        "[-19. -22.  21.]"
       ]
      }, 
      {
       "output_type": "stream", 
       "stream": "stdout", 
       "text": [
        "  maps to  (19.0, 22.0, -21.0)", 
        "[-19. -22.  21.]  maps to  (-19.0, 22.0, -21.0)", 
        "[-19.  22. -21.]  maps to  (-19.0, -22.0, 21.0)", 
        "Not loading subdomains, since don't think they're needed", 
        "Loading electrostatic potential from argument", 
        "Using q=1.000000 for the ligand", 
        "Potential range: -0.269829 - -0.196548 "
       ]
      }, 
      {
       "output_type": "stream", 
       "stream": "stdout", 
       "text": [
        "", 
        "WARNING: Your potential does not seem to cross through 0 (reguirement at outer boundary", 
        "SA: 1.485589e+04 [um^2]"
       ]
      }, 
      {
       "output_type": "stream", 
       "stream": "stdout", 
       "text": [
        "", 
        "Volume: 6.023262e+04 [um^3]", 
        "Total volume (assuming rectangular): 7.022400e+04 [um^3]", 
        "volume fraction (assuming rectangular): 8.577212e-01 [um^3]", 
        "WARNING: assuming D=1."
       ]
      }, 
      {
       "output_type": "stream", 
       "stream": "stdout", 
       "text": [
        "", 
        "Adding in electrostatic component", 
        "pmf REMOVEME -0.269829,-0.196548 "
       ]
      }, 
      {
       "output_type": "stream", 
       "stream": "stdout", 
       "text": [
        "", 
        "Intfact: exp(p); 1.392983,1.576211 "
       ]
      }, 
      {
       "output_type": "stream", 
       "stream": "stdout", 
       "text": [
        "", 
        "Using amg preconditioner instead of ilu"
       ]
      }, 
      {
       "output_type": "stream", 
       "stream": "stdout", 
       "text": [
        "", 
        "Writing "
       ]
      }, 
      {
       "output_type": "stream", 
       "stream": "stdout", 
       "text": [
        " ./Molecular_unit.pvd", 
        "omegasO"
       ]
      }, 
      {
       "output_type": "stream", 
       "stream": "stdout", 
       "text": [
        "", 
        "[ 80616.96231945  82855.83908973  82268.66597255]", 
        "omegas", 
        "[ 80616.96231945  82855.83908973  82268.66597255]", 
        "Reweighting by unit cell vol", 
        "d_eff= [1.15,1.18,1.17] for d=1.00", 
        "problem.volUnitCell 70224.0", 
        "[-19. -22.  21.]"
       ]
      }, 
      {
       "output_type": "stream", 
       "stream": "stdout", 
       "text": [
        "  maps to  (19.0, 22.0, -21.0)", 
        "[-19. -22.  21.]  maps to  (-19.0, 22.0, -21.0)", 
        "[-19.  22. -21.]  maps to  (-19.0, -22.0, 21.0)", 
        "Not loading subdomains, since don't think they're needed", 
        "Loading electrostatic potential from argument", 
        "Using q=2.000000 for the ligand", 
        "Potential range: -0.539658 - -0.393097 "
       ]
      }, 
      {
       "output_type": "stream", 
       "stream": "stdout", 
       "text": [
        "", 
        "WARNING: Your potential does not seem to cross through 0 (reguirement at outer boundary", 
        "SA: 1.485589e+04 [um^2]"
       ]
      }, 
      {
       "output_type": "stream", 
       "stream": "stdout", 
       "text": [
        "", 
        "Volume: 6.023262e+04 [um^3]", 
        "Total volume (assuming rectangular): 7.022400e+04 [um^3]", 
        "volume fraction (assuming rectangular): 8.577212e-01 [um^3]", 
        "WARNING: assuming D=1."
       ]
      }, 
      {
       "output_type": "stream", 
       "stream": "stdout", 
       "text": [
        "", 
        "Adding in electrostatic component", 
        "pmf REMOVEME -0.539658,-0.393097 "
       ]
      }, 
      {
       "output_type": "stream", 
       "stream": "stdout", 
       "text": [
        "", 
        "Intfact: exp(p); 1.940401,2.484440 "
       ]
      }, 
      {
       "output_type": "stream", 
       "stream": "stdout", 
       "text": [
        "", 
        "Using amg preconditioner instead of ilu"
       ]
      }, 
      {
       "output_type": "stream", 
       "stream": "stdout", 
       "text": [
        "", 
        "Writing "
       ]
      }, 
      {
       "output_type": "stream", 
       "stream": "stdout", 
       "text": [
        " ./Molecular_unit.pvd", 
        "omegasO"
       ]
      }, 
      {
       "output_type": "stream", 
       "stream": "stdout", 
       "text": [
        "", 
        "[ 122552.99547145  126015.62826187  125040.47528317]", 
        "omegas", 
        "[ 122552.99547145  126015.62826187  125040.47528317]", 
        "Reweighting by unit cell vol", 
        "d_eff= [1.75,1.79,1.78] for d=1.00", 
        "problem.volUnitCell 70224.0", 
        "-110.294614543"
       ]
      }, 
      {
       "output_type": "stream", 
       "stream": "stdout", 
       "text": [
        "", 
        "Solving linear form of PBE"
       ]
      }, 
      {
       "output_type": "stream", 
       "stream": "stdout", 
       "text": [
        "", 
        "[-19. -22.  21.]"
       ]
      }, 
      {
       "output_type": "stream", 
       "stream": "stdout", 
       "text": [
        "  maps to  (19.0, 22.0, -21.0)", 
        "[-19. -22.  21.]  maps to  (-19.0, 22.0, -21.0)", 
        "[-19.  22. -21.]  maps to  (-19.0, -22.0, 21.0)", 
        "Not loading subdomains, since don't think they're needed", 
        "Loading electrostatic potential from argument", 
        "Using q=-2.000000 for the ligand", 
        "Potential range: 0.000218 - 5.093993 "
       ]
      }, 
      {
       "output_type": "stream", 
       "stream": "stdout", 
       "text": [
        "", 
        "WARNING: Your potential does not seem to cross through 0 (reguirement at outer boundary", 
        "SA: 1.485589e+04 [um^2]"
       ]
      }, 
      {
       "output_type": "stream", 
       "stream": "stdout", 
       "text": [
        "", 
        "Volume: 6.023262e+04 [um^3]", 
        "Total volume (assuming rectangular): 7.022400e+04 [um^3]", 
        "volume fraction (assuming rectangular): 8.577212e-01 [um^3]", 
        "WARNING: assuming D=1."
       ]
      }, 
      {
       "output_type": "stream", 
       "stream": "stdout", 
       "text": [
        "", 
        "Adding in electrostatic component", 
        "pmf REMOVEME 0.000218,5.093993 "
       ]
      }, 
      {
       "output_type": "stream", 
       "stream": "stdout", 
       "text": [
        "", 
        "Intfact: exp(p); 0.000186,0.999632 "
       ]
      }, 
      {
       "output_type": "stream", 
       "stream": "stdout", 
       "text": [
        "", 
        "Using amg preconditioner instead of ilu"
       ]
      }, 
      {
       "output_type": "stream", 
       "stream": "stdout", 
       "text": [
        "", 
        "Writing "
       ]
      }, 
      {
       "output_type": "stream", 
       "stream": "stdout", 
       "text": [
        " ./Molecular_unit.pvd", 
        "omegasO"
       ]
      }, 
      {
       "output_type": "stream", 
       "stream": "stdout", 
       "text": [
        "", 
        "[ 39545.12691129  40072.02006082  38421.88858584]", 
        "omegas", 
        "[ 39545.12691129  40072.02006082  38421.88858584]", 
        "Reweighting by unit cell vol", 
        "d_eff= [0.56,0.57,0.55] for d=1.00", 
        "problem.volUnitCell 70224.0", 
        "[-19. -22.  21.]"
       ]
      }, 
      {
       "output_type": "stream", 
       "stream": "stdout", 
       "text": [
        "  maps to  (19.0, 22.0, -21.0)", 
        "[-19. -22.  21.]  maps to  (-19.0, 22.0, -21.0)", 
        "[-19.  22. -21.]  maps to  (-19.0, -22.0, 21.0)", 
        "Not loading subdomains, since don't think they're needed", 
        "Loading electrostatic potential from argument", 
        "Using q=-1.000000 for the ligand", 
        "Potential range: 0.000109 - 2.546997 "
       ]
      }, 
      {
       "output_type": "stream", 
       "stream": "stdout", 
       "text": [
        "", 
        "WARNING: Your potential does not seem to cross through 0 (reguirement at outer boundary", 
        "SA: 1.485589e+04 [um^2]"
       ]
      }, 
      {
       "output_type": "stream", 
       "stream": "stdout", 
       "text": [
        "", 
        "Volume: 6.023262e+04 [um^3]", 
        "Total volume (assuming rectangular): 7.022400e+04 [um^3]", 
        "volume fraction (assuming rectangular): 8.577212e-01 [um^3]", 
        "WARNING: assuming D=1."
       ]
      }, 
      {
       "output_type": "stream", 
       "stream": "stdout", 
       "text": [
        "", 
        "Adding in electrostatic component", 
        "pmf REMOVEME 0.000109,2.546997 "
       ]
      }, 
      {
       "output_type": "stream", 
       "stream": "stdout", 
       "text": [
        "", 
        "Intfact: exp(p); 0.013635,0.999816 "
       ]
      }, 
      {
       "output_type": "stream", 
       "stream": "stdout", 
       "text": [
        "", 
        "Using amg preconditioner instead of ilu"
       ]
      }, 
      {
       "output_type": "stream", 
       "stream": "stdout", 
       "text": [
        "", 
        "Writing "
       ]
      }, 
      {
       "output_type": "stream", 
       "stream": "stdout", 
       "text": [
        " ./Molecular_unit.pvd", 
        "omegasO"
       ]
      }, 
      {
       "output_type": "stream", 
       "stream": "stdout", 
       "text": [
        "", 
        "[ 43137.1027888   45803.82741236  43117.12732083]", 
        "omegas", 
        "[ 43137.1027888   45803.82741236  43117.12732083]", 
        "Reweighting by unit cell vol", 
        "d_eff= [0.61,0.65,0.61] for d=1.00", 
        "problem.volUnitCell 70224.0", 
        "[-19. -22.  21.]"
       ]
      }, 
      {
       "output_type": "stream", 
       "stream": "stdout", 
       "text": [
        "  maps to  (19.0, 22.0, -21.0)", 
        "[-19. -22.  21.]  maps to  (-19.0, 22.0, -21.0)", 
        "[-19.  22. -21.]  maps to  (-19.0, -22.0, 21.0)", 
        "Not loading subdomains, since don't think they're needed", 
        "Loading electrostatic potential from argument", 
        "Using q=0.000000 for the ligand", 
        "Potential range: -0.000000 - -0.000000 "
       ]
      }, 
      {
       "output_type": "stream", 
       "stream": "stdout", 
       "text": [
        "", 
        "SA: 1.485589e+04 [um^2]"
       ]
      }, 
      {
       "output_type": "stream", 
       "stream": "stdout", 
       "text": [
        "", 
        "Volume: 6.023262e+04 [um^3]", 
        "Total volume (assuming rectangular): 7.022400e+04 [um^3]", 
        "volume fraction (assuming rectangular): 8.577212e-01 [um^3]", 
        "WARNING: assuming D=1."
       ]
      }, 
      {
       "output_type": "stream", 
       "stream": "stdout", 
       "text": [
        "", 
        "Adding in electrostatic component", 
        "pmf REMOVEME -0.000000,-0.000000 "
       ]
      }, 
      {
       "output_type": "stream", 
       "stream": "stdout", 
       "text": [
        "", 
        "Intfact: exp(p); 1.000000,1.000000 "
       ]
      }, 
      {
       "output_type": "stream", 
       "stream": "stdout", 
       "text": [
        "", 
        "Using amg preconditioner instead of ilu"
       ]
      }, 
      {
       "output_type": "stream", 
       "stream": "stdout", 
       "text": [
        "", 
        "Writing "
       ]
      }, 
      {
       "output_type": "stream", 
       "stream": "stdout", 
       "text": [
        " ./Molecular_unit.pvd", 
        "omegasO"
       ]
      }, 
      {
       "output_type": "stream", 
       "stream": "stdout", 
       "text": [
        "", 
        "[ 53085.4987298   54533.17781236  54186.11511853]", 
        "omegas", 
        "[ 53085.4987298   54533.17781236  54186.11511853]", 
        "Reweighting by unit cell vol", 
        "d_eff= [0.76,0.78,0.77] for d=1.00", 
        "problem.volUnitCell 70224.0", 
        "[-19. -22.  21.]"
       ]
      }, 
      {
       "output_type": "stream", 
       "stream": "stdout", 
       "text": [
        "  maps to  (19.0, 22.0, -21.0)", 
        "[-19. -22.  21.]  maps to  (-19.0, 22.0, -21.0)", 
        "[-19.  22. -21.]  maps to  (-19.0, -22.0, 21.0)", 
        "Not loading subdomains, since don't think they're needed", 
        "Loading electrostatic potential from argument", 
        "Using q=1.000000 for the ligand", 
        "Potential range: -2.546997 - -0.000109 "
       ]
      }, 
      {
       "output_type": "stream", 
       "stream": "stdout", 
       "text": [
        "", 
        "WARNING: Your potential does not seem to cross through 0 (reguirement at outer boundary", 
        "SA: 1.485589e+04 [um^2]"
       ]
      }, 
      {
       "output_type": "stream", 
       "stream": "stdout", 
       "text": [
        "", 
        "Volume: 6.023262e+04 [um^3]", 
        "Total volume (assuming rectangular): 7.022400e+04 [um^3]", 
        "volume fraction (assuming rectangular): 8.577212e-01 [um^3]", 
        "WARNING: assuming D=1."
       ]
      }, 
      {
       "output_type": "stream", 
       "stream": "stdout", 
       "text": [
        "", 
        "Adding in electrostatic component", 
        "pmf REMOVEME -2.546997,-0.000109 "
       ]
      }, 
      {
       "output_type": "stream", 
       "stream": "stdout", 
       "text": [
        "", 
        "Intfact: exp(p); 1.000184,73.339830 "
       ]
      }, 
      {
       "output_type": "stream", 
       "stream": "stdout", 
       "text": [
        "", 
        "Using amg preconditioner instead of ilu"
       ]
      }, 
      {
       "output_type": "stream", 
       "stream": "stdout", 
       "text": [
        "", 
        "Writing "
       ]
      }, 
      {
       "output_type": "stream", 
       "stream": "stdout", 
       "text": [
        " ./Molecular_unit.pvd", 
        "omegasO"
       ]
      }, 
      {
       "output_type": "stream", 
       "stream": "stdout", 
       "text": [
        "", 
        "[ 83190.33969504  67875.85822937  79969.16412786]", 
        "omegas", 
        "[ 83190.33969504  67875.85822937  79969.16412786]", 
        "Reweighting by unit cell vol", 
        "d_eff= [1.18,0.97,1.14] for d=1.00", 
        "problem.volUnitCell 70224.0", 
        "[-19. -22.  21.]"
       ]
      }, 
      {
       "output_type": "stream", 
       "stream": "stdout", 
       "text": [
        "  maps to  (19.0, 22.0, -21.0)", 
        "[-19. -22.  21.]  maps to  (-19.0, 22.0, -21.0)", 
        "[-19.  22. -21.]  maps to  (-19.0, -22.0, 21.0)", 
        "Not loading subdomains, since don't think they're needed", 
        "Loading electrostatic potential from argument", 
        "Using q=2.000000 for the ligand", 
        "Potential range: -5.093993 - -0.000218 "
       ]
      }, 
      {
       "output_type": "stream", 
       "stream": "stdout", 
       "text": [
        "", 
        "WARNING: Your potential does not seem to cross through 0 (reguirement at outer boundary", 
        "SA: 1.485589e+04 [um^2]"
       ]
      }, 
      {
       "output_type": "stream", 
       "stream": "stdout", 
       "text": [
        "", 
        "Volume: 6.023262e+04 [um^3]", 
        "Total volume (assuming rectangular): 7.022400e+04 [um^3]", 
        "volume fraction (assuming rectangular): 8.577212e-01 [um^3]", 
        "WARNING: assuming D=1."
       ]
      }, 
      {
       "output_type": "stream", 
       "stream": "stdout", 
       "text": [
        "", 
        "Adding in electrostatic component", 
        "pmf REMOVEME -5.093993,-0.000218 "
       ]
      }, 
      {
       "output_type": "stream", 
       "stream": "stdout", 
       "text": [
        "", 
        "Intfact: exp(p); 1.000368,5378.730636 "
       ]
      }, 
      {
       "output_type": "stream", 
       "stream": "stdout", 
       "text": [
        "", 
        "Using amg preconditioner instead of ilu"
       ]
      }, 
      {
       "output_type": "stream", 
       "stream": "stdout", 
       "text": [
        "", 
        "Writing "
       ]
      }, 
      {
       "output_type": "stream", 
       "stream": "stdout", 
       "text": [
        " ./Molecular_unit.pvd", 
        "omegasO"
       ]
      }, 
      {
       "output_type": "stream", 
       "stream": "stdout", 
       "text": [
        "", 
        "[ 120518.23428581   77018.10173827  107426.33952755]", 
        "omegas", 
        "[ 120518.23428581   77018.10173827  107426.33952755]", 
        "Reweighting by unit cell vol", 
        "d_eff= [1.72,1.10,1.53] for d=1.00", 
        "problem.volUnitCell 70224.0", 
        "-7.1722355579"
       ]
      }, 
      {
       "output_type": "stream", 
       "stream": "stdout", 
       "text": [
        "", 
        "Solving linear form of PBE"
       ]
      }, 
      {
       "output_type": "stream", 
       "stream": "stdout", 
       "text": [
        "", 
        "[-19. -22.  21.]"
       ]
      }, 
      {
       "output_type": "stream", 
       "stream": "stdout", 
       "text": [
        "  maps to  (19.0, 22.0, -21.0)", 
        "[-19. -22.  21.]  maps to  (-19.0, 22.0, -21.0)", 
        "[-19.  22. -21.]  maps to  (-19.0, -22.0, 21.0)", 
        "Not loading subdomains, since don't think they're needed", 
        "Loading electrostatic potential from argument", 
        "Using q=-2.000000 for the ligand", 
        "Potential range: 0.148994 - 0.331252 "
       ]
      }, 
      {
       "output_type": "stream", 
       "stream": "stdout", 
       "text": [
        "", 
        "WARNING: Your potential does not seem to cross through 0 (reguirement at outer boundary", 
        "SA: 1.485589e+04 [um^2]"
       ]
      }, 
      {
       "output_type": "stream", 
       "stream": "stdout", 
       "text": [
        "", 
        "Volume: 6.023262e+04 [um^3]", 
        "Total volume (assuming rectangular): 7.022400e+04 [um^3]", 
        "volume fraction (assuming rectangular): 8.577212e-01 [um^3]", 
        "WARNING: assuming D=1."
       ]
      }, 
      {
       "output_type": "stream", 
       "stream": "stdout", 
       "text": [
        "", 
        "Adding in electrostatic component", 
        "pmf REMOVEME 0.148994,0.331252 "
       ]
      }, 
      {
       "output_type": "stream", 
       "stream": "stdout", 
       "text": [
        "", 
        "Intfact: exp(p); 0.572007,0.777825 "
       ]
      }, 
      {
       "output_type": "stream", 
       "stream": "stdout", 
       "text": [
        "", 
        "Using amg preconditioner instead of ilu"
       ]
      }, 
      {
       "output_type": "stream", 
       "stream": "stdout", 
       "text": [
        "", 
        "Writing "
       ]
      }, 
      {
       "output_type": "stream", 
       "stream": "stdout", 
       "text": [
        " ./Molecular_unit.pvd", 
        "omegasO"
       ]
      }, 
      {
       "output_type": "stream", 
       "stream": "stdout", 
       "text": [
        "", 
        "[ 33764.0346986   34632.13080111  34493.30268996]", 
        "omegas", 
        "[ 33764.0346986   34632.13080111  34493.30268996]", 
        "Reweighting by unit cell vol", 
        "d_eff= [0.48,0.49,0.49] for d=1.00", 
        "problem.volUnitCell 70224.0", 
        "[-19. -22.  21.]"
       ]
      }, 
      {
       "output_type": "stream", 
       "stream": "stdout", 
       "text": [
        "  maps to  (19.0, 22.0, -21.0)", 
        "[-19. -22.  21.]  maps to  (-19.0, 22.0, -21.0)", 
        "[-19.  22. -21.]  maps to  (-19.0, -22.0, 21.0)", 
        "Not loading subdomains, since don't think they're needed", 
        "Loading electrostatic potential from argument", 
        "Using q=-1.000000 for the ligand", 
        "Potential range: 0.074497 - 0.165626 "
       ]
      }, 
      {
       "output_type": "stream", 
       "stream": "stdout", 
       "text": [
        "", 
        "WARNING: Your potential does not seem to cross through 0 (reguirement at outer boundary", 
        "SA: 1.485589e+04 [um^2]"
       ]
      }, 
      {
       "output_type": "stream", 
       "stream": "stdout", 
       "text": [
        "", 
        "Volume: 6.023262e+04 [um^3]", 
        "Total volume (assuming rectangular): 7.022400e+04 [um^3]", 
        "volume fraction (assuming rectangular): 8.577212e-01 [um^3]", 
        "WARNING: assuming D=1."
       ]
      }, 
      {
       "output_type": "stream", 
       "stream": "stdout", 
       "text": [
        "", 
        "Adding in electrostatic component", 
        "pmf REMOVEME 0.074497,0.165626 "
       ]
      }, 
      {
       "output_type": "stream", 
       "stream": "stdout", 
       "text": [
        "", 
        "Intfact: exp(p); 0.756312,0.881944 "
       ]
      }, 
      {
       "output_type": "stream", 
       "stream": "stdout", 
       "text": [
        "", 
        "Using amg preconditioner instead of ilu"
       ]
      }, 
      {
       "output_type": "stream", 
       "stream": "stdout", 
       "text": [
        "", 
        "Writing "
       ]
      }, 
      {
       "output_type": "stream", 
       "stream": "stdout", 
       "text": [
        " ./Molecular_unit.pvd", 
        "omegasO"
       ]
      }, 
      {
       "output_type": "stream", 
       "stream": "stdout", 
       "text": [
        "", 
        "[ 42297.11864417  43418.92660521  43190.54702361]", 
        "omegas", 
        "[ 42297.11864417  43418.92660521  43190.54702361]", 
        "Reweighting by unit cell vol", 
        "d_eff= [0.60,0.62,0.62] for d=1.00", 
        "problem.volUnitCell 70224.0", 
        "[-19. -22.  21.]"
       ]
      }, 
      {
       "output_type": "stream", 
       "stream": "stdout", 
       "text": [
        "  maps to  (19.0, 22.0, -21.0)", 
        "[-19. -22.  21.]  maps to  (-19.0, 22.0, -21.0)", 
        "[-19.  22. -21.]  maps to  (-19.0, -22.0, 21.0)", 
        "Not loading subdomains, since don't think they're needed", 
        "Loading electrostatic potential from argument", 
        "Using q=0.000000 for the ligand", 
        "Potential range: -0.000000 - -0.000000 "
       ]
      }, 
      {
       "output_type": "stream", 
       "stream": "stdout", 
       "text": [
        "", 
        "SA: 1.485589e+04 [um^2]"
       ]
      }, 
      {
       "output_type": "stream", 
       "stream": "stdout", 
       "text": [
        "", 
        "Volume: 6.023262e+04 [um^3]", 
        "Total volume (assuming rectangular): 7.022400e+04 [um^3]", 
        "volume fraction (assuming rectangular): 8.577212e-01 [um^3]", 
        "WARNING: assuming D=1."
       ]
      }, 
      {
       "output_type": "stream", 
       "stream": "stdout", 
       "text": [
        "", 
        "Adding in electrostatic component", 
        "pmf REMOVEME -0.000000,-0.000000 "
       ]
      }, 
      {
       "output_type": "stream", 
       "stream": "stdout", 
       "text": [
        "", 
        "Intfact: exp(p); 1.000000,1.000000 "
       ]
      }, 
      {
       "output_type": "stream", 
       "stream": "stdout", 
       "text": [
        "", 
        "Using amg preconditioner instead of ilu"
       ]
      }, 
      {
       "output_type": "stream", 
       "stream": "stdout", 
       "text": [
        "", 
        "Writing "
       ]
      }, 
      {
       "output_type": "stream", 
       "stream": "stdout", 
       "text": [
        " ./Molecular_unit.pvd", 
        "omegasO"
       ]
      }, 
      {
       "output_type": "stream", 
       "stream": "stdout", 
       "text": [
        "", 
        "[ 53085.4987298   54533.17781236  54186.11511853]", 
        "omegas", 
        "[ 53085.4987298   54533.17781236  54186.11511853]", 
        "Reweighting by unit cell vol", 
        "d_eff= [0.76,0.78,0.77] for d=1.00", 
        "problem.volUnitCell 70224.0", 
        "[-19. -22.  21.]"
       ]
      }, 
      {
       "output_type": "stream", 
       "stream": "stdout", 
       "text": [
        "  maps to  (19.0, 22.0, -21.0)", 
        "[-19. -22.  21.]  maps to  (-19.0, 22.0, -21.0)", 
        "[-19.  22. -21.]  maps to  (-19.0, -22.0, 21.0)", 
        "Not loading subdomains, since don't think they're needed", 
        "Loading electrostatic potential from argument", 
        "Using q=1.000000 for the ligand", 
        "Potential range: -0.165626 - -0.074497 "
       ]
      }, 
      {
       "output_type": "stream", 
       "stream": "stdout", 
       "text": [
        "", 
        "WARNING: Your potential does not seem to cross through 0 (reguirement at outer boundary", 
        "SA: 1.485589e+04 [um^2]"
       ]
      }, 
      {
       "output_type": "stream", 
       "stream": "stdout", 
       "text": [
        "", 
        "Volume: 6.023262e+04 [um^3]", 
        "Total volume (assuming rectangular): 7.022400e+04 [um^3]", 
        "volume fraction (assuming rectangular): 8.577212e-01 [um^3]", 
        "WARNING: assuming D=1."
       ]
      }, 
      {
       "output_type": "stream", 
       "stream": "stdout", 
       "text": [
        "", 
        "Adding in electrostatic component", 
        "pmf REMOVEME -0.165626,-0.074497 "
       ]
      }, 
      {
       "output_type": "stream", 
       "stream": "stdout", 
       "text": [
        "", 
        "Intfact: exp(p); 1.133859,1.322206 "
       ]
      }, 
      {
       "output_type": "stream", 
       "stream": "stdout", 
       "text": [
        "", 
        "Using amg preconditioner instead of ilu"
       ]
      }, 
      {
       "output_type": "stream", 
       "stream": "stdout", 
       "text": [
        "", 
        "Writing "
       ]
      }, 
      {
       "output_type": "stream", 
       "stream": "stdout", 
       "text": [
        " ./Molecular_unit.pvd", 
        "omegasO"
       ]
      }, 
      {
       "output_type": "stream", 
       "stream": "stdout", 
       "text": [
        "", 
        "[ 66749.33040545  68616.12746918  68112.70592464]", 
        "omegas", 
        "[ 66749.33040545  68616.12746918  68112.70592464]", 
        "Reweighting by unit cell vol", 
        "d_eff= [0.95,0.98,0.97] for d=1.00", 
        "problem.volUnitCell 70224.0", 
        "[-19. -22.  21.]"
       ]
      }, 
      {
       "output_type": "stream", 
       "stream": "stdout", 
       "text": [
        "  maps to  (19.0, 22.0, -21.0)", 
        "[-19. -22.  21.]  maps to  (-19.0, 22.0, -21.0)", 
        "[-19.  22. -21.]  maps to  (-19.0, -22.0, 21.0)", 
        "Not loading subdomains, since don't think they're needed", 
        "Loading electrostatic potential from argument", 
        "Using q=2.000000 for the ligand", 
        "Potential range: -0.331252 - -0.148994 "
       ]
      }, 
      {
       "output_type": "stream", 
       "stream": "stdout", 
       "text": [
        "", 
        "WARNING: Your potential does not seem to cross through 0 (reguirement at outer boundary", 
        "SA: 1.485589e+04 [um^2]"
       ]
      }, 
      {
       "output_type": "stream", 
       "stream": "stdout", 
       "text": [
        "", 
        "Volume: 6.023262e+04 [um^3]", 
        "Total volume (assuming rectangular): 7.022400e+04 [um^3]", 
        "volume fraction (assuming rectangular): 8.577212e-01 [um^3]", 
        "WARNING: assuming D=1."
       ]
      }, 
      {
       "output_type": "stream", 
       "stream": "stdout", 
       "text": [
        "", 
        "Adding in electrostatic component", 
        "pmf REMOVEME -0.331252,-0.148994 "
       ]
      }, 
      {
       "output_type": "stream", 
       "stream": "stdout", 
       "text": [
        "", 
        "Intfact: exp(p); 1.285637,1.748230 "
       ]
      }, 
      {
       "output_type": "stream", 
       "stream": "stdout", 
       "text": [
        "", 
        "Using amg preconditioner instead of ilu"
       ]
      }, 
      {
       "output_type": "stream", 
       "stream": "stdout", 
       "text": [
        "", 
        "Writing "
       ]
      }, 
      {
       "output_type": "stream", 
       "stream": "stdout", 
       "text": [
        " ./Molecular_unit.pvd", 
        "omegasO"
       ]
      }, 
      {
       "output_type": "stream", 
       "stream": "stdout", 
       "text": [
        "", 
        "[ 84085.06413724  86491.75031897  85783.25913432]", 
        "omegas", 
        "[ 84085.06413724  86491.75031897  85783.25913432]", 
        "Reweighting by unit cell vol", 
        "d_eff= [1.20,1.23,1.22] for d=1.00", 
        "problem.volUnitCell 70224.0", 
        "-86.0631807404"
       ]
      }, 
      {
       "output_type": "stream", 
       "stream": "stdout", 
       "text": [
        "", 
        "Solving linear form of PBE"
       ]
      }, 
      {
       "output_type": "stream", 
       "stream": "stdout", 
       "text": [
        "", 
        "[-19. -22.  21.]"
       ]
      }, 
      {
       "output_type": "stream", 
       "stream": "stdout", 
       "text": [
        "  maps to  (19.0, 22.0, -21.0)", 
        "[-19. -22.  21.]  maps to  (-19.0, 22.0, -21.0)", 
        "[-19.  22. -21.]  maps to  (-19.0, -22.0, 21.0)", 
        "Not loading subdomains, since don't think they're needed", 
        "Loading electrostatic potential from argument", 
        "Using q=-2.000000 for the ligand", 
        "Potential range: -0.010238 - 3.974856 "
       ]
      }, 
      {
       "output_type": "stream", 
       "stream": "stdout", 
       "text": [
        "", 
        "SA: 1.485589e+04 [um^2]"
       ]
      }, 
      {
       "output_type": "stream", 
       "stream": "stdout", 
       "text": [
        "", 
        "Volume: 6.023262e+04 [um^3]", 
        "Total volume (assuming rectangular): 7.022400e+04 [um^3]", 
        "volume fraction (assuming rectangular): 8.577212e-01 [um^3]", 
        "WARNING: assuming D=1."
       ]
      }, 
      {
       "output_type": "stream", 
       "stream": "stdout", 
       "text": [
        "", 
        "Adding in electrostatic component", 
        "pmf REMOVEME -0.010238,3.974856 "
       ]
      }, 
      {
       "output_type": "stream", 
       "stream": "stdout", 
       "text": [
        "", 
        "Intfact: exp(p); 0.001227,1.017415 "
       ]
      }, 
      {
       "output_type": "stream", 
       "stream": "stdout", 
       "text": [
        "", 
        "Using amg preconditioner instead of ilu"
       ]
      }, 
      {
       "output_type": "stream", 
       "stream": "stdout", 
       "text": [
        "", 
        "Writing "
       ]
      }, 
      {
       "output_type": "stream", 
       "stream": "stdout", 
       "text": [
        " ./Molecular_unit.pvd", 
        "omegasO"
       ]
      }, 
      {
       "output_type": "stream", 
       "stream": "stdout", 
       "text": [
        "", 
        "[ 44921.13360547  48996.29106404  45736.12726771]", 
        "omegas", 
        "[ 44921.13360547  48996.29106404  45736.12726771]", 
        "Reweighting by unit cell vol", 
        "d_eff= [0.64,0.70,0.65] for d=1.00", 
        "problem.volUnitCell 70224.0", 
        "[-19. -22.  21.]"
       ]
      }, 
      {
       "output_type": "stream", 
       "stream": "stdout", 
       "text": [
        "  maps to  (19.0, 22.0, -21.0)", 
        "[-19. -22.  21.]  maps to  (-19.0, 22.0, -21.0)", 
        "[-19.  22. -21.]  maps to  (-19.0, -22.0, 21.0)", 
        "Not loading subdomains, since don't think they're needed", 
        "Loading electrostatic potential from argument", 
        "Using q=-1.000000 for the ligand", 
        "Potential range: -0.005119 - 1.987428 "
       ]
      }, 
      {
       "output_type": "stream", 
       "stream": "stdout", 
       "text": [
        "", 
        "SA: 1.485589e+04 [um^2]"
       ]
      }, 
      {
       "output_type": "stream", 
       "stream": "stdout", 
       "text": [
        "", 
        "Volume: 6.023262e+04 [um^3]", 
        "Total volume (assuming rectangular): 7.022400e+04 [um^3]", 
        "volume fraction (assuming rectangular): 8.577212e-01 [um^3]", 
        "WARNING: assuming D=1."
       ]
      }, 
      {
       "output_type": "stream", 
       "stream": "stdout", 
       "text": [
        "", 
        "Adding in electrostatic component", 
        "pmf REMOVEME -0.005119,1.987428 "
       ]
      }, 
      {
       "output_type": "stream", 
       "stream": "stdout", 
       "text": [
        "", 
        "Intfact: exp(p); 0.035032,1.008670 "
       ]
      }, 
      {
       "output_type": "stream", 
       "stream": "stdout", 
       "text": [
        "", 
        "Using amg preconditioner instead of ilu"
       ]
      }, 
      {
       "output_type": "stream", 
       "stream": "stdout", 
       "text": [
        "", 
        "Writing "
       ]
      }, 
      {
       "output_type": "stream", 
       "stream": "stdout", 
       "text": [
        " ./Molecular_unit.pvd", 
        "omegasO"
       ]
      }, 
      {
       "output_type": "stream", 
       "stream": "stdout", 
       "text": [
        "", 
        "[ 47295.86641916  51083.65570894  48435.44026642]", 
        "omegas", 
        "[ 47295.86641916  51083.65570894  48435.44026642]", 
        "Reweighting by unit cell vol", 
        "d_eff= [0.67,0.73,0.69] for d=1.00", 
        "problem.volUnitCell 70224.0", 
        "[-19. -22.  21.]"
       ]
      }, 
      {
       "output_type": "stream", 
       "stream": "stdout", 
       "text": [
        "  maps to  (19.0, 22.0, -21.0)", 
        "[-19. -22.  21.]  maps to  (-19.0, 22.0, -21.0)", 
        "[-19.  22. -21.]  maps to  (-19.0, -22.0, 21.0)", 
        "Not loading subdomains, since don't think they're needed", 
        "Loading electrostatic potential from argument", 
        "Using q=0.000000 for the ligand", 
        "Potential range: -0.000000 - -0.000000 "
       ]
      }, 
      {
       "output_type": "stream", 
       "stream": "stdout", 
       "text": [
        "", 
        "SA: 1.485589e+04 [um^2]"
       ]
      }, 
      {
       "output_type": "stream", 
       "stream": "stdout", 
       "text": [
        "", 
        "Volume: 6.023262e+04 [um^3]", 
        "Total volume (assuming rectangular): 7.022400e+04 [um^3]", 
        "volume fraction (assuming rectangular): 8.577212e-01 [um^3]", 
        "WARNING: assuming D=1."
       ]
      }, 
      {
       "output_type": "stream", 
       "stream": "stdout", 
       "text": [
        "", 
        "Adding in electrostatic component", 
        "pmf REMOVEME -0.000000,-0.000000 "
       ]
      }, 
      {
       "output_type": "stream", 
       "stream": "stdout", 
       "text": [
        "", 
        "Intfact: exp(p); 1.000000,1.000000 "
       ]
      }, 
      {
       "output_type": "stream", 
       "stream": "stdout", 
       "text": [
        "", 
        "Using amg preconditioner instead of ilu"
       ]
      }, 
      {
       "output_type": "stream", 
       "stream": "stdout", 
       "text": [
        "", 
        "Writing "
       ]
      }, 
      {
       "output_type": "stream", 
       "stream": "stdout", 
       "text": [
        " ./Molecular_unit.pvd", 
        "omegasO"
       ]
      }, 
      {
       "output_type": "stream", 
       "stream": "stdout", 
       "text": [
        "", 
        "[ 53085.4987298   54533.17781236  54186.11511853]", 
        "omegas", 
        "[ 53085.4987298   54533.17781236  54186.11511853]", 
        "Reweighting by unit cell vol", 
        "d_eff= [0.76,0.78,0.77] for d=1.00", 
        "problem.volUnitCell 70224.0", 
        "[-19. -22.  21.]"
       ]
      }, 
      {
       "output_type": "stream", 
       "stream": "stdout", 
       "text": [
        "  maps to  (19.0, 22.0, -21.0)", 
        "[-19. -22.  21.]  maps to  (-19.0, 22.0, -21.0)", 
        "[-19.  22. -21.]  maps to  (-19.0, -22.0, 21.0)", 
        "Not loading subdomains, since don't think they're needed", 
        "Loading electrostatic potential from argument", 
        "Using q=1.000000 for the ligand", 
        "Potential range: -1.987428 - 0.005119 "
       ]
      }, 
      {
       "output_type": "stream", 
       "stream": "stdout", 
       "text": [
        "", 
        "SA: 1.485589e+04 [um^2]"
       ]
      }, 
      {
       "output_type": "stream", 
       "stream": "stdout", 
       "text": [
        "", 
        "Volume: 6.023262e+04 [um^3]", 
        "Total volume (assuming rectangular): 7.022400e+04 [um^3]", 
        "volume fraction (assuming rectangular): 8.577212e-01 [um^3]", 
        "WARNING: assuming D=1."
       ]
      }, 
      {
       "output_type": "stream", 
       "stream": "stdout", 
       "text": [
        "", 
        "Adding in electrostatic component", 
        "pmf REMOVEME -1.987428,0.005119 "
       ]
      }, 
      {
       "output_type": "stream", 
       "stream": "stdout", 
       "text": [
        "", 
        "Intfact: exp(p); 0.991405,28.544976 "
       ]
      }, 
      {
       "output_type": "stream", 
       "stream": "stdout", 
       "text": [
        "", 
        "Using amg preconditioner instead of ilu"
       ]
      }, 
      {
       "output_type": "stream", 
       "stream": "stdout", 
       "text": [
        "", 
        "Writing "
       ]
      }, 
      {
       "output_type": "stream", 
       "stream": "stdout", 
       "text": [
        " ./Molecular_unit.pvd", 
        "omegasO"
       ]
      }, 
      {
       "output_type": "stream", 
       "stream": "stdout", 
       "text": [
        "", 
        "[ 66627.80670646  61112.21582713  65683.82420296]", 
        "omegas", 
        "[ 66627.80670646  61112.21582713  65683.82420296]", 
        "Reweighting by unit cell vol", 
        "d_eff= [0.95,0.87,0.94] for d=1.00", 
        "problem.volUnitCell 70224.0", 
        "[-19. -22.  21.]"
       ]
      }, 
      {
       "output_type": "stream", 
       "stream": "stdout", 
       "text": [
        "  maps to  (19.0, 22.0, -21.0)", 
        "[-19. -22.  21.]  maps to  (-19.0, 22.0, -21.0)", 
        "[-19.  22. -21.]  maps to  (-19.0, -22.0, 21.0)", 
        "Not loading subdomains, since don't think they're needed", 
        "Loading electrostatic potential from argument", 
        "Using q=2.000000 for the ligand", 
        "Potential range: -3.974856 - 0.010238 "
       ]
      }, 
      {
       "output_type": "stream", 
       "stream": "stdout", 
       "text": [
        "", 
        "SA: 1.485589e+04 [um^2]"
       ]
      }, 
      {
       "output_type": "stream", 
       "stream": "stdout", 
       "text": [
        "", 
        "Volume: 6.023262e+04 [um^3]", 
        "Total volume (assuming rectangular): 7.022400e+04 [um^3]", 
        "volume fraction (assuming rectangular): 8.577212e-01 [um^3]", 
        "WARNING: assuming D=1."
       ]
      }, 
      {
       "output_type": "stream", 
       "stream": "stdout", 
       "text": [
        "", 
        "Adding in electrostatic component", 
        "pmf REMOVEME -3.974856,0.010238 "
       ]
      }, 
      {
       "output_type": "stream", 
       "stream": "stdout", 
       "text": [
        "", 
        "Intfact: exp(p); 0.982884,814.815638 "
       ]
      }, 
      {
       "output_type": "stream", 
       "stream": "stdout", 
       "text": [
        "", 
        "Using amg preconditioner instead of ilu"
       ]
      }, 
      {
       "output_type": "stream", 
       "stream": "stdout", 
       "text": [
        "", 
        "Writing "
       ]
      }, 
      {
       "output_type": "stream", 
       "stream": "stdout", 
       "text": [
        " ./Molecular_unit.pvd", 
        "omegasO"
       ]
      }, 
      {
       "output_type": "stream", 
       "stream": "stdout", 
       "text": [
        "", 
        "[ 79593.73173571  67280.71205499  76355.57942215]", 
        "omegas", 
        "[ 79593.73173571  67280.71205499  76355.57942215]", 
        "Reweighting by unit cell vol", 
        "d_eff= [1.13,0.96,1.09] for d=1.00", 
        "problem.volUnitCell 70224.0", 
        "-4.38783112574"
       ]
      }, 
      {
       "output_type": "stream", 
       "stream": "stdout", 
       "text": [
        "", 
        "Solving linear form of PBE"
       ]
      }, 
      {
       "output_type": "stream", 
       "stream": "stdout", 
       "text": [
        "", 
        "[-19. -22.  21.]"
       ]
      }, 
      {
       "output_type": "stream", 
       "stream": "stdout", 
       "text": [
        "  maps to  (19.0, 22.0, -21.0)", 
        "[-19. -22.  21.]  maps to  (-19.0, 22.0, -21.0)", 
        "[-19.  22. -21.]  maps to  (-19.0, -22.0, 21.0)", 
        "Not loading subdomains, since don't think they're needed", 
        "Loading electrostatic potential from argument", 
        "Using q=-2.000000 for the ligand", 
        "Potential range: 0.020557 - 0.202653 "
       ]
      }, 
      {
       "output_type": "stream", 
       "stream": "stdout", 
       "text": [
        "", 
        "WARNING: Your potential does not seem to cross through 0 (reguirement at outer boundary", 
        "SA: 1.485589e+04 [um^2]"
       ]
      }, 
      {
       "output_type": "stream", 
       "stream": "stdout", 
       "text": [
        "", 
        "Volume: 6.023262e+04 [um^3]", 
        "Total volume (assuming rectangular): 7.022400e+04 [um^3]", 
        "volume fraction (assuming rectangular): 8.577212e-01 [um^3]", 
        "WARNING: assuming D=1."
       ]
      }, 
      {
       "output_type": "stream", 
       "stream": "stdout", 
       "text": [
        "", 
        "Adding in electrostatic component", 
        "pmf REMOVEME 0.020557,0.202653 "
       ]
      }, 
      {
       "output_type": "stream", 
       "stream": "stdout", 
       "text": [
        "", 
        "Intfact: exp(p); 0.710531,0.965928 "
       ]
      }, 
      {
       "output_type": "stream", 
       "stream": "stdout", 
       "text": [
        "", 
        "Using amg preconditioner instead of ilu"
       ]
      }, 
      {
       "output_type": "stream", 
       "stream": "stdout", 
       "text": [
        "", 
        "Writing "
       ]
      }, 
      {
       "output_type": "stream", 
       "stream": "stdout", 
       "text": [
        " ./Molecular_unit.pvd", 
        "omegasO"
       ]
      }, 
      {
       "output_type": "stream", 
       "stream": "stdout", 
       "text": [
        "", 
        "[ 42508.98317354  43595.86910165  43426.16607103]", 
        "omegas", 
        "[ 42508.98317354  43595.86910165  43426.16607103]", 
        "Reweighting by unit cell vol", 
        "d_eff= [0.61,0.62,0.62] for d=1.00", 
        "problem.volUnitCell 70224.0", 
        "[-19. -22.  21.]"
       ]
      }, 
      {
       "output_type": "stream", 
       "stream": "stdout", 
       "text": [
        "  maps to  (19.0, 22.0, -21.0)", 
        "[-19. -22.  21.]  maps to  (-19.0, 22.0, -21.0)", 
        "[-19.  22. -21.]  maps to  (-19.0, -22.0, 21.0)", 
        "Not loading subdomains, since don't think they're needed", 
        "Loading electrostatic potential from argument", 
        "Using q=-1.000000 for the ligand", 
        "Potential range: 0.010278 - 0.101327 "
       ]
      }, 
      {
       "output_type": "stream", 
       "stream": "stdout", 
       "text": [
        "", 
        "WARNING: Your potential does not seem to cross through 0 (reguirement at outer boundary", 
        "SA: 1.485589e+04 [um^2]"
       ]
      }, 
      {
       "output_type": "stream", 
       "stream": "stdout", 
       "text": [
        "", 
        "Volume: 6.023262e+04 [um^3]", 
        "Total volume (assuming rectangular): 7.022400e+04 [um^3]", 
        "volume fraction (assuming rectangular): 8.577212e-01 [um^3]", 
        "WARNING: assuming D=1."
       ]
      }, 
      {
       "output_type": "stream", 
       "stream": "stdout", 
       "text": [
        "", 
        "Adding in electrostatic component", 
        "pmf REMOVEME 0.010278,0.101327 "
       ]
      }, 
      {
       "output_type": "stream", 
       "stream": "stdout", 
       "text": [
        "", 
        "Intfact: exp(p); 0.842930,0.982816 "
       ]
      }, 
      {
       "output_type": "stream", 
       "stream": "stdout", 
       "text": [
        "", 
        "Using amg preconditioner instead of ilu"
       ]
      }, 
      {
       "output_type": "stream", 
       "stream": "stdout", 
       "text": [
        "", 
        "Writing "
       ]
      }, 
      {
       "output_type": "stream", 
       "stream": "stdout", 
       "text": [
        " ./Molecular_unit.pvd", 
        "omegasO"
       ]
      }, 
      {
       "output_type": "stream", 
       "stream": "stdout", 
       "text": [
        "", 
        "[ 47450.33788815  48705.82789303  48452.34810158]", 
        "omegas", 
        "[ 47450.33788815  48705.82789303  48452.34810158]", 
        "Reweighting by unit cell vol", 
        "d_eff= [0.68,0.69,0.69] for d=1.00", 
        "problem.volUnitCell 70224.0", 
        "[-19. -22.  21.]"
       ]
      }, 
      {
       "output_type": "stream", 
       "stream": "stdout", 
       "text": [
        "  maps to  (19.0, 22.0, -21.0)", 
        "[-19. -22.  21.]  maps to  (-19.0, 22.0, -21.0)", 
        "[-19.  22. -21.]  maps to  (-19.0, -22.0, 21.0)", 
        "Not loading subdomains, since don't think they're needed", 
        "Loading electrostatic potential from argument", 
        "Using q=0.000000 for the ligand", 
        "Potential range: -0.000000 - -0.000000 "
       ]
      }, 
      {
       "output_type": "stream", 
       "stream": "stdout", 
       "text": [
        "", 
        "SA: 1.485589e+04 [um^2]"
       ]
      }, 
      {
       "output_type": "stream", 
       "stream": "stdout", 
       "text": [
        "", 
        "Volume: 6.023262e+04 [um^3]", 
        "Total volume (assuming rectangular): 7.022400e+04 [um^3]", 
        "volume fraction (assuming rectangular): 8.577212e-01 [um^3]", 
        "WARNING: assuming D=1."
       ]
      }, 
      {
       "output_type": "stream", 
       "stream": "stdout", 
       "text": [
        "", 
        "Adding in electrostatic component", 
        "pmf REMOVEME -0.000000,-0.000000 "
       ]
      }, 
      {
       "output_type": "stream", 
       "stream": "stdout", 
       "text": [
        "", 
        "Intfact: exp(p); 1.000000,1.000000 "
       ]
      }, 
      {
       "output_type": "stream", 
       "stream": "stdout", 
       "text": [
        "", 
        "Using amg preconditioner instead of ilu"
       ]
      }, 
      {
       "output_type": "stream", 
       "stream": "stdout", 
       "text": [
        "", 
        "Writing "
       ]
      }, 
      {
       "output_type": "stream", 
       "stream": "stdout", 
       "text": [
        " ./Molecular_unit.pvd", 
        "omegasO"
       ]
      }, 
      {
       "output_type": "stream", 
       "stream": "stdout", 
       "text": [
        "", 
        "[ 53085.4987298   54533.17781236  54186.11511853]", 
        "omegas", 
        "[ 53085.4987298   54533.17781236  54186.11511853]", 
        "Reweighting by unit cell vol", 
        "d_eff= [0.76,0.78,0.77] for d=1.00", 
        "problem.volUnitCell 70224.0", 
        "[-19. -22.  21.]"
       ]
      }, 
      {
       "output_type": "stream", 
       "stream": "stdout", 
       "text": [
        "  maps to  (19.0, 22.0, -21.0)", 
        "[-19. -22.  21.]  maps to  (-19.0, 22.0, -21.0)", 
        "[-19.  22. -21.]  maps to  (-19.0, -22.0, 21.0)", 
        "Not loading subdomains, since don't think they're needed", 
        "Loading electrostatic potential from argument", 
        "Using q=1.000000 for the ligand", 
        "Potential range: -0.101327 - -0.010278 "
       ]
      }, 
      {
       "output_type": "stream", 
       "stream": "stdout", 
       "text": [
        "", 
        "WARNING: Your potential does not seem to cross through 0 (reguirement at outer boundary", 
        "SA: 1.485589e+04 [um^2]"
       ]
      }, 
      {
       "output_type": "stream", 
       "stream": "stdout", 
       "text": [
        "", 
        "Volume: 6.023262e+04 [um^3]", 
        "Total volume (assuming rectangular): 7.022400e+04 [um^3]", 
        "volume fraction (assuming rectangular): 8.577212e-01 [um^3]", 
        "WARNING: assuming D=1."
       ]
      }, 
      {
       "output_type": "stream", 
       "stream": "stdout", 
       "text": [
        "", 
        "Adding in electrostatic component", 
        "pmf REMOVEME -0.101327,-0.010278 "
       ]
      }, 
      {
       "output_type": "stream", 
       "stream": "stdout", 
       "text": [
        "", 
        "Intfact: exp(p); 1.017484,1.186338 "
       ]
      }, 
      {
       "output_type": "stream", 
       "stream": "stdout", 
       "text": [
        "", 
        "Using amg preconditioner instead of ilu"
       ]
      }, 
      {
       "output_type": "stream", 
       "stream": "stdout", 
       "text": [
        "", 
        "Writing "
       ]
      }, 
      {
       "output_type": "stream", 
       "stream": "stdout", 
       "text": [
        " ./Molecular_unit.pvd", 
        "omegasO"
       ]
      }, 
      {
       "output_type": "stream", 
       "stream": "stdout", 
       "text": [
        "", 
        "[ 59523.58324165  61191.15571717  60739.20929443]", 
        "omegas", 
        "[ 59523.58324165  61191.15571717  60739.20929443]", 
        "Reweighting by unit cell vol", 
        "d_eff= [0.85,0.87,0.86] for d=1.00", 
        "problem.volUnitCell 70224.0", 
        "[-19. -22.  21.]"
       ]
      }, 
      {
       "output_type": "stream", 
       "stream": "stdout", 
       "text": [
        "  maps to  (19.0, 22.0, -21.0)", 
        "[-19. -22.  21.]  maps to  (-19.0, 22.0, -21.0)", 
        "[-19.  22. -21.]  maps to  (-19.0, -22.0, 21.0)", 
        "Not loading subdomains, since don't think they're needed", 
        "Loading electrostatic potential from argument", 
        "Using q=2.000000 for the ligand", 
        "Potential range: -0.202653 - -0.020557 "
       ]
      }, 
      {
       "output_type": "stream", 
       "stream": "stdout", 
       "text": [
        "", 
        "WARNING: Your potential does not seem to cross through 0 (reguirement at outer boundary", 
        "SA: 1.485589e+04 [um^2]"
       ]
      }, 
      {
       "output_type": "stream", 
       "stream": "stdout", 
       "text": [
        "", 
        "Volume: 6.023262e+04 [um^3]", 
        "Total volume (assuming rectangular): 7.022400e+04 [um^3]", 
        "volume fraction (assuming rectangular): 8.577212e-01 [um^3]", 
        "WARNING: assuming D=1."
       ]
      }, 
      {
       "output_type": "stream", 
       "stream": "stdout", 
       "text": [
        "", 
        "Adding in electrostatic component", 
        "pmf REMOVEME -0.202653,-0.020557 "
       ]
      }, 
      {
       "output_type": "stream", 
       "stream": "stdout", 
       "text": [
        "", 
        "Intfact: exp(p); 1.035274,1.407398 "
       ]
      }, 
      {
       "output_type": "stream", 
       "stream": "stdout", 
       "text": [
        "", 
        "Using amg preconditioner instead of ilu"
       ]
      }, 
      {
       "output_type": "stream", 
       "stream": "stdout", 
       "text": [
        "", 
        "Writing "
       ]
      }, 
      {
       "output_type": "stream", 
       "stream": "stdout", 
       "text": [
        " ./Molecular_unit.pvd", 
        "omegasO"
       ]
      }, 
      {
       "output_type": "stream", 
       "stream": "stdout", 
       "text": [
        "", 
        "[ 66892.01227904  68812.1067251   68242.2355213 ]", 
        "omegas", 
        "[ 66892.01227904  68812.1067251   68242.2355213 ]", 
        "Reweighting by unit cell vol", 
        "d_eff= [0.95,0.98,0.97] for d=1.00", 
        "problem.volUnitCell 70224.0"
       ]
      }
     ], 
     "prompt_number": 5
    }, 
    {
     "cell_type": "code", 
     "collapsed": false, 
     "input": [
      "np.shape(allDsNonUnif)", 
      "allDs = allDsNonUnif[:,[0,2,4]]", 
      "allDs"
     ], 
     "language": "python", 
     "outputs": [
      {
       "output_type": "pyout", 
       "prompt_number": 6, 
       "text": [
        "array([[  5.54151914e-09,   7.55945243e-01,   1.37586415e+08],", 
        "       [  2.04012378e-07,   7.55945243e-01,   5.82848287e+06],", 
        "       [  1.44677772e-04,   7.55945243e-01,   7.57821200e+04],", 
        "       [  1.75408853e-02,   7.55945243e-01,   1.32759332e+03],", 
        "       [  1.65933865e-01,   7.55945243e-01,   6.69966227e+01],", 
        "       [  4.18249771e-01,   7.55945243e-01,   5.11654091e+00],", 
        "       [  5.63128374e-01,   7.55945243e-01,   1.71619723e+00],", 
        "       [  6.39683493e-01,   7.55945243e-01,   1.13342635e+00]])"
       ]
      }
     ], 
     "prompt_number": 6
    }, 
    {
     "cell_type": "code", 
     "collapsed": false, 
     "input": [
      "print Dinert"
     ], 
     "language": "python", 
     "outputs": [
      {
       "ename": "NameError", 
       "evalue": "name 'Dinert' is not defined", 
       "output_type": "pyerr", 
       "traceback": [
        "\u001b[0;31m---------------------------------------------------------------------------\u001b[0m\n\u001b[0;31mNameError\u001b[0m                                 Traceback (most recent call last)", 
        "\u001b[0;32m/u2/huskeypm/Sources/smolhomog/example/tnc/<ipython-input-85-6ae29fb2b57d>\u001b[0m in \u001b[0;36m<module>\u001b[0;34m()\u001b[0m\n\u001b[0;32m----> 1\u001b[0;31m \u001b[0;32mprint\u001b[0m \u001b[0mDinert\u001b[0m\u001b[0;34m\u001b[0m\u001b[0m\n\u001b[0m", 
        "\u001b[0;31mNameError\u001b[0m: name 'Dinert' is not defined"
       ]
      }
     ], 
     "prompt_number": 85
    }, 
    {
     "cell_type": "code", 
     "collapsed": false, 
     "input": [
      "", 
      "# vs ionic strn ", 
      "fig=plt.figure()", 
      "cols = ['r-','k','b-']", 
      "allDs = allDsNonUnif[:,[0,2,4]]", 
      "for i in range(3):", 
      "    plt.plot(ionCs,allDs[:,i],cols[i],label=\"z=%d, nonunif\" % z[i])", 
      "cols = ['r.','k.','b.']", 
      "", 
      "allDs = allDsUnif[:,[0,2,4]]", 
      "for i in range(3):", 
      "    plt.plot(ionCs,allDs[:,i],cols[i],label=\"z=%d, unif\" % z[i])", 
      "", 
      "plt.xlim([0.01,1])", 
      "plt.xscale(\"log\")", 
      "plt.yscale(\"log\")  ", 
      "plt.xlabel(\"[I] [M]\") ", 
      "plt.ylabel(\"D$_x$\")", 
      "plt.title(\"Diffusion about Troponin C\") ", 
      "plt.legend( bbox_to_anchor=(0.85,-0.2),ncol=2)", 
      "", 
      "# vs HS bound", 
      "", 
      "a = plt.axes([0.6, 0.65, .3, .2])  ", 
      "HSBound = 2*volFrac/(3-volFrac)", 
      "Dinert = allDs[1,1]", 
      "w = 0.5", 
      "plt.bar(0,Dinert,w, color='k')", 
      "plt.bar(w,HSBound,w,color='orange')", 
      "plt.yticks(np.arange(5)*0.25)", 
      "plt.ylabel(\"D$_x$\")", 
      "a.set_xticks(np.arange(2)*w+0.5*w)", 
      "a.set_xticklabels( ('Actual', 'HS Bound'))", 
      "", 
      "", 
      "axicon = fig.add_axes([0.6,0.13,0.35,0.35])", 
      "import matplotlib.image as mpimg", 
      "img=mpimg.imread('/net/home/huskeypm/papers/math/gillettekekenes/GiKe12b/figs/tnc_snapshot.png')", 
      "axicon.imshow(img)", 
      "axicon.set_xticks([])", 
      "axicon.set_yticks([])    ", 
      "    ", 
      "plt.gcf().savefig(\"prlFig3.png\",dpi=300)"
     ], 
     "language": "python", 
     "outputs": [
      {
       "output_type": "display_data", 
       "png": "[encoded data removed]"
      }
     ], 
     "prompt_number": 7
    }, 
    {
     "cell_type": "code", 
     "collapsed": true, 
     "input": [
      "", 
      "", 
      "", 
      "", 
      "    ", 
      "i=0", 
      "cols = ['r-','r--','k','b--','b-']", 
      "if(1):", 
      "  for i in range(nLigs):", 
      "    plt.plot(ionCs,allDs[:,i],cols[i],label=\"z=%d\" % z[i])", 
      "", 
      "  plt.xscale(\"log\")", 
      "  plt.yscale(\"log\")  ", 
      "  plt.xlabel(\"[I] [M]\") ", 
      "  plt.ylabel(\"D$_x$\")", 
      "  plt.title(\"Diffusion about non-uniformly charged protein\") ", 
      "  plt.legend(loc=0)", 
      "    ", 
      "  a = plt.axes([0.6, 0.65, .3, .2])  ", 
      "#plt.figure()", 
      "", 
      "for i in range(nLigs):", 
      "  plt.plot(ionCs,allDs[:,i],cols[i],label=\"z=%d\" % z[i])", 
      "#plt.xscale(\"log\")", 
      "#plt.yscale(\"log\")  ", 
      "plt.xlim([0.05,0.3])", 
      "plt.ylim([0.8,1])", 
      "plt.yticks([0.80,0.9,1.])", 
      "plt.xticks([0.05,0.15,0.25])", 
      "    ", 
      "plt.gcf().savefig(\"real_tnc.png\") ", 
      "", 
      "", 
      "", 
      "    ", 
      "i=0", 
      "cols = ['r-','r--','k','b--','b-']", 
      "if(1):", 
      "  for i in range(nLigs):", 
      "    plt.plot(ionCs,allDs[:,i],cols[i],label=\"z=%d\" % z[i])", 
      "", 
      "  plt.xscale(\"log\")", 
      "  plt.yscale(\"log\")  ", 
      "  plt.xlabel(\"[I] [M]\") ", 
      "  plt.ylabel(\"D$_x$\")", 
      "  plt.title(\"Diffusion about non-uniformly charged protein\") ", 
      "  plt.legend(loc=0)", 
      "    ", 
      "  a = plt.axes([0.6, 0.65, .3, .2])  ", 
      "#plt.figure()", 
      "", 
      "for i in range(nLigs):", 
      "  plt.plot(ionCs,allDs[:,i],cols[i],label=\"z=%d\" % z[i])", 
      "#plt.xscale(\"log\")", 
      "#plt.yscale(\"log\")  ", 
      "plt.xlim([0.05,0.3])", 
      "plt.ylim([0.8,1])", 
      "plt.yticks([0.80,0.9,1.])", 
      "plt.xticks([0.05,0.15,0.25])", 
      "    ", 
      "plt.gcf().savefig(\"real_tnc.png\") "
     ], 
     "language": "python", 
     "outputs": [], 
     "prompt_number": 66
    }, 
    {
     "cell_type": "code", 
     "collapsed": true, 
     "input": [
      "range(nLigs)"
     ], 
     "language": "python", 
     "outputs": [], 
     "prompt_number": 22
    }, 
    {
     "cell_type": "code", 
     "collapsed": true, 
     "input": [], 
     "language": "python", 
     "outputs": [], 
     "prompt_number": "&nbsp;"
    }
   ]
  }
 ]
}