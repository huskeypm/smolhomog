{
 "metadata": {
  "name": "tnc"
 }, 
 "nbformat": 2, 
 "worksheets": [
  {
   "cells": [
    {
     "cell_type": "code", 
     "collapsed": false, 
     "input": [
      "# for chemcca11 only", 
      "import sys", 
      "from dolfin import *", 
      "sys.path.append(\"/net/home/huskeypm/bin/grids/\")", 
      "sys.path.append(\"/net/home/huskeypm/Sources/smolhomog/example/\")", 
      "sys.path.append(\"/net/home/huskeypm/Sources/homogenization/\")", 
      "import caseRunner as cr # just for PB stuff", 
      "", 
      "", 
      "cr.dims=3", 
      "## make mesh ", 
      "makeMesh=False", 
      "if(makeMesh):", 
      "  #import gamer  ", 
      "  import makeCubicMeshPDB as mm", 
      "  boxdims =np.array([50,46,46])", 
      "  # verified that mesh is centered  ", 
      "  meshFile = mm.makeExteriorMesh(\"tnc.pdb\",molratio=1,boxdim=boxdims,type=\"box\")", 
      "  print \"WARNING: will want to remove <domain> section  from xml file and resave\""
     ], 
     "language": "python", 
     "outputs": [], 
     "prompt_number": 69
    }, 
    {
     "cell_type": "code", 
     "collapsed": false, 
     "input": [
      "meshFile = \"tnc_mesh.xml\"", 
      "", 
      "mode = \"uniform\" ", 
      "mode = \"local\"", 
      "## assign charge ", 
      "cr.activeSite = np.array([4.435000,15.388000,-6.019000])", 
      "class allBoundary(SubDomain):", 
      "  def inside(self,x,on_boundary):", 
      "        #if on_boundary:", 
      "        #  print 1", 
      "        return on_boundary", 
      "    ", 
      "class innerBoundary(SubDomain):", 
      "  def inside(self,x,on_boundary):", 
      "    inner = np.linalg.norm(x-cr.activeSite) < 10.", 
      "    return inner and on_boundary", 
      "", 
      "mesh = Mesh(meshFile)", 
      "V = FunctionSpace(mesh,\"CG\",1)", 
      "", 
      "# Get total SA first ", 
      "subdomainsTemp = MeshFunction(\"uint\",mesh,3-1)", 
      "allboundary = allBoundary()", 
      "allMarker = 1", 
      "allboundary.mark(subdomainsTemp,allMarker)", 
      "ds = Measure(\"ds\")[subdomainsTemp] ", 
      "totSA =  assemble(Constant(1)*ds(allMarker),mesh=mesh)", 
      "", 
      "subdomains = MeshFunction(\"uint\",mesh,3-1)", 
      "boundary = innerBoundary();", 
      "chargeMarker = 2", 
      "boundary.mark(subdomains,chargeMarker)", 
      "ds = Measure(\"ds\")[subdomains] ", 
      "integratedDensity= assemble(Constant(1)*ds(chargeMarker),mesh=mesh)", 
      "", 
      "checkBC=True", 
      "if(checkBC):", 
      "    import view ", 
      "    bcs = [DirichletBC(V,Constant(1.),subdomains,chargeMarker)]", 
      "    view.PrintBoundary(mesh,bcs)", 
      "", 
      "", 
      "# get VolFrac", 
      "freeVol= assemble(Constant(1.)*dx(0),mesh=mesh)", 
      "totVol=(np.max(mesh.coordinates())- np.min(mesh.coordinates()))**3", 
      "volFrac = freeVol/totVol", 
      "print \"Vol frac %f :\" % (volFrac)"
     ], 
     "language": "python", 
     "outputs": [
      {
       "output_type": "stream", 
       "stream": "stdout", 
       "text": [
        "Printing boundary 0", 
        "Marked 24250/24250 "
       ]
      }, 
      {
       "output_type": "stream", 
       "stream": "stdout", 
       "text": [
        "", 
        "Printing marked.pvd for viewing", 
        "Vol frac 0.707088 :"
       ]
      }, 
      {
       "output_type": "stream", 
       "stream": "stdout", 
       "text": [
        ""
       ]
      }
     ], 
     "prompt_number": 87
    }, 
    {
     "cell_type": "code", 
     "collapsed": false, 
     "input": [
      "", 
      "", 
      "# Get charge density for non-uniform case", 
      "# see 130903_tnc.tex ns ", 
      "sigma_unif = -0.01 # C/m^2", 
      "totalCharge=  sigma_unif * totSA", 
      "sigma_nonunif  = totalCharge/integratedDensity", 
      "print sigma_nonunif"
     ], 
     "language": "python", 
     "outputs": [
      {
       "output_type": "stream", 
       "stream": "stdout", 
       "text": [
        "-0.301161920235"
       ]
      }
     ], 
     "prompt_number": 73
    }, 
    {
     "cell_type": "code", 
     "collapsed": false, 
     "input": [
      "allBoundary()"
     ], 
     "language": "python", 
     "outputs": [
      {
       "output_type": "pyout", 
       "prompt_number": 81, 
       "text": [
        "<__main__.allBoundary; proxy of <Swig Object of type 'boost::shared_ptr< dolfin::SubDomain > *' at 0x9821ba0> >"
       ]
      }
     ], 
     "prompt_number": 81
    }, 
    {
     "cell_type": "code", 
     "collapsed": false, 
     "input": [
      "# quick test", 
      "ionC = 0.15 # M ", 
      "if(0):", 
      "    z,DsNonUnif=cr.runCase(meshFile=meshFile,\\", 
      "                ionC=ionC,sigma=sigma_nonunif,chargeBoundary=innerBoundary)", 
      "if(0): ", 
      "    z,DsUnif=cr.runCase(meshFile=meshFile,\\", 
      "                ionC=ionC,sigma=sigma_unif,chargeBoundary=allBoundary)", 
      "print DsNonUnif", 
      "print DsUnif"
     ], 
     "language": "python", 
     "outputs": [
      {
       "ename": "NameError", 
       "evalue": "name 'DsUnif' is not defined", 
       "output_type": "pyerr", 
       "traceback": [
        "\u001b[0;31m---------------------------------------------------------------------------\u001b[0m\n\u001b[0;31mNameError\u001b[0m                                 Traceback (most recent call last)", 
        "\u001b[0;32m/u2/huskeypm/Sources/smolhomog/example/tnc/<ipython-input-82-3e1f762d39ec>\u001b[0m in \u001b[0;36m<module>\u001b[0;34m()\u001b[0m\n\u001b[1;32m      8\u001b[0m                 ionC=ionC,sigma=sigma_unif,chargeBoundary=allBoundary)\n\u001b[1;32m      9\u001b[0m \u001b[0;32mprint\u001b[0m \u001b[0mDsNonUnif\u001b[0m\u001b[0;34m\u001b[0m\u001b[0m\n\u001b[0;32m---> 10\u001b[0;31m \u001b[0;32mprint\u001b[0m \u001b[0mDsUnif\u001b[0m\u001b[0;34m\u001b[0m\u001b[0m\n\u001b[0m", 
        "\u001b[0;31mNameError\u001b[0m: name 'DsUnif' is not defined"
       ]
      }, 
      {
       "output_type": "stream", 
       "stream": "stdout", 
       "text": [
        "[  8.77247152e-09   7.76995925e-05   7.55945243e-01   8.28437274e+03", 
        "   1.02440114e+08]"
       ]
      }
     ], 
     "prompt_number": 82
    }, 
    {
     "cell_type": "code", 
     "collapsed": false, 
     "input": [
      "#import homoglight as hl", 
      "#results = hl.runHomog(fileXML=meshFile,gamer=1)", 
      "", 
      "#z,Ds=cr.runCase(meshFile=meshFile,\\", 
      "#                ionC=0.15,sigma=-0.01,chargeBoundary=innerBoundary,singleCase=True,\\", 
      "#                meshType=\"gamer\")", 
      "", 
      "ionC = 0.15", 
      "nCs=8", 
      "ionCs = 10**np.linspace(-3,0,nCs)", 
      "nLigs = 5", 
      "allDsUnif = np.zeros((nCs,nLigs))", 
      "allDsNonUnif = np.copy(allDsUnif)", 
      "print ionCs", 
      "for i,ionC in enumerate(ionCs):", 
      "    z,DsNonUnif=cr.runCase(meshFile=meshFile,\\", 
      "                ionC=ionC,sigma=sigma_nonunif,chargeBoundary=innerBoundary)", 
      "    z,DsUnif=cr.runCase(meshFile=meshFile,\\", 
      "                ionC=ionC,sigma=sigma_unif,chargeBoundary=allBoundary)", 
      "", 
      "    # store", 
      "    allDsUnif[i,:] = DsUnif", 
      "    # store", 
      "    allDsNonUnif[i,:] = DsNonUnif"
     ], 
     "language": "python", 
     "outputs": [
      {
       "output_type": "stream", 
       "stream": "stdout", 
       "text": [
        "[ 0.001       0.0026827   0.00719686  0.01930698  0.05179475  0.13894955", 
        "  0.37275937  1.        ]", 
        "-261.756385165"
       ]
      }, 
      {
       "output_type": "stream", 
       "stream": "stdout", 
       "text": [
        "", 
        "Solving linear form of PBE"
       ]
      }, 
      {
       "output_type": "stream", 
       "stream": "stdout", 
       "text": [
        "", 
        "[-19. -22.  21.]"
       ]
      }, 
      {
       "output_type": "stream", 
       "stream": "stdout", 
       "text": [
        "  maps to  (19.0, 22.0, -21.0)", 
        "[-19. -22.  21.]  maps to  (-19.0, 22.0, -21.0)", 
        "[-19.  22. -21.]  maps to  (-19.0, -22.0, 21.0)", 
        "Not loading subdomains, since don't think they're needed", 
        "Loading electrostatic potential from argument", 
        "Using z=-2.000000 for the ligand", 
        "Potential range: 10.438500 - 12.089305 "
       ]
      }, 
      {
       "output_type": "stream", 
       "stream": "stdout", 
       "text": [
        "", 
        "WARNING: Your potential does not seem to cross through 0 (reguirement at outer boundary", 
        "SA: 1.485589e+04 [um^2]"
       ]
      }, 
      {
       "output_type": "stream", 
       "stream": "stdout", 
       "text": [
        "", 
        "Volume: 6.023262e+04 [um^3]", 
        "Total volume (assuming rectangular): 7.022400e+04 [um^3]", 
        "volume fraction (assuming rectangular): 8.577212e-01 [um^3]", 
        "Adding in electrostatic component"
       ]
      }, 
      {
       "output_type": "stream", 
       "stream": "stdout", 
       "text": [
        "", 
        "pmf REMOVEME 10.438500,12.089305 "
       ]
      }, 
      {
       "output_type": "stream", 
       "stream": "stdout", 
       "text": [
        "", 
        "Intfact: exp(p); 0.000000,0.000000 "
       ]
      }, 
      {
       "output_type": "stream", 
       "stream": "stdout", 
       "text": [
        "", 
        "Using amg preconditioner instead of ilu"
       ]
      }, 
      {
       "output_type": "stream", 
       "stream": "stdout", 
       "text": [
        "", 
        "Writing "
       ]
      }, 
      {
       "output_type": "stream", 
       "stream": "stdout", 
       "text": [
        " ./Molecular_unit.pvd", 
        "omegasO"
       ]
      }, 
      {
       "output_type": "stream", 
       "stream": "stdout", 
       "text": [
        "", 
        "[ 0.00061604  0.00049862  0.00059395]", 
        "omegas", 
        "[ 0.00061604  0.00049862  0.00059395]", 
        "Reweighting by unit cell vol", 
        "d_eff= [0.00,0.00,0.00] for d=1.00", 
        "problem.volUnitCell 70224.0", 
        "[-19. -22.  21.]"
       ]
      }, 
      {
       "output_type": "stream", 
       "stream": "stdout", 
       "text": [
        "  maps to  (19.0, 22.0, -21.0)", 
        "[-19. -22.  21.]  maps to  (-19.0, 22.0, -21.0)", 
        "[-19.  22. -21.]  maps to  (-19.0, -22.0, 21.0)", 
        "Not loading subdomains, since don't think they're needed", 
        "Loading electrostatic potential from argument", 
        "Using z=-1.000000 for the ligand", 
        "Potential range: 5.219250 - 6.044652 "
       ]
      }, 
      {
       "output_type": "stream", 
       "stream": "stdout", 
       "text": [
        "", 
        "WARNING: Your potential does not seem to cross through 0 (reguirement at outer boundary", 
        "SA: 1.485589e+04 [um^2]"
       ]
      }, 
      {
       "output_type": "stream", 
       "stream": "stdout", 
       "text": [
        "", 
        "Volume: 6.023262e+04 [um^3]", 
        "Total volume (assuming rectangular): 7.022400e+04 [um^3]", 
        "volume fraction (assuming rectangular): 8.577212e-01 [um^3]", 
        "Adding in electrostatic component"
       ]
      }, 
      {
       "output_type": "stream", 
       "stream": "stdout", 
       "text": [
        "", 
        "pmf REMOVEME 5.219250,6.044652 "
       ]
      }, 
      {
       "output_type": "stream", 
       "stream": "stdout", 
       "text": [
        "", 
        "Intfact: exp(p); 0.000037,0.000151 "
       ]
      }, 
      {
       "output_type": "stream", 
       "stream": "stdout", 
       "text": [
        "", 
        "Using amg preconditioner instead of ilu"
       ]
      }, 
      {
       "output_type": "stream", 
       "stream": "stdout", 
       "text": [
        "", 
        "Writing "
       ]
      }, 
      {
       "output_type": "stream", 
       "stream": "stdout", 
       "text": [
        " ./Molecular_unit.pvd", 
        "omegasO"
       ]
      }, 
      {
       "output_type": "stream", 
       "stream": "stdout", 
       "text": [
        "", 
        "[ 5.45637618  5.29930241  5.42450306]", 
        "omegas", 
        "[ 5.45637618  5.29930241  5.42450306]", 
        "Reweighting by unit cell vol", 
        "d_eff= [0.00,0.00,0.00] for d=1.00", 
        "problem.volUnitCell 70224.0", 
        "[-19. -22.  21.]"
       ]
      }, 
      {
       "output_type": "stream", 
       "stream": "stdout", 
       "text": [
        "  maps to  (19.0, 22.0, -21.0)", 
        "[-19. -22.  21.]  maps to  (-19.0, 22.0, -21.0)", 
        "[-19.  22. -21.]  maps to  (-19.0, -22.0, 21.0)", 
        "Not loading subdomains, since don't think they're needed", 
        "Loading electrostatic potential from argument", 
        "Using z=0.000000 for the ligand", 
        "Potential range: -0.000000 - -0.000000 "
       ]
      }, 
      {
       "output_type": "stream", 
       "stream": "stdout", 
       "text": [
        "", 
        "SA: 1.485589e+04 [um^2]"
       ]
      }, 
      {
       "output_type": "stream", 
       "stream": "stdout", 
       "text": [
        "", 
        "Volume: 6.023262e+04 [um^3]", 
        "Total volume (assuming rectangular): 7.022400e+04 [um^3]", 
        "volume fraction (assuming rectangular): 8.577212e-01 [um^3]", 
        "Adding in electrostatic component"
       ]
      }, 
      {
       "output_type": "stream", 
       "stream": "stdout", 
       "text": [
        "", 
        "pmf REMOVEME -0.000000,-0.000000 "
       ]
      }, 
      {
       "output_type": "stream", 
       "stream": "stdout", 
       "text": [
        "", 
        "Intfact: exp(p); 1.000000,1.000000 "
       ]
      }, 
      {
       "output_type": "stream", 
       "stream": "stdout", 
       "text": [
        "", 
        "Using amg preconditioner instead of ilu"
       ]
      }, 
      {
       "output_type": "stream", 
       "stream": "stdout", 
       "text": [
        "", 
        "Writing "
       ]
      }, 
      {
       "output_type": "stream", 
       "stream": "stdout", 
       "text": [
        " ./Molecular_unit.pvd", 
        "omegasO"
       ]
      }, 
      {
       "output_type": "stream", 
       "stream": "stdout", 
       "text": [
        "", 
        "[ 53085.4987298   54533.17781236  54186.11511853]", 
        "omegas", 
        "[ 53085.4987298   54533.17781236  54186.11511853]", 
        "Reweighting by unit cell vol", 
        "d_eff= [0.76,0.78,0.77] for d=1.00", 
        "problem.volUnitCell 70224.0", 
        "[-19. -22.  21.]"
       ]
      }, 
      {
       "output_type": "stream", 
       "stream": "stdout", 
       "text": [
        "  maps to  (19.0, 22.0, -21.0)", 
        "[-19. -22.  21.]  maps to  (-19.0, 22.0, -21.0)", 
        "[-19.  22. -21.]  maps to  (-19.0, -22.0, 21.0)", 
        "Not loading subdomains, since don't think they're needed", 
        "Loading electrostatic potential from argument", 
        "Using z=1.000000 for the ligand", 
        "Potential range: -6.044652 - -5.219250 "
       ]
      }, 
      {
       "output_type": "stream", 
       "stream": "stdout", 
       "text": [
        "", 
        "WARNING: Your potential does not seem to cross through 0 (reguirement at outer boundary", 
        "SA: 1.485589e+04 [um^2]"
       ]
      }, 
      {
       "output_type": "stream", 
       "stream": "stdout", 
       "text": [
        "", 
        "Volume: 6.023262e+04 [um^3]", 
        "Total volume (assuming rectangular): 7.022400e+04 [um^3]", 
        "volume fraction (assuming rectangular): 8.577212e-01 [um^3]", 
        "Adding in electrostatic component"
       ]
      }, 
      {
       "output_type": "stream", 
       "stream": "stdout", 
       "text": [
        "", 
        "pmf REMOVEME -6.044652,-5.219250 "
       ]
      }, 
      {
       "output_type": "stream", 
       "stream": "stdout", 
       "text": [
        "", 
        "Intfact: exp(p); 6643.758303,26724.690843 "
       ]
      }, 
      {
       "output_type": "stream", 
       "stream": "stdout", 
       "text": [
        "", 
        "Using amg preconditioner instead of ilu"
       ]
      }, 
      {
       "output_type": "stream", 
       "stream": "stdout", 
       "text": [
        "", 
        "Writing "
       ]
      }, 
      {
       "output_type": "stream", 
       "stream": "stdout", 
       "text": [
        " ./Molecular_unit.pvd", 
        "omegasO"
       ]
      }, 
      {
       "output_type": "stream", 
       "stream": "stdout", 
       "text": [
        "", 
        "[  5.81761791e+08   5.36217101e+08   5.93164450e+08]", 
        "omegas", 
        "[  5.81761791e+08   5.36217101e+08   5.93164450e+08]", 
        "Reweighting by unit cell vol", 
        "d_eff= [8284.37,7635.81,8446.75] for d=1.00", 
        "problem.volUnitCell 70224.0", 
        "[-19. -22.  21.]"
       ]
      }, 
      {
       "output_type": "stream", 
       "stream": "stdout", 
       "text": [
        "  maps to  (19.0, 22.0, -21.0)", 
        "[-19. -22.  21.]  maps to  (-19.0, 22.0, -21.0)", 
        "[-19.  22. -21.]  maps to  (-19.0, -22.0, 21.0)", 
        "Not loading subdomains, since don't think they're needed", 
        "Loading electrostatic potential from argument", 
        "Using z=2.000000 for the ligand", 
        "Potential range: -12.089305 - -10.438500 "
       ]
      }, 
      {
       "output_type": "stream", 
       "stream": "stdout", 
       "text": [
        "", 
        "WARNING: Your potential does not seem to cross through 0 (reguirement at outer boundary", 
        "SA: 1.485589e+04 [um^2]"
       ]
      }, 
      {
       "output_type": "stream", 
       "stream": "stdout", 
       "text": [
        "", 
        "Volume: 6.023262e+04 [um^3]", 
        "Total volume (assuming rectangular): 7.022400e+04 [um^3]", 
        "volume fraction (assuming rectangular): 8.577212e-01 [um^3]", 
        "Adding in electrostatic component"
       ]
      }, 
      {
       "output_type": "stream", 
       "stream": "stdout", 
       "text": [
        "", 
        "pmf REMOVEME -12.089305,-10.438500 "
       ]
      }, 
      {
       "output_type": "stream", 
       "stream": "stdout", 
       "text": [
        "", 
        "Intfact: exp(p); 44139524.382908,714209100.659035 "
       ]
      }, 
      {
       "output_type": "stream", 
       "stream": "stdout", 
       "text": [
        "", 
        "Using amg preconditioner instead of ilu"
       ]
      }, 
      {
       "output_type": "stream", 
       "stream": "stdout", 
       "text": [
        "", 
        "Writing "
       ]
      }, 
      {
       "output_type": "stream", 
       "stream": "stdout", 
       "text": [
        " ./Molecular_unit.pvd", 
        "omegasO"
       ]
      }, 
      {
       "output_type": "stream", 
       "stream": "stdout", 
       "text": [
        "", 
        "[  7.19375458e+12   5.00956125e+12   6.96814656e+12]", 
        "omegas", 
        "[  7.19375458e+12   5.00956125e+12   6.96814656e+12]", 
        "Reweighting by unit cell vol", 
        "d_eff= [102440114.17,71336882.73,99227423.12] for d=1.00", 
        "problem.volUnitCell 70224.0", 
        "-88.4092531631"
       ]
      }, 
      {
       "output_type": "stream", 
       "stream": "stdout", 
       "text": [
        "", 
        "Solving linear form of PBE"
       ]
      }, 
      {
       "output_type": "stream", 
       "stream": "stdout", 
       "text": [
        "", 
        "[-19. -22.  21.]"
       ]
      }, 
      {
       "output_type": "stream", 
       "stream": "stdout", 
       "text": [
        "  maps to  (19.0, 22.0, -21.0)", 
        "[-19. -22.  21.]  maps to  (-19.0, 22.0, -21.0)", 
        "[-19.  22. -21.]  maps to  (-19.0, -22.0, 21.0)", 
        "Not loading subdomains, since don't think they're needed", 
        "Loading electrostatic potential from argument", 
        "Using z=-2.000000 for the ligand", 
        "Potential range: 4.073433 - 4.083211 "
       ]
      }, 
      {
       "output_type": "stream", 
       "stream": "stdout", 
       "text": [
        "", 
        "WARNING: Your potential does not seem to cross through 0 (reguirement at outer boundary", 
        "SA: 1.485589e+04 [um^2]"
       ]
      }, 
      {
       "output_type": "stream", 
       "stream": "stdout", 
       "text": [
        "", 
        "Volume: 6.023262e+04 [um^3]", 
        "Total volume (assuming rectangular): 7.022400e+04 [um^3]", 
        "volume fraction (assuming rectangular): 8.577212e-01 [um^3]", 
        "Adding in electrostatic component"
       ]
      }, 
      {
       "output_type": "stream", 
       "stream": "stdout", 
       "text": [
        "", 
        "pmf REMOVEME 4.073433,4.083211 "
       ]
      }, 
      {
       "output_type": "stream", 
       "stream": "stdout", 
       "text": [
        "", 
        "Intfact: exp(p); 0.001022,0.001039 "
       ]
      }, 
      {
       "output_type": "stream", 
       "stream": "stdout", 
       "text": [
        "", 
        "Using amg preconditioner instead of ilu"
       ]
      }, 
      {
       "output_type": "stream", 
       "stream": "stdout", 
       "text": [
        "", 
        "Writing "
       ]
      }, 
      {
       "output_type": "stream", 
       "stream": "stdout", 
       "text": [
        " ./Molecular_unit.pvd", 
        "omegasO"
       ]
      }, 
      {
       "output_type": "stream", 
       "stream": "stdout", 
       "text": [
        "", 
        "[ 54.5276629   56.01141338  55.66031047]", 
        "omegas", 
        "[ 54.5276629   56.01141338  55.66031047]", 
        "Reweighting by unit cell vol", 
        "d_eff= [0.00,0.00,0.00] for d=1.00", 
        "problem.volUnitCell 70224.0", 
        "[-19. -22.  21.]"
       ]
      }, 
      {
       "output_type": "stream", 
       "stream": "stdout", 
       "text": [
        "  maps to  (19.0, 22.0, -21.0)", 
        "[-19. -22.  21.]  maps to  (-19.0, 22.0, -21.0)", 
        "[-19.  22. -21.]  maps to  (-19.0, -22.0, 21.0)", 
        "Not loading subdomains, since don't think they're needed", 
        "Loading electrostatic potential from argument", 
        "Using z=-1.000000 for the ligand", 
        "Potential range: 2.036717 - 2.041605 "
       ]
      }, 
      {
       "output_type": "stream", 
       "stream": "stdout", 
       "text": [
        "", 
        "WARNING: Your potential does not seem to cross through 0 (reguirement at outer boundary", 
        "SA: 1.485589e+04 [um^2]"
       ]
      }, 
      {
       "output_type": "stream", 
       "stream": "stdout", 
       "text": [
        "", 
        "Volume: 6.023262e+04 [um^3]", 
        "Total volume (assuming rectangular): 7.022400e+04 [um^3]", 
        "volume fraction (assuming rectangular): 8.577212e-01 [um^3]", 
        "Adding in electrostatic component"
       ]
      }, 
      {
       "output_type": "stream", 
       "stream": "stdout", 
       "text": [
        "", 
        "pmf REMOVEME 2.036717,2.041605 "
       ]
      }, 
      {
       "output_type": "stream", 
       "stream": "stdout", 
       "text": [
        "", 
        "Intfact: exp(p); 0.031974,0.032238 "
       ]
      }, 
      {
       "output_type": "stream", 
       "stream": "stdout", 
       "text": [
        "", 
        "Using amg preconditioner instead of ilu"
       ]
      }, 
      {
       "output_type": "stream", 
       "stream": "stdout", 
       "text": [
        "", 
        "Writing "
       ]
      }, 
      {
       "output_type": "stream", 
       "stream": "stdout", 
       "text": [
        " ./Molecular_unit.pvd", 
        "omegasO"
       ]
      }, 
      {
       "output_type": "stream", 
       "stream": "stdout", 
       "text": [
        "", 
        "[ 1701.35717428  1747.70362026  1736.66426405]", 
        "omegas", 
        "[ 1701.35717428  1747.70362026  1736.66426405]", 
        "Reweighting by unit cell vol", 
        "d_eff= [0.02,0.02,0.02] for d=1.00", 
        "problem.volUnitCell 70224.0", 
        "[-19. -22.  21.]"
       ]
      }, 
      {
       "output_type": "stream", 
       "stream": "stdout", 
       "text": [
        "  maps to  (19.0, 22.0, -21.0)", 
        "[-19. -22.  21.]  maps to  (-19.0, 22.0, -21.0)", 
        "[-19.  22. -21.]  maps to  (-19.0, -22.0, 21.0)", 
        "Not loading subdomains, since don't think they're needed", 
        "Loading electrostatic potential from argument", 
        "Using z=0.000000 for the ligand", 
        "Potential range: -0.000000 - -0.000000 "
       ]
      }, 
      {
       "output_type": "stream", 
       "stream": "stdout", 
       "text": [
        "", 
        "SA: 1.485589e+04 [um^2]"
       ]
      }, 
      {
       "output_type": "stream", 
       "stream": "stdout", 
       "text": [
        "", 
        "Volume: 6.023262e+04 [um^3]", 
        "Total volume (assuming rectangular): 7.022400e+04 [um^3]", 
        "volume fraction (assuming rectangular): 8.577212e-01 [um^3]", 
        "Adding in electrostatic component"
       ]
      }, 
      {
       "output_type": "stream", 
       "stream": "stdout", 
       "text": [
        "", 
        "pmf REMOVEME -0.000000,-0.000000 "
       ]
      }, 
      {
       "output_type": "stream", 
       "stream": "stdout", 
       "text": [
        "", 
        "Intfact: exp(p); 1.000000,1.000000 "
       ]
      }, 
      {
       "output_type": "stream", 
       "stream": "stdout", 
       "text": [
        "", 
        "Using amg preconditioner instead of ilu"
       ]
      }, 
      {
       "output_type": "stream", 
       "stream": "stdout", 
       "text": [
        "", 
        "Writing "
       ]
      }, 
      {
       "output_type": "stream", 
       "stream": "stdout", 
       "text": [
        " ./Molecular_unit.pvd", 
        "omegasO"
       ]
      }, 
      {
       "output_type": "stream", 
       "stream": "stdout", 
       "text": [
        "", 
        "[ 53085.4987298   54533.17781236  54186.11511853]", 
        "omegas", 
        "[ 53085.4987298   54533.17781236  54186.11511853]", 
        "Reweighting by unit cell vol", 
        "d_eff= [0.76,0.78,0.77] for d=1.00", 
        "problem.volUnitCell 70224.0", 
        "[-19. -22.  21.]"
       ]
      }, 
      {
       "output_type": "stream", 
       "stream": "stdout", 
       "text": [
        "  maps to  (19.0, 22.0, -21.0)", 
        "[-19. -22.  21.]  maps to  (-19.0, 22.0, -21.0)", 
        "[-19.  22. -21.]  maps to  (-19.0, -22.0, 21.0)", 
        "Not loading subdomains, since don't think they're needed", 
        "Loading electrostatic potential from argument", 
        "Using z=1.000000 for the ligand", 
        "Potential range: -2.041605 - -2.036717 "
       ]
      }, 
      {
       "output_type": "stream", 
       "stream": "stdout", 
       "text": [
        "", 
        "WARNING: Your potential does not seem to cross through 0 (reguirement at outer boundary", 
        "SA: 1.485589e+04 [um^2]"
       ]
      }, 
      {
       "output_type": "stream", 
       "stream": "stdout", 
       "text": [
        "", 
        "Volume: 6.023262e+04 [um^3]", 
        "Total volume (assuming rectangular): 7.022400e+04 [um^3]", 
        "volume fraction (assuming rectangular): 8.577212e-01 [um^3]", 
        "Adding in electrostatic component"
       ]
      }, 
      {
       "output_type": "stream", 
       "stream": "stdout", 
       "text": [
        "", 
        "pmf REMOVEME -2.041605,-2.036717 "
       ]
      }, 
      {
       "output_type": "stream", 
       "stream": "stdout", 
       "text": [
        "", 
        "Intfact: exp(p); 31.018942,31.275715 "
       ]
      }, 
      {
       "output_type": "stream", 
       "stream": "stdout", 
       "text": [
        "", 
        "Using amg preconditioner instead of ilu"
       ]
      }, 
      {
       "output_type": "stream", 
       "stream": "stdout", 
       "text": [
        "", 
        "Writing "
       ]
      }, 
      {
       "output_type": "stream", 
       "stream": "stdout", 
       "text": [
        " ./Molecular_unit.pvd", 
        "omegasO"
       ]
      }, 
      {
       "output_type": "stream", 
       "stream": "stdout", 
       "text": [
        "", 
        "[ 1656372.81573297  1701592.62235265  1690682.53098603]", 
        "omegas", 
        "[ 1656372.81573297  1701592.62235265  1690682.53098603]", 
        "Reweighting by unit cell vol", 
        "d_eff= [23.59,24.23,24.08] for d=1.00", 
        "problem.volUnitCell 70224.0", 
        "[-19. -22.  21.]"
       ]
      }, 
      {
       "output_type": "stream", 
       "stream": "stdout", 
       "text": [
        "  maps to  (19.0, 22.0, -21.0)", 
        "[-19. -22.  21.]  maps to  (-19.0, 22.0, -21.0)", 
        "[-19.  22. -21.]  maps to  (-19.0, -22.0, 21.0)", 
        "Not loading subdomains, since don't think they're needed", 
        "Loading electrostatic potential from argument", 
        "Using z=2.000000 for the ligand", 
        "Potential range: -4.083211 - -4.073433 "
       ]
      }, 
      {
       "output_type": "stream", 
       "stream": "stdout", 
       "text": [
        "", 
        "WARNING: Your potential does not seem to cross through 0 (reguirement at outer boundary", 
        "SA: 1.485589e+04 [um^2]"
       ]
      }, 
      {
       "output_type": "stream", 
       "stream": "stdout", 
       "text": [
        "", 
        "Volume: 6.023262e+04 [um^3]", 
        "Total volume (assuming rectangular): 7.022400e+04 [um^3]", 
        "volume fraction (assuming rectangular): 8.577212e-01 [um^3]", 
        "Adding in electrostatic component"
       ]
      }, 
      {
       "output_type": "stream", 
       "stream": "stdout", 
       "text": [
        "", 
        "pmf REMOVEME -4.083211,-4.073433 "
       ]
      }, 
      {
       "output_type": "stream", 
       "stream": "stdout", 
       "text": [
        "", 
        "Intfact: exp(p); 962.174793,978.170361 "
       ]
      }, 
      {
       "output_type": "stream", 
       "stream": "stdout", 
       "text": [
        "", 
        "Using amg preconditioner instead of ilu"
       ]
      }, 
      {
       "output_type": "stream", 
       "stream": "stdout", 
       "text": [
        "", 
        "Writing "
       ]
      }, 
      {
       "output_type": "stream", 
       "stream": "stdout", 
       "text": [
        " ./Molecular_unit.pvd", 
        "omegasO"
       ]
      }, 
      {
       "output_type": "stream", 
       "stream": "stdout", 
       "text": [
        "", 
        "[ 51682329.11426355  53094818.14743461  52751888.8755413 ]", 
        "omegas", 
        "[ 51682329.11426355  53094818.14743461  52751888.8755413 ]", 
        "Reweighting by unit cell vol", 
        "d_eff= [735.96,756.08,751.19] for d=1.00", 
        "problem.volUnitCell 70224.0", 
        "-236.398317865"
       ]
      }, 
      {
       "output_type": "stream", 
       "stream": "stdout", 
       "text": [
        "", 
        "Solving linear form of PBE"
       ]
      }, 
      {
       "output_type": "stream", 
       "stream": "stdout", 
       "text": [
        "", 
        "[-19. -22.  21.]"
       ]
      }, 
      {
       "output_type": "stream", 
       "stream": "stdout", 
       "text": [
        "  maps to  (19.0, 22.0, -21.0)", 
        "[-19. -22.  21.]  maps to  (-19.0, 22.0, -21.0)", 
        "[-19.  22. -21.]  maps to  (-19.0, -22.0, 21.0)", 
        "Not loading subdomains, since don't think they're needed", 
        "Loading electrostatic potential from argument", 
        "Using z=-2.000000 for the ligand", 
        "Potential range: 7.556514 - 10.918134 "
       ]
      }, 
      {
       "output_type": "stream", 
       "stream": "stdout", 
       "text": [
        "", 
        "WARNING: Your potential does not seem to cross through 0 (reguirement at outer boundary", 
        "SA: 1.485589e+04 [um^2]"
       ]
      }, 
      {
       "output_type": "stream", 
       "stream": "stdout", 
       "text": [
        "", 
        "Volume: 6.023262e+04 [um^3]", 
        "Total volume (assuming rectangular): 7.022400e+04 [um^3]", 
        "volume fraction (assuming rectangular): 8.577212e-01 [um^3]", 
        "Adding in electrostatic component"
       ]
      }, 
      {
       "output_type": "stream", 
       "stream": "stdout", 
       "text": [
        "", 
        "pmf REMOVEME 7.556514,10.918134 "
       ]
      }, 
      {
       "output_type": "stream", 
       "stream": "stdout", 
       "text": [
        "", 
        "Intfact: exp(p); 0.000000,0.000003 "
       ]
      }, 
      {
       "output_type": "stream", 
       "stream": "stdout", 
       "text": [
        "", 
        "Using amg preconditioner instead of ilu"
       ]
      }, 
      {
       "output_type": "stream", 
       "stream": "stdout", 
       "text": [
        "", 
        "Writing "
       ]
      }, 
      {
       "output_type": "stream", 
       "stream": "stdout", 
       "text": [
        " ./Molecular_unit.pvd", 
        "omegasO"
       ]
      }, 
      {
       "output_type": "stream", 
       "stream": "stdout", 
       "text": [
        "", 
        "[ 0.05358733  0.0245412   0.04965059]", 
        "omegas", 
        "[ 0.05358733  0.0245412   0.04965059]", 
        "Reweighting by unit cell vol", 
        "d_eff= [0.00,0.00,0.00] for d=1.00", 
        "problem.volUnitCell 70224.0", 
        "[-19. -22.  21.]"
       ]
      }, 
      {
       "output_type": "stream", 
       "stream": "stdout", 
       "text": [
        "  maps to  (19.0, 22.0, -21.0)", 
        "[-19. -22.  21.]  maps to  (-19.0, 22.0, -21.0)", 
        "[-19.  22. -21.]  maps to  (-19.0, -22.0, 21.0)", 
        "Not loading subdomains, since don't think they're needed", 
        "Loading electrostatic potential from argument", 
        "Using z=-1.000000 for the ligand", 
        "Potential range: 3.778257 - 5.459067 "
       ]
      }, 
      {
       "output_type": "stream", 
       "stream": "stdout", 
       "text": [
        "", 
        "WARNING: Your potential does not seem to cross through 0 (reguirement at outer boundary", 
        "SA: 1.485589e+04 [um^2]"
       ]
      }, 
      {
       "output_type": "stream", 
       "stream": "stdout", 
       "text": [
        "", 
        "Volume: 6.023262e+04 [um^3]", 
        "Total volume (assuming rectangular): 7.022400e+04 [um^3]", 
        "volume fraction (assuming rectangular): 8.577212e-01 [um^3]", 
        "Adding in electrostatic component"
       ]
      }, 
      {
       "output_type": "stream", 
       "stream": "stdout", 
       "text": [
        "", 
        "pmf REMOVEME 3.778257,5.459067 "
       ]
      }, 
      {
       "output_type": "stream", 
       "stream": "stdout", 
       "text": [
        "", 
        "Intfact: exp(p); 0.000100,0.001710 "
       ]
      }, 
      {
       "output_type": "stream", 
       "stream": "stdout", 
       "text": [
        "", 
        "Using amg preconditioner instead of ilu"
       ]
      }, 
      {
       "output_type": "stream", 
       "stream": "stdout", 
       "text": [
        "", 
        "Writing "
       ]
      }, 
      {
       "output_type": "stream", 
       "stream": "stdout", 
       "text": [
        " ./Molecular_unit.pvd", 
        "omegasO"
       ]
      }, 
      {
       "output_type": "stream", 
       "stream": "stdout", 
       "text": [
        "", 
        "[ 46.73351875  37.85850794  45.03502969]", 
        "omegas", 
        "[ 46.73351875  37.85850794  45.03502969]", 
        "Reweighting by unit cell vol", 
        "d_eff= [0.00,0.00,0.00] for d=1.00", 
        "problem.volUnitCell 70224.0", 
        "[-19. -22.  21.]"
       ]
      }, 
      {
       "output_type": "stream", 
       "stream": "stdout", 
       "text": [
        "  maps to  (19.0, 22.0, -21.0)", 
        "[-19. -22.  21.]  maps to  (-19.0, 22.0, -21.0)", 
        "[-19.  22. -21.]  maps to  (-19.0, -22.0, 21.0)", 
        "Not loading subdomains, since don't think they're needed", 
        "Loading electrostatic potential from argument", 
        "Using z=0.000000 for the ligand", 
        "Potential range: -0.000000 - -0.000000 "
       ]
      }, 
      {
       "output_type": "stream", 
       "stream": "stdout", 
       "text": [
        "", 
        "SA: 1.485589e+04 [um^2]"
       ]
      }, 
      {
       "output_type": "stream", 
       "stream": "stdout", 
       "text": [
        "", 
        "Volume: 6.023262e+04 [um^3]", 
        "Total volume (assuming rectangular): 7.022400e+04 [um^3]", 
        "volume fraction (assuming rectangular): 8.577212e-01 [um^3]", 
        "Adding in electrostatic component"
       ]
      }, 
      {
       "output_type": "stream", 
       "stream": "stdout", 
       "text": [
        "", 
        "pmf REMOVEME -0.000000,-0.000000 "
       ]
      }, 
      {
       "output_type": "stream", 
       "stream": "stdout", 
       "text": [
        "", 
        "Intfact: exp(p); 1.000000,1.000000 "
       ]
      }, 
      {
       "output_type": "stream", 
       "stream": "stdout", 
       "text": [
        "", 
        "Using amg preconditioner instead of ilu"
       ]
      }, 
      {
       "output_type": "stream", 
       "stream": "stdout", 
       "text": [
        "", 
        "Writing "
       ]
      }, 
      {
       "output_type": "stream", 
       "stream": "stdout", 
       "text": [
        " ./Molecular_unit.pvd", 
        "omegasO"
       ]
      }, 
      {
       "output_type": "stream", 
       "stream": "stdout", 
       "text": [
        "", 
        "[ 53085.4987298   54533.17781236  54186.11511853]", 
        "omegas", 
        "[ 53085.4987298   54533.17781236  54186.11511853]", 
        "Reweighting by unit cell vol", 
        "d_eff= [0.76,0.78,0.77] for d=1.00", 
        "problem.volUnitCell 70224.0", 
        "[-19. -22.  21.]"
       ]
      }, 
      {
       "output_type": "stream", 
       "stream": "stdout", 
       "text": [
        "  maps to  (19.0, 22.0, -21.0)", 
        "[-19. -22.  21.]  maps to  (-19.0, 22.0, -21.0)", 
        "[-19.  22. -21.]  maps to  (-19.0, -22.0, 21.0)", 
        "Not loading subdomains, since don't think they're needed", 
        "Loading electrostatic potential from argument", 
        "Using z=1.000000 for the ligand", 
        "Potential range: -5.459067 - -3.778257 "
       ]
      }, 
      {
       "output_type": "stream", 
       "stream": "stdout", 
       "text": [
        "", 
        "WARNING: Your potential does not seem to cross through 0 (reguirement at outer boundary", 
        "SA: 1.485589e+04 [um^2]"
       ]
      }, 
      {
       "output_type": "stream", 
       "stream": "stdout", 
       "text": [
        "", 
        "Volume: 6.023262e+04 [um^3]", 
        "Total volume (assuming rectangular): 7.022400e+04 [um^3]", 
        "volume fraction (assuming rectangular): 8.577212e-01 [um^3]", 
        "Adding in electrostatic component"
       ]
      }, 
      {
       "output_type": "stream", 
       "stream": "stdout", 
       "text": [
        "", 
        "pmf REMOVEME -5.459067,-3.778257 "
       ]
      }, 
      {
       "output_type": "stream", 
       "stream": "stdout", 
       "text": [
        "", 
        "Intfact: exp(p); 584.892703,9955.164996 "
       ]
      }, 
      {
       "output_type": "stream", 
       "stream": "stdout", 
       "text": [
        "", 
        "Using amg preconditioner instead of ilu"
       ]
      }, 
      {
       "output_type": "stream", 
       "stream": "stdout", 
       "text": [
        "", 
        "Writing "
       ]
      }, 
      {
       "output_type": "stream", 
       "stream": "stdout", 
       "text": [
        " ./Molecular_unit.pvd", 
        "omegasO"
       ]
      }, 
      {
       "output_type": "stream", 
       "stream": "stdout", 
       "text": [
        "", 
        "[ 95515349.71401787  65995066.7930765   92195249.03653826]", 
        "omegas", 
        "[ 95515349.71401787  65995066.7930765   92195249.03653826]", 
        "Reweighting by unit cell vol", 
        "d_eff= [1360.15,939.78,1312.87] for d=1.00", 
        "problem.volUnitCell 70224.0", 
        "[-19. -22.  21.]"
       ]
      }, 
      {
       "output_type": "stream", 
       "stream": "stdout", 
       "text": [
        "  maps to  (19.0, 22.0, -21.0)", 
        "[-19. -22.  21.]  maps to  (-19.0, 22.0, -21.0)", 
        "[-19.  22. -21.]  maps to  (-19.0, -22.0, 21.0)", 
        "Not loading subdomains, since don't think they're needed", 
        "Loading electrostatic potential from argument", 
        "Using z=2.000000 for the ligand", 
        "Potential range: -10.918134 - -7.556514 "
       ]
      }, 
      {
       "output_type": "stream", 
       "stream": "stdout", 
       "text": [
        "", 
        "WARNING: Your potential does not seem to cross through 0 (reguirement at outer boundary", 
        "SA: 1.485589e+04 [um^2]"
       ]
      }, 
      {
       "output_type": "stream", 
       "stream": "stdout", 
       "text": [
        "", 
        "Volume: 6.023262e+04 [um^3]", 
        "Total volume (assuming rectangular): 7.022400e+04 [um^3]", 
        "volume fraction (assuming rectangular): 8.577212e-01 [um^3]", 
        "Adding in electrostatic component"
       ]
      }, 
      {
       "output_type": "stream", 
       "stream": "stdout", 
       "text": [
        "", 
        "pmf REMOVEME -10.918134,-7.556514 "
       ]
      }, 
      {
       "output_type": "stream", 
       "stream": "stdout", 
       "text": [
        "", 
        "Intfact: exp(p); 342099.474453,99105310.095475 "
       ]
      }, 
      {
       "output_type": "stream", 
       "stream": "stdout", 
       "text": [
        "", 
        "Using amg preconditioner instead of ilu"
       ]
      }, 
      {
       "output_type": "stream", 
       "stream": "stdout", 
       "text": [
        "", 
        "Writing "
       ]
      }, 
      {
       "output_type": "stream", 
       "stream": "stdout", 
       "text": [
        " ./Molecular_unit.pvd", 
        "omegasO"
       ]
      }, 
      {
       "output_type": "stream", 
       "stream": "stdout", 
       "text": [
        "", 
        "[  2.47032113e+11   6.63230448e+10   1.81412591e+11]", 
        "omegas", 
        "[  2.47032113e+11   6.63230448e+10   1.81412591e+11]", 
        "Reweighting by unit cell vol", 
        "d_eff= [3517773.30,944449.83,2583341.75] for d=1.00", 
        "problem.volUnitCell 70224.0", 
        "-65.5492208438"
       ]
      }, 
      {
       "output_type": "stream", 
       "stream": "stdout", 
       "text": [
        "", 
        "Solving linear form of PBE"
       ]
      }, 
      {
       "output_type": "stream", 
       "stream": "stdout", 
       "text": [
        "", 
        "[-19. -22.  21.]"
       ]
      }, 
      {
       "output_type": "stream", 
       "stream": "stdout", 
       "text": [
        "  maps to  (19.0, 22.0, -21.0)", 
        "[-19. -22.  21.]  maps to  (-19.0, 22.0, -21.0)", 
        "[-19.  22. -21.]  maps to  (-19.0, -22.0, 21.0)", 
        "Not loading subdomains, since don't think they're needed", 
        "Loading electrostatic potential from argument", 
        "Using z=-2.000000 for the ligand", 
        "Potential range: 3.008018 - 3.027412 "
       ]
      }, 
      {
       "output_type": "stream", 
       "stream": "stdout", 
       "text": [
        "", 
        "WARNING: Your potential does not seem to cross through 0 (reguirement at outer boundary", 
        "SA: 1.485589e+04 [um^2]"
       ]
      }, 
      {
       "output_type": "stream", 
       "stream": "stdout", 
       "text": [
        "", 
        "Volume: 6.023262e+04 [um^3]", 
        "Total volume (assuming rectangular): 7.022400e+04 [um^3]", 
        "volume fraction (assuming rectangular): 8.577212e-01 [um^3]", 
        "Adding in electrostatic component"
       ]
      }, 
      {
       "output_type": "stream", 
       "stream": "stdout", 
       "text": [
        "", 
        "pmf REMOVEME 3.008018,3.027412 "
       ]
      }, 
      {
       "output_type": "stream", 
       "stream": "stdout", 
       "text": [
        "", 
        "Intfact: exp(p); 0.006065,0.006266 "
       ]
      }, 
      {
       "output_type": "stream", 
       "stream": "stdout", 
       "text": [
        "", 
        "Using amg preconditioner instead of ilu"
       ]
      }, 
      {
       "output_type": "stream", 
       "stream": "stdout", 
       "text": [
        "", 
        "Writing "
       ]
      }, 
      {
       "output_type": "stream", 
       "stream": "stdout", 
       "text": [
        " ./Molecular_unit.pvd", 
        "omegasO"
       ]
      }, 
      {
       "output_type": "stream", 
       "stream": "stdout", 
       "text": [
        "", 
        "[ 324.99807643  333.82233264  331.761301  ]", 
        "omegas", 
        "[ 324.99807643  333.82233264  331.761301  ]", 
        "Reweighting by unit cell vol", 
        "d_eff= [0.00,0.00,0.00] for d=1.00", 
        "problem.volUnitCell 70224.0", 
        "[-19. -22.  21.]"
       ]
      }, 
      {
       "output_type": "stream", 
       "stream": "stdout", 
       "text": [
        "  maps to  (19.0, 22.0, -21.0)", 
        "[-19. -22.  21.]  maps to  (-19.0, 22.0, -21.0)", 
        "[-19.  22. -21.]  maps to  (-19.0, -22.0, 21.0)", 
        "Not loading subdomains, since don't think they're needed", 
        "Loading electrostatic potential from argument", 
        "Using z=-1.000000 for the ligand", 
        "Potential range: 1.504009 - 1.513706 "
       ]
      }, 
      {
       "output_type": "stream", 
       "stream": "stdout", 
       "text": [
        "", 
        "WARNING: Your potential does not seem to cross through 0 (reguirement at outer boundary", 
        "SA: 1.485589e+04 [um^2]"
       ]
      }, 
      {
       "output_type": "stream", 
       "stream": "stdout", 
       "text": [
        "", 
        "Volume: 6.023262e+04 [um^3]", 
        "Total volume (assuming rectangular): 7.022400e+04 [um^3]", 
        "volume fraction (assuming rectangular): 8.577212e-01 [um^3]", 
        "Adding in electrostatic component"
       ]
      }, 
      {
       "output_type": "stream", 
       "stream": "stdout", 
       "text": [
        "", 
        "pmf REMOVEME 1.504009,1.513706 "
       ]
      }, 
      {
       "output_type": "stream", 
       "stream": "stdout", 
       "text": [
        "", 
        "Intfact: exp(p); 0.077877,0.079161 "
       ]
      }, 
      {
       "output_type": "stream", 
       "stream": "stdout", 
       "text": [
        "", 
        "Using amg preconditioner instead of ilu"
       ]
      }, 
      {
       "output_type": "stream", 
       "stream": "stdout", 
       "text": [
        "", 
        "Writing "
       ]
      }, 
      {
       "output_type": "stream", 
       "stream": "stdout", 
       "text": [
        " ./Molecular_unit.pvd", 
        "omegasO"
       ]
      }, 
      {
       "output_type": "stream", 
       "stream": "stdout", 
       "text": [
        "", 
        "[ 4153.60141264  4266.62646616  4239.87566874]", 
        "omegas", 
        "[ 4153.60141264  4266.62646616  4239.87566874]", 
        "Reweighting by unit cell vol", 
        "d_eff= [0.06,0.06,0.06] for d=1.00", 
        "problem.volUnitCell 70224.0", 
        "[-19. -22.  21.]"
       ]
      }, 
      {
       "output_type": "stream", 
       "stream": "stdout", 
       "text": [
        "  maps to  (19.0, 22.0, -21.0)", 
        "[-19. -22.  21.]  maps to  (-19.0, 22.0, -21.0)", 
        "[-19.  22. -21.]  maps to  (-19.0, -22.0, 21.0)", 
        "Not loading subdomains, since don't think they're needed", 
        "Loading electrostatic potential from argument", 
        "Using z=0.000000 for the ligand", 
        "Potential range: -0.000000 - -0.000000 "
       ]
      }, 
      {
       "output_type": "stream", 
       "stream": "stdout", 
       "text": [
        "", 
        "SA: 1.485589e+04 [um^2]"
       ]
      }, 
      {
       "output_type": "stream", 
       "stream": "stdout", 
       "text": [
        "", 
        "Volume: 6.023262e+04 [um^3]", 
        "Total volume (assuming rectangular): 7.022400e+04 [um^3]", 
        "volume fraction (assuming rectangular): 8.577212e-01 [um^3]", 
        "Adding in electrostatic component"
       ]
      }, 
      {
       "output_type": "stream", 
       "stream": "stdout", 
       "text": [
        "", 
        "pmf REMOVEME -0.000000,-0.000000 "
       ]
      }, 
      {
       "output_type": "stream", 
       "stream": "stdout", 
       "text": [
        "", 
        "Intfact: exp(p); 1.000000,1.000000 "
       ]
      }, 
      {
       "output_type": "stream", 
       "stream": "stdout", 
       "text": [
        "", 
        "Using amg preconditioner instead of ilu"
       ]
      }, 
      {
       "output_type": "stream", 
       "stream": "stdout", 
       "text": [
        "", 
        "Writing "
       ]
      }, 
      {
       "output_type": "stream", 
       "stream": "stdout", 
       "text": [
        " ./Molecular_unit.pvd", 
        "omegasO"
       ]
      }, 
      {
       "output_type": "stream", 
       "stream": "stdout", 
       "text": [
        "", 
        "[ 53085.4987298   54533.17781236  54186.11511853]", 
        "omegas", 
        "[ 53085.4987298   54533.17781236  54186.11511853]", 
        "Reweighting by unit cell vol", 
        "d_eff= [0.76,0.78,0.77] for d=1.00", 
        "problem.volUnitCell 70224.0", 
        "[-19. -22.  21.]"
       ]
      }, 
      {
       "output_type": "stream", 
       "stream": "stdout", 
       "text": [
        "  maps to  (19.0, 22.0, -21.0)", 
        "[-19. -22.  21.]  maps to  (-19.0, 22.0, -21.0)", 
        "[-19.  22. -21.]  maps to  (-19.0, -22.0, 21.0)", 
        "Not loading subdomains, since don't think they're needed", 
        "Loading electrostatic potential from argument", 
        "Using z=1.000000 for the ligand", 
        "Potential range: -1.513706 - -1.504009 "
       ]
      }, 
      {
       "output_type": "stream", 
       "stream": "stdout", 
       "text": [
        "", 
        "WARNING: Your potential does not seem to cross through 0 (reguirement at outer boundary", 
        "SA: 1.485589e+04 [um^2]"
       ]
      }, 
      {
       "output_type": "stream", 
       "stream": "stdout", 
       "text": [
        "", 
        "Volume: 6.023262e+04 [um^3]", 
        "Total volume (assuming rectangular): 7.022400e+04 [um^3]", 
        "volume fraction (assuming rectangular): 8.577212e-01 [um^3]", 
        "Adding in electrostatic component"
       ]
      }, 
      {
       "output_type": "stream", 
       "stream": "stdout", 
       "text": [
        "", 
        "pmf REMOVEME -1.513706,-1.504009 "
       ]
      }, 
      {
       "output_type": "stream", 
       "stream": "stdout", 
       "text": [
        "", 
        "Intfact: exp(p); 12.632478,12.840757 "
       ]
      }, 
      {
       "output_type": "stream", 
       "stream": "stdout", 
       "text": [
        "", 
        "Using amg preconditioner instead of ilu"
       ]
      }, 
      {
       "output_type": "stream", 
       "stream": "stdout", 
       "text": [
        "", 
        "Writing "
       ]
      }, 
      {
       "output_type": "stream", 
       "stream": "stdout", 
       "text": [
        " ./Molecular_unit.pvd", 
        "omegasO"
       ]
      }, 
      {
       "output_type": "stream", 
       "stream": "stdout", 
       "text": [
        "", 
        "[ 678475.28338632  697017.91299296  692516.93792741]", 
        "omegas", 
        "[ 678475.28338632  697017.91299296  692516.93792741]", 
        "Reweighting by unit cell vol", 
        "d_eff= [9.66,9.93,9.86] for d=1.00", 
        "problem.volUnitCell 70224.0", 
        "[-19. -22.  21.]"
       ]
      }, 
      {
       "output_type": "stream", 
       "stream": "stdout", 
       "text": [
        "  maps to  (19.0, 22.0, -21.0)", 
        "[-19. -22.  21.]  maps to  (-19.0, 22.0, -21.0)", 
        "[-19.  22. -21.]  maps to  (-19.0, -22.0, 21.0)", 
        "Not loading subdomains, since don't think they're needed", 
        "Loading electrostatic potential from argument", 
        "Using z=2.000000 for the ligand", 
        "Potential range: -3.027412 - -3.008018 "
       ]
      }, 
      {
       "output_type": "stream", 
       "stream": "stdout", 
       "text": [
        "", 
        "WARNING: Your potential does not seem to cross through 0 (reguirement at outer boundary", 
        "SA: 1.485589e+04 [um^2]"
       ]
      }, 
      {
       "output_type": "stream", 
       "stream": "stdout", 
       "text": [
        "", 
        "Volume: 6.023262e+04 [um^3]", 
        "Total volume (assuming rectangular): 7.022400e+04 [um^3]", 
        "volume fraction (assuming rectangular): 8.577212e-01 [um^3]", 
        "Adding in electrostatic component"
       ]
      }, 
      {
       "output_type": "stream", 
       "stream": "stdout", 
       "text": [
        "", 
        "pmf REMOVEME -3.027412,-3.008018 "
       ]
      }, 
      {
       "output_type": "stream", 
       "stream": "stdout", 
       "text": [
        "", 
        "Intfact: exp(p); 159.579506,164.885047 "
       ]
      }, 
      {
       "output_type": "stream", 
       "stream": "stdout", 
       "text": [
        "", 
        "Using amg preconditioner instead of ilu"
       ]
      }, 
      {
       "output_type": "stream", 
       "stream": "stdout", 
       "text": [
        "", 
        "Writing "
       ]
      }, 
      {
       "output_type": "stream", 
       "stream": "stdout", 
       "text": [
        " ./Molecular_unit.pvd", 
        "omegasO"
       ]
      }, 
      {
       "output_type": "stream", 
       "stream": "stdout", 
       "text": [
        "", 
        "[ 8671599.4067173   8909103.8177229   8850753.94927763]", 
        "omegas", 
        "[ 8671599.4067173   8909103.8177229   8850753.94927763]", 
        "Reweighting by unit cell vol", 
        "d_eff= [123.48,126.87,126.04] for d=1.00", 
        "problem.volUnitCell 70224.0", 
        "-211.045737789"
       ]
      }, 
      {
       "output_type": "stream", 
       "stream": "stdout", 
       "text": [
        "", 
        "Solving linear form of PBE"
       ]
      }, 
      {
       "output_type": "stream", 
       "stream": "stdout", 
       "text": [
        "", 
        "[-19. -22.  21.]"
       ]
      }, 
      {
       "output_type": "stream", 
       "stream": "stdout", 
       "text": [
        "  maps to  (19.0, 22.0, -21.0)", 
        "[-19. -22.  21.]  maps to  (-19.0, 22.0, -21.0)", 
        "[-19.  22. -21.]  maps to  (-19.0, -22.0, 21.0)", 
        "Not loading subdomains, since don't think they're needed", 
        "Loading electrostatic potential from argument", 
        "Using z=-2.000000 for the ligand", 
        "Potential range: 4.144341 - 9.747217 "
       ]
      }, 
      {
       "output_type": "stream", 
       "stream": "stdout", 
       "text": [
        "", 
        "WARNING: Your potential does not seem to cross through 0 (reguirement at outer boundary", 
        "SA: 1.485589e+04 [um^2]"
       ]
      }, 
      {
       "output_type": "stream", 
       "stream": "stdout", 
       "text": [
        "", 
        "Volume: 6.023262e+04 [um^3]", 
        "Total volume (assuming rectangular): 7.022400e+04 [um^3]", 
        "volume fraction (assuming rectangular): 8.577212e-01 [um^3]", 
        "Adding in electrostatic component"
       ]
      }, 
      {
       "output_type": "stream", 
       "stream": "stdout", 
       "text": [
        "", 
        "pmf REMOVEME 4.144341,9.747217 "
       ]
      }, 
      {
       "output_type": "stream", 
       "stream": "stdout", 
       "text": [
        "", 
        "Intfact: exp(p); 0.000000,0.000922 "
       ]
      }, 
      {
       "output_type": "stream", 
       "stream": "stdout", 
       "text": [
        "", 
        "Using amg preconditioner instead of ilu"
       ]
      }, 
      {
       "output_type": "stream", 
       "stream": "stdout", 
       "text": [
        "", 
        "Writing "
       ]
      }, 
      {
       "output_type": "stream", 
       "stream": "stdout", 
       "text": [
        " ./Molecular_unit.pvd", 
        "omegasO"
       ]
      }, 
      {
       "output_type": "stream", 
       "stream": "stdout", 
       "text": [
        "", 
        "[ 12.62885925   2.69875199  11.48211789]", 
        "omegas", 
        "[ 12.62885925   2.69875199  11.48211789]", 
        "Reweighting by unit cell vol", 
        "d_eff= [0.00,0.00,0.00] for d=1.00", 
        "problem.volUnitCell 70224.0", 
        "[-19. -22.  21.]"
       ]
      }, 
      {
       "output_type": "stream", 
       "stream": "stdout", 
       "text": [
        "  maps to  (19.0, 22.0, -21.0)", 
        "[-19. -22.  21.]  maps to  (-19.0, 22.0, -21.0)", 
        "[-19.  22. -21.]  maps to  (-19.0, -22.0, 21.0)", 
        "Not loading subdomains, since don't think they're needed", 
        "Loading electrostatic potential from argument", 
        "Using z=-1.000000 for the ligand", 
        "Potential range: 2.072171 - 4.873609 "
       ]
      }, 
      {
       "output_type": "stream", 
       "stream": "stdout", 
       "text": [
        "", 
        "WARNING: Your potential does not seem to cross through 0 (reguirement at outer boundary", 
        "SA: 1.485589e+04 [um^2]"
       ]
      }, 
      {
       "output_type": "stream", 
       "stream": "stdout", 
       "text": [
        "", 
        "Volume: 6.023262e+04 [um^3]", 
        "Total volume (assuming rectangular): 7.022400e+04 [um^3]", 
        "volume fraction (assuming rectangular): 8.577212e-01 [um^3]", 
        "Adding in electrostatic component"
       ]
      }, 
      {
       "output_type": "stream", 
       "stream": "stdout", 
       "text": [
        "", 
        "pmf REMOVEME 2.072171,4.873609 "
       ]
      }, 
      {
       "output_type": "stream", 
       "stream": "stdout", 
       "text": [
        "", 
        "Intfact: exp(p); 0.000270,0.030367 "
       ]
      }, 
      {
       "output_type": "stream", 
       "stream": "stdout", 
       "text": [
        "", 
        "Using amg preconditioner instead of ilu"
       ]
      }, 
      {
       "output_type": "stream", 
       "stream": "stdout", 
       "text": [
        "", 
        "Writing "
       ]
      }, 
      {
       "output_type": "stream", 
       "stream": "stdout", 
       "text": [
        " ./Molecular_unit.pvd", 
        "omegasO"
       ]
      }, 
      {
       "output_type": "stream", 
       "stream": "stdout", 
       "text": [
        "", 
        "[ 657.74259431  391.61009353  616.49441381]", 
        "omegas", 
        "[ 657.74259431  391.61009353  616.49441381]", 
        "Reweighting by unit cell vol", 
        "d_eff= [0.01,0.01,0.01] for d=1.00", 
        "problem.volUnitCell 70224.0", 
        "[-19. -22.  21.]"
       ]
      }, 
      {
       "output_type": "stream", 
       "stream": "stdout", 
       "text": [
        "  maps to  (19.0, 22.0, -21.0)", 
        "[-19. -22.  21.]  maps to  (-19.0, 22.0, -21.0)", 
        "[-19.  22. -21.]  maps to  (-19.0, -22.0, 21.0)", 
        "Not loading subdomains, since don't think they're needed", 
        "Loading electrostatic potential from argument", 
        "Using z=0.000000 for the ligand", 
        "Potential range: -0.000000 - -0.000000 "
       ]
      }, 
      {
       "output_type": "stream", 
       "stream": "stdout", 
       "text": [
        "", 
        "SA: 1.485589e+04 [um^2]"
       ]
      }, 
      {
       "output_type": "stream", 
       "stream": "stdout", 
       "text": [
        "", 
        "Volume: 6.023262e+04 [um^3]", 
        "Total volume (assuming rectangular): 7.022400e+04 [um^3]", 
        "volume fraction (assuming rectangular): 8.577212e-01 [um^3]", 
        "Adding in electrostatic component"
       ]
      }, 
      {
       "output_type": "stream", 
       "stream": "stdout", 
       "text": [
        "", 
        "pmf REMOVEME -0.000000,-0.000000 "
       ]
      }, 
      {
       "output_type": "stream", 
       "stream": "stdout", 
       "text": [
        "", 
        "Intfact: exp(p); 1.000000,1.000000 "
       ]
      }, 
      {
       "output_type": "stream", 
       "stream": "stdout", 
       "text": [
        "", 
        "Using amg preconditioner instead of ilu"
       ]
      }, 
      {
       "output_type": "stream", 
       "stream": "stdout", 
       "text": [
        "", 
        "Writing "
       ]
      }, 
      {
       "output_type": "stream", 
       "stream": "stdout", 
       "text": [
        " ./Molecular_unit.pvd", 
        "omegasO"
       ]
      }, 
      {
       "output_type": "stream", 
       "stream": "stdout", 
       "text": [
        "", 
        "[ 53085.4987298   54533.17781236  54186.11511853]", 
        "omegas", 
        "[ 53085.4987298   54533.17781236  54186.11511853]", 
        "Reweighting by unit cell vol", 
        "d_eff= [0.76,0.78,0.77] for d=1.00", 
        "problem.volUnitCell 70224.0", 
        "[-19. -22.  21.]"
       ]
      }, 
      {
       "output_type": "stream", 
       "stream": "stdout", 
       "text": [
        "  maps to  (19.0, 22.0, -21.0)", 
        "[-19. -22.  21.]  maps to  (-19.0, 22.0, -21.0)", 
        "[-19.  22. -21.]  maps to  (-19.0, -22.0, 21.0)", 
        "Not loading subdomains, since don't think they're needed", 
        "Loading electrostatic potential from argument", 
        "Using z=1.000000 for the ligand", 
        "Potential range: -4.873609 - -2.072171 "
       ]
      }, 
      {
       "output_type": "stream", 
       "stream": "stdout", 
       "text": [
        "", 
        "WARNING: Your potential does not seem to cross through 0 (reguirement at outer boundary", 
        "SA: 1.485589e+04 [um^2]"
       ]
      }, 
      {
       "output_type": "stream", 
       "stream": "stdout", 
       "text": [
        "", 
        "Volume: 6.023262e+04 [um^3]", 
        "Total volume (assuming rectangular): 7.022400e+04 [um^3]", 
        "volume fraction (assuming rectangular): 8.577212e-01 [um^3]", 
        "Adding in electrostatic component"
       ]
      }, 
      {
       "output_type": "stream", 
       "stream": "stdout", 
       "text": [
        "", 
        "pmf REMOVEME -4.873609,-2.072171 "
       ]
      }, 
      {
       "output_type": "stream", 
       "stream": "stdout", 
       "text": [
        "", 
        "Intfact: exp(p); 32.930051,3709.172546 "
       ]
      }, 
      {
       "output_type": "stream", 
       "stream": "stdout", 
       "text": [
        "", 
        "Using amg preconditioner instead of ilu"
       ]
      }, 
      {
       "output_type": "stream", 
       "stream": "stdout", 
       "text": [
        "", 
        "Writing "
       ]
      }, 
      {
       "output_type": "stream", 
       "stream": "stdout", 
       "text": [
        " ./Molecular_unit.pvd", 
        "omegasO"
       ]
      }, 
      {
       "output_type": "stream", 
       "stream": "stdout", 
       "text": [
        "", 
        "[ 12778855.45397546   5073939.59386398  10487567.14289774]", 
        "omegas", 
        "[ 12778855.45397546   5073939.59386398  10487567.14289774]", 
        "Reweighting by unit cell vol", 
        "d_eff= [181.97,72.25,149.34] for d=1.00", 
        "problem.volUnitCell 70224.0", 
        "[-19. -22.  21.]"
       ]
      }, 
      {
       "output_type": "stream", 
       "stream": "stdout", 
       "text": [
        "  maps to  (19.0, 22.0, -21.0)", 
        "[-19. -22.  21.]  maps to  (-19.0, 22.0, -21.0)", 
        "[-19.  22. -21.]  maps to  (-19.0, -22.0, 21.0)", 
        "Not loading subdomains, since don't think they're needed", 
        "Loading electrostatic potential from argument", 
        "Using z=2.000000 for the ligand", 
        "Potential range: -9.747217 - -4.144341 "
       ]
      }, 
      {
       "output_type": "stream", 
       "stream": "stdout", 
       "text": [
        "", 
        "WARNING: Your potential does not seem to cross through 0 (reguirement at outer boundary", 
        "SA: 1.485589e+04 [um^2]"
       ]
      }, 
      {
       "output_type": "stream", 
       "stream": "stdout", 
       "text": [
        "", 
        "Volume: 6.023262e+04 [um^3]", 
        "Total volume (assuming rectangular): 7.022400e+04 [um^3]", 
        "volume fraction (assuming rectangular): 8.577212e-01 [um^3]", 
        "Adding in electrostatic component"
       ]
      }, 
      {
       "output_type": "stream", 
       "stream": "stdout", 
       "text": [
        "", 
        "pmf REMOVEME -9.747217,-4.144341 "
       ]
      }, 
      {
       "output_type": "stream", 
       "stream": "stdout", 
       "text": [
        "", 
        "Intfact: exp(p); 1084.388281,13757960.977349 "
       ]
      }, 
      {
       "output_type": "stream", 
       "stream": "stdout", 
       "text": [
        "", 
        "Using amg preconditioner instead of ilu"
       ]
      }, 
      {
       "output_type": "stream", 
       "stream": "stdout", 
       "text": [
        "", 
        "Writing "
       ]
      }, 
      {
       "output_type": "stream", 
       "stream": "stdout", 
       "text": [
        " ./Molecular_unit.pvd", 
        "omegasO"
       ]
      }, 
      {
       "output_type": "stream", 
       "stream": "stdout", 
       "text": [
        "", 
        "[  5.01785098e+09   3.27102485e+08   2.13859790e+09]", 
        "omegas", 
        "[  5.01785098e+09   3.27102485e+08   2.13859790e+09]", 
        "Reweighting by unit cell vol", 
        "d_eff= [71454.93,4657.99,30453.95] for d=1.00", 
        "problem.volUnitCell 70224.0", 
        "-45.5744845808"
       ]
      }, 
      {
       "output_type": "stream", 
       "stream": "stdout", 
       "text": [
        "", 
        "Solving linear form of PBE"
       ]
      }, 
      {
       "output_type": "stream", 
       "stream": "stdout", 
       "text": [
        "", 
        "[-19. -22.  21.]"
       ]
      }, 
      {
       "output_type": "stream", 
       "stream": "stdout", 
       "text": [
        "  maps to  (19.0, 22.0, -21.0)", 
        "[-19. -22.  21.]  maps to  (-19.0, 22.0, -21.0)", 
        "[-19.  22. -21.]  maps to  (-19.0, -22.0, 21.0)", 
        "Not loading subdomains, since don't think they're needed", 
        "Loading electrostatic potential from argument", 
        "Using z=-2.000000 for the ligand", 
        "Potential range: 2.068957 - 2.104873 "
       ]
      }, 
      {
       "output_type": "stream", 
       "stream": "stdout", 
       "text": [
        "", 
        "WARNING: Your potential does not seem to cross through 0 (reguirement at outer boundary", 
        "SA: 1.485589e+04 [um^2]"
       ]
      }, 
      {
       "output_type": "stream", 
       "stream": "stdout", 
       "text": [
        "", 
        "Volume: 6.023262e+04 [um^3]", 
        "Total volume (assuming rectangular): 7.022400e+04 [um^3]", 
        "volume fraction (assuming rectangular): 8.577212e-01 [um^3]", 
        "Adding in electrostatic component"
       ]
      }, 
      {
       "output_type": "stream", 
       "stream": "stdout", 
       "text": [
        "", 
        "pmf REMOVEME 2.068957,2.104873 "
       ]
      }, 
      {
       "output_type": "stream", 
       "stream": "stdout", 
       "text": [
        "", 
        "Intfact: exp(p); 0.028738,0.030532 "
       ]
      }, 
      {
       "output_type": "stream", 
       "stream": "stdout", 
       "text": [
        "", 
        "Using amg preconditioner instead of ilu"
       ]
      }, 
      {
       "output_type": "stream", 
       "stream": "stdout", 
       "text": [
        "", 
        "Writing "
       ]
      }, 
      {
       "output_type": "stream", 
       "stream": "stdout", 
       "text": [
        " ./Molecular_unit.pvd", 
        "omegasO"
       ]
      }, 
      {
       "output_type": "stream", 
       "stream": "stdout", 
       "text": [
        "", 
        "[ 1552.54323522  1594.53691819  1584.96268906]", 
        "omegas", 
        "[ 1552.54323522  1594.53691819  1584.96268906]", 
        "Reweighting by unit cell vol", 
        "d_eff= [0.02,0.02,0.02] for d=1.00", 
        "problem.volUnitCell 70224.0", 
        "[-19. -22.  21.]"
       ]
      }, 
      {
       "output_type": "stream", 
       "stream": "stdout", 
       "text": [
        "  maps to  (19.0, 22.0, -21.0)", 
        "[-19. -22.  21.]  maps to  (-19.0, 22.0, -21.0)", 
        "[-19.  22. -21.]  maps to  (-19.0, -22.0, 21.0)", 
        "Not loading subdomains, since don't think they're needed", 
        "Loading electrostatic potential from argument", 
        "Using z=-1.000000 for the ligand", 
        "Potential range: 1.034478 - 1.052436 "
       ]
      }, 
      {
       "output_type": "stream", 
       "stream": "stdout", 
       "text": [
        "", 
        "WARNING: Your potential does not seem to cross through 0 (reguirement at outer boundary", 
        "SA: 1.485589e+04 [um^2]"
       ]
      }, 
      {
       "output_type": "stream", 
       "stream": "stdout", 
       "text": [
        "", 
        "Volume: 6.023262e+04 [um^3]", 
        "Total volume (assuming rectangular): 7.022400e+04 [um^3]", 
        "volume fraction (assuming rectangular): 8.577212e-01 [um^3]", 
        "Adding in electrostatic component"
       ]
      }, 
      {
       "output_type": "stream", 
       "stream": "stdout", 
       "text": [
        "", 
        "pmf REMOVEME 1.034478,1.052436 "
       ]
      }, 
      {
       "output_type": "stream", 
       "stream": "stdout", 
       "text": [
        "", 
        "Intfact: exp(p); 0.169523,0.174735 "
       ]
      }, 
      {
       "output_type": "stream", 
       "stream": "stdout", 
       "text": [
        "", 
        "Using amg preconditioner instead of ilu"
       ]
      }, 
      {
       "output_type": "stream", 
       "stream": "stdout", 
       "text": [
        "", 
        "Writing "
       ]
      }, 
      {
       "output_type": "stream", 
       "stream": "stdout", 
       "text": [
        " ./Molecular_unit.pvd", 
        "omegasO"
       ]
      }, 
      {
       "output_type": "stream", 
       "stream": "stdout", 
       "text": [
        "", 
        "[ 9078.1560698   9324.71848988  9267.03083451]", 
        "omegas", 
        "[ 9078.1560698   9324.71848988  9267.03083451]", 
        "Reweighting by unit cell vol", 
        "d_eff= [0.13,0.13,0.13] for d=1.00", 
        "problem.volUnitCell 70224.0", 
        "[-19. -22.  21.]"
       ]
      }, 
      {
       "output_type": "stream", 
       "stream": "stdout", 
       "text": [
        "  maps to  (19.0, 22.0, -21.0)", 
        "[-19. -22.  21.]  maps to  (-19.0, 22.0, -21.0)", 
        "[-19.  22. -21.]  maps to  (-19.0, -22.0, 21.0)", 
        "Not loading subdomains, since don't think they're needed", 
        "Loading electrostatic potential from argument", 
        "Using z=0.000000 for the ligand", 
        "Potential range: -0.000000 - -0.000000 "
       ]
      }, 
      {
       "output_type": "stream", 
       "stream": "stdout", 
       "text": [
        "", 
        "SA: 1.485589e+04 [um^2]"
       ]
      }, 
      {
       "output_type": "stream", 
       "stream": "stdout", 
       "text": [
        "", 
        "Volume: 6.023262e+04 [um^3]", 
        "Total volume (assuming rectangular): 7.022400e+04 [um^3]", 
        "volume fraction (assuming rectangular): 8.577212e-01 [um^3]", 
        "Adding in electrostatic component"
       ]
      }, 
      {
       "output_type": "stream", 
       "stream": "stdout", 
       "text": [
        "", 
        "pmf REMOVEME -0.000000,-0.000000 "
       ]
      }, 
      {
       "output_type": "stream", 
       "stream": "stdout", 
       "text": [
        "", 
        "Intfact: exp(p); 1.000000,1.000000 "
       ]
      }, 
      {
       "output_type": "stream", 
       "stream": "stdout", 
       "text": [
        "", 
        "Using amg preconditioner instead of ilu"
       ]
      }, 
      {
       "output_type": "stream", 
       "stream": "stdout", 
       "text": [
        "", 
        "Writing "
       ]
      }, 
      {
       "output_type": "stream", 
       "stream": "stdout", 
       "text": [
        " ./Molecular_unit.pvd", 
        "omegasO"
       ]
      }, 
      {
       "output_type": "stream", 
       "stream": "stdout", 
       "text": [
        "", 
        "[ 53085.4987298   54533.17781236  54186.11511853]", 
        "omegas", 
        "[ 53085.4987298   54533.17781236  54186.11511853]", 
        "Reweighting by unit cell vol", 
        "d_eff= [0.76,0.78,0.77] for d=1.00", 
        "problem.volUnitCell 70224.0", 
        "[-19. -22.  21.]"
       ]
      }, 
      {
       "output_type": "stream", 
       "stream": "stdout", 
       "text": [
        "  maps to  (19.0, 22.0, -21.0)", 
        "[-19. -22.  21.]  maps to  (-19.0, 22.0, -21.0)", 
        "[-19.  22. -21.]  maps to  (-19.0, -22.0, 21.0)", 
        "Not loading subdomains, since don't think they're needed", 
        "Loading electrostatic potential from argument", 
        "Using z=1.000000 for the ligand", 
        "Potential range: -1.052436 - -1.034478 "
       ]
      }, 
      {
       "output_type": "stream", 
       "stream": "stdout", 
       "text": [
        "", 
        "WARNING: Your potential does not seem to cross through 0 (reguirement at outer boundary", 
        "SA: 1.485589e+04 [um^2]"
       ]
      }, 
      {
       "output_type": "stream", 
       "stream": "stdout", 
       "text": [
        "", 
        "Volume: 6.023262e+04 [um^3]", 
        "Total volume (assuming rectangular): 7.022400e+04 [um^3]", 
        "volume fraction (assuming rectangular): 8.577212e-01 [um^3]", 
        "Adding in electrostatic component"
       ]
      }, 
      {
       "output_type": "stream", 
       "stream": "stdout", 
       "text": [
        "", 
        "pmf REMOVEME -1.052436,-1.034478 "
       ]
      }, 
      {
       "output_type": "stream", 
       "stream": "stdout", 
       "text": [
        "", 
        "Intfact: exp(p); 5.722942,5.898901 "
       ]
      }, 
      {
       "output_type": "stream", 
       "stream": "stdout", 
       "text": [
        "", 
        "Using amg preconditioner instead of ilu"
       ]
      }, 
      {
       "output_type": "stream", 
       "stream": "stdout", 
       "text": [
        "", 
        "Writing "
       ]
      }, 
      {
       "output_type": "stream", 
       "stream": "stdout", 
       "text": [
        " ./Molecular_unit.pvd", 
        "omegasO"
       ]
      }, 
      {
       "output_type": "stream", 
       "stream": "stdout", 
       "text": [
        "", 
        "[ 310440.54975147  318940.59789992  316855.47728647]", 
        "omegas", 
        "[ 310440.54975147  318940.59789992  316855.47728647]", 
        "Reweighting by unit cell vol", 
        "d_eff= [4.42,4.54,4.51] for d=1.00", 
        "problem.volUnitCell 70224.0", 
        "[-19. -22.  21.]"
       ]
      }, 
      {
       "output_type": "stream", 
       "stream": "stdout", 
       "text": [
        "  maps to  (19.0, 22.0, -21.0)", 
        "[-19. -22.  21.]  maps to  (-19.0, 22.0, -21.0)", 
        "[-19.  22. -21.]  maps to  (-19.0, -22.0, 21.0)", 
        "Not loading subdomains, since don't think they're needed", 
        "Loading electrostatic potential from argument", 
        "Using z=2.000000 for the ligand", 
        "Potential range: -2.104873 - -2.068957 "
       ]
      }, 
      {
       "output_type": "stream", 
       "stream": "stdout", 
       "text": [
        "", 
        "WARNING: Your potential does not seem to cross through 0 (reguirement at outer boundary", 
        "SA: 1.485589e+04 [um^2]"
       ]
      }, 
      {
       "output_type": "stream", 
       "stream": "stdout", 
       "text": [
        "", 
        "Volume: 6.023262e+04 [um^3]", 
        "Total volume (assuming rectangular): 7.022400e+04 [um^3]", 
        "volume fraction (assuming rectangular): 8.577212e-01 [um^3]", 
        "Adding in electrostatic component"
       ]
      }, 
      {
       "output_type": "stream", 
       "stream": "stdout", 
       "text": [
        "", 
        "pmf REMOVEME -2.104873,-2.068957 "
       ]
      }, 
      {
       "output_type": "stream", 
       "stream": "stdout", 
       "text": [
        "", 
        "Intfact: exp(p); 32.752068,34.797036 "
       ]
      }, 
      {
       "output_type": "stream", 
       "stream": "stdout", 
       "text": [
        "", 
        "Using amg preconditioner instead of ilu"
       ]
      }, 
      {
       "output_type": "stream", 
       "stream": "stdout", 
       "text": [
        "", 
        "Writing "
       ]
      }, 
      {
       "output_type": "stream", 
       "stream": "stdout", 
       "text": [
        " ./Molecular_unit.pvd", 
        "omegasO"
       ]
      }, 
      {
       "output_type": "stream", 
       "stream": "stdout", 
       "text": [
        "", 
        "[ 1815537.59819696  1865446.17467486  1852934.94832199]", 
        "omegas", 
        "[ 1815537.59819696  1865446.17467486  1852934.94832199]", 
        "Reweighting by unit cell vol", 
        "d_eff= [25.85,26.56,26.39] for d=1.00", 
        "problem.volUnitCell 70224.0", 
        "-185.707859289"
       ]
      }, 
      {
       "output_type": "stream", 
       "stream": "stdout", 
       "text": [
        "", 
        "Solving linear form of PBE"
       ]
      }, 
      {
       "output_type": "stream", 
       "stream": "stdout", 
       "text": [
        "", 
        "[-19. -22.  21.]"
       ]
      }, 
      {
       "output_type": "stream", 
       "stream": "stdout", 
       "text": [
        "  maps to  (19.0, 22.0, -21.0)", 
        "[-19. -22.  21.]  maps to  (-19.0, 22.0, -21.0)", 
        "[-19.  22. -21.]  maps to  (-19.0, -22.0, 21.0)", 
        "Not loading subdomains, since don't think they're needed", 
        "Loading electrostatic potential from argument", 
        "Using z=-2.000000 for the ligand", 
        "Potential range: 1.433322 - 8.576979 "
       ]
      }, 
      {
       "output_type": "stream", 
       "stream": "stdout", 
       "text": [
        "", 
        "WARNING: Your potential does not seem to cross through 0 (reguirement at outer boundary", 
        "SA: 1.485589e+04 [um^2]"
       ]
      }, 
      {
       "output_type": "stream", 
       "stream": "stdout", 
       "text": [
        "", 
        "Volume: 6.023262e+04 [um^3]", 
        "Total volume (assuming rectangular): 7.022400e+04 [um^3]", 
        "volume fraction (assuming rectangular): 8.577212e-01 [um^3]", 
        "Adding in electrostatic component"
       ]
      }, 
      {
       "output_type": "stream", 
       "stream": "stdout", 
       "text": [
        "", 
        "pmf REMOVEME 1.433322,8.576979 "
       ]
      }, 
      {
       "output_type": "stream", 
       "stream": "stdout", 
       "text": [
        "", 
        "Intfact: exp(p); 0.000001,0.089183 "
       ]
      }, 
      {
       "output_type": "stream", 
       "stream": "stdout", 
       "text": [
        "", 
        "Using amg preconditioner instead of ilu"
       ]
      }, 
      {
       "output_type": "stream", 
       "stream": "stdout", 
       "text": [
        "", 
        "Writing "
       ]
      }, 
      {
       "output_type": "stream", 
       "stream": "stdout", 
       "text": [
        " ./Molecular_unit.pvd", 
        "omegasO"
       ]
      }, 
      {
       "output_type": "stream", 
       "stream": "stdout", 
       "text": [
        "", 
        "[ 1231.7911303    225.98131589  1126.17109748]", 
        "omegas", 
        "[ 1231.7911303    225.98131589  1126.17109748]", 
        "Reweighting by unit cell vol", 
        "d_eff= [0.02,0.00,0.02] for d=1.00", 
        "problem.volUnitCell 70224.0", 
        "[-19. -22.  21.]"
       ]
      }, 
      {
       "output_type": "stream", 
       "stream": "stdout", 
       "text": [
        "  maps to  (19.0, 22.0, -21.0)", 
        "[-19. -22.  21.]  maps to  (-19.0, 22.0, -21.0)", 
        "[-19.  22. -21.]  maps to  (-19.0, -22.0, 21.0)", 
        "Not loading subdomains, since don't think they're needed", 
        "Loading electrostatic potential from argument", 
        "Using z=-1.000000 for the ligand", 
        "Potential range: 0.716661 - 4.288489 "
       ]
      }, 
      {
       "output_type": "stream", 
       "stream": "stdout", 
       "text": [
        "", 
        "WARNING: Your potential does not seem to cross through 0 (reguirement at outer boundary", 
        "SA: 1.485589e+04 [um^2]"
       ]
      }, 
      {
       "output_type": "stream", 
       "stream": "stdout", 
       "text": [
        "", 
        "Volume: 6.023262e+04 [um^3]", 
        "Total volume (assuming rectangular): 7.022400e+04 [um^3]", 
        "volume fraction (assuming rectangular): 8.577212e-01 [um^3]", 
        "Adding in electrostatic component"
       ]
      }, 
      {
       "output_type": "stream", 
       "stream": "stdout", 
       "text": [
        "", 
        "pmf REMOVEME 0.716661,4.288489 "
       ]
      }, 
      {
       "output_type": "stream", 
       "stream": "stdout", 
       "text": [
        "", 
        "Intfact: exp(p); 0.000723,0.298635 "
       ]
      }, 
      {
       "output_type": "stream", 
       "stream": "stdout", 
       "text": [
        "", 
        "Using amg preconditioner instead of ilu"
       ]
      }, 
      {
       "output_type": "stream", 
       "stream": "stdout", 
       "text": [
        "", 
        "Writing "
       ]
      }, 
      {
       "output_type": "stream", 
       "stream": "stdout", 
       "text": [
        " ./Molecular_unit.pvd", 
        "omegasO"
       ]
      }, 
      {
       "output_type": "stream", 
       "stream": "stdout", 
       "text": [
        "", 
        "[ 6375.64431527  3434.22132537  5927.50436035]", 
        "omegas", 
        "[ 6375.64431527  3434.22132537  5927.50436035]", 
        "Reweighting by unit cell vol", 
        "d_eff= [0.09,0.05,0.08] for d=1.00", 
        "problem.volUnitCell 70224.0", 
        "[-19. -22.  21.]"
       ]
      }, 
      {
       "output_type": "stream", 
       "stream": "stdout", 
       "text": [
        "  maps to  (19.0, 22.0, -21.0)", 
        "[-19. -22.  21.]  maps to  (-19.0, 22.0, -21.0)", 
        "[-19.  22. -21.]  maps to  (-19.0, -22.0, 21.0)", 
        "Not loading subdomains, since don't think they're needed", 
        "Loading electrostatic potential from argument", 
        "Using z=0.000000 for the ligand", 
        "Potential range: -0.000000 - -0.000000 "
       ]
      }, 
      {
       "output_type": "stream", 
       "stream": "stdout", 
       "text": [
        "", 
        "SA: 1.485589e+04 [um^2]"
       ]
      }, 
      {
       "output_type": "stream", 
       "stream": "stdout", 
       "text": [
        "", 
        "Volume: 6.023262e+04 [um^3]", 
        "Total volume (assuming rectangular): 7.022400e+04 [um^3]", 
        "volume fraction (assuming rectangular): 8.577212e-01 [um^3]", 
        "Adding in electrostatic component"
       ]
      }, 
      {
       "output_type": "stream", 
       "stream": "stdout", 
       "text": [
        "", 
        "pmf REMOVEME -0.000000,-0.000000 "
       ]
      }, 
      {
       "output_type": "stream", 
       "stream": "stdout", 
       "text": [
        "", 
        "Intfact: exp(p); 1.000000,1.000000 "
       ]
      }, 
      {
       "output_type": "stream", 
       "stream": "stdout", 
       "text": [
        "", 
        "Using amg preconditioner instead of ilu"
       ]
      }, 
      {
       "output_type": "stream", 
       "stream": "stdout", 
       "text": [
        "", 
        "Writing "
       ]
      }, 
      {
       "output_type": "stream", 
       "stream": "stdout", 
       "text": [
        " ./Molecular_unit.pvd", 
        "omegasO"
       ]
      }, 
      {
       "output_type": "stream", 
       "stream": "stdout", 
       "text": [
        "", 
        "[ 53085.4987298   54533.17781236  54186.11511853]", 
        "omegas", 
        "[ 53085.4987298   54533.17781236  54186.11511853]", 
        "Reweighting by unit cell vol", 
        "d_eff= [0.76,0.78,0.77] for d=1.00", 
        "problem.volUnitCell 70224.0", 
        "[-19. -22.  21.]"
       ]
      }, 
      {
       "output_type": "stream", 
       "stream": "stdout", 
       "text": [
        "  maps to  (19.0, 22.0, -21.0)", 
        "[-19. -22.  21.]  maps to  (-19.0, 22.0, -21.0)", 
        "[-19.  22. -21.]  maps to  (-19.0, -22.0, 21.0)", 
        "Not loading subdomains, since don't think they're needed", 
        "Loading electrostatic potential from argument", 
        "Using z=1.000000 for the ligand", 
        "Potential range: -4.288489 - -0.716661 "
       ]
      }, 
      {
       "output_type": "stream", 
       "stream": "stdout", 
       "text": [
        "", 
        "WARNING: Your potential does not seem to cross through 0 (reguirement at outer boundary", 
        "SA: 1.485589e+04 [um^2]"
       ]
      }, 
      {
       "output_type": "stream", 
       "stream": "stdout", 
       "text": [
        "", 
        "Volume: 6.023262e+04 [um^3]", 
        "Total volume (assuming rectangular): 7.022400e+04 [um^3]", 
        "volume fraction (assuming rectangular): 8.577212e-01 [um^3]", 
        "Adding in electrostatic component"
       ]
      }, 
      {
       "output_type": "stream", 
       "stream": "stdout", 
       "text": [
        "", 
        "pmf REMOVEME -4.288489,-0.716661 "
       ]
      }, 
      {
       "output_type": "stream", 
       "stream": "stdout", 
       "text": [
        "", 
        "Intfact: exp(p); 3.348574,1382.783692 "
       ]
      }, 
      {
       "output_type": "stream", 
       "stream": "stdout", 
       "text": [
        "", 
        "Using amg preconditioner instead of ilu"
       ]
      }, 
      {
       "output_type": "stream", 
       "stream": "stdout", 
       "text": [
        "", 
        "Writing "
       ]
      }, 
      {
       "output_type": "stream", 
       "stream": "stdout", 
       "text": [
        " ./Molecular_unit.pvd", 
        "omegasO"
       ]
      }, 
      {
       "output_type": "stream", 
       "stream": "stdout", 
       "text": [
        "", 
        "[ 1857491.69335709   533249.20991457  1319514.11930223]", 
        "omegas", 
        "[ 1857491.69335709   533249.20991457  1319514.11930223]", 
        "Reweighting by unit cell vol", 
        "d_eff= [26.45,7.59,18.79] for d=1.00", 
        "problem.volUnitCell 70224.0", 
        "[-19. -22.  21.]"
       ]
      }, 
      {
       "output_type": "stream", 
       "stream": "stdout", 
       "text": [
        "  maps to  (19.0, 22.0, -21.0)", 
        "[-19. -22.  21.]  maps to  (-19.0, 22.0, -21.0)", 
        "[-19.  22. -21.]  maps to  (-19.0, -22.0, 21.0)", 
        "Not loading subdomains, since don't think they're needed", 
        "Loading electrostatic potential from argument", 
        "Using z=2.000000 for the ligand", 
        "Potential range: -8.576979 - -1.433322 "
       ]
      }, 
      {
       "output_type": "stream", 
       "stream": "stdout", 
       "text": [
        "", 
        "WARNING: Your potential does not seem to cross through 0 (reguirement at outer boundary", 
        "SA: 1.485589e+04 [um^2]"
       ]
      }, 
      {
       "output_type": "stream", 
       "stream": "stdout", 
       "text": [
        "", 
        "Volume: 6.023262e+04 [um^3]", 
        "Total volume (assuming rectangular): 7.022400e+04 [um^3]", 
        "volume fraction (assuming rectangular): 8.577212e-01 [um^3]", 
        "Adding in electrostatic component"
       ]
      }, 
      {
       "output_type": "stream", 
       "stream": "stdout", 
       "text": [
        "", 
        "pmf REMOVEME -8.576979,-1.433322 "
       ]
      }, 
      {
       "output_type": "stream", 
       "stream": "stdout", 
       "text": [
        "", 
        "Intfact: exp(p); 11.212950,1912090.738479 "
       ]
      }, 
      {
       "output_type": "stream", 
       "stream": "stdout", 
       "text": [
        "", 
        "Using amg preconditioner instead of ilu"
       ]
      }, 
      {
       "output_type": "stream", 
       "stream": "stdout", 
       "text": [
        "", 
        "Writing "
       ]
      }, 
      {
       "output_type": "stream", 
       "stream": "stdout", 
       "text": [
        " ./Molecular_unit.pvd", 
        "omegasO"
       ]
      }, 
      {
       "output_type": "stream", 
       "stream": "stdout", 
       "text": [
        "", 
        "[ 93228913.5384929    3379244.16138074  28340262.44196449]", 
        "omegas", 
        "[ 93228913.5384929    3379244.16138074  28340262.44196449]", 
        "Reweighting by unit cell vol", 
        "d_eff= [1327.59,48.12,403.57] for d=1.00", 
        "problem.volUnitCell 70224.0", 
        "-29.9016125944"
       ]
      }, 
      {
       "output_type": "stream", 
       "stream": "stdout", 
       "text": [
        "", 
        "Solving linear form of PBE"
       ]
      }, 
      {
       "output_type": "stream", 
       "stream": "stdout", 
       "text": [
        "", 
        "[-19. -22.  21.]"
       ]
      }, 
      {
       "output_type": "stream", 
       "stream": "stdout", 
       "text": [
        "  maps to  (19.0, 22.0, -21.0)", 
        "[-19. -22.  21.]  maps to  (-19.0, 22.0, -21.0)", 
        "[-19.  22. -21.]  maps to  (-19.0, -22.0, 21.0)", 
        "Not loading subdomains, since don't think they're needed", 
        "Loading electrostatic potential from argument", 
        "Using z=-2.000000 for the ligand", 
        "Potential range: 1.319001 - 1.381016 "
       ]
      }, 
      {
       "output_type": "stream", 
       "stream": "stdout", 
       "text": [
        "", 
        "WARNING: Your potential does not seem to cross through 0 (reguirement at outer boundary", 
        "SA: 1.485589e+04 [um^2]"
       ]
      }, 
      {
       "output_type": "stream", 
       "stream": "stdout", 
       "text": [
        "", 
        "Volume: 6.023262e+04 [um^3]", 
        "Total volume (assuming rectangular): 7.022400e+04 [um^3]", 
        "volume fraction (assuming rectangular): 8.577212e-01 [um^3]", 
        "Adding in electrostatic component"
       ]
      }, 
      {
       "output_type": "stream", 
       "stream": "stdout", 
       "text": [
        "", 
        "pmf REMOVEME 1.319001,1.381016 "
       ]
      }, 
      {
       "output_type": "stream", 
       "stream": "stdout", 
       "text": [
        "", 
        "Intfact: exp(p); 0.097406,0.108145 "
       ]
      }, 
      {
       "output_type": "stream", 
       "stream": "stdout", 
       "text": [
        "", 
        "Using amg preconditioner instead of ilu"
       ]
      }, 
      {
       "output_type": "stream", 
       "stream": "stdout", 
       "text": [
        "", 
        "Writing "
       ]
      }, 
      {
       "output_type": "stream", 
       "stream": "stdout", 
       "text": [
        " ./Molecular_unit.pvd", 
        "omegasO"
       ]
      }, 
      {
       "output_type": "stream", 
       "stream": "stdout", 
       "text": [
        "", 
        "[ 5331.36925451  5474.62007177  5443.20937741]", 
        "omegas", 
        "[ 5331.36925451  5474.62007177  5443.20937741]", 
        "Reweighting by unit cell vol", 
        "d_eff= [0.08,0.08,0.08] for d=1.00", 
        "problem.volUnitCell 70224.0", 
        "[-19. -22.  21.]"
       ]
      }, 
      {
       "output_type": "stream", 
       "stream": "stdout", 
       "text": [
        "  maps to  (19.0, 22.0, -21.0)", 
        "[-19. -22.  21.]  maps to  (-19.0, 22.0, -21.0)", 
        "[-19.  22. -21.]  maps to  (-19.0, -22.0, 21.0)", 
        "Not loading subdomains, since don't think they're needed", 
        "Loading electrostatic potential from argument", 
        "Using z=-1.000000 for the ligand", 
        "Potential range: 0.659501 - 0.690508 "
       ]
      }, 
      {
       "output_type": "stream", 
       "stream": "stdout", 
       "text": [
        "", 
        "WARNING: Your potential does not seem to cross through 0 (reguirement at outer boundary", 
        "SA: 1.485589e+04 [um^2]"
       ]
      }, 
      {
       "output_type": "stream", 
       "stream": "stdout", 
       "text": [
        "", 
        "Volume: 6.023262e+04 [um^3]", 
        "Total volume (assuming rectangular): 7.022400e+04 [um^3]", 
        "volume fraction (assuming rectangular): 8.577212e-01 [um^3]", 
        "Adding in electrostatic component"
       ]
      }, 
      {
       "output_type": "stream", 
       "stream": "stdout", 
       "text": [
        "", 
        "pmf REMOVEME 0.659501,0.690508 "
       ]
      }, 
      {
       "output_type": "stream", 
       "stream": "stdout", 
       "text": [
        "", 
        "Intfact: exp(p); 0.312100,0.328854 "
       ]
      }, 
      {
       "output_type": "stream", 
       "stream": "stdout", 
       "text": [
        "", 
        "Using amg preconditioner instead of ilu"
       ]
      }, 
      {
       "output_type": "stream", 
       "stream": "stdout", 
       "text": [
        "", 
        "Writing "
       ]
      }, 
      {
       "output_type": "stream", 
       "stream": "stdout", 
       "text": [
        " ./Molecular_unit.pvd", 
        "omegasO"
       ]
      }, 
      {
       "output_type": "stream", 
       "stream": "stdout", 
       "text": [
        "", 
        "[ 16821.73131245  17277.1227928   17172.4683587 ]", 
        "omegas", 
        "[ 16821.73131245  17277.1227928   17172.4683587 ]", 
        "Reweighting by unit cell vol", 
        "d_eff= [0.24,0.25,0.24] for d=1.00", 
        "problem.volUnitCell 70224.0", 
        "[-19. -22.  21.]"
       ]
      }, 
      {
       "output_type": "stream", 
       "stream": "stdout", 
       "text": [
        "  maps to  (19.0, 22.0, -21.0)", 
        "[-19. -22.  21.]  maps to  (-19.0, 22.0, -21.0)", 
        "[-19.  22. -21.]  maps to  (-19.0, -22.0, 21.0)", 
        "Not loading subdomains, since don't think they're needed", 
        "Loading electrostatic potential from argument", 
        "Using z=0.000000 for the ligand", 
        "Potential range: -0.000000 - -0.000000 "
       ]
      }, 
      {
       "output_type": "stream", 
       "stream": "stdout", 
       "text": [
        "", 
        "SA: 1.485589e+04 [um^2]"
       ]
      }, 
      {
       "output_type": "stream", 
       "stream": "stdout", 
       "text": [
        "", 
        "Volume: 6.023262e+04 [um^3]", 
        "Total volume (assuming rectangular): 7.022400e+04 [um^3]", 
        "volume fraction (assuming rectangular): 8.577212e-01 [um^3]", 
        "Adding in electrostatic component"
       ]
      }, 
      {
       "output_type": "stream", 
       "stream": "stdout", 
       "text": [
        "", 
        "pmf REMOVEME -0.000000,-0.000000 "
       ]
      }, 
      {
       "output_type": "stream", 
       "stream": "stdout", 
       "text": [
        "", 
        "Intfact: exp(p); 1.000000,1.000000 "
       ]
      }, 
      {
       "output_type": "stream", 
       "stream": "stdout", 
       "text": [
        "", 
        "Using amg preconditioner instead of ilu"
       ]
      }, 
      {
       "output_type": "stream", 
       "stream": "stdout", 
       "text": [
        "", 
        "Writing "
       ]
      }, 
      {
       "output_type": "stream", 
       "stream": "stdout", 
       "text": [
        " ./Molecular_unit.pvd", 
        "omegasO"
       ]
      }, 
      {
       "output_type": "stream", 
       "stream": "stdout", 
       "text": [
        "", 
        "[ 53085.4987298   54533.17781236  54186.11511853]", 
        "omegas", 
        "[ 53085.4987298   54533.17781236  54186.11511853]", 
        "Reweighting by unit cell vol", 
        "d_eff= [0.76,0.78,0.77] for d=1.00", 
        "problem.volUnitCell 70224.0", 
        "[-19. -22.  21.]"
       ]
      }, 
      {
       "output_type": "stream", 
       "stream": "stdout", 
       "text": [
        "  maps to  (19.0, 22.0, -21.0)", 
        "[-19. -22.  21.]  maps to  (-19.0, 22.0, -21.0)", 
        "[-19.  22. -21.]  maps to  (-19.0, -22.0, 21.0)", 
        "Not loading subdomains, since don't think they're needed", 
        "Loading electrostatic potential from argument", 
        "Using z=1.000000 for the ligand", 
        "Potential range: -0.690508 - -0.659501 "
       ]
      }, 
      {
       "output_type": "stream", 
       "stream": "stdout", 
       "text": [
        "", 
        "WARNING: Your potential does not seem to cross through 0 (reguirement at outer boundary", 
        "SA: 1.485589e+04 [um^2]"
       ]
      }, 
      {
       "output_type": "stream", 
       "stream": "stdout", 
       "text": [
        "", 
        "Volume: 6.023262e+04 [um^3]", 
        "Total volume (assuming rectangular): 7.022400e+04 [um^3]", 
        "volume fraction (assuming rectangular): 8.577212e-01 [um^3]", 
        "Adding in electrostatic component"
       ]
      }, 
      {
       "output_type": "stream", 
       "stream": "stdout", 
       "text": [
        "", 
        "pmf REMOVEME -0.690508,-0.659501 "
       ]
      }, 
      {
       "output_type": "stream", 
       "stream": "stdout", 
       "text": [
        "", 
        "Intfact: exp(p); 3.040868,3.204101 "
       ]
      }, 
      {
       "output_type": "stream", 
       "stream": "stdout", 
       "text": [
        "", 
        "Using amg preconditioner instead of ilu"
       ]
      }, 
      {
       "output_type": "stream", 
       "stream": "stdout", 
       "text": [
        "", 
        "Writing "
       ]
      }, 
      {
       "output_type": "stream", 
       "stream": "stdout", 
       "text": [
        " ./Molecular_unit.pvd", 
        "omegasO"
       ]
      }, 
      {
       "output_type": "stream", 
       "stream": "stdout", 
       "text": [
        "", 
        "[ 167553.7937017   172155.98704351  171009.67749927]", 
        "omegas", 
        "[ 167553.7937017   172155.98704351  171009.67749927]", 
        "Reweighting by unit cell vol", 
        "d_eff= [2.39,2.45,2.44] for d=1.00", 
        "problem.volUnitCell 70224.0", 
        "[-19. -22.  21.]"
       ]
      }, 
      {
       "output_type": "stream", 
       "stream": "stdout", 
       "text": [
        "  maps to  (19.0, 22.0, -21.0)", 
        "[-19. -22.  21.]  maps to  (-19.0, 22.0, -21.0)", 
        "[-19.  22. -21.]  maps to  (-19.0, -22.0, 21.0)", 
        "Not loading subdomains, since don't think they're needed", 
        "Loading electrostatic potential from argument", 
        "Using z=2.000000 for the ligand", 
        "Potential range: -1.381016 - -1.319001 "
       ]
      }, 
      {
       "output_type": "stream", 
       "stream": "stdout", 
       "text": [
        "", 
        "WARNING: Your potential does not seem to cross through 0 (reguirement at outer boundary", 
        "SA: 1.485589e+04 [um^2]"
       ]
      }, 
      {
       "output_type": "stream", 
       "stream": "stdout", 
       "text": [
        "", 
        "Volume: 6.023262e+04 [um^3]", 
        "Total volume (assuming rectangular): 7.022400e+04 [um^3]", 
        "volume fraction (assuming rectangular): 8.577212e-01 [um^3]", 
        "Adding in electrostatic component"
       ]
      }, 
      {
       "output_type": "stream", 
       "stream": "stdout", 
       "text": [
        "", 
        "pmf REMOVEME -1.381016,-1.319001 "
       ]
      }, 
      {
       "output_type": "stream", 
       "stream": "stdout", 
       "text": [
        "", 
        "Intfact: exp(p); 9.246875,10.266264 "
       ]
      }, 
      {
       "output_type": "stream", 
       "stream": "stdout", 
       "text": [
        "", 
        "Using amg preconditioner instead of ilu"
       ]
      }, 
      {
       "output_type": "stream", 
       "stream": "stdout", 
       "text": [
        "", 
        "Writing "
       ]
      }, 
      {
       "output_type": "stream", 
       "stream": "stdout", 
       "text": [
        " ./Molecular_unit.pvd", 
        "omegasO"
       ]
      }, 
      {
       "output_type": "stream", 
       "stream": "stdout", 
       "text": [
        "", 
        "[ 528939.05698349  543569.85555608  539797.04530269]", 
        "omegas", 
        "[ 528939.05698349  543569.85555608  539797.04530269]", 
        "Reweighting by unit cell vol", 
        "d_eff= [7.53,7.74,7.69] for d=1.00", 
        "problem.volUnitCell 70224.0", 
        "-160.409284687"
       ]
      }, 
      {
       "output_type": "stream", 
       "stream": "stdout", 
       "text": [
        "", 
        "Solving linear form of PBE"
       ]
      }, 
      {
       "output_type": "stream", 
       "stream": "stdout", 
       "text": [
        "", 
        "[-19. -22.  21.]"
       ]
      }, 
      {
       "output_type": "stream", 
       "stream": "stdout", 
       "text": [
        "  maps to  (19.0, 22.0, -21.0)", 
        "[-19. -22.  21.]  maps to  (-19.0, 22.0, -21.0)", 
        "[-19.  22. -21.]  maps to  (-19.0, -22.0, 21.0)", 
        "Not loading subdomains, since don't think they're needed", 
        "Loading electrostatic potential from argument", 
        "Using z=-2.000000 for the ligand", 
        "Potential range: 0.251054 - 7.408556 "
       ]
      }, 
      {
       "output_type": "stream", 
       "stream": "stdout", 
       "text": [
        "", 
        "WARNING: Your potential does not seem to cross through 0 (reguirement at outer boundary", 
        "SA: 1.485589e+04 [um^2]"
       ]
      }, 
      {
       "output_type": "stream", 
       "stream": "stdout", 
       "text": [
        "", 
        "Volume: 6.023262e+04 [um^3]", 
        "Total volume (assuming rectangular): 7.022400e+04 [um^3]", 
        "volume fraction (assuming rectangular): 8.577212e-01 [um^3]", 
        "Adding in electrostatic component"
       ]
      }, 
      {
       "output_type": "stream", 
       "stream": "stdout", 
       "text": [
        "", 
        "pmf REMOVEME 0.251054,7.408556 "
       ]
      }, 
      {
       "output_type": "stream", 
       "stream": "stdout", 
       "text": [
        "", 
        "Intfact: exp(p); 0.000004,0.654841 "
       ]
      }, 
      {
       "output_type": "stream", 
       "stream": "stdout", 
       "text": [
        "", 
        "Using amg preconditioner instead of ilu"
       ]
      }, 
      {
       "output_type": "stream", 
       "stream": "stdout", 
       "text": [
        "", 
        "Writing "
       ]
      }, 
      {
       "output_type": "stream", 
       "stream": "stdout", 
       "text": [
        " ./Molecular_unit.pvd", 
        "omegasO"
       ]
      }, 
      {
       "output_type": "stream", 
       "stream": "stdout", 
       "text": [
        "", 
        "[ 12840.10674757   4629.26934869  11799.95748623]", 
        "omegas", 
        "[ 12840.10674757   4629.26934869  11799.95748623]", 
        "Reweighting by unit cell vol", 
        "d_eff= [0.18,0.07,0.17] for d=1.00", 
        "problem.volUnitCell 70224.0", 
        "[-19. -22.  21.]"
       ]
      }, 
      {
       "output_type": "stream", 
       "stream": "stdout", 
       "text": [
        "  maps to  (19.0, 22.0, -21.0)", 
        "[-19. -22.  21.]  maps to  (-19.0, 22.0, -21.0)", 
        "[-19.  22. -21.]  maps to  (-19.0, -22.0, 21.0)", 
        "Not loading subdomains, since don't think they're needed", 
        "Loading electrostatic potential from argument", 
        "Using z=-1.000000 for the ligand", 
        "Potential range: 0.125527 - 3.704278 "
       ]
      }, 
      {
       "output_type": "stream", 
       "stream": "stdout", 
       "text": [
        "", 
        "WARNING: Your potential does not seem to cross through 0 (reguirement at outer boundary", 
        "SA: 1.485589e+04 [um^2]"
       ]
      }, 
      {
       "output_type": "stream", 
       "stream": "stdout", 
       "text": [
        "", 
        "Volume: 6.023262e+04 [um^3]", 
        "Total volume (assuming rectangular): 7.022400e+04 [um^3]", 
        "volume fraction (assuming rectangular): 8.577212e-01 [um^3]", 
        "Adding in electrostatic component"
       ]
      }, 
      {
       "output_type": "stream", 
       "stream": "stdout", 
       "text": [
        "", 
        "pmf REMOVEME 0.125527,3.704278 "
       ]
      }, 
      {
       "output_type": "stream", 
       "stream": "stdout", 
       "text": [
        "", 
        "Intfact: exp(p); 0.001937,0.809222 "
       ]
      }, 
      {
       "output_type": "stream", 
       "stream": "stdout", 
       "text": [
        "", 
        "Using amg preconditioner instead of ilu"
       ]
      }, 
      {
       "output_type": "stream", 
       "stream": "stdout", 
       "text": [
        "", 
        "Writing "
       ]
      }, 
      {
       "output_type": "stream", 
       "stream": "stdout", 
       "text": [
        " ./Molecular_unit.pvd", 
        "omegasO"
       ]
      }, 
      {
       "output_type": "stream", 
       "stream": "stdout", 
       "text": [
        "", 
        "[ 21741.74822662  15159.05974488  20304.47287843]", 
        "omegas", 
        "[ 21741.74822662  15159.05974488  20304.47287843]", 
        "Reweighting by unit cell vol", 
        "d_eff= [0.31,0.22,0.29] for d=1.00", 
        "problem.volUnitCell 70224.0", 
        "[-19. -22.  21.]"
       ]
      }, 
      {
       "output_type": "stream", 
       "stream": "stdout", 
       "text": [
        "  maps to  (19.0, 22.0, -21.0)", 
        "[-19. -22.  21.]  maps to  (-19.0, 22.0, -21.0)", 
        "[-19.  22. -21.]  maps to  (-19.0, -22.0, 21.0)", 
        "Not loading subdomains, since don't think they're needed", 
        "Loading electrostatic potential from argument", 
        "Using z=0.000000 for the ligand", 
        "Potential range: -0.000000 - -0.000000 "
       ]
      }, 
      {
       "output_type": "stream", 
       "stream": "stdout", 
       "text": [
        "", 
        "SA: 1.485589e+04 [um^2]"
       ]
      }, 
      {
       "output_type": "stream", 
       "stream": "stdout", 
       "text": [
        "", 
        "Volume: 6.023262e+04 [um^3]", 
        "Total volume (assuming rectangular): 7.022400e+04 [um^3]", 
        "volume fraction (assuming rectangular): 8.577212e-01 [um^3]", 
        "Adding in electrostatic component"
       ]
      }, 
      {
       "output_type": "stream", 
       "stream": "stdout", 
       "text": [
        "", 
        "pmf REMOVEME -0.000000,-0.000000 "
       ]
      }, 
      {
       "output_type": "stream", 
       "stream": "stdout", 
       "text": [
        "", 
        "Intfact: exp(p); 1.000000,1.000000 "
       ]
      }, 
      {
       "output_type": "stream", 
       "stream": "stdout", 
       "text": [
        "", 
        "Using amg preconditioner instead of ilu"
       ]
      }, 
      {
       "output_type": "stream", 
       "stream": "stdout", 
       "text": [
        "", 
        "Writing "
       ]
      }, 
      {
       "output_type": "stream", 
       "stream": "stdout", 
       "text": [
        " ./Molecular_unit.pvd", 
        "omegasO"
       ]
      }, 
      {
       "output_type": "stream", 
       "stream": "stdout", 
       "text": [
        "", 
        "[ 53085.4987298   54533.17781236  54186.11511853]", 
        "omegas", 
        "[ 53085.4987298   54533.17781236  54186.11511853]", 
        "Reweighting by unit cell vol", 
        "d_eff= [0.76,0.78,0.77] for d=1.00", 
        "problem.volUnitCell 70224.0", 
        "[-19. -22.  21.]"
       ]
      }, 
      {
       "output_type": "stream", 
       "stream": "stdout", 
       "text": [
        "  maps to  (19.0, 22.0, -21.0)", 
        "[-19. -22.  21.]  maps to  (-19.0, 22.0, -21.0)", 
        "[-19.  22. -21.]  maps to  (-19.0, -22.0, 21.0)", 
        "Not loading subdomains, since don't think they're needed", 
        "Loading electrostatic potential from argument", 
        "Using z=1.000000 for the ligand", 
        "Potential range: -3.704278 - -0.125527 "
       ]
      }, 
      {
       "output_type": "stream", 
       "stream": "stdout", 
       "text": [
        "", 
        "WARNING: Your potential does not seem to cross through 0 (reguirement at outer boundary", 
        "SA: 1.485589e+04 [um^2]"
       ]
      }, 
      {
       "output_type": "stream", 
       "stream": "stdout", 
       "text": [
        "", 
        "Volume: 6.023262e+04 [um^3]", 
        "Total volume (assuming rectangular): 7.022400e+04 [um^3]", 
        "volume fraction (assuming rectangular): 8.577212e-01 [um^3]", 
        "Adding in electrostatic component"
       ]
      }, 
      {
       "output_type": "stream", 
       "stream": "stdout", 
       "text": [
        "", 
        "pmf REMOVEME -3.704278,-0.125527 "
       ]
      }, 
      {
       "output_type": "stream", 
       "stream": "stdout", 
       "text": [
        "", 
        "Intfact: exp(p); 1.235754,516.292935 "
       ]
      }, 
      {
       "output_type": "stream", 
       "stream": "stdout", 
       "text": [
        "", 
        "Using amg preconditioner instead of ilu"
       ]
      }, 
      {
       "output_type": "stream", 
       "stream": "stdout", 
       "text": [
        "", 
        "Writing "
       ]
      }, 
      {
       "output_type": "stream", 
       "stream": "stdout", 
       "text": [
        " ./Molecular_unit.pvd", 
        "omegasO"
       ]
      }, 
      {
       "output_type": "stream", 
       "stream": "stdout", 
       "text": [
        "", 
        "[ 387839.93416542  147370.84072767  291492.33936979]", 
        "omegas", 
        "[ 387839.93416542  147370.84072767  291492.33936979]", 
        "Reweighting by unit cell vol", 
        "d_eff= [5.52,2.10,4.15] for d=1.00", 
        "problem.volUnitCell 70224.0", 
        "[-19. -22.  21.]"
       ]
      }, 
      {
       "output_type": "stream", 
       "stream": "stdout", 
       "text": [
        "  maps to  (19.0, 22.0, -21.0)", 
        "[-19. -22.  21.]  maps to  (-19.0, 22.0, -21.0)", 
        "[-19.  22. -21.]  maps to  (-19.0, -22.0, 21.0)", 
        "Not loading subdomains, since don't think they're needed", 
        "Loading electrostatic potential from argument", 
        "Using z=2.000000 for the ligand", 
        "Potential range: -7.408556 - -0.251054 "
       ]
      }, 
      {
       "output_type": "stream", 
       "stream": "stdout", 
       "text": [
        "", 
        "WARNING: Your potential does not seem to cross through 0 (reguirement at outer boundary", 
        "SA: 1.485589e+04 [um^2]"
       ]
      }, 
      {
       "output_type": "stream", 
       "stream": "stdout", 
       "text": [
        "", 
        "Volume: 6.023262e+04 [um^3]", 
        "Total volume (assuming rectangular): 7.022400e+04 [um^3]", 
        "volume fraction (assuming rectangular): 8.577212e-01 [um^3]", 
        "Adding in electrostatic component"
       ]
      }, 
      {
       "output_type": "stream", 
       "stream": "stdout", 
       "text": [
        "", 
        "pmf REMOVEME -7.408556,-0.251054 "
       ]
      }, 
      {
       "output_type": "stream", 
       "stream": "stdout", 
       "text": [
        "", 
        "Intfact: exp(p); 1.527089,266558.394673 "
       ]
      }, 
      {
       "output_type": "stream", 
       "stream": "stdout", 
       "text": [
        "", 
        "Using amg preconditioner instead of ilu"
       ]
      }, 
      {
       "output_type": "stream", 
       "stream": "stdout", 
       "text": [
        "", 
        "Writing "
       ]
      }, 
      {
       "output_type": "stream", 
       "stream": "stdout", 
       "text": [
        " ./Molecular_unit.pvd", 
        "omegasO"
       ]
      }, 
      {
       "output_type": "stream", 
       "stream": "stdout", 
       "text": [
        "", 
        "[ 3319045.92140702   280839.51046219  1255966.95132206]", 
        "omegas", 
        "[ 3319045.92140702   280839.51046219  1255966.95132206]", 
        "Reweighting by unit cell vol", 
        "d_eff= [47.26,4.00,17.89] for d=1.00", 
        "problem.volUnitCell 70224.0", 
        "-18.8762585401"
       ]
      }, 
      {
       "output_type": "stream", 
       "stream": "stdout", 
       "text": [
        "", 
        "Solving linear form of PBE"
       ]
      }, 
      {
       "output_type": "stream", 
       "stream": "stdout", 
       "text": [
        "", 
        "[-19. -22.  21.]"
       ]
      }, 
      {
       "output_type": "stream", 
       "stream": "stdout", 
       "text": [
        "  maps to  (19.0, 22.0, -21.0)", 
        "[-19. -22.  21.]  maps to  (-19.0, 22.0, -21.0)", 
        "[-19.  22. -21.]  maps to  (-19.0, -22.0, 21.0)", 
        "Not loading subdomains, since don't think they're needed", 
        "Loading electrostatic potential from argument", 
        "Using z=-2.000000 for the ligand", 
        "Potential range: 0.778733 - 0.871806 "
       ]
      }, 
      {
       "output_type": "stream", 
       "stream": "stdout", 
       "text": [
        "", 
        "WARNING: Your potential does not seem to cross through 0 (reguirement at outer boundary", 
        "SA: 1.485589e+04 [um^2]"
       ]
      }, 
      {
       "output_type": "stream", 
       "stream": "stdout", 
       "text": [
        "", 
        "Volume: 6.023262e+04 [um^3]", 
        "Total volume (assuming rectangular): 7.022400e+04 [um^3]", 
        "volume fraction (assuming rectangular): 8.577212e-01 [um^3]", 
        "Adding in electrostatic component"
       ]
      }, 
      {
       "output_type": "stream", 
       "stream": "stdout", 
       "text": [
        "", 
        "pmf REMOVEME 0.778733,0.871806 "
       ]
      }, 
      {
       "output_type": "stream", 
       "stream": "stdout", 
       "text": [
        "", 
        "Intfact: exp(p); 0.229888,0.268955 "
       ]
      }, 
      {
       "output_type": "stream", 
       "stream": "stdout", 
       "text": [
        "", 
        "Using amg preconditioner instead of ilu"
       ]
      }, 
      {
       "output_type": "stream", 
       "stream": "stdout", 
       "text": [
        "", 
        "Writing "
       ]
      }, 
      {
       "output_type": "stream", 
       "stream": "stdout", 
       "text": [
        " ./Molecular_unit.pvd", 
        "omegasO"
       ]
      }, 
      {
       "output_type": "stream", 
       "stream": "stdout", 
       "text": [
        "", 
        "[ 12818.04549007  13155.65978465  13086.90013228]", 
        "omegas", 
        "[ 12818.04549007  13155.65978465  13086.90013228]", 
        "Reweighting by unit cell vol", 
        "d_eff= [0.18,0.19,0.19] for d=1.00", 
        "problem.volUnitCell 70224.0", 
        "[-19. -22.  21.]"
       ]
      }, 
      {
       "output_type": "stream", 
       "stream": "stdout", 
       "text": [
        "  maps to  (19.0, 22.0, -21.0)", 
        "[-19. -22.  21.]  maps to  (-19.0, 22.0, -21.0)", 
        "[-19.  22. -21.]  maps to  (-19.0, -22.0, 21.0)", 
        "Not loading subdomains, since don't think they're needed", 
        "Loading electrostatic potential from argument", 
        "Using z=-1.000000 for the ligand", 
        "Potential range: 0.389367 - 0.435903 "
       ]
      }, 
      {
       "output_type": "stream", 
       "stream": "stdout", 
       "text": [
        "", 
        "WARNING: Your potential does not seem to cross through 0 (reguirement at outer boundary", 
        "SA: 1.485589e+04 [um^2]"
       ]
      }, 
      {
       "output_type": "stream", 
       "stream": "stdout", 
       "text": [
        "", 
        "Volume: 6.023262e+04 [um^3]", 
        "Total volume (assuming rectangular): 7.022400e+04 [um^3]", 
        "volume fraction (assuming rectangular): 8.577212e-01 [um^3]", 
        "Adding in electrostatic component"
       ]
      }, 
      {
       "output_type": "stream", 
       "stream": "stdout", 
       "text": [
        "", 
        "pmf REMOVEME 0.389367,0.435903 "
       ]
      }, 
      {
       "output_type": "stream", 
       "stream": "stdout", 
       "text": [
        "", 
        "Intfact: exp(p); 0.479467,0.518609 "
       ]
      }, 
      {
       "output_type": "stream", 
       "stream": "stdout", 
       "text": [
        "", 
        "Using amg preconditioner instead of ilu"
       ]
      }, 
      {
       "output_type": "stream", 
       "stream": "stdout", 
       "text": [
        "", 
        "Writing "
       ]
      }, 
      {
       "output_type": "stream", 
       "stream": "stdout", 
       "text": [
        " ./Molecular_unit.pvd", 
        "omegasO"
       ]
      }, 
      {
       "output_type": "stream", 
       "stream": "stdout", 
       "text": [
        "", 
        "[ 26079.73150937  26779.14652231  26623.4177329 ]", 
        "omegas", 
        "[ 26079.73150937  26779.14652231  26623.4177329 ]", 
        "Reweighting by unit cell vol", 
        "d_eff= [0.37,0.38,0.38] for d=1.00", 
        "problem.volUnitCell 70224.0", 
        "[-19. -22.  21.]"
       ]
      }, 
      {
       "output_type": "stream", 
       "stream": "stdout", 
       "text": [
        "  maps to  (19.0, 22.0, -21.0)", 
        "[-19. -22.  21.]  maps to  (-19.0, 22.0, -21.0)", 
        "[-19.  22. -21.]  maps to  (-19.0, -22.0, 21.0)", 
        "Not loading subdomains, since don't think they're needed", 
        "Loading electrostatic potential from argument", 
        "Using z=0.000000 for the ligand", 
        "Potential range: -0.000000 - -0.000000 "
       ]
      }, 
      {
       "output_type": "stream", 
       "stream": "stdout", 
       "text": [
        "", 
        "SA: 1.485589e+04 [um^2]"
       ]
      }, 
      {
       "output_type": "stream", 
       "stream": "stdout", 
       "text": [
        "", 
        "Volume: 6.023262e+04 [um^3]", 
        "Total volume (assuming rectangular): 7.022400e+04 [um^3]", 
        "volume fraction (assuming rectangular): 8.577212e-01 [um^3]", 
        "Adding in electrostatic component"
       ]
      }, 
      {
       "output_type": "stream", 
       "stream": "stdout", 
       "text": [
        "", 
        "pmf REMOVEME -0.000000,-0.000000 "
       ]
      }, 
      {
       "output_type": "stream", 
       "stream": "stdout", 
       "text": [
        "", 
        "Intfact: exp(p); 1.000000,1.000000 "
       ]
      }, 
      {
       "output_type": "stream", 
       "stream": "stdout", 
       "text": [
        "", 
        "Using amg preconditioner instead of ilu"
       ]
      }, 
      {
       "output_type": "stream", 
       "stream": "stdout", 
       "text": [
        "", 
        "Writing "
       ]
      }, 
      {
       "output_type": "stream", 
       "stream": "stdout", 
       "text": [
        " ./Molecular_unit.pvd", 
        "omegasO"
       ]
      }, 
      {
       "output_type": "stream", 
       "stream": "stdout", 
       "text": [
        "", 
        "[ 53085.4987298   54533.17781236  54186.11511853]", 
        "omegas", 
        "[ 53085.4987298   54533.17781236  54186.11511853]", 
        "Reweighting by unit cell vol", 
        "d_eff= [0.76,0.78,0.77] for d=1.00", 
        "problem.volUnitCell 70224.0", 
        "[-19. -22.  21.]"
       ]
      }, 
      {
       "output_type": "stream", 
       "stream": "stdout", 
       "text": [
        "  maps to  (19.0, 22.0, -21.0)", 
        "[-19. -22.  21.]  maps to  (-19.0, 22.0, -21.0)", 
        "[-19.  22. -21.]  maps to  (-19.0, -22.0, 21.0)", 
        "Not loading subdomains, since don't think they're needed", 
        "Loading electrostatic potential from argument", 
        "Using z=1.000000 for the ligand", 
        "Potential range: -0.435903 - -0.389367 "
       ]
      }, 
      {
       "output_type": "stream", 
       "stream": "stdout", 
       "text": [
        "", 
        "WARNING: Your potential does not seem to cross through 0 (reguirement at outer boundary", 
        "SA: 1.485589e+04 [um^2]"
       ]
      }, 
      {
       "output_type": "stream", 
       "stream": "stdout", 
       "text": [
        "", 
        "Volume: 6.023262e+04 [um^3]", 
        "Total volume (assuming rectangular): 7.022400e+04 [um^3]", 
        "volume fraction (assuming rectangular): 8.577212e-01 [um^3]", 
        "Adding in electrostatic component"
       ]
      }, 
      {
       "output_type": "stream", 
       "stream": "stdout", 
       "text": [
        "", 
        "pmf REMOVEME -0.435903,-0.389367 "
       ]
      }, 
      {
       "output_type": "stream", 
       "stream": "stdout", 
       "text": [
        "", 
        "Intfact: exp(p); 1.928235,2.085651 "
       ]
      }, 
      {
       "output_type": "stream", 
       "stream": "stdout", 
       "text": [
        "", 
        "Using amg preconditioner instead of ilu"
       ]
      }, 
      {
       "output_type": "stream", 
       "stream": "stdout", 
       "text": [
        "", 
        "Writing "
       ]
      }, 
      {
       "output_type": "stream", 
       "stream": "stdout", 
       "text": [
        " ./Molecular_unit.pvd", 
        "omegasO"
       ]
      }, 
      {
       "output_type": "stream", 
       "stream": "stdout", 
       "text": [
        "", 
        "[ 108103.39628414  111097.68304547  110333.78863134]", 
        "omegas", 
        "[ 108103.39628414  111097.68304547  110333.78863134]", 
        "Reweighting by unit cell vol", 
        "d_eff= [1.54,1.58,1.57] for d=1.00", 
        "problem.volUnitCell 70224.0", 
        "[-19. -22.  21.]"
       ]
      }, 
      {
       "output_type": "stream", 
       "stream": "stdout", 
       "text": [
        "  maps to  (19.0, 22.0, -21.0)", 
        "[-19. -22.  21.]  maps to  (-19.0, 22.0, -21.0)", 
        "[-19.  22. -21.]  maps to  (-19.0, -22.0, 21.0)", 
        "Not loading subdomains, since don't think they're needed", 
        "Loading electrostatic potential from argument", 
        "Using z=2.000000 for the ligand", 
        "Potential range: -0.871806 - -0.778733 "
       ]
      }, 
      {
       "output_type": "stream", 
       "stream": "stdout", 
       "text": [
        "", 
        "WARNING: Your potential does not seem to cross through 0 (reguirement at outer boundary", 
        "SA: 1.485589e+04 [um^2]"
       ]
      }, 
      {
       "output_type": "stream", 
       "stream": "stdout", 
       "text": [
        "", 
        "Volume: 6.023262e+04 [um^3]", 
        "Total volume (assuming rectangular): 7.022400e+04 [um^3]", 
        "volume fraction (assuming rectangular): 8.577212e-01 [um^3]", 
        "Adding in electrostatic component"
       ]
      }, 
      {
       "output_type": "stream", 
       "stream": "stdout", 
       "text": [
        "", 
        "pmf REMOVEME -0.871806,-0.778733 "
       ]
      }, 
      {
       "output_type": "stream", 
       "stream": "stdout", 
       "text": [
        "", 
        "Intfact: exp(p); 3.718089,4.349941 "
       ]
      }, 
      {
       "output_type": "stream", 
       "stream": "stdout", 
       "text": [
        "", 
        "Using amg preconditioner instead of ilu"
       ]
      }, 
      {
       "output_type": "stream", 
       "stream": "stdout", 
       "text": [
        "", 
        "Writing "
       ]
      }, 
      {
       "output_type": "stream", 
       "stream": "stdout", 
       "text": [
        " ./Molecular_unit.pvd", 
        "omegasO"
       ]
      }, 
      {
       "output_type": "stream", 
       "stream": "stdout", 
       "text": [
        "", 
        "[ 220238.11735824  226427.58021895  224762.76827709]", 
        "omegas", 
        "[ 220238.11735824  226427.58021895  224762.76827709]", 
        "Reweighting by unit cell vol", 
        "d_eff= [3.14,3.22,3.20] for d=1.00", 
        "problem.volUnitCell 70224.0", 
        "-135.215183737"
       ]
      }, 
      {
       "output_type": "stream", 
       "stream": "stdout", 
       "text": [
        "", 
        "Solving linear form of PBE"
       ]
      }, 
      {
       "output_type": "stream", 
       "stream": "stdout", 
       "text": [
        "", 
        "[-19. -22.  21.]"
       ]
      }, 
      {
       "output_type": "stream", 
       "stream": "stdout", 
       "text": [
        "  maps to  (19.0, 22.0, -21.0)", 
        "[-19. -22.  21.]  maps to  (-19.0, 22.0, -21.0)", 
        "[-19.  22. -21.]  maps to  (-19.0, -22.0, 21.0)", 
        "Not loading subdomains, since don't think they're needed", 
        "Loading electrostatic potential from argument", 
        "Using z=-2.000000 for the ligand", 
        "Potential range: 0.016204 - 6.244958 "
       ]
      }, 
      {
       "output_type": "stream", 
       "stream": "stdout", 
       "text": [
        "", 
        "WARNING: Your potential does not seem to cross through 0 (reguirement at outer boundary", 
        "SA: 1.485589e+04 [um^2]"
       ]
      }, 
      {
       "output_type": "stream", 
       "stream": "stdout", 
       "text": [
        "", 
        "Volume: 6.023262e+04 [um^3]", 
        "Total volume (assuming rectangular): 7.022400e+04 [um^3]", 
        "volume fraction (assuming rectangular): 8.577212e-01 [um^3]", 
        "Adding in electrostatic component"
       ]
      }, 
      {
       "output_type": "stream", 
       "stream": "stdout", 
       "text": [
        "", 
        "pmf REMOVEME 0.016204,6.244958 "
       ]
      }, 
      {
       "output_type": "stream", 
       "stream": "stdout", 
       "text": [
        "", 
        "Intfact: exp(p); 0.000027,0.973045 "
       ]
      }, 
      {
       "output_type": "stream", 
       "stream": "stdout", 
       "text": [
        "", 
        "Using amg preconditioner instead of ilu"
       ]
      }, 
      {
       "output_type": "stream", 
       "stream": "stdout", 
       "text": [
        "", 
        "Writing "
       ]
      }, 
      {
       "output_type": "stream", 
       "stream": "stdout", 
       "text": [
        " ./Molecular_unit.pvd", 
        "omegasO"
       ]
      }, 
      {
       "output_type": "stream", 
       "stream": "stdout", 
       "text": [
        "", 
        "[ 29371.17192806  21405.8129318   27031.52524518]", 
        "omegas", 
        "[ 29371.17192806  21405.8129318   27031.52524518]", 
        "Reweighting by unit cell vol", 
        "d_eff= [0.42,0.30,0.38] for d=1.00", 
        "problem.volUnitCell 70224.0", 
        "[-19. -22.  21.]"
       ]
      }, 
      {
       "output_type": "stream", 
       "stream": "stdout", 
       "text": [
        "  maps to  (19.0, 22.0, -21.0)", 
        "[-19. -22.  21.]  maps to  (-19.0, 22.0, -21.0)", 
        "[-19.  22. -21.]  maps to  (-19.0, -22.0, 21.0)", 
        "Not loading subdomains, since don't think they're needed", 
        "Loading electrostatic potential from argument", 
        "Using z=-1.000000 for the ligand", 
        "Potential range: 0.008102 - 3.122479 "
       ]
      }, 
      {
       "output_type": "stream", 
       "stream": "stdout", 
       "text": [
        "", 
        "WARNING: Your potential does not seem to cross through 0 (reguirement at outer boundary", 
        "SA: 1.485589e+04 [um^2]"
       ]
      }, 
      {
       "output_type": "stream", 
       "stream": "stdout", 
       "text": [
        "", 
        "Volume: 6.023262e+04 [um^3]", 
        "Total volume (assuming rectangular): 7.022400e+04 [um^3]", 
        "volume fraction (assuming rectangular): 8.577212e-01 [um^3]", 
        "Adding in electrostatic component"
       ]
      }, 
      {
       "output_type": "stream", 
       "stream": "stdout", 
       "text": [
        "", 
        "pmf REMOVEME 0.008102,3.122479 "
       ]
      }, 
      {
       "output_type": "stream", 
       "stream": "stdout", 
       "text": [
        "", 
        "Intfact: exp(p); 0.005166,0.986430 "
       ]
      }, 
      {
       "output_type": "stream", 
       "stream": "stdout", 
       "text": [
        "", 
        "Using amg preconditioner instead of ilu"
       ]
      }, 
      {
       "output_type": "stream", 
       "stream": "stdout", 
       "text": [
        "", 
        "Writing "
       ]
      }, 
      {
       "output_type": "stream", 
       "stream": "stdout", 
       "text": [
        " ./Molecular_unit.pvd", 
        "omegasO"
       ]
      }, 
      {
       "output_type": "stream", 
       "stream": "stdout", 
       "text": [
        "", 
        "[ 35366.04428351  33056.44642199  33931.85390214]", 
        "omegas", 
        "[ 35366.04428351  33056.44642199  33931.85390214]", 
        "Reweighting by unit cell vol", 
        "d_eff= [0.50,0.47,0.48] for d=1.00", 
        "problem.volUnitCell 70224.0", 
        "[-19. -22.  21.]"
       ]
      }, 
      {
       "output_type": "stream", 
       "stream": "stdout", 
       "text": [
        "  maps to  (19.0, 22.0, -21.0)", 
        "[-19. -22.  21.]  maps to  (-19.0, 22.0, -21.0)", 
        "[-19.  22. -21.]  maps to  (-19.0, -22.0, 21.0)", 
        "Not loading subdomains, since don't think they're needed", 
        "Loading electrostatic potential from argument", 
        "Using z=0.000000 for the ligand", 
        "Potential range: -0.000000 - -0.000000 "
       ]
      }, 
      {
       "output_type": "stream", 
       "stream": "stdout", 
       "text": [
        "", 
        "SA: 1.485589e+04 [um^2]"
       ]
      }, 
      {
       "output_type": "stream", 
       "stream": "stdout", 
       "text": [
        "", 
        "Volume: 6.023262e+04 [um^3]", 
        "Total volume (assuming rectangular): 7.022400e+04 [um^3]", 
        "volume fraction (assuming rectangular): 8.577212e-01 [um^3]", 
        "Adding in electrostatic component"
       ]
      }, 
      {
       "output_type": "stream", 
       "stream": "stdout", 
       "text": [
        "", 
        "pmf REMOVEME -0.000000,-0.000000 "
       ]
      }, 
      {
       "output_type": "stream", 
       "stream": "stdout", 
       "text": [
        "", 
        "Intfact: exp(p); 1.000000,1.000000 "
       ]
      }, 
      {
       "output_type": "stream", 
       "stream": "stdout", 
       "text": [
        "", 
        "Using amg preconditioner instead of ilu"
       ]
      }, 
      {
       "output_type": "stream", 
       "stream": "stdout", 
       "text": [
        "", 
        "Writing "
       ]
      }, 
      {
       "output_type": "stream", 
       "stream": "stdout", 
       "text": [
        " ./Molecular_unit.pvd", 
        "omegasO"
       ]
      }, 
      {
       "output_type": "stream", 
       "stream": "stdout", 
       "text": [
        "", 
        "[ 53085.4987298   54533.17781236  54186.11511853]", 
        "omegas", 
        "[ 53085.4987298   54533.17781236  54186.11511853]", 
        "Reweighting by unit cell vol", 
        "d_eff= [0.76,0.78,0.77] for d=1.00", 
        "problem.volUnitCell 70224.0", 
        "[-19. -22.  21.]"
       ]
      }, 
      {
       "output_type": "stream", 
       "stream": "stdout", 
       "text": [
        "  maps to  (19.0, 22.0, -21.0)", 
        "[-19. -22.  21.]  maps to  (-19.0, 22.0, -21.0)", 
        "[-19.  22. -21.]  maps to  (-19.0, -22.0, 21.0)", 
        "Not loading subdomains, since don't think they're needed", 
        "Loading electrostatic potential from argument", 
        "Using z=1.000000 for the ligand", 
        "Potential range: -3.122479 - -0.008102 "
       ]
      }, 
      {
       "output_type": "stream", 
       "stream": "stdout", 
       "text": [
        "", 
        "WARNING: Your potential does not seem to cross through 0 (reguirement at outer boundary", 
        "SA: 1.485589e+04 [um^2]"
       ]
      }, 
      {
       "output_type": "stream", 
       "stream": "stdout", 
       "text": [
        "", 
        "Volume: 6.023262e+04 [um^3]", 
        "Total volume (assuming rectangular): 7.022400e+04 [um^3]", 
        "volume fraction (assuming rectangular): 8.577212e-01 [um^3]", 
        "Adding in electrostatic component"
       ]
      }, 
      {
       "output_type": "stream", 
       "stream": "stdout", 
       "text": [
        "", 
        "pmf REMOVEME -3.122479,-0.008102 "
       ]
      }, 
      {
       "output_type": "stream", 
       "stream": "stdout", 
       "text": [
        "", 
        "Intfact: exp(p); 1.013756,193.555274 "
       ]
      }, 
      {
       "output_type": "stream", 
       "stream": "stdout", 
       "text": [
        "", 
        "Using amg preconditioner instead of ilu"
       ]
      }, 
      {
       "output_type": "stream", 
       "stream": "stdout", 
       "text": [
        "", 
        "Writing "
       ]
      }, 
      {
       "output_type": "stream", 
       "stream": "stdout", 
       "text": [
        " ./Molecular_unit.pvd", 
        "omegasO"
       ]
      }, 
      {
       "output_type": "stream", 
       "stream": "stdout", 
       "text": [
        "", 
        "[ 139045.37002023   85189.03525434  122491.98498116]", 
        "omegas", 
        "[ 139045.37002023   85189.03525434  122491.98498116]", 
        "Reweighting by unit cell vol", 
        "d_eff= [1.98,1.21,1.74] for d=1.00", 
        "problem.volUnitCell 70224.0", 
        "[-19. -22.  21.]"
       ]
      }, 
      {
       "output_type": "stream", 
       "stream": "stdout", 
       "text": [
        "  maps to  (19.0, 22.0, -21.0)", 
        "[-19. -22.  21.]  maps to  (-19.0, 22.0, -21.0)", 
        "[-19.  22. -21.]  maps to  (-19.0, -22.0, 21.0)", 
        "Not loading subdomains, since don't think they're needed", 
        "Loading electrostatic potential from argument", 
        "Using z=2.000000 for the ligand", 
        "Potential range: -6.244958 - -0.016204 "
       ]
      }, 
      {
       "output_type": "stream", 
       "stream": "stdout", 
       "text": [
        "", 
        "WARNING: Your potential does not seem to cross through 0 (reguirement at outer boundary", 
        "SA: 1.485589e+04 [um^2]"
       ]
      }, 
      {
       "output_type": "stream", 
       "stream": "stdout", 
       "text": [
        "", 
        "Volume: 6.023262e+04 [um^3]", 
        "Total volume (assuming rectangular): 7.022400e+04 [um^3]", 
        "volume fraction (assuming rectangular): 8.577212e-01 [um^3]", 
        "Adding in electrostatic component"
       ]
      }, 
      {
       "output_type": "stream", 
       "stream": "stdout", 
       "text": [
        "", 
        "pmf REMOVEME -6.244958,-0.016204 "
       ]
      }, 
      {
       "output_type": "stream", 
       "stream": "stdout", 
       "text": [
        "", 
        "Intfact: exp(p); 1.027702,37463.644021 "
       ]
      }, 
      {
       "output_type": "stream", 
       "stream": "stdout", 
       "text": [
        "", 
        "Using amg preconditioner instead of ilu"
       ]
      }, 
      {
       "output_type": "stream", 
       "stream": "stdout", 
       "text": [
        "", 
        "Writing "
       ]
      }, 
      {
       "output_type": "stream", 
       "stream": "stdout", 
       "text": [
        " ./Molecular_unit.pvd", 
        "omegasO"
       ]
      }, 
      {
       "output_type": "stream", 
       "stream": "stdout", 
       "text": [
        "", 
        "[ 359303.96869633  108599.13494372  232353.06755291]", 
        "omegas", 
        "[ 359303.96869633  108599.13494372  232353.06755291]", 
        "Reweighting by unit cell vol", 
        "d_eff= [5.12,1.55,3.31] for d=1.00", 
        "problem.volUnitCell 70224.0", 
        "-11.6846189527"
       ]
      }, 
      {
       "output_type": "stream", 
       "stream": "stdout", 
       "text": [
        "", 
        "Solving linear form of PBE"
       ]
      }, 
      {
       "output_type": "stream", 
       "stream": "stdout", 
       "text": [
        "", 
        "[-19. -22.  21.]"
       ]
      }, 
      {
       "output_type": "stream", 
       "stream": "stdout", 
       "text": [
        "  maps to  (19.0, 22.0, -21.0)", 
        "[-19. -22.  21.]  maps to  (-19.0, 22.0, -21.0)", 
        "[-19.  22. -21.]  maps to  (-19.0, -22.0, 21.0)", 
        "Not loading subdomains, since don't think they're needed", 
        "Loading electrostatic potential from argument", 
        "Using z=-2.000000 for the ligand", 
        "Potential range: 0.393095 - 0.539658 "
       ]
      }, 
      {
       "output_type": "stream", 
       "stream": "stdout", 
       "text": [
        "", 
        "WARNING: Your potential does not seem to cross through 0 (reguirement at outer boundary", 
        "SA: 1.485589e+04 [um^2]"
       ]
      }, 
      {
       "output_type": "stream", 
       "stream": "stdout", 
       "text": [
        "", 
        "Volume: 6.023262e+04 [um^3]", 
        "Total volume (assuming rectangular): 7.022400e+04 [um^3]", 
        "volume fraction (assuming rectangular): 8.577212e-01 [um^3]", 
        "Adding in electrostatic component"
       ]
      }, 
      {
       "output_type": "stream", 
       "stream": "stdout", 
       "text": [
        "", 
        "pmf REMOVEME 0.393095,0.539658 "
       ]
      }, 
      {
       "output_type": "stream", 
       "stream": "stdout", 
       "text": [
        "", 
        "Intfact: exp(p); 0.402505,0.515359 "
       ]
      }, 
      {
       "output_type": "stream", 
       "stream": "stdout", 
       "text": [
        "", 
        "Using amg preconditioner instead of ilu"
       ]
      }, 
      {
       "output_type": "stream", 
       "stream": "stdout", 
       "text": [
        "", 
        "Writing "
       ]
      }, 
      {
       "output_type": "stream", 
       "stream": "stdout", 
       "text": [
        " ./Molecular_unit.pvd", 
        "omegasO"
       ]
      }, 
      {
       "output_type": "stream", 
       "stream": "stdout", 
       "text": [
        "", 
        "[ 23091.43009941  23696.43862927  23585.96954303]", 
        "omegas", 
        "[ 23091.43009941  23696.43862927  23585.96954303]", 
        "Reweighting by unit cell vol", 
        "d_eff= [0.33,0.34,0.34] for d=1.00", 
        "problem.volUnitCell 70224.0", 
        "[-19. -22.  21.]"
       ]
      }, 
      {
       "output_type": "stream", 
       "stream": "stdout", 
       "text": [
        "  maps to  (19.0, 22.0, -21.0)", 
        "[-19. -22.  21.]  maps to  (-19.0, 22.0, -21.0)", 
        "[-19.  22. -21.]  maps to  (-19.0, -22.0, 21.0)", 
        "Not loading subdomains, since don't think they're needed", 
        "Loading electrostatic potential from argument", 
        "Using z=-1.000000 for the ligand", 
        "Potential range: 0.196547 - 0.269829 "
       ]
      }, 
      {
       "output_type": "stream", 
       "stream": "stdout", 
       "text": [
        "", 
        "WARNING: Your potential does not seem to cross through 0 (reguirement at outer boundary", 
        "SA: 1.485589e+04 [um^2]"
       ]
      }, 
      {
       "output_type": "stream", 
       "stream": "stdout", 
       "text": [
        "", 
        "Volume: 6.023262e+04 [um^3]", 
        "Total volume (assuming rectangular): 7.022400e+04 [um^3]", 
        "volume fraction (assuming rectangular): 8.577212e-01 [um^3]", 
        "Adding in electrostatic component"
       ]
      }, 
      {
       "output_type": "stream", 
       "stream": "stdout", 
       "text": [
        "", 
        "pmf REMOVEME 0.196547,0.269829 "
       ]
      }, 
      {
       "output_type": "stream", 
       "stream": "stdout", 
       "text": [
        "", 
        "Intfact: exp(p); 0.634433,0.717885 "
       ]
      }, 
      {
       "output_type": "stream", 
       "stream": "stdout", 
       "text": [
        "", 
        "Using amg preconditioner instead of ilu"
       ]
      }, 
      {
       "output_type": "stream", 
       "stream": "stdout", 
       "text": [
        "", 
        "Writing "
       ]
      }, 
      {
       "output_type": "stream", 
       "stream": "stdout", 
       "text": [
        " ./Molecular_unit.pvd", 
        "omegasO"
       ]
      }, 
      {
       "output_type": "stream", 
       "stream": "stdout", 
       "text": [
        "", 
        "[ 34993.54202735  35929.59854066  35729.98686216]", 
        "omegas", 
        "[ 34993.54202735  35929.59854066  35729.98686216]", 
        "Reweighting by unit cell vol", 
        "d_eff= [0.50,0.51,0.51] for d=1.00", 
        "problem.volUnitCell 70224.0", 
        "[-19. -22.  21.]"
       ]
      }, 
      {
       "output_type": "stream", 
       "stream": "stdout", 
       "text": [
        "  maps to  (19.0, 22.0, -21.0)", 
        "[-19. -22.  21.]  maps to  (-19.0, 22.0, -21.0)", 
        "[-19.  22. -21.]  maps to  (-19.0, -22.0, 21.0)", 
        "Not loading subdomains, since don't think they're needed", 
        "Loading electrostatic potential from argument", 
        "Using z=0.000000 for the ligand", 
        "Potential range: -0.000000 - -0.000000 "
       ]
      }, 
      {
       "output_type": "stream", 
       "stream": "stdout", 
       "text": [
        "", 
        "SA: 1.485589e+04 [um^2]"
       ]
      }, 
      {
       "output_type": "stream", 
       "stream": "stdout", 
       "text": [
        "", 
        "Volume: 6.023262e+04 [um^3]", 
        "Total volume (assuming rectangular): 7.022400e+04 [um^3]", 
        "volume fraction (assuming rectangular): 8.577212e-01 [um^3]", 
        "Adding in electrostatic component"
       ]
      }, 
      {
       "output_type": "stream", 
       "stream": "stdout", 
       "text": [
        "", 
        "pmf REMOVEME -0.000000,-0.000000 "
       ]
      }, 
      {
       "output_type": "stream", 
       "stream": "stdout", 
       "text": [
        "", 
        "Intfact: exp(p); 1.000000,1.000000 "
       ]
      }, 
      {
       "output_type": "stream", 
       "stream": "stdout", 
       "text": [
        "", 
        "Using amg preconditioner instead of ilu"
       ]
      }, 
      {
       "output_type": "stream", 
       "stream": "stdout", 
       "text": [
        "", 
        "Writing "
       ]
      }, 
      {
       "output_type": "stream", 
       "stream": "stdout", 
       "text": [
        " ./Molecular_unit.pvd", 
        "omegasO"
       ]
      }, 
      {
       "output_type": "stream", 
       "stream": "stdout", 
       "text": [
        "", 
        "[ 53085.4987298   54533.17781236  54186.11511853]", 
        "omegas", 
        "[ 53085.4987298   54533.17781236  54186.11511853]", 
        "Reweighting by unit cell vol", 
        "d_eff= [0.76,0.78,0.77] for d=1.00", 
        "problem.volUnitCell 70224.0", 
        "[-19. -22.  21.]"
       ]
      }, 
      {
       "output_type": "stream", 
       "stream": "stdout", 
       "text": [
        "  maps to  (19.0, 22.0, -21.0)", 
        "[-19. -22.  21.]  maps to  (-19.0, 22.0, -21.0)", 
        "[-19.  22. -21.]  maps to  (-19.0, -22.0, 21.0)", 
        "Not loading subdomains, since don't think they're needed", 
        "Loading electrostatic potential from argument", 
        "Using z=1.000000 for the ligand", 
        "Potential range: -0.269829 - -0.196547 "
       ]
      }, 
      {
       "output_type": "stream", 
       "stream": "stdout", 
       "text": [
        "", 
        "WARNING: Your potential does not seem to cross through 0 (reguirement at outer boundary", 
        "SA: 1.485589e+04 [um^2]"
       ]
      }, 
      {
       "output_type": "stream", 
       "stream": "stdout", 
       "text": [
        "", 
        "Volume: 6.023262e+04 [um^3]", 
        "Total volume (assuming rectangular): 7.022400e+04 [um^3]", 
        "volume fraction (assuming rectangular): 8.577212e-01 [um^3]", 
        "Adding in electrostatic component"
       ]
      }, 
      {
       "output_type": "stream", 
       "stream": "stdout", 
       "text": [
        "", 
        "pmf REMOVEME -0.269829,-0.196547 "
       ]
      }, 
      {
       "output_type": "stream", 
       "stream": "stdout", 
       "text": [
        "", 
        "Intfact: exp(p); 1.392981,1.576211 "
       ]
      }, 
      {
       "output_type": "stream", 
       "stream": "stdout", 
       "text": [
        "", 
        "Using amg preconditioner instead of ilu"
       ]
      }, 
      {
       "output_type": "stream", 
       "stream": "stdout", 
       "text": [
        "", 
        "Writing "
       ]
      }, 
      {
       "output_type": "stream", 
       "stream": "stdout", 
       "text": [
        " ./Molecular_unit.pvd", 
        "omegasO"
       ]
      }, 
      {
       "output_type": "stream", 
       "stream": "stdout", 
       "text": [
        "", 
        "[ 80614.51573717  82853.1007022   82265.24877452]", 
        "omegas", 
        "[ 80614.51573717  82853.1007022   82265.24877452]", 
        "Reweighting by unit cell vol", 
        "d_eff= [1.15,1.18,1.17] for d=1.00", 
        "problem.volUnitCell 70224.0", 
        "[-19. -22.  21.]"
       ]
      }, 
      {
       "output_type": "stream", 
       "stream": "stdout", 
       "text": [
        "  maps to  (19.0, 22.0, -21.0)", 
        "[-19. -22.  21.]  maps to  (-19.0, 22.0, -21.0)", 
        "[-19.  22. -21.]  maps to  (-19.0, -22.0, 21.0)", 
        "Not loading subdomains, since don't think they're needed", 
        "Loading electrostatic potential from argument", 
        "Using z=2.000000 for the ligand", 
        "Potential range: -0.539658 - -0.393095 "
       ]
      }, 
      {
       "output_type": "stream", 
       "stream": "stdout", 
       "text": [
        "", 
        "WARNING: Your potential does not seem to cross through 0 (reguirement at outer boundary", 
        "SA: 1.485589e+04 [um^2]"
       ]
      }, 
      {
       "output_type": "stream", 
       "stream": "stdout", 
       "text": [
        "", 
        "Volume: 6.023262e+04 [um^3]", 
        "Total volume (assuming rectangular): 7.022400e+04 [um^3]", 
        "volume fraction (assuming rectangular): 8.577212e-01 [um^3]", 
        "Adding in electrostatic component"
       ]
      }, 
      {
       "output_type": "stream", 
       "stream": "stdout", 
       "text": [
        "", 
        "pmf REMOVEME -0.539658,-0.393095 "
       ]
      }, 
      {
       "output_type": "stream", 
       "stream": "stdout", 
       "text": [
        "", 
        "Intfact: exp(p); 1.940395,2.484440 "
       ]
      }, 
      {
       "output_type": "stream", 
       "stream": "stdout", 
       "text": [
        "", 
        "Using amg preconditioner instead of ilu"
       ]
      }, 
      {
       "output_type": "stream", 
       "stream": "stdout", 
       "text": [
        "", 
        "Writing "
       ]
      }, 
      {
       "output_type": "stream", 
       "stream": "stdout", 
       "text": [
        " ./Molecular_unit.pvd", 
        "omegasO"
       ]
      }, 
      {
       "output_type": "stream", 
       "stream": "stdout", 
       "text": [
        "", 
        "[ 122545.58743244  126007.33483054  125030.12360736]", 
        "omegas", 
        "[ 122545.58743244  126007.33483054  125030.12360736]", 
        "Reweighting by unit cell vol", 
        "d_eff= [1.75,1.79,1.78] for d=1.00", 
        "problem.volUnitCell 70224.0", 
        "-110.294614543"
       ]
      }, 
      {
       "output_type": "stream", 
       "stream": "stdout", 
       "text": [
        "", 
        "Solving linear form of PBE"
       ]
      }, 
      {
       "output_type": "stream", 
       "stream": "stdout", 
       "text": [
        "", 
        "[-19. -22.  21.]"
       ]
      }, 
      {
       "output_type": "stream", 
       "stream": "stdout", 
       "text": [
        "  maps to  (19.0, 22.0, -21.0)", 
        "[-19. -22.  21.]  maps to  (-19.0, 22.0, -21.0)", 
        "[-19.  22. -21.]  maps to  (-19.0, -22.0, 21.0)", 
        "Not loading subdomains, since don't think they're needed", 
        "Loading electrostatic potential from argument", 
        "Using z=-2.000000 for the ligand", 
        "Potential range: 0.000261 - 5.093993 "
       ]
      }, 
      {
       "output_type": "stream", 
       "stream": "stdout", 
       "text": [
        "", 
        "WARNING: Your potential does not seem to cross through 0 (reguirement at outer boundary", 
        "SA: 1.485589e+04 [um^2]"
       ]
      }, 
      {
       "output_type": "stream", 
       "stream": "stdout", 
       "text": [
        "", 
        "Volume: 6.023262e+04 [um^3]", 
        "Total volume (assuming rectangular): 7.022400e+04 [um^3]", 
        "volume fraction (assuming rectangular): 8.577212e-01 [um^3]", 
        "Adding in electrostatic component"
       ]
      }, 
      {
       "output_type": "stream", 
       "stream": "stdout", 
       "text": [
        "", 
        "pmf REMOVEME 0.000261,5.093993 "
       ]
      }, 
      {
       "output_type": "stream", 
       "stream": "stdout", 
       "text": [
        "", 
        "Intfact: exp(p); 0.000186,0.999560 "
       ]
      }, 
      {
       "output_type": "stream", 
       "stream": "stdout", 
       "text": [
        "", 
        "Using amg preconditioner instead of ilu"
       ]
      }, 
      {
       "output_type": "stream", 
       "stream": "stdout", 
       "text": [
        "", 
        "Writing "
       ]
      }, 
      {
       "output_type": "stream", 
       "stream": "stdout", 
       "text": [
        " ./Molecular_unit.pvd", 
        "omegasO"
       ]
      }, 
      {
       "output_type": "stream", 
       "stream": "stdout", 
       "text": [
        "", 
        "[ 38272.16842385  39633.28870002  37923.91244163]", 
        "omegas", 
        "[ 38272.16842385  39633.28870002  37923.91244163]", 
        "Reweighting by unit cell vol", 
        "d_eff= [0.55,0.56,0.54] for d=1.00", 
        "problem.volUnitCell 70224.0", 
        "[-19. -22.  21.]"
       ]
      }, 
      {
       "output_type": "stream", 
       "stream": "stdout", 
       "text": [
        "  maps to  (19.0, 22.0, -21.0)", 
        "[-19. -22.  21.]  maps to  (-19.0, 22.0, -21.0)", 
        "[-19.  22. -21.]  maps to  (-19.0, -22.0, 21.0)", 
        "Not loading subdomains, since don't think they're needed", 
        "Loading electrostatic potential from argument", 
        "Using z=-1.000000 for the ligand", 
        "Potential range: 0.000131 - 2.546997 "
       ]
      }, 
      {
       "output_type": "stream", 
       "stream": "stdout", 
       "text": [
        "", 
        "WARNING: Your potential does not seem to cross through 0 (reguirement at outer boundary", 
        "SA: 1.485589e+04 [um^2]"
       ]
      }, 
      {
       "output_type": "stream", 
       "stream": "stdout", 
       "text": [
        "", 
        "Volume: 6.023262e+04 [um^3]", 
        "Total volume (assuming rectangular): 7.022400e+04 [um^3]", 
        "volume fraction (assuming rectangular): 8.577212e-01 [um^3]", 
        "Adding in electrostatic component"
       ]
      }, 
      {
       "output_type": "stream", 
       "stream": "stdout", 
       "text": [
        "", 
        "pmf REMOVEME 0.000131,2.546997 "
       ]
      }, 
      {
       "output_type": "stream", 
       "stream": "stdout", 
       "text": [
        "", 
        "Intfact: exp(p); 0.013635,0.999780 "
       ]
      }, 
      {
       "output_type": "stream", 
       "stream": "stdout", 
       "text": [
        "", 
        "Using amg preconditioner instead of ilu"
       ]
      }, 
      {
       "output_type": "stream", 
       "stream": "stdout", 
       "text": [
        "", 
        "Writing "
       ]
      }, 
      {
       "output_type": "stream", 
       "stream": "stdout", 
       "text": [
        " ./Molecular_unit.pvd", 
        "omegasO"
       ]
      }, 
      {
       "output_type": "stream", 
       "stream": "stdout", 
       "text": [
        "", 
        "[ 42410.26646138  45455.11052475  42846.08778269]", 
        "omegas", 
        "[ 42410.26646138  45455.11052475  42846.08778269]", 
        "Reweighting by unit cell vol", 
        "d_eff= [0.60,0.65,0.61] for d=1.00", 
        "problem.volUnitCell 70224.0", 
        "[-19. -22.  21.]"
       ]
      }, 
      {
       "output_type": "stream", 
       "stream": "stdout", 
       "text": [
        "  maps to  (19.0, 22.0, -21.0)", 
        "[-19. -22.  21.]  maps to  (-19.0, 22.0, -21.0)", 
        "[-19.  22. -21.]  maps to  (-19.0, -22.0, 21.0)", 
        "Not loading subdomains, since don't think they're needed", 
        "Loading electrostatic potential from argument", 
        "Using z=0.000000 for the ligand", 
        "Potential range: -0.000000 - -0.000000 "
       ]
      }, 
      {
       "output_type": "stream", 
       "stream": "stdout", 
       "text": [
        "", 
        "SA: 1.485589e+04 [um^2]"
       ]
      }, 
      {
       "output_type": "stream", 
       "stream": "stdout", 
       "text": [
        "", 
        "Volume: 6.023262e+04 [um^3]", 
        "Total volume (assuming rectangular): 7.022400e+04 [um^3]", 
        "volume fraction (assuming rectangular): 8.577212e-01 [um^3]", 
        "Adding in electrostatic component"
       ]
      }, 
      {
       "output_type": "stream", 
       "stream": "stdout", 
       "text": [
        "", 
        "pmf REMOVEME -0.000000,-0.000000 "
       ]
      }, 
      {
       "output_type": "stream", 
       "stream": "stdout", 
       "text": [
        "", 
        "Intfact: exp(p); 1.000000,1.000000 "
       ]
      }, 
      {
       "output_type": "stream", 
       "stream": "stdout", 
       "text": [
        "", 
        "Using amg preconditioner instead of ilu"
       ]
      }, 
      {
       "output_type": "stream", 
       "stream": "stdout", 
       "text": [
        "", 
        "Writing "
       ]
      }, 
      {
       "output_type": "stream", 
       "stream": "stdout", 
       "text": [
        " ./Molecular_unit.pvd", 
        "omegasO"
       ]
      }, 
      {
       "output_type": "stream", 
       "stream": "stdout", 
       "text": [
        "", 
        "[ 53085.4987298   54533.17781236  54186.11511853]", 
        "omegas", 
        "[ 53085.4987298   54533.17781236  54186.11511853]", 
        "Reweighting by unit cell vol", 
        "d_eff= [0.76,0.78,0.77] for d=1.00", 
        "problem.volUnitCell 70224.0", 
        "[-19. -22.  21.]"
       ]
      }, 
      {
       "output_type": "stream", 
       "stream": "stdout", 
       "text": [
        "  maps to  (19.0, 22.0, -21.0)", 
        "[-19. -22.  21.]  maps to  (-19.0, 22.0, -21.0)", 
        "[-19.  22. -21.]  maps to  (-19.0, -22.0, 21.0)", 
        "Not loading subdomains, since don't think they're needed", 
        "Loading electrostatic potential from argument", 
        "Using z=1.000000 for the ligand", 
        "Potential range: -2.546997 - -0.000131 "
       ]
      }, 
      {
       "output_type": "stream", 
       "stream": "stdout", 
       "text": [
        "", 
        "WARNING: Your potential does not seem to cross through 0 (reguirement at outer boundary", 
        "SA: 1.485589e+04 [um^2]"
       ]
      }, 
      {
       "output_type": "stream", 
       "stream": "stdout", 
       "text": [
        "", 
        "Volume: 6.023262e+04 [um^3]", 
        "Total volume (assuming rectangular): 7.022400e+04 [um^3]", 
        "volume fraction (assuming rectangular): 8.577212e-01 [um^3]", 
        "Adding in electrostatic component"
       ]
      }, 
      {
       "output_type": "stream", 
       "stream": "stdout", 
       "text": [
        "", 
        "pmf REMOVEME -2.546997,-0.000131 "
       ]
      }, 
      {
       "output_type": "stream", 
       "stream": "stdout", 
       "text": [
        "", 
        "Intfact: exp(p); 1.000220,73.339830 "
       ]
      }, 
      {
       "output_type": "stream", 
       "stream": "stdout", 
       "text": [
        "", 
        "Using amg preconditioner instead of ilu"
       ]
      }, 
      {
       "output_type": "stream", 
       "stream": "stdout", 
       "text": [
        "", 
        "Writing "
       ]
      }, 
      {
       "output_type": "stream", 
       "stream": "stdout", 
       "text": [
        " ./Molecular_unit.pvd", 
        "omegasO"
       ]
      }, 
      {
       "output_type": "stream", 
       "stream": "stdout", 
       "text": [
        "", 
        "[ 84071.13407513  69301.42253295  80290.02968553]", 
        "omegas", 
        "[ 84071.13407513  69301.42253295  80290.02968553]", 
        "Reweighting by unit cell vol", 
        "d_eff= [1.20,0.99,1.14] for d=1.00", 
        "problem.volUnitCell 70224.0", 
        "[-19. -22.  21.]"
       ]
      }, 
      {
       "output_type": "stream", 
       "stream": "stdout", 
       "text": [
        "  maps to  (19.0, 22.0, -21.0)", 
        "[-19. -22.  21.]  maps to  (-19.0, 22.0, -21.0)", 
        "[-19.  22. -21.]  maps to  (-19.0, -22.0, 21.0)", 
        "Not loading subdomains, since don't think they're needed", 
        "Loading electrostatic potential from argument", 
        "Using z=2.000000 for the ligand", 
        "Potential range: -5.093993 - -0.000261 "
       ]
      }, 
      {
       "output_type": "stream", 
       "stream": "stdout", 
       "text": [
        "", 
        "WARNING: Your potential does not seem to cross through 0 (reguirement at outer boundary", 
        "SA: 1.485589e+04 [um^2]"
       ]
      }, 
      {
       "output_type": "stream", 
       "stream": "stdout", 
       "text": [
        "", 
        "Volume: 6.023262e+04 [um^3]", 
        "Total volume (assuming rectangular): 7.022400e+04 [um^3]", 
        "volume fraction (assuming rectangular): 8.577212e-01 [um^3]", 
        "Adding in electrostatic component"
       ]
      }, 
      {
       "output_type": "stream", 
       "stream": "stdout", 
       "text": [
        "", 
        "pmf REMOVEME -5.093993,-0.000261 "
       ]
      }, 
      {
       "output_type": "stream", 
       "stream": "stdout", 
       "text": [
        "", 
        "Intfact: exp(p); 1.000440,5378.730636 "
       ]
      }, 
      {
       "output_type": "stream", 
       "stream": "stdout", 
       "text": [
        "", 
        "Using amg preconditioner instead of ilu"
       ]
      }, 
      {
       "output_type": "stream", 
       "stream": "stdout", 
       "text": [
        "", 
        "Writing "
       ]
      }, 
      {
       "output_type": "stream", 
       "stream": "stdout", 
       "text": [
        " ./Molecular_unit.pvd", 
        "omegasO"
       ]
      }, 
      {
       "output_type": "stream", 
       "stream": "stdout", 
       "text": [
        "", 
        "[ 122396.347912     81257.72727559  107985.02160712]", 
        "omegas", 
        "[ 122396.347912     81257.72727559  107985.02160712]", 
        "Reweighting by unit cell vol", 
        "d_eff= [1.74,1.16,1.54] for d=1.00", 
        "problem.volUnitCell 70224.0", 
        "-7.1722355579"
       ]
      }, 
      {
       "output_type": "stream", 
       "stream": "stdout", 
       "text": [
        "", 
        "Solving linear form of PBE"
       ]
      }, 
      {
       "output_type": "stream", 
       "stream": "stdout", 
       "text": [
        "", 
        "[-19. -22.  21.]"
       ]
      }, 
      {
       "output_type": "stream", 
       "stream": "stdout", 
       "text": [
        "  maps to  (19.0, 22.0, -21.0)", 
        "[-19. -22.  21.]  maps to  (-19.0, 22.0, -21.0)", 
        "[-19.  22. -21.]  maps to  (-19.0, -22.0, 21.0)", 
        "Not loading subdomains, since don't think they're needed", 
        "Loading electrostatic potential from argument", 
        "Using z=-2.000000 for the ligand", 
        "Potential range: 0.148994 - 0.331252 "
       ]
      }, 
      {
       "output_type": "stream", 
       "stream": "stdout", 
       "text": [
        "", 
        "WARNING: Your potential does not seem to cross through 0 (reguirement at outer boundary", 
        "SA: 1.485589e+04 [um^2]"
       ]
      }, 
      {
       "output_type": "stream", 
       "stream": "stdout", 
       "text": [
        "", 
        "Volume: 6.023262e+04 [um^3]", 
        "Total volume (assuming rectangular): 7.022400e+04 [um^3]", 
        "volume fraction (assuming rectangular): 8.577212e-01 [um^3]", 
        "Adding in electrostatic component"
       ]
      }, 
      {
       "output_type": "stream", 
       "stream": "stdout", 
       "text": [
        "", 
        "pmf REMOVEME 0.148994,0.331252 "
       ]
      }, 
      {
       "output_type": "stream", 
       "stream": "stdout", 
       "text": [
        "", 
        "Intfact: exp(p); 0.572007,0.777825 "
       ]
      }, 
      {
       "output_type": "stream", 
       "stream": "stdout", 
       "text": [
        "", 
        "Using amg preconditioner instead of ilu"
       ]
      }, 
      {
       "output_type": "stream", 
       "stream": "stdout", 
       "text": [
        "", 
        "Writing "
       ]
      }, 
      {
       "output_type": "stream", 
       "stream": "stdout", 
       "text": [
        " ./Molecular_unit.pvd", 
        "omegasO"
       ]
      }, 
      {
       "output_type": "stream", 
       "stream": "stdout", 
       "text": [
        "", 
        "[ 33764.0346986   34632.13080111  34493.30268996]", 
        "omegas", 
        "[ 33764.0346986   34632.13080111  34493.30268996]", 
        "Reweighting by unit cell vol", 
        "d_eff= [0.48,0.49,0.49] for d=1.00", 
        "problem.volUnitCell 70224.0", 
        "[-19. -22.  21.]"
       ]
      }, 
      {
       "output_type": "stream", 
       "stream": "stdout", 
       "text": [
        "  maps to  (19.0, 22.0, -21.0)", 
        "[-19. -22.  21.]  maps to  (-19.0, 22.0, -21.0)", 
        "[-19.  22. -21.]  maps to  (-19.0, -22.0, 21.0)", 
        "Not loading subdomains, since don't think they're needed", 
        "Loading electrostatic potential from argument", 
        "Using z=-1.000000 for the ligand", 
        "Potential range: 0.074497 - 0.165626 "
       ]
      }, 
      {
       "output_type": "stream", 
       "stream": "stdout", 
       "text": [
        "", 
        "WARNING: Your potential does not seem to cross through 0 (reguirement at outer boundary", 
        "SA: 1.485589e+04 [um^2]"
       ]
      }, 
      {
       "output_type": "stream", 
       "stream": "stdout", 
       "text": [
        "", 
        "Volume: 6.023262e+04 [um^3]", 
        "Total volume (assuming rectangular): 7.022400e+04 [um^3]", 
        "volume fraction (assuming rectangular): 8.577212e-01 [um^3]", 
        "Adding in electrostatic component"
       ]
      }, 
      {
       "output_type": "stream", 
       "stream": "stdout", 
       "text": [
        "", 
        "pmf REMOVEME 0.074497,0.165626 "
       ]
      }, 
      {
       "output_type": "stream", 
       "stream": "stdout", 
       "text": [
        "", 
        "Intfact: exp(p); 0.756312,0.881944 "
       ]
      }, 
      {
       "output_type": "stream", 
       "stream": "stdout", 
       "text": [
        "", 
        "Using amg preconditioner instead of ilu"
       ]
      }, 
      {
       "output_type": "stream", 
       "stream": "stdout", 
       "text": [
        "", 
        "Writing "
       ]
      }, 
      {
       "output_type": "stream", 
       "stream": "stdout", 
       "text": [
        " ./Molecular_unit.pvd", 
        "omegasO"
       ]
      }, 
      {
       "output_type": "stream", 
       "stream": "stdout", 
       "text": [
        "", 
        "[ 42297.11864417  43418.92660521  43190.54702361]", 
        "omegas", 
        "[ 42297.11864417  43418.92660521  43190.54702361]", 
        "Reweighting by unit cell vol", 
        "d_eff= [0.60,0.62,0.62] for d=1.00", 
        "problem.volUnitCell 70224.0", 
        "[-19. -22.  21.]"
       ]
      }, 
      {
       "output_type": "stream", 
       "stream": "stdout", 
       "text": [
        "  maps to  (19.0, 22.0, -21.0)", 
        "[-19. -22.  21.]  maps to  (-19.0, 22.0, -21.0)", 
        "[-19.  22. -21.]  maps to  (-19.0, -22.0, 21.0)", 
        "Not loading subdomains, since don't think they're needed", 
        "Loading electrostatic potential from argument", 
        "Using z=0.000000 for the ligand", 
        "Potential range: -0.000000 - -0.000000 "
       ]
      }, 
      {
       "output_type": "stream", 
       "stream": "stdout", 
       "text": [
        "", 
        "SA: 1.485589e+04 [um^2]"
       ]
      }, 
      {
       "output_type": "stream", 
       "stream": "stdout", 
       "text": [
        "", 
        "Volume: 6.023262e+04 [um^3]", 
        "Total volume (assuming rectangular): 7.022400e+04 [um^3]", 
        "volume fraction (assuming rectangular): 8.577212e-01 [um^3]", 
        "Adding in electrostatic component"
       ]
      }, 
      {
       "output_type": "stream", 
       "stream": "stdout", 
       "text": [
        "", 
        "pmf REMOVEME -0.000000,-0.000000 "
       ]
      }, 
      {
       "output_type": "stream", 
       "stream": "stdout", 
       "text": [
        "", 
        "Intfact: exp(p); 1.000000,1.000000 "
       ]
      }, 
      {
       "output_type": "stream", 
       "stream": "stdout", 
       "text": [
        "", 
        "Using amg preconditioner instead of ilu"
       ]
      }, 
      {
       "output_type": "stream", 
       "stream": "stdout", 
       "text": [
        "", 
        "Writing "
       ]
      }, 
      {
       "output_type": "stream", 
       "stream": "stdout", 
       "text": [
        " ./Molecular_unit.pvd", 
        "omegasO"
       ]
      }, 
      {
       "output_type": "stream", 
       "stream": "stdout", 
       "text": [
        "", 
        "[ 53085.4987298   54533.17781236  54186.11511853]", 
        "omegas", 
        "[ 53085.4987298   54533.17781236  54186.11511853]", 
        "Reweighting by unit cell vol", 
        "d_eff= [0.76,0.78,0.77] for d=1.00", 
        "problem.volUnitCell 70224.0", 
        "[-19. -22.  21.]"
       ]
      }, 
      {
       "output_type": "stream", 
       "stream": "stdout", 
       "text": [
        "  maps to  (19.0, 22.0, -21.0)", 
        "[-19. -22.  21.]  maps to  (-19.0, 22.0, -21.0)", 
        "[-19.  22. -21.]  maps to  (-19.0, -22.0, 21.0)", 
        "Not loading subdomains, since don't think they're needed", 
        "Loading electrostatic potential from argument", 
        "Using z=1.000000 for the ligand", 
        "Potential range: -0.165626 - -0.074497 "
       ]
      }, 
      {
       "output_type": "stream", 
       "stream": "stdout", 
       "text": [
        "", 
        "WARNING: Your potential does not seem to cross through 0 (reguirement at outer boundary", 
        "SA: 1.485589e+04 [um^2]"
       ]
      }, 
      {
       "output_type": "stream", 
       "stream": "stdout", 
       "text": [
        "", 
        "Volume: 6.023262e+04 [um^3]", 
        "Total volume (assuming rectangular): 7.022400e+04 [um^3]", 
        "volume fraction (assuming rectangular): 8.577212e-01 [um^3]", 
        "Adding in electrostatic component"
       ]
      }, 
      {
       "output_type": "stream", 
       "stream": "stdout", 
       "text": [
        "", 
        "pmf REMOVEME -0.165626,-0.074497 "
       ]
      }, 
      {
       "output_type": "stream", 
       "stream": "stdout", 
       "text": [
        "", 
        "Intfact: exp(p); 1.133859,1.322206 "
       ]
      }, 
      {
       "output_type": "stream", 
       "stream": "stdout", 
       "text": [
        "", 
        "Using amg preconditioner instead of ilu"
       ]
      }, 
      {
       "output_type": "stream", 
       "stream": "stdout", 
       "text": [
        "", 
        "Writing "
       ]
      }, 
      {
       "output_type": "stream", 
       "stream": "stdout", 
       "text": [
        " ./Molecular_unit.pvd", 
        "omegasO"
       ]
      }, 
      {
       "output_type": "stream", 
       "stream": "stdout", 
       "text": [
        "", 
        "[ 66749.33040545  68616.12746918  68112.70592464]", 
        "omegas", 
        "[ 66749.33040545  68616.12746918  68112.70592464]", 
        "Reweighting by unit cell vol", 
        "d_eff= [0.95,0.98,0.97] for d=1.00", 
        "problem.volUnitCell 70224.0", 
        "[-19. -22.  21.]"
       ]
      }, 
      {
       "output_type": "stream", 
       "stream": "stdout", 
       "text": [
        "  maps to  (19.0, 22.0, -21.0)", 
        "[-19. -22.  21.]  maps to  (-19.0, 22.0, -21.0)", 
        "[-19.  22. -21.]  maps to  (-19.0, -22.0, 21.0)", 
        "Not loading subdomains, since don't think they're needed", 
        "Loading electrostatic potential from argument", 
        "Using z=2.000000 for the ligand", 
        "Potential range: -0.331252 - -0.148994 "
       ]
      }, 
      {
       "output_type": "stream", 
       "stream": "stdout", 
       "text": [
        "", 
        "WARNING: Your potential does not seem to cross through 0 (reguirement at outer boundary", 
        "SA: 1.485589e+04 [um^2]"
       ]
      }, 
      {
       "output_type": "stream", 
       "stream": "stdout", 
       "text": [
        "", 
        "Volume: 6.023262e+04 [um^3]", 
        "Total volume (assuming rectangular): 7.022400e+04 [um^3]", 
        "volume fraction (assuming rectangular): 8.577212e-01 [um^3]", 
        "Adding in electrostatic component"
       ]
      }, 
      {
       "output_type": "stream", 
       "stream": "stdout", 
       "text": [
        "", 
        "pmf REMOVEME -0.331252,-0.148994 "
       ]
      }, 
      {
       "output_type": "stream", 
       "stream": "stdout", 
       "text": [
        "", 
        "Intfact: exp(p); 1.285637,1.748230 "
       ]
      }, 
      {
       "output_type": "stream", 
       "stream": "stdout", 
       "text": [
        "", 
        "Using amg preconditioner instead of ilu"
       ]
      }, 
      {
       "output_type": "stream", 
       "stream": "stdout", 
       "text": [
        "", 
        "Writing "
       ]
      }, 
      {
       "output_type": "stream", 
       "stream": "stdout", 
       "text": [
        " ./Molecular_unit.pvd", 
        "omegasO"
       ]
      }, 
      {
       "output_type": "stream", 
       "stream": "stdout", 
       "text": [
        "", 
        "[ 84085.06413724  86491.75031897  85783.25913432]", 
        "omegas", 
        "[ 84085.06413724  86491.75031897  85783.25913432]", 
        "Reweighting by unit cell vol", 
        "d_eff= [1.20,1.23,1.22] for d=1.00", 
        "problem.volUnitCell 70224.0", 
        "-86.0631807404"
       ]
      }, 
      {
       "output_type": "stream", 
       "stream": "stdout", 
       "text": [
        "", 
        "Solving linear form of PBE"
       ]
      }, 
      {
       "output_type": "stream", 
       "stream": "stdout", 
       "text": [
        "", 
        "[-19. -22.  21.]"
       ]
      }, 
      {
       "output_type": "stream", 
       "stream": "stdout", 
       "text": [
        "  maps to  (19.0, 22.0, -21.0)", 
        "[-19. -22.  21.]  maps to  (-19.0, 22.0, -21.0)", 
        "[-19.  22. -21.]  maps to  (-19.0, -22.0, 21.0)", 
        "Not loading subdomains, since don't think they're needed", 
        "Loading electrostatic potential from argument", 
        "Using z=-2.000000 for the ligand", 
        "Potential range: -0.006699 - 3.974856 "
       ]
      }, 
      {
       "output_type": "stream", 
       "stream": "stdout", 
       "text": [
        "", 
        "SA: 1.485589e+04 [um^2]"
       ]
      }, 
      {
       "output_type": "stream", 
       "stream": "stdout", 
       "text": [
        "", 
        "Volume: 6.023262e+04 [um^3]", 
        "Total volume (assuming rectangular): 7.022400e+04 [um^3]", 
        "volume fraction (assuming rectangular): 8.577212e-01 [um^3]", 
        "Adding in electrostatic component"
       ]
      }, 
      {
       "output_type": "stream", 
       "stream": "stdout", 
       "text": [
        "", 
        "pmf REMOVEME -0.006699,3.974856 "
       ]
      }, 
      {
       "output_type": "stream", 
       "stream": "stdout", 
       "text": [
        "", 
        "Intfact: exp(p); 0.001227,1.011361 "
       ]
      }, 
      {
       "output_type": "stream", 
       "stream": "stdout", 
       "text": [
        "", 
        "Using amg preconditioner instead of ilu"
       ]
      }, 
      {
       "output_type": "stream", 
       "stream": "stdout", 
       "text": [
        "", 
        "Writing "
       ]
      }, 
      {
       "output_type": "stream", 
       "stream": "stdout", 
       "text": [
        " ./Molecular_unit.pvd", 
        "omegasO"
       ]
      }, 
      {
       "output_type": "stream", 
       "stream": "stdout", 
       "text": [
        "", 
        "[ 45330.84424056  49320.56080871  45911.11600815]", 
        "omegas", 
        "[ 45330.84424056  49320.56080871  45911.11600815]", 
        "Reweighting by unit cell vol", 
        "d_eff= [0.65,0.70,0.65] for d=1.00", 
        "problem.volUnitCell 70224.0", 
        "[-19. -22.  21.]"
       ]
      }, 
      {
       "output_type": "stream", 
       "stream": "stdout", 
       "text": [
        "  maps to  (19.0, 22.0, -21.0)", 
        "[-19. -22.  21.]  maps to  (-19.0, 22.0, -21.0)", 
        "[-19.  22. -21.]  maps to  (-19.0, -22.0, 21.0)", 
        "Not loading subdomains, since don't think they're needed", 
        "Loading electrostatic potential from argument", 
        "Using z=-1.000000 for the ligand", 
        "Potential range: -0.003350 - 1.987428 "
       ]
      }, 
      {
       "output_type": "stream", 
       "stream": "stdout", 
       "text": [
        "", 
        "SA: 1.485589e+04 [um^2]"
       ]
      }, 
      {
       "output_type": "stream", 
       "stream": "stdout", 
       "text": [
        "", 
        "Volume: 6.023262e+04 [um^3]", 
        "Total volume (assuming rectangular): 7.022400e+04 [um^3]", 
        "volume fraction (assuming rectangular): 8.577212e-01 [um^3]", 
        "Adding in electrostatic component"
       ]
      }, 
      {
       "output_type": "stream", 
       "stream": "stdout", 
       "text": [
        "", 
        "pmf REMOVEME -0.003350,1.987428 "
       ]
      }, 
      {
       "output_type": "stream", 
       "stream": "stdout", 
       "text": [
        "", 
        "Intfact: exp(p); 0.035032,1.005665 "
       ]
      }, 
      {
       "output_type": "stream", 
       "stream": "stdout", 
       "text": [
        "", 
        "Using amg preconditioner instead of ilu"
       ]
      }, 
      {
       "output_type": "stream", 
       "stream": "stdout", 
       "text": [
        "", 
        "Writing "
       ]
      }, 
      {
       "output_type": "stream", 
       "stream": "stdout", 
       "text": [
        " ./Molecular_unit.pvd", 
        "omegasO"
       ]
      }, 
      {
       "output_type": "stream", 
       "stream": "stdout", 
       "text": [
        "", 
        "[ 47516.82503236  51259.53488425  48531.61991124]", 
        "omegas", 
        "[ 47516.82503236  51259.53488425  48531.61991124]", 
        "Reweighting by unit cell vol", 
        "d_eff= [0.68,0.73,0.69] for d=1.00", 
        "problem.volUnitCell 70224.0", 
        "[-19. -22.  21.]"
       ]
      }, 
      {
       "output_type": "stream", 
       "stream": "stdout", 
       "text": [
        "  maps to  (19.0, 22.0, -21.0)", 
        "[-19. -22.  21.]  maps to  (-19.0, 22.0, -21.0)", 
        "[-19.  22. -21.]  maps to  (-19.0, -22.0, 21.0)", 
        "Not loading subdomains, since don't think they're needed", 
        "Loading electrostatic potential from argument", 
        "Using z=0.000000 for the ligand", 
        "Potential range: -0.000000 - -0.000000 "
       ]
      }, 
      {
       "output_type": "stream", 
       "stream": "stdout", 
       "text": [
        "", 
        "SA: 1.485589e+04 [um^2]"
       ]
      }, 
      {
       "output_type": "stream", 
       "stream": "stdout", 
       "text": [
        "", 
        "Volume: 6.023262e+04 [um^3]", 
        "Total volume (assuming rectangular): 7.022400e+04 [um^3]", 
        "volume fraction (assuming rectangular): 8.577212e-01 [um^3]", 
        "Adding in electrostatic component"
       ]
      }, 
      {
       "output_type": "stream", 
       "stream": "stdout", 
       "text": [
        "", 
        "pmf REMOVEME -0.000000,-0.000000 "
       ]
      }, 
      {
       "output_type": "stream", 
       "stream": "stdout", 
       "text": [
        "", 
        "Intfact: exp(p); 1.000000,1.000000 "
       ]
      }, 
      {
       "output_type": "stream", 
       "stream": "stdout", 
       "text": [
        "", 
        "Using amg preconditioner instead of ilu"
       ]
      }, 
      {
       "output_type": "stream", 
       "stream": "stdout", 
       "text": [
        "", 
        "Writing "
       ]
      }, 
      {
       "output_type": "stream", 
       "stream": "stdout", 
       "text": [
        " ./Molecular_unit.pvd", 
        "omegasO"
       ]
      }, 
      {
       "output_type": "stream", 
       "stream": "stdout", 
       "text": [
        "", 
        "[ 53085.4987298   54533.17781236  54186.11511853]", 
        "omegas", 
        "[ 53085.4987298   54533.17781236  54186.11511853]", 
        "Reweighting by unit cell vol", 
        "d_eff= [0.76,0.78,0.77] for d=1.00", 
        "problem.volUnitCell 70224.0", 
        "[-19. -22.  21.]"
       ]
      }, 
      {
       "output_type": "stream", 
       "stream": "stdout", 
       "text": [
        "  maps to  (19.0, 22.0, -21.0)", 
        "[-19. -22.  21.]  maps to  (-19.0, 22.0, -21.0)", 
        "[-19.  22. -21.]  maps to  (-19.0, -22.0, 21.0)", 
        "Not loading subdomains, since don't think they're needed", 
        "Loading electrostatic potential from argument", 
        "Using z=1.000000 for the ligand", 
        "Potential range: -1.987428 - 0.003350 "
       ]
      }, 
      {
       "output_type": "stream", 
       "stream": "stdout", 
       "text": [
        "", 
        "SA: 1.485589e+04 [um^2]"
       ]
      }, 
      {
       "output_type": "stream", 
       "stream": "stdout", 
       "text": [
        "", 
        "Volume: 6.023262e+04 [um^3]", 
        "Total volume (assuming rectangular): 7.022400e+04 [um^3]", 
        "volume fraction (assuming rectangular): 8.577212e-01 [um^3]", 
        "Adding in electrostatic component"
       ]
      }, 
      {
       "output_type": "stream", 
       "stream": "stdout", 
       "text": [
        "", 
        "pmf REMOVEME -1.987428,0.003350 "
       ]
      }, 
      {
       "output_type": "stream", 
       "stream": "stdout", 
       "text": [
        "", 
        "Intfact: exp(p); 0.994367,28.544976 "
       ]
      }, 
      {
       "output_type": "stream", 
       "stream": "stdout", 
       "text": [
        "", 
        "Using amg preconditioner instead of ilu"
       ]
      }, 
      {
       "output_type": "stream", 
       "stream": "stdout", 
       "text": [
        "", 
        "Writing "
       ]
      }, 
      {
       "output_type": "stream", 
       "stream": "stdout", 
       "text": [
        " ./Molecular_unit.pvd", 
        "omegasO"
       ]
      }, 
      {
       "output_type": "stream", 
       "stream": "stdout", 
       "text": [
        "", 
        "[ 66349.97607842  60858.2528361   65534.7180601 ]", 
        "omegas", 
        "[ 66349.97607842  60858.2528361   65534.7180601 ]", 
        "Reweighting by unit cell vol", 
        "d_eff= [0.94,0.87,0.93] for d=1.00", 
        "problem.volUnitCell 70224.0", 
        "[-19. -22.  21.]"
       ]
      }, 
      {
       "output_type": "stream", 
       "stream": "stdout", 
       "text": [
        "  maps to  (19.0, 22.0, -21.0)", 
        "[-19. -22.  21.]  maps to  (-19.0, 22.0, -21.0)", 
        "[-19.  22. -21.]  maps to  (-19.0, -22.0, 21.0)", 
        "Not loading subdomains, since don't think they're needed", 
        "Loading electrostatic potential from argument", 
        "Using z=2.000000 for the ligand", 
        "Potential range: -3.974856 - 0.006699 "
       ]
      }, 
      {
       "output_type": "stream", 
       "stream": "stdout", 
       "text": [
        "", 
        "SA: 1.485589e+04 [um^2]"
       ]
      }, 
      {
       "output_type": "stream", 
       "stream": "stdout", 
       "text": [
        "", 
        "Volume: 6.023262e+04 [um^3]", 
        "Total volume (assuming rectangular): 7.022400e+04 [um^3]", 
        "volume fraction (assuming rectangular): 8.577212e-01 [um^3]", 
        "Adding in electrostatic component"
       ]
      }, 
      {
       "output_type": "stream", 
       "stream": "stdout", 
       "text": [
        "", 
        "pmf REMOVEME -3.974856,0.006699 "
       ]
      }, 
      {
       "output_type": "stream", 
       "stream": "stdout", 
       "text": [
        "", 
        "Intfact: exp(p); 0.988766,814.815638 "
       ]
      }, 
      {
       "output_type": "stream", 
       "stream": "stdout", 
       "text": [
        "", 
        "Using amg preconditioner instead of ilu"
       ]
      }, 
      {
       "output_type": "stream", 
       "stream": "stdout", 
       "text": [
        "", 
        "Writing "
       ]
      }, 
      {
       "output_type": "stream", 
       "stream": "stdout", 
       "text": [
        " ./Molecular_unit.pvd", 
        "omegasO"
       ]
      }, 
      {
       "output_type": "stream", 
       "stream": "stdout", 
       "text": [
        "", 
        "[ 79021.93652103  66670.3534666   75981.55009556]", 
        "omegas", 
        "[ 79021.93652103  66670.3534666   75981.55009556]", 
        "Reweighting by unit cell vol", 
        "d_eff= [1.13,0.95,1.08] for d=1.00", 
        "problem.volUnitCell 70224.0", 
        "-4.38783112574"
       ]
      }, 
      {
       "output_type": "stream", 
       "stream": "stdout", 
       "text": [
        "", 
        "Solving linear form of PBE"
       ]
      }, 
      {
       "output_type": "stream", 
       "stream": "stdout", 
       "text": [
        "", 
        "[-19. -22.  21.]"
       ]
      }, 
      {
       "output_type": "stream", 
       "stream": "stdout", 
       "text": [
        "  maps to  (19.0, 22.0, -21.0)", 
        "[-19. -22.  21.]  maps to  (-19.0, 22.0, -21.0)", 
        "[-19.  22. -21.]  maps to  (-19.0, -22.0, 21.0)", 
        "Not loading subdomains, since don't think they're needed", 
        "Loading electrostatic potential from argument", 
        "Using z=-2.000000 for the ligand", 
        "Potential range: 0.020557 - 0.202653 "
       ]
      }, 
      {
       "output_type": "stream", 
       "stream": "stdout", 
       "text": [
        "", 
        "WARNING: Your potential does not seem to cross through 0 (reguirement at outer boundary", 
        "SA: 1.485589e+04 [um^2]"
       ]
      }, 
      {
       "output_type": "stream", 
       "stream": "stdout", 
       "text": [
        "", 
        "Volume: 6.023262e+04 [um^3]", 
        "Total volume (assuming rectangular): 7.022400e+04 [um^3]", 
        "volume fraction (assuming rectangular): 8.577212e-01 [um^3]", 
        "Adding in electrostatic component"
       ]
      }, 
      {
       "output_type": "stream", 
       "stream": "stdout", 
       "text": [
        "", 
        "pmf REMOVEME 0.020557,0.202653 "
       ]
      }, 
      {
       "output_type": "stream", 
       "stream": "stdout", 
       "text": [
        "", 
        "Intfact: exp(p); 0.710531,0.965928 "
       ]
      }, 
      {
       "output_type": "stream", 
       "stream": "stdout", 
       "text": [
        "", 
        "Using amg preconditioner instead of ilu"
       ]
      }, 
      {
       "output_type": "stream", 
       "stream": "stdout", 
       "text": [
        "", 
        "Writing "
       ]
      }, 
      {
       "output_type": "stream", 
       "stream": "stdout", 
       "text": [
        " ./Molecular_unit.pvd", 
        "omegasO"
       ]
      }, 
      {
       "output_type": "stream", 
       "stream": "stdout", 
       "text": [
        "", 
        "[ 42511.705503    43596.88935402  43427.93633835]", 
        "omegas", 
        "[ 42511.705503    43596.88935402  43427.93633835]", 
        "Reweighting by unit cell vol", 
        "d_eff= [0.61,0.62,0.62] for d=1.00", 
        "problem.volUnitCell 70224.0", 
        "[-19. -22.  21.]"
       ]
      }, 
      {
       "output_type": "stream", 
       "stream": "stdout", 
       "text": [
        "  maps to  (19.0, 22.0, -21.0)", 
        "[-19. -22.  21.]  maps to  (-19.0, 22.0, -21.0)", 
        "[-19.  22. -21.]  maps to  (-19.0, -22.0, 21.0)", 
        "Not loading subdomains, since don't think they're needed", 
        "Loading electrostatic potential from argument", 
        "Using z=-1.000000 for the ligand", 
        "Potential range: 0.010278 - 0.101327 "
       ]
      }, 
      {
       "output_type": "stream", 
       "stream": "stdout", 
       "text": [
        "", 
        "WARNING: Your potential does not seem to cross through 0 (reguirement at outer boundary", 
        "SA: 1.485589e+04 [um^2]"
       ]
      }, 
      {
       "output_type": "stream", 
       "stream": "stdout", 
       "text": [
        "", 
        "Volume: 6.023262e+04 [um^3]", 
        "Total volume (assuming rectangular): 7.022400e+04 [um^3]", 
        "volume fraction (assuming rectangular): 8.577212e-01 [um^3]", 
        "Adding in electrostatic component"
       ]
      }, 
      {
       "output_type": "stream", 
       "stream": "stdout", 
       "text": [
        "", 
        "pmf REMOVEME 0.010278,0.101327 "
       ]
      }, 
      {
       "output_type": "stream", 
       "stream": "stdout", 
       "text": [
        "", 
        "Intfact: exp(p); 0.842930,0.982816 "
       ]
      }, 
      {
       "output_type": "stream", 
       "stream": "stdout", 
       "text": [
        "", 
        "Using amg preconditioner instead of ilu"
       ]
      }, 
      {
       "output_type": "stream", 
       "stream": "stdout", 
       "text": [
        "", 
        "Writing "
       ]
      }, 
      {
       "output_type": "stream", 
       "stream": "stdout", 
       "text": [
        " ./Molecular_unit.pvd", 
        "omegasO"
       ]
      }, 
      {
       "output_type": "stream", 
       "stream": "stdout", 
       "text": [
        "", 
        "[ 47451.85355585  48706.39596915  48453.34246385]", 
        "omegas", 
        "[ 47451.85355585  48706.39596915  48453.34246385]", 
        "Reweighting by unit cell vol", 
        "d_eff= [0.68,0.69,0.69] for d=1.00", 
        "problem.volUnitCell 70224.0", 
        "[-19. -22.  21.]"
       ]
      }, 
      {
       "output_type": "stream", 
       "stream": "stdout", 
       "text": [
        "  maps to  (19.0, 22.0, -21.0)", 
        "[-19. -22.  21.]  maps to  (-19.0, 22.0, -21.0)", 
        "[-19.  22. -21.]  maps to  (-19.0, -22.0, 21.0)", 
        "Not loading subdomains, since don't think they're needed", 
        "Loading electrostatic potential from argument", 
        "Using z=0.000000 for the ligand", 
        "Potential range: -0.000000 - -0.000000 "
       ]
      }, 
      {
       "output_type": "stream", 
       "stream": "stdout", 
       "text": [
        "", 
        "SA: 1.485589e+04 [um^2]"
       ]
      }, 
      {
       "output_type": "stream", 
       "stream": "stdout", 
       "text": [
        "", 
        "Volume: 6.023262e+04 [um^3]", 
        "Total volume (assuming rectangular): 7.022400e+04 [um^3]", 
        "volume fraction (assuming rectangular): 8.577212e-01 [um^3]", 
        "Adding in electrostatic component"
       ]
      }, 
      {
       "output_type": "stream", 
       "stream": "stdout", 
       "text": [
        "", 
        "pmf REMOVEME -0.000000,-0.000000 "
       ]
      }, 
      {
       "output_type": "stream", 
       "stream": "stdout", 
       "text": [
        "", 
        "Intfact: exp(p); 1.000000,1.000000 "
       ]
      }, 
      {
       "output_type": "stream", 
       "stream": "stdout", 
       "text": [
        "", 
        "Using amg preconditioner instead of ilu"
       ]
      }, 
      {
       "output_type": "stream", 
       "stream": "stdout", 
       "text": [
        "", 
        "Writing "
       ]
      }, 
      {
       "output_type": "stream", 
       "stream": "stdout", 
       "text": [
        " ./Molecular_unit.pvd", 
        "omegasO"
       ]
      }, 
      {
       "output_type": "stream", 
       "stream": "stdout", 
       "text": [
        "", 
        "[ 53085.4987298   54533.17781236  54186.11511853]", 
        "omegas", 
        "[ 53085.4987298   54533.17781236  54186.11511853]", 
        "Reweighting by unit cell vol", 
        "d_eff= [0.76,0.78,0.77] for d=1.00", 
        "problem.volUnitCell 70224.0", 
        "[-19. -22.  21.]"
       ]
      }, 
      {
       "output_type": "stream", 
       "stream": "stdout", 
       "text": [
        "  maps to  (19.0, 22.0, -21.0)", 
        "[-19. -22.  21.]  maps to  (-19.0, 22.0, -21.0)", 
        "[-19.  22. -21.]  maps to  (-19.0, -22.0, 21.0)", 
        "Not loading subdomains, since don't think they're needed", 
        "Loading electrostatic potential from argument", 
        "Using z=1.000000 for the ligand", 
        "Potential range: -0.101327 - -0.010278 "
       ]
      }, 
      {
       "output_type": "stream", 
       "stream": "stdout", 
       "text": [
        "", 
        "WARNING: Your potential does not seem to cross through 0 (reguirement at outer boundary", 
        "SA: 1.485589e+04 [um^2]"
       ]
      }, 
      {
       "output_type": "stream", 
       "stream": "stdout", 
       "text": [
        "", 
        "Volume: 6.023262e+04 [um^3]", 
        "Total volume (assuming rectangular): 7.022400e+04 [um^3]", 
        "volume fraction (assuming rectangular): 8.577212e-01 [um^3]", 
        "Adding in electrostatic component"
       ]
      }, 
      {
       "output_type": "stream", 
       "stream": "stdout", 
       "text": [
        "", 
        "pmf REMOVEME -0.101327,-0.010278 "
       ]
      }, 
      {
       "output_type": "stream", 
       "stream": "stdout", 
       "text": [
        "", 
        "Intfact: exp(p); 1.017484,1.186338 "
       ]
      }, 
      {
       "output_type": "stream", 
       "stream": "stdout", 
       "text": [
        "", 
        "Using amg preconditioner instead of ilu"
       ]
      }, 
      {
       "output_type": "stream", 
       "stream": "stdout", 
       "text": [
        "", 
        "Writing "
       ]
      }, 
      {
       "output_type": "stream", 
       "stream": "stdout", 
       "text": [
        " ./Molecular_unit.pvd", 
        "omegasO"
       ]
      }, 
      {
       "output_type": "stream", 
       "stream": "stdout", 
       "text": [
        "", 
        "[ 59521.69799677  61190.45021271  60737.951418  ]", 
        "omegas", 
        "[ 59521.69799677  61190.45021271  60737.951418  ]", 
        "Reweighting by unit cell vol", 
        "d_eff= [0.85,0.87,0.86] for d=1.00", 
        "problem.volUnitCell 70224.0", 
        "[-19. -22.  21.]"
       ]
      }, 
      {
       "output_type": "stream", 
       "stream": "stdout", 
       "text": [
        "  maps to  (19.0, 22.0, -21.0)", 
        "[-19. -22.  21.]  maps to  (-19.0, 22.0, -21.0)", 
        "[-19.  22. -21.]  maps to  (-19.0, -22.0, 21.0)", 
        "Not loading subdomains, since don't think they're needed", 
        "Loading electrostatic potential from argument", 
        "Using z=2.000000 for the ligand", 
        "Potential range: -0.202653 - -0.020557 "
       ]
      }, 
      {
       "output_type": "stream", 
       "stream": "stdout", 
       "text": [
        "", 
        "WARNING: Your potential does not seem to cross through 0 (reguirement at outer boundary", 
        "SA: 1.485589e+04 [um^2]"
       ]
      }, 
      {
       "output_type": "stream", 
       "stream": "stdout", 
       "text": [
        "", 
        "Volume: 6.023262e+04 [um^3]", 
        "Total volume (assuming rectangular): 7.022400e+04 [um^3]", 
        "volume fraction (assuming rectangular): 8.577212e-01 [um^3]", 
        "Adding in electrostatic component"
       ]
      }, 
      {
       "output_type": "stream", 
       "stream": "stdout", 
       "text": [
        "", 
        "pmf REMOVEME -0.202653,-0.020557 "
       ]
      }, 
      {
       "output_type": "stream", 
       "stream": "stdout", 
       "text": [
        "", 
        "Intfact: exp(p); 1.035274,1.407398 "
       ]
      }, 
      {
       "output_type": "stream", 
       "stream": "stdout", 
       "text": [
        "", 
        "Using amg preconditioner instead of ilu"
       ]
      }, 
      {
       "output_type": "stream", 
       "stream": "stdout", 
       "text": [
        "", 
        "Writing "
       ]
      }, 
      {
       "output_type": "stream", 
       "stream": "stdout", 
       "text": [
        " ./Molecular_unit.pvd", 
        "omegasO"
       ]
      }, 
      {
       "output_type": "stream", 
       "stream": "stdout", 
       "text": [
        "", 
        "[ 66887.80085609  68810.53160675  68239.40118939]", 
        "omegas", 
        "[ 66887.80085609  68810.53160675  68239.40118939]", 
        "Reweighting by unit cell vol", 
        "d_eff= [0.95,0.98,0.97] for d=1.00", 
        "problem.volUnitCell 70224.0"
       ]
      }
     ], 
     "prompt_number": 83
    }, 
    {
     "cell_type": "code", 
     "collapsed": false, 
     "input": [
      "np.shape(allDsNonUnif)", 
      "allDs = allDsNonUnif[:,[0,2,4]]", 
      "allDs"
     ], 
     "language": "python", 
     "outputs": [
      {
       "output_type": "pyout", 
       "prompt_number": 84, 
       "text": [
        "array([[  8.77247152e-09,   7.55945243e-01,   1.02440114e+08],", 
        "       [  7.63091346e-07,   7.55945243e-01,   3.51777330e+06],", 
        "       [  1.79836797e-04,   7.55945243e-01,   7.14549297e+04],", 
        "       [  1.75408853e-02,   7.55945243e-01,   1.32759332e+03],", 
        "       [  1.82844992e-01,   7.55945243e-01,   4.72636979e+01],", 
        "       [  4.18249771e-01,   7.55945243e-01,   5.11654091e+00],", 
        "       [  5.45001259e-01,   7.55945243e-01,   1.74294184e+00],", 
        "       [  6.45517832e-01,   7.55945243e-01,   1.12528390e+00]])"
       ]
      }
     ], 
     "prompt_number": 84
    }, 
    {
     "cell_type": "code", 
     "collapsed": false, 
     "input": [
      "print Dinert"
     ], 
     "language": "python", 
     "outputs": [
      {
       "ename": "NameError", 
       "evalue": "name 'Dinert' is not defined", 
       "output_type": "pyerr", 
       "traceback": [
        "\u001b[0;31m---------------------------------------------------------------------------\u001b[0m\n\u001b[0;31mNameError\u001b[0m                                 Traceback (most recent call last)", 
        "\u001b[0;32m/u2/huskeypm/Sources/smolhomog/example/tnc/<ipython-input-85-6ae29fb2b57d>\u001b[0m in \u001b[0;36m<module>\u001b[0;34m()\u001b[0m\n\u001b[0;32m----> 1\u001b[0;31m \u001b[0;32mprint\u001b[0m \u001b[0mDinert\u001b[0m\u001b[0;34m\u001b[0m\u001b[0m\n\u001b[0m", 
        "\u001b[0;31mNameError\u001b[0m: name 'Dinert' is not defined"
       ]
      }
     ], 
     "prompt_number": 85
    }, 
    {
     "cell_type": "code", 
     "collapsed": false, 
     "input": [
      "", 
      "# vs ionic strn ", 
      "fig=plt.figure()", 
      "cols = ['r-','k','b-']", 
      "allDs = allDsNonUnif[:,[0,2,4]]", 
      "for i in range(3):", 
      "    plt.plot(ionCs,allDs[:,i],cols[i],label=\"z=%d, nonunif\" % z[i])", 
      "cols = ['r.','k.','b.']", 
      "", 
      "allDs = allDsUnif[:,[0,2,4]]", 
      "for i in range(3):", 
      "    plt.plot(ionCs,allDs[:,i],cols[i],label=\"z=%d, unif\" % z[i])", 
      "", 
      "plt.xlim([0.01,1])", 
      "plt.xscale(\"log\")", 
      "plt.yscale(\"log\")  ", 
      "plt.xlabel(\"[I] [M]\") ", 
      "plt.ylabel(\"D$_x$\")", 
      "plt.title(\"Diffusion about Troponin C\") ", 
      "plt.legend( bbox_to_anchor=(0.85,-0.2),ncol=2)", 
      "", 
      "# vs HS bound", 
      "", 
      "a = plt.axes([0.6, 0.65, .3, .2])  ", 
      "HSBound = 2*volFrac/(3-volFrac)", 
      "Dinert = allDs[1,1]", 
      "w = 0.5", 
      "plt.bar(0,Dinert,w, color='k')", 
      "plt.bar(w,HSBound,w,color='orange')", 
      "plt.yticks(np.arange(5)*0.25)", 
      "a.set_xticks(np.arange(2)*w+0.5*w)", 
      "a.set_xticklabels( ('Actual', 'HS Bound'))", 
      "", 
      "", 
      "axicon = fig.add_axes([0.6,0.13,0.35,0.35])", 
      "import matplotlib.image as mpimg", 
      "img=mpimg.imread('/net/home/huskeypm/papers/math/gillettekekenes/GiKe12b/figs/tnc_snapshot.png')", 
      "axicon.imshow(img)", 
      "axicon.set_xticks([])", 
      "axicon.set_yticks([])    ", 
      "    ", 
      "plt.gcf().savefig(\"prlFig3.png\",dpi=300)"
     ], 
     "language": "python", 
     "outputs": [
      {
       "output_type": "display_data", 
       "png": "[encoded data removed]"
      }
     ], 
     "prompt_number": 98
    }, 
    {
     "cell_type": "code", 
     "collapsed": true, 
     "input": [
      "", 
      "", 
      "", 
      "", 
      "    ", 
      "i=0", 
      "cols = ['r-','r--','k','b--','b-']", 
      "if(1):", 
      "  for i in range(nLigs):", 
      "    plt.plot(ionCs,allDs[:,i],cols[i],label=\"z=%d\" % z[i])", 
      "", 
      "  plt.xscale(\"log\")", 
      "  plt.yscale(\"log\")  ", 
      "  plt.xlabel(\"[I] [M]\") ", 
      "  plt.ylabel(\"D$_x$\")", 
      "  plt.title(\"Diffusion about non-uniformly charged protein\") ", 
      "  plt.legend(loc=0)", 
      "    ", 
      "  a = plt.axes([0.6, 0.65, .3, .2])  ", 
      "#plt.figure()", 
      "", 
      "for i in range(nLigs):", 
      "  plt.plot(ionCs,allDs[:,i],cols[i],label=\"z=%d\" % z[i])", 
      "#plt.xscale(\"log\")", 
      "#plt.yscale(\"log\")  ", 
      "plt.xlim([0.05,0.3])", 
      "plt.ylim([0.8,1])", 
      "plt.yticks([0.80,0.9,1.])", 
      "plt.xticks([0.05,0.15,0.25])", 
      "    ", 
      "plt.gcf().savefig(\"real_tnc.png\") ", 
      "", 
      "", 
      "", 
      "    ", 
      "i=0", 
      "cols = ['r-','r--','k','b--','b-']", 
      "if(1):", 
      "  for i in range(nLigs):", 
      "    plt.plot(ionCs,allDs[:,i],cols[i],label=\"z=%d\" % z[i])", 
      "", 
      "  plt.xscale(\"log\")", 
      "  plt.yscale(\"log\")  ", 
      "  plt.xlabel(\"[I] [M]\") ", 
      "  plt.ylabel(\"D$_x$\")", 
      "  plt.title(\"Diffusion about non-uniformly charged protein\") ", 
      "  plt.legend(loc=0)", 
      "    ", 
      "  a = plt.axes([0.6, 0.65, .3, .2])  ", 
      "#plt.figure()", 
      "", 
      "for i in range(nLigs):", 
      "  plt.plot(ionCs,allDs[:,i],cols[i],label=\"z=%d\" % z[i])", 
      "#plt.xscale(\"log\")", 
      "#plt.yscale(\"log\")  ", 
      "plt.xlim([0.05,0.3])", 
      "plt.ylim([0.8,1])", 
      "plt.yticks([0.80,0.9,1.])", 
      "plt.xticks([0.05,0.15,0.25])", 
      "    ", 
      "plt.gcf().savefig(\"real_tnc.png\") "
     ], 
     "language": "python", 
     "outputs": [], 
     "prompt_number": 66
    }, 
    {
     "cell_type": "code", 
     "collapsed": true, 
     "input": [
      "range(nLigs)"
     ], 
     "language": "python", 
     "outputs": [], 
     "prompt_number": 22
    }, 
    {
     "cell_type": "code", 
     "collapsed": true, 
     "input": [], 
     "language": "python", 
     "outputs": [], 
     "prompt_number": "&nbsp;"
    }
   ]
  }
 ]
}