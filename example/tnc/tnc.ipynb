{
 "metadata": {
  "name": "tnc"
 }, 
 "nbformat": 2, 
 "worksheets": [
  {
   "cells": [
    {
     "cell_type": "code", 
     "collapsed": false, 
     "input": [
      "# for chemcca11 only", 
      "import sys", 
      "from dolfin import *", 
      "sys.path.append(\"/net/home/huskeypm/bin/grids/\")", 
      "sys.path.append(\"/net/home/huskeypm/Sources/smolhomog/example/\")", 
      "sys.path.append(\"/net/home/huskeypm/Sources/homogenization/\")", 
      "import caseRunner as cr # just for PB stuff", 
      "", 
      "", 
      "cr.dims=3", 
      "## make mesh ", 
      "makeMesh=False", 
      "meshFile = \"tnc_mesh.xml.gz\"", 
      "if(makeMesh):", 
      "  #import gamer  ", 
      "  import makeCubicMeshPDB as mm", 
      "  meshFile = mm.makeExteriorMesh(\"tnc.pdb\",molratio=1,boxdim=np.array([60,60,60]),type=\"box\")", 
      "  print \"WARNING: will want to remove <domain> section  from xml file and resave\"", 
      "", 
      "## assign charge ", 
      "cr.activeSite = np.array([4.435000,15.388000,-6.019000])", 
      "class allBoundary(SubDomain):", 
      "  def inside(self,x,on_boundary):", 
      "        return on_boundary", 
      "class innerBoundary(SubDomain):", 
      "  def inside(self,x,on_boundary):", 
      "    inner = np.linalg.norm(x-cr.activeSite) < 3.", 
      "    return inner and on_boundary", 
      "", 
      "checkBC=False", 
      "if(checkBC):", 
      "    import view ", 
      "    mesh = Mesh(meshFile)", 
      "    V = FunctionSpace(mesh,\"CG\",1)", 
      "    subdomains = MeshFunction(\"uint\",mesh,3-1)", 
      "    boundary = innerBoundary();", 
      "    chargeMarker = 2", 
      "    boundary.mark(subdomains,chargeMarker)", 
      "    bcs = [DirichletBC(V,Constant(1.),subdomains,chargeMarker)]", 
      "    view.PrintBoundary(mesh,bcs)", 
      "#import homoglight as hl", 
      "#results = hl.runHomog(fileXML=meshFile,gamer=1)", 
      "", 
      "#z,Ds=cr.runCase(meshFile=meshFile,\\", 
      "#                ionC=0.15,sigma=-0.01,chargeBoundary=innerBoundary,singleCase=True,\\", 
      "#                meshType=\"gamer\")", 
      "", 
      "ionC = 0.15", 
      "nCs=8", 
      "ionCs = 10**np.linspace(-3,0,nCs)", 
      "nLigs = 5", 
      "allDs = np.zeros((nCs,nLigs))", 
      "", 
      "print ionCs", 
      "for i,ionC in enumerate(ionCs):", 
      "    z,Ds=cr.runCase(meshFile=meshFile,\\", 
      "                ionC=ionC,sigma=-0.01,chargeBoundary=innerBoundary) #,singleCase=True)", 
      "    allDs[i,:] = Ds", 
      "    "
     ], 
     "language": "python", 
     "outputs": [
      {
       "output_type": "stream", 
       "stream": "stdout", 
       "text": [
        "[ 0.001       0.0026827   0.00719686  0.01930698  0.05179475  0.13894955", 
        "  0.37275937  1.        ]", 
        "-88.4092531631"
       ]
      }, 
      {
       "output_type": "stream", 
       "stream": "stdout", 
       "text": [
        "", 
        "Solving linear form of PBE"
       ]
      }, 
      {
       "output_type": "stream", 
       "stream": "stdout", 
       "text": [
        "", 
        "Calling FFC just-in-time (JIT) compiler, this may take some time."
       ]
      }, 
      {
       "output_type": "stream", 
       "stream": "stdout", 
       "text": [
        "[-30. -30.  30.]  maps to  (30.0, 30.0, -30.0)", 
        "[-30. -30.  30.]  maps to  (-30.0, 30.0, -30.0)", 
        "[-30.  30. -30.]  maps to  (-30.0, -30.0, 30.0)", 
        "Not loading subdomains, since don't think they're needed", 
        "Loading electrostatic potential from argument", 
        "Using z=-2.000000 for the ligand", 
        "Potential range: 2.509354 - 4.083211 "
       ]
      }, 
      {
       "output_type": "stream", 
       "stream": "stdout", 
       "text": [
        "", 
        "WARNING: Your potential does not seem to cross through 0 (reguirement at outer boundary", 
        "SA: 2.663600e+04 [um^2]"
       ]
      }, 
      {
       "output_type": "stream", 
       "stream": "stdout", 
       "text": [
        "", 
        "Volume: 2.052254e+05 [um^3]", 
        "Total volume (assuming rectangular): 2.160000e+05 [um^3]", 
        "volume fraction (assuming rectangular): 9.501176e-01 [um^3]", 
        "Adding in electrostatic component"
       ]
      }, 
      {
       "output_type": "stream", 
       "stream": "stdout", 
       "text": [
        "", 
        "pmf REMOVEME 2.509354,4.083211 "
       ]
      }, 
      {
       "output_type": "stream", 
       "stream": "stdout", 
       "text": [
        "", 
        "Intfact: exp(p); 0.001022,0.014529 "
       ]
      }, 
      {
       "output_type": "stream", 
       "stream": "stdout", 
       "text": [
        "", 
        "Using amg preconditioner instead of ilu"
       ]
      }, 
      {
       "output_type": "stream", 
       "stream": "stdout", 
       "text": [
        "", 
        "Writing "
       ]
      }, 
      {
       "output_type": "stream", 
       "stream": "stdout", 
       "text": [
        " ./Molecular_unit.pvd", 
        "omegasO"
       ]
      }, 
      {
       "output_type": "stream", 
       "stream": "stdout", 
       "text": [
        "", 
        "[ 2027.10137966  2037.32693057  2032.51447648]", 
        "omegas", 
        "[ 2027.10137966  2037.32693057  2032.51447648]", 
        "Reweighting by unit cell vol", 
        "d_eff= [0.01,0.01,0.01] for d=1.00", 
        "problem.volUnitCell 216000.0", 
        "[-30. -30.  30.]"
       ]
      }, 
      {
       "output_type": "stream", 
       "stream": "stdout", 
       "text": [
        "  maps to  (30.0, 30.0, -30.0)", 
        "[-30. -30.  30.]  maps to  (-30.0, 30.0, -30.0)", 
        "[-30.  30. -30.]  maps to  (-30.0, -30.0, 30.0)", 
        "Not loading subdomains, since don't think they're needed", 
        "Loading electrostatic potential from argument", 
        "Using z=-1.000000 for the ligand", 
        "Potential range: 1.254677 - 2.041605 "
       ]
      }, 
      {
       "output_type": "stream", 
       "stream": "stdout", 
       "text": [
        "", 
        "WARNING: Your potential does not seem to cross through 0 (reguirement at outer boundary", 
        "SA: 2.663600e+04 [um^2]"
       ]
      }, 
      {
       "output_type": "stream", 
       "stream": "stdout", 
       "text": [
        "", 
        "Volume: 2.052254e+05 [um^3]", 
        "Total volume (assuming rectangular): 2.160000e+05 [um^3]", 
        "volume fraction (assuming rectangular): 9.501176e-01 [um^3]", 
        "Adding in electrostatic component"
       ]
      }, 
      {
       "output_type": "stream", 
       "stream": "stdout", 
       "text": [
        "", 
        "pmf REMOVEME 1.254677,2.041605 "
       ]
      }, 
      {
       "output_type": "stream", 
       "stream": "stdout", 
       "text": [
        "", 
        "Intfact: exp(p); 0.031974,0.120535 "
       ]
      }, 
      {
       "output_type": "stream", 
       "stream": "stdout", 
       "text": [
        "", 
        "Using amg preconditioner instead of ilu"
       ]
      }, 
      {
       "output_type": "stream", 
       "stream": "stdout", 
       "text": [
        "", 
        "Writing "
       ]
      }, 
      {
       "output_type": "stream", 
       "stream": "stdout", 
       "text": [
        " ./Molecular_unit.pvd", 
        "omegasO"
       ]
      }, 
      {
       "output_type": "stream", 
       "stream": "stdout", 
       "text": [
        "", 
        "[ 19947.30399483  20030.87838459  19885.3846627 ]", 
        "omegas", 
        "[ 19947.30399483  20030.87838459  19885.3846627 ]", 
        "Reweighting by unit cell vol", 
        "d_eff= [0.09,0.09,0.09] for d=1.00", 
        "problem.volUnitCell 216000.0", 
        "[-30. -30.  30.]"
       ]
      }, 
      {
       "output_type": "stream", 
       "stream": "stdout", 
       "text": [
        "  maps to  (30.0, 30.0, -30.0)", 
        "[-30. -30.  30.]  maps to  (-30.0, 30.0, -30.0)", 
        "[-30.  30. -30.]  maps to  (-30.0, -30.0, 30.0)", 
        "Not loading subdomains, since don't think they're needed", 
        "Loading electrostatic potential from argument", 
        "Using z=0.000000 for the ligand", 
        "Potential range: -0.000000 - -0.000000 "
       ]
      }, 
      {
       "output_type": "stream", 
       "stream": "stdout", 
       "text": [
        "", 
        "SA: 2.663600e+04 [um^2]"
       ]
      }, 
      {
       "output_type": "stream", 
       "stream": "stdout", 
       "text": [
        "", 
        "Volume: 2.052254e+05 [um^3]", 
        "Total volume (assuming rectangular): 2.160000e+05 [um^3]", 
        "volume fraction (assuming rectangular): 9.501176e-01 [um^3]", 
        "Adding in electrostatic component"
       ]
      }, 
      {
       "output_type": "stream", 
       "stream": "stdout", 
       "text": [
        "", 
        "pmf REMOVEME -0.000000,-0.000000 "
       ]
      }, 
      {
       "output_type": "stream", 
       "stream": "stdout", 
       "text": [
        "", 
        "Intfact: exp(p); 1.000000,1.000000 "
       ]
      }, 
      {
       "output_type": "stream", 
       "stream": "stdout", 
       "text": [
        "", 
        "Using amg preconditioner instead of ilu"
       ]
      }, 
      {
       "output_type": "stream", 
       "stream": "stdout", 
       "text": [
        "", 
        "Writing "
       ]
      }, 
      {
       "output_type": "stream", 
       "stream": "stdout", 
       "text": [
        " ./Molecular_unit.pvd", 
        "omegasO"
       ]
      }, 
      {
       "output_type": "stream", 
       "stream": "stdout", 
       "text": [
        "", 
        "[ 197288.0926165   198332.24149453  197179.12879191]", 
        "omegas", 
        "[ 197288.0926165   198332.24149453  197179.12879191]", 
        "Reweighting by unit cell vol", 
        "d_eff= [0.91,0.92,0.91] for d=1.00", 
        "problem.volUnitCell 216000.0", 
        "[-30. -30.  30.]"
       ]
      }, 
      {
       "output_type": "stream", 
       "stream": "stdout", 
       "text": [
        "  maps to  (30.0, 30.0, -30.0)", 
        "[-30. -30.  30.]  maps to  (-30.0, 30.0, -30.0)", 
        "[-30.  30. -30.]  maps to  (-30.0, -30.0, 30.0)", 
        "Not loading subdomains, since don't think they're needed", 
        "Loading electrostatic potential from argument", 
        "Using z=1.000000 for the ligand", 
        "Potential range: -2.041605 - -1.254677 "
       ]
      }, 
      {
       "output_type": "stream", 
       "stream": "stdout", 
       "text": [
        "", 
        "WARNING: Your potential does not seem to cross through 0 (reguirement at outer boundary", 
        "SA: 2.663600e+04 [um^2]"
       ]
      }, 
      {
       "output_type": "stream", 
       "stream": "stdout", 
       "text": [
        "", 
        "Volume: 2.052254e+05 [um^3]", 
        "Total volume (assuming rectangular): 2.160000e+05 [um^3]", 
        "volume fraction (assuming rectangular): 9.501176e-01 [um^3]", 
        "Adding in electrostatic component"
       ]
      }, 
      {
       "output_type": "stream", 
       "stream": "stdout", 
       "text": [
        "", 
        "pmf REMOVEME -2.041605,-1.254677 "
       ]
      }, 
      {
       "output_type": "stream", 
       "stream": "stdout", 
       "text": [
        "", 
        "Intfact: exp(p); 8.296328,31.275715 "
       ]
      }, 
      {
       "output_type": "stream", 
       "stream": "stdout", 
       "text": [
        "", 
        "Using amg preconditioner instead of ilu"
       ]
      }, 
      {
       "output_type": "stream", 
       "stream": "stdout", 
       "text": [
        "", 
        "Writing "
       ]
      }, 
      {
       "output_type": "stream", 
       "stream": "stdout", 
       "text": [
        " ./Molecular_unit.pvd", 
        "omegasO"
       ]
      }, 
      {
       "output_type": "stream", 
       "stream": "stdout", 
       "text": [
        "", 
        "[ 1960436.80935347  1976372.21933129  1981304.06131793]", 
        "omegas", 
        "[ 1960436.80935347  1976372.21933129  1981304.06131793]", 
        "Reweighting by unit cell vol", 
        "d_eff= [9.08,9.15,9.17] for d=1.00", 
        "problem.volUnitCell 216000.0", 
        "[-30. -30.  30.]"
       ]
      }, 
      {
       "output_type": "stream", 
       "stream": "stdout", 
       "text": [
        "  maps to  (30.0, 30.0, -30.0)", 
        "[-30. -30.  30.]  maps to  (-30.0, 30.0, -30.0)", 
        "[-30.  30. -30.]  maps to  (-30.0, -30.0, 30.0)", 
        "Not loading subdomains, since don't think they're needed", 
        "Loading electrostatic potential from argument", 
        "Using z=2.000000 for the ligand", 
        "Potential range: -4.083211 - -2.509354 "
       ]
      }, 
      {
       "output_type": "stream", 
       "stream": "stdout", 
       "text": [
        "", 
        "WARNING: Your potential does not seem to cross through 0 (reguirement at outer boundary", 
        "SA: 2.663600e+04 [um^2]"
       ]
      }, 
      {
       "output_type": "stream", 
       "stream": "stdout", 
       "text": [
        "", 
        "Volume: 2.052254e+05 [um^3]", 
        "Total volume (assuming rectangular): 2.160000e+05 [um^3]", 
        "volume fraction (assuming rectangular): 9.501176e-01 [um^3]", 
        "Adding in electrostatic component"
       ]
      }, 
      {
       "output_type": "stream", 
       "stream": "stdout", 
       "text": [
        "", 
        "pmf REMOVEME -4.083211,-2.509354 "
       ]
      }, 
      {
       "output_type": "stream", 
       "stream": "stdout", 
       "text": [
        "", 
        "Intfact: exp(p); 68.829053,978.170361 "
       ]
      }, 
      {
       "output_type": "stream", 
       "stream": "stdout", 
       "text": [
        "", 
        "Using amg preconditioner instead of ilu"
       ]
      }, 
      {
       "output_type": "stream", 
       "stream": "stdout", 
       "text": [
        "", 
        "Writing "
       ]
      }, 
      {
       "output_type": "stream", 
       "stream": "stdout", 
       "text": [
        " ./Molecular_unit.pvd", 
        "omegasO"
       ]
      }, 
      {
       "output_type": "stream", 
       "stream": "stdout", 
       "text": [
        "", 
        "[ 19557828.62655839  19798066.29127282  20156145.08010456]", 
        "omegas", 
        "[ 19557828.62655839  19798066.29127282  20156145.08010456]", 
        "Reweighting by unit cell vol", 
        "d_eff= [90.55,91.66,93.32] for d=1.00", 
        "problem.volUnitCell 216000.0", 
        "-65.5492208438"
       ]
      }, 
      {
       "output_type": "stream", 
       "stream": "stdout", 
       "text": [
        "", 
        "Solving linear form of PBE"
       ]
      }, 
      {
       "output_type": "stream", 
       "stream": "stdout", 
       "text": [
        "", 
        "Calling FFC just-in-time (JIT) compiler, this may take some time."
       ]
      }, 
      {
       "output_type": "stream", 
       "stream": "stdout", 
       "text": [
        "[-30. -30.  30.]  maps to  (30.0, 30.0, -30.0)", 
        "[-30. -30.  30.]  maps to  (-30.0, 30.0, -30.0)", 
        "[-30.  30. -30.]  maps to  (-30.0, -30.0, 30.0)", 
        "Not loading subdomains, since don't think they're needed", 
        "Loading electrostatic potential from argument", 
        "Using z=-2.000000 for the ligand", 
        "Potential range: 1.019183 - 3.027412 "
       ]
      }, 
      {
       "output_type": "stream", 
       "stream": "stdout", 
       "text": [
        "", 
        "WARNING: Your potential does not seem to cross through 0 (reguirement at outer boundary", 
        "SA: 2.663600e+04 [um^2]"
       ]
      }, 
      {
       "output_type": "stream", 
       "stream": "stdout", 
       "text": [
        "", 
        "Volume: 2.052254e+05 [um^3]", 
        "Total volume (assuming rectangular): 2.160000e+05 [um^3]", 
        "volume fraction (assuming rectangular): 9.501176e-01 [um^3]", 
        "Adding in electrostatic component"
       ]
      }, 
      {
       "output_type": "stream", 
       "stream": "stdout", 
       "text": [
        "", 
        "pmf REMOVEME 1.019183,3.027412 "
       ]
      }, 
      {
       "output_type": "stream", 
       "stream": "stdout", 
       "text": [
        "", 
        "Intfact: exp(p); 0.006065,0.179301 "
       ]
      }, 
      {
       "output_type": "stream", 
       "stream": "stdout", 
       "text": [
        "", 
        "Using amg preconditioner instead of ilu"
       ]
      }, 
      {
       "output_type": "stream", 
       "stream": "stdout", 
       "text": [
        "", 
        "Writing "
       ]
      }, 
      {
       "output_type": "stream", 
       "stream": "stdout", 
       "text": [
        " ./Molecular_unit.pvd", 
        "omegasO"
       ]
      }, 
      {
       "output_type": "stream", 
       "stream": "stdout", 
       "text": [
        "", 
        "[ 28034.5387424   28352.25765293  28174.16582853]", 
        "omegas", 
        "[ 28034.5387424   28352.25765293  28174.16582853]", 
        "Reweighting by unit cell vol", 
        "d_eff= [0.13,0.13,0.13] for d=1.00", 
        "problem.volUnitCell 216000.0", 
        "[-30. -30.  30.]"
       ]
      }, 
      {
       "output_type": "stream", 
       "stream": "stdout", 
       "text": [
        "  maps to  (30.0, 30.0, -30.0)", 
        "[-30. -30.  30.]  maps to  (-30.0, 30.0, -30.0)", 
        "[-30.  30. -30.]  maps to  (-30.0, -30.0, 30.0)", 
        "Not loading subdomains, since don't think they're needed", 
        "Loading electrostatic potential from argument", 
        "Using z=-1.000000 for the ligand", 
        "Potential range: 0.509592 - 1.513706 "
       ]
      }, 
      {
       "output_type": "stream", 
       "stream": "stdout", 
       "text": [
        "", 
        "WARNING: Your potential does not seem to cross through 0 (reguirement at outer boundary", 
        "SA: 2.663600e+04 [um^2]"
       ]
      }, 
      {
       "output_type": "stream", 
       "stream": "stdout", 
       "text": [
        "", 
        "Volume: 2.052254e+05 [um^3]", 
        "Total volume (assuming rectangular): 2.160000e+05 [um^3]", 
        "volume fraction (assuming rectangular): 9.501176e-01 [um^3]", 
        "Adding in electrostatic component"
       ]
      }, 
      {
       "output_type": "stream", 
       "stream": "stdout", 
       "text": [
        "", 
        "pmf REMOVEME 0.509592,1.513706 "
       ]
      }, 
      {
       "output_type": "stream", 
       "stream": "stdout", 
       "text": [
        "", 
        "Intfact: exp(p); 0.077877,0.423439 "
       ]
      }, 
      {
       "output_type": "stream", 
       "stream": "stdout", 
       "text": [
        "", 
        "Using amg preconditioner instead of ilu"
       ]
      }, 
      {
       "output_type": "stream", 
       "stream": "stdout", 
       "text": [
        "", 
        "Writing "
       ]
      }, 
      {
       "output_type": "stream", 
       "stream": "stdout", 
       "text": [
        " ./Molecular_unit.pvd", 
        "omegasO"
       ]
      }, 
      {
       "output_type": "stream", 
       "stream": "stdout", 
       "text": [
        "", 
        "[ 74182.199614    74964.95931248  74333.01037951]", 
        "omegas", 
        "[ 74182.199614    74964.95931248  74333.01037951]", 
        "Reweighting by unit cell vol", 
        "d_eff= [0.34,0.35,0.34] for d=1.00", 
        "problem.volUnitCell 216000.0", 
        "[-30. -30.  30.]"
       ]
      }, 
      {
       "output_type": "stream", 
       "stream": "stdout", 
       "text": [
        "  maps to  (30.0, 30.0, -30.0)", 
        "[-30. -30.  30.]  maps to  (-30.0, 30.0, -30.0)", 
        "[-30.  30. -30.]  maps to  (-30.0, -30.0, 30.0)", 
        "Not loading subdomains, since don't think they're needed", 
        "Loading electrostatic potential from argument", 
        "Using z=0.000000 for the ligand", 
        "Potential range: -0.000000 - -0.000000 "
       ]
      }, 
      {
       "output_type": "stream", 
       "stream": "stdout", 
       "text": [
        "", 
        "SA: 2.663600e+04 [um^2]"
       ]
      }, 
      {
       "output_type": "stream", 
       "stream": "stdout", 
       "text": [
        "", 
        "Volume: 2.052254e+05 [um^3]", 
        "Total volume (assuming rectangular): 2.160000e+05 [um^3]", 
        "volume fraction (assuming rectangular): 9.501176e-01 [um^3]", 
        "Adding in electrostatic component"
       ]
      }, 
      {
       "output_type": "stream", 
       "stream": "stdout", 
       "text": [
        "", 
        "pmf REMOVEME -0.000000,-0.000000 "
       ]
      }, 
      {
       "output_type": "stream", 
       "stream": "stdout", 
       "text": [
        "", 
        "Intfact: exp(p); 1.000000,1.000000 "
       ]
      }, 
      {
       "output_type": "stream", 
       "stream": "stdout", 
       "text": [
        "", 
        "Using amg preconditioner instead of ilu"
       ]
      }, 
      {
       "output_type": "stream", 
       "stream": "stdout", 
       "text": [
        "", 
        "Writing "
       ]
      }, 
      {
       "output_type": "stream", 
       "stream": "stdout", 
       "text": [
        " ./Molecular_unit.pvd", 
        "omegasO"
       ]
      }, 
      {
       "output_type": "stream", 
       "stream": "stdout", 
       "text": [
        "", 
        "[ 197288.0926165   198332.24149453  197179.12879191]", 
        "omegas", 
        "[ 197288.0926165   198332.24149453  197179.12879191]", 
        "Reweighting by unit cell vol", 
        "d_eff= [0.91,0.92,0.91] for d=1.00", 
        "problem.volUnitCell 216000.0", 
        "[-30. -30.  30.]"
       ]
      }, 
      {
       "output_type": "stream", 
       "stream": "stdout", 
       "text": [
        "  maps to  (30.0, 30.0, -30.0)", 
        "[-30. -30.  30.]  maps to  (-30.0, 30.0, -30.0)", 
        "[-30.  30. -30.]  maps to  (-30.0, -30.0, 30.0)", 
        "Not loading subdomains, since don't think they're needed", 
        "Loading electrostatic potential from argument", 
        "Using z=1.000000 for the ligand", 
        "Potential range: -1.513706 - -0.509592 "
       ]
      }, 
      {
       "output_type": "stream", 
       "stream": "stdout", 
       "text": [
        "", 
        "WARNING: Your potential does not seem to cross through 0 (reguirement at outer boundary", 
        "SA: 2.663600e+04 [um^2]"
       ]
      }, 
      {
       "output_type": "stream", 
       "stream": "stdout", 
       "text": [
        "", 
        "Volume: 2.052254e+05 [um^3]", 
        "Total volume (assuming rectangular): 2.160000e+05 [um^3]", 
        "volume fraction (assuming rectangular): 9.501176e-01 [um^3]", 
        "Adding in electrostatic component"
       ]
      }, 
      {
       "output_type": "stream", 
       "stream": "stdout", 
       "text": [
        "", 
        "pmf REMOVEME -1.513706,-0.509592 "
       ]
      }, 
      {
       "output_type": "stream", 
       "stream": "stdout", 
       "text": [
        "", 
        "Intfact: exp(p); 2.361614,12.840757 "
       ]
      }, 
      {
       "output_type": "stream", 
       "stream": "stdout", 
       "text": [
        "", 
        "Using amg preconditioner instead of ilu"
       ]
      }, 
      {
       "output_type": "stream", 
       "stream": "stdout", 
       "text": [
        "", 
        "Writing "
       ]
      }, 
      {
       "output_type": "stream", 
       "stream": "stdout", 
       "text": [
        " ./Molecular_unit.pvd", 
        "omegasO"
       ]
      }, 
      {
       "output_type": "stream", 
       "stream": "stdout", 
       "text": [
        "", 
        "[ 527476.15349477  525014.43199326  525948.60098766]", 
        "omegas", 
        "[ 527476.15349477  525014.43199326  525948.60098766]", 
        "Reweighting by unit cell vol", 
        "d_eff= [2.44,2.43,2.43] for d=1.00", 
        "problem.volUnitCell 216000.0", 
        "[-30. -30.  30.]"
       ]
      }, 
      {
       "output_type": "stream", 
       "stream": "stdout", 
       "text": [
        "  maps to  (30.0, 30.0, -30.0)", 
        "[-30. -30.  30.]  maps to  (-30.0, 30.0, -30.0)", 
        "[-30.  30. -30.]  maps to  (-30.0, -30.0, 30.0)", 
        "Not loading subdomains, since don't think they're needed", 
        "Loading electrostatic potential from argument", 
        "Using z=2.000000 for the ligand", 
        "Potential range: -3.027412 - -1.019183 "
       ]
      }, 
      {
       "output_type": "stream", 
       "stream": "stdout", 
       "text": [
        "", 
        "WARNING: Your potential does not seem to cross through 0 (reguirement at outer boundary", 
        "SA: 2.663600e+04 [um^2]"
       ]
      }, 
      {
       "output_type": "stream", 
       "stream": "stdout", 
       "text": [
        "", 
        "Volume: 2.052254e+05 [um^3]", 
        "Total volume (assuming rectangular): 2.160000e+05 [um^3]", 
        "volume fraction (assuming rectangular): 9.501176e-01 [um^3]", 
        "Adding in electrostatic component"
       ]
      }, 
      {
       "output_type": "stream", 
       "stream": "stdout", 
       "text": [
        "", 
        "pmf REMOVEME -3.027412,-1.019183 "
       ]
      }, 
      {
       "output_type": "stream", 
       "stream": "stdout", 
       "text": [
        "", 
        "Intfact: exp(p); 5.577221,164.885047 "
       ]
      }, 
      {
       "output_type": "stream", 
       "stream": "stdout", 
       "text": [
        "", 
        "Using amg preconditioner instead of ilu"
       ]
      }, 
      {
       "output_type": "stream", 
       "stream": "stdout", 
       "text": [
        "", 
        "Writing "
       ]
      }, 
      {
       "output_type": "stream", 
       "stream": "stdout", 
       "text": [
        " ./Molecular_unit.pvd", 
        "omegasO"
       ]
      }, 
      {
       "output_type": "stream", 
       "stream": "stdout", 
       "text": [
        "", 
        "[ 1417769.65380216  1390334.56802788  1410341.3641466 ]", 
        "omegas", 
        "[ 1417769.65380216  1390334.56802788  1410341.3641466 ]", 
        "Reweighting by unit cell vol", 
        "d_eff= [6.56,6.44,6.53] for d=1.00", 
        "problem.volUnitCell 216000.0", 
        "-45.5744845808"
       ]
      }, 
      {
       "output_type": "stream", 
       "stream": "stdout", 
       "text": [
        "", 
        "Solving linear form of PBE"
       ]
      }, 
      {
       "output_type": "stream", 
       "stream": "stdout", 
       "text": [
        "", 
        "Calling FFC just-in-time (JIT) compiler, this may take some time."
       ]
      }, 
      {
       "output_type": "stream", 
       "stream": "stdout", 
       "text": [
        "[-30. -30.  30.]  maps to  (30.0, 30.0, -30.0)", 
        "[-30. -30.  30.]  maps to  (-30.0, 30.0, -30.0)", 
        "[-30.  30. -30.]  maps to  (-30.0, -30.0, 30.0)", 
        "Not loading subdomains, since don't think they're needed", 
        "Loading electrostatic potential from argument", 
        "Using z=-2.000000 for the ligand", 
        "Potential range: 0.236378 - 2.104873 "
       ]
      }, 
      {
       "output_type": "stream", 
       "stream": "stdout", 
       "text": [
        "", 
        "WARNING: Your potential does not seem to cross through 0 (reguirement at outer boundary", 
        "SA: 2.663600e+04 [um^2]"
       ]
      }, 
      {
       "output_type": "stream", 
       "stream": "stdout", 
       "text": [
        "", 
        "Volume: 2.052254e+05 [um^3]", 
        "Total volume (assuming rectangular): 2.160000e+05 [um^3]", 
        "volume fraction (assuming rectangular): 9.501176e-01 [um^3]", 
        "Adding in electrostatic component"
       ]
      }, 
      {
       "output_type": "stream", 
       "stream": "stdout", 
       "text": [
        "", 
        "pmf REMOVEME 0.236378,2.104873 "
       ]
      }, 
      {
       "output_type": "stream", 
       "stream": "stdout", 
       "text": [
        "", 
        "Intfact: exp(p); 0.028738,0.671249 "
       ]
      }, 
      {
       "output_type": "stream", 
       "stream": "stdout", 
       "text": [
        "", 
        "Using amg preconditioner instead of ilu"
       ]
      }, 
      {
       "output_type": "stream", 
       "stream": "stdout", 
       "text": [
        "", 
        "Writing "
       ]
      }, 
      {
       "output_type": "stream", 
       "stream": "stdout", 
       "text": [
        " ./Molecular_unit.pvd", 
        "omegasO"
       ]
      }, 
      {
       "output_type": "stream", 
       "stream": "stdout", 
       "text": [
        "", 
        "[ 101358.82573484  102172.50448799  100888.54736207]", 
        "omegas", 
        "[ 101358.82573484  102172.50448799  100888.54736207]", 
        "Reweighting by unit cell vol", 
        "d_eff= [0.47,0.47,0.47] for d=1.00", 
        "problem.volUnitCell 216000.0", 
        "[-30. -30.  30.]"
       ]
      }, 
      {
       "output_type": "stream", 
       "stream": "stdout", 
       "text": [
        "  maps to  (30.0, 30.0, -30.0)", 
        "[-30. -30.  30.]  maps to  (-30.0, 30.0, -30.0)", 
        "[-30.  30. -30.]  maps to  (-30.0, -30.0, 30.0)", 
        "Not loading subdomains, since don't think they're needed", 
        "Loading electrostatic potential from argument", 
        "Using z=-1.000000 for the ligand", 
        "Potential range: 0.118189 - 1.052436 "
       ]
      }, 
      {
       "output_type": "stream", 
       "stream": "stdout", 
       "text": [
        "", 
        "WARNING: Your potential does not seem to cross through 0 (reguirement at outer boundary", 
        "SA: 2.663600e+04 [um^2]"
       ]
      }, 
      {
       "output_type": "stream", 
       "stream": "stdout", 
       "text": [
        "", 
        "Volume: 2.052254e+05 [um^3]", 
        "Total volume (assuming rectangular): 2.160000e+05 [um^3]", 
        "volume fraction (assuming rectangular): 9.501176e-01 [um^3]", 
        "Adding in electrostatic component"
       ]
      }, 
      {
       "output_type": "stream", 
       "stream": "stdout", 
       "text": [
        "", 
        "pmf REMOVEME 0.118189,1.052436 "
       ]
      }, 
      {
       "output_type": "stream", 
       "stream": "stdout", 
       "text": [
        "", 
        "Intfact: exp(p); 0.169523,0.819298 "
       ]
      }, 
      {
       "output_type": "stream", 
       "stream": "stdout", 
       "text": [
        "", 
        "Using amg preconditioner instead of ilu"
       ]
      }, 
      {
       "output_type": "stream", 
       "stream": "stdout", 
       "text": [
        "", 
        "Writing "
       ]
      }, 
      {
       "output_type": "stream", 
       "stream": "stdout", 
       "text": [
        " ./Molecular_unit.pvd", 
        "omegasO"
       ]
      }, 
      {
       "output_type": "stream", 
       "stream": "stdout", 
       "text": [
        "", 
        "[ 140950.83009137  141913.31119808  140648.98354901]", 
        "omegas", 
        "[ 140950.83009137  141913.31119808  140648.98354901]", 
        "Reweighting by unit cell vol", 
        "d_eff= [0.65,0.66,0.65] for d=1.00", 
        "problem.volUnitCell 216000.0", 
        "[-30. -30.  30.]"
       ]
      }, 
      {
       "output_type": "stream", 
       "stream": "stdout", 
       "text": [
        "  maps to  (30.0, 30.0, -30.0)", 
        "[-30. -30.  30.]  maps to  (-30.0, 30.0, -30.0)", 
        "[-30.  30. -30.]  maps to  (-30.0, -30.0, 30.0)", 
        "Not loading subdomains, since don't think they're needed", 
        "Loading electrostatic potential from argument", 
        "Using z=0.000000 for the ligand", 
        "Potential range: -0.000000 - -0.000000 "
       ]
      }, 
      {
       "output_type": "stream", 
       "stream": "stdout", 
       "text": [
        "", 
        "SA: 2.663600e+04 [um^2]"
       ]
      }, 
      {
       "output_type": "stream", 
       "stream": "stdout", 
       "text": [
        "", 
        "Volume: 2.052254e+05 [um^3]", 
        "Total volume (assuming rectangular): 2.160000e+05 [um^3]", 
        "volume fraction (assuming rectangular): 9.501176e-01 [um^3]", 
        "Adding in electrostatic component"
       ]
      }, 
      {
       "output_type": "stream", 
       "stream": "stdout", 
       "text": [
        "", 
        "pmf REMOVEME -0.000000,-0.000000 "
       ]
      }, 
      {
       "output_type": "stream", 
       "stream": "stdout", 
       "text": [
        "", 
        "Intfact: exp(p); 1.000000,1.000000 "
       ]
      }, 
      {
       "output_type": "stream", 
       "stream": "stdout", 
       "text": [
        "", 
        "Using amg preconditioner instead of ilu"
       ]
      }, 
      {
       "output_type": "stream", 
       "stream": "stdout", 
       "text": [
        "", 
        "Writing "
       ]
      }, 
      {
       "output_type": "stream", 
       "stream": "stdout", 
       "text": [
        " ./Molecular_unit.pvd", 
        "omegasO"
       ]
      }, 
      {
       "output_type": "stream", 
       "stream": "stdout", 
       "text": [
        "", 
        "[ 197288.0926165   198332.24149453  197179.12879191]", 
        "omegas", 
        "[ 197288.0926165   198332.24149453  197179.12879191]", 
        "Reweighting by unit cell vol", 
        "d_eff= [0.91,0.92,0.91] for d=1.00", 
        "problem.volUnitCell 216000.0", 
        "[-30. -30.  30.]"
       ]
      }, 
      {
       "output_type": "stream", 
       "stream": "stdout", 
       "text": [
        "  maps to  (30.0, 30.0, -30.0)", 
        "[-30. -30.  30.]  maps to  (-30.0, 30.0, -30.0)", 
        "[-30.  30. -30.]  maps to  (-30.0, -30.0, 30.0)", 
        "Not loading subdomains, since don't think they're needed", 
        "Loading electrostatic potential from argument", 
        "Using z=1.000000 for the ligand", 
        "Potential range: -1.052436 - -0.118189 "
       ]
      }, 
      {
       "output_type": "stream", 
       "stream": "stdout", 
       "text": [
        "", 
        "WARNING: Your potential does not seem to cross through 0 (reguirement at outer boundary", 
        "SA: 2.663600e+04 [um^2]"
       ]
      }, 
      {
       "output_type": "stream", 
       "stream": "stdout", 
       "text": [
        "", 
        "Volume: 2.052254e+05 [um^3]", 
        "Total volume (assuming rectangular): 2.160000e+05 [um^3]", 
        "volume fraction (assuming rectangular): 9.501176e-01 [um^3]", 
        "Adding in electrostatic component"
       ]
      }, 
      {
       "output_type": "stream", 
       "stream": "stdout", 
       "text": [
        "", 
        "pmf REMOVEME -1.052436,-0.118189 "
       ]
      }, 
      {
       "output_type": "stream", 
       "stream": "stdout", 
       "text": [
        "", 
        "Intfact: exp(p); 1.220557,5.898901 "
       ]
      }, 
      {
       "output_type": "stream", 
       "stream": "stdout", 
       "text": [
        "", 
        "Using amg preconditioner instead of ilu"
       ]
      }, 
      {
       "output_type": "stream", 
       "stream": "stdout", 
       "text": [
        "", 
        "Writing "
       ]
      }, 
      {
       "output_type": "stream", 
       "stream": "stdout", 
       "text": [
        " ./Molecular_unit.pvd", 
        "omegasO"
       ]
      }, 
      {
       "output_type": "stream", 
       "stream": "stdout", 
       "text": [
        "", 
        "[ 277935.29306869  279084.37627427  277834.19275208]", 
        "omegas", 
        "[ 277935.29306869  279084.37627427  277834.19275208]", 
        "Reweighting by unit cell vol", 
        "d_eff= [1.29,1.29,1.29] for d=1.00", 
        "problem.volUnitCell 216000.0", 
        "[-30. -30.  30.]"
       ]
      }, 
      {
       "output_type": "stream", 
       "stream": "stdout", 
       "text": [
        "  maps to  (30.0, 30.0, -30.0)", 
        "[-30. -30.  30.]  maps to  (-30.0, 30.0, -30.0)", 
        "[-30.  30. -30.]  maps to  (-30.0, -30.0, 30.0)", 
        "Not loading subdomains, since don't think they're needed", 
        "Loading electrostatic potential from argument", 
        "Using z=2.000000 for the ligand", 
        "Potential range: -2.104873 - -0.236378 "
       ]
      }, 
      {
       "output_type": "stream", 
       "stream": "stdout", 
       "text": [
        "", 
        "WARNING: Your potential does not seem to cross through 0 (reguirement at outer boundary", 
        "SA: 2.663600e+04 [um^2]"
       ]
      }, 
      {
       "output_type": "stream", 
       "stream": "stdout", 
       "text": [
        "", 
        "Volume: 2.052254e+05 [um^3]", 
        "Total volume (assuming rectangular): 2.160000e+05 [um^3]", 
        "volume fraction (assuming rectangular): 9.501176e-01 [um^3]", 
        "Adding in electrostatic component"
       ]
      }, 
      {
       "output_type": "stream", 
       "stream": "stdout", 
       "text": [
        "", 
        "pmf REMOVEME -2.104873,-0.236378 "
       ]
      }, 
      {
       "output_type": "stream", 
       "stream": "stdout", 
       "text": [
        "", 
        "Intfact: exp(p); 1.489759,34.797036 "
       ]
      }, 
      {
       "output_type": "stream", 
       "stream": "stdout", 
       "text": [
        "", 
        "Using amg preconditioner instead of ilu"
       ]
      }, 
      {
       "output_type": "stream", 
       "stream": "stdout", 
       "text": [
        "", 
        "Writing "
       ]
      }, 
      {
       "output_type": "stream", 
       "stream": "stdout", 
       "text": [
        " ./Molecular_unit.pvd", 
        "omegasO"
       ]
      }, 
      {
       "output_type": "stream", 
       "stream": "stdout", 
       "text": [
        "", 
        "[ 393944.53013212  395600.50431303  393082.70259161]", 
        "omegas", 
        "[ 393944.53013212  395600.50431303  393082.70259161]", 
        "Reweighting by unit cell vol", 
        "d_eff= [1.82,1.83,1.82] for d=1.00", 
        "problem.volUnitCell 216000.0", 
        "-29.9016125944"
       ]
      }, 
      {
       "output_type": "stream", 
       "stream": "stdout", 
       "text": [
        "", 
        "Solving linear form of PBE"
       ]
      }, 
      {
       "output_type": "stream", 
       "stream": "stdout", 
       "text": [
        "", 
        "Calling FFC just-in-time (JIT) compiler, this may take some time."
       ]
      }, 
      {
       "output_type": "stream", 
       "stream": "stdout", 
       "text": [
        "[-30. -30.  30.]  maps to  (30.0, 30.0, -30.0)", 
        "[-30. -30.  30.]  maps to  (-30.0, 30.0, -30.0)", 
        "[-30.  30. -30.]  maps to  (-30.0, -30.0, 30.0)", 
        "Not loading subdomains, since don't think they're needed", 
        "Loading electrostatic potential from argument", 
        "Using z=-2.000000 for the ligand", 
        "Potential range: 0.029694 - 1.381016 "
       ]
      }, 
      {
       "output_type": "stream", 
       "stream": "stdout", 
       "text": [
        "", 
        "WARNING: Your potential does not seem to cross through 0 (reguirement at outer boundary", 
        "SA: 2.663600e+04 [um^2]"
       ]
      }, 
      {
       "output_type": "stream", 
       "stream": "stdout", 
       "text": [
        "", 
        "Volume: 2.052254e+05 [um^3]", 
        "Total volume (assuming rectangular): 2.160000e+05 [um^3]", 
        "volume fraction (assuming rectangular): 9.501176e-01 [um^3]", 
        "Adding in electrostatic component"
       ]
      }, 
      {
       "output_type": "stream", 
       "stream": "stdout", 
       "text": [
        "", 
        "pmf REMOVEME 0.029694,1.381016 "
       ]
      }, 
      {
       "output_type": "stream", 
       "stream": "stdout", 
       "text": [
        "", 
        "Intfact: exp(p); 0.097406,0.951159 "
       ]
      }, 
      {
       "output_type": "stream", 
       "stream": "stdout", 
       "text": [
        "", 
        "Using amg preconditioner instead of ilu"
       ]
      }, 
      {
       "output_type": "stream", 
       "stream": "stdout", 
       "text": [
        "", 
        "Writing "
       ]
      }, 
      {
       "output_type": "stream", 
       "stream": "stdout", 
       "text": [
        " ./Molecular_unit.pvd", 
        "omegasO"
       ]
      }, 
      {
       "output_type": "stream", 
       "stream": "stdout", 
       "text": [
        "", 
        "[ 166971.40961369  168560.97710267  167002.82595564]", 
        "omegas", 
        "[ 166971.40961369  168560.97710267  167002.82595564]", 
        "Reweighting by unit cell vol", 
        "d_eff= [0.77,0.78,0.77] for d=1.00", 
        "problem.volUnitCell 216000.0", 
        "[-30. -30.  30.]"
       ]
      }, 
      {
       "output_type": "stream", 
       "stream": "stdout", 
       "text": [
        "  maps to  (30.0, 30.0, -30.0)", 
        "[-30. -30.  30.]  maps to  (-30.0, 30.0, -30.0)", 
        "[-30.  30. -30.]  maps to  (-30.0, -30.0, 30.0)", 
        "Not loading subdomains, since don't think they're needed", 
        "Loading electrostatic potential from argument", 
        "Using z=-1.000000 for the ligand", 
        "Potential range: 0.014847 - 0.690508 "
       ]
      }, 
      {
       "output_type": "stream", 
       "stream": "stdout", 
       "text": [
        "", 
        "WARNING: Your potential does not seem to cross through 0 (reguirement at outer boundary", 
        "SA: 2.663600e+04 [um^2]"
       ]
      }, 
      {
       "output_type": "stream", 
       "stream": "stdout", 
       "text": [
        "", 
        "Volume: 2.052254e+05 [um^3]", 
        "Total volume (assuming rectangular): 2.160000e+05 [um^3]", 
        "volume fraction (assuming rectangular): 9.501176e-01 [um^3]", 
        "Adding in electrostatic component"
       ]
      }, 
      {
       "output_type": "stream", 
       "stream": "stdout", 
       "text": [
        "", 
        "pmf REMOVEME 0.014847,0.690508 "
       ]
      }, 
      {
       "output_type": "stream", 
       "stream": "stdout", 
       "text": [
        "", 
        "Intfact: exp(p); 0.312100,0.975274 "
       ]
      }, 
      {
       "output_type": "stream", 
       "stream": "stdout", 
       "text": [
        "", 
        "Using amg preconditioner instead of ilu"
       ]
      }, 
      {
       "output_type": "stream", 
       "stream": "stdout", 
       "text": [
        "", 
        "Writing "
       ]
      }, 
      {
       "output_type": "stream", 
       "stream": "stdout", 
       "text": [
        " ./Molecular_unit.pvd", 
        "omegasO"
       ]
      }, 
      {
       "output_type": "stream", 
       "stream": "stdout", 
       "text": [
        "", 
        "[ 181246.32068952  182845.85124111  181177.88544587]", 
        "omegas", 
        "[ 181246.32068952  182845.85124111  181177.88544587]", 
        "Reweighting by unit cell vol", 
        "d_eff= [0.84,0.85,0.84] for d=1.00", 
        "problem.volUnitCell 216000.0", 
        "[-30. -30.  30.]"
       ]
      }, 
      {
       "output_type": "stream", 
       "stream": "stdout", 
       "text": [
        "  maps to  (30.0, 30.0, -30.0)", 
        "[-30. -30.  30.]  maps to  (-30.0, 30.0, -30.0)", 
        "[-30.  30. -30.]  maps to  (-30.0, -30.0, 30.0)", 
        "Not loading subdomains, since don't think they're needed", 
        "Loading electrostatic potential from argument", 
        "Using z=0.000000 for the ligand", 
        "Potential range: -0.000000 - -0.000000 "
       ]
      }, 
      {
       "output_type": "stream", 
       "stream": "stdout", 
       "text": [
        "", 
        "SA: 2.663600e+04 [um^2]"
       ]
      }, 
      {
       "output_type": "stream", 
       "stream": "stdout", 
       "text": [
        "", 
        "Volume: 2.052254e+05 [um^3]", 
        "Total volume (assuming rectangular): 2.160000e+05 [um^3]", 
        "volume fraction (assuming rectangular): 9.501176e-01 [um^3]", 
        "Adding in electrostatic component"
       ]
      }, 
      {
       "output_type": "stream", 
       "stream": "stdout", 
       "text": [
        "", 
        "pmf REMOVEME -0.000000,-0.000000 "
       ]
      }, 
      {
       "output_type": "stream", 
       "stream": "stdout", 
       "text": [
        "", 
        "Intfact: exp(p); 1.000000,1.000000 "
       ]
      }, 
      {
       "output_type": "stream", 
       "stream": "stdout", 
       "text": [
        "", 
        "Using amg preconditioner instead of ilu"
       ]
      }, 
      {
       "output_type": "stream", 
       "stream": "stdout", 
       "text": [
        "", 
        "Writing "
       ]
      }, 
      {
       "output_type": "stream", 
       "stream": "stdout", 
       "text": [
        " ./Molecular_unit.pvd", 
        "omegasO"
       ]
      }, 
      {
       "output_type": "stream", 
       "stream": "stdout", 
       "text": [
        "", 
        "[ 197288.0926165   198332.24149453  197179.12879191]", 
        "omegas", 
        "[ 197288.0926165   198332.24149453  197179.12879191]", 
        "Reweighting by unit cell vol", 
        "d_eff= [0.91,0.92,0.91] for d=1.00", 
        "problem.volUnitCell 216000.0", 
        "[-30. -30.  30.]"
       ]
      }, 
      {
       "output_type": "stream", 
       "stream": "stdout", 
       "text": [
        "  maps to  (30.0, 30.0, -30.0)", 
        "[-30. -30.  30.]  maps to  (-30.0, 30.0, -30.0)", 
        "[-30.  30. -30.]  maps to  (-30.0, -30.0, 30.0)", 
        "Not loading subdomains, since don't think they're needed", 
        "Loading electrostatic potential from argument", 
        "Using z=1.000000 for the ligand", 
        "Potential range: -0.690508 - -0.014847 "
       ]
      }, 
      {
       "output_type": "stream", 
       "stream": "stdout", 
       "text": [
        "", 
        "WARNING: Your potential does not seem to cross through 0 (reguirement at outer boundary", 
        "SA: 2.663600e+04 [um^2]"
       ]
      }, 
      {
       "output_type": "stream", 
       "stream": "stdout", 
       "text": [
        "", 
        "Volume: 2.052254e+05 [um^3]", 
        "Total volume (assuming rectangular): 2.160000e+05 [um^3]", 
        "volume fraction (assuming rectangular): 9.501176e-01 [um^3]", 
        "Adding in electrostatic component"
       ]
      }, 
      {
       "output_type": "stream", 
       "stream": "stdout", 
       "text": [
        "", 
        "pmf REMOVEME -0.690508,-0.014847 "
       ]
      }, 
      {
       "output_type": "stream", 
       "stream": "stdout", 
       "text": [
        "", 
        "Intfact: exp(p); 1.025353,3.204101 "
       ]
      }, 
      {
       "output_type": "stream", 
       "stream": "stdout", 
       "text": [
        "", 
        "Using amg preconditioner instead of ilu"
       ]
      }, 
      {
       "output_type": "stream", 
       "stream": "stdout", 
       "text": [
        "", 
        "Writing "
       ]
      }, 
      {
       "output_type": "stream", 
       "stream": "stdout", 
       "text": [
        " ./Molecular_unit.pvd", 
        "omegasO"
       ]
      }, 
      {
       "output_type": "stream", 
       "stream": "stdout", 
       "text": [
        "", 
        "[ 215364.50098181  215116.12387981  215315.82000513]", 
        "omegas", 
        "[ 215364.50098181  215116.12387981  215315.82000513]", 
        "Reweighting by unit cell vol", 
        "d_eff= [1.00,1.00,1.00] for d=1.00", 
        "problem.volUnitCell 216000.0", 
        "[-30. -30.  30.]"
       ]
      }, 
      {
       "output_type": "stream", 
       "stream": "stdout", 
       "text": [
        "  maps to  (30.0, 30.0, -30.0)", 
        "[-30. -30.  30.]  maps to  (-30.0, 30.0, -30.0)", 
        "[-30.  30. -30.]  maps to  (-30.0, -30.0, 30.0)", 
        "Not loading subdomains, since don't think they're needed", 
        "Loading electrostatic potential from argument", 
        "Using z=2.000000 for the ligand", 
        "Potential range: -1.381016 - -0.029694 "
       ]
      }, 
      {
       "output_type": "stream", 
       "stream": "stdout", 
       "text": [
        "", 
        "WARNING: Your potential does not seem to cross through 0 (reguirement at outer boundary", 
        "SA: 2.663600e+04 [um^2]"
       ]
      }, 
      {
       "output_type": "stream", 
       "stream": "stdout", 
       "text": [
        "", 
        "Volume: 2.052254e+05 [um^3]", 
        "Total volume (assuming rectangular): 2.160000e+05 [um^3]", 
        "volume fraction (assuming rectangular): 9.501176e-01 [um^3]", 
        "Adding in electrostatic component"
       ]
      }, 
      {
       "output_type": "stream", 
       "stream": "stdout", 
       "text": [
        "", 
        "pmf REMOVEME -1.381016,-0.029694 "
       ]
      }, 
      {
       "output_type": "stream", 
       "stream": "stdout", 
       "text": [
        "", 
        "Intfact: exp(p); 1.051349,10.266264 "
       ]
      }, 
      {
       "output_type": "stream", 
       "stream": "stdout", 
       "text": [
        "", 
        "Using amg preconditioner instead of ilu"
       ]
      }, 
      {
       "output_type": "stream", 
       "stream": "stdout", 
       "text": [
        "", 
        "Writing "
       ]
      }, 
      {
       "output_type": "stream", 
       "stream": "stdout", 
       "text": [
        " ./Molecular_unit.pvd", 
        "omegasO"
       ]
      }, 
      {
       "output_type": "stream", 
       "stream": "stdout", 
       "text": [
        "", 
        "[ 235776.42119753  233294.40535833  235944.18834126]", 
        "omegas", 
        "[ 235776.42119753  233294.40535833  235944.18834126]", 
        "Reweighting by unit cell vol", 
        "d_eff= [1.09,1.08,1.09] for d=1.00", 
        "problem.volUnitCell 216000.0", 
        "-18.8762585401"
       ]
      }, 
      {
       "output_type": "stream", 
       "stream": "stdout", 
       "text": [
        "", 
        "Solving linear form of PBE"
       ]
      }, 
      {
       "output_type": "stream", 
       "stream": "stdout", 
       "text": [
        "", 
        "Calling FFC just-in-time (JIT) compiler, this may take some time."
       ]
      }, 
      {
       "output_type": "stream", 
       "stream": "stdout", 
       "text": [
        "[-30. -30.  30.]  maps to  (30.0, 30.0, -30.0)", 
        "[-30. -30.  30.]  maps to  (-30.0, 30.0, -30.0)", 
        "[-30.  30. -30.]  maps to  (-30.0, -30.0, 30.0)", 
        "Not loading subdomains, since don't think they're needed", 
        "Loading electrostatic potential from argument", 
        "Using z=-2.000000 for the ligand", 
        "Potential range: 0.002383 - 0.871806 "
       ]
      }, 
      {
       "output_type": "stream", 
       "stream": "stdout", 
       "text": [
        "", 
        "WARNING: Your potential does not seem to cross through 0 (reguirement at outer boundary", 
        "SA: 2.663600e+04 [um^2]"
       ]
      }, 
      {
       "output_type": "stream", 
       "stream": "stdout", 
       "text": [
        "", 
        "Volume: 2.052254e+05 [um^3]", 
        "Total volume (assuming rectangular): 2.160000e+05 [um^3]", 
        "volume fraction (assuming rectangular): 9.501176e-01 [um^3]", 
        "Adding in electrostatic component"
       ]
      }, 
      {
       "output_type": "stream", 
       "stream": "stdout", 
       "text": [
        "", 
        "pmf REMOVEME 0.002383,0.871806 "
       ]
      }, 
      {
       "output_type": "stream", 
       "stream": "stdout", 
       "text": [
        "", 
        "Intfact: exp(p); 0.229888,0.995990 "
       ]
      }, 
      {
       "output_type": "stream", 
       "stream": "stdout", 
       "text": [
        "", 
        "Using amg preconditioner instead of ilu"
       ]
      }, 
      {
       "output_type": "stream", 
       "stream": "stdout", 
       "text": [
        "", 
        "Writing "
       ]
      }, 
      {
       "output_type": "stream", 
       "stream": "stdout", 
       "text": [
        " ./Molecular_unit.pvd", 
        "omegasO"
       ]
      }, 
      {
       "output_type": "stream", 
       "stream": "stdout", 
       "text": [
        "", 
        "[ 188364.64138214  190339.57321326  188355.95924749]", 
        "omegas", 
        "[ 188364.64138214  190339.57321326  188355.95924749]", 
        "Reweighting by unit cell vol", 
        "d_eff= [0.87,0.88,0.87] for d=1.00", 
        "problem.volUnitCell 216000.0", 
        "[-30. -30.  30.]"
       ]
      }, 
      {
       "output_type": "stream", 
       "stream": "stdout", 
       "text": [
        "  maps to  (30.0, 30.0, -30.0)", 
        "[-30. -30.  30.]  maps to  (-30.0, 30.0, -30.0)", 
        "[-30.  30. -30.]  maps to  (-30.0, -30.0, 30.0)", 
        "Not loading subdomains, since don't think they're needed", 
        "Loading electrostatic potential from argument", 
        "Using z=-1.000000 for the ligand", 
        "Potential range: 0.001191 - 0.435903 "
       ]
      }, 
      {
       "output_type": "stream", 
       "stream": "stdout", 
       "text": [
        "", 
        "WARNING: Your potential does not seem to cross through 0 (reguirement at outer boundary", 
        "SA: 2.663600e+04 [um^2]"
       ]
      }, 
      {
       "output_type": "stream", 
       "stream": "stdout", 
       "text": [
        "", 
        "Volume: 2.052254e+05 [um^3]", 
        "Total volume (assuming rectangular): 2.160000e+05 [um^3]", 
        "volume fraction (assuming rectangular): 9.501176e-01 [um^3]", 
        "Adding in electrostatic component"
       ]
      }, 
      {
       "output_type": "stream", 
       "stream": "stdout", 
       "text": [
        "", 
        "pmf REMOVEME 0.001191,0.435903 "
       ]
      }, 
      {
       "output_type": "stream", 
       "stream": "stdout", 
       "text": [
        "", 
        "Intfact: exp(p); 0.479467,0.997993 "
       ]
      }, 
      {
       "output_type": "stream", 
       "stream": "stdout", 
       "text": [
        "", 
        "Using amg preconditioner instead of ilu"
       ]
      }, 
      {
       "output_type": "stream", 
       "stream": "stdout", 
       "text": [
        "", 
        "Writing "
       ]
      }, 
      {
       "output_type": "stream", 
       "stream": "stdout", 
       "text": [
        " ./Molecular_unit.pvd", 
        "omegasO"
       ]
      }, 
      {
       "output_type": "stream", 
       "stream": "stdout", 
       "text": [
        "", 
        "[ 192715.41757495  194261.66973917  192670.06259641]", 
        "omegas", 
        "[ 192715.41757495  194261.66973917  192670.06259641]", 
        "Reweighting by unit cell vol", 
        "d_eff= [0.89,0.90,0.89] for d=1.00", 
        "problem.volUnitCell 216000.0", 
        "[-30. -30.  30.]"
       ]
      }, 
      {
       "output_type": "stream", 
       "stream": "stdout", 
       "text": [
        "  maps to  (30.0, 30.0, -30.0)", 
        "[-30. -30.  30.]  maps to  (-30.0, 30.0, -30.0)", 
        "[-30.  30. -30.]  maps to  (-30.0, -30.0, 30.0)", 
        "Not loading subdomains, since don't think they're needed", 
        "Loading electrostatic potential from argument", 
        "Using z=0.000000 for the ligand", 
        "Potential range: -0.000000 - -0.000000 "
       ]
      }, 
      {
       "output_type": "stream", 
       "stream": "stdout", 
       "text": [
        "", 
        "SA: 2.663600e+04 [um^2]"
       ]
      }, 
      {
       "output_type": "stream", 
       "stream": "stdout", 
       "text": [
        "", 
        "Volume: 2.052254e+05 [um^3]", 
        "Total volume (assuming rectangular): 2.160000e+05 [um^3]", 
        "volume fraction (assuming rectangular): 9.501176e-01 [um^3]", 
        "Adding in electrostatic component"
       ]
      }, 
      {
       "output_type": "stream", 
       "stream": "stdout", 
       "text": [
        "", 
        "pmf REMOVEME -0.000000,-0.000000 "
       ]
      }, 
      {
       "output_type": "stream", 
       "stream": "stdout", 
       "text": [
        "", 
        "Intfact: exp(p); 1.000000,1.000000 "
       ]
      }, 
      {
       "output_type": "stream", 
       "stream": "stdout", 
       "text": [
        "", 
        "Using amg preconditioner instead of ilu"
       ]
      }, 
      {
       "output_type": "stream", 
       "stream": "stdout", 
       "text": [
        "", 
        "Writing "
       ]
      }, 
      {
       "output_type": "stream", 
       "stream": "stdout", 
       "text": [
        " ./Molecular_unit.pvd", 
        "omegasO"
       ]
      }, 
      {
       "output_type": "stream", 
       "stream": "stdout", 
       "text": [
        "", 
        "[ 197288.0926165   198332.24149453  197179.12879191]", 
        "omegas", 
        "[ 197288.0926165   198332.24149453  197179.12879191]", 
        "Reweighting by unit cell vol", 
        "d_eff= [0.91,0.92,0.91] for d=1.00", 
        "problem.volUnitCell 216000.0", 
        "[-30. -30.  30.]"
       ]
      }, 
      {
       "output_type": "stream", 
       "stream": "stdout", 
       "text": [
        "  maps to  (30.0, 30.0, -30.0)", 
        "[-30. -30.  30.]  maps to  (-30.0, 30.0, -30.0)", 
        "[-30.  30. -30.]  maps to  (-30.0, -30.0, 30.0)", 
        "Not loading subdomains, since don't think they're needed", 
        "Loading electrostatic potential from argument", 
        "Using z=1.000000 for the ligand", 
        "Potential range: -0.435903 - -0.001191 "
       ]
      }, 
      {
       "output_type": "stream", 
       "stream": "stdout", 
       "text": [
        "", 
        "WARNING: Your potential does not seem to cross through 0 (reguirement at outer boundary", 
        "SA: 2.663600e+04 [um^2]"
       ]
      }, 
      {
       "output_type": "stream", 
       "stream": "stdout", 
       "text": [
        "", 
        "Volume: 2.052254e+05 [um^3]", 
        "Total volume (assuming rectangular): 2.160000e+05 [um^3]", 
        "volume fraction (assuming rectangular): 9.501176e-01 [um^3]", 
        "Adding in electrostatic component"
       ]
      }, 
      {
       "output_type": "stream", 
       "stream": "stdout", 
       "text": [
        "", 
        "pmf REMOVEME -0.435903,-0.001191 "
       ]
      }, 
      {
       "output_type": "stream", 
       "stream": "stdout", 
       "text": [
        "", 
        "Intfact: exp(p); 1.002011,2.085651 "
       ]
      }, 
      {
       "output_type": "stream", 
       "stream": "stdout", 
       "text": [
        "", 
        "Using amg preconditioner instead of ilu"
       ]
      }, 
      {
       "output_type": "stream", 
       "stream": "stdout", 
       "text": [
        "", 
        "Writing "
       ]
      }, 
      {
       "output_type": "stream", 
       "stream": "stdout", 
       "text": [
        " ./Molecular_unit.pvd", 
        "omegasO"
       ]
      }, 
      {
       "output_type": "stream", 
       "stream": "stdout", 
       "text": [
        "", 
        "[ 202103.45320001  202563.63258102  201895.10393201]", 
        "omegas", 
        "[ 202103.45320001  202563.63258102  201895.10393201]", 
        "Reweighting by unit cell vol", 
        "d_eff= [0.94,0.94,0.93] for d=1.00", 
        "problem.volUnitCell 216000.0", 
        "[-30. -30.  30.]"
       ]
      }, 
      {
       "output_type": "stream", 
       "stream": "stdout", 
       "text": [
        "  maps to  (30.0, 30.0, -30.0)", 
        "[-30. -30.  30.]  maps to  (-30.0, 30.0, -30.0)", 
        "[-30.  30. -30.]  maps to  (-30.0, -30.0, 30.0)", 
        "Not loading subdomains, since don't think they're needed", 
        "Loading electrostatic potential from argument", 
        "Using z=2.000000 for the ligand", 
        "Potential range: -0.871806 - -0.002383 "
       ]
      }, 
      {
       "output_type": "stream", 
       "stream": "stdout", 
       "text": [
        "", 
        "WARNING: Your potential does not seem to cross through 0 (reguirement at outer boundary", 
        "SA: 2.663600e+04 [um^2]"
       ]
      }, 
      {
       "output_type": "stream", 
       "stream": "stdout", 
       "text": [
        "", 
        "Volume: 2.052254e+05 [um^3]", 
        "Total volume (assuming rectangular): 2.160000e+05 [um^3]", 
        "volume fraction (assuming rectangular): 9.501176e-01 [um^3]", 
        "Adding in electrostatic component"
       ]
      }, 
      {
       "output_type": "stream", 
       "stream": "stdout", 
       "text": [
        "", 
        "pmf REMOVEME -0.871806,-0.002383 "
       ]
      }, 
      {
       "output_type": "stream", 
       "stream": "stdout", 
       "text": [
        "", 
        "Intfact: exp(p); 1.004026,4.349941 "
       ]
      }, 
      {
       "output_type": "stream", 
       "stream": "stdout", 
       "text": [
        "", 
        "Using amg preconditioner instead of ilu"
       ]
      }, 
      {
       "output_type": "stream", 
       "stream": "stdout", 
       "text": [
        "", 
        "Writing "
       ]
      }, 
      {
       "output_type": "stream", 
       "stream": "stdout", 
       "text": [
        " ./Molecular_unit.pvd", 
        "omegasO"
       ]
      }, 
      {
       "output_type": "stream", 
       "stream": "stdout", 
       "text": [
        "", 
        "[ 207184.76178029  206969.1964548   206829.01645953]", 
        "omegas", 
        "[ 207184.76178029  206969.1964548   206829.01645953]", 
        "Reweighting by unit cell vol", 
        "d_eff= [0.96,0.96,0.96] for d=1.00", 
        "problem.volUnitCell 216000.0", 
        "-11.6846189527"
       ]
      }, 
      {
       "output_type": "stream", 
       "stream": "stdout", 
       "text": [
        "", 
        "Solving linear form of PBE"
       ]
      }, 
      {
       "output_type": "stream", 
       "stream": "stdout", 
       "text": [
        "", 
        "Calling FFC just-in-time (JIT) compiler, this may take some time."
       ]
      }, 
      {
       "output_type": "stream", 
       "stream": "stdout", 
       "text": [
        "[-30. -30.  30.]  maps to  (30.0, 30.0, -30.0)", 
        "[-30. -30.  30.]  maps to  (-30.0, 30.0, -30.0)", 
        "[-30.  30. -30.]  maps to  (-30.0, -30.0, 30.0)", 
        "Not loading subdomains, since don't think they're needed", 
        "Loading electrostatic potential from argument", 
        "Using z=-2.000000 for the ligand", 
        "Potential range: 0.000029 - 0.539658 "
       ]
      }, 
      {
       "output_type": "stream", 
       "stream": "stdout", 
       "text": [
        "", 
        "WARNING: Your potential does not seem to cross through 0 (reguirement at outer boundary", 
        "SA: 2.663600e+04 [um^2]"
       ]
      }, 
      {
       "output_type": "stream", 
       "stream": "stdout", 
       "text": [
        "", 
        "Volume: 2.052254e+05 [um^3]", 
        "Total volume (assuming rectangular): 2.160000e+05 [um^3]", 
        "volume fraction (assuming rectangular): 9.501176e-01 [um^3]", 
        "Adding in electrostatic component"
       ]
      }, 
      {
       "output_type": "stream", 
       "stream": "stdout", 
       "text": [
        "", 
        "pmf REMOVEME 0.000029,0.539658 "
       ]
      }, 
      {
       "output_type": "stream", 
       "stream": "stdout", 
       "text": [
        "", 
        "Intfact: exp(p); 0.402505,0.999951 "
       ]
      }, 
      {
       "output_type": "stream", 
       "stream": "stdout", 
       "text": [
        "", 
        "Using amg preconditioner instead of ilu"
       ]
      }, 
      {
       "output_type": "stream", 
       "stream": "stdout", 
       "text": [
        "", 
        "Writing "
       ]
      }, 
      {
       "output_type": "stream", 
       "stream": "stdout", 
       "text": [
        " ./Molecular_unit.pvd", 
        "omegasO"
       ]
      }, 
      {
       "output_type": "stream", 
       "stream": "stdout", 
       "text": [
        "", 
        "[ 194453.41371804  196020.66312546  194548.66690366]", 
        "omegas", 
        "[ 194453.41371804  196020.66312546  194548.66690366]", 
        "Reweighting by unit cell vol", 
        "d_eff= [0.90,0.91,0.90] for d=1.00", 
        "problem.volUnitCell 216000.0", 
        "[-30. -30.  30.]"
       ]
      }, 
      {
       "output_type": "stream", 
       "stream": "stdout", 
       "text": [
        "  maps to  (30.0, 30.0, -30.0)", 
        "[-30. -30.  30.]  maps to  (-30.0, 30.0, -30.0)", 
        "[-30.  30. -30.]  maps to  (-30.0, -30.0, 30.0)", 
        "Not loading subdomains, since don't think they're needed", 
        "Loading electrostatic potential from argument", 
        "Using z=-1.000000 for the ligand", 
        "Potential range: 0.000014 - 0.269829 "
       ]
      }, 
      {
       "output_type": "stream", 
       "stream": "stdout", 
       "text": [
        "", 
        "WARNING: Your potential does not seem to cross through 0 (reguirement at outer boundary", 
        "SA: 2.663600e+04 [um^2]"
       ]
      }, 
      {
       "output_type": "stream", 
       "stream": "stdout", 
       "text": [
        "", 
        "Volume: 2.052254e+05 [um^3]", 
        "Total volume (assuming rectangular): 2.160000e+05 [um^3]", 
        "volume fraction (assuming rectangular): 9.501176e-01 [um^3]", 
        "Adding in electrostatic component"
       ]
      }, 
      {
       "output_type": "stream", 
       "stream": "stdout", 
       "text": [
        "", 
        "pmf REMOVEME 0.000014,0.269829 "
       ]
      }, 
      {
       "output_type": "stream", 
       "stream": "stdout", 
       "text": [
        "", 
        "Intfact: exp(p); 0.634433,0.999976 "
       ]
      }, 
      {
       "output_type": "stream", 
       "stream": "stdout", 
       "text": [
        "", 
        "Using amg preconditioner instead of ilu"
       ]
      }, 
      {
       "output_type": "stream", 
       "stream": "stdout", 
       "text": [
        "", 
        "Writing "
       ]
      }, 
      {
       "output_type": "stream", 
       "stream": "stdout", 
       "text": [
        " ./Molecular_unit.pvd", 
        "omegasO"
       ]
      }, 
      {
       "output_type": "stream", 
       "stream": "stdout", 
       "text": [
        "", 
        "[ 195844.21928409  197161.50266367  195843.16908072]", 
        "omegas", 
        "[ 195844.21928409  197161.50266367  195843.16908072]", 
        "Reweighting by unit cell vol", 
        "d_eff= [0.91,0.91,0.91] for d=1.00", 
        "problem.volUnitCell 216000.0", 
        "[-30. -30.  30.]"
       ]
      }, 
      {
       "output_type": "stream", 
       "stream": "stdout", 
       "text": [
        "  maps to  (30.0, 30.0, -30.0)", 
        "[-30. -30.  30.]  maps to  (-30.0, 30.0, -30.0)", 
        "[-30.  30. -30.]  maps to  (-30.0, -30.0, 30.0)", 
        "Not loading subdomains, since don't think they're needed", 
        "Loading electrostatic potential from argument", 
        "Using z=0.000000 for the ligand", 
        "Potential range: -0.000000 - -0.000000 "
       ]
      }, 
      {
       "output_type": "stream", 
       "stream": "stdout", 
       "text": [
        "", 
        "SA: 2.663600e+04 [um^2]"
       ]
      }, 
      {
       "output_type": "stream", 
       "stream": "stdout", 
       "text": [
        "", 
        "Volume: 2.052254e+05 [um^3]", 
        "Total volume (assuming rectangular): 2.160000e+05 [um^3]", 
        "volume fraction (assuming rectangular): 9.501176e-01 [um^3]", 
        "Adding in electrostatic component"
       ]
      }, 
      {
       "output_type": "stream", 
       "stream": "stdout", 
       "text": [
        "", 
        "pmf REMOVEME -0.000000,-0.000000 "
       ]
      }, 
      {
       "output_type": "stream", 
       "stream": "stdout", 
       "text": [
        "", 
        "Intfact: exp(p); 1.000000,1.000000 "
       ]
      }, 
      {
       "output_type": "stream", 
       "stream": "stdout", 
       "text": [
        "", 
        "Using amg preconditioner instead of ilu"
       ]
      }, 
      {
       "output_type": "stream", 
       "stream": "stdout", 
       "text": [
        "", 
        "Writing "
       ]
      }, 
      {
       "output_type": "stream", 
       "stream": "stdout", 
       "text": [
        " ./Molecular_unit.pvd", 
        "omegasO"
       ]
      }, 
      {
       "output_type": "stream", 
       "stream": "stdout", 
       "text": [
        "", 
        "[ 197288.0926165   198332.24149453  197179.12879191]", 
        "omegas", 
        "[ 197288.0926165   198332.24149453  197179.12879191]", 
        "Reweighting by unit cell vol", 
        "d_eff= [0.91,0.92,0.91] for d=1.00", 
        "problem.volUnitCell 216000.0", 
        "[-30. -30.  30.]"
       ]
      }, 
      {
       "output_type": "stream", 
       "stream": "stdout", 
       "text": [
        "  maps to  (30.0, 30.0, -30.0)", 
        "[-30. -30.  30.]  maps to  (-30.0, 30.0, -30.0)", 
        "[-30.  30. -30.]  maps to  (-30.0, -30.0, 30.0)", 
        "Not loading subdomains, since don't think they're needed", 
        "Loading electrostatic potential from argument", 
        "Using z=1.000000 for the ligand", 
        "Potential range: -0.269829 - -0.000014 "
       ]
      }, 
      {
       "output_type": "stream", 
       "stream": "stdout", 
       "text": [
        "", 
        "WARNING: Your potential does not seem to cross through 0 (reguirement at outer boundary", 
        "SA: 2.663600e+04 [um^2]"
       ]
      }, 
      {
       "output_type": "stream", 
       "stream": "stdout", 
       "text": [
        "", 
        "Volume: 2.052254e+05 [um^3]", 
        "Total volume (assuming rectangular): 2.160000e+05 [um^3]", 
        "volume fraction (assuming rectangular): 9.501176e-01 [um^3]", 
        "Adding in electrostatic component"
       ]
      }, 
      {
       "output_type": "stream", 
       "stream": "stdout", 
       "text": [
        "", 
        "pmf REMOVEME -0.269829,-0.000014 "
       ]
      }, 
      {
       "output_type": "stream", 
       "stream": "stdout", 
       "text": [
        "", 
        "Intfact: exp(p); 1.000024,1.576211 "
       ]
      }, 
      {
       "output_type": "stream", 
       "stream": "stdout", 
       "text": [
        "", 
        "Using amg preconditioner instead of ilu"
       ]
      }, 
      {
       "output_type": "stream", 
       "stream": "stdout", 
       "text": [
        "", 
        "Writing "
       ]
      }, 
      {
       "output_type": "stream", 
       "stream": "stdout", 
       "text": [
        " ./Molecular_unit.pvd", 
        "omegasO"
       ]
      }, 
      {
       "output_type": "stream", 
       "stream": "stdout", 
       "text": [
        "", 
        "[ 198789.31498001  199534.71960833  198558.812261  ]", 
        "omegas", 
        "[ 198789.31498001  199534.71960833  198558.812261  ]", 
        "Reweighting by unit cell vol", 
        "d_eff= [0.92,0.92,0.92] for d=1.00", 
        "problem.volUnitCell 216000.0", 
        "[-30. -30.  30.]"
       ]
      }, 
      {
       "output_type": "stream", 
       "stream": "stdout", 
       "text": [
        "  maps to  (30.0, 30.0, -30.0)", 
        "[-30. -30.  30.]  maps to  (-30.0, 30.0, -30.0)", 
        "[-30.  30. -30.]  maps to  (-30.0, -30.0, 30.0)", 
        "Not loading subdomains, since don't think they're needed", 
        "Loading electrostatic potential from argument", 
        "Using z=2.000000 for the ligand", 
        "Potential range: -0.539658 - -0.000029 "
       ]
      }, 
      {
       "output_type": "stream", 
       "stream": "stdout", 
       "text": [
        "", 
        "WARNING: Your potential does not seem to cross through 0 (reguirement at outer boundary", 
        "SA: 2.663600e+04 [um^2]"
       ]
      }, 
      {
       "output_type": "stream", 
       "stream": "stdout", 
       "text": [
        "", 
        "Volume: 2.052254e+05 [um^3]", 
        "Total volume (assuming rectangular): 2.160000e+05 [um^3]", 
        "volume fraction (assuming rectangular): 9.501176e-01 [um^3]", 
        "Adding in electrostatic component"
       ]
      }, 
      {
       "output_type": "stream", 
       "stream": "stdout", 
       "text": [
        "", 
        "pmf REMOVEME -0.539658,-0.000029 "
       ]
      }, 
      {
       "output_type": "stream", 
       "stream": "stdout", 
       "text": [
        "", 
        "Intfact: exp(p); 1.000049,2.484440 "
       ]
      }, 
      {
       "output_type": "stream", 
       "stream": "stdout", 
       "text": [
        "", 
        "Using amg preconditioner instead of ilu"
       ]
      }, 
      {
       "output_type": "stream", 
       "stream": "stdout", 
       "text": [
        "", 
        "Writing "
       ]
      }, 
      {
       "output_type": "stream", 
       "stream": "stdout", 
       "text": [
        " ./Molecular_unit.pvd", 
        "omegasO"
       ]
      }, 
      {
       "output_type": "stream", 
       "stream": "stdout", 
       "text": [
        "", 
        "[ 200352.57033383  200770.83852648  199984.42568974]", 
        "omegas", 
        "[ 200352.57033383  200770.83852648  199984.42568974]", 
        "Reweighting by unit cell vol", 
        "d_eff= [0.93,0.93,0.93] for d=1.00", 
        "problem.volUnitCell 216000.0", 
        "-7.1722355579"
       ]
      }, 
      {
       "output_type": "stream", 
       "stream": "stdout", 
       "text": [
        "", 
        "Solving linear form of PBE"
       ]
      }, 
      {
       "output_type": "stream", 
       "stream": "stdout", 
       "text": [
        "", 
        "Calling FFC just-in-time (JIT) compiler, this may take some time."
       ]
      }, 
      {
       "output_type": "stream", 
       "stream": "stdout", 
       "text": [
        "[-30. -30.  30.]  maps to  (30.0, 30.0, -30.0)", 
        "[-30. -30.  30.]  maps to  (-30.0, 30.0, -30.0)", 
        "[-30.  30. -30.]  maps to  (-30.0, -30.0, 30.0)", 
        "Not loading subdomains, since don't think they're needed", 
        "Loading electrostatic potential from argument", 
        "Using z=-2.000000 for the ligand", 
        "Potential range: -0.000136 - 0.331252 "
       ]
      }, 
      {
       "output_type": "stream", 
       "stream": "stdout", 
       "text": [
        "", 
        "SA: 2.663600e+04 [um^2]"
       ]
      }, 
      {
       "output_type": "stream", 
       "stream": "stdout", 
       "text": [
        "", 
        "Volume: 2.052254e+05 [um^3]", 
        "Total volume (assuming rectangular): 2.160000e+05 [um^3]", 
        "volume fraction (assuming rectangular): 9.501176e-01 [um^3]", 
        "Adding in electrostatic component"
       ]
      }, 
      {
       "output_type": "stream", 
       "stream": "stdout", 
       "text": [
        "", 
        "pmf REMOVEME -0.000136,0.331252 "
       ]
      }, 
      {
       "output_type": "stream", 
       "stream": "stdout", 
       "text": [
        "", 
        "Intfact: exp(p); 0.572007,1.000229 "
       ]
      }, 
      {
       "output_type": "stream", 
       "stream": "stdout", 
       "text": [
        "", 
        "Using amg preconditioner instead of ilu"
       ]
      }, 
      {
       "output_type": "stream", 
       "stream": "stdout", 
       "text": [
        "", 
        "Writing "
       ]
      }, 
      {
       "output_type": "stream", 
       "stream": "stdout", 
       "text": [
        " ./Molecular_unit.pvd", 
        "omegasO"
       ]
      }, 
      {
       "output_type": "stream", 
       "stream": "stdout", 
       "text": [
        "", 
        "[ 196785.71539328  197973.26853596  196682.59881832]", 
        "omegas", 
        "[ 196785.71539328  197973.26853596  196682.59881832]", 
        "Reweighting by unit cell vol", 
        "d_eff= [0.91,0.92,0.91] for d=1.00", 
        "problem.volUnitCell 216000.0", 
        "[-30. -30.  30.]"
       ]
      }, 
      {
       "output_type": "stream", 
       "stream": "stdout", 
       "text": [
        "  maps to  (30.0, 30.0, -30.0)", 
        "[-30. -30.  30.]  maps to  (-30.0, 30.0, -30.0)", 
        "[-30.  30. -30.]  maps to  (-30.0, -30.0, 30.0)", 
        "Not loading subdomains, since don't think they're needed", 
        "Loading electrostatic potential from argument", 
        "Using z=-1.000000 for the ligand", 
        "Potential range: -0.000068 - 0.165626 "
       ]
      }, 
      {
       "output_type": "stream", 
       "stream": "stdout", 
       "text": [
        "", 
        "SA: 2.663600e+04 [um^2]"
       ]
      }, 
      {
       "output_type": "stream", 
       "stream": "stdout", 
       "text": [
        "", 
        "Volume: 2.052254e+05 [um^3]", 
        "Total volume (assuming rectangular): 2.160000e+05 [um^3]", 
        "volume fraction (assuming rectangular): 9.501176e-01 [um^3]", 
        "Adding in electrostatic component"
       ]
      }, 
      {
       "output_type": "stream", 
       "stream": "stdout", 
       "text": [
        "", 
        "pmf REMOVEME -0.000068,0.165626 "
       ]
      }, 
      {
       "output_type": "stream", 
       "stream": "stdout", 
       "text": [
        "", 
        "Intfact: exp(p); 0.756312,1.000114 "
       ]
      }, 
      {
       "output_type": "stream", 
       "stream": "stdout", 
       "text": [
        "", 
        "Using amg preconditioner instead of ilu"
       ]
      }, 
      {
       "output_type": "stream", 
       "stream": "stdout", 
       "text": [
        "", 
        "Writing "
       ]
      }, 
      {
       "output_type": "stream", 
       "stream": "stdout", 
       "text": [
        " ./Molecular_unit.pvd", 
        "omegasO"
       ]
      }, 
      {
       "output_type": "stream", 
       "stream": "stdout", 
       "text": [
        "", 
        "[ 197033.35987392  198150.41799952  196928.20260812]", 
        "omegas", 
        "[ 197033.35987392  198150.41799952  196928.20260812]", 
        "Reweighting by unit cell vol", 
        "d_eff= [0.91,0.92,0.91] for d=1.00", 
        "problem.volUnitCell 216000.0", 
        "[-30. -30.  30.]"
       ]
      }, 
      {
       "output_type": "stream", 
       "stream": "stdout", 
       "text": [
        "  maps to  (30.0, 30.0, -30.0)", 
        "[-30. -30.  30.]  maps to  (-30.0, 30.0, -30.0)", 
        "[-30.  30. -30.]  maps to  (-30.0, -30.0, 30.0)", 
        "Not loading subdomains, since don't think they're needed", 
        "Loading electrostatic potential from argument", 
        "Using z=0.000000 for the ligand", 
        "Potential range: -0.000000 - -0.000000 "
       ]
      }, 
      {
       "output_type": "stream", 
       "stream": "stdout", 
       "text": [
        "", 
        "SA: 2.663600e+04 [um^2]"
       ]
      }, 
      {
       "output_type": "stream", 
       "stream": "stdout", 
       "text": [
        "", 
        "Volume: 2.052254e+05 [um^3]", 
        "Total volume (assuming rectangular): 2.160000e+05 [um^3]", 
        "volume fraction (assuming rectangular): 9.501176e-01 [um^3]", 
        "Adding in electrostatic component"
       ]
      }, 
      {
       "output_type": "stream", 
       "stream": "stdout", 
       "text": [
        "", 
        "pmf REMOVEME -0.000000,-0.000000 "
       ]
      }, 
      {
       "output_type": "stream", 
       "stream": "stdout", 
       "text": [
        "", 
        "Intfact: exp(p); 1.000000,1.000000 "
       ]
      }, 
      {
       "output_type": "stream", 
       "stream": "stdout", 
       "text": [
        "", 
        "Using amg preconditioner instead of ilu"
       ]
      }, 
      {
       "output_type": "stream", 
       "stream": "stdout", 
       "text": [
        "", 
        "Writing "
       ]
      }, 
      {
       "output_type": "stream", 
       "stream": "stdout", 
       "text": [
        " ./Molecular_unit.pvd", 
        "omegasO"
       ]
      }, 
      {
       "output_type": "stream", 
       "stream": "stdout", 
       "text": [
        "", 
        "[ 197288.0926165   198332.24149453  197179.12879191]", 
        "omegas", 
        "[ 197288.0926165   198332.24149453  197179.12879191]", 
        "Reweighting by unit cell vol", 
        "d_eff= [0.91,0.92,0.91] for d=1.00", 
        "problem.volUnitCell 216000.0", 
        "[-30. -30.  30.]"
       ]
      }, 
      {
       "output_type": "stream", 
       "stream": "stdout", 
       "text": [
        "  maps to  (30.0, 30.0, -30.0)", 
        "[-30. -30.  30.]  maps to  (-30.0, 30.0, -30.0)", 
        "[-30.  30. -30.]  maps to  (-30.0, -30.0, 30.0)", 
        "Not loading subdomains, since don't think they're needed", 
        "Loading electrostatic potential from argument", 
        "Using z=1.000000 for the ligand", 
        "Potential range: -0.165626 - 0.000068 "
       ]
      }, 
      {
       "output_type": "stream", 
       "stream": "stdout", 
       "text": [
        "", 
        "SA: 2.663600e+04 [um^2]"
       ]
      }, 
      {
       "output_type": "stream", 
       "stream": "stdout", 
       "text": [
        "", 
        "Volume: 2.052254e+05 [um^3]", 
        "Total volume (assuming rectangular): 2.160000e+05 [um^3]", 
        "volume fraction (assuming rectangular): 9.501176e-01 [um^3]", 
        "Adding in electrostatic component"
       ]
      }, 
      {
       "output_type": "stream", 
       "stream": "stdout", 
       "text": [
        "", 
        "pmf REMOVEME -0.165626,0.000068 "
       ]
      }, 
      {
       "output_type": "stream", 
       "stream": "stdout", 
       "text": [
        "", 
        "Intfact: exp(p); 0.999886,1.322206 "
       ]
      }, 
      {
       "output_type": "stream", 
       "stream": "stdout", 
       "text": [
        "", 
        "Using amg preconditioner instead of ilu"
       ]
      }, 
      {
       "output_type": "stream", 
       "stream": "stdout", 
       "text": [
        "", 
        "Writing "
       ]
      }, 
      {
       "output_type": "stream", 
       "stream": "stdout", 
       "text": [
        " ./Molecular_unit.pvd", 
        "omegasO"
       ]
      }, 
      {
       "output_type": "stream", 
       "stream": "stdout", 
       "text": [
        "", 
        "[ 197550.4757729   198519.06923982  197435.54964911]", 
        "omegas", 
        "[ 197550.4757729   198519.06923982  197435.54964911]", 
        "Reweighting by unit cell vol", 
        "d_eff= [0.91,0.92,0.91] for d=1.00", 
        "problem.volUnitCell 216000.0", 
        "[-30. -30.  30.]"
       ]
      }, 
      {
       "output_type": "stream", 
       "stream": "stdout", 
       "text": [
        "  maps to  (30.0, 30.0, -30.0)", 
        "[-30. -30.  30.]  maps to  (-30.0, 30.0, -30.0)", 
        "[-30.  30. -30.]  maps to  (-30.0, -30.0, 30.0)", 
        "Not loading subdomains, since don't think they're needed", 
        "Loading electrostatic potential from argument", 
        "Using z=2.000000 for the ligand", 
        "Potential range: -0.331252 - 0.000136 "
       ]
      }, 
      {
       "output_type": "stream", 
       "stream": "stdout", 
       "text": [
        "", 
        "SA: 2.663600e+04 [um^2]"
       ]
      }, 
      {
       "output_type": "stream", 
       "stream": "stdout", 
       "text": [
        "", 
        "Volume: 2.052254e+05 [um^3]", 
        "Total volume (assuming rectangular): 2.160000e+05 [um^3]", 
        "volume fraction (assuming rectangular): 9.501176e-01 [um^3]", 
        "Adding in electrostatic component"
       ]
      }, 
      {
       "output_type": "stream", 
       "stream": "stdout", 
       "text": [
        "", 
        "pmf REMOVEME -0.331252,0.000136 "
       ]
      }, 
      {
       "output_type": "stream", 
       "stream": "stdout", 
       "text": [
        "", 
        "Intfact: exp(p); 0.999771,1.748230 "
       ]
      }, 
      {
       "output_type": "stream", 
       "stream": "stdout", 
       "text": [
        "", 
        "Using amg preconditioner instead of ilu"
       ]
      }, 
      {
       "output_type": "stream", 
       "stream": "stdout", 
       "text": [
        "", 
        "Writing "
       ]
      }, 
      {
       "output_type": "stream", 
       "stream": "stdout", 
       "text": [
        " ./Molecular_unit.pvd", 
        "omegasO"
       ]
      }, 
      {
       "output_type": "stream", 
       "stream": "stdout", 
       "text": [
        "", 
        "[ 197821.11432633  198711.24889571  197697.61284671]", 
        "omegas", 
        "[ 197821.11432633  198711.24889571  197697.61284671]", 
        "Reweighting by unit cell vol", 
        "d_eff= [0.92,0.92,0.92] for d=1.00", 
        "problem.volUnitCell 216000.0", 
        "-4.38783112574"
       ]
      }, 
      {
       "output_type": "stream", 
       "stream": "stdout", 
       "text": [
        "", 
        "Solving linear form of PBE"
       ]
      }, 
      {
       "output_type": "stream", 
       "stream": "stdout", 
       "text": [
        "", 
        "Calling FFC just-in-time (JIT) compiler, this may take some time."
       ]
      }, 
      {
       "output_type": "stream", 
       "stream": "stdout", 
       "text": [
        "[-30. -30.  30.]  maps to  (30.0, 30.0, -30.0)", 
        "[-30. -30.  30.]  maps to  (-30.0, 30.0, -30.0)", 
        "[-30.  30. -30.]  maps to  (-30.0, -30.0, 30.0)", 
        "Not loading subdomains, since don't think they're needed", 
        "Loading electrostatic potential from argument", 
        "Using z=-2.000000 for the ligand", 
        "Potential range: -0.001027 - 0.202653 "
       ]
      }, 
      {
       "output_type": "stream", 
       "stream": "stdout", 
       "text": [
        "", 
        "SA: 2.663600e+04 [um^2]"
       ]
      }, 
      {
       "output_type": "stream", 
       "stream": "stdout", 
       "text": [
        "", 
        "Volume: 2.052254e+05 [um^3]", 
        "Total volume (assuming rectangular): 2.160000e+05 [um^3]", 
        "volume fraction (assuming rectangular): 9.501176e-01 [um^3]", 
        "Adding in electrostatic component"
       ]
      }, 
      {
       "output_type": "stream", 
       "stream": "stdout", 
       "text": [
        "", 
        "pmf REMOVEME -0.001027,0.202653 "
       ]
      }, 
      {
       "output_type": "stream", 
       "stream": "stdout", 
       "text": [
        "", 
        "Intfact: exp(p); 0.710531,1.001733 "
       ]
      }, 
      {
       "output_type": "stream", 
       "stream": "stdout", 
       "text": [
        "", 
        "Using amg preconditioner instead of ilu"
       ]
      }, 
      {
       "output_type": "stream", 
       "stream": "stdout", 
       "text": [
        "", 
        "Writing "
       ]
      }, 
      {
       "output_type": "stream", 
       "stream": "stdout", 
       "text": [
        " ./Molecular_unit.pvd", 
        "omegasO"
       ]
      }, 
      {
       "output_type": "stream", 
       "stream": "stdout", 
       "text": [
        "", 
        "[ 197107.43517845  198212.63504726  197014.51430037]", 
        "omegas", 
        "[ 197107.43517845  198212.63504726  197014.51430037]", 
        "Reweighting by unit cell vol", 
        "d_eff= [0.91,0.92,0.91] for d=1.00", 
        "problem.volUnitCell 216000.0", 
        "[-30. -30.  30.]"
       ]
      }, 
      {
       "output_type": "stream", 
       "stream": "stdout", 
       "text": [
        "  maps to  (30.0, 30.0, -30.0)", 
        "[-30. -30.  30.]  maps to  (-30.0, 30.0, -30.0)", 
        "[-30.  30. -30.]  maps to  (-30.0, -30.0, 30.0)", 
        "Not loading subdomains, since don't think they're needed", 
        "Loading electrostatic potential from argument", 
        "Using z=-1.000000 for the ligand", 
        "Potential range: -0.000514 - 0.101327 "
       ]
      }, 
      {
       "output_type": "stream", 
       "stream": "stdout", 
       "text": [
        "", 
        "SA: 2.663600e+04 [um^2]"
       ]
      }, 
      {
       "output_type": "stream", 
       "stream": "stdout", 
       "text": [
        "", 
        "Volume: 2.052254e+05 [um^3]", 
        "Total volume (assuming rectangular): 2.160000e+05 [um^3]", 
        "volume fraction (assuming rectangular): 9.501176e-01 [um^3]", 
        "Adding in electrostatic component"
       ]
      }, 
      {
       "output_type": "stream", 
       "stream": "stdout", 
       "text": [
        "", 
        "pmf REMOVEME -0.000514,0.101327 "
       ]
      }, 
      {
       "output_type": "stream", 
       "stream": "stdout", 
       "text": [
        "", 
        "Intfact: exp(p); 0.842930,1.000866 "
       ]
      }, 
      {
       "output_type": "stream", 
       "stream": "stdout", 
       "text": [
        "", 
        "Using amg preconditioner instead of ilu"
       ]
      }, 
      {
       "output_type": "stream", 
       "stream": "stdout", 
       "text": [
        "", 
        "Writing "
       ]
      }, 
      {
       "output_type": "stream", 
       "stream": "stdout", 
       "text": [
        " ./Molecular_unit.pvd", 
        "omegasO"
       ]
      }, 
      {
       "output_type": "stream", 
       "stream": "stdout", 
       "text": [
        "", 
        "[ 197196.64440171  198271.77073059  197096.04133787]", 
        "omegas", 
        "[ 197196.64440171  198271.77073059  197096.04133787]", 
        "Reweighting by unit cell vol", 
        "d_eff= [0.91,0.92,0.91] for d=1.00", 
        "problem.volUnitCell 216000.0", 
        "[-30. -30.  30.]"
       ]
      }, 
      {
       "output_type": "stream", 
       "stream": "stdout", 
       "text": [
        "  maps to  (30.0, 30.0, -30.0)", 
        "[-30. -30.  30.]  maps to  (-30.0, 30.0, -30.0)", 
        "[-30.  30. -30.]  maps to  (-30.0, -30.0, 30.0)", 
        "Not loading subdomains, since don't think they're needed", 
        "Loading electrostatic potential from argument", 
        "Using z=0.000000 for the ligand", 
        "Potential range: -0.000000 - -0.000000 "
       ]
      }, 
      {
       "output_type": "stream", 
       "stream": "stdout", 
       "text": [
        "", 
        "SA: 2.663600e+04 [um^2]"
       ]
      }, 
      {
       "output_type": "stream", 
       "stream": "stdout", 
       "text": [
        "", 
        "Volume: 2.052254e+05 [um^3]", 
        "Total volume (assuming rectangular): 2.160000e+05 [um^3]", 
        "volume fraction (assuming rectangular): 9.501176e-01 [um^3]", 
        "Adding in electrostatic component"
       ]
      }, 
      {
       "output_type": "stream", 
       "stream": "stdout", 
       "text": [
        "", 
        "pmf REMOVEME -0.000000,-0.000000 "
       ]
      }, 
      {
       "output_type": "stream", 
       "stream": "stdout", 
       "text": [
        "", 
        "Intfact: exp(p); 1.000000,1.000000 "
       ]
      }, 
      {
       "output_type": "stream", 
       "stream": "stdout", 
       "text": [
        "", 
        "Using amg preconditioner instead of ilu"
       ]
      }, 
      {
       "output_type": "stream", 
       "stream": "stdout", 
       "text": [
        "", 
        "Writing "
       ]
      }, 
      {
       "output_type": "stream", 
       "stream": "stdout", 
       "text": [
        " ./Molecular_unit.pvd", 
        "omegasO"
       ]
      }, 
      {
       "output_type": "stream", 
       "stream": "stdout", 
       "text": [
        "", 
        "[ 197288.0926165   198332.24149453  197179.12879191]", 
        "omegas", 
        "[ 197288.0926165   198332.24149453  197179.12879191]", 
        "Reweighting by unit cell vol", 
        "d_eff= [0.91,0.92,0.91] for d=1.00", 
        "problem.volUnitCell 216000.0", 
        "[-30. -30.  30.]"
       ]
      }, 
      {
       "output_type": "stream", 
       "stream": "stdout", 
       "text": [
        "  maps to  (30.0, 30.0, -30.0)", 
        "[-30. -30.  30.]  maps to  (-30.0, 30.0, -30.0)", 
        "[-30.  30. -30.]  maps to  (-30.0, -30.0, 30.0)", 
        "Not loading subdomains, since don't think they're needed", 
        "Loading electrostatic potential from argument", 
        "Using z=1.000000 for the ligand", 
        "Potential range: -0.101327 - 0.000514 "
       ]
      }, 
      {
       "output_type": "stream", 
       "stream": "stdout", 
       "text": [
        "", 
        "SA: 2.663600e+04 [um^2]"
       ]
      }, 
      {
       "output_type": "stream", 
       "stream": "stdout", 
       "text": [
        "", 
        "Volume: 2.052254e+05 [um^3]", 
        "Total volume (assuming rectangular): 2.160000e+05 [um^3]", 
        "volume fraction (assuming rectangular): 9.501176e-01 [um^3]", 
        "Adding in electrostatic component"
       ]
      }, 
      {
       "output_type": "stream", 
       "stream": "stdout", 
       "text": [
        "", 
        "pmf REMOVEME -0.101327,0.000514 "
       ]
      }, 
      {
       "output_type": "stream", 
       "stream": "stdout", 
       "text": [
        "", 
        "Intfact: exp(p); 0.999134,1.186338 "
       ]
      }, 
      {
       "output_type": "stream", 
       "stream": "stdout", 
       "text": [
        "", 
        "Using amg preconditioner instead of ilu"
       ]
      }, 
      {
       "output_type": "stream", 
       "stream": "stdout", 
       "text": [
        "", 
        "Writing "
       ]
      }, 
      {
       "output_type": "stream", 
       "stream": "stdout", 
       "text": [
        " ./Molecular_unit.pvd", 
        "omegasO"
       ]
      }, 
      {
       "output_type": "stream", 
       "stream": "stdout", 
       "text": [
        "", 
        "[ 197381.9223234   198394.12130081  197263.82600737]", 
        "omegas", 
        "[ 197381.9223234   198394.12130081  197263.82600737]", 
        "Reweighting by unit cell vol", 
        "d_eff= [0.91,0.92,0.91] for d=1.00", 
        "problem.volUnitCell 216000.0", 
        "[-30. -30.  30.]"
       ]
      }, 
      {
       "output_type": "stream", 
       "stream": "stdout", 
       "text": [
        "  maps to  (30.0, 30.0, -30.0)", 
        "[-30. -30.  30.]  maps to  (-30.0, 30.0, -30.0)", 
        "[-30.  30. -30.]  maps to  (-30.0, -30.0, 30.0)", 
        "Not loading subdomains, since don't think they're needed", 
        "Loading electrostatic potential from argument", 
        "Using z=2.000000 for the ligand", 
        "Potential range: -0.202653 - 0.001027 "
       ]
      }, 
      {
       "output_type": "stream", 
       "stream": "stdout", 
       "text": [
        "", 
        "SA: 2.663600e+04 [um^2]"
       ]
      }, 
      {
       "output_type": "stream", 
       "stream": "stdout", 
       "text": [
        "", 
        "Volume: 2.052254e+05 [um^3]", 
        "Total volume (assuming rectangular): 2.160000e+05 [um^3]", 
        "volume fraction (assuming rectangular): 9.501176e-01 [um^3]", 
        "Adding in electrostatic component"
       ]
      }, 
      {
       "output_type": "stream", 
       "stream": "stdout", 
       "text": [
        "", 
        "pmf REMOVEME -0.202653,0.001027 "
       ]
      }, 
      {
       "output_type": "stream", 
       "stream": "stdout", 
       "text": [
        "", 
        "Intfact: exp(p); 0.998270,1.407398 "
       ]
      }, 
      {
       "output_type": "stream", 
       "stream": "stdout", 
       "text": [
        "", 
        "Using amg preconditioner instead of ilu"
       ]
      }, 
      {
       "output_type": "stream", 
       "stream": "stdout", 
       "text": [
        "", 
        "Writing "
       ]
      }, 
      {
       "output_type": "stream", 
       "stream": "stdout", 
       "text": [
        " ./Molecular_unit.pvd", 
        "omegasO"
       ]
      }, 
      {
       "output_type": "stream", 
       "stream": "stdout", 
       "text": [
        "", 
        "[ 197478.28435744  198457.48761262  197350.18001761]", 
        "omegas", 
        "[ 197478.28435744  198457.48761262  197350.18001761]", 
        "Reweighting by unit cell vol", 
        "d_eff= [0.91,0.92,0.91] for d=1.00", 
        "problem.volUnitCell 216000.0"
       ]
      }
     ], 
     "prompt_number": 15
    }, 
    {
     "cell_type": "code", 
     "collapsed": false, 
     "input": [
      "allDs"
     ], 
     "language": "python", 
     "outputs": [
      {
       "output_type": "pyout", 
       "prompt_number": 18, 
       "text": [
        "array([[  9.38472861e-03,   9.23486296e-02,   9.13370799e-01,", 
        "          9.07609634e+00,   9.05455029e+01],", 
        "       [  1.29789531e-01,   3.43436109e-01,   9.13370799e-01,", 
        "          2.44201923e+00,   6.56374840e+00],", 
        "       [  4.69253823e-01,   6.52550139e-01,   9.13370799e-01,", 
        "          1.28673747e+00,   1.82381727e+00],", 
        "       [  7.73015785e-01,   8.39103337e-01,   9.13370799e-01,", 
        "          9.97057875e-01,   1.09155751e+00],", 
        "       [  8.72058525e-01,   8.92201007e-01,   9.13370799e-01,", 
        "          9.35664135e-01,   9.59188712e-01],", 
        "       [  9.00247286e-01,   9.06686200e-01,   9.13370799e-01,", 
        "          9.20320903e-01,   9.27558196e-01],", 
        "       [  9.11044979e-01,   9.12191481e-01,   9.13370799e-01,", 
        "          9.14585536e-01,   9.15838492e-01],", 
        "       [  9.12534422e-01,   9.12947428e-01,   9.13370799e-01,", 
        "          9.13805196e-01,   9.14251316e-01]])"
       ]
      }
     ], 
     "prompt_number": 18
    }, 
    {
     "cell_type": "code", 
     "collapsed": false, 
     "input": [
      "i=0", 
      "cols = ['r-','r--','k','b--','b-']", 
      "if(1):", 
      "  for i in range(nLigs):", 
      "    plt.plot(ionCs,allDs[:,i],cols[i],label=\"z=%d\" % z[i])", 
      "", 
      "  plt.xscale(\"log\")", 
      "  plt.yscale(\"log\")  ", 
      "  plt.xlabel(\"[I] [M]\") ", 
      "  plt.ylabel(\"D$_x$\")", 
      "  plt.title(\"Diffusion about non-uniformly charged protein\") ", 
      "  plt.legend(loc=0)", 
      "    ", 
      "  a = plt.axes([0.6, 0.65, .3, .2])  ", 
      "#plt.figure()", 
      "", 
      "for i in range(nLigs):", 
      "  plt.plot(ionCs,allDs[:,i],cols[i],label=\"z=%d\" % z[i])", 
      "#plt.xscale(\"log\")", 
      "#plt.yscale(\"log\")  ", 
      "plt.xlim([0.05,0.3])", 
      "plt.ylim([0.8,1])", 
      "plt.yticks([0.80,0.9,1.])", 
      "plt.xticks([0.05,0.15,0.25])", 
      "    ", 
      "plt.gcf().savefig(\"tnc.png\") "
     ], 
     "language": "python", 
     "outputs": [
      {
       "output_type": "display_data", 
       "png": "[encoded data removed]"
      }
     ], 
     "prompt_number": 65
    }, 
    {
     "cell_type": "code", 
     "collapsed": true, 
     "input": [
      "mm.makeExteriorMesh([\"tnc.pdb\"],[])"
     ], 
     "language": "python", 
     "outputs": [], 
     "prompt_number": "*"
    }, 
    {
     "cell_type": "code", 
     "collapsed": false, 
     "input": [
      "range(nLigs)"
     ], 
     "language": "python", 
     "outputs": [
      {
       "output_type": "pyout", 
       "prompt_number": 22, 
       "text": [
        "[0, 1, 2, 3, 4]"
       ]
      }
     ], 
     "prompt_number": 22
    }, 
    {
     "cell_type": "code", 
     "collapsed": true, 
     "input": [], 
     "language": "python", 
     "outputs": []
    }
   ]
  }
 ]
}