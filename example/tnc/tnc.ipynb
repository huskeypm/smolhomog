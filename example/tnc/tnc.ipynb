{
 "metadata": {
  "name": "tnc"
 }, 
 "nbformat": 2, 
 "worksheets": [
  {
   "cells": [
    {
     "cell_type": "code", 
     "collapsed": false, 
     "input": [
      "# for chemcca11 only", 
      "import sys", 
      "from dolfin import *", 
      "sys.path.append(\"/net/home/huskeypm/bin/grids/\")", 
      "sys.path.append(\"/net/home/huskeypm/Sources/smolhomog/example/\")", 
      "sys.path.append(\"/net/home/huskeypm/Sources/homogenization/\")", 
      "import caseRunner as cr # just for PB stuff", 
      "", 
      "", 
      "cr.dims=3", 
      "## make mesh ", 
      "makeMesh=False", 
      "if(makeMesh):", 
      "  #import gamer  ", 
      "  import makeCubicMeshPDB as mm", 
      "  boxdims =np.array([50,46,46])", 
      "  # verified that mesh is centered  ", 
      "  meshFile = mm.makeExteriorMesh(\"tnc.pdb\",molratio=1,boxdim=boxdims,type=\"box\")", 
      "  print \"WARNING: will want to remove <domain> section  from xml file and resave\"", 
      ""
     ], 
     "language": "python", 
     "outputs": [
      {
       "output_type": "stream", 
       "stream": "stdout", 
       "text": [
        "WARNING: This code is no-where close to being validated (use at your own risk)", 
        "WARNING: removed ANG TO UM", 
        "WARNING: removed ANG TO UM", 
        "WARNING: removed ANG TO UM", 
        "WARNING: removed ANG TO UM", 
        "WARNING: overriding parms (conflicting w smol on vm)", 
        "WARNING: bounds are hardcoded"
       ]
      }
     ], 
     "prompt_number": 2
    }, 
    {
     "cell_type": "code", 
     "collapsed": false, 
     "input": [
      "meshFile = \"tnc_mesh.xml\"", 
      "", 
      "mode = \"uniform\" ", 
      "mode = \"local\"", 
      "## assign charge ", 
      "cr.activeSite = np.array([4.435000,15.388000,-6.019000])", 
      "class allBoundary(SubDomain):", 
      "  def inside(self,x,on_boundary):", 
      "        #if on_boundary:", 
      "        #  print 1", 
      "        return on_boundary", 
      "    ", 
      "class innerBoundary(SubDomain):", 
      "  def inside(self,x,on_boundary):", 
      "    inner = np.linalg.norm(x-cr.activeSite) < 10.", 
      "    return inner and on_boundary", 
      "", 
      "#mesh = Mesh(meshFile)", 
      "V = FunctionSpace(mesh,\"CG\",1)", 
      "", 
      "# Get total SA first ", 
      "subdomainsTemp = MeshFunction(\"uint\",mesh,3-1)", 
      "allBoundary = allBoundary()", 
      "allMarker = 1", 
      "allBoundary.mark(subdomainsTemp,allMarker)", 
      "ds = Measure(\"ds\")[subdomainsTemp] ", 
      "totSA =  assemble(Constant(1)*ds(allMarker),mesh=mesh)", 
      "", 
      "subdomains = MeshFunction(\"uint\",mesh,3-1)", 
      "boundary = innerBoundary();", 
      "chargeMarker = 2", 
      "boundary.mark(subdomains,chargeMarker)", 
      "ds = Measure(\"ds\")[subdomains] ", 
      "integratedDensity= assemble(Constant(1)*ds(chargeMarker),mesh=mesh)", 
      "", 
      "checkBC=True", 
      "if(checkBC):", 
      "    import view ", 
      "    bcs = [DirichletBC(V,Constant(1.),subdomains,chargeMarker)]", 
      "    view.PrintBoundary(mesh,bcs)", 
      "", 
      "", 
      "# get VolFrac", 
      "freeVol= assemble(Constant(1.)*dx(0),mesh=mesh)", 
      "totVol=(np.max(mesh.coordinates())- np.min(mesh.coordinates()))**3", 
      "print \"Vol frac %f :\" % (freeVol/totVol)"
     ], 
     "language": "python", 
     "outputs": [
      {
       "output_type": "stream", 
       "stream": "stdout", 
       "text": [
        "Printing boundary 0", 
        "Marked 1394/24250 ", 
        "Printing marked.pvd for viewing"
       ]
      }
     ], 
     "prompt_number": 26
    }, 
    {
     "cell_type": "code", 
     "collapsed": false, 
     "input": [
      "", 
      "", 
      "# Get charge density for non-uniform case", 
      "# see 130903_tnc.tex ns ", 
      "sigma_unif = -0.01 # C/m^2", 
      "totalCharge=  sigma_unif * totSA", 
      "sigma_nonunif  = totalCharge/integratedDensity", 
      "print sigma_nonunif"
     ], 
     "language": "python", 
     "outputs": [
      {
       "output_type": "stream", 
       "stream": "stdout", 
       "text": [
        "0.707088373267", 
        "-0.301161920235"
       ]
      }
     ], 
     "prompt_number": 31
    }, 
    {
     "cell_type": "code", 
     "collapsed": false, 
     "input": [], 
     "language": "python", 
     "outputs": [
      {
       "output_type": "pyout", 
       "prompt_number": 34, 
       "text": [
        "&lt;__main__.allBoundary; proxy of &lt;Swig Object of type &apos;boost::shared_ptr&lt; dolfin::SubDomain &gt; *&apos; at 0x52cd8d0&gt; &gt;"
       ]
      }
     ], 
     "prompt_number": 34
    }, 
    {
     "cell_type": "code", 
     "collapsed": false, 
     "input": [
      "# quick test", 
      "ionC = 0.15 # M ", 
      "if(0):", 
      "    z,DsNonUnif=cr.runCase(meshFile=meshFile,\\", 
      "                ionC=ionC,sigma=sigma_nonunif,chargeBoundary=innerBoundary)", 
      "if(0): ", 
      "    z,DsUnif=cr.runCase(meshFile=meshFile,\\", 
      "                ionC=ionC,sigma=sigma_unif,chargeBoundary=allBoundary)", 
      "print DsNonUnif", 
      "print DsUnif"
     ], 
     "language": "python", 
     "outputs": [
      {
       "output_type": "stream", 
       "stream": "stdout", 
       "text": [
        "[ 0.43275813  0.5147588   0.75594524  1.87251681  4.53325292]", 
        "[ 0.34025048  0.50689359  0.75594524  1.12854321  1.68654694]"
       ]
      }
     ], 
     "prompt_number": 36
    }, 
    {
     "cell_type": "code", 
     "collapsed": false, 
     "input": [
      "#import homoglight as hl", 
      "#results = hl.runHomog(fileXML=meshFile,gamer=1)", 
      "", 
      "#z,Ds=cr.runCase(meshFile=meshFile,\\", 
      "#                ionC=0.15,sigma=-0.01,chargeBoundary=innerBoundary,singleCase=True,\\", 
      "#                meshType=\"gamer\")", 
      "", 
      "ionC = 0.15", 
      "nCs=8", 
      "ionCs = 10**np.linspace(-3,0,nCs)", 
      "nLigs = 5", 
      "allDsUnif = np.zeros((nCs,nLigs))", 
      "allDsNonUnif = np.copy(allDsUnif)", 
      "print ionCs", 
      "for i,ionC in enumerate(ionCs):", 
      "    z,DsNonUnif=cr.runCase(meshFile=meshFile,\\", 
      "                ionC=ionC,sigma=sigma_nonunif,chargeBoundary=innerBoundary)", 
      "    z,DsUnif=cr.runCase(meshFile=meshFile,\\", 
      "                ionC=ionC,sigma=sigma_unif,chargeBoundary=allBoundary)", 
      "", 
      "    # store", 
      "    allDsUnif[i,:] = DsUnif", 
      "    # store", 
      "    allDsNonUnif[i,:] = DsNonUnif"
     ], 
     "language": "python", 
     "outputs": [
      {
       "output_type": "stream", 
       "stream": "stdout", 
       "text": [
        "[ 0.001       0.0026827   0.00719686  0.01930698  0.05179475  0.13894955", 
        "  0.37275937  1.        ]", 
        "-261.756385165"
       ]
      }, 
      {
       "output_type": "stream", 
       "stream": "stdout", 
       "text": [
        "", 
        "Solving linear form of PBE"
       ]
      }, 
      {
       "output_type": "stream", 
       "stream": "stdout", 
       "text": [
        "", 
        "[-19. -22.  21.]"
       ]
      }, 
      {
       "output_type": "stream", 
       "stream": "stdout", 
       "text": [
        "  maps to  (19.0, 22.0, -21.0)", 
        "[-19. -22.  21.]  maps to  (-19.0, 22.0, -21.0)", 
        "[-19.  22. -21.]  maps to  (-19.0, -22.0, 21.0)", 
        "Not loading subdomains, since don&apos;t think they&apos;re needed", 
        "Loading electrostatic potential from argument", 
        "Using z=-2.000000 for the ligand", 
        "Potential range: 10.438500 - 12.089305 "
       ]
      }, 
      {
       "output_type": "stream", 
       "stream": "stdout", 
       "text": [
        "", 
        "WARNING: Your potential does not seem to cross through 0 (reguirement at outer boundary", 
        "SA: 1.485589e+04 [um^2]"
       ]
      }, 
      {
       "output_type": "stream", 
       "stream": "stdout", 
       "text": [
        "", 
        "Volume: 6.023262e+04 [um^3]", 
        "Total volume (assuming rectangular): 7.022400e+04 [um^3]", 
        "volume fraction (assuming rectangular): 8.577212e-01 [um^3]", 
        "WARNING: assuming D=1."
       ]
      }, 
      {
       "output_type": "stream", 
       "stream": "stdout", 
       "text": [
        "", 
        "Adding in electrostatic component", 
        "pmf REMOVEME 10.438500,12.089305 "
       ]
      }, 
      {
       "output_type": "stream", 
       "stream": "stdout", 
       "text": [
        "", 
        "Intfact: exp(p); 0.000000,0.000000 "
       ]
      }, 
      {
       "output_type": "stream", 
       "stream": "stdout", 
       "text": [
        "", 
        "Using amg preconditioner instead of ilu"
       ]
      }, 
      {
       "output_type": "stream", 
       "stream": "stdout", 
       "text": [
        "", 
        "Writing "
       ]
      }, 
      {
       "output_type": "stream", 
       "stream": "stdout", 
       "text": [
        " ./Molecular_unit.pvd", 
        "omegasO"
       ]
      }, 
      {
       "output_type": "stream", 
       "stream": "stdout", 
       "text": [
        "", 
        "[ 0.00061604  0.00049862  0.00059395]", 
        "omegas", 
        "[ 0.00061604  0.00049862  0.00059395]", 
        "Reweighting by unit cell vol", 
        "d_eff= [0.00,0.00,0.00] for d=1.00", 
        "problem.volUnitCell 70224.0", 
        "[-19. -22.  21.]"
       ]
      }, 
      {
       "output_type": "stream", 
       "stream": "stdout", 
       "text": [
        "  maps to  (19.0, 22.0, -21.0)", 
        "[-19. -22.  21.]  maps to  (-19.0, 22.0, -21.0)", 
        "[-19.  22. -21.]  maps to  (-19.0, -22.0, 21.0)", 
        "Not loading subdomains, since don&apos;t think they&apos;re needed", 
        "Loading electrostatic potential from argument", 
        "Using z=-1.000000 for the ligand", 
        "Potential range: 5.219250 - 6.044652 "
       ]
      }, 
      {
       "output_type": "stream", 
       "stream": "stdout", 
       "text": [
        "", 
        "WARNING: Your potential does not seem to cross through 0 (reguirement at outer boundary", 
        "SA: 1.485589e+04 [um^2]"
       ]
      }, 
      {
       "output_type": "stream", 
       "stream": "stdout", 
       "text": [
        "", 
        "Volume: 6.023262e+04 [um^3]", 
        "Total volume (assuming rectangular): 7.022400e+04 [um^3]", 
        "volume fraction (assuming rectangular): 8.577212e-01 [um^3]", 
        "WARNING: assuming D=1."
       ]
      }, 
      {
       "output_type": "stream", 
       "stream": "stdout", 
       "text": [
        "", 
        "Adding in electrostatic component", 
        "pmf REMOVEME 5.219250,6.044652 "
       ]
      }, 
      {
       "output_type": "stream", 
       "stream": "stdout", 
       "text": [
        "", 
        "Intfact: exp(p); 0.000037,0.000151 "
       ]
      }, 
      {
       "output_type": "stream", 
       "stream": "stdout", 
       "text": [
        "", 
        "Using amg preconditioner instead of ilu"
       ]
      }, 
      {
       "output_type": "stream", 
       "stream": "stdout", 
       "text": [
        "", 
        "Writing "
       ]
      }, 
      {
       "output_type": "stream", 
       "stream": "stdout", 
       "text": [
        " ./Molecular_unit.pvd", 
        "omegasO"
       ]
      }, 
      {
       "output_type": "stream", 
       "stream": "stdout", 
       "text": [
        "", 
        "[ 5.45637618  5.29930241  5.42450306]", 
        "omegas", 
        "[ 5.45637618  5.29930241  5.42450306]", 
        "Reweighting by unit cell vol", 
        "d_eff= [0.00,0.00,0.00] for d=1.00", 
        "problem.volUnitCell 70224.0", 
        "[-19. -22.  21.]"
       ]
      }, 
      {
       "output_type": "stream", 
       "stream": "stdout", 
       "text": [
        "  maps to  (19.0, 22.0, -21.0)", 
        "[-19. -22.  21.]  maps to  (-19.0, 22.0, -21.0)", 
        "[-19.  22. -21.]  maps to  (-19.0, -22.0, 21.0)", 
        "Not loading subdomains, since don&apos;t think they&apos;re needed", 
        "Loading electrostatic potential from argument", 
        "Using z=0.000000 for the ligand", 
        "Potential range: -0.000000 - -0.000000 "
       ]
      }, 
      {
       "output_type": "stream", 
       "stream": "stdout", 
       "text": [
        "", 
        "SA: 1.485589e+04 [um^2]"
       ]
      }, 
      {
       "output_type": "stream", 
       "stream": "stdout", 
       "text": [
        "", 
        "Volume: 6.023262e+04 [um^3]", 
        "Total volume (assuming rectangular): 7.022400e+04 [um^3]", 
        "volume fraction (assuming rectangular): 8.577212e-01 [um^3]", 
        "WARNING: assuming D=1."
       ]
      }, 
      {
       "output_type": "stream", 
       "stream": "stdout", 
       "text": [
        "", 
        "Adding in electrostatic component", 
        "pmf REMOVEME -0.000000,-0.000000 "
       ]
      }, 
      {
       "output_type": "stream", 
       "stream": "stdout", 
       "text": [
        "", 
        "Intfact: exp(p); 1.000000,1.000000 "
       ]
      }, 
      {
       "output_type": "stream", 
       "stream": "stdout", 
       "text": [
        "", 
        "Using amg preconditioner instead of ilu"
       ]
      }, 
      {
       "output_type": "stream", 
       "stream": "stdout", 
       "text": [
        "", 
        "Writing "
       ]
      }, 
      {
       "output_type": "stream", 
       "stream": "stdout", 
       "text": [
        " ./Molecular_unit.pvd", 
        "omegasO"
       ]
      }, 
      {
       "output_type": "stream", 
       "stream": "stdout", 
       "text": [
        "", 
        "[ 53085.4987298   54533.17781236  54186.11511853]", 
        "omegas", 
        "[ 53085.4987298   54533.17781236  54186.11511853]", 
        "Reweighting by unit cell vol", 
        "d_eff= [0.76,0.78,0.77] for d=1.00", 
        "problem.volUnitCell 70224.0", 
        "[-19. -22.  21.]"
       ]
      }, 
      {
       "output_type": "stream", 
       "stream": "stdout", 
       "text": [
        "  maps to  (19.0, 22.0, -21.0)", 
        "[-19. -22.  21.]  maps to  (-19.0, 22.0, -21.0)", 
        "[-19.  22. -21.]  maps to  (-19.0, -22.0, 21.0)", 
        "Not loading subdomains, since don&apos;t think they&apos;re needed", 
        "Loading electrostatic potential from argument", 
        "Using z=1.000000 for the ligand", 
        "Potential range: -6.044652 - -5.219250 "
       ]
      }, 
      {
       "output_type": "stream", 
       "stream": "stdout", 
       "text": [
        "", 
        "WARNING: Your potential does not seem to cross through 0 (reguirement at outer boundary", 
        "SA: 1.485589e+04 [um^2]"
       ]
      }, 
      {
       "output_type": "stream", 
       "stream": "stdout", 
       "text": [
        "", 
        "Volume: 6.023262e+04 [um^3]", 
        "Total volume (assuming rectangular): 7.022400e+04 [um^3]", 
        "volume fraction (assuming rectangular): 8.577212e-01 [um^3]", 
        "WARNING: assuming D=1."
       ]
      }, 
      {
       "output_type": "stream", 
       "stream": "stdout", 
       "text": [
        "", 
        "Adding in electrostatic component", 
        "pmf REMOVEME -6.044652,-5.219250 "
       ]
      }, 
      {
       "output_type": "stream", 
       "stream": "stdout", 
       "text": [
        "", 
        "Intfact: exp(p); 6643.758303,26724.690843 "
       ]
      }, 
      {
       "output_type": "stream", 
       "stream": "stdout", 
       "text": [
        "", 
        "Using amg preconditioner instead of ilu"
       ]
      }, 
      {
       "output_type": "stream", 
       "stream": "stdout", 
       "text": [
        "", 
        "Writing "
       ]
      }, 
      {
       "output_type": "stream", 
       "stream": "stdout", 
       "text": [
        " ./Molecular_unit.pvd", 
        "omegasO"
       ]
      }, 
      {
       "output_type": "stream", 
       "stream": "stdout", 
       "text": [
        "", 
        "[  5.81761791e+08   5.36217101e+08   5.93164450e+08]", 
        "omegas", 
        "[  5.81761791e+08   5.36217101e+08   5.93164450e+08]", 
        "Reweighting by unit cell vol", 
        "d_eff= [8284.37,7635.81,8446.75] for d=1.00", 
        "problem.volUnitCell 70224.0", 
        "[-19. -22.  21.]"
       ]
      }, 
      {
       "output_type": "stream", 
       "stream": "stdout", 
       "text": [
        "  maps to  (19.0, 22.0, -21.0)", 
        "[-19. -22.  21.]  maps to  (-19.0, 22.0, -21.0)", 
        "[-19.  22. -21.]  maps to  (-19.0, -22.0, 21.0)", 
        "Not loading subdomains, since don&apos;t think they&apos;re needed", 
        "Loading electrostatic potential from argument", 
        "Using z=2.000000 for the ligand", 
        "Potential range: -12.089305 - -10.438500 "
       ]
      }, 
      {
       "output_type": "stream", 
       "stream": "stdout", 
       "text": [
        "", 
        "WARNING: Your potential does not seem to cross through 0 (reguirement at outer boundary", 
        "SA: 1.485589e+04 [um^2]"
       ]
      }, 
      {
       "output_type": "stream", 
       "stream": "stdout", 
       "text": [
        "", 
        "Volume: 6.023262e+04 [um^3]", 
        "Total volume (assuming rectangular): 7.022400e+04 [um^3]", 
        "volume fraction (assuming rectangular): 8.577212e-01 [um^3]", 
        "WARNING: assuming D=1."
       ]
      }, 
      {
       "output_type": "stream", 
       "stream": "stdout", 
       "text": [
        "", 
        "Adding in electrostatic component", 
        "pmf REMOVEME -12.089305,-10.438500 "
       ]
      }, 
      {
       "output_type": "stream", 
       "stream": "stdout", 
       "text": [
        "", 
        "Intfact: exp(p); 44139524.382908,714209100.659035 "
       ]
      }, 
      {
       "output_type": "stream", 
       "stream": "stdout", 
       "text": [
        "", 
        "Using amg preconditioner instead of ilu"
       ]
      }, 
      {
       "output_type": "stream", 
       "stream": "stdout", 
       "text": [
        "", 
        "Writing "
       ]
      }, 
      {
       "output_type": "stream", 
       "stream": "stdout", 
       "text": [
        " ./Molecular_unit.pvd", 
        "omegasO"
       ]
      }, 
      {
       "output_type": "stream", 
       "stream": "stdout", 
       "text": [
        "", 
        "[  7.19375458e+12   5.00956125e+12   6.96814656e+12]", 
        "omegas", 
        "[  7.19375458e+12   5.00956125e+12   6.96814656e+12]", 
        "Reweighting by unit cell vol", 
        "d_eff= [102440114.17,71336882.73,99227423.12] for d=1.00", 
        "problem.volUnitCell 70224.0", 
        "-88.4092531631"
       ]
      }, 
      {
       "output_type": "stream", 
       "stream": "stdout", 
       "text": [
        "", 
        "Solving linear form of PBE"
       ]
      }, 
      {
       "output_type": "stream", 
       "stream": "stdout", 
       "text": [
        "", 
        "[-19. -22.  21.]"
       ]
      }, 
      {
       "output_type": "stream", 
       "stream": "stdout", 
       "text": [
        "  maps to  (19.0, 22.0, -21.0)", 
        "[-19. -22.  21.]  maps to  (-19.0, 22.0, -21.0)", 
        "[-19.  22. -21.]  maps to  (-19.0, -22.0, 21.0)", 
        "Not loading subdomains, since don&apos;t think they&apos;re needed", 
        "Loading electrostatic potential from argument", 
        "Using z=-2.000000 for the ligand", 
        "Potential range: 4.073433 - 4.083211 "
       ]
      }, 
      {
       "output_type": "stream", 
       "stream": "stdout", 
       "text": [
        "", 
        "WARNING: Your potential does not seem to cross through 0 (reguirement at outer boundary", 
        "SA: 1.485589e+04 [um^2]"
       ]
      }, 
      {
       "output_type": "stream", 
       "stream": "stdout", 
       "text": [
        "", 
        "Volume: 6.023262e+04 [um^3]", 
        "Total volume (assuming rectangular): 7.022400e+04 [um^3]", 
        "volume fraction (assuming rectangular): 8.577212e-01 [um^3]", 
        "WARNING: assuming D=1."
       ]
      }, 
      {
       "output_type": "stream", 
       "stream": "stdout", 
       "text": [
        "", 
        "Adding in electrostatic component", 
        "pmf REMOVEME 4.073433,4.083211 "
       ]
      }, 
      {
       "output_type": "stream", 
       "stream": "stdout", 
       "text": [
        "", 
        "Intfact: exp(p); 0.001022,0.001039 "
       ]
      }, 
      {
       "output_type": "stream", 
       "stream": "stdout", 
       "text": [
        "", 
        "Using amg preconditioner instead of ilu"
       ]
      }, 
      {
       "output_type": "stream", 
       "stream": "stdout", 
       "text": [
        "", 
        "Writing "
       ]
      }, 
      {
       "output_type": "stream", 
       "stream": "stdout", 
       "text": [
        " ./Molecular_unit.pvd", 
        "omegasO"
       ]
      }, 
      {
       "output_type": "stream", 
       "stream": "stdout", 
       "text": [
        "", 
        "[ 54.52734665  56.01122345  55.65982791]", 
        "omegas", 
        "[ 54.52734665  56.01122345  55.65982791]", 
        "Reweighting by unit cell vol", 
        "d_eff= [0.00,0.00,0.00] for d=1.00", 
        "problem.volUnitCell 70224.0", 
        "[-19. -22.  21.]"
       ]
      }, 
      {
       "output_type": "stream", 
       "stream": "stdout", 
       "text": [
        "  maps to  (19.0, 22.0, -21.0)", 
        "[-19. -22.  21.]  maps to  (-19.0, 22.0, -21.0)", 
        "[-19.  22. -21.]  maps to  (-19.0, -22.0, 21.0)", 
        "Not loading subdomains, since don&apos;t think they&apos;re needed", 
        "Loading electrostatic potential from argument", 
        "Using z=-1.000000 for the ligand", 
        "Potential range: 2.036717 - 2.041605 "
       ]
      }, 
      {
       "output_type": "stream", 
       "stream": "stdout", 
       "text": [
        "", 
        "WARNING: Your potential does not seem to cross through 0 (reguirement at outer boundary", 
        "SA: 1.485589e+04 [um^2]"
       ]
      }, 
      {
       "output_type": "stream", 
       "stream": "stdout", 
       "text": [
        "", 
        "Volume: 6.023262e+04 [um^3]", 
        "Total volume (assuming rectangular): 7.022400e+04 [um^3]", 
        "volume fraction (assuming rectangular): 8.577212e-01 [um^3]", 
        "WARNING: assuming D=1."
       ]
      }, 
      {
       "output_type": "stream", 
       "stream": "stdout", 
       "text": [
        "", 
        "Adding in electrostatic component", 
        "pmf REMOVEME 2.036717,2.041605 "
       ]
      }, 
      {
       "output_type": "stream", 
       "stream": "stdout", 
       "text": [
        "", 
        "Intfact: exp(p); 0.031974,0.032238 "
       ]
      }, 
      {
       "output_type": "stream", 
       "stream": "stdout", 
       "text": [
        "", 
        "Using amg preconditioner instead of ilu"
       ]
      }, 
      {
       "output_type": "stream", 
       "stream": "stdout", 
       "text": [
        "", 
        "Writing "
       ]
      }, 
      {
       "output_type": "stream", 
       "stream": "stdout", 
       "text": [
        " ./Molecular_unit.pvd", 
        "omegasO"
       ]
      }, 
      {
       "output_type": "stream", 
       "stream": "stdout", 
       "text": [
        "", 
        "[ 1701.35224251  1747.70065882  1736.65675153]", 
        "omegas", 
        "[ 1701.35224251  1747.70065882  1736.65675153]", 
        "Reweighting by unit cell vol", 
        "d_eff= [0.02,0.02,0.02] for d=1.00", 
        "problem.volUnitCell 70224.0", 
        "[-19. -22.  21.]"
       ]
      }, 
      {
       "output_type": "stream", 
       "stream": "stdout", 
       "text": [
        "  maps to  (19.0, 22.0, -21.0)", 
        "[-19. -22.  21.]  maps to  (-19.0, 22.0, -21.0)", 
        "[-19.  22. -21.]  maps to  (-19.0, -22.0, 21.0)", 
        "Not loading subdomains, since don&apos;t think they&apos;re needed", 
        "Loading electrostatic potential from argument", 
        "Using z=0.000000 for the ligand", 
        "Potential range: -0.000000 - -0.000000 "
       ]
      }, 
      {
       "output_type": "stream", 
       "stream": "stdout", 
       "text": [
        "", 
        "SA: 1.485589e+04 [um^2]"
       ]
      }, 
      {
       "output_type": "stream", 
       "stream": "stdout", 
       "text": [
        "", 
        "Volume: 6.023262e+04 [um^3]", 
        "Total volume (assuming rectangular): 7.022400e+04 [um^3]", 
        "volume fraction (assuming rectangular): 8.577212e-01 [um^3]", 
        "WARNING: assuming D=1."
       ]
      }, 
      {
       "output_type": "stream", 
       "stream": "stdout", 
       "text": [
        "", 
        "Adding in electrostatic component", 
        "pmf REMOVEME -0.000000,-0.000000 "
       ]
      }, 
      {
       "output_type": "stream", 
       "stream": "stdout", 
       "text": [
        "", 
        "Intfact: exp(p); 1.000000,1.000000 "
       ]
      }, 
      {
       "output_type": "stream", 
       "stream": "stdout", 
       "text": [
        "", 
        "Using amg preconditioner instead of ilu"
       ]
      }, 
      {
       "output_type": "stream", 
       "stream": "stdout", 
       "text": [
        "", 
        "Writing "
       ]
      }, 
      {
       "output_type": "stream", 
       "stream": "stdout", 
       "text": [
        " ./Molecular_unit.pvd", 
        "omegasO"
       ]
      }, 
      {
       "output_type": "stream", 
       "stream": "stdout", 
       "text": [
        "", 
        "[ 53085.4987298   54533.17781236  54186.11511853]", 
        "omegas", 
        "[ 53085.4987298   54533.17781236  54186.11511853]", 
        "Reweighting by unit cell vol", 
        "d_eff= [0.76,0.78,0.77] for d=1.00", 
        "problem.volUnitCell 70224.0", 
        "[-19. -22.  21.]"
       ]
      }, 
      {
       "output_type": "stream", 
       "stream": "stdout", 
       "text": [
        "  maps to  (19.0, 22.0, -21.0)", 
        "[-19. -22.  21.]  maps to  (-19.0, 22.0, -21.0)", 
        "[-19.  22. -21.]  maps to  (-19.0, -22.0, 21.0)", 
        "Not loading subdomains, since don&apos;t think they&apos;re needed", 
        "Loading electrostatic potential from argument", 
        "Using z=1.000000 for the ligand", 
        "Potential range: -2.041605 - -2.036717 "
       ]
      }, 
      {
       "output_type": "stream", 
       "stream": "stdout", 
       "text": [
        "", 
        "WARNING: Your potential does not seem to cross through 0 (reguirement at outer boundary", 
        "SA: 1.485589e+04 [um^2]"
       ]
      }, 
      {
       "output_type": "stream", 
       "stream": "stdout", 
       "text": [
        "", 
        "Volume: 6.023262e+04 [um^3]", 
        "Total volume (assuming rectangular): 7.022400e+04 [um^3]", 
        "volume fraction (assuming rectangular): 8.577212e-01 [um^3]", 
        "WARNING: assuming D=1."
       ]
      }, 
      {
       "output_type": "stream", 
       "stream": "stdout", 
       "text": [
        "", 
        "Adding in electrostatic component", 
        "pmf REMOVEME -2.041605,-2.036717 "
       ]
      }, 
      {
       "output_type": "stream", 
       "stream": "stdout", 
       "text": [
        "", 
        "Intfact: exp(p); 31.018945,31.275715 "
       ]
      }, 
      {
       "output_type": "stream", 
       "stream": "stdout", 
       "text": [
        "", 
        "Using amg preconditioner instead of ilu"
       ]
      }, 
      {
       "output_type": "stream", 
       "stream": "stdout", 
       "text": [
        "", 
        "Writing "
       ]
      }, 
      {
       "output_type": "stream", 
       "stream": "stdout", 
       "text": [
        " ./Molecular_unit.pvd", 
        "omegasO"
       ]
      }, 
      {
       "output_type": "stream", 
       "stream": "stdout", 
       "text": [
        "", 
        "[ 1656377.61042866  1701595.50168642  1690689.81713325]", 
        "omegas", 
        "[ 1656377.61042866  1701595.50168642  1690689.81713325]", 
        "Reweighting by unit cell vol", 
        "d_eff= [23.59,24.23,24.08] for d=1.00", 
        "problem.volUnitCell 70224.0", 
        "[-19. -22.  21.]"
       ]
      }, 
      {
       "output_type": "stream", 
       "stream": "stdout", 
       "text": [
        "  maps to  (19.0, 22.0, -21.0)", 
        "[-19. -22.  21.]  maps to  (-19.0, 22.0, -21.0)", 
        "[-19.  22. -21.]  maps to  (-19.0, -22.0, 21.0)", 
        "Not loading subdomains, since don&apos;t think they&apos;re needed", 
        "Loading electrostatic potential from argument", 
        "Using z=2.000000 for the ligand", 
        "Potential range: -4.083211 - -4.073433 "
       ]
      }, 
      {
       "output_type": "stream", 
       "stream": "stdout", 
       "text": [
        "", 
        "WARNING: Your potential does not seem to cross through 0 (reguirement at outer boundary", 
        "SA: 1.485589e+04 [um^2]"
       ]
      }, 
      {
       "output_type": "stream", 
       "stream": "stdout", 
       "text": [
        "", 
        "Volume: 6.023262e+04 [um^3]", 
        "Total volume (assuming rectangular): 7.022400e+04 [um^3]", 
        "volume fraction (assuming rectangular): 8.577212e-01 [um^3]", 
        "WARNING: assuming D=1."
       ]
      }, 
      {
       "output_type": "stream", 
       "stream": "stdout", 
       "text": [
        "", 
        "Adding in electrostatic component", 
        "pmf REMOVEME -4.083211,-4.073433 "
       ]
      }, 
      {
       "output_type": "stream", 
       "stream": "stdout", 
       "text": [
        "", 
        "Intfact: exp(p); 962.174936,978.170361 "
       ]
      }, 
      {
       "output_type": "stream", 
       "stream": "stdout", 
       "text": [
        "", 
        "Using amg preconditioner instead of ilu"
       ]
      }, 
      {
       "output_type": "stream", 
       "stream": "stdout", 
       "text": [
        "", 
        "Writing "
       ]
      }, 
      {
       "output_type": "stream", 
       "stream": "stdout", 
       "text": [
        " ./Molecular_unit.pvd", 
        "omegasO"
       ]
      }, 
      {
       "output_type": "stream", 
       "stream": "stdout", 
       "text": [
        "", 
        "[ 51682628.11423187  53094997.71093875  52752342.69803485]", 
        "omegas", 
        "[ 51682628.11423187  53094997.71093875  52752342.69803485]", 
        "Reweighting by unit cell vol", 
        "d_eff= [735.97,756.08,751.20] for d=1.00", 
        "problem.volUnitCell 70224.0", 
        "-236.398317865"
       ]
      }, 
      {
       "output_type": "stream", 
       "stream": "stdout", 
       "text": [
        "", 
        "Solving linear form of PBE"
       ]
      }, 
      {
       "output_type": "stream", 
       "stream": "stdout", 
       "text": [
        "", 
        "[-19. -22.  21.]"
       ]
      }, 
      {
       "output_type": "stream", 
       "stream": "stdout", 
       "text": [
        "  maps to  (19.0, 22.0, -21.0)", 
        "[-19. -22.  21.]  maps to  (-19.0, 22.0, -21.0)", 
        "[-19.  22. -21.]  maps to  (-19.0, -22.0, 21.0)", 
        "Not loading subdomains, since don&apos;t think they&apos;re needed", 
        "Loading electrostatic potential from argument", 
        "Using z=-2.000000 for the ligand", 
        "Potential range: 8.666336 - 10.918134 "
       ]
      }, 
      {
       "output_type": "stream", 
       "stream": "stdout", 
       "text": [
        "", 
        "WARNING: Your potential does not seem to cross through 0 (reguirement at outer boundary", 
        "SA: 1.485589e+04 [um^2]"
       ]
      }, 
      {
       "output_type": "stream", 
       "stream": "stdout", 
       "text": [
        "", 
        "Volume: 6.023262e+04 [um^3]", 
        "Total volume (assuming rectangular): 7.022400e+04 [um^3]", 
        "volume fraction (assuming rectangular): 8.577212e-01 [um^3]", 
        "WARNING: assuming D=1."
       ]
      }, 
      {
       "output_type": "stream", 
       "stream": "stdout", 
       "text": [
        "", 
        "Adding in electrostatic component", 
        "pmf REMOVEME 8.666336,10.918134 "
       ]
      }, 
      {
       "output_type": "stream", 
       "stream": "stdout", 
       "text": [
        "", 
        "Intfact: exp(p); 0.000000,0.000000 "
       ]
      }, 
      {
       "output_type": "stream", 
       "stream": "stdout", 
       "text": [
        "", 
        "Using amg preconditioner instead of ilu"
       ]
      }, 
      {
       "output_type": "stream", 
       "stream": "stdout", 
       "text": [
        "", 
        "Writing "
       ]
      }, 
      {
       "output_type": "stream", 
       "stream": "stdout", 
       "text": [
        " ./Molecular_unit.pvd", 
        "omegasO"
       ]
      }, 
      {
       "output_type": "stream", 
       "stream": "stdout", 
       "text": [
        "", 
        "[ 0.01092038  0.00902723  0.01038695]", 
        "omegas", 
        "[ 0.01092038  0.00902723  0.01038695]", 
        "Reweighting by unit cell vol", 
        "d_eff= [0.00,0.00,0.00] for d=1.00", 
        "problem.volUnitCell 70224.0", 
        "[-19. -22.  21.]"
       ]
      }, 
      {
       "output_type": "stream", 
       "stream": "stdout", 
       "text": [
        "  maps to  (19.0, 22.0, -21.0)", 
        "[-19. -22.  21.]  maps to  (-19.0, 22.0, -21.0)", 
        "[-19.  22. -21.]  maps to  (-19.0, -22.0, 21.0)", 
        "Not loading subdomains, since don&apos;t think they&apos;re needed", 
        "Loading electrostatic potential from argument", 
        "Using z=-1.000000 for the ligand", 
        "Potential range: 4.333168 - 5.459067 "
       ]
      }, 
      {
       "output_type": "stream", 
       "stream": "stdout", 
       "text": [
        "", 
        "WARNING: Your potential does not seem to cross through 0 (reguirement at outer boundary", 
        "SA: 1.485589e+04 [um^2]"
       ]
      }, 
      {
       "output_type": "stream", 
       "stream": "stdout", 
       "text": [
        "", 
        "Volume: 6.023262e+04 [um^3]", 
        "Total volume (assuming rectangular): 7.022400e+04 [um^3]", 
        "volume fraction (assuming rectangular): 8.577212e-01 [um^3]", 
        "WARNING: assuming D=1."
       ]
      }, 
      {
       "output_type": "stream", 
       "stream": "stdout", 
       "text": [
        "", 
        "Adding in electrostatic component", 
        "pmf REMOVEME 4.333168,5.459067 "
       ]
      }, 
      {
       "output_type": "stream", 
       "stream": "stdout", 
       "text": [
        "", 
        "Intfact: exp(p); 0.000100,0.000671 "
       ]
      }, 
      {
       "output_type": "stream", 
       "stream": "stdout", 
       "text": [
        "", 
        "Using amg preconditioner instead of ilu"
       ]
      }, 
      {
       "output_type": "stream", 
       "stream": "stdout", 
       "text": [
        "", 
        "Writing "
       ]
      }, 
      {
       "output_type": "stream", 
       "stream": "stdout", 
       "text": [
        " ./Molecular_unit.pvd", 
        "omegasO"
       ]
      }, 
      {
       "output_type": "stream", 
       "stream": "stdout", 
       "text": [
        "", 
        "[ 22.69322635  22.37517776  22.38095482]", 
        "omegas", 
        "[ 22.69322635  22.37517776  22.38095482]", 
        "Reweighting by unit cell vol", 
        "d_eff= [0.00,0.00,0.00] for d=1.00", 
        "problem.volUnitCell 70224.0", 
        "[-19. -22.  21.]"
       ]
      }, 
      {
       "output_type": "stream", 
       "stream": "stdout", 
       "text": [
        "  maps to  (19.0, 22.0, -21.0)", 
        "[-19. -22.  21.]  maps to  (-19.0, 22.0, -21.0)", 
        "[-19.  22. -21.]  maps to  (-19.0, -22.0, 21.0)", 
        "Not loading subdomains, since don&apos;t think they&apos;re needed", 
        "Loading electrostatic potential from argument", 
        "Using z=0.000000 for the ligand", 
        "Potential range: -0.000000 - -0.000000 "
       ]
      }, 
      {
       "output_type": "stream", 
       "stream": "stdout", 
       "text": [
        "", 
        "SA: 1.485589e+04 [um^2]"
       ]
      }, 
      {
       "output_type": "stream", 
       "stream": "stdout", 
       "text": [
        "", 
        "Volume: 6.023262e+04 [um^3]", 
        "Total volume (assuming rectangular): 7.022400e+04 [um^3]", 
        "volume fraction (assuming rectangular): 8.577212e-01 [um^3]", 
        "WARNING: assuming D=1."
       ]
      }, 
      {
       "output_type": "stream", 
       "stream": "stdout", 
       "text": [
        "", 
        "Adding in electrostatic component", 
        "pmf REMOVEME -0.000000,-0.000000 "
       ]
      }, 
      {
       "output_type": "stream", 
       "stream": "stdout", 
       "text": [
        "", 
        "Intfact: exp(p); 1.000000,1.000000 "
       ]
      }, 
      {
       "output_type": "stream", 
       "stream": "stdout", 
       "text": [
        "", 
        "Using amg preconditioner instead of ilu"
       ]
      }, 
      {
       "output_type": "stream", 
       "stream": "stdout", 
       "text": [
        "", 
        "Writing "
       ]
      }, 
      {
       "output_type": "stream", 
       "stream": "stdout", 
       "text": [
        " ./Molecular_unit.pvd", 
        "omegasO"
       ]
      }, 
      {
       "output_type": "stream", 
       "stream": "stdout", 
       "text": [
        "", 
        "[ 53085.4987298   54533.17781236  54186.11511853]", 
        "omegas", 
        "[ 53085.4987298   54533.17781236  54186.11511853]", 
        "Reweighting by unit cell vol", 
        "d_eff= [0.76,0.78,0.77] for d=1.00", 
        "problem.volUnitCell 70224.0", 
        "[-19. -22.  21.]"
       ]
      }, 
      {
       "output_type": "stream", 
       "stream": "stdout", 
       "text": [
        "  maps to  (19.0, 22.0, -21.0)", 
        "[-19. -22.  21.]  maps to  (-19.0, 22.0, -21.0)", 
        "[-19.  22. -21.]  maps to  (-19.0, -22.0, 21.0)", 
        "Not loading subdomains, since don&apos;t think they&apos;re needed", 
        "Loading electrostatic potential from argument", 
        "Using z=1.000000 for the ligand", 
        "Potential range: -5.459067 - -4.333168 "
       ]
      }, 
      {
       "output_type": "stream", 
       "stream": "stdout", 
       "text": [
        "", 
        "WARNING: Your potential does not seem to cross through 0 (reguirement at outer boundary", 
        "SA: 1.485589e+04 [um^2]"
       ]
      }, 
      {
       "output_type": "stream", 
       "stream": "stdout", 
       "text": [
        "", 
        "Volume: 6.023262e+04 [um^3]", 
        "Total volume (assuming rectangular): 7.022400e+04 [um^3]", 
        "volume fraction (assuming rectangular): 8.577212e-01 [um^3]", 
        "WARNING: assuming D=1."
       ]
      }, 
      {
       "output_type": "stream", 
       "stream": "stdout", 
       "text": [
        "", 
        "Adding in electrostatic component", 
        "pmf REMOVEME -5.459067,-4.333168 "
       ]
      }, 
      {
       "output_type": "stream", 
       "stream": "stdout", 
       "text": [
        "", 
        "Intfact: exp(p); 1490.992827,9955.164996 "
       ]
      }, 
      {
       "output_type": "stream", 
       "stream": "stdout", 
       "text": [
        "", 
        "Using amg preconditioner instead of ilu"
       ]
      }, 
      {
       "output_type": "stream", 
       "stream": "stdout", 
       "text": [
        "", 
        "Writing "
       ]
      }, 
      {
       "output_type": "stream", 
       "stream": "stdout", 
       "text": [
        " ./Molecular_unit.pvd", 
        "omegasO"
       ]
      }, 
      {
       "output_type": "stream", 
       "stream": "stdout", 
       "text": [
        "", 
        "[  1.47013202e+08   1.25581373e+08   1.47727730e+08]", 
        "omegas", 
        "[  1.47013202e+08   1.25581373e+08   1.47727730e+08]", 
        "Reweighting by unit cell vol", 
        "d_eff= [2093.49,1788.30,2103.66] for d=1.00", 
        "problem.volUnitCell 70224.0", 
        "[-19. -22.  21.]"
       ]
      }, 
      {
       "output_type": "stream", 
       "stream": "stdout", 
       "text": [
        "  maps to  (19.0, 22.0, -21.0)", 
        "[-19. -22.  21.]  maps to  (-19.0, 22.0, -21.0)", 
        "[-19.  22. -21.]  maps to  (-19.0, -22.0, 21.0)", 
        "Not loading subdomains, since don&apos;t think they&apos;re needed", 
        "Loading electrostatic potential from argument", 
        "Using z=2.000000 for the ligand", 
        "Potential range: -10.918134 - -8.666336 "
       ]
      }, 
      {
       "output_type": "stream", 
       "stream": "stdout", 
       "text": [
        "", 
        "WARNING: Your potential does not seem to cross through 0 (reguirement at outer boundary", 
        "SA: 1.485589e+04 [um^2]"
       ]
      }, 
      {
       "output_type": "stream", 
       "stream": "stdout", 
       "text": [
        "", 
        "Volume: 6.023262e+04 [um^3]", 
        "Total volume (assuming rectangular): 7.022400e+04 [um^3]", 
        "volume fraction (assuming rectangular): 8.577212e-01 [um^3]", 
        "WARNING: assuming D=1."
       ]
      }, 
      {
       "output_type": "stream", 
       "stream": "stdout", 
       "text": [
        "", 
        "Adding in electrostatic component", 
        "pmf REMOVEME -10.918134,-8.666336 "
       ]
      }, 
      {
       "output_type": "stream", 
       "stream": "stdout", 
       "text": [
        "", 
        "Intfact: exp(p); 2223059.610841,99105310.095475 "
       ]
      }, 
      {
       "output_type": "stream", 
       "stream": "stdout", 
       "text": [
        "", 
        "Using amg preconditioner instead of ilu"
       ]
      }, 
      {
       "output_type": "stream", 
       "stream": "stdout", 
       "text": [
        "", 
        "Writing "
       ]
      }, 
      {
       "output_type": "stream", 
       "stream": "stdout", 
       "text": [
        " ./Molecular_unit.pvd", 
        "omegasO"
       ]
      }, 
      {
       "output_type": "stream", 
       "stream": "stdout", 
       "text": [
        "", 
        "[  4.76476831e+11   2.68328296e+11   4.28332464e+11]", 
        "omegas", 
        "[  4.76476831e+11   2.68328296e+11   4.28332464e+11]", 
        "Reweighting by unit cell vol", 
        "d_eff= [6785099.55,3821034.06,6099516.74] for d=1.00", 
        "problem.volUnitCell 70224.0", 
        "-65.5492208438"
       ]
      }, 
      {
       "output_type": "stream", 
       "stream": "stdout", 
       "text": [
        "", 
        "Solving linear form of PBE"
       ]
      }, 
      {
       "output_type": "stream", 
       "stream": "stdout", 
       "text": [
        "", 
        "[-19. -22.  21.]"
       ]
      }, 
      {
       "output_type": "stream", 
       "stream": "stdout", 
       "text": [
        "  maps to  (19.0, 22.0, -21.0)", 
        "[-19. -22.  21.]  maps to  (-19.0, 22.0, -21.0)", 
        "[-19.  22. -21.]  maps to  (-19.0, -22.0, 21.0)", 
        "Not loading subdomains, since don&apos;t think they&apos;re needed", 
        "Loading electrostatic potential from argument", 
        "Using z=-2.000000 for the ligand", 
        "Potential range: 3.009144 - 3.027412 "
       ]
      }, 
      {
       "output_type": "stream", 
       "stream": "stdout", 
       "text": [
        "", 
        "WARNING: Your potential does not seem to cross through 0 (reguirement at outer boundary", 
        "SA: 1.485589e+04 [um^2]"
       ]
      }, 
      {
       "output_type": "stream", 
       "stream": "stdout", 
       "text": [
        "", 
        "Volume: 6.023262e+04 [um^3]", 
        "Total volume (assuming rectangular): 7.022400e+04 [um^3]", 
        "volume fraction (assuming rectangular): 8.577212e-01 [um^3]", 
        "WARNING: assuming D=1."
       ]
      }, 
      {
       "output_type": "stream", 
       "stream": "stdout", 
       "text": [
        "", 
        "Adding in electrostatic component", 
        "pmf REMOVEME 3.009144,3.027412 "
       ]
      }, 
      {
       "output_type": "stream", 
       "stream": "stdout", 
       "text": [
        "", 
        "Intfact: exp(p); 0.006065,0.006255 "
       ]
      }, 
      {
       "output_type": "stream", 
       "stream": "stdout", 
       "text": [
        "", 
        "Using amg preconditioner instead of ilu"
       ]
      }, 
      {
       "output_type": "stream", 
       "stream": "stdout", 
       "text": [
        "", 
        "Writing "
       ]
      }, 
      {
       "output_type": "stream", 
       "stream": "stdout", 
       "text": [
        " ./Molecular_unit.pvd", 
        "omegasO"
       ]
      }, 
      {
       "output_type": "stream", 
       "stream": "stdout", 
       "text": [
        "", 
        "[ 324.86518414  333.65923622  331.57404808]", 
        "omegas", 
        "[ 324.86518414  333.65923622  331.57404808]", 
        "Reweighting by unit cell vol", 
        "d_eff= [0.00,0.00,0.00] for d=1.00", 
        "problem.volUnitCell 70224.0", 
        "[-19. -22.  21.]"
       ]
      }, 
      {
       "output_type": "stream", 
       "stream": "stdout", 
       "text": [
        "  maps to  (19.0, 22.0, -21.0)", 
        "[-19. -22.  21.]  maps to  (-19.0, 22.0, -21.0)", 
        "[-19.  22. -21.]  maps to  (-19.0, -22.0, 21.0)", 
        "Not loading subdomains, since don&apos;t think they&apos;re needed", 
        "Loading electrostatic potential from argument", 
        "Using z=-1.000000 for the ligand", 
        "Potential range: 1.504572 - 1.513706 "
       ]
      }, 
      {
       "output_type": "stream", 
       "stream": "stdout", 
       "text": [
        "", 
        "WARNING: Your potential does not seem to cross through 0 (reguirement at outer boundary", 
        "SA: 1.485589e+04 [um^2]"
       ]
      }, 
      {
       "output_type": "stream", 
       "stream": "stdout", 
       "text": [
        "", 
        "Volume: 6.023262e+04 [um^3]", 
        "Total volume (assuming rectangular): 7.022400e+04 [um^3]", 
        "volume fraction (assuming rectangular): 8.577212e-01 [um^3]", 
        "WARNING: assuming D=1."
       ]
      }, 
      {
       "output_type": "stream", 
       "stream": "stdout", 
       "text": [
        "", 
        "Adding in electrostatic component", 
        "pmf REMOVEME 1.504572,1.513706 "
       ]
      }, 
      {
       "output_type": "stream", 
       "stream": "stdout", 
       "text": [
        "", 
        "Intfact: exp(p); 0.077877,0.079086 "
       ]
      }, 
      {
       "output_type": "stream", 
       "stream": "stdout", 
       "text": [
        "", 
        "Using amg preconditioner instead of ilu"
       ]
      }, 
      {
       "output_type": "stream", 
       "stream": "stdout", 
       "text": [
        "", 
        "Writing "
       ]
      }, 
      {
       "output_type": "stream", 
       "stream": "stdout", 
       "text": [
        " ./Molecular_unit.pvd", 
        "omegasO"
       ]
      }, 
      {
       "output_type": "stream", 
       "stream": "stdout", 
       "text": [
        "", 
        "[ 4152.75394432  4265.58676147  4238.68297208]", 
        "omegas", 
        "[ 4152.75394432  4265.58676147  4238.68297208]", 
        "Reweighting by unit cell vol", 
        "d_eff= [0.06,0.06,0.06] for d=1.00", 
        "problem.volUnitCell 70224.0", 
        "[-19. -22.  21.]"
       ]
      }, 
      {
       "output_type": "stream", 
       "stream": "stdout", 
       "text": [
        "  maps to  (19.0, 22.0, -21.0)", 
        "[-19. -22.  21.]  maps to  (-19.0, 22.0, -21.0)", 
        "[-19.  22. -21.]  maps to  (-19.0, -22.0, 21.0)", 
        "Not loading subdomains, since don&apos;t think they&apos;re needed", 
        "Loading electrostatic potential from argument", 
        "Using z=0.000000 for the ligand", 
        "Potential range: -0.000000 - -0.000000 "
       ]
      }, 
      {
       "output_type": "stream", 
       "stream": "stdout", 
       "text": [
        "", 
        "SA: 1.485589e+04 [um^2]"
       ]
      }, 
      {
       "output_type": "stream", 
       "stream": "stdout", 
       "text": [
        "", 
        "Volume: 6.023262e+04 [um^3]", 
        "Total volume (assuming rectangular): 7.022400e+04 [um^3]", 
        "volume fraction (assuming rectangular): 8.577212e-01 [um^3]", 
        "WARNING: assuming D=1."
       ]
      }, 
      {
       "output_type": "stream", 
       "stream": "stdout", 
       "text": [
        "", 
        "Adding in electrostatic component", 
        "pmf REMOVEME -0.000000,-0.000000 "
       ]
      }, 
      {
       "output_type": "stream", 
       "stream": "stdout", 
       "text": [
        "", 
        "Intfact: exp(p); 1.000000,1.000000 "
       ]
      }, 
      {
       "output_type": "stream", 
       "stream": "stdout", 
       "text": [
        "", 
        "Using amg preconditioner instead of ilu"
       ]
      }, 
      {
       "output_type": "stream", 
       "stream": "stdout", 
       "text": [
        "", 
        "Writing "
       ]
      }, 
      {
       "output_type": "stream", 
       "stream": "stdout", 
       "text": [
        " ./Molecular_unit.pvd", 
        "omegasO"
       ]
      }, 
      {
       "output_type": "stream", 
       "stream": "stdout", 
       "text": [
        "", 
        "[ 53085.4987298   54533.17781236  54186.11511853]", 
        "omegas", 
        "[ 53085.4987298   54533.17781236  54186.11511853]", 
        "Reweighting by unit cell vol", 
        "d_eff= [0.76,0.78,0.77] for d=1.00", 
        "problem.volUnitCell 70224.0", 
        "[-19. -22.  21.]"
       ]
      }, 
      {
       "output_type": "stream", 
       "stream": "stdout", 
       "text": [
        "  maps to  (19.0, 22.0, -21.0)", 
        "[-19. -22.  21.]  maps to  (-19.0, 22.0, -21.0)", 
        "[-19.  22. -21.]  maps to  (-19.0, -22.0, 21.0)", 
        "Not loading subdomains, since don&apos;t think they&apos;re needed", 
        "Loading electrostatic potential from argument", 
        "Using z=1.000000 for the ligand", 
        "Potential range: -1.513706 - -1.504572 "
       ]
      }, 
      {
       "output_type": "stream", 
       "stream": "stdout", 
       "text": [
        "", 
        "WARNING: Your potential does not seem to cross through 0 (reguirement at outer boundary", 
        "SA: 1.485589e+04 [um^2]"
       ]
      }, 
      {
       "output_type": "stream", 
       "stream": "stdout", 
       "text": [
        "", 
        "Volume: 6.023262e+04 [um^3]", 
        "Total volume (assuming rectangular): 7.022400e+04 [um^3]", 
        "volume fraction (assuming rectangular): 8.577212e-01 [um^3]", 
        "WARNING: assuming D=1."
       ]
      }, 
      {
       "output_type": "stream", 
       "stream": "stdout", 
       "text": [
        "", 
        "Adding in electrostatic component", 
        "pmf REMOVEME -1.513706,-1.504572 "
       ]
      }, 
      {
       "output_type": "stream", 
       "stream": "stdout", 
       "text": [
        "", 
        "Intfact: exp(p); 12.644481,12.840757 "
       ]
      }, 
      {
       "output_type": "stream", 
       "stream": "stdout", 
       "text": [
        "", 
        "Using amg preconditioner instead of ilu"
       ]
      }, 
      {
       "output_type": "stream", 
       "stream": "stdout", 
       "text": [
        "", 
        "Writing "
       ]
      }, 
      {
       "output_type": "stream", 
       "stream": "stdout", 
       "text": [
        " ./Molecular_unit.pvd", 
        "omegasO"
       ]
      }, 
      {
       "output_type": "stream", 
       "stream": "stdout", 
       "text": [
        "", 
        "[ 678613.15235671  697186.91864898  692710.49837434]", 
        "omegas", 
        "[ 678613.15235671  697186.91864898  692710.49837434]", 
        "Reweighting by unit cell vol", 
        "d_eff= [9.66,9.93,9.86] for d=1.00", 
        "problem.volUnitCell 70224.0", 
        "[-19. -22.  21.]"
       ]
      }, 
      {
       "output_type": "stream", 
       "stream": "stdout", 
       "text": [
        "  maps to  (19.0, 22.0, -21.0)", 
        "[-19. -22.  21.]  maps to  (-19.0, 22.0, -21.0)", 
        "[-19.  22. -21.]  maps to  (-19.0, -22.0, 21.0)", 
        "Not loading subdomains, since don&apos;t think they&apos;re needed", 
        "Loading electrostatic potential from argument", 
        "Using z=2.000000 for the ligand", 
        "Potential range: -3.027412 - -3.009144 "
       ]
      }, 
      {
       "output_type": "stream", 
       "stream": "stdout", 
       "text": [
        "", 
        "WARNING: Your potential does not seem to cross through 0 (reguirement at outer boundary", 
        "SA: 1.485589e+04 [um^2]"
       ]
      }, 
      {
       "output_type": "stream", 
       "stream": "stdout", 
       "text": [
        "", 
        "Volume: 6.023262e+04 [um^3]", 
        "Total volume (assuming rectangular): 7.022400e+04 [um^3]", 
        "volume fraction (assuming rectangular): 8.577212e-01 [um^3]", 
        "WARNING: assuming D=1."
       ]
      }, 
      {
       "output_type": "stream", 
       "stream": "stdout", 
       "text": [
        "", 
        "Adding in electrostatic component", 
        "pmf REMOVEME -3.027412,-3.009144 "
       ]
      }, 
      {
       "output_type": "stream", 
       "stream": "stdout", 
       "text": [
        "", 
        "Intfact: exp(p); 159.882911,164.885047 "
       ]
      }, 
      {
       "output_type": "stream", 
       "stream": "stdout", 
       "text": [
        "", 
        "Using amg preconditioner instead of ilu"
       ]
      }, 
      {
       "output_type": "stream", 
       "stream": "stdout", 
       "text": [
        "", 
        "Writing "
       ]
      }, 
      {
       "output_type": "stream", 
       "stream": "stdout", 
       "text": [
        " ./Molecular_unit.pvd", 
        "omegasO"
       ]
      }, 
      {
       "output_type": "stream", 
       "stream": "stdout", 
       "text": [
        "", 
        "[ 8675116.31905299  8913413.24164209  8855685.90944641]", 
        "omegas", 
        "[ 8675116.31905299  8913413.24164209  8855685.90944641]", 
        "Reweighting by unit cell vol", 
        "d_eff= [123.53,126.93,126.11] for d=1.00", 
        "problem.volUnitCell 70224.0", 
        "-211.045737789"
       ]
      }, 
      {
       "output_type": "stream", 
       "stream": "stdout", 
       "text": [
        "", 
        "Solving linear form of PBE"
       ]
      }, 
      {
       "output_type": "stream", 
       "stream": "stdout", 
       "text": [
        "", 
        "[-19. -22.  21.]"
       ]
      }, 
      {
       "output_type": "stream", 
       "stream": "stdout", 
       "text": [
        "  maps to  (19.0, 22.0, -21.0)", 
        "[-19. -22.  21.]  maps to  (-19.0, 22.0, -21.0)", 
        "[-19.  22. -21.]  maps to  (-19.0, -22.0, 21.0)", 
        "Not loading subdomains, since don&apos;t think they&apos;re needed", 
        "Loading electrostatic potential from argument", 
        "Using z=-2.000000 for the ligand", 
        "Potential range: 4.391041 - 9.747217 "
       ]
      }, 
      {
       "output_type": "stream", 
       "stream": "stdout", 
       "text": [
        "", 
        "WARNING: Your potential does not seem to cross through 0 (reguirement at outer boundary", 
        "SA: 1.485589e+04 [um^2]"
       ]
      }, 
      {
       "output_type": "stream", 
       "stream": "stdout", 
       "text": [
        "", 
        "Volume: 6.023262e+04 [um^3]", 
        "Total volume (assuming rectangular): 7.022400e+04 [um^3]", 
        "volume fraction (assuming rectangular): 8.577212e-01 [um^3]", 
        "WARNING: assuming D=1."
       ]
      }, 
      {
       "output_type": "stream", 
       "stream": "stdout", 
       "text": [
        "", 
        "Adding in electrostatic component", 
        "pmf REMOVEME 4.391041,9.747217 "
       ]
      }, 
      {
       "output_type": "stream", 
       "stream": "stdout", 
       "text": [
        "", 
        "Intfact: exp(p); 0.000000,0.000608 "
       ]
      }, 
      {
       "output_type": "stream", 
       "stream": "stdout", 
       "text": [
        "", 
        "Using amg preconditioner instead of ilu"
       ]
      }, 
      {
       "output_type": "stream", 
       "stream": "stdout", 
       "text": [
        "", 
        "Writing "
       ]
      }, 
      {
       "output_type": "stream", 
       "stream": "stdout", 
       "text": [
        " ./Molecular_unit.pvd", 
        "omegasO"
       ]
      }, 
      {
       "output_type": "stream", 
       "stream": "stdout", 
       "text": [
        "", 
        "[ 7.58859867  2.1094958   7.72585754]", 
        "omegas", 
        "[ 7.58859867  2.1094958   7.72585754]", 
        "Reweighting by unit cell vol", 
        "d_eff= [0.00,0.00,0.00] for d=1.00", 
        "problem.volUnitCell 70224.0", 
        "[-19. -22.  21.]"
       ]
      }, 
      {
       "output_type": "stream", 
       "stream": "stdout", 
       "text": [
        "  maps to  (19.0, 22.0, -21.0)", 
        "[-19. -22.  21.]  maps to  (-19.0, 22.0, -21.0)", 
        "[-19.  22. -21.]  maps to  (-19.0, -22.0, 21.0)", 
        "Not loading subdomains, since don&apos;t think they&apos;re needed", 
        "Loading electrostatic potential from argument", 
        "Using z=-1.000000 for the ligand", 
        "Potential range: 2.195521 - 4.873609 "
       ]
      }, 
      {
       "output_type": "stream", 
       "stream": "stdout", 
       "text": [
        "", 
        "WARNING: Your potential does not seem to cross through 0 (reguirement at outer boundary", 
        "SA: 1.485589e+04 [um^2]"
       ]
      }, 
      {
       "output_type": "stream", 
       "stream": "stdout", 
       "text": [
        "", 
        "Volume: 6.023262e+04 [um^3]", 
        "Total volume (assuming rectangular): 7.022400e+04 [um^3]", 
        "volume fraction (assuming rectangular): 8.577212e-01 [um^3]", 
        "WARNING: assuming D=1."
       ]
      }, 
      {
       "output_type": "stream", 
       "stream": "stdout", 
       "text": [
        "", 
        "Adding in electrostatic component", 
        "pmf REMOVEME 2.195521,4.873609 "
       ]
      }, 
      {
       "output_type": "stream", 
       "stream": "stdout", 
       "text": [
        "", 
        "Intfact: exp(p); 0.000270,0.024664 "
       ]
      }, 
      {
       "output_type": "stream", 
       "stream": "stdout", 
       "text": [
        "", 
        "Using amg preconditioner instead of ilu"
       ]
      }, 
      {
       "output_type": "stream", 
       "stream": "stdout", 
       "text": [
        "", 
        "Writing "
       ]
      }, 
      {
       "output_type": "stream", 
       "stream": "stdout", 
       "text": [
        " ./Molecular_unit.pvd", 
        "omegasO"
       ]
      }, 
      {
       "output_type": "stream", 
       "stream": "stdout", 
       "text": [
        "", 
        "[ 525.26865744  342.50926143  508.54307446]", 
        "omegas", 
        "[ 525.26865744  342.50926143  508.54307446]", 
        "Reweighting by unit cell vol", 
        "d_eff= [0.01,0.00,0.01] for d=1.00", 
        "problem.volUnitCell 70224.0", 
        "[-19. -22.  21.]"
       ]
      }, 
      {
       "output_type": "stream", 
       "stream": "stdout", 
       "text": [
        "  maps to  (19.0, 22.0, -21.0)", 
        "[-19. -22.  21.]  maps to  (-19.0, 22.0, -21.0)", 
        "[-19.  22. -21.]  maps to  (-19.0, -22.0, 21.0)", 
        "Not loading subdomains, since don&apos;t think they&apos;re needed", 
        "Loading electrostatic potential from argument", 
        "Using z=0.000000 for the ligand", 
        "Potential range: -0.000000 - -0.000000 "
       ]
      }, 
      {
       "output_type": "stream", 
       "stream": "stdout", 
       "text": [
        "", 
        "SA: 1.485589e+04 [um^2]"
       ]
      }, 
      {
       "output_type": "stream", 
       "stream": "stdout", 
       "text": [
        "", 
        "Volume: 6.023262e+04 [um^3]", 
        "Total volume (assuming rectangular): 7.022400e+04 [um^3]", 
        "volume fraction (assuming rectangular): 8.577212e-01 [um^3]", 
        "WARNING: assuming D=1."
       ]
      }, 
      {
       "output_type": "stream", 
       "stream": "stdout", 
       "text": [
        "", 
        "Adding in electrostatic component", 
        "pmf REMOVEME -0.000000,-0.000000 "
       ]
      }, 
      {
       "output_type": "stream", 
       "stream": "stdout", 
       "text": [
        "", 
        "Intfact: exp(p); 1.000000,1.000000 "
       ]
      }, 
      {
       "output_type": "stream", 
       "stream": "stdout", 
       "text": [
        "", 
        "Using amg preconditioner instead of ilu"
       ]
      }, 
      {
       "output_type": "stream", 
       "stream": "stdout", 
       "text": [
        "", 
        "Writing "
       ]
      }, 
      {
       "output_type": "stream", 
       "stream": "stdout", 
       "text": [
        " ./Molecular_unit.pvd", 
        "omegasO"
       ]
      }, 
      {
       "output_type": "stream", 
       "stream": "stdout", 
       "text": [
        "", 
        "[ 53085.4987298   54533.17781236  54186.11511853]", 
        "omegas", 
        "[ 53085.4987298   54533.17781236  54186.11511853]", 
        "Reweighting by unit cell vol", 
        "d_eff= [0.76,0.78,0.77] for d=1.00", 
        "problem.volUnitCell 70224.0", 
        "[-19. -22.  21.]"
       ]
      }, 
      {
       "output_type": "stream", 
       "stream": "stdout", 
       "text": [
        "  maps to  (19.0, 22.0, -21.0)", 
        "[-19. -22.  21.]  maps to  (-19.0, 22.0, -21.0)", 
        "[-19.  22. -21.]  maps to  (-19.0, -22.0, 21.0)", 
        "Not loading subdomains, since don&apos;t think they&apos;re needed", 
        "Loading electrostatic potential from argument", 
        "Using z=1.000000 for the ligand", 
        "Potential range: -4.873609 - -2.195521 "
       ]
      }, 
      {
       "output_type": "stream", 
       "stream": "stdout", 
       "text": [
        "", 
        "WARNING: Your potential does not seem to cross through 0 (reguirement at outer boundary", 
        "SA: 1.485589e+04 [um^2]"
       ]
      }, 
      {
       "output_type": "stream", 
       "stream": "stdout", 
       "text": [
        "", 
        "Volume: 6.023262e+04 [um^3]", 
        "Total volume (assuming rectangular): 7.022400e+04 [um^3]", 
        "volume fraction (assuming rectangular): 8.577212e-01 [um^3]", 
        "WARNING: assuming D=1."
       ]
      }, 
      {
       "output_type": "stream", 
       "stream": "stdout", 
       "text": [
        "", 
        "Adding in electrostatic component", 
        "pmf REMOVEME -4.873609,-2.195521 "
       ]
      }, 
      {
       "output_type": "stream", 
       "stream": "stdout", 
       "text": [
        "", 
        "Intfact: exp(p); 40.544318,3709.172546 "
       ]
      }, 
      {
       "output_type": "stream", 
       "stream": "stdout", 
       "text": [
        "", 
        "Using amg preconditioner instead of ilu"
       ]
      }, 
      {
       "output_type": "stream", 
       "stream": "stdout", 
       "text": [
        "", 
        "Writing "
       ]
      }, 
      {
       "output_type": "stream", 
       "stream": "stdout", 
       "text": [
        " ./Molecular_unit.pvd", 
        "omegasO"
       ]
      }, 
      {
       "output_type": "stream", 
       "stream": "stdout", 
       "text": [
        "", 
        "[ 13847297.66117036   6208305.80040168  11883621.4953933 ]", 
        "omegas", 
        "[ 13847297.66117036   6208305.80040168  11883621.4953933 ]", 
        "Reweighting by unit cell vol", 
        "d_eff= [197.19,88.41,169.22] for d=1.00", 
        "problem.volUnitCell 70224.0", 
        "[-19. -22.  21.]"
       ]
      }, 
      {
       "output_type": "stream", 
       "stream": "stdout", 
       "text": [
        "  maps to  (19.0, 22.0, -21.0)", 
        "[-19. -22.  21.]  maps to  (-19.0, 22.0, -21.0)", 
        "[-19.  22. -21.]  maps to  (-19.0, -22.0, 21.0)", 
        "Not loading subdomains, since don&apos;t think they&apos;re needed", 
        "Loading electrostatic potential from argument", 
        "Using z=2.000000 for the ligand", 
        "Potential range: -9.747217 - -4.391041 "
       ]
      }, 
      {
       "output_type": "stream", 
       "stream": "stdout", 
       "text": [
        "", 
        "WARNING: Your potential does not seem to cross through 0 (reguirement at outer boundary", 
        "SA: 1.485589e+04 [um^2]"
       ]
      }, 
      {
       "output_type": "stream", 
       "stream": "stdout", 
       "text": [
        "", 
        "Volume: 6.023262e+04 [um^3]", 
        "Total volume (assuming rectangular): 7.022400e+04 [um^3]", 
        "volume fraction (assuming rectangular): 8.577212e-01 [um^3]", 
        "WARNING: assuming D=1."
       ]
      }, 
      {
       "output_type": "stream", 
       "stream": "stdout", 
       "text": [
        "", 
        "Adding in electrostatic component", 
        "pmf REMOVEME -9.747217,-4.391041 "
       ]
      }, 
      {
       "output_type": "stream", 
       "stream": "stdout", 
       "text": [
        "", 
        "Intfact: exp(p); 1643.841698,13757960.977349 "
       ]
      }, 
      {
       "output_type": "stream", 
       "stream": "stdout", 
       "text": [
        "", 
        "Using amg preconditioner instead of ilu"
       ]
      }, 
      {
       "output_type": "stream", 
       "stream": "stdout", 
       "text": [
        "", 
        "Writing "
       ]
      }, 
      {
       "output_type": "stream", 
       "stream": "stdout", 
       "text": [
        " ./Molecular_unit.pvd", 
        "omegasO"
       ]
      }, 
      {
       "output_type": "stream", 
       "stream": "stdout", 
       "text": [
        "", 
        "[  5.70317634e+09   5.06735958e+08   2.76531791e+09]", 
        "omegas", 
        "[  5.70317634e+09   5.06735958e+08   2.76531791e+09]", 
        "Reweighting by unit cell vol", 
        "d_eff= [81214.06,7215.99,39378.53] for d=1.00", 
        "problem.volUnitCell 70224.0", 
        "-45.5744845808"
       ]
      }, 
      {
       "output_type": "stream", 
       "stream": "stdout", 
       "text": [
        "", 
        "Solving linear form of PBE"
       ]
      }, 
      {
       "output_type": "stream", 
       "stream": "stdout", 
       "text": [
        "", 
        "[-19. -22.  21.]"
       ]
      }, 
      {
       "output_type": "stream", 
       "stream": "stdout", 
       "text": [
        "  maps to  (19.0, 22.0, -21.0)", 
        "[-19. -22.  21.]  maps to  (-19.0, 22.0, -21.0)", 
        "[-19.  22. -21.]  maps to  (-19.0, -22.0, 21.0)", 
        "Not loading subdomains, since don&apos;t think they&apos;re needed", 
        "Loading electrostatic potential from argument", 
        "Using z=-2.000000 for the ligand", 
        "Potential range: 2.068959 - 2.104873 "
       ]
      }, 
      {
       "output_type": "stream", 
       "stream": "stdout", 
       "text": [
        "", 
        "WARNING: Your potential does not seem to cross through 0 (reguirement at outer boundary", 
        "SA: 1.485589e+04 [um^2]"
       ]
      }, 
      {
       "output_type": "stream", 
       "stream": "stdout", 
       "text": [
        "", 
        "Volume: 6.023262e+04 [um^3]", 
        "Total volume (assuming rectangular): 7.022400e+04 [um^3]", 
        "volume fraction (assuming rectangular): 8.577212e-01 [um^3]", 
        "WARNING: assuming D=1."
       ]
      }, 
      {
       "output_type": "stream", 
       "stream": "stdout", 
       "text": [
        "", 
        "Adding in electrostatic component", 
        "pmf REMOVEME 2.068959,2.104873 "
       ]
      }, 
      {
       "output_type": "stream", 
       "stream": "stdout", 
       "text": [
        "", 
        "Intfact: exp(p); 0.028738,0.030532 "
       ]
      }, 
      {
       "output_type": "stream", 
       "stream": "stdout", 
       "text": [
        "", 
        "Using amg preconditioner instead of ilu"
       ]
      }, 
      {
       "output_type": "stream", 
       "stream": "stdout", 
       "text": [
        "", 
        "Writing "
       ]
      }, 
      {
       "output_type": "stream", 
       "stream": "stdout", 
       "text": [
        " ./Molecular_unit.pvd", 
        "omegasO"
       ]
      }, 
      {
       "output_type": "stream", 
       "stream": "stdout", 
       "text": [
        "", 
        "[ 1551.75710451  1593.64493442  1584.21178937]", 
        "omegas", 
        "[ 1551.75710451  1593.64493442  1584.21178937]", 
        "Reweighting by unit cell vol", 
        "d_eff= [0.02,0.02,0.02] for d=1.00", 
        "problem.volUnitCell 70224.0", 
        "[-19. -22.  21.]"
       ]
      }, 
      {
       "output_type": "stream", 
       "stream": "stdout", 
       "text": [
        "  maps to  (19.0, 22.0, -21.0)", 
        "[-19. -22.  21.]  maps to  (-19.0, 22.0, -21.0)", 
        "[-19.  22. -21.]  maps to  (-19.0, -22.0, 21.0)", 
        "Not loading subdomains, since don&apos;t think they&apos;re needed", 
        "Loading electrostatic potential from argument", 
        "Using z=-1.000000 for the ligand", 
        "Potential range: 1.034479 - 1.052436 "
       ]
      }, 
      {
       "output_type": "stream", 
       "stream": "stdout", 
       "text": [
        "", 
        "WARNING: Your potential does not seem to cross through 0 (reguirement at outer boundary", 
        "SA: 1.485589e+04 [um^2]"
       ]
      }, 
      {
       "output_type": "stream", 
       "stream": "stdout", 
       "text": [
        "", 
        "Volume: 6.023262e+04 [um^3]", 
        "Total volume (assuming rectangular): 7.022400e+04 [um^3]", 
        "volume fraction (assuming rectangular): 8.577212e-01 [um^3]", 
        "WARNING: assuming D=1."
       ]
      }, 
      {
       "output_type": "stream", 
       "stream": "stdout", 
       "text": [
        "", 
        "Adding in electrostatic component", 
        "pmf REMOVEME 1.034479,1.052436 "
       ]
      }, 
      {
       "output_type": "stream", 
       "stream": "stdout", 
       "text": [
        "", 
        "Intfact: exp(p); 0.169523,0.174735 "
       ]
      }, 
      {
       "output_type": "stream", 
       "stream": "stdout", 
       "text": [
        "", 
        "Using amg preconditioner instead of ilu"
       ]
      }, 
      {
       "output_type": "stream", 
       "stream": "stdout", 
       "text": [
        "", 
        "Writing "
       ]
      }, 
      {
       "output_type": "stream", 
       "stream": "stdout", 
       "text": [
        " ./Molecular_unit.pvd", 
        "omegasO"
       ]
      }, 
      {
       "output_type": "stream", 
       "stream": "stdout", 
       "text": [
        "", 
        "[ 9075.86378701  9322.11706137  9264.83902254]", 
        "omegas", 
        "[ 9075.86378701  9322.11706137  9264.83902254]", 
        "Reweighting by unit cell vol", 
        "d_eff= [0.13,0.13,0.13] for d=1.00", 
        "problem.volUnitCell 70224.0", 
        "[-19. -22.  21.]"
       ]
      }, 
      {
       "output_type": "stream", 
       "stream": "stdout", 
       "text": [
        "  maps to  (19.0, 22.0, -21.0)", 
        "[-19. -22.  21.]  maps to  (-19.0, 22.0, -21.0)", 
        "[-19.  22. -21.]  maps to  (-19.0, -22.0, 21.0)", 
        "Not loading subdomains, since don&apos;t think they&apos;re needed", 
        "Loading electrostatic potential from argument", 
        "Using z=0.000000 for the ligand", 
        "Potential range: -0.000000 - -0.000000 "
       ]
      }, 
      {
       "output_type": "stream", 
       "stream": "stdout", 
       "text": [
        "", 
        "SA: 1.485589e+04 [um^2]"
       ]
      }, 
      {
       "output_type": "stream", 
       "stream": "stdout", 
       "text": [
        "", 
        "Volume: 6.023262e+04 [um^3]", 
        "Total volume (assuming rectangular): 7.022400e+04 [um^3]", 
        "volume fraction (assuming rectangular): 8.577212e-01 [um^3]", 
        "WARNING: assuming D=1."
       ]
      }, 
      {
       "output_type": "stream", 
       "stream": "stdout", 
       "text": [
        "", 
        "Adding in electrostatic component", 
        "pmf REMOVEME -0.000000,-0.000000 "
       ]
      }, 
      {
       "output_type": "stream", 
       "stream": "stdout", 
       "text": [
        "", 
        "Intfact: exp(p); 1.000000,1.000000 "
       ]
      }, 
      {
       "output_type": "stream", 
       "stream": "stdout", 
       "text": [
        "", 
        "Using amg preconditioner instead of ilu"
       ]
      }, 
      {
       "output_type": "stream", 
       "stream": "stdout", 
       "text": [
        "", 
        "Writing "
       ]
      }, 
      {
       "output_type": "stream", 
       "stream": "stdout", 
       "text": [
        " ./Molecular_unit.pvd", 
        "omegasO"
       ]
      }, 
      {
       "output_type": "stream", 
       "stream": "stdout", 
       "text": [
        "", 
        "[ 53085.4987298   54533.17781236  54186.11511853]", 
        "omegas", 
        "[ 53085.4987298   54533.17781236  54186.11511853]", 
        "Reweighting by unit cell vol", 
        "d_eff= [0.76,0.78,0.77] for d=1.00", 
        "problem.volUnitCell 70224.0", 
        "[-19. -22.  21.]"
       ]
      }, 
      {
       "output_type": "stream", 
       "stream": "stdout", 
       "text": [
        "  maps to  (19.0, 22.0, -21.0)", 
        "[-19. -22.  21.]  maps to  (-19.0, 22.0, -21.0)", 
        "[-19.  22. -21.]  maps to  (-19.0, -22.0, 21.0)", 
        "Not loading subdomains, since don&apos;t think they&apos;re needed", 
        "Loading electrostatic potential from argument", 
        "Using z=1.000000 for the ligand", 
        "Potential range: -1.052436 - -1.034479 "
       ]
      }, 
      {
       "output_type": "stream", 
       "stream": "stdout", 
       "text": [
        "", 
        "WARNING: Your potential does not seem to cross through 0 (reguirement at outer boundary", 
        "SA: 1.485589e+04 [um^2]"
       ]
      }, 
      {
       "output_type": "stream", 
       "stream": "stdout", 
       "text": [
        "", 
        "Volume: 6.023262e+04 [um^3]", 
        "Total volume (assuming rectangular): 7.022400e+04 [um^3]", 
        "volume fraction (assuming rectangular): 8.577212e-01 [um^3]", 
        "WARNING: assuming D=1."
       ]
      }, 
      {
       "output_type": "stream", 
       "stream": "stdout", 
       "text": [
        "", 
        "Adding in electrostatic component", 
        "pmf REMOVEME -1.052436,-1.034479 "
       ]
      }, 
      {
       "output_type": "stream", 
       "stream": "stdout", 
       "text": [
        "", 
        "Intfact: exp(p); 5.722950,5.898901 "
       ]
      }, 
      {
       "output_type": "stream", 
       "stream": "stdout", 
       "text": [
        "", 
        "Using amg preconditioner instead of ilu"
       ]
      }, 
      {
       "output_type": "stream", 
       "stream": "stdout", 
       "text": [
        "", 
        "Writing "
       ]
      }, 
      {
       "output_type": "stream", 
       "stream": "stdout", 
       "text": [
        " ./Molecular_unit.pvd", 
        "omegasO"
       ]
      }, 
      {
       "output_type": "stream", 
       "stream": "stdout", 
       "text": [
        "", 
        "[ 310518.51682069  319029.11749567  316930.17969069]", 
        "omegas", 
        "[ 310518.51682069  319029.11749567  316930.17969069]", 
        "Reweighting by unit cell vol", 
        "d_eff= [4.42,4.54,4.51] for d=1.00", 
        "problem.volUnitCell 70224.0", 
        "[-19. -22.  21.]"
       ]
      }, 
      {
       "output_type": "stream", 
       "stream": "stdout", 
       "text": [
        "  maps to  (19.0, 22.0, -21.0)", 
        "[-19. -22.  21.]  maps to  (-19.0, 22.0, -21.0)", 
        "[-19.  22. -21.]  maps to  (-19.0, -22.0, 21.0)", 
        "Not loading subdomains, since don&apos;t think they&apos;re needed", 
        "Loading electrostatic potential from argument", 
        "Using z=2.000000 for the ligand", 
        "Potential range: -2.104873 - -2.068959 "
       ]
      }, 
      {
       "output_type": "stream", 
       "stream": "stdout", 
       "text": [
        "", 
        "WARNING: Your potential does not seem to cross through 0 (reguirement at outer boundary", 
        "SA: 1.485589e+04 [um^2]"
       ]
      }, 
      {
       "output_type": "stream", 
       "stream": "stdout", 
       "text": [
        "", 
        "Volume: 6.023262e+04 [um^3]", 
        "Total volume (assuming rectangular): 7.022400e+04 [um^3]", 
        "volume fraction (assuming rectangular): 8.577212e-01 [um^3]", 
        "WARNING: assuming D=1."
       ]
      }, 
      {
       "output_type": "stream", 
       "stream": "stdout", 
       "text": [
        "", 
        "Adding in electrostatic component", 
        "pmf REMOVEME -2.104873,-2.068959 "
       ]
      }, 
      {
       "output_type": "stream", 
       "stream": "stdout", 
       "text": [
        "", 
        "Intfact: exp(p); 32.752157,34.797036 "
       ]
      }, 
      {
       "output_type": "stream", 
       "stream": "stdout", 
       "text": [
        "", 
        "Using amg preconditioner instead of ilu"
       ]
      }, 
      {
       "output_type": "stream", 
       "stream": "stdout", 
       "text": [
        "", 
        "Writing "
       ]
      }, 
      {
       "output_type": "stream", 
       "stream": "stdout", 
       "text": [
        " ./Molecular_unit.pvd", 
        "omegasO"
       ]
      }, 
      {
       "output_type": "stream", 
       "stream": "stdout", 
       "text": [
        "", 
        "[ 1816447.07378748  1866478.9021622   1853807.22748009]", 
        "omegas", 
        "[ 1816447.07378748  1866478.9021622   1853807.22748009]", 
        "Reweighting by unit cell vol", 
        "d_eff= [25.87,26.58,26.40] for d=1.00", 
        "problem.volUnitCell 70224.0", 
        "-185.707859289"
       ]
      }, 
      {
       "output_type": "stream", 
       "stream": "stdout", 
       "text": [
        "", 
        "Solving linear form of PBE"
       ]
      }, 
      {
       "output_type": "stream", 
       "stream": "stdout", 
       "text": [
        "", 
        "[-19. -22.  21.]"
       ]
      }, 
      {
       "output_type": "stream", 
       "stream": "stdout", 
       "text": [
        "  maps to  (19.0, 22.0, -21.0)", 
        "[-19. -22.  21.]  maps to  (-19.0, 22.0, -21.0)", 
        "[-19.  22. -21.]  maps to  (-19.0, -22.0, 21.0)", 
        "Not loading subdomains, since don&apos;t think they&apos;re needed", 
        "Loading electrostatic potential from argument", 
        "Using z=-2.000000 for the ligand", 
        "Potential range: 1.433322 - 8.576979 "
       ]
      }, 
      {
       "output_type": "stream", 
       "stream": "stdout", 
       "text": [
        "", 
        "WARNING: Your potential does not seem to cross through 0 (reguirement at outer boundary", 
        "SA: 1.485589e+04 [um^2]"
       ]
      }, 
      {
       "output_type": "stream", 
       "stream": "stdout", 
       "text": [
        "", 
        "Volume: 6.023262e+04 [um^3]", 
        "Total volume (assuming rectangular): 7.022400e+04 [um^3]", 
        "volume fraction (assuming rectangular): 8.577212e-01 [um^3]", 
        "WARNING: assuming D=1."
       ]
      }, 
      {
       "output_type": "stream", 
       "stream": "stdout", 
       "text": [
        "", 
        "Adding in electrostatic component", 
        "pmf REMOVEME 1.433322,8.576979 "
       ]
      }, 
      {
       "output_type": "stream", 
       "stream": "stdout", 
       "text": [
        "", 
        "Intfact: exp(p); 0.000001,0.089183 "
       ]
      }, 
      {
       "output_type": "stream", 
       "stream": "stdout", 
       "text": [
        "", 
        "Using amg preconditioner instead of ilu"
       ]
      }, 
      {
       "output_type": "stream", 
       "stream": "stdout", 
       "text": [
        "", 
        "Writing "
       ]
      }, 
      {
       "output_type": "stream", 
       "stream": "stdout", 
       "text": [
        " ./Molecular_unit.pvd", 
        "omegasO"
       ]
      }, 
      {
       "output_type": "stream", 
       "stream": "stdout", 
       "text": [
        "", 
        "[ 1231.7911303    225.98131589  1126.17109748]", 
        "omegas", 
        "[ 1231.7911303    225.98131589  1126.17109748]", 
        "Reweighting by unit cell vol", 
        "d_eff= [0.02,0.00,0.02] for d=1.00", 
        "problem.volUnitCell 70224.0", 
        "[-19. -22.  21.]"
       ]
      }, 
      {
       "output_type": "stream", 
       "stream": "stdout", 
       "text": [
        "  maps to  (19.0, 22.0, -21.0)", 
        "[-19. -22.  21.]  maps to  (-19.0, 22.0, -21.0)", 
        "[-19.  22. -21.]  maps to  (-19.0, -22.0, 21.0)", 
        "Not loading subdomains, since don&apos;t think they&apos;re needed", 
        "Loading electrostatic potential from argument", 
        "Using z=-1.000000 for the ligand", 
        "Potential range: 0.716661 - 4.288489 "
       ]
      }, 
      {
       "output_type": "stream", 
       "stream": "stdout", 
       "text": [
        "", 
        "WARNING: Your potential does not seem to cross through 0 (reguirement at outer boundary", 
        "SA: 1.485589e+04 [um^2]"
       ]
      }, 
      {
       "output_type": "stream", 
       "stream": "stdout", 
       "text": [
        "", 
        "Volume: 6.023262e+04 [um^3]", 
        "Total volume (assuming rectangular): 7.022400e+04 [um^3]", 
        "volume fraction (assuming rectangular): 8.577212e-01 [um^3]", 
        "WARNING: assuming D=1."
       ]
      }, 
      {
       "output_type": "stream", 
       "stream": "stdout", 
       "text": [
        "", 
        "Adding in electrostatic component", 
        "pmf REMOVEME 0.716661,4.288489 "
       ]
      }, 
      {
       "output_type": "stream", 
       "stream": "stdout", 
       "text": [
        "", 
        "Intfact: exp(p); 0.000723,0.298635 "
       ]
      }, 
      {
       "output_type": "stream", 
       "stream": "stdout", 
       "text": [
        "", 
        "Using amg preconditioner instead of ilu"
       ]
      }, 
      {
       "output_type": "stream", 
       "stream": "stdout", 
       "text": [
        "", 
        "Writing "
       ]
      }, 
      {
       "output_type": "stream", 
       "stream": "stdout", 
       "text": [
        " ./Molecular_unit.pvd", 
        "omegasO"
       ]
      }, 
      {
       "output_type": "stream", 
       "stream": "stdout", 
       "text": [
        "", 
        "[ 6375.64431527  3434.22132537  5927.50436035]", 
        "omegas", 
        "[ 6375.64431527  3434.22132537  5927.50436035]", 
        "Reweighting by unit cell vol", 
        "d_eff= [0.09,0.05,0.08] for d=1.00", 
        "problem.volUnitCell 70224.0", 
        "[-19. -22.  21.]"
       ]
      }, 
      {
       "output_type": "stream", 
       "stream": "stdout", 
       "text": [
        "  maps to  (19.0, 22.0, -21.0)", 
        "[-19. -22.  21.]  maps to  (-19.0, 22.0, -21.0)", 
        "[-19.  22. -21.]  maps to  (-19.0, -22.0, 21.0)", 
        "Not loading subdomains, since don&apos;t think they&apos;re needed", 
        "Loading electrostatic potential from argument", 
        "Using z=0.000000 for the ligand", 
        "Potential range: -0.000000 - -0.000000 "
       ]
      }, 
      {
       "output_type": "stream", 
       "stream": "stdout", 
       "text": [
        "", 
        "SA: 1.485589e+04 [um^2]"
       ]
      }, 
      {
       "output_type": "stream", 
       "stream": "stdout", 
       "text": [
        "", 
        "Volume: 6.023262e+04 [um^3]", 
        "Total volume (assuming rectangular): 7.022400e+04 [um^3]", 
        "volume fraction (assuming rectangular): 8.577212e-01 [um^3]", 
        "WARNING: assuming D=1."
       ]
      }, 
      {
       "output_type": "stream", 
       "stream": "stdout", 
       "text": [
        "", 
        "Adding in electrostatic component", 
        "pmf REMOVEME -0.000000,-0.000000 "
       ]
      }, 
      {
       "output_type": "stream", 
       "stream": "stdout", 
       "text": [
        "", 
        "Intfact: exp(p); 1.000000,1.000000 "
       ]
      }, 
      {
       "output_type": "stream", 
       "stream": "stdout", 
       "text": [
        "", 
        "Using amg preconditioner instead of ilu"
       ]
      }, 
      {
       "output_type": "stream", 
       "stream": "stdout", 
       "text": [
        "", 
        "Writing "
       ]
      }, 
      {
       "output_type": "stream", 
       "stream": "stdout", 
       "text": [
        " ./Molecular_unit.pvd", 
        "omegasO"
       ]
      }, 
      {
       "output_type": "stream", 
       "stream": "stdout", 
       "text": [
        "", 
        "[ 53085.4987298   54533.17781236  54186.11511853]", 
        "omegas", 
        "[ 53085.4987298   54533.17781236  54186.11511853]", 
        "Reweighting by unit cell vol", 
        "d_eff= [0.76,0.78,0.77] for d=1.00", 
        "problem.volUnitCell 70224.0", 
        "[-19. -22.  21.]"
       ]
      }, 
      {
       "output_type": "stream", 
       "stream": "stdout", 
       "text": [
        "  maps to  (19.0, 22.0, -21.0)", 
        "[-19. -22.  21.]  maps to  (-19.0, 22.0, -21.0)", 
        "[-19.  22. -21.]  maps to  (-19.0, -22.0, 21.0)", 
        "Not loading subdomains, since don&apos;t think they&apos;re needed", 
        "Loading electrostatic potential from argument", 
        "Using z=1.000000 for the ligand", 
        "Potential range: -4.288489 - -0.716661 "
       ]
      }, 
      {
       "output_type": "stream", 
       "stream": "stdout", 
       "text": [
        "", 
        "WARNING: Your potential does not seem to cross through 0 (reguirement at outer boundary", 
        "SA: 1.485589e+04 [um^2]"
       ]
      }, 
      {
       "output_type": "stream", 
       "stream": "stdout", 
       "text": [
        "", 
        "Volume: 6.023262e+04 [um^3]", 
        "Total volume (assuming rectangular): 7.022400e+04 [um^3]", 
        "volume fraction (assuming rectangular): 8.577212e-01 [um^3]", 
        "WARNING: assuming D=1."
       ]
      }, 
      {
       "output_type": "stream", 
       "stream": "stdout", 
       "text": [
        "", 
        "Adding in electrostatic component", 
        "pmf REMOVEME -4.288489,-0.716661 "
       ]
      }, 
      {
       "output_type": "stream", 
       "stream": "stdout", 
       "text": [
        "", 
        "Intfact: exp(p); 3.348574,1382.783692 "
       ]
      }, 
      {
       "output_type": "stream", 
       "stream": "stdout", 
       "text": [
        "", 
        "Using amg preconditioner instead of ilu"
       ]
      }, 
      {
       "output_type": "stream", 
       "stream": "stdout", 
       "text": [
        "", 
        "Writing "
       ]
      }, 
      {
       "output_type": "stream", 
       "stream": "stdout", 
       "text": [
        " ./Molecular_unit.pvd", 
        "omegasO"
       ]
      }, 
      {
       "output_type": "stream", 
       "stream": "stdout", 
       "text": [
        "", 
        "[ 1857491.69335709   533249.20991457  1319514.11930223]", 
        "omegas", 
        "[ 1857491.69335709   533249.20991457  1319514.11930223]", 
        "Reweighting by unit cell vol", 
        "d_eff= [26.45,7.59,18.79] for d=1.00", 
        "problem.volUnitCell 70224.0", 
        "[-19. -22.  21.]"
       ]
      }, 
      {
       "output_type": "stream", 
       "stream": "stdout", 
       "text": [
        "  maps to  (19.0, 22.0, -21.0)", 
        "[-19. -22.  21.]  maps to  (-19.0, 22.0, -21.0)", 
        "[-19.  22. -21.]  maps to  (-19.0, -22.0, 21.0)", 
        "Not loading subdomains, since don&apos;t think they&apos;re needed", 
        "Loading electrostatic potential from argument", 
        "Using z=2.000000 for the ligand", 
        "Potential range: -8.576979 - -1.433322 "
       ]
      }, 
      {
       "output_type": "stream", 
       "stream": "stdout", 
       "text": [
        "", 
        "WARNING: Your potential does not seem to cross through 0 (reguirement at outer boundary", 
        "SA: 1.485589e+04 [um^2]"
       ]
      }, 
      {
       "output_type": "stream", 
       "stream": "stdout", 
       "text": [
        "", 
        "Volume: 6.023262e+04 [um^3]", 
        "Total volume (assuming rectangular): 7.022400e+04 [um^3]", 
        "volume fraction (assuming rectangular): 8.577212e-01 [um^3]", 
        "WARNING: assuming D=1."
       ]
      }, 
      {
       "output_type": "stream", 
       "stream": "stdout", 
       "text": [
        "", 
        "Adding in electrostatic component", 
        "pmf REMOVEME -8.576979,-1.433322 "
       ]
      }, 
      {
       "output_type": "stream", 
       "stream": "stdout", 
       "text": [
        "", 
        "Intfact: exp(p); 11.212950,1912090.738479 "
       ]
      }, 
      {
       "output_type": "stream", 
       "stream": "stdout", 
       "text": [
        "", 
        "Using amg preconditioner instead of ilu"
       ]
      }, 
      {
       "output_type": "stream", 
       "stream": "stdout", 
       "text": [
        "", 
        "Writing "
       ]
      }, 
      {
       "output_type": "stream", 
       "stream": "stdout", 
       "text": [
        " ./Molecular_unit.pvd", 
        "omegasO"
       ]
      }, 
      {
       "output_type": "stream", 
       "stream": "stdout", 
       "text": [
        "", 
        "[ 93228913.5384929    3379244.16138074  28340262.44196449]", 
        "omegas", 
        "[ 93228913.5384929    3379244.16138074  28340262.44196449]", 
        "Reweighting by unit cell vol", 
        "d_eff= [1327.59,48.12,403.57] for d=1.00", 
        "problem.volUnitCell 70224.0", 
        "-29.9016125944"
       ]
      }, 
      {
       "output_type": "stream", 
       "stream": "stdout", 
       "text": [
        "", 
        "Solving linear form of PBE"
       ]
      }, 
      {
       "output_type": "stream", 
       "stream": "stdout", 
       "text": [
        "", 
        "[-19. -22.  21.]"
       ]
      }, 
      {
       "output_type": "stream", 
       "stream": "stdout", 
       "text": [
        "  maps to  (19.0, 22.0, -21.0)", 
        "[-19. -22.  21.]  maps to  (-19.0, 22.0, -21.0)", 
        "[-19.  22. -21.]  maps to  (-19.0, -22.0, 21.0)", 
        "Not loading subdomains, since don&apos;t think they&apos;re needed", 
        "Loading electrostatic potential from argument", 
        "Using z=-2.000000 for the ligand", 
        "Potential range: 1.318996 - 1.381016 "
       ]
      }, 
      {
       "output_type": "stream", 
       "stream": "stdout", 
       "text": [
        "", 
        "WARNING: Your potential does not seem to cross through 0 (reguirement at outer boundary", 
        "SA: 1.485589e+04 [um^2]"
       ]
      }, 
      {
       "output_type": "stream", 
       "stream": "stdout", 
       "text": [
        "", 
        "Volume: 6.023262e+04 [um^3]", 
        "Total volume (assuming rectangular): 7.022400e+04 [um^3]", 
        "volume fraction (assuming rectangular): 8.577212e-01 [um^3]", 
        "WARNING: assuming D=1."
       ]
      }, 
      {
       "output_type": "stream", 
       "stream": "stdout", 
       "text": [
        "", 
        "Adding in electrostatic component", 
        "pmf REMOVEME 1.318996,1.381016 "
       ]
      }, 
      {
       "output_type": "stream", 
       "stream": "stdout", 
       "text": [
        "", 
        "Intfact: exp(p); 0.097406,0.108146 "
       ]
      }, 
      {
       "output_type": "stream", 
       "stream": "stdout", 
       "text": [
        "", 
        "Using amg preconditioner instead of ilu"
       ]
      }, 
      {
       "output_type": "stream", 
       "stream": "stdout", 
       "text": [
        "", 
        "Writing "
       ]
      }, 
      {
       "output_type": "stream", 
       "stream": "stdout", 
       "text": [
        " ./Molecular_unit.pvd", 
        "omegasO"
       ]
      }, 
      {
       "output_type": "stream", 
       "stream": "stdout", 
       "text": [
        "", 
        "[ 5331.45871613  5474.72142741  5443.39130986]", 
        "omegas", 
        "[ 5331.45871613  5474.72142741  5443.39130986]", 
        "Reweighting by unit cell vol", 
        "d_eff= [0.08,0.08,0.08] for d=1.00", 
        "problem.volUnitCell 70224.0", 
        "[-19. -22.  21.]"
       ]
      }, 
      {
       "output_type": "stream", 
       "stream": "stdout", 
       "text": [
        "  maps to  (19.0, 22.0, -21.0)", 
        "[-19. -22.  21.]  maps to  (-19.0, 22.0, -21.0)", 
        "[-19.  22. -21.]  maps to  (-19.0, -22.0, 21.0)", 
        "Not loading subdomains, since don&apos;t think they&apos;re needed", 
        "Loading electrostatic potential from argument"
       ]
      }, 
      {
       "output_type": "stream", 
       "stream": "stdout", 
       "text": [
        "", 
        "Using z=-1.000000 for the ligand", 
        "Potential range: 0.659498 - 0.690508 "
       ]
      }, 
      {
       "output_type": "stream", 
       "stream": "stdout", 
       "text": [
        "", 
        "WARNING: Your potential does not seem to cross through 0 (reguirement at outer boundary", 
        "SA: 1.485589e+04 [um^2]"
       ]
      }, 
      {
       "output_type": "stream", 
       "stream": "stdout", 
       "text": [
        "", 
        "Volume: 6.023262e+04 [um^3]", 
        "Total volume (assuming rectangular): 7.022400e+04 [um^3]", 
        "volume fraction (assuming rectangular): 8.577212e-01 [um^3]", 
        "WARNING: assuming D=1."
       ]
      }, 
      {
       "output_type": "stream", 
       "stream": "stdout", 
       "text": [
        "", 
        "Adding in electrostatic component", 
        "pmf REMOVEME 0.659498,0.690508 "
       ]
      }, 
      {
       "output_type": "stream", 
       "stream": "stdout", 
       "text": [
        "", 
        "Intfact: exp(p); 0.312100,0.328855 "
       ]
      }, 
      {
       "output_type": "stream", 
       "stream": "stdout", 
       "text": [
        "", 
        "Using amg preconditioner instead of ilu"
       ]
      }, 
      {
       "output_type": "stream", 
       "stream": "stdout", 
       "text": [
        "", 
        "Writing "
       ]
      }, 
      {
       "output_type": "stream", 
       "stream": "stdout", 
       "text": [
        " ./Molecular_unit.pvd", 
        "omegasO"
       ]
      }, 
      {
       "output_type": "stream", 
       "stream": "stdout", 
       "text": [
        "", 
        "[ 16821.87186515  17277.28115548  17172.74925451]", 
        "omegas", 
        "[ 16821.87186515  17277.28115548  17172.74925451]", 
        "Reweighting by unit cell vol", 
        "d_eff= [0.24,0.25,0.24] for d=1.00", 
        "problem.volUnitCell 70224.0", 
        "[-19. -22.  21.]"
       ]
      }, 
      {
       "output_type": "stream", 
       "stream": "stdout", 
       "text": [
        "  maps to  (19.0, 22.0, -21.0)", 
        "[-19. -22.  21.]  maps to  (-19.0, 22.0, -21.0)", 
        "[-19.  22. -21.]  maps to  (-19.0, -22.0, 21.0)", 
        "Not loading subdomains, since don&apos;t think they&apos;re needed", 
        "Loading electrostatic potential from argument", 
        "Using z=0.000000 for the ligand", 
        "Potential range: -0.000000 - -0.000000 "
       ]
      }, 
      {
       "output_type": "stream", 
       "stream": "stdout", 
       "text": [
        "", 
        "SA: 1.485589e+04 [um^2]"
       ]
      }, 
      {
       "output_type": "stream", 
       "stream": "stdout", 
       "text": [
        "", 
        "Volume: 6.023262e+04 [um^3]", 
        "Total volume (assuming rectangular): 7.022400e+04 [um^3]", 
        "volume fraction (assuming rectangular): 8.577212e-01 [um^3]", 
        "WARNING: assuming D=1."
       ]
      }, 
      {
       "output_type": "stream", 
       "stream": "stdout", 
       "text": [
        "", 
        "Adding in electrostatic component", 
        "pmf REMOVEME -0.000000,-0.000000 "
       ]
      }, 
      {
       "output_type": "stream", 
       "stream": "stdout", 
       "text": [
        "", 
        "Intfact: exp(p); 1.000000,1.000000 "
       ]
      }, 
      {
       "output_type": "stream", 
       "stream": "stdout", 
       "text": [
        "", 
        "Using amg preconditioner instead of ilu"
       ]
      }, 
      {
       "output_type": "stream", 
       "stream": "stdout", 
       "text": [
        "", 
        "Writing "
       ]
      }, 
      {
       "output_type": "stream", 
       "stream": "stdout", 
       "text": [
        " ./Molecular_unit.pvd", 
        "omegasO"
       ]
      }, 
      {
       "output_type": "stream", 
       "stream": "stdout", 
       "text": [
        "", 
        "[ 53085.4987298   54533.17781236  54186.11511853]", 
        "omegas", 
        "[ 53085.4987298   54533.17781236  54186.11511853]", 
        "Reweighting by unit cell vol", 
        "d_eff= [0.76,0.78,0.77] for d=1.00", 
        "problem.volUnitCell 70224.0", 
        "[-19. -22.  21.]"
       ]
      }, 
      {
       "output_type": "stream", 
       "stream": "stdout", 
       "text": [
        "  maps to  (19.0, 22.0, -21.0)", 
        "[-19. -22.  21.]  maps to  (-19.0, 22.0, -21.0)", 
        "[-19.  22. -21.]  maps to  (-19.0, -22.0, 21.0)", 
        "Not loading subdomains, since don&apos;t think they&apos;re needed", 
        "Loading electrostatic potential from argument", 
        "Using z=1.000000 for the ligand", 
        "Potential range: -0.690508 - -0.659498 "
       ]
      }, 
      {
       "output_type": "stream", 
       "stream": "stdout", 
       "text": [
        "", 
        "WARNING: Your potential does not seem to cross through 0 (reguirement at outer boundary", 
        "SA: 1.485589e+04 [um^2]"
       ]
      }, 
      {
       "output_type": "stream", 
       "stream": "stdout", 
       "text": [
        "", 
        "Volume: 6.023262e+04 [um^3]", 
        "Total volume (assuming rectangular): 7.022400e+04 [um^3]", 
        "volume fraction (assuming rectangular): 8.577212e-01 [um^3]", 
        "WARNING: assuming D=1."
       ]
      }, 
      {
       "output_type": "stream", 
       "stream": "stdout", 
       "text": [
        "", 
        "Adding in electrostatic component", 
        "pmf REMOVEME -0.690508,-0.659498 "
       ]
      }, 
      {
       "output_type": "stream", 
       "stream": "stdout", 
       "text": [
        "", 
        "Intfact: exp(p); 3.040854,3.204101 "
       ]
      }, 
      {
       "output_type": "stream", 
       "stream": "stdout", 
       "text": [
        "", 
        "Using amg preconditioner instead of ilu"
       ]
      }, 
      {
       "output_type": "stream", 
       "stream": "stdout", 
       "text": [
        "", 
        "Writing "
       ]
      }, 
      {
       "output_type": "stream", 
       "stream": "stdout", 
       "text": [
        " ./Molecular_unit.pvd", 
        "omegasO"
       ]
      }, 
      {
       "output_type": "stream", 
       "stream": "stdout", 
       "text": [
        "", 
        "[ 167552.40577746  172154.44483992  171006.99772616]", 
        "omegas", 
        "[ 167552.40577746  172154.44483992  171006.99772616]", 
        "Reweighting by unit cell vol", 
        "d_eff= [2.39,2.45,2.44] for d=1.00", 
        "problem.volUnitCell 70224.0", 
        "[-19. -22.  21.]"
       ]
      }, 
      {
       "output_type": "stream", 
       "stream": "stdout", 
       "text": [
        "  maps to  (19.0, 22.0, -21.0)", 
        "[-19. -22.  21.]  maps to  (-19.0, 22.0, -21.0)", 
        "[-19.  22. -21.]  maps to  (-19.0, -22.0, 21.0)", 
        "Not loading subdomains, since don&apos;t think they&apos;re needed", 
        "Loading electrostatic potential from argument", 
        "Using z=2.000000 for the ligand", 
        "Potential range: -1.381016 - -1.318996 "
       ]
      }, 
      {
       "output_type": "stream", 
       "stream": "stdout", 
       "text": [
        "", 
        "WARNING: Your potential does not seem to cross through 0 (reguirement at outer boundary", 
        "SA: 1.485589e+04 [um^2]"
       ]
      }, 
      {
       "output_type": "stream", 
       "stream": "stdout", 
       "text": [
        "", 
        "Volume: 6.023262e+04 [um^3]", 
        "Total volume (assuming rectangular): 7.022400e+04 [um^3]", 
        "volume fraction (assuming rectangular): 8.577212e-01 [um^3]", 
        "WARNING: assuming D=1."
       ]
      }, 
      {
       "output_type": "stream", 
       "stream": "stdout", 
       "text": [
        "", 
        "Adding in electrostatic component", 
        "pmf REMOVEME -1.381016,-1.318996 "
       ]
      }, 
      {
       "output_type": "stream", 
       "stream": "stdout", 
       "text": [
        "", 
        "Intfact: exp(p); 9.246792,10.266264 "
       ]
      }, 
      {
       "output_type": "stream", 
       "stream": "stdout", 
       "text": [
        "", 
        "Using amg preconditioner instead of ilu"
       ]
      }, 
      {
       "output_type": "stream", 
       "stream": "stdout", 
       "text": [
        "", 
        "Writing "
       ]
      }, 
      {
       "output_type": "stream", 
       "stream": "stdout", 
       "text": [
        " ./Molecular_unit.pvd", 
        "omegasO"
       ]
      }, 
      {
       "output_type": "stream", 
       "stream": "stdout", 
       "text": [
        "", 
        "[ 528930.33627263  543560.22073317  539780.49966065]", 
        "omegas", 
        "[ 528930.33627263  543560.22073317  539780.49966065]", 
        "Reweighting by unit cell vol", 
        "d_eff= [7.53,7.74,7.69] for d=1.00", 
        "problem.volUnitCell 70224.0", 
        "-160.409284687"
       ]
      }, 
      {
       "output_type": "stream", 
       "stream": "stdout", 
       "text": [
        "", 
        "Solving linear form of PBE"
       ]
      }, 
      {
       "output_type": "stream", 
       "stream": "stdout", 
       "text": [
        "", 
        "[-19. -22.  21.]"
       ]
      }, 
      {
       "output_type": "stream", 
       "stream": "stdout", 
       "text": [
        "  maps to  (19.0, 22.0, -21.0)", 
        "[-19. -22.  21.]  maps to  (-19.0, 22.0, -21.0)", 
        "[-19.  22. -21.]  maps to  (-19.0, -22.0, 21.0)", 
        "Not loading subdomains, since don&apos;t think they&apos;re needed", 
        "Loading electrostatic potential from argument", 
        "Using z=-2.000000 for the ligand", 
        "Potential range: 0.452923 - 7.408556 "
       ]
      }, 
      {
       "output_type": "stream", 
       "stream": "stdout", 
       "text": [
        "", 
        "WARNING: Your potential does not seem to cross through 0 (reguirement at outer boundary", 
        "SA: 1.485589e+04 [um^2]"
       ]
      }, 
      {
       "output_type": "stream", 
       "stream": "stdout", 
       "text": [
        "", 
        "Volume: 6.023262e+04 [um^3]", 
        "Total volume (assuming rectangular): 7.022400e+04 [um^3]", 
        "volume fraction (assuming rectangular): 8.577212e-01 [um^3]", 
        "WARNING: assuming D=1."
       ]
      }, 
      {
       "output_type": "stream", 
       "stream": "stdout", 
       "text": [
        "", 
        "Adding in electrostatic component", 
        "pmf REMOVEME 0.452923,7.408556 "
       ]
      }, 
      {
       "output_type": "stream", 
       "stream": "stdout", 
       "text": [
        "", 
        "Intfact: exp(p); 0.000004,0.465901 "
       ]
      }, 
      {
       "output_type": "stream", 
       "stream": "stdout", 
       "text": [
        "", 
        "Using amg preconditioner instead of ilu"
       ]
      }, 
      {
       "output_type": "stream", 
       "stream": "stdout", 
       "text": [
        "", 
        "Writing "
       ]
      }, 
      {
       "output_type": "stream", 
       "stream": "stdout", 
       "text": [
        " ./Molecular_unit.pvd", 
        "omegasO"
       ]
      }, 
      {
       "output_type": "stream", 
       "stream": "stdout", 
       "text": [
        "", 
        "[ 6389.2919989   3377.798288    5330.37138441]", 
        "omegas", 
        "[ 6389.2919989   3377.798288    5330.37138441]", 
        "Reweighting by unit cell vol", 
        "d_eff= [0.09,0.05,0.08] for d=1.00", 
        "problem.volUnitCell 70224.0", 
        "[-19. -22.  21.]"
       ]
      }, 
      {
       "output_type": "stream", 
       "stream": "stdout", 
       "text": [
        "  maps to  (19.0, 22.0, -21.0)", 
        "[-19. -22.  21.]  maps to  (-19.0, 22.0, -21.0)", 
        "[-19.  22. -21.]  maps to  (-19.0, -22.0, 21.0)", 
        "Not loading subdomains, since don&apos;t think they&apos;re needed", 
        "Loading electrostatic potential from argument", 
        "Using z=-1.000000 for the ligand", 
        "Potential range: 0.226461 - 3.704278 "
       ]
      }, 
      {
       "output_type": "stream", 
       "stream": "stdout", 
       "text": [
        "", 
        "WARNING: Your potential does not seem to cross through 0 (reguirement at outer boundary", 
        "SA: 1.485589e+04 [um^2]"
       ]
      }, 
      {
       "output_type": "stream", 
       "stream": "stdout", 
       "text": [
        "", 
        "Volume: 6.023262e+04 [um^3]", 
        "Total volume (assuming rectangular): 7.022400e+04 [um^3]", 
        "volume fraction (assuming rectangular): 8.577212e-01 [um^3]", 
        "WARNING: assuming D=1."
       ]
      }, 
      {
       "output_type": "stream", 
       "stream": "stdout", 
       "text": [
        "", 
        "Adding in electrostatic component", 
        "pmf REMOVEME 0.226461,3.704278 "
       ]
      }, 
      {
       "output_type": "stream", 
       "stream": "stdout", 
       "text": [
        "", 
        "Intfact: exp(p); 0.001937,0.682570 "
       ]
      }, 
      {
       "output_type": "stream", 
       "stream": "stdout", 
       "text": [
        "", 
        "Using amg preconditioner instead of ilu"
       ]
      }, 
      {
       "output_type": "stream", 
       "stream": "stdout", 
       "text": [
        "", 
        "Writing "
       ]
      }, 
      {
       "output_type": "stream", 
       "stream": "stdout", 
       "text": [
        " ./Molecular_unit.pvd", 
        "omegasO"
       ]
      }, 
      {
       "output_type": "stream", 
       "stream": "stdout", 
       "text": [
        "", 
        "[ 15403.72459273  12640.36870598  14064.64813677]", 
        "omegas", 
        "[ 15403.72459273  12640.36870598  14064.64813677]", 
        "Reweighting by unit cell vol", 
        "d_eff= [0.22,0.18,0.20] for d=1.00", 
        "problem.volUnitCell 70224.0", 
        "[-19. -22.  21.]"
       ]
      }, 
      {
       "output_type": "stream", 
       "stream": "stdout", 
       "text": [
        "  maps to  (19.0, 22.0, -21.0)", 
        "[-19. -22.  21.]  maps to  (-19.0, 22.0, -21.0)", 
        "[-19.  22. -21.]  maps to  (-19.0, -22.0, 21.0)", 
        "Not loading subdomains, since don&apos;t think they&apos;re needed", 
        "Loading electrostatic potential from argument", 
        "Using z=0.000000 for the ligand", 
        "Potential range: -0.000000 - -0.000000 "
       ]
      }, 
      {
       "output_type": "stream", 
       "stream": "stdout", 
       "text": [
        "", 
        "SA: 1.485589e+04 [um^2]"
       ]
      }, 
      {
       "output_type": "stream", 
       "stream": "stdout", 
       "text": [
        "", 
        "Volume: 6.023262e+04 [um^3]", 
        "Total volume (assuming rectangular): 7.022400e+04 [um^3]", 
        "volume fraction (assuming rectangular): 8.577212e-01 [um^3]", 
        "WARNING: assuming D=1."
       ]
      }, 
      {
       "output_type": "stream", 
       "stream": "stdout", 
       "text": [
        "", 
        "Adding in electrostatic component", 
        "pmf REMOVEME -0.000000,-0.000000 "
       ]
      }, 
      {
       "output_type": "stream", 
       "stream": "stdout", 
       "text": [
        "", 
        "Intfact: exp(p); 1.000000,1.000000 "
       ]
      }, 
      {
       "output_type": "stream", 
       "stream": "stdout", 
       "text": [
        "", 
        "Using amg preconditioner instead of ilu"
       ]
      }, 
      {
       "output_type": "stream", 
       "stream": "stdout", 
       "text": [
        "", 
        "Writing "
       ]
      }, 
      {
       "output_type": "stream", 
       "stream": "stdout", 
       "text": [
        " ./Molecular_unit.pvd", 
        "omegasO"
       ]
      }, 
      {
       "output_type": "stream", 
       "stream": "stdout", 
       "text": [
        "", 
        "[ 53085.4987298   54533.17781236  54186.11511853]", 
        "omegas", 
        "[ 53085.4987298   54533.17781236  54186.11511853]", 
        "Reweighting by unit cell vol", 
        "d_eff= [0.76,0.78,0.77] for d=1.00", 
        "problem.volUnitCell 70224.0", 
        "[-19. -22.  21.]"
       ]
      }, 
      {
       "output_type": "stream", 
       "stream": "stdout", 
       "text": [
        "  maps to  (19.0, 22.0, -21.0)", 
        "[-19. -22.  21.]  maps to  (-19.0, 22.0, -21.0)", 
        "[-19.  22. -21.]  maps to  (-19.0, -22.0, 21.0)", 
        "Not loading subdomains, since don&apos;t think they&apos;re needed", 
        "Loading electrostatic potential from argument", 
        "Using z=1.000000 for the ligand", 
        "Potential range: -3.704278 - -0.226461 "
       ]
      }, 
      {
       "output_type": "stream", 
       "stream": "stdout", 
       "text": [
        "", 
        "WARNING: Your potential does not seem to cross through 0 (reguirement at outer boundary", 
        "SA: 1.485589e+04 [um^2]"
       ]
      }, 
      {
       "output_type": "stream", 
       "stream": "stdout", 
       "text": [
        "", 
        "Volume: 6.023262e+04 [um^3]", 
        "Total volume (assuming rectangular): 7.022400e+04 [um^3]", 
        "volume fraction (assuming rectangular): 8.577212e-01 [um^3]", 
        "WARNING: assuming D=1."
       ]
      }, 
      {
       "output_type": "stream", 
       "stream": "stdout", 
       "text": [
        "", 
        "Adding in electrostatic component", 
        "pmf REMOVEME -3.704278,-0.226461 "
       ]
      }, 
      {
       "output_type": "stream", 
       "stream": "stdout", 
       "text": [
        "", 
        "Intfact: exp(p); 1.465052,516.292935 "
       ]
      }, 
      {
       "output_type": "stream", 
       "stream": "stdout", 
       "text": [
        "", 
        "Using amg preconditioner instead of ilu"
       ]
      }, 
      {
       "output_type": "stream", 
       "stream": "stdout", 
       "text": [
        "", 
        "Writing "
       ]
      }, 
      {
       "output_type": "stream", 
       "stream": "stdout", 
       "text": [
        " ./Molecular_unit.pvd", 
        "omegasO"
       ]
      }, 
      {
       "output_type": "stream", 
       "stream": "stdout", 
       "text": [
        "", 
        "[ 433887.01889682  204993.80461605  370051.3303043 ]", 
        "omegas", 
        "[ 433887.01889682  204993.80461605  370051.3303043 ]", 
        "Reweighting by unit cell vol", 
        "d_eff= [6.18,2.92,5.27] for d=1.00", 
        "problem.volUnitCell 70224.0", 
        "[-19. -22.  21.]"
       ]
      }, 
      {
       "output_type": "stream", 
       "stream": "stdout", 
       "text": [
        "  maps to  (19.0, 22.0, -21.0)", 
        "[-19. -22.  21.]  maps to  (-19.0, 22.0, -21.0)", 
        "[-19.  22. -21.]  maps to  (-19.0, -22.0, 21.0)", 
        "Not loading subdomains, since don&apos;t think they&apos;re needed", 
        "Loading electrostatic potential from argument", 
        "Using z=2.000000 for the ligand", 
        "Potential range: -7.408556 - -0.452923 "
       ]
      }, 
      {
       "output_type": "stream", 
       "stream": "stdout", 
       "text": [
        "", 
        "WARNING: Your potential does not seem to cross through 0 (reguirement at outer boundary", 
        "SA: 1.485589e+04 [um^2]"
       ]
      }, 
      {
       "output_type": "stream", 
       "stream": "stdout", 
       "text": [
        "", 
        "Volume: 6.023262e+04 [um^3]", 
        "Total volume (assuming rectangular): 7.022400e+04 [um^3]", 
        "volume fraction (assuming rectangular): 8.577212e-01 [um^3]", 
        "WARNING: assuming D=1."
       ]
      }, 
      {
       "output_type": "stream", 
       "stream": "stdout", 
       "text": [
        "", 
        "Adding in electrostatic component", 
        "pmf REMOVEME -7.408556,-0.452923 "
       ]
      }, 
      {
       "output_type": "stream", 
       "stream": "stdout", 
       "text": [
        "", 
        "Intfact: exp(p); 2.146378,266558.394673 "
       ]
      }, 
      {
       "output_type": "stream", 
       "stream": "stdout", 
       "text": [
        "", 
        "Using amg preconditioner instead of ilu"
       ]
      }, 
      {
       "output_type": "stream", 
       "stream": "stdout", 
       "text": [
        "", 
        "Writing "
       ]
      }, 
      {
       "output_type": "stream", 
       "stream": "stdout", 
       "text": [
        " ./Molecular_unit.pvd", 
        "omegasO"
       ]
      }, 
      {
       "output_type": "stream", 
       "stream": "stdout", 
       "text": [
        "", 
        "[ 3770884.9510702    597214.96684941  2088824.20294302]", 
        "omegas", 
        "[ 3770884.9510702    597214.96684941  2088824.20294302]", 
        "Reweighting by unit cell vol", 
        "d_eff= [53.70,8.50,29.75] for d=1.00", 
        "problem.volUnitCell 70224.0", 
        "-18.8762585401"
       ]
      }, 
      {
       "output_type": "stream", 
       "stream": "stdout", 
       "text": [
        "", 
        "Solving linear form of PBE"
       ]
      }, 
      {
       "output_type": "stream", 
       "stream": "stdout", 
       "text": [
        "", 
        "[-19. -22.  21.]"
       ]
      }, 
      {
       "output_type": "stream", 
       "stream": "stdout", 
       "text": [
        "  maps to  (19.0, 22.0, -21.0)", 
        "[-19. -22.  21.]  maps to  (-19.0, 22.0, -21.0)", 
        "[-19.  22. -21.]  maps to  (-19.0, -22.0, 21.0)", 
        "Not loading subdomains, since don&apos;t think they&apos;re needed", 
        "Loading electrostatic potential from argument", 
        "Using z=-2.000000 for the ligand", 
        "Potential range: 0.771876 - 0.871806 "
       ]
      }, 
      {
       "output_type": "stream", 
       "stream": "stdout", 
       "text": [
        "", 
        "WARNING: Your potential does not seem to cross through 0 (reguirement at outer boundary", 
        "SA: 1.485589e+04 [um^2]"
       ]
      }, 
      {
       "output_type": "stream", 
       "stream": "stdout", 
       "text": [
        "", 
        "Volume: 6.023262e+04 [um^3]", 
        "Total volume (assuming rectangular): 7.022400e+04 [um^3]", 
        "volume fraction (assuming rectangular): 8.577212e-01 [um^3]", 
        "WARNING: assuming D=1."
       ]
      }, 
      {
       "output_type": "stream", 
       "stream": "stdout", 
       "text": [
        "", 
        "Adding in electrostatic component", 
        "pmf REMOVEME 0.771876,0.871806 "
       ]
      }, 
      {
       "output_type": "stream", 
       "stream": "stdout", 
       "text": [
        "", 
        "Intfact: exp(p); 0.229888,0.272083 "
       ]
      }, 
      {
       "output_type": "stream", 
       "stream": "stdout", 
       "text": [
        "", 
        "Using amg preconditioner instead of ilu"
       ]
      }, 
      {
       "output_type": "stream", 
       "stream": "stdout", 
       "text": [
        "", 
        "Writing "
       ]
      }, 
      {
       "output_type": "stream", 
       "stream": "stdout", 
       "text": [
        " ./Molecular_unit.pvd", 
        "omegasO"
       ]
      }, 
      {
       "output_type": "stream", 
       "stream": "stdout", 
       "text": [
        "", 
        "[ 12834.83700032  13176.3587665   13106.66608895]", 
        "omegas", 
        "[ 12834.83700032  13176.3587665   13106.66608895]", 
        "Reweighting by unit cell vol", 
        "d_eff= [0.18,0.19,0.19] for d=1.00", 
        "problem.volUnitCell 70224.0", 
        "[-19. -22.  21.]"
       ]
      }, 
      {
       "output_type": "stream", 
       "stream": "stdout", 
       "text": [
        "  maps to  (19.0, 22.0, -21.0)", 
        "[-19. -22.  21.]  maps to  (-19.0, 22.0, -21.0)", 
        "[-19.  22. -21.]  maps to  (-19.0, -22.0, 21.0)", 
        "Not loading subdomains, since don&apos;t think they&apos;re needed", 
        "Loading electrostatic potential from argument", 
        "Using z=-1.000000 for the ligand", 
        "Potential range: 0.385938 - 0.435903 "
       ]
      }, 
      {
       "output_type": "stream", 
       "stream": "stdout", 
       "text": [
        "", 
        "WARNING: Your potential does not seem to cross through 0 (reguirement at outer boundary", 
        "SA: 1.485589e+04 [um^2]"
       ]
      }, 
      {
       "output_type": "stream", 
       "stream": "stdout", 
       "text": [
        "", 
        "Volume: 6.023262e+04 [um^3]", 
        "Total volume (assuming rectangular): 7.022400e+04 [um^3]", 
        "volume fraction (assuming rectangular): 8.577212e-01 [um^3]", 
        "WARNING: assuming D=1."
       ]
      }, 
      {
       "output_type": "stream", 
       "stream": "stdout", 
       "text": [
        "", 
        "Adding in electrostatic component", 
        "pmf REMOVEME 0.385938,0.435903 "
       ]
      }, 
      {
       "output_type": "stream", 
       "stream": "stdout", 
       "text": [
        "", 
        "Intfact: exp(p); 0.479467,0.521616 "
       ]
      }, 
      {
       "output_type": "stream", 
       "stream": "stdout", 
       "text": [
        "", 
        "Using amg preconditioner instead of ilu"
       ]
      }, 
      {
       "output_type": "stream", 
       "stream": "stdout", 
       "text": [
        "", 
        "Writing "
       ]
      }, 
      {
       "output_type": "stream", 
       "stream": "stdout", 
       "text": [
        " ./Molecular_unit.pvd", 
        "omegasO"
       ]
      }, 
      {
       "output_type": "stream", 
       "stream": "stdout", 
       "text": [
        "", 
        "[ 26096.67812016  26799.84096792  26643.19391631]", 
        "omegas", 
        "[ 26096.67812016  26799.84096792  26643.19391631]", 
        "Reweighting by unit cell vol", 
        "d_eff= [0.37,0.38,0.38] for d=1.00", 
        "problem.volUnitCell 70224.0", 
        "[-19. -22.  21.]"
       ]
      }, 
      {
       "output_type": "stream", 
       "stream": "stdout", 
       "text": [
        "  maps to  (19.0, 22.0, -21.0)", 
        "[-19. -22.  21.]  maps to  (-19.0, 22.0, -21.0)", 
        "[-19.  22. -21.]  maps to  (-19.0, -22.0, 21.0)", 
        "Not loading subdomains, since don&apos;t think they&apos;re needed", 
        "Loading electrostatic potential from argument", 
        "Using z=0.000000 for the ligand", 
        "Potential range: -0.000000 - -0.000000 "
       ]
      }, 
      {
       "output_type": "stream", 
       "stream": "stdout", 
       "text": [
        "", 
        "SA: 1.485589e+04 [um^2]"
       ]
      }, 
      {
       "output_type": "stream", 
       "stream": "stdout", 
       "text": [
        "", 
        "Volume: 6.023262e+04 [um^3]", 
        "Total volume (assuming rectangular): 7.022400e+04 [um^3]", 
        "volume fraction (assuming rectangular): 8.577212e-01 [um^3]", 
        "WARNING: assuming D=1."
       ]
      }, 
      {
       "output_type": "stream", 
       "stream": "stdout", 
       "text": [
        "", 
        "Adding in electrostatic component", 
        "pmf REMOVEME -0.000000,-0.000000 "
       ]
      }, 
      {
       "output_type": "stream", 
       "stream": "stdout", 
       "text": [
        "", 
        "Intfact: exp(p); 1.000000,1.000000 "
       ]
      }, 
      {
       "output_type": "stream", 
       "stream": "stdout", 
       "text": [
        "", 
        "Using amg preconditioner instead of ilu"
       ]
      }, 
      {
       "output_type": "stream", 
       "stream": "stdout", 
       "text": [
        "", 
        "Writing "
       ]
      }, 
      {
       "output_type": "stream", 
       "stream": "stdout", 
       "text": [
        " ./Molecular_unit.pvd", 
        "omegasO"
       ]
      }, 
      {
       "output_type": "stream", 
       "stream": "stdout", 
       "text": [
        "", 
        "[ 53085.4987298   54533.17781236  54186.11511853]", 
        "omegas", 
        "[ 53085.4987298   54533.17781236  54186.11511853]", 
        "Reweighting by unit cell vol", 
        "d_eff= [0.76,0.78,0.77] for d=1.00", 
        "problem.volUnitCell 70224.0", 
        "[-19. -22.  21.]"
       ]
      }, 
      {
       "output_type": "stream", 
       "stream": "stdout", 
       "text": [
        "  maps to  (19.0, 22.0, -21.0)", 
        "[-19. -22.  21.]  maps to  (-19.0, 22.0, -21.0)", 
        "[-19.  22. -21.]  maps to  (-19.0, -22.0, 21.0)", 
        "Not loading subdomains, since don&apos;t think they&apos;re needed", 
        "Loading electrostatic potential from argument", 
        "Using z=1.000000 for the ligand", 
        "Potential range: -0.435903 - -0.385938 "
       ]
      }, 
      {
       "output_type": "stream", 
       "stream": "stdout", 
       "text": [
        "", 
        "WARNING: Your potential does not seem to cross through 0 (reguirement at outer boundary", 
        "SA: 1.485589e+04 [um^2]"
       ]
      }, 
      {
       "output_type": "stream", 
       "stream": "stdout", 
       "text": [
        "", 
        "Volume: 6.023262e+04 [um^3]", 
        "Total volume (assuming rectangular): 7.022400e+04 [um^3]", 
        "volume fraction (assuming rectangular): 8.577212e-01 [um^3]", 
        "WARNING: assuming D=1."
       ]
      }, 
      {
       "output_type": "stream", 
       "stream": "stdout", 
       "text": [
        "", 
        "Adding in electrostatic component", 
        "pmf REMOVEME -0.435903,-0.385938 "
       ]
      }, 
      {
       "output_type": "stream", 
       "stream": "stdout", 
       "text": [
        "", 
        "Intfact: exp(p); 1.917118,2.085651 "
       ]
      }, 
      {
       "output_type": "stream", 
       "stream": "stdout", 
       "text": [
        "", 
        "Using amg preconditioner instead of ilu"
       ]
      }, 
      {
       "output_type": "stream", 
       "stream": "stdout", 
       "text": [
        "", 
        "Writing "
       ]
      }, 
      {
       "output_type": "stream", 
       "stream": "stdout", 
       "text": [
        " ./Molecular_unit.pvd", 
        "omegasO"
       ]
      }, 
      {
       "output_type": "stream", 
       "stream": "stdout", 
       "text": [
        "", 
        "[ 108034.34862529  111014.88162805  110254.54172742]", 
        "omegas", 
        "[ 108034.34862529  111014.88162805  110254.54172742]", 
        "Reweighting by unit cell vol", 
        "d_eff= [1.54,1.58,1.57] for d=1.00", 
        "problem.volUnitCell 70224.0", 
        "[-19. -22.  21.]"
       ]
      }, 
      {
       "output_type": "stream", 
       "stream": "stdout", 
       "text": [
        "  maps to  (19.0, 22.0, -21.0)", 
        "[-19. -22.  21.]  maps to  (-19.0, 22.0, -21.0)", 
        "[-19.  22. -21.]  maps to  (-19.0, -22.0, 21.0)", 
        "Not loading subdomains, since don&apos;t think they&apos;re needed", 
        "Loading electrostatic potential from argument", 
        "Using z=2.000000 for the ligand", 
        "Potential range: -0.871806 - -0.771876 "
       ]
      }, 
      {
       "output_type": "stream", 
       "stream": "stdout", 
       "text": [
        "", 
        "WARNING: Your potential does not seem to cross through 0 (reguirement at outer boundary", 
        "SA: 1.485589e+04 [um^2]"
       ]
      }, 
      {
       "output_type": "stream", 
       "stream": "stdout", 
       "text": [
        "", 
        "Volume: 6.023262e+04 [um^3]", 
        "Total volume (assuming rectangular): 7.022400e+04 [um^3]", 
        "volume fraction (assuming rectangular): 8.577212e-01 [um^3]", 
        "WARNING: assuming D=1."
       ]
      }, 
      {
       "output_type": "stream", 
       "stream": "stdout", 
       "text": [
        "", 
        "Adding in electrostatic component", 
        "pmf REMOVEME -0.871806,-0.771876 "
       ]
      }, 
      {
       "output_type": "stream", 
       "stream": "stdout", 
       "text": [
        "", 
        "Intfact: exp(p); 3.675343,4.349941 "
       ]
      }, 
      {
       "output_type": "stream", 
       "stream": "stdout", 
       "text": [
        "", 
        "Using amg preconditioner instead of ilu"
       ]
      }, 
      {
       "output_type": "stream", 
       "stream": "stdout", 
       "text": [
        "", 
        "Writing "
       ]
      }, 
      {
       "output_type": "stream", 
       "stream": "stdout", 
       "text": [
        " ./Molecular_unit.pvd", 
        "omegasO"
       ]
      }, 
      {
       "output_type": "stream", 
       "stream": "stdout", 
       "text": [
        "", 
        "[ 219959.35851087  226096.20196832  224445.36849127]", 
        "omegas", 
        "[ 219959.35851087  226096.20196832  224445.36849127]", 
        "Reweighting by unit cell vol", 
        "d_eff= [3.13,3.22,3.20] for d=1.00", 
        "problem.volUnitCell 70224.0", 
        "-135.215183737"
       ]
      }, 
      {
       "output_type": "stream", 
       "stream": "stdout", 
       "text": [
        "", 
        "Solving linear form of PBE"
       ]
      }, 
      {
       "output_type": "stream", 
       "stream": "stdout", 
       "text": [
        "", 
        "[-19. -22.  21.]"
       ]
      }, 
      {
       "output_type": "stream", 
       "stream": "stdout", 
       "text": [
        "  maps to  (19.0, 22.0, -21.0)", 
        "[-19. -22.  21.]  maps to  (-19.0, 22.0, -21.0)", 
        "[-19.  22. -21.]  maps to  (-19.0, -22.0, 21.0)", 
        "Not loading subdomains, since don&apos;t think they&apos;re needed", 
        "Loading electrostatic potential from argument", 
        "Using z=-2.000000 for the ligand", 
        "Potential range: 0.017450 - 6.244958 "
       ]
      }, 
      {
       "output_type": "stream", 
       "stream": "stdout", 
       "text": [
        "", 
        "WARNING: Your potential does not seem to cross through 0 (reguirement at outer boundary", 
        "SA: 1.485589e+04 [um^2]"
       ]
      }, 
      {
       "output_type": "stream", 
       "stream": "stdout", 
       "text": [
        "", 
        "Volume: 6.023262e+04 [um^3]", 
        "Total volume (assuming rectangular): 7.022400e+04 [um^3]", 
        "volume fraction (assuming rectangular): 8.577212e-01 [um^3]", 
        "WARNING: assuming D=1."
       ]
      }, 
      {
       "output_type": "stream", 
       "stream": "stdout", 
       "text": [
        "", 
        "Adding in electrostatic component", 
        "pmf REMOVEME 0.017450,6.244958 "
       ]
      }, 
      {
       "output_type": "stream", 
       "stream": "stdout", 
       "text": [
        "", 
        "Intfact: exp(p); 0.000027,0.971003 "
       ]
      }, 
      {
       "output_type": "stream", 
       "stream": "stdout", 
       "text": [
        "", 
        "Using amg preconditioner instead of ilu"
       ]
      }, 
      {
       "output_type": "stream", 
       "stream": "stdout", 
       "text": [
        "", 
        "Writing "
       ]
      }, 
      {
       "output_type": "stream", 
       "stream": "stdout", 
       "text": [
        " ./Molecular_unit.pvd", 
        "omegasO"
       ]
      }, 
      {
       "output_type": "stream", 
       "stream": "stdout", 
       "text": [
        "", 
        "[ 29081.83770737  20485.35138444  26252.79158103]", 
        "omegas", 
        "[ 29081.83770737  20485.35138444  26252.79158103]", 
        "Reweighting by unit cell vol", 
        "d_eff= [0.41,0.29,0.37] for d=1.00", 
        "problem.volUnitCell 70224.0", 
        "[-19. -22.  21.]"
       ]
      }, 
      {
       "output_type": "stream", 
       "stream": "stdout", 
       "text": [
        "  maps to  (19.0, 22.0, -21.0)", 
        "[-19. -22.  21.]  maps to  (-19.0, 22.0, -21.0)", 
        "[-19.  22. -21.]  maps to  (-19.0, -22.0, 21.0)", 
        "Not loading subdomains, since don&apos;t think they&apos;re needed", 
        "Loading electrostatic potential from argument", 
        "Using z=-1.000000 for the ligand", 
        "Potential range: 0.008725 - 3.122479 "
       ]
      }, 
      {
       "output_type": "stream", 
       "stream": "stdout", 
       "text": [
        "", 
        "WARNING: Your potential does not seem to cross through 0 (reguirement at outer boundary", 
        "SA: 1.485589e+04 [um^2]"
       ]
      }, 
      {
       "output_type": "stream", 
       "stream": "stdout", 
       "text": [
        "", 
        "Volume: 6.023262e+04 [um^3]", 
        "Total volume (assuming rectangular): 7.022400e+04 [um^3]", 
        "volume fraction (assuming rectangular): 8.577212e-01 [um^3]", 
        "WARNING: assuming D=1."
       ]
      }, 
      {
       "output_type": "stream", 
       "stream": "stdout", 
       "text": [
        "", 
        "Adding in electrostatic component", 
        "pmf REMOVEME 0.008725,3.122479 "
       ]
      }, 
      {
       "output_type": "stream", 
       "stream": "stdout", 
       "text": [
        "", 
        "Intfact: exp(p); 0.005166,0.985395 "
       ]
      }, 
      {
       "output_type": "stream", 
       "stream": "stdout", 
       "text": [
        "", 
        "Using amg preconditioner instead of ilu"
       ]
      }, 
      {
       "output_type": "stream", 
       "stream": "stdout", 
       "text": [
        "", 
        "Writing "
       ]
      }, 
      {
       "output_type": "stream", 
       "stream": "stdout", 
       "text": [
        " ./Molecular_unit.pvd", 
        "omegasO"
       ]
      }, 
      {
       "output_type": "stream", 
       "stream": "stdout", 
       "text": [
        "", 
        "[ 35107.72214763  32308.9939548   33280.11528427]", 
        "omegas", 
        "[ 35107.72214763  32308.9939548   33280.11528427]", 
        "Reweighting by unit cell vol", 
        "d_eff= [0.50,0.46,0.47] for d=1.00", 
        "problem.volUnitCell 70224.0", 
        "[-19. -22.  21.]"
       ]
      }, 
      {
       "output_type": "stream", 
       "stream": "stdout", 
       "text": [
        "  maps to  (19.0, 22.0, -21.0)", 
        "[-19. -22.  21.]  maps to  (-19.0, 22.0, -21.0)", 
        "[-19.  22. -21.]  maps to  (-19.0, -22.0, 21.0)", 
        "Not loading subdomains, since don&apos;t think they&apos;re needed", 
        "Loading electrostatic potential from argument", 
        "Using z=0.000000 for the ligand", 
        "Potential range: -0.000000 - -0.000000 "
       ]
      }, 
      {
       "output_type": "stream", 
       "stream": "stdout", 
       "text": [
        "", 
        "SA: 1.485589e+04 [um^2]"
       ]
      }, 
      {
       "output_type": "stream", 
       "stream": "stdout", 
       "text": [
        "", 
        "Volume: 6.023262e+04 [um^3]", 
        "Total volume (assuming rectangular): 7.022400e+04 [um^3]", 
        "volume fraction (assuming rectangular): 8.577212e-01 [um^3]", 
        "WARNING: assuming D=1."
       ]
      }, 
      {
       "output_type": "stream", 
       "stream": "stdout", 
       "text": [
        "", 
        "Adding in electrostatic component", 
        "pmf REMOVEME -0.000000,-0.000000 "
       ]
      }, 
      {
       "output_type": "stream", 
       "stream": "stdout", 
       "text": [
        "", 
        "Intfact: exp(p); 1.000000,1.000000 "
       ]
      }, 
      {
       "output_type": "stream", 
       "stream": "stdout", 
       "text": [
        "", 
        "Using amg preconditioner instead of ilu"
       ]
      }, 
      {
       "output_type": "stream", 
       "stream": "stdout", 
       "text": [
        "", 
        "Writing "
       ]
      }, 
      {
       "output_type": "stream", 
       "stream": "stdout", 
       "text": [
        " ./Molecular_unit.pvd", 
        "omegasO"
       ]
      }, 
      {
       "output_type": "stream", 
       "stream": "stdout", 
       "text": [
        "", 
        "[ 53085.4987298   54533.17781236  54186.11511853]", 
        "omegas", 
        "[ 53085.4987298   54533.17781236  54186.11511853]", 
        "Reweighting by unit cell vol", 
        "d_eff= [0.76,0.78,0.77] for d=1.00", 
        "problem.volUnitCell 70224.0", 
        "[-19. -22.  21.]"
       ]
      }, 
      {
       "output_type": "stream", 
       "stream": "stdout", 
       "text": [
        "  maps to  (19.0, 22.0, -21.0)", 
        "[-19. -22.  21.]  maps to  (-19.0, 22.0, -21.0)", 
        "[-19.  22. -21.]  maps to  (-19.0, -22.0, 21.0)", 
        "Not loading subdomains, since don&apos;t think they&apos;re needed", 
        "Loading electrostatic potential from argument", 
        "Using z=1.000000 for the ligand", 
        "Potential range: -3.122479 - -0.008725 "
       ]
      }, 
      {
       "output_type": "stream", 
       "stream": "stdout", 
       "text": [
        "", 
        "WARNING: Your potential does not seem to cross through 0 (reguirement at outer boundary", 
        "SA: 1.485589e+04 [um^2]"
       ]
      }, 
      {
       "output_type": "stream", 
       "stream": "stdout", 
       "text": [
        "", 
        "Volume: 6.023262e+04 [um^3]", 
        "Total volume (assuming rectangular): 7.022400e+04 [um^3]", 
        "volume fraction (assuming rectangular): 8.577212e-01 [um^3]", 
        "WARNING: assuming D=1."
       ]
      }, 
      {
       "output_type": "stream", 
       "stream": "stdout", 
       "text": [
        "", 
        "Adding in electrostatic component", 
        "pmf REMOVEME -3.122479,-0.008725 "
       ]
      }, 
      {
       "output_type": "stream", 
       "stream": "stdout", 
       "text": [
        "", 
        "Intfact: exp(p); 1.014822,193.555274 "
       ]
      }, 
      {
       "output_type": "stream", 
       "stream": "stdout", 
       "text": [
        "", 
        "Using amg preconditioner instead of ilu"
       ]
      }, 
      {
       "output_type": "stream", 
       "stream": "stdout", 
       "text": [
        "", 
        "Writing "
       ]
      }, 
      {
       "output_type": "stream", 
       "stream": "stdout", 
       "text": [
        " ./Molecular_unit.pvd", 
        "omegasO"
       ]
      }, 
      {
       "output_type": "stream", 
       "stream": "stdout", 
       "text": [
        "", 
        "[ 148365.65847822   86418.12657285  123884.99381389]", 
        "omegas", 
        "[ 148365.65847822   86418.12657285  123884.99381389]", 
        "Reweighting by unit cell vol", 
        "d_eff= [2.11,1.23,1.76] for d=1.00", 
        "problem.volUnitCell 70224.0", 
        "[-19. -22.  21.]"
       ]
      }, 
      {
       "output_type": "stream", 
       "stream": "stdout", 
       "text": [
        "  maps to  (19.0, 22.0, -21.0)", 
        "[-19. -22.  21.]  maps to  (-19.0, 22.0, -21.0)", 
        "[-19.  22. -21.]  maps to  (-19.0, -22.0, 21.0)", 
        "Not loading subdomains, since don&apos;t think they&apos;re needed", 
        "Loading electrostatic potential from argument", 
        "Using z=2.000000 for the ligand", 
        "Potential range: -6.244958 - -0.017450 "
       ]
      }, 
      {
       "output_type": "stream", 
       "stream": "stdout", 
       "text": [
        "", 
        "WARNING: Your potential does not seem to cross through 0 (reguirement at outer boundary", 
        "SA: 1.485589e+04 [um^2]"
       ]
      }, 
      {
       "output_type": "stream", 
       "stream": "stdout", 
       "text": [
        "", 
        "Volume: 6.023262e+04 [um^3]", 
        "Total volume (assuming rectangular): 7.022400e+04 [um^3]", 
        "volume fraction (assuming rectangular): 8.577212e-01 [um^3]", 
        "WARNING: assuming D=1."
       ]
      }, 
      {
       "output_type": "stream", 
       "stream": "stdout", 
       "text": [
        "", 
        "Adding in electrostatic component", 
        "pmf REMOVEME -6.244958,-0.017450 "
       ]
      }, 
      {
       "output_type": "stream", 
       "stream": "stdout", 
       "text": [
        "", 
        "Intfact: exp(p); 1.029863,37463.644021 "
       ]
      }, 
      {
       "output_type": "stream", 
       "stream": "stdout", 
       "text": [
        "", 
        "Using amg preconditioner instead of ilu"
       ]
      }, 
      {
       "output_type": "stream", 
       "stream": "stdout", 
       "text": [
        "", 
        "Writing "
       ]
      }, 
      {
       "output_type": "stream", 
       "stream": "stdout", 
       "text": [
        " ./Molecular_unit.pvd", 
        "omegasO"
       ]
      }, 
      {
       "output_type": "stream", 
       "stream": "stdout", 
       "text": [
        "", 
        "[ 437600.58454752  111002.89855913  235209.88858897]", 
        "omegas", 
        "[ 437600.58454752  111002.89855913  235209.88858897]", 
        "Reweighting by unit cell vol", 
        "d_eff= [6.23,1.58,3.35] for d=1.00", 
        "problem.volUnitCell 70224.0", 
        "-11.6846189527"
       ]
      }, 
      {
       "output_type": "stream", 
       "stream": "stdout", 
       "text": [
        "", 
        "Solving linear form of PBE"
       ]
      }, 
      {
       "output_type": "stream", 
       "stream": "stdout", 
       "text": [
        "", 
        "[-19. -22.  21.]"
       ]
      }, 
      {
       "output_type": "stream", 
       "stream": "stdout", 
       "text": [
        "  maps to  (19.0, 22.0, -21.0)", 
        "[-19. -22.  21.]  maps to  (-19.0, 22.0, -21.0)", 
        "[-19.  22. -21.]  maps to  (-19.0, -22.0, 21.0)", 
        "Not loading subdomains, since don&apos;t think they&apos;re needed", 
        "Loading electrostatic potential from argument", 
        "Using z=-2.000000 for the ligand", 
        "Potential range: 0.393095 - 0.539658 "
       ]
      }, 
      {
       "output_type": "stream", 
       "stream": "stdout", 
       "text": [
        "", 
        "WARNING: Your potential does not seem to cross through 0 (reguirement at outer boundary", 
        "SA: 1.485589e+04 [um^2]"
       ]
      }, 
      {
       "output_type": "stream", 
       "stream": "stdout", 
       "text": [
        "", 
        "Volume: 6.023262e+04 [um^3]", 
        "Total volume (assuming rectangular): 7.022400e+04 [um^3]", 
        "volume fraction (assuming rectangular): 8.577212e-01 [um^3]", 
        "WARNING: assuming D=1."
       ]
      }, 
      {
       "output_type": "stream", 
       "stream": "stdout", 
       "text": [
        "", 
        "Adding in electrostatic component", 
        "pmf REMOVEME 0.393095,0.539658 "
       ]
      }, 
      {
       "output_type": "stream", 
       "stream": "stdout", 
       "text": [
        "", 
        "Intfact: exp(p); 0.402505,0.515359 "
       ]
      }, 
      {
       "output_type": "stream", 
       "stream": "stdout", 
       "text": [
        "", 
        "Using amg preconditioner instead of ilu"
       ]
      }, 
      {
       "output_type": "stream", 
       "stream": "stdout", 
       "text": [
        "", 
        "Writing "
       ]
      }, 
      {
       "output_type": "stream", 
       "stream": "stdout", 
       "text": [
        " ./Molecular_unit.pvd", 
        "omegasO"
       ]
      }, 
      {
       "output_type": "stream", 
       "stream": "stdout", 
       "text": [
        "", 
        "[ 23086.32549391  23694.63695468  23578.15701895]", 
        "omegas", 
        "[ 23086.32549391  23694.63695468  23578.15701895]", 
        "Reweighting by unit cell vol", 
        "d_eff= [0.33,0.34,0.34] for d=1.00", 
        "problem.volUnitCell 70224.0", 
        "[-19. -22.  21.]"
       ]
      }, 
      {
       "output_type": "stream", 
       "stream": "stdout", 
       "text": [
        "  maps to  (19.0, 22.0, -21.0)", 
        "[-19. -22.  21.]  maps to  (-19.0, 22.0, -21.0)", 
        "[-19.  22. -21.]  maps to  (-19.0, -22.0, 21.0)", 
        "Not loading subdomains, since don&apos;t think they&apos;re needed", 
        "Loading electrostatic potential from argument", 
        "Using z=-1.000000 for the ligand", 
        "Potential range: 0.196547 - 0.269829 "
       ]
      }, 
      {
       "output_type": "stream", 
       "stream": "stdout", 
       "text": [
        "", 
        "WARNING: Your potential does not seem to cross through 0 (reguirement at outer boundary", 
        "SA: 1.485589e+04 [um^2]"
       ]
      }, 
      {
       "output_type": "stream", 
       "stream": "stdout", 
       "text": [
        "", 
        "Volume: 6.023262e+04 [um^3]", 
        "Total volume (assuming rectangular): 7.022400e+04 [um^3]", 
        "volume fraction (assuming rectangular): 8.577212e-01 [um^3]", 
        "WARNING: assuming D=1."
       ]
      }, 
      {
       "output_type": "stream", 
       "stream": "stdout", 
       "text": [
        "", 
        "Adding in electrostatic component", 
        "pmf REMOVEME 0.196547,0.269829 "
       ]
      }, 
      {
       "output_type": "stream", 
       "stream": "stdout", 
       "text": [
        "", 
        "Intfact: exp(p); 0.634433,0.717885 "
       ]
      }, 
      {
       "output_type": "stream", 
       "stream": "stdout", 
       "text": [
        "", 
        "Using amg preconditioner instead of ilu"
       ]
      }, 
      {
       "output_type": "stream", 
       "stream": "stdout", 
       "text": [
        "", 
        "Writing "
       ]
      }, 
      {
       "output_type": "stream", 
       "stream": "stdout", 
       "text": [
        " ./Molecular_unit.pvd", 
        "omegasO"
       ]
      }, 
      {
       "output_type": "stream", 
       "stream": "stdout", 
       "text": [
        "", 
        "[ 34989.68229605  35928.24325031  35724.19781027]", 
        "omegas", 
        "[ 34989.68229605  35928.24325031  35724.19781027]", 
        "Reweighting by unit cell vol", 
        "d_eff= [0.50,0.51,0.51] for d=1.00", 
        "problem.volUnitCell 70224.0", 
        "[-19. -22.  21.]"
       ]
      }, 
      {
       "output_type": "stream", 
       "stream": "stdout", 
       "text": [
        "  maps to  (19.0, 22.0, -21.0)", 
        "[-19. -22.  21.]  maps to  (-19.0, 22.0, -21.0)", 
        "[-19.  22. -21.]  maps to  (-19.0, -22.0, 21.0)", 
        "Not loading subdomains, since don&apos;t think they&apos;re needed", 
        "Loading electrostatic potential from argument", 
        "Using z=0.000000 for the ligand", 
        "Potential range: -0.000000 - -0.000000 "
       ]
      }, 
      {
       "output_type": "stream", 
       "stream": "stdout", 
       "text": [
        "", 
        "SA: 1.485589e+04 [um^2]"
       ]
      }, 
      {
       "output_type": "stream", 
       "stream": "stdout", 
       "text": [
        "", 
        "Volume: 6.023262e+04 [um^3]", 
        "Total volume (assuming rectangular): 7.022400e+04 [um^3]", 
        "volume fraction (assuming rectangular): 8.577212e-01 [um^3]", 
        "WARNING: assuming D=1."
       ]
      }, 
      {
       "output_type": "stream", 
       "stream": "stdout", 
       "text": [
        "", 
        "Adding in electrostatic component", 
        "pmf REMOVEME -0.000000,-0.000000 "
       ]
      }, 
      {
       "output_type": "stream", 
       "stream": "stdout", 
       "text": [
        "", 
        "Intfact: exp(p); 1.000000,1.000000 "
       ]
      }, 
      {
       "output_type": "stream", 
       "stream": "stdout", 
       "text": [
        "", 
        "Using amg preconditioner instead of ilu"
       ]
      }, 
      {
       "output_type": "stream", 
       "stream": "stdout", 
       "text": [
        "", 
        "Writing "
       ]
      }, 
      {
       "output_type": "stream", 
       "stream": "stdout", 
       "text": [
        " ./Molecular_unit.pvd", 
        "omegasO"
       ]
      }, 
      {
       "output_type": "stream", 
       "stream": "stdout", 
       "text": [
        "", 
        "[ 53085.4987298   54533.17781236  54186.11511853]", 
        "omegas", 
        "[ 53085.4987298   54533.17781236  54186.11511853]", 
        "Reweighting by unit cell vol", 
        "d_eff= [0.76,0.78,0.77] for d=1.00", 
        "problem.volUnitCell 70224.0", 
        "[-19. -22.  21.]"
       ]
      }, 
      {
       "output_type": "stream", 
       "stream": "stdout", 
       "text": [
        "  maps to  (19.0, 22.0, -21.0)", 
        "[-19. -22.  21.]  maps to  (-19.0, 22.0, -21.0)", 
        "[-19.  22. -21.]  maps to  (-19.0, -22.0, 21.0)", 
        "Not loading subdomains, since don&apos;t think they&apos;re needed", 
        "Loading electrostatic potential from argument", 
        "Using z=1.000000 for the ligand", 
        "Potential range: -0.269829 - -0.196547 "
       ]
      }, 
      {
       "output_type": "stream", 
       "stream": "stdout", 
       "text": [
        "", 
        "WARNING: Your potential does not seem to cross through 0 (reguirement at outer boundary", 
        "SA: 1.485589e+04 [um^2]"
       ]
      }, 
      {
       "output_type": "stream", 
       "stream": "stdout", 
       "text": [
        "", 
        "Volume: 6.023262e+04 [um^3]", 
        "Total volume (assuming rectangular): 7.022400e+04 [um^3]", 
        "volume fraction (assuming rectangular): 8.577212e-01 [um^3]", 
        "WARNING: assuming D=1."
       ]
      }, 
      {
       "output_type": "stream", 
       "stream": "stdout", 
       "text": [
        "", 
        "Adding in electrostatic component", 
        "pmf REMOVEME -0.269829,-0.196547 "
       ]
      }, 
      {
       "output_type": "stream", 
       "stream": "stdout", 
       "text": [
        "", 
        "Intfact: exp(p); 1.392981,1.576211 "
       ]
      }, 
      {
       "output_type": "stream", 
       "stream": "stdout", 
       "text": [
        "", 
        "Using amg preconditioner instead of ilu"
       ]
      }, 
      {
       "output_type": "stream", 
       "stream": "stdout", 
       "text": [
        "", 
        "Writing "
       ]
      }, 
      {
       "output_type": "stream", 
       "stream": "stdout", 
       "text": [
        " ./Molecular_unit.pvd", 
        "omegasO"
       ]
      }, 
      {
       "output_type": "stream", 
       "stream": "stdout", 
       "text": [
        "", 
        "[ 80623.35456934  82856.16976225  82277.98809153]", 
        "omegas", 
        "[ 80623.35456934  82856.16976225  82277.98809153]", 
        "Reweighting by unit cell vol", 
        "d_eff= [1.15,1.18,1.17] for d=1.00", 
        "problem.volUnitCell 70224.0", 
        "[-19. -22.  21.]"
       ]
      }, 
      {
       "output_type": "stream", 
       "stream": "stdout", 
       "text": [
        "  maps to  (19.0, 22.0, -21.0)", 
        "[-19. -22.  21.]  maps to  (-19.0, 22.0, -21.0)", 
        "[-19.  22. -21.]  maps to  (-19.0, -22.0, 21.0)", 
        "Not loading subdomains, since don&apos;t think they&apos;re needed", 
        "Loading electrostatic potential from argument", 
        "Using z=2.000000 for the ligand", 
        "Potential range: -0.539658 - -0.393095 "
       ]
      }, 
      {
       "output_type": "stream", 
       "stream": "stdout", 
       "text": [
        "", 
        "WARNING: Your potential does not seem to cross through 0 (reguirement at outer boundary", 
        "SA: 1.485589e+04 [um^2]"
       ]
      }, 
      {
       "output_type": "stream", 
       "stream": "stdout", 
       "text": [
        "", 
        "Volume: 6.023262e+04 [um^3]", 
        "Total volume (assuming rectangular): 7.022400e+04 [um^3]", 
        "volume fraction (assuming rectangular): 8.577212e-01 [um^3]", 
        "WARNING: assuming D=1."
       ]
      }, 
      {
       "output_type": "stream", 
       "stream": "stdout", 
       "text": [
        "", 
        "Adding in electrostatic component", 
        "pmf REMOVEME -0.539658,-0.393095 "
       ]
      }, 
      {
       "output_type": "stream", 
       "stream": "stdout", 
       "text": [
        "", 
        "Intfact: exp(p); 1.940395,2.484440 "
       ]
      }, 
      {
       "output_type": "stream", 
       "stream": "stdout", 
       "text": [
        "", 
        "Using amg preconditioner instead of ilu"
       ]
      }, 
      {
       "output_type": "stream", 
       "stream": "stdout", 
       "text": [
        "", 
        "Writing "
       ]
      }, 
      {
       "output_type": "stream", 
       "stream": "stdout", 
       "text": [
        " ./Molecular_unit.pvd", 
        "omegasO"
       ]
      }, 
      {
       "output_type": "stream", 
       "stream": "stdout", 
       "text": [
        "", 
        "[ 122572.35712633  126016.57121395  125067.95798746]", 
        "omegas", 
        "[ 122572.35712633  126016.57121395  125067.95798746]", 
        "Reweighting by unit cell vol", 
        "d_eff= [1.75,1.79,1.78] for d=1.00", 
        "problem.volUnitCell 70224.0", 
        "-110.294614543"
       ]
      }, 
      {
       "output_type": "stream", 
       "stream": "stdout", 
       "text": [
        "", 
        "Solving linear form of PBE"
       ]
      }, 
      {
       "output_type": "stream", 
       "stream": "stdout", 
       "text": [
        "", 
        "[-19. -22.  21.]"
       ]
      }, 
      {
       "output_type": "stream", 
       "stream": "stdout", 
       "text": [
        "  maps to  (19.0, 22.0, -21.0)", 
        "[-19. -22.  21.]  maps to  (-19.0, 22.0, -21.0)", 
        "[-19.  22. -21.]  maps to  (-19.0, -22.0, 21.0)", 
        "Not loading subdomains, since don&apos;t think they&apos;re needed", 
        "Loading electrostatic potential from argument", 
        "Using z=-2.000000 for the ligand", 
        "Potential range: 0.001402 - 5.093993 "
       ]
      }, 
      {
       "output_type": "stream", 
       "stream": "stdout", 
       "text": [
        "", 
        "WARNING: Your potential does not seem to cross through 0 (reguirement at outer boundary", 
        "SA: 1.485589e+04 [um^2]"
       ]
      }, 
      {
       "output_type": "stream", 
       "stream": "stdout", 
       "text": [
        "", 
        "Volume: 6.023262e+04 [um^3]", 
        "Total volume (assuming rectangular): 7.022400e+04 [um^3]", 
        "volume fraction (assuming rectangular): 8.577212e-01 [um^3]", 
        "WARNING: assuming D=1."
       ]
      }, 
      {
       "output_type": "stream", 
       "stream": "stdout", 
       "text": [
        "", 
        "Adding in electrostatic component", 
        "pmf REMOVEME 0.001402,5.093993 "
       ]
      }, 
      {
       "output_type": "stream", 
       "stream": "stdout", 
       "text": [
        "", 
        "Intfact: exp(p); 0.000186,0.997639 "
       ]
      }, 
      {
       "output_type": "stream", 
       "stream": "stdout", 
       "text": [
        "", 
        "Using amg preconditioner instead of ilu"
       ]
      }, 
      {
       "output_type": "stream", 
       "stream": "stdout", 
       "text": [
        "", 
        "Writing "
       ]
      }, 
      {
       "output_type": "stream", 
       "stream": "stdout", 
       "text": [
        " ./Molecular_unit.pvd", 
        "omegasO"
       ]
      }, 
      {
       "output_type": "stream", 
       "stream": "stdout", 
       "text": [
        "", 
        "[ 37401.20015163  38820.76005811  36682.70504566]", 
        "omegas", 
        "[ 37401.20015163  38820.76005811  36682.70504566]", 
        "Reweighting by unit cell vol", 
        "d_eff= [0.53,0.55,0.52] for d=1.00", 
        "problem.volUnitCell 70224.0", 
        "[-19. -22.  21.]"
       ]
      }, 
      {
       "output_type": "stream", 
       "stream": "stdout", 
       "text": [
        "  maps to  (19.0, 22.0, -21.0)", 
        "[-19. -22.  21.]  maps to  (-19.0, 22.0, -21.0)", 
        "[-19.  22. -21.]  maps to  (-19.0, -22.0, 21.0)", 
        "Not loading subdomains, since don&apos;t think they&apos;re needed", 
        "Loading electrostatic potential from argument", 
        "Using z=-1.000000 for the ligand", 
        "Potential range: 0.000701 - 2.546997 "
       ]
      }, 
      {
       "output_type": "stream", 
       "stream": "stdout", 
       "text": [
        "", 
        "WARNING: Your potential does not seem to cross through 0 (reguirement at outer boundary", 
        "SA: 1.485589e+04 [um^2]"
       ]
      }, 
      {
       "output_type": "stream", 
       "stream": "stdout", 
       "text": [
        "", 
        "Volume: 6.023262e+04 [um^3]", 
        "Total volume (assuming rectangular): 7.022400e+04 [um^3]", 
        "volume fraction (assuming rectangular): 8.577212e-01 [um^3]", 
        "WARNING: assuming D=1."
       ]
      }, 
      {
       "output_type": "stream", 
       "stream": "stdout", 
       "text": [
        "", 
        "Adding in electrostatic component", 
        "pmf REMOVEME 0.000701,2.546997 "
       ]
      }, 
      {
       "output_type": "stream", 
       "stream": "stdout", 
       "text": [
        "", 
        "Intfact: exp(p); 0.013635,0.998819 "
       ]
      }, 
      {
       "output_type": "stream", 
       "stream": "stdout", 
       "text": [
        "", 
        "Using amg preconditioner instead of ilu"
       ]
      }, 
      {
       "output_type": "stream", 
       "stream": "stdout", 
       "text": [
        "", 
        "Writing "
       ]
      }, 
      {
       "output_type": "stream", 
       "stream": "stdout", 
       "text": [
        " ./Molecular_unit.pvd", 
        "omegasO"
       ]
      }, 
      {
       "output_type": "stream", 
       "stream": "stdout", 
       "text": [
        "", 
        "[ 41834.61458878  45062.94719375  42074.82290334]", 
        "omegas", 
        "[ 41834.61458878  45062.94719375  42074.82290334]", 
        "Reweighting by unit cell vol", 
        "d_eff= [0.60,0.64,0.60] for d=1.00", 
        "problem.volUnitCell 70224.0", 
        "[-19. -22.  21.]"
       ]
      }, 
      {
       "output_type": "stream", 
       "stream": "stdout", 
       "text": [
        "  maps to  (19.0, 22.0, -21.0)", 
        "[-19. -22.  21.]  maps to  (-19.0, 22.0, -21.0)", 
        "[-19.  22. -21.]  maps to  (-19.0, -22.0, 21.0)", 
        "Not loading subdomains, since don&apos;t think they&apos;re needed", 
        "Loading electrostatic potential from argument", 
        "Using z=0.000000 for the ligand", 
        "Potential range: -0.000000 - -0.000000 "
       ]
      }, 
      {
       "output_type": "stream", 
       "stream": "stdout", 
       "text": [
        "", 
        "SA: 1.485589e+04 [um^2]"
       ]
      }, 
      {
       "output_type": "stream", 
       "stream": "stdout", 
       "text": [
        "", 
        "Volume: 6.023262e+04 [um^3]", 
        "Total volume (assuming rectangular): 7.022400e+04 [um^3]", 
        "volume fraction (assuming rectangular): 8.577212e-01 [um^3]", 
        "WARNING: assuming D=1."
       ]
      }, 
      {
       "output_type": "stream", 
       "stream": "stdout", 
       "text": [
        "", 
        "Adding in electrostatic component", 
        "pmf REMOVEME -0.000000,-0.000000 "
       ]
      }, 
      {
       "output_type": "stream", 
       "stream": "stdout", 
       "text": [
        "", 
        "Intfact: exp(p); 1.000000,1.000000 "
       ]
      }, 
      {
       "output_type": "stream", 
       "stream": "stdout", 
       "text": [
        "", 
        "Using amg preconditioner instead of ilu"
       ]
      }, 
      {
       "output_type": "stream", 
       "stream": "stdout", 
       "text": [
        "", 
        "Writing "
       ]
      }, 
      {
       "output_type": "stream", 
       "stream": "stdout", 
       "text": [
        " ./Molecular_unit.pvd", 
        "omegasO"
       ]
      }, 
      {
       "output_type": "stream", 
       "stream": "stdout", 
       "text": [
        "", 
        "[ 53085.4987298   54533.17781236  54186.11511853]", 
        "omegas", 
        "[ 53085.4987298   54533.17781236  54186.11511853]", 
        "Reweighting by unit cell vol", 
        "d_eff= [0.76,0.78,0.77] for d=1.00", 
        "problem.volUnitCell 70224.0", 
        "[-19. -22.  21.]"
       ]
      }, 
      {
       "output_type": "stream", 
       "stream": "stdout", 
       "text": [
        "  maps to  (19.0, 22.0, -21.0)", 
        "[-19. -22.  21.]  maps to  (-19.0, 22.0, -21.0)", 
        "[-19.  22. -21.]  maps to  (-19.0, -22.0, 21.0)", 
        "Not loading subdomains, since don&apos;t think they&apos;re needed", 
        "Loading electrostatic potential from argument", 
        "Using z=1.000000 for the ligand", 
        "Potential range: -2.546997 - -0.000701 "
       ]
      }, 
      {
       "output_type": "stream", 
       "stream": "stdout", 
       "text": [
        "", 
        "WARNING: Your potential does not seem to cross through 0 (reguirement at outer boundary", 
        "SA: 1.485589e+04 [um^2]"
       ]
      }, 
      {
       "output_type": "stream", 
       "stream": "stdout", 
       "text": [
        "", 
        "Volume: 6.023262e+04 [um^3]", 
        "Total volume (assuming rectangular): 7.022400e+04 [um^3]", 
        "volume fraction (assuming rectangular): 8.577212e-01 [um^3]", 
        "WARNING: assuming D=1."
       ]
      }, 
      {
       "output_type": "stream", 
       "stream": "stdout", 
       "text": [
        "", 
        "Adding in electrostatic component", 
        "pmf REMOVEME -2.546997,-0.000701 "
       ]
      }, 
      {
       "output_type": "stream", 
       "stream": "stdout", 
       "text": [
        "", 
        "Intfact: exp(p); 1.001183,73.339830 "
       ]
      }, 
      {
       "output_type": "stream", 
       "stream": "stdout", 
       "text": [
        "", 
        "Using amg preconditioner instead of ilu"
       ]
      }, 
      {
       "output_type": "stream", 
       "stream": "stdout", 
       "text": [
        "", 
        "Writing "
       ]
      }, 
      {
       "output_type": "stream", 
       "stream": "stdout", 
       "text": [
        " ./Molecular_unit.pvd", 
        "omegasO"
       ]
      }, 
      {
       "output_type": "stream", 
       "stream": "stdout", 
       "text": [
        "", 
        "[ 84774.40128589  68805.29598614  84940.81232829]", 
        "omegas", 
        "[ 84774.40128589  68805.29598614  84940.81232829]", 
        "Reweighting by unit cell vol", 
        "d_eff= [1.21,0.98,1.21] for d=1.00", 
        "problem.volUnitCell 70224.0", 
        "[-19. -22.  21.]"
       ]
      }, 
      {
       "output_type": "stream", 
       "stream": "stdout", 
       "text": [
        "  maps to  (19.0, 22.0, -21.0)", 
        "[-19. -22.  21.]  maps to  (-19.0, 22.0, -21.0)", 
        "[-19.  22. -21.]  maps to  (-19.0, -22.0, 21.0)", 
        "Not loading subdomains, since don&apos;t think they&apos;re needed", 
        "Loading electrostatic potential from argument", 
        "Using z=2.000000 for the ligand", 
        "Potential range: -5.093993 - -0.001402 "
       ]
      }, 
      {
       "output_type": "stream", 
       "stream": "stdout", 
       "text": [
        "", 
        "WARNING: Your potential does not seem to cross through 0 (reguirement at outer boundary", 
        "SA: 1.485589e+04 [um^2]"
       ]
      }, 
      {
       "output_type": "stream", 
       "stream": "stdout", 
       "text": [
        "", 
        "Volume: 6.023262e+04 [um^3]", 
        "Total volume (assuming rectangular): 7.022400e+04 [um^3]", 
        "volume fraction (assuming rectangular): 8.577212e-01 [um^3]", 
        "WARNING: assuming D=1."
       ]
      }, 
      {
       "output_type": "stream", 
       "stream": "stdout", 
       "text": [
        "", 
        "Adding in electrostatic component", 
        "pmf REMOVEME -5.093993,-0.001402 "
       ]
      }, 
      {
       "output_type": "stream", 
       "stream": "stdout", 
       "text": [
        "", 
        "Intfact: exp(p); 1.002367,5378.730636 "
       ]
      }, 
      {
       "output_type": "stream", 
       "stream": "stdout", 
       "text": [
        "", 
        "Using amg preconditioner instead of ilu"
       ]
      }, 
      {
       "output_type": "stream", 
       "stream": "stdout", 
       "text": [
        "", 
        "Writing "
       ]
      }, 
      {
       "output_type": "stream", 
       "stream": "stdout", 
       "text": [
        " ./Molecular_unit.pvd", 
        "omegasO"
       ]
      }, 
      {
       "output_type": "stream", 
       "stream": "stdout", 
       "text": [
        "", 
        "[ 123716.03132533   79032.37201306  123978.48353698]", 
        "omegas", 
        "[ 123716.03132533   79032.37201306  123978.48353698]", 
        "Reweighting by unit cell vol", 
        "d_eff= [1.76,1.13,1.77] for d=1.00", 
        "problem.volUnitCell 70224.0", 
        "-7.1722355579"
       ]
      }, 
      {
       "output_type": "stream", 
       "stream": "stdout", 
       "text": [
        "", 
        "Solving linear form of PBE"
       ]
      }, 
      {
       "output_type": "stream", 
       "stream": "stdout", 
       "text": [
        "", 
        "[-19. -22.  21.]"
       ]
      }, 
      {
       "output_type": "stream", 
       "stream": "stdout", 
       "text": [
        "  maps to  (19.0, 22.0, -21.0)", 
        "[-19. -22.  21.]  maps to  (-19.0, 22.0, -21.0)", 
        "[-19.  22. -21.]  maps to  (-19.0, -22.0, 21.0)", 
        "Not loading subdomains, since don&apos;t think they&apos;re needed", 
        "Loading electrostatic potential from argument", 
        "Using z=-2.000000 for the ligand", 
        "Potential range: 0.148994 - 0.331252 "
       ]
      }, 
      {
       "output_type": "stream", 
       "stream": "stdout", 
       "text": [
        "", 
        "WARNING: Your potential does not seem to cross through 0 (reguirement at outer boundary", 
        "SA: 1.485589e+04 [um^2]"
       ]
      }, 
      {
       "output_type": "stream", 
       "stream": "stdout", 
       "text": [
        "", 
        "Volume: 6.023262e+04 [um^3]", 
        "Total volume (assuming rectangular): 7.022400e+04 [um^3]", 
        "volume fraction (assuming rectangular): 8.577212e-01 [um^3]", 
        "WARNING: assuming D=1."
       ]
      }, 
      {
       "output_type": "stream", 
       "stream": "stdout", 
       "text": [
        "", 
        "Adding in electrostatic component", 
        "pmf REMOVEME 0.148994,0.331252 "
       ]
      }, 
      {
       "output_type": "stream", 
       "stream": "stdout", 
       "text": [
        "", 
        "Intfact: exp(p); 0.572007,0.777825 "
       ]
      }, 
      {
       "output_type": "stream", 
       "stream": "stdout", 
       "text": [
        "", 
        "Using amg preconditioner instead of ilu"
       ]
      }, 
      {
       "output_type": "stream", 
       "stream": "stdout", 
       "text": [
        "", 
        "Writing "
       ]
      }, 
      {
       "output_type": "stream", 
       "stream": "stdout", 
       "text": [
        " ./Molecular_unit.pvd", 
        "omegasO"
       ]
      }, 
      {
       "output_type": "stream", 
       "stream": "stdout", 
       "text": [
        "", 
        "[ 33756.56503513  34626.61747895  34489.82594025]", 
        "omegas", 
        "[ 33756.56503513  34626.61747895  34489.82594025]", 
        "Reweighting by unit cell vol", 
        "d_eff= [0.48,0.49,0.49] for d=1.00", 
        "problem.volUnitCell 70224.0", 
        "[-19. -22.  21.]"
       ]
      }, 
      {
       "output_type": "stream", 
       "stream": "stdout", 
       "text": [
        "  maps to  (19.0, 22.0, -21.0)", 
        "[-19. -22.  21.]  maps to  (-19.0, 22.0, -21.0)", 
        "[-19.  22. -21.]  maps to  (-19.0, -22.0, 21.0)", 
        "Not loading subdomains, since don&apos;t think they&apos;re needed", 
        "Loading electrostatic potential from argument", 
        "Using z=-1.000000 for the ligand", 
        "Potential range: 0.074497 - 0.165626 "
       ]
      }, 
      {
       "output_type": "stream", 
       "stream": "stdout", 
       "text": [
        "", 
        "WARNING: Your potential does not seem to cross through 0 (reguirement at outer boundary", 
        "SA: 1.485589e+04 [um^2]"
       ]
      }, 
      {
       "output_type": "stream", 
       "stream": "stdout", 
       "text": [
        "", 
        "Volume: 6.023262e+04 [um^3]", 
        "Total volume (assuming rectangular): 7.022400e+04 [um^3]", 
        "volume fraction (assuming rectangular): 8.577212e-01 [um^3]", 
        "WARNING: assuming D=1."
       ]
      }, 
      {
       "output_type": "stream", 
       "stream": "stdout", 
       "text": [
        "", 
        "Adding in electrostatic component", 
        "pmf REMOVEME 0.074497,0.165626 "
       ]
      }, 
      {
       "output_type": "stream", 
       "stream": "stdout", 
       "text": [
        "", 
        "Intfact: exp(p); 0.756312,0.881944 "
       ]
      }, 
      {
       "output_type": "stream", 
       "stream": "stdout", 
       "text": [
        "", 
        "Using amg preconditioner instead of ilu"
       ]
      }, 
      {
       "output_type": "stream", 
       "stream": "stdout", 
       "text": [
        "", 
        "Writing "
       ]
      }, 
      {
       "output_type": "stream", 
       "stream": "stdout", 
       "text": [
        " ./Molecular_unit.pvd", 
        "omegasO"
       ]
      }, 
      {
       "output_type": "stream", 
       "stream": "stdout", 
       "text": [
        "", 
        "[ 42292.52324671  43415.49519828  43188.41318532]", 
        "omegas", 
        "[ 42292.52324671  43415.49519828  43188.41318532]", 
        "Reweighting by unit cell vol", 
        "d_eff= [0.60,0.62,0.62] for d=1.00", 
        "problem.volUnitCell 70224.0", 
        "[-19. -22.  21.]"
       ]
      }, 
      {
       "output_type": "stream", 
       "stream": "stdout", 
       "text": [
        "  maps to  (19.0, 22.0, -21.0)", 
        "[-19. -22.  21.]  maps to  (-19.0, 22.0, -21.0)", 
        "[-19.  22. -21.]  maps to  (-19.0, -22.0, 21.0)", 
        "Not loading subdomains, since don&apos;t think they&apos;re needed", 
        "Loading electrostatic potential from argument", 
        "Using z=0.000000 for the ligand", 
        "Potential range: -0.000000 - -0.000000 "
       ]
      }, 
      {
       "output_type": "stream", 
       "stream": "stdout", 
       "text": [
        "", 
        "SA: 1.485589e+04 [um^2]"
       ]
      }, 
      {
       "output_type": "stream", 
       "stream": "stdout", 
       "text": [
        "", 
        "Volume: 6.023262e+04 [um^3]", 
        "Total volume (assuming rectangular): 7.022400e+04 [um^3]", 
        "volume fraction (assuming rectangular): 8.577212e-01 [um^3]", 
        "WARNING: assuming D=1."
       ]
      }, 
      {
       "output_type": "stream", 
       "stream": "stdout", 
       "text": [
        "", 
        "Adding in electrostatic component", 
        "pmf REMOVEME -0.000000,-0.000000 "
       ]
      }, 
      {
       "output_type": "stream", 
       "stream": "stdout", 
       "text": [
        "", 
        "Intfact: exp(p); 1.000000,1.000000 "
       ]
      }, 
      {
       "output_type": "stream", 
       "stream": "stdout", 
       "text": [
        "", 
        "Using amg preconditioner instead of ilu"
       ]
      }, 
      {
       "output_type": "stream", 
       "stream": "stdout", 
       "text": [
        "", 
        "Writing "
       ]
      }, 
      {
       "output_type": "stream", 
       "stream": "stdout", 
       "text": [
        " ./Molecular_unit.pvd", 
        "omegasO"
       ]
      }, 
      {
       "output_type": "stream", 
       "stream": "stdout", 
       "text": [
        "", 
        "[ 53085.4987298   54533.17781236  54186.11511853]", 
        "omegas", 
        "[ 53085.4987298   54533.17781236  54186.11511853]", 
        "Reweighting by unit cell vol", 
        "d_eff= [0.76,0.78,0.77] for d=1.00", 
        "problem.volUnitCell 70224.0", 
        "[-19. -22.  21.]"
       ]
      }, 
      {
       "output_type": "stream", 
       "stream": "stdout", 
       "text": [
        "  maps to  (19.0, 22.0, -21.0)", 
        "[-19. -22.  21.]  maps to  (-19.0, 22.0, -21.0)", 
        "[-19.  22. -21.]  maps to  (-19.0, -22.0, 21.0)", 
        "Not loading subdomains, since don&apos;t think they&apos;re needed", 
        "Loading electrostatic potential from argument", 
        "Using z=1.000000 for the ligand", 
        "Potential range: -0.165626 - -0.074497 "
       ]
      }, 
      {
       "output_type": "stream", 
       "stream": "stdout", 
       "text": [
        "", 
        "WARNING: Your potential does not seem to cross through 0 (reguirement at outer boundary", 
        "SA: 1.485589e+04 [um^2]"
       ]
      }, 
      {
       "output_type": "stream", 
       "stream": "stdout", 
       "text": [
        "", 
        "Volume: 6.023262e+04 [um^3]", 
        "Total volume (assuming rectangular): 7.022400e+04 [um^3]", 
        "volume fraction (assuming rectangular): 8.577212e-01 [um^3]", 
        "WARNING: assuming D=1."
       ]
      }, 
      {
       "output_type": "stream", 
       "stream": "stdout", 
       "text": [
        "", 
        "Adding in electrostatic component", 
        "pmf REMOVEME -0.165626,-0.074497 "
       ]
      }, 
      {
       "output_type": "stream", 
       "stream": "stdout", 
       "text": [
        "", 
        "Intfact: exp(p); 1.133859,1.322206 "
       ]
      }, 
      {
       "output_type": "stream", 
       "stream": "stdout", 
       "text": [
        "", 
        "Using amg preconditioner instead of ilu"
       ]
      }, 
      {
       "output_type": "stream", 
       "stream": "stdout", 
       "text": [
        "", 
        "Writing "
       ]
      }, 
      {
       "output_type": "stream", 
       "stream": "stdout", 
       "text": [
        " ./Molecular_unit.pvd", 
        "omegasO"
       ]
      }, 
      {
       "output_type": "stream", 
       "stream": "stdout", 
       "text": [
        "", 
        "[ 66756.30054862  68621.44767807  68115.92780831]", 
        "omegas", 
        "[ 66756.30054862  68621.44767807  68115.92780831]", 
        "Reweighting by unit cell vol", 
        "d_eff= [0.95,0.98,0.97] for d=1.00", 
        "problem.volUnitCell 70224.0", 
        "[-19. -22.  21.]"
       ]
      }, 
      {
       "output_type": "stream", 
       "stream": "stdout", 
       "text": [
        "  maps to  (19.0, 22.0, -21.0)", 
        "[-19. -22.  21.]  maps to  (-19.0, 22.0, -21.0)", 
        "[-19.  22. -21.]  maps to  (-19.0, -22.0, 21.0)", 
        "Not loading subdomains, since don&apos;t think they&apos;re needed", 
        "Loading electrostatic potential from argument", 
        "Using z=2.000000 for the ligand", 
        "Potential range: -0.331252 - -0.148994 "
       ]
      }, 
      {
       "output_type": "stream", 
       "stream": "stdout", 
       "text": [
        "", 
        "WARNING: Your potential does not seem to cross through 0 (reguirement at outer boundary", 
        "SA: 1.485589e+04 [um^2]"
       ]
      }, 
      {
       "output_type": "stream", 
       "stream": "stdout", 
       "text": [
        "", 
        "Volume: 6.023262e+04 [um^3]", 
        "Total volume (assuming rectangular): 7.022400e+04 [um^3]", 
        "volume fraction (assuming rectangular): 8.577212e-01 [um^3]", 
        "WARNING: assuming D=1."
       ]
      }, 
      {
       "output_type": "stream", 
       "stream": "stdout", 
       "text": [
        "", 
        "Adding in electrostatic component", 
        "pmf REMOVEME -0.331252,-0.148994 "
       ]
      }, 
      {
       "output_type": "stream", 
       "stream": "stdout", 
       "text": [
        "", 
        "Intfact: exp(p); 1.285637,1.748230 "
       ]
      }, 
      {
       "output_type": "stream", 
       "stream": "stdout", 
       "text": [
        "", 
        "Using amg preconditioner instead of ilu"
       ]
      }, 
      {
       "output_type": "stream", 
       "stream": "stdout", 
       "text": [
        "", 
        "Writing "
       ]
      }, 
      {
       "output_type": "stream", 
       "stream": "stdout", 
       "text": [
        " ./Molecular_unit.pvd", 
        "omegasO"
       ]
      }, 
      {
       "output_type": "stream", 
       "stream": "stdout", 
       "text": [
        "", 
        "[ 84102.25010274  86505.00863637  85791.18544648]", 
        "omegas", 
        "[ 84102.25010274  86505.00863637  85791.18544648]", 
        "Reweighting by unit cell vol", 
        "d_eff= [1.20,1.23,1.22] for d=1.00", 
        "problem.volUnitCell 70224.0", 
        "-86.0631807404"
       ]
      }, 
      {
       "output_type": "stream", 
       "stream": "stdout", 
       "text": [
        "", 
        "Solving linear form of PBE"
       ]
      }, 
      {
       "output_type": "stream", 
       "stream": "stdout", 
       "text": [
        "", 
        "[-19. -22.  21.]"
       ]
      }, 
      {
       "output_type": "stream", 
       "stream": "stdout", 
       "text": [
        "  maps to  (19.0, 22.0, -21.0)", 
        "[-19. -22.  21.]  maps to  (-19.0, 22.0, -21.0)", 
        "[-19.  22. -21.]  maps to  (-19.0, -22.0, 21.0)", 
        "Not loading subdomains, since don&apos;t think they&apos;re needed", 
        "Loading electrostatic potential from argument", 
        "Using z=-2.000000 for the ligand", 
        "Potential range: -0.006699 - 3.974856 "
       ]
      }, 
      {
       "output_type": "stream", 
       "stream": "stdout", 
       "text": [
        "", 
        "SA: 1.485589e+04 [um^2]"
       ]
      }, 
      {
       "output_type": "stream", 
       "stream": "stdout", 
       "text": [
        "", 
        "Volume: 6.023262e+04 [um^3]", 
        "Total volume (assuming rectangular): 7.022400e+04 [um^3]", 
        "volume fraction (assuming rectangular): 8.577212e-01 [um^3]", 
        "WARNING: assuming D=1."
       ]
      }, 
      {
       "output_type": "stream", 
       "stream": "stdout", 
       "text": [
        "", 
        "Adding in electrostatic component", 
        "pmf REMOVEME -0.006699,3.974856 "
       ]
      }, 
      {
       "output_type": "stream", 
       "stream": "stdout", 
       "text": [
        "", 
        "Intfact: exp(p); 0.001227,1.011361 "
       ]
      }, 
      {
       "output_type": "stream", 
       "stream": "stdout", 
       "text": [
        "", 
        "Using amg preconditioner instead of ilu"
       ]
      }, 
      {
       "output_type": "stream", 
       "stream": "stdout", 
       "text": [
        "", 
        "Writing "
       ]
      }, 
      {
       "output_type": "stream", 
       "stream": "stdout", 
       "text": [
        " ./Molecular_unit.pvd", 
        "omegasO"
       ]
      }, 
      {
       "output_type": "stream", 
       "stream": "stdout", 
       "text": [
        "", 
        "[ 45329.6459772   49320.06186019  45910.19976601]", 
        "omegas", 
        "[ 45329.6459772   49320.06186019  45910.19976601]", 
        "Reweighting by unit cell vol", 
        "d_eff= [0.65,0.70,0.65] for d=1.00", 
        "problem.volUnitCell 70224.0", 
        "[-19. -22.  21.]"
       ]
      }, 
      {
       "output_type": "stream", 
       "stream": "stdout", 
       "text": [
        "  maps to  (19.0, 22.0, -21.0)", 
        "[-19. -22.  21.]  maps to  (-19.0, 22.0, -21.0)", 
        "[-19.  22. -21.]  maps to  (-19.0, -22.0, 21.0)", 
        "Not loading subdomains, since don&apos;t think they&apos;re needed", 
        "Loading electrostatic potential from argument", 
        "Using z=-1.000000 for the ligand", 
        "Potential range: -0.003350 - 1.987428 "
       ]
      }, 
      {
       "output_type": "stream", 
       "stream": "stdout", 
       "text": [
        "", 
        "SA: 1.485589e+04 [um^2]"
       ]
      }, 
      {
       "output_type": "stream", 
       "stream": "stdout", 
       "text": [
        "", 
        "Volume: 6.023262e+04 [um^3]", 
        "Total volume (assuming rectangular): 7.022400e+04 [um^3]", 
        "volume fraction (assuming rectangular): 8.577212e-01 [um^3]", 
        "WARNING: assuming D=1."
       ]
      }, 
      {
       "output_type": "stream", 
       "stream": "stdout", 
       "text": [
        "", 
        "Adding in electrostatic component", 
        "pmf REMOVEME -0.003350,1.987428 "
       ]
      }, 
      {
       "output_type": "stream", 
       "stream": "stdout", 
       "text": [
        "", 
        "Intfact: exp(p); 0.035032,1.005665 "
       ]
      }, 
      {
       "output_type": "stream", 
       "stream": "stdout", 
       "text": [
        "", 
        "Using amg preconditioner instead of ilu"
       ]
      }, 
      {
       "output_type": "stream", 
       "stream": "stdout", 
       "text": [
        "", 
        "Writing "
       ]
      }, 
      {
       "output_type": "stream", 
       "stream": "stdout", 
       "text": [
        " ./Molecular_unit.pvd", 
        "omegasO"
       ]
      }, 
      {
       "output_type": "stream", 
       "stream": "stdout", 
       "text": [
        "", 
        "[ 47515.61671866  51259.21124794  48530.64550431]", 
        "omegas", 
        "[ 47515.61671866  51259.21124794  48530.64550431]", 
        "Reweighting by unit cell vol", 
        "d_eff= [0.68,0.73,0.69] for d=1.00", 
        "problem.volUnitCell 70224.0", 
        "[-19. -22.  21.]"
       ]
      }, 
      {
       "output_type": "stream", 
       "stream": "stdout", 
       "text": [
        "  maps to  (19.0, 22.0, -21.0)", 
        "[-19. -22.  21.]  maps to  (-19.0, 22.0, -21.0)", 
        "[-19.  22. -21.]  maps to  (-19.0, -22.0, 21.0)", 
        "Not loading subdomains, since don&apos;t think they&apos;re needed", 
        "Loading electrostatic potential from argument", 
        "Using z=0.000000 for the ligand", 
        "Potential range: -0.000000 - -0.000000 "
       ]
      }, 
      {
       "output_type": "stream", 
       "stream": "stdout", 
       "text": [
        "", 
        "SA: 1.485589e+04 [um^2]"
       ]
      }, 
      {
       "output_type": "stream", 
       "stream": "stdout", 
       "text": [
        "", 
        "Volume: 6.023262e+04 [um^3]", 
        "Total volume (assuming rectangular): 7.022400e+04 [um^3]", 
        "volume fraction (assuming rectangular): 8.577212e-01 [um^3]", 
        "WARNING: assuming D=1."
       ]
      }, 
      {
       "output_type": "stream", 
       "stream": "stdout", 
       "text": [
        "", 
        "Adding in electrostatic component", 
        "pmf REMOVEME -0.000000,-0.000000 "
       ]
      }, 
      {
       "output_type": "stream", 
       "stream": "stdout", 
       "text": [
        "", 
        "Intfact: exp(p); 1.000000,1.000000 "
       ]
      }, 
      {
       "output_type": "stream", 
       "stream": "stdout", 
       "text": [
        "", 
        "Using amg preconditioner instead of ilu"
       ]
      }, 
      {
       "output_type": "stream", 
       "stream": "stdout", 
       "text": [
        "", 
        "Writing "
       ]
      }, 
      {
       "output_type": "stream", 
       "stream": "stdout", 
       "text": [
        " ./Molecular_unit.pvd", 
        "omegasO"
       ]
      }, 
      {
       "output_type": "stream", 
       "stream": "stdout", 
       "text": [
        "", 
        "[ 53085.4987298   54533.17781236  54186.11511853]", 
        "omegas", 
        "[ 53085.4987298   54533.17781236  54186.11511853]", 
        "Reweighting by unit cell vol", 
        "d_eff= [0.76,0.78,0.77] for d=1.00", 
        "problem.volUnitCell 70224.0", 
        "[-19. -22.  21.]"
       ]
      }, 
      {
       "output_type": "stream", 
       "stream": "stdout", 
       "text": [
        "  maps to  (19.0, 22.0, -21.0)", 
        "[-19. -22.  21.]  maps to  (-19.0, 22.0, -21.0)", 
        "[-19.  22. -21.]  maps to  (-19.0, -22.0, 21.0)", 
        "Not loading subdomains, since don&apos;t think they&apos;re needed", 
        "Loading electrostatic potential from argument", 
        "Using z=1.000000 for the ligand", 
        "Potential range: -1.987428 - 0.003350 "
       ]
      }, 
      {
       "output_type": "stream", 
       "stream": "stdout", 
       "text": [
        "", 
        "SA: 1.485589e+04 [um^2]"
       ]
      }, 
      {
       "output_type": "stream", 
       "stream": "stdout", 
       "text": [
        "", 
        "Volume: 6.023262e+04 [um^3]", 
        "Total volume (assuming rectangular): 7.022400e+04 [um^3]", 
        "volume fraction (assuming rectangular): 8.577212e-01 [um^3]", 
        "WARNING: assuming D=1."
       ]
      }, 
      {
       "output_type": "stream", 
       "stream": "stdout", 
       "text": [
        "", 
        "Adding in electrostatic component", 
        "pmf REMOVEME -1.987428,0.003350 "
       ]
      }, 
      {
       "output_type": "stream", 
       "stream": "stdout", 
       "text": [
        "", 
        "Intfact: exp(p); 0.994367,28.544976 "
       ]
      }, 
      {
       "output_type": "stream", 
       "stream": "stdout", 
       "text": [
        "", 
        "Using amg preconditioner instead of ilu"
       ]
      }, 
      {
       "output_type": "stream", 
       "stream": "stdout", 
       "text": [
        "", 
        "Writing "
       ]
      }, 
      {
       "output_type": "stream", 
       "stream": "stdout", 
       "text": [
        " ./Molecular_unit.pvd", 
        "omegasO"
       ]
      }, 
      {
       "output_type": "stream", 
       "stream": "stdout", 
       "text": [
        "", 
        "[ 66355.35176594  60858.82277194  65538.69790467]", 
        "omegas", 
        "[ 66355.35176594  60858.82277194  65538.69790467]", 
        "Reweighting by unit cell vol", 
        "d_eff= [0.94,0.87,0.93] for d=1.00", 
        "problem.volUnitCell 70224.0", 
        "[-19. -22.  21.]"
       ]
      }, 
      {
       "output_type": "stream", 
       "stream": "stdout", 
       "text": [
        "  maps to  (19.0, 22.0, -21.0)", 
        "[-19. -22.  21.]  maps to  (-19.0, 22.0, -21.0)", 
        "[-19.  22. -21.]  maps to  (-19.0, -22.0, 21.0)", 
        "Not loading subdomains, since don&apos;t think they&apos;re needed", 
        "Loading electrostatic potential from argument", 
        "Using z=2.000000 for the ligand", 
        "Potential range: -3.974856 - 0.006699 "
       ]
      }, 
      {
       "output_type": "stream", 
       "stream": "stdout", 
       "text": [
        "", 
        "SA: 1.485589e+04 [um^2]"
       ]
      }, 
      {
       "output_type": "stream", 
       "stream": "stdout", 
       "text": [
        "", 
        "Volume: 6.023262e+04 [um^3]", 
        "Total volume (assuming rectangular): 7.022400e+04 [um^3]", 
        "volume fraction (assuming rectangular): 8.577212e-01 [um^3]", 
        "WARNING: assuming D=1."
       ]
      }, 
      {
       "output_type": "stream", 
       "stream": "stdout", 
       "text": [
        "", 
        "Adding in electrostatic component", 
        "pmf REMOVEME -3.974856,0.006699 "
       ]
      }, 
      {
       "output_type": "stream", 
       "stream": "stdout", 
       "text": [
        "", 
        "Intfact: exp(p); 0.988766,814.815638 "
       ]
      }, 
      {
       "output_type": "stream", 
       "stream": "stdout", 
       "text": [
        "", 
        "Using amg preconditioner instead of ilu"
       ]
      }, 
      {
       "output_type": "stream", 
       "stream": "stdout", 
       "text": [
        "", 
        "Writing "
       ]
      }, 
      {
       "output_type": "stream", 
       "stream": "stdout", 
       "text": [
        " ./Molecular_unit.pvd", 
        "omegasO"
       ]
      }, 
      {
       "output_type": "stream", 
       "stream": "stdout", 
       "text": [
        "", 
        "[ 79027.16284759  66670.44781078  75986.98199402]", 
        "omegas", 
        "[ 79027.16284759  66670.44781078  75986.98199402]", 
        "Reweighting by unit cell vol", 
        "d_eff= [1.13,0.95,1.08] for d=1.00", 
        "problem.volUnitCell 70224.0", 
        "-4.38783112574"
       ]
      }, 
      {
       "output_type": "stream", 
       "stream": "stdout", 
       "text": [
        "", 
        "Solving linear form of PBE"
       ]
      }, 
      {
       "output_type": "stream", 
       "stream": "stdout", 
       "text": [
        "", 
        "[-19. -22.  21.]"
       ]
      }, 
      {
       "output_type": "stream", 
       "stream": "stdout", 
       "text": [
        "  maps to  (19.0, 22.0, -21.0)", 
        "[-19. -22.  21.]  maps to  (-19.0, 22.0, -21.0)", 
        "[-19.  22. -21.]  maps to  (-19.0, -22.0, 21.0)", 
        "Not loading subdomains, since don&apos;t think they&apos;re needed", 
        "Loading electrostatic potential from argument", 
        "Using z=-2.000000 for the ligand", 
        "Potential range: 0.020557 - 0.202653 "
       ]
      }, 
      {
       "output_type": "stream", 
       "stream": "stdout", 
       "text": [
        "", 
        "WARNING: Your potential does not seem to cross through 0 (reguirement at outer boundary", 
        "SA: 1.485589e+04 [um^2]"
       ]
      }, 
      {
       "output_type": "stream", 
       "stream": "stdout", 
       "text": [
        "", 
        "Volume: 6.023262e+04 [um^3]", 
        "Total volume (assuming rectangular): 7.022400e+04 [um^3]", 
        "volume fraction (assuming rectangular): 8.577212e-01 [um^3]", 
        "WARNING: assuming D=1."
       ]
      }, 
      {
       "output_type": "stream", 
       "stream": "stdout", 
       "text": [
        "", 
        "Adding in electrostatic component", 
        "pmf REMOVEME 0.020557,0.202653 "
       ]
      }, 
      {
       "output_type": "stream", 
       "stream": "stdout", 
       "text": [
        "", 
        "Intfact: exp(p); 0.710531,0.965928 "
       ]
      }, 
      {
       "output_type": "stream", 
       "stream": "stdout", 
       "text": [
        "", 
        "Using amg preconditioner instead of ilu"
       ]
      }, 
      {
       "output_type": "stream", 
       "stream": "stdout", 
       "text": [
        "", 
        "Writing "
       ]
      }, 
      {
       "output_type": "stream", 
       "stream": "stdout", 
       "text": [
        " ./Molecular_unit.pvd", 
        "omegasO"
       ]
      }, 
      {
       "output_type": "stream", 
       "stream": "stdout", 
       "text": [
        "", 
        "[ 42509.77734292  43594.92218268  43425.5976974 ]", 
        "omegas", 
        "[ 42509.77734292  43594.92218268  43425.5976974 ]", 
        "Reweighting by unit cell vol", 
        "d_eff= [0.61,0.62,0.62] for d=1.00", 
        "problem.volUnitCell 70224.0", 
        "[-19. -22.  21.]"
       ]
      }, 
      {
       "output_type": "stream", 
       "stream": "stdout", 
       "text": [
        "  maps to  (19.0, 22.0, -21.0)", 
        "[-19. -22.  21.]  maps to  (-19.0, 22.0, -21.0)", 
        "[-19.  22. -21.]  maps to  (-19.0, -22.0, 21.0)", 
        "Not loading subdomains, since don&apos;t think they&apos;re needed", 
        "Loading electrostatic potential from argument", 
        "Using z=-1.000000 for the ligand", 
        "Potential range: 0.010278 - 0.101327 "
       ]
      }, 
      {
       "output_type": "stream", 
       "stream": "stdout", 
       "text": [
        "", 
        "WARNING: Your potential does not seem to cross through 0 (reguirement at outer boundary", 
        "SA: 1.485589e+04 [um^2]"
       ]
      }, 
      {
       "output_type": "stream", 
       "stream": "stdout", 
       "text": [
        "", 
        "Volume: 6.023262e+04 [um^3]", 
        "Total volume (assuming rectangular): 7.022400e+04 [um^3]", 
        "volume fraction (assuming rectangular): 8.577212e-01 [um^3]", 
        "WARNING: assuming D=1."
       ]
      }, 
      {
       "output_type": "stream", 
       "stream": "stdout", 
       "text": [
        "", 
        "Adding in electrostatic component", 
        "pmf REMOVEME 0.010278,0.101327 "
       ]
      }, 
      {
       "output_type": "stream", 
       "stream": "stdout", 
       "text": [
        "", 
        "Intfact: exp(p); 0.842930,0.982816 "
       ]
      }, 
      {
       "output_type": "stream", 
       "stream": "stdout", 
       "text": [
        "", 
        "Using amg preconditioner instead of ilu"
       ]
      }, 
      {
       "output_type": "stream", 
       "stream": "stdout", 
       "text": [
        "", 
        "Writing "
       ]
      }, 
      {
       "output_type": "stream", 
       "stream": "stdout", 
       "text": [
        " ./Molecular_unit.pvd", 
        "omegasO"
       ]
      }, 
      {
       "output_type": "stream", 
       "stream": "stdout", 
       "text": [
        "", 
        "[ 47450.774081    48705.29497977  48452.06454524]", 
        "omegas", 
        "[ 47450.774081    48705.29497977  48452.06454524]", 
        "Reweighting by unit cell vol", 
        "d_eff= [0.68,0.69,0.69] for d=1.00", 
        "problem.volUnitCell 70224.0", 
        "[-19. -22.  21.]"
       ]
      }, 
      {
       "output_type": "stream", 
       "stream": "stdout", 
       "text": [
        "  maps to  (19.0, 22.0, -21.0)", 
        "[-19. -22.  21.]  maps to  (-19.0, 22.0, -21.0)", 
        "[-19.  22. -21.]  maps to  (-19.0, -22.0, 21.0)", 
        "Not loading subdomains, since don&apos;t think they&apos;re needed", 
        "Loading electrostatic potential from argument", 
        "Using z=0.000000 for the ligand", 
        "Potential range: -0.000000 - -0.000000 "
       ]
      }, 
      {
       "output_type": "stream", 
       "stream": "stdout", 
       "text": [
        "", 
        "SA: 1.485589e+04 [um^2]"
       ]
      }, 
      {
       "output_type": "stream", 
       "stream": "stdout", 
       "text": [
        "", 
        "Volume: 6.023262e+04 [um^3]", 
        "Total volume (assuming rectangular): 7.022400e+04 [um^3]", 
        "volume fraction (assuming rectangular): 8.577212e-01 [um^3]", 
        "WARNING: assuming D=1."
       ]
      }, 
      {
       "output_type": "stream", 
       "stream": "stdout", 
       "text": [
        "", 
        "Adding in electrostatic component", 
        "pmf REMOVEME -0.000000,-0.000000 "
       ]
      }, 
      {
       "output_type": "stream", 
       "stream": "stdout", 
       "text": [
        "", 
        "Intfact: exp(p); 1.000000,1.000000 "
       ]
      }, 
      {
       "output_type": "stream", 
       "stream": "stdout", 
       "text": [
        "", 
        "Using amg preconditioner instead of ilu"
       ]
      }, 
      {
       "output_type": "stream", 
       "stream": "stdout", 
       "text": [
        "", 
        "Writing "
       ]
      }, 
      {
       "output_type": "stream", 
       "stream": "stdout", 
       "text": [
        " ./Molecular_unit.pvd", 
        "omegasO"
       ]
      }, 
      {
       "output_type": "stream", 
       "stream": "stdout", 
       "text": [
        "", 
        "[ 53085.4987298   54533.17781236  54186.11511853]", 
        "omegas", 
        "[ 53085.4987298   54533.17781236  54186.11511853]", 
        "Reweighting by unit cell vol", 
        "d_eff= [0.76,0.78,0.77] for d=1.00", 
        "problem.volUnitCell 70224.0", 
        "[-19. -22.  21.]"
       ]
      }, 
      {
       "output_type": "stream", 
       "stream": "stdout", 
       "text": [
        "  maps to  (19.0, 22.0, -21.0)", 
        "[-19. -22.  21.]  maps to  (-19.0, 22.0, -21.0)", 
        "[-19.  22. -21.]  maps to  (-19.0, -22.0, 21.0)", 
        "Not loading subdomains, since don&apos;t think they&apos;re needed", 
        "Loading electrostatic potential from argument", 
        "Using z=1.000000 for the ligand", 
        "Potential range: -0.101327 - -0.010278 "
       ]
      }, 
      {
       "output_type": "stream", 
       "stream": "stdout", 
       "text": [
        "", 
        "WARNING: Your potential does not seem to cross through 0 (reguirement at outer boundary", 
        "SA: 1.485589e+04 [um^2]"
       ]
      }, 
      {
       "output_type": "stream", 
       "stream": "stdout", 
       "text": [
        "", 
        "Volume: 6.023262e+04 [um^3]", 
        "Total volume (assuming rectangular): 7.022400e+04 [um^3]", 
        "volume fraction (assuming rectangular): 8.577212e-01 [um^3]", 
        "WARNING: assuming D=1."
       ]
      }, 
      {
       "output_type": "stream", 
       "stream": "stdout", 
       "text": [
        "", 
        "Adding in electrostatic component", 
        "pmf REMOVEME -0.101327,-0.010278 "
       ]
      }, 
      {
       "output_type": "stream", 
       "stream": "stdout", 
       "text": [
        "", 
        "Intfact: exp(p); 1.017484,1.186338 "
       ]
      }, 
      {
       "output_type": "stream", 
       "stream": "stdout", 
       "text": [
        "", 
        "Using amg preconditioner instead of ilu"
       ]
      }, 
      {
       "output_type": "stream", 
       "stream": "stdout", 
       "text": [
        "", 
        "Writing "
       ]
      }, 
      {
       "output_type": "stream", 
       "stream": "stdout", 
       "text": [
        " ./Molecular_unit.pvd", 
        "omegasO"
       ]
      }, 
      {
       "output_type": "stream", 
       "stream": "stdout", 
       "text": [
        "", 
        "[ 59523.05323541  61191.83404935  60739.48298272]", 
        "omegas", 
        "[ 59523.05323541  61191.83404935  60739.48298272]", 
        "Reweighting by unit cell vol", 
        "d_eff= [0.85,0.87,0.86] for d=1.00", 
        "problem.volUnitCell 70224.0", 
        "[-19. -22.  21.]"
       ]
      }, 
      {
       "output_type": "stream", 
       "stream": "stdout", 
       "text": [
        "  maps to  (19.0, 22.0, -21.0)", 
        "[-19. -22.  21.]  maps to  (-19.0, 22.0, -21.0)", 
        "[-19.  22. -21.]  maps to  (-19.0, -22.0, 21.0)", 
        "Not loading subdomains, since don&apos;t think they&apos;re needed", 
        "Loading electrostatic potential from argument", 
        "Using z=2.000000 for the ligand", 
        "Potential range: -0.202653 - -0.020557 "
       ]
      }, 
      {
       "output_type": "stream", 
       "stream": "stdout", 
       "text": [
        "", 
        "WARNING: Your potential does not seem to cross through 0 (reguirement at outer boundary", 
        "SA: 1.485589e+04 [um^2]"
       ]
      }, 
      {
       "output_type": "stream", 
       "stream": "stdout", 
       "text": [
        "", 
        "Volume: 6.023262e+04 [um^3]", 
        "Total volume (assuming rectangular): 7.022400e+04 [um^3]", 
        "volume fraction (assuming rectangular): 8.577212e-01 [um^3]", 
        "WARNING: assuming D=1."
       ]
      }, 
      {
       "output_type": "stream", 
       "stream": "stdout", 
       "text": [
        "", 
        "Adding in electrostatic component", 
        "pmf REMOVEME -0.202653,-0.020557 "
       ]
      }, 
      {
       "output_type": "stream", 
       "stream": "stdout", 
       "text": [
        "", 
        "Intfact: exp(p); 1.035274,1.407398 "
       ]
      }, 
      {
       "output_type": "stream", 
       "stream": "stdout", 
       "text": [
        "", 
        "Using amg preconditioner instead of ilu"
       ]
      }, 
      {
       "output_type": "stream", 
       "stream": "stdout", 
       "text": [
        "", 
        "Writing "
       ]
      }, 
      {
       "output_type": "stream", 
       "stream": "stdout", 
       "text": [
        " ./Molecular_unit.pvd", 
        "omegasO"
       ]
      }, 
      {
       "output_type": "stream", 
       "stream": "stdout", 
       "text": [
        "", 
        "[ 66890.83923606  68813.63765843  68242.76170333]", 
        "omegas", 
        "[ 66890.83923606  68813.63765843  68242.76170333]", 
        "Reweighting by unit cell vol", 
        "d_eff= [0.95,0.98,0.97] for d=1.00", 
        "problem.volUnitCell 70224.0"
       ]
      }
     ], 
     "prompt_number": 37
    }, 
    {
     "cell_type": "code", 
     "collapsed": false, 
     "input": [
      "np.shape(allDsNonUnif)", 
      "allDs = allDsNonUnif[:,[0,2,4]]", 
      "allDs"
     ], 
     "language": "python", 
     "outputs": [
      {
       "output_type": "pyout", 
       "prompt_number": 42, 
       "text": [
        "array([[  8.77247152e-09,   7.55945243e-01,   1.02440114e+08],", 
        "       [  1.55507819e-07,   7.55945243e-01,   6.78509955e+06],", 
        "       [  1.08062752e-04,   7.55945243e-01,   8.12140628e+04],", 
        "       [  1.75408853e-02,   7.55945243e-01,   1.32759332e+03],", 
        "       [  9.09844497e-02,   7.55945243e-01,   5.36979516e+01],", 
        "       [  4.14129610e-01,   7.55945243e-01,   6.23149613e+00],", 
        "       [  5.32598544e-01,   7.55945243e-01,   1.76173433e+00],", 
        "       [  6.45500769e-01,   7.55945243e-01,   1.12535832e+00]])"
       ]
      }
     ], 
     "prompt_number": 42
    }, 
    {
     "cell_type": "code", 
     "collapsed": false, 
     "input": [
      "print Dinert"
     ], 
     "language": "python", 
     "outputs": [
      {
       "output_type": "stream", 
       "stream": "stdout", 
       "text": [
        "[  4.62612759e-03   7.55945243e-01   1.23534921e+02]"
       ]
      }
     ], 
     "prompt_number": 70
    }, 
    {
     "cell_type": "code", 
     "collapsed": false, 
     "input": [
      "", 
      "# vs ionic strn ", 
      "plt.figure()", 
      "cols = ['r-','k','b-']", 
      "allDs = allDsNonUnif[:,[0,2,4]]", 
      "for i in range(3):", 
      "    plt.plot(ionCs,allDs[:,i],cols[i],label=\"z=%d, nonunif\" % z[i])", 
      "cols = ['r.','k.','b.']", 
      "", 
      "allDs = allDsUnif[:,[0,2,4]]", 
      "for i in range(3):", 
      "    plt.plot(ionCs,allDs[:,i],cols[i],label=\"z=%d, unif\" % z[i])", 
      "", 
      "plt.xlim([0.01,1])", 
      "plt.xscale(\"log\")", 
      "plt.yscale(\"log\")  ", 
      "plt.xlabel(\"[I] [M]\") ", 
      "plt.ylabel(\"D$_x$\")", 
      "plt.title(\"Diffusion about Troponin C\") ", 
      "plt.legend( bbox_to_anchor=(0.85,-0.2),ncol=2)", 
      "", 
      "# vs HS bound", 
      "", 
      "a = plt.axes([0.6, 0.65, .3, .2])  ", 
      "HSBound = volFrac/(2-volFrac)", 
      "Dinert = allDs[1,1]", 
      "w = 0.5", 
      "plt.bar(0,Dinert,w, color='k')", 
      "plt.bar(w,HSBound,w,color='orange')", 
      "plt.yticks(np.arange(5)*0.25)", 
      "a.set_xticks(np.arange(2)*w+0.5*w)", 
      "a.set_xticklabels( ('Actual', 'HS Bound'))", 
      "", 
      "plt.gcf().savefig(\"tnc_charge_distro.png\")"
     ], 
     "language": "python", 
     "outputs": [
      {
       "output_type": "display_data", 
       "png": "[encoded data removed]"
      }
     ], 
     "prompt_number": 85
    }, 
    {
     "cell_type": "code", 
     "collapsed": true, 
     "input": [
      "volFrac=0.7"
     ], 
     "language": "python", 
     "outputs": [], 
     "prompt_number": 45
    }, 
    {
     "cell_type": "code", 
     "collapsed": false, 
     "input": [
      "", 
      "", 
      "", 
      "", 
      "    ", 
      "i=0", 
      "cols = ['r-','r--','k','b--','b-']", 
      "if(1):", 
      "  for i in range(nLigs):", 
      "    plt.plot(ionCs,allDs[:,i],cols[i],label=\"z=%d\" % z[i])", 
      "", 
      "  plt.xscale(\"log\")", 
      "  plt.yscale(\"log\")  ", 
      "  plt.xlabel(\"[I] [M]\") ", 
      "  plt.ylabel(\"D$_x$\")", 
      "  plt.title(\"Diffusion about non-uniformly charged protein\") ", 
      "  plt.legend(loc=0)", 
      "    ", 
      "  a = plt.axes([0.6, 0.65, .3, .2])  ", 
      "#plt.figure()", 
      "", 
      "for i in range(nLigs):", 
      "  plt.plot(ionCs,allDs[:,i],cols[i],label=\"z=%d\" % z[i])", 
      "#plt.xscale(\"log\")", 
      "#plt.yscale(\"log\")  ", 
      "plt.xlim([0.05,0.3])", 
      "plt.ylim([0.8,1])", 
      "plt.yticks([0.80,0.9,1.])", 
      "plt.xticks([0.05,0.15,0.25])", 
      "    ", 
      "plt.gcf().savefig(\"real_tnc.png\") ", 
      "", 
      "", 
      "", 
      "    ", 
      "i=0", 
      "cols = ['r-','r--','k','b--','b-']", 
      "if(1):", 
      "  for i in range(nLigs):", 
      "    plt.plot(ionCs,allDs[:,i],cols[i],label=\"z=%d\" % z[i])", 
      "", 
      "  plt.xscale(\"log\")", 
      "  plt.yscale(\"log\")  ", 
      "  plt.xlabel(\"[I] [M]\") ", 
      "  plt.ylabel(\"D$_x$\")", 
      "  plt.title(\"Diffusion about non-uniformly charged protein\") ", 
      "  plt.legend(loc=0)", 
      "    ", 
      "  a = plt.axes([0.6, 0.65, .3, .2])  ", 
      "#plt.figure()", 
      "", 
      "for i in range(nLigs):", 
      "  plt.plot(ionCs,allDs[:,i],cols[i],label=\"z=%d\" % z[i])", 
      "#plt.xscale(\"log\")", 
      "#plt.yscale(\"log\")  ", 
      "plt.xlim([0.05,0.3])", 
      "plt.ylim([0.8,1])", 
      "plt.yticks([0.80,0.9,1.])", 
      "plt.xticks([0.05,0.15,0.25])", 
      "    ", 
      "plt.gcf().savefig(\"real_tnc.png\") "
     ], 
     "language": "python", 
     "outputs": [], 
     "prompt_number": 66
    }, 
    {
     "cell_type": "code", 
     "collapsed": false, 
     "input": [
      "range(nLigs)"
     ], 
     "language": "python", 
     "outputs": [], 
     "prompt_number": 22
    }, 
    {
     "cell_type": "code", 
     "collapsed": true, 
     "input": [], 
     "language": "python", 
     "outputs": [], 
     "prompt_number": "&nbsp;"
    }
   ]
  }
 ]
}