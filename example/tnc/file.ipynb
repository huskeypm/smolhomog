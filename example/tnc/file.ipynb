{
 "metadata": {
  "name": "file"
 }, 
 "nbformat": 2, 
 "worksheets": [
  {
   "cells": [
    {
     "cell_type": "code", 
     "collapsed": false, 
     "input": [
      "# for chemcca11 only", 
      "import sys", 
      "sys.path.append(\"/net/home/huskeypm/bin/grids/\")", 
      "import gamer", 
      "", 
      "makeMesh=False", 
      "if(makeMesh):", 
      "  from makeCubicMeshPDB import *", 
      "  meshFile = makePDBMesh(\"p.pdb\",molratio=1,boxdim=np.array([100,100,100]),type=\"box\")", 
      "", 
      "# naming scheme is wrong....", 
      "meshFile = \"p.xml_mesh.xml\""
     ], 
     "language": "python", 
     "outputs": [
      {
       "output_type": "stream", 
       "stream": "stdout", 
       "text": [
        "('vertices:', 25976, 'simplices:', 51952)"
       ]
      }
     ], 
     "prompt_number": 5
    }, 
    {
     "cell_type": "code", 
     "collapsed": false, 
     "input": [
      "## assign non-uniform potential ", 
      "", 
      "import poissonboltzmann as pb", 
      "import homoglight as hl", 
      "import myofibril as mf # just for PB stuff", 
      ""
     ], 
     "language": "python", 
     "outputs": [
      {
       "output_type": "pyout", 
       "prompt_number": 4, 
       "text": [
        "'p.xml'"
       ]
      }
     ], 
     "prompt_number": 4
    }, 
    {
     "cell_type": "code", 
     "collapsed": true, 
     "input": [], 
     "language": "python", 
     "outputs": []
    }
   ]
  }
 ]
}