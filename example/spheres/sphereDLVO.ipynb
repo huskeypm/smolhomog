{
 "metadata": {
  "name": "sphereDLVO"
 }, 
 "nbformat": 2, 
 "worksheets": [
  {
   "cells": [
    {
     "cell_type": "code", 
     "collapsed": true, 
     "input": [
      "%loadpy testVolFracs.py"
     ], 
     "language": "python", 
     "outputs": [], 
     "prompt_number": 1
    }, 
    {
     "cell_type": "code", 
     "collapsed": false, 
     "input": [
      "# Might be a good idea to move hmogenization/exmaple/volcracs into smolhomog", 
      "# or even just call gamer on the fly"
     ], 
     "language": "python", 
     "outputs": [], 
     "prompt_number": 1
    }, 
    {
     "cell_type": "code", 
     "collapsed": false, 
     "input": [
      "fig = plt.figure()", 
      "#axplot = fig.add_axes([0.07,0.25,0.90,0.70])", 
      "#axplot.", 
      "plt.plot(np.random.randn(100))", 
      "", 
      "#axicon = fig.add_axes([0.07+0.11*k,0.05,0.1,0.1])", 
      "axicon = fig.add_axes([0.1,0.1,0.3,0.3])", 
      "axicon.imshow(np.zeros((2,2)),interpolation='nearest')", 
      "axicon.set_xticks([])", 
      "axicon.set_yticks([])"
     ], 
     "language": "python", 
     "outputs": [
      {
       "ename": "AttributeError", 
       "evalue": "'Figure' object has no attribute 'show'", 
       "output_type": "pyerr", 
       "traceback": [
        "\u001b[0;31m---------------------------------------------------------------------------\u001b[0m\n\u001b[0;31mAttributeError\u001b[0m                            Traceback (most recent call last)", 
        "\u001b[0;32m/u2/huskeypm/Sources/smolhomog/example/spheres/<ipython-input-4-dd0c8f26fab7>\u001b[0m in \u001b[0;36m<module>\u001b[0;34m()\u001b[0m\n\u001b[1;32m      9\u001b[0m \u001b[0maxicon\u001b[0m\u001b[0;34m.\u001b[0m\u001b[0mset_xticks\u001b[0m\u001b[0;34m(\u001b[0m\u001b[0;34m[\u001b[0m\u001b[0;34m]\u001b[0m\u001b[0;34m)\u001b[0m\u001b[0;34m\u001b[0m\u001b[0m\n\u001b[1;32m     10\u001b[0m \u001b[0maxicon\u001b[0m\u001b[0;34m.\u001b[0m\u001b[0mset_yticks\u001b[0m\u001b[0;34m(\u001b[0m\u001b[0;34m[\u001b[0m\u001b[0;34m]\u001b[0m\u001b[0;34m)\u001b[0m\u001b[0;34m\u001b[0m\u001b[0m\n\u001b[0;32m---> 11\u001b[0;31m \u001b[0mfig\u001b[0m\u001b[0;34m.\u001b[0m\u001b[0mshow\u001b[0m\u001b[0;34m(\u001b[0m\u001b[0;34m)\u001b[0m\u001b[0;34m\u001b[0m\u001b[0m\n\u001b[0m\u001b[1;32m     12\u001b[0m \u001b[0;31m#fig.savefig('iconsbelow.png')\u001b[0m\n\u001b[0;34m\u001b[0m\u001b[0m\n", 
        "\u001b[0;31mAttributeError\u001b[0m: 'Figure' object has no attribute 'show'"
       ]
      }, 
      {
       "output_type": "display_data", 
       "png": "[encoded data removed]"
      }
     ], 
     "prompt_number": 4
    }, 
    {
     "cell_type": "code", 
     "collapsed": false, 
     "input": [
      "import sys", 
      "", 
      "import sys ", 
      "sys.path.append(\"/home/huskeypm/sources/smolhomog/example/\")", 
      "path = \"/home/huskeypm/sources/homogenization/example/volfracs/\"", 
      "", 
      "import numpy as np", 
      "import matplotlib.pylab as plt", 
      "#sys.path.append(\"/home/huskeypm/sources/smolfin/\")", 
      "#sys.path.append(\"/home/huskeypm/sources/homogenization/\")", 
      "", 
      "from dolfin import *", 
      "#import imp", 
      "#pb  = imp.load_source('poissonboltzmann.py', '/home/huskeypm/sources/smolfin/')", 
      "import poissonboltzmann as pb", 
      "meshName = \"meshes/volFrac_0.10.xml\"", 
      "", 
      "# quick test", 
      "#mesh = Mesh(meshName)", 
      "#import poissonboltzmann as pb", 
      "#pb.params.molRad = 12.5", 
      "#pb.params.domRad = 200", 
      "#(V,x) = pb.SolvePoissonBoltzmann(mesh,meshType=\"gamer\")", 
      "", 
      "import homoglight as hl", 
      "debug = 0", 
      "zProt = -3 # [mV]", 
      "molRad = 12.5 # [A]5 # [A] ", 
      "import caseRunner as cr", 
      "cr.dims = 3", 
      "", 
      "#import homog_w_electro as hwe", 
      "  #Dx = hwe.doit(meshFile=\"meshes/volFrac_0.10.xml\",meshType=\"gamer\")", 
      "", 
      "# molRad - radius of enzeyme ", 
      "# z - enzyme charge", 
      "# q - substrate charge ", 
      "", 
      "def CalcPMF(mesh,molRad,zLig,zProt,meshType=\"dolfin\",pmfType=\"DebyeHuckel\"):", 
      "   print \"zLig=\",zLig", 
      "   print \"zProt\",zProt", 
      "   pb.parms.zLig = zLig", 
      "   pb.parms.zProt = zProt", 
      "   pb.parms.molRad = molRad # 12.5", 
      "   pb.parms.sphericalDomainBoundary=False", 
      "   pb.parms.update()", 
      "   V=FunctionSpace(mesh,\"CG\",1) ", 
      "    ", 
      "   #", 
      "   if(pmfType==\"DebyeHuckel\"):  ", 
      "     (Vdumm,psi) = pb.SolvePoissonBoltzmann(mesh,meshType=meshType)", 
      "     pmf = Function(V)", 
      "   ", 
      "     # convert from [mV] to [kT] ", 
      "     pmf.vector()[:]= psi.vector()[:]*pb.parms.F_o_RT*pb.parms.kT", 
      "     pmf.vector()[:]= psi.vector()[:]*zLig", 
      "     pmfar = np.asarray(pmf.vector()[:])", 
      "     print \"Pmf min/max %f/%f [kT]\" %(np.min(pmfar),np.max(pmfar))", 
      "   ", 
      "   elif(pmfType==\"DLVO\"): ", 
      "     f = pb.DLVOExpr(dim=3)", 
      "     #f.interpolate(pmf.vector()[:])", 
      "     pmf = interpolate(f,V)       ", 
      "     print \"WARNING: verify units!!\"", 
      "            ", 
      "   return pmf", 
      "            ", 
      "def call(meshPrefix,zLig,volFrac,molGamer=0):", 
      "#  hwe.params.z = -1", 
      "#  hwe.pb.molRad = 12.5", 
      "#  hwe.pb.sphericalDomainBoundary=False", 
      "#  hwe.params.molRad = 12.5", 
      "#  hwe.params.sphericalDomainBoundary=False", 
      "#  hwe.params.q=1.", 
      "", 
      "", 
      "  # mesh ", 
      "  meshName = meshPrefix+\"_mesh.xml.gz\"", 
      "  mesh = Mesh(meshName)", 
      "", 
      "  #  potential of mean force [kT] ", 
      "  #psi = CalcPMF(mesh,molRad,z,q,meshType=\"gamer\")", 
      "  pmf = CalcPMF(mesh,molRad,zLig,zProt,pmfType=\"DLVO\")", 
      "     ", 
      "  ", 
      "  # double check size just in case", 
      "  mn = np.min(mesh.coordinates(),axis=0)", 
      "  mx = np.max(mesh.coordinates(),axis=0)", 
      "  boxVol = np.prod(mx-mn)", 
      "  sphereVol = 4/3.*np.pi*(molRad**3)", 
      "  print meshName", 
      "  print \"Vol frac %f vs %f \" % (sphereVol/boxVol,volFrac)", 
      "", 
      "", 
      "  #molDomUnit.smolMode = smolMode", 
      "  #solve_homogeneous_unit(molDomUnit,type=\"field\",debug=debug,smolMode=smolMode)", 
      "  #homog.SolveHomogSystem(molPrefix=meshPrefix,molGamer=molGamer)  ", 
      "  #quit()", 
      "  #results = homog.SolveHomogSystem(molPrefix=meshPrefix,molGamer=molGamer,\\", 
      "  #  smolMode=True,smolPsi=pmf,smolq = zLig)", 
      "    ", 
      "  # Note: We use q=1 here since we are expecting potentials in units", 
      "  #       of [kT], e.g. already multiplied by zLig ", 
      "  results = hl.runHomog(fileXML=meshName,psi=pmf,q=1.,smolMode=True)", 
      "  Dx = results.d_eff[0]", 
      "", 
      "  #(V,x) = pb.SolvePoissonBoltzmann(mesh)", 
      "  # do electro homog", 
      "  # store value", 
      "  #results[i,j] = np.random.rand() +  i*j", 
      "", 
      "  # moleculardomain.q =q ", 
      "  # moleculardomain.psi = psi", 
      "  ", 
      "  print \"USe volume frac from homog calc\"  ", 
      "  #Dx = hwe.doit(meshFile=meshName, meshType=\"gamer\")", 
      "  return Dx", 
      "  ", 
      "  ", 
      "def validation():", 
      "  meshPrefix = \"example/volfracs/volFrac_0.10\" ", 
      "  meshPrefix = path+\"volFrac_0.10\" ", 
      "  volFrac = 0.1", 
      "  zLig=1", 
      "  zLig=-1", 
      "  valuep =  call(meshPrefix,zLig,volFrac,molGamer=0)             ", 
      "  quit()", 
      "  zLig=0", 
      "  value0 =  call(meshPrefix,zLig,volFrac,molGamer=0)             ", 
      "  zLig=-1", 
      "  valuen =  call(meshPrefix,zLig,volFrac,molGamer=0)             ", 
      "  #value130404=0.535335", 
      "  value130520=0.55234253        ", 
      "", 
      "  print \"sphere, neutral \", value0", 
      "  print \"sphere, positive \", valuep", 
      "  print \"sphere, negative \", valuen", 
      "", 
      "  assert(np.abs(valuep-value130520) < 0.001), \"RESULT CHANGED. DO NOT COMMIT\"", 
      "", 
      "", 
      "", 
      "", 
      "def doit(asdf):", 
      "  ## params ", 
      "", 
      "  volFracs = np.array([0.1,0.2,0.27,0.34,0.5])", 
      "  #meshes = np.array([0.1,0.2,0.27,0.34,0.5])", 
      "  meshes = volFracs", 
      "  # kappa hard coded into PB solver", 
      "  qs = np.array([-2,-1,0,1,2])", 
      "  #qs = np.array([-1,0])           ", 
      "  ", 
      "  ", 
      "  if(debug==1):", 
      "    qs=[0]", 
      "    volFracs=[0.1]", 
      "    #qs=[2]", 
      "    volFracs=[0.27]", 
      "    meshes = volFracs", 
      "", 
      "  results = np.zeros([ np.shape(volFracs)[0], np.shape(qs)[0] ])", 
      "  ", 
      "  for i, volFrac in enumerate(volFracs):", 
      "    for j, q in enumerate(qs):", 
      "      #meshName = \"meshes/volFrac_%4.2f.xml\" % meshes[i]", 
      "      #meshName = \"meshes/volFrac_%4.2f_mesh.xml.gz\" % meshes[i]", 
      "      #meshPrefix= \"example/volfracs/volFrac_%4.2f\" % meshes[i]  ", 
      "      meshPrefix= path+\"/volFrac_%4.2f\" % meshes[i]", 
      "      #molGamer = 1", 
      "      molGamer = 0", 
      "      results[i,j] = call(meshPrefix,q,volFrac,molGamer=molGamer)", 
      "", 
      "  print \"WARNING: should obtain these directly from sims, not ests\"", 
      "  volFracActual = 1-volFracs", 
      "", 
      "  #if(debug==1):", 
      "  #  return", 
      "  ", 
      "  ", 
      "  plt.figure()", 
      "  col = [\"r--\",\"r-\",\"k-\",\"b-\",\"b--\"]", 
      "  for j, q in enumerate(qs):", 
      "    label = \"zLig= %d \" % q", 
      "    plt.plot(volFracActual,results[:,j], col[j],label=label)", 
      "  ", 
      "  title=\"Protein with DLVO interactions (zProtein=%d)\"\\", 
      "     % zProt", 
      "  plt.title(title)", 
      "  plt.xlabel(\"$\\phi$\")", 
      "  plt.ylabel(\"D\")", 
      "  plt.legend(loc=0)", 
      "  ", 
      "  plt.gcf().savefig(\"volfrac.png\")", 
      "  ", 
      "", 
      "", 
      "", 
      "", 
      "", 
      "", 
      "", 
      "", 
      "import sys", 
      "#", 
      "# Revisions", 
      "#       10.08.10 inception", 
      "#", 
      "", 
      "", 
      "if __name__ == \"__main__\":", 
      "  import sys", 
      "  scriptName= sys.argv[0]", 
      "  msg=\"\"\"", 
      "Purpose: ", 
      "  Compute diffusion constant for a variety of geometries ", 
      " ", 
      "Usage:", 
      "\"\"\"", 
      "  msg+=\"  %s -debug/-validation\" % (scriptName)", 
      "  msg+=\"\"\"", 
      "  ", 
      " ", 
      "Notes:", 
      "", 
      "\"\"\"", 
      "  remap = \"none\"", 
      "", 
      "  if len(sys.argv) < 2:", 
      "      raise RuntimeError(msg)", 
      "", 
      "  fileIn= sys.argv[1]", 
      "  if(len(sys.argv)==3):", 
      "    print \"arg\"", 
      "", 
      "  for i,arg in enumerate(sys.argv):", 
      "    if(arg==\"-debug\"):", 
      "      debug=1", 
      "    if(arg==\"-validation\"):", 
      "      validation()", 
      "      quit()", 
      "    if(arg==\"-run\"): ", 
      "      doit(fileIn)", 
      "      quit()  ", 
      "if(1):", 
      "  meshPrefix = path+\"/volFrac_0.10\"       ", 
      "  volFrac = 0.1", 
      "  zLig=1", 
      "  zLig=-1", 
      "  valuep =  call(meshPrefix,zLig,volFrac,molGamer=0) "
     ], 
     "language": "python", 
     "outputs": [
      {
       "output_type": "stream", 
       "stream": "stdout", 
       "text": [
        "zLig= -1", 
        "zProt -3", 
        "WARNING: this is not validated (z^2 due to prot*lig?)!!", 
        "WARNING: verify units!!", 
        "/home/huskeypm/sources/homogenization/example/volfracs//volFrac_0.10_mesh.xml.gz", 
        "Vol frac 0.100000 vs 0.100000 ", 
        "[-21.705822 -21.705822  21.705822]  maps to  (21.705822000000001, 21.705822000000001, -21.705822000000001)", 
        "[-21.705822 -21.705822  21.705822]  maps to  (-21.705822000000001, 21.705822000000001, -21.705822000000001)", 
        "[-21.705822  21.705822 -21.705822]  maps to  (-21.705822000000001, -21.705822000000001, 21.705822000000001)", 
        "Not loading subdomains, since don't think they're needed", 
        "Loading electrostatic potential from argument", 
        "Using z=1.000000 for the ligand", 
        "Potential range: 14515.365945 - 1058232.254163 ", 
        "WARNING: Your potential does not seem to cross through 0 (reguirement at outer boundary", 
        "Encountered 1984 values with very high PMF values/consider thresholding", 
        "SA: 1.324620e+04 [um^2]"
       ]
      }, 
      {
       "output_type": "stream", 
       "stream": "stdout", 
       "text": [
        "", 
        "Volume: 7.382090e+04 [um^3]", 
        "Total volume (assuming rectangular): 8.181232e+04 [um^3]", 
        "volume fraction (assuming rectangular): 9.023201e-01 [um^3]", 
        "WARNING: assuming D=1."
       ]
      }, 
      {
       "output_type": "stream", 
       "stream": "stdout", 
       "text": [
        "", 
        "Adding in electrostatic component", 
        "pmf REMOVEME 14515.365945,1058232.254163 ", 
        "Intfact: exp(p); 0.000000,0.000000 "
       ]
      }, 
      {
       "output_type": "stream", 
       "stream": "stdout", 
       "text": [
        "", 
        "Using amg preconditioner instead of ilu", 
        "Writing "
       ]
      }, 
      {
       "output_type": "stream", 
       "stream": "stdout", 
       "text": [
        " ./Molecular_unit.pvd", 
        "omegasO"
       ]
      }, 
      {
       "output_type": "stream", 
       "stream": "stdout", 
       "text": [
        "", 
        "[ 0.  0.  0.]", 
        "omegas", 
        "[ 0.  0.  0.]", 
        "Reweighting by unit cell vol", 
        "d_eff= [0.00,0.00,0.00] for d=1.00", 
        "problem.volUnitCell 81812.3181724", 
        "USe volume frac from homog calc"
       ]
      }
     ], 
     "prompt_number": 13
    }, 
    {
     "cell_type": "code", 
     "collapsed": false, 
     "input": [], 
     "language": "python", 
     "outputs": [
      {
       "output_type": "stream", 
       "stream": "stdout", 
       "text": [
        "zLig= -1", 
        "zProt -3", 
        "WARNING: this is not validated (z^2 due to prot*lig?)!!", 
        "WARNING: verify units!!", 
        "/home/huskeypm/sources/homogenization/example/volfracs//volFrac_0.10_mesh.xml.gz", 
        "Vol frac 0.100000 vs 0.100000 ", 
        "[-21.705822 -21.705822  21.705822]  maps to  (21.705822000000001, 21.705822000000001, -21.705822000000001)", 
        "[-21.705822 -21.705822  21.705822]  maps to  (-21.705822000000001, 21.705822000000001, -21.705822000000001)", 
        "[-21.705822  21.705822 -21.705822]  maps to  (-21.705822000000001, -21.705822000000001, 21.705822000000001)", 
        "Not loading subdomains, since don't think they're needed", 
        "Loading electrostatic potential from argument", 
        "Using z=1.000000 for the ligand", 
        "Potential range: 14515.365945 - 1058232.254163 "
       ]
      }, 
      {
       "output_type": "stream", 
       "stream": "stdout", 
       "text": [
        "", 
        "WARNING: Your potential does not seem to cross through 0 (reguirement at outer boundary", 
        "Encountered 1984 values with very high PMF values/consider thresholding", 
        "SA: 1.324620e+04 [um^2]"
       ]
      }, 
      {
       "output_type": "stream", 
       "stream": "stdout", 
       "text": [
        "", 
        "Volume: 7.382090e+04 [um^3]", 
        "Total volume (assuming rectangular): 8.181232e+04 [um^3]", 
        "volume fraction (assuming rectangular): 9.023201e-01 [um^3]", 
        "WARNING: assuming D=1."
       ]
      }, 
      {
       "output_type": "stream", 
       "stream": "stdout", 
       "text": [
        "", 
        "Adding in electrostatic component", 
        "pmf REMOVEME 14515.365945,1058232.254163 ", 
        "Intfact: exp(p); 0.000000,0.000000 "
       ]
      }, 
      {
       "output_type": "stream", 
       "stream": "stdout", 
       "text": [
        "", 
        "Using amg preconditioner instead of ilu", 
        "Writing "
       ]
      }, 
      {
       "output_type": "stream", 
       "stream": "stdout", 
       "text": [
        " ./Molecular_unit.pvd", 
        "omegasO"
       ]
      }, 
      {
       "output_type": "stream", 
       "stream": "stdout", 
       "text": [
        "", 
        "[ 0.  0.  0.]", 
        "omegas", 
        "[ 0.  0.  0.]", 
        "Reweighting by unit cell vol", 
        "d_eff= [0.00,0.00,0.00] for d=1.00", 
        "problem.volUnitCell 81812.3181724", 
        "USe volume frac from homog calc"
       ]
      }
     ], 
     "prompt_number": 11
    }, 
    {
     "cell_type": "code", 
     "collapsed": false, 
     "input": [
      "# worked example 14.5, Israelachvilie Surface Forces book", 
      "# W(D) = 0.5 R Z exp(-kappa D) - A*R/12D", 
      "print \"WARNING: NEED TO DOUBLE CHECK THAT THIS IS THE CORRECT VDW TERM\"", 
      "print \"WARNING: DLVO stuff is for LIKE charged surface, not opposite\"", 
      "print \"So what i have is a hack\"", 
      "nm_to_m = 1e-9", 
      "R=0.1e-6; # particle diam, [m]", 
      "A = 1e-20 # Hamaker [J]", 
      "#NOT NEEDED psi0=24.5 # [mV]", 
      "#NOT NEEDED iKappa = 0.95 # [nm] in 100 mM NaCl", 
      "#NOT NEEDED kappa = 1/iKappa", 
      "zLig = 1", 
      "#mine", 
      "ionC = 0.1 # [M] ", 
      "iKappa =0.304/np.sqrt(ionC); kappa = 1/iKappa", 
      "", 
      "Dnm = np.linspace(0.1,8,80) # [nm]", 
      "#Dnm= 0.25", 
      "def DLVO(Dnm,psi0=24.5,z=1):", 
      "  D = Dnm*nm_to_m # D [m]", 
      "  # if validating against Israelach, use 9.38e-11 and psi0/107 for T=38", 
      "  absz = np.abs(z)", 
      "  signz=np.sign(z)  # THIS IS NOT CORRECT!!!!", 
      "  Z = signz*9.22e-11 *np.tanh(absz*psi0/103)**2   # [J/m] at T = 25 C ", 
      "  W1 = 0.5*R*Z*np.exp(-kappa*Dnm)", 
      "", 
      "  # NEED TO DOUBLE CHECK THAT THIS IS THE CORRECT VDW TERM ", 
      "  #W2 = A*R/12e-9 #/(12*D)", 
      "  W2 = A*R/(12*D)", 
      "  W = W1-W2", 
      "  #print W1,W2,W", 
      "  return W", 
      "", 
      "vW=np.vectorize(DLVO,otypes=[float])", 
      "", 
      "## get sigmas from potentials so we can ", 
      "# adjust poetntial based on ionic str.", 
      "israelsPsi0s =np.array([0,14.5,24.5,34.5])", 
      "# Graham equation", 
      "sigmas= 0.117*np.sqrt(ionC)*np.sinh(israelsPsi0s/51.4)", 
      "         ", 
      "fig = plt.figure()", 
      "ax = fig.add_subplot(111)", 
      "", 
      "cols=['r','b']", 
      "styles=['-','--','-.','.']", 
      "for j,z in enumerate([-1,1]):", 
      "  for i,sigma in enumerate(sigmas):", 
      "    psi0=pb.Grahame(sigma,ionC)  ", 
      "    ax.plot(Dnm,vW(Dnm,psi0,z),cols[j]+styles[i],\\", 
      "            label=\"%4.1f [mV], z=%d\" %(psi0,z))", 
      "", 
      "ax.set_ylim([-1.5e-19,1.5e-19])", 
      "ax.set_ylabel(\"W [J]\")", 
      "ax.set_xlabel(\"D [nm]\")", 
      "plt.legend(loc=1)", 
      "plt.title(\"DLVO for particles of size 0.1 um\")", 
      "#ax.xaxis.set_ticks([1.,2.,3.,10.])", 
      "ax.grid(True)"
     ], 
     "language": "python", 
     "outputs": [
      {
       "output_type": "stream", 
       "stream": "stdout", 
       "text": [
        "WARNING: DLVO stuff is for LIKE charged surface, not opposite", 
        "So what i have is a hack"
       ]
      }, 
      {
       "output_type": "display_data", 
       "png": "[encoded data removed]"
      }
     ], 
     "prompt_number": 94
    }, 
    {
     "cell_type": "code", 
     "collapsed": false, 
     "input": [
      "# when making DLVO for lipid, try to use this code ", 
      "print sigmas"
     ], 
     "language": "python", 
     "outputs": [
      {
       "output_type": "stream", 
       "stream": "stdout", 
       "text": [
        "[-0.02674085 -0.01831097  0.          0.01057635  0.01831097  0.02674085]"
       ]
      }
     ], 
     "prompt_number": 85
    }, 
    {
     "cell_type": "code", 
     "collapsed": false, 
     "input": [
      "np.tanh(1)"
     ], 
     "language": "python", 
     "outputs": [
      {
       "output_type": "pyout", 
       "prompt_number": 87, 
       "text": [
        "0.76159415595576485"
       ]
      }
     ], 
     "prompt_number": 87
    }, 
    {
     "cell_type": "code", 
     "collapsed": true, 
     "input": [], 
     "language": "python", 
     "outputs": []
    }
   ]
  }
 ]
}