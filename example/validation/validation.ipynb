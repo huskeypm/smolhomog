{
 "metadata": {
  "name": "validation"
 }, 
 "nbformat": 2, 
 "worksheets": [
  {
   "cells": [
    {
     "cell_type": "markdown", 
     "source": [
      "Create mesh"
     ]
    }, 
    {
     "cell_type": "code", 
     "collapsed": false, 
     "input": [
      "# rad ", 
      "radiusM = 1*10e-8 # [m], Bourbatache", 
      "boxDiamM = 2*10e-8 # [m], based on Fig 2 ", 
      "radius = radiusM*10e8", 
      "boxDiam  = boxDiamM*10e8", 
      "", 
      "#geo", 
      "geoFile = \"cylinder.geo\"", 
      "import os", 
      "cmd = 'gmsh -2 %s' % geoFile", 
      "os.system(cmd)", 
      "#xml", 
      "", 
      "mshFile = geoFile.replace('geo','msh')", 
      "meshFile = geoFile.replace('geo','xml')", 
      "cmd = '/home/huskeypm/sources/bin/dolfin-convert %s %s' % (mshFile, meshFile)", 
      "os.system(cmd)"
     ], 
     "language": "python", 
     "outputs": [
      {
       "output_type": "pyout", 
       "prompt_number": 10, 
       "text": [
        "0"
       ]
      }
     ], 
     "prompt_number": 10
    }, 
    {
     "cell_type": "code", 
     "collapsed": true, 
     "input": [
      "#%loadpy /home/huskeypm/bin/dolfin/template.py"
     ], 
     "language": "python", 
     "outputs": [], 
     "prompt_number": 7
    }, 
    {
     "cell_type": "code", 
     "collapsed": false, 
     "input": [
      "from dolfin import *", 
      "", 
      "# Define Dirichlet boundary (x = 0 or x = 1)", 
      "class outerBoundary(SubDomain):", 
      "  def inside(self,x,on_boundary):", 
      "    outer  = np.linalg.norm(x)> (radius + DOLFIN_EPS)", 
      "    return outer and on_boundary", 
      "", 
      "# Define Dirichlet boundary (x = 0 or x = 1)", 
      "class innerBoundary(SubDomain):", 
      "  def inside(self,x,on_boundary):", 
      "    inner  = np.linalg.norm(x)< (radius + DOLFIN_EPS)", 
      "    return inner and on_boundary", 
      "", 
      "# Create mesh and define function space", 
      "def doit():", 
      " ", 
      "  # Create mesh and define function space", 
      "  mesh = Mesh(meshFile)", 
      "  V = FunctionSpace(mesh, \"Lagrange\", 1)", 
      "", 
      "  # Define boundary condition", 
      "  dim = 2", 
      "  subdomains = MeshFunction(\"uint\",mesh,dim-1)", 
      "  boundary = outerBoundary()", 
      "  outermarker = 2", 
      "  boundary.mark(subdomains,outermarker)", 
      "  boundary = innerBoundary()", 
      "  innermarker = 3", 
      "  boundary.mark(subdomains,innermarker)", 
      "  ds = Measure(\"ds\")[subdomains] ", 
      "", 
      "  # save ", 
      "  File(\"subdomain.xml.gz\") << subdomains", 
      "  ", 
      "  bcs = []", 
      "  u0 = Constant(1.0)", 
      "  bcs.append(DirichletBC(V, u0, subdomains,outermarker))", 
      "  u0 = Constant(0.0)", 
      "  bcs.append(DirichletBC(V, u0, subdomains,innermarker))", 
      "  ", 
      "  ", 
      "  # Define variational problem", 
      "  u = TrialFunction(V)", 
      "  v = TestFunction(V)", 
      "  ", 
      "  # funky conditions ", 
      "  #f = Expression(\"10*exp(-(pow(x[0] - 0.5, 2) + pow(x[1] - 0.5, 2)) / 0.02)\")", 
      "  #g = Expression(\"sin(5*x[0])\")", 
      "  p = Expression(\"x[0]*x[1]\") ", 
      "  # could pass p directly as expression, but here I interpolate to array", 
      "  # to support user-provided coefs. ", 
      "  pv = Function(V)", 
      "  pv.interpolate(p)", 
      "  f = 0", 
      "  g = 0", 
      "  #p = Constant(2.0) ", 
      "  form = pv * inner(grad(u), grad(v))*dx", 
      "  form += f*v*dx + g*v*ds(outermarker)", 
      "", 
      "  # Compute solution", 
      "  a = lhs(form)", 
      "  L = rhs(form)", 
      "  x = Function(V)", 
      "  solve(a == L, x, bcs)", 
      "  # F = a", 
      "  # problem = NonlinearVariationalProblem(F, x, bcs=bc, J=J)", 
      "  # solver = NonlinearVariationalSolver(problem)", 
      "  #solver.parameters[\"linear_solver\"] = \"gmres\"", 
      "  #solver.parameters[\"preconditioner\"] = \"ilu\"", 
      "  #solver.solve()", 
      "", 
      "", 
      "  File(\"out.pvd\") << x", 
      "  import numpy as np ", 
      "  print \"L2 norm \", norm(x,\"l2\")", 
      "  ", 
      "  ", 
      "  ### EXTRAS", 
      "  # extract values from boundary", 
      "  out = []", 
      "  #for cell_no in range(len(subdomains.array())):", 
      "  #    subdomain_no = subdomains.array()[cell_no]", 
      "  ##    if(subdomain_no==marker):", 
      "  #      print x.vector()[cell_no]", 
      "  #    #print x.vector()[subdomain_no]", 
      "  ", 
      "  # extract boundary values from previous solution and use in a new solution", 
      "  #bc2 = DirichletBC(V,x,boundary)", 
      "  #x2 = Function(V)", 
      "  #solve(a==L,x2,bc2)", 
      "", 
      "  return x", 
      "", 
      "#sphere", 
      "if __name__ == \"__main__\":", 
      "  msg=\"Purpose: To test messh\"", 
      "  msg=msg+\"Usage: \"", 
      "  msg=msg+\".py <file.xml/-validate>\"", 
      "  msg=msg+\"Notes:\"", 
      "  remap = \"none\"", 
      "", 
      "", 
      "", 
      "  mode = \"none\"", 
      "  import sys", 
      "  if len(sys.argv) < 2:", 
      "      raise RuntimeError(msg)", 
      "", 
      "  fileIn= sys.argv[1]", 
      "  if(len(sys.argv)==3):", 
      "    print \"arg\"", 
      "", 
      "  for i,arg in enumerate(sys.argv):", 
      "    if(arg==\"-gamer\"):", 
      "      dolf=0", 
      "    if(arg==\"-validate\"):", 
      "      mode=\"-validate\"", 
      "", 
      " "
     ], 
     "language": "python", 
     "outputs": [], 
     "prompt_number": 18
    }, 
    {
     "cell_type": "code", 
     "collapsed": false, 
     "input": [
      "doit()"
     ], 
     "language": "python", 
     "outputs": [
      {
       "output_type": "stream", 
       "stream": "stdout", 
       "text": [
        "L2 norm  0.278987587995"
       ]
      }, 
      {
       "output_type": "pyout", 
       "prompt_number": 19, 
       "text": [
        "Coefficient(FiniteElement('Lagrange', Cell('triangle', Space(2)), 1, None), 9)"
       ]
      }
     ], 
     "prompt_number": 19
    }, 
    {
     "cell_type": "code", 
     "collapsed": true, 
     "input": [], 
     "language": "python", 
     "outputs": []
    }
   ]
  }
 ]
}