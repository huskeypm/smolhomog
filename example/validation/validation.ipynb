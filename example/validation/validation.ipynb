{
 "metadata": {
  "name": "validation"
 }, 
 "nbformat": 2, 
 "worksheets": [
  {
   "cells": [
    {
     "cell_type": "code", 
     "collapsed": true, 
     "input": [
      "# Validation of figure 2 in Bourbatache"
     ], 
     "language": "python", 
     "outputs": [], 
     "prompt_number": 2
    }, 
    {
     "cell_type": "code", 
     "collapsed": true, 
     "input": [
      "%loadpy valid.py"
     ], 
     "language": "python", 
     "outputs": [], 
     "prompt_number": 84
    }, 
    {
     "cell_type": "code", 
     "collapsed": false, 
     "input": [
      "", 
      "import sys", 
      "sys.path.append(\"/net/home/huskeypm/Sources/modified-pb/example\")", 
      "sys.path.append(\"/home/huskeypm/sources/modified-pb/example\")", 
      "sys.path.append(\"/home/huskeypm/sources/smolhomog/example/noobstacle/\")", 
      "sys.path.append(\"/net/home/huskeypm/Sources/smolhomog/example/noobstacle/\")", 
      "sys.path.append(\"/home/huskeypm/sources/smolhomog/example/noobstacle/\")", 
      "import testing as test", 
      "", 
      "import poissonboltzmann as pb", 
      "", 
      "#", 
      "# Still in development ", 
      "#", 
      "from dolfin import *", 
      "import matplotlib.pyplot as plt", 
      "import sys", 
      "import numpy as np", 
      "import poissonboltzmann as pb", 
      "parms = pb.parms", 
      "", 
      "parms.res =3       ", 
      "m_to_A = 1e10", 
      " ", 
      "z = -1.  # lig charge    [Chloride]", 
      "    ", 
      "F=96485.3365 # Faradays constant [C/mol]", 
      "R = 8.3143   # Gas const [J/mol K] ", 
      "T = 298.     # Temp [K] ", 
      "RT_o_F=(R*T)/F*1e3  # [mV]   ", 
      "print RT_o_F", 
      "Fz_o_RT=z/RT_o_F     # [1/mV] ", 
      "", 
      "import buildMesh   ", 
      "", 
      "from scipy.interpolate import griddata", 
      "", 
      "", 
      "print \"WARNING: should compare PB results against soln in cylinderical coords\"", 
      "print \"WARNING: using Grahame eqn, which is valid for planes, not cylinders\"", 
      "", 
      "# for interpolating solutions onto 2d mesh ", 
      "def interp2d(mesh,x,mode=\"line\"):", 
      "      maxr = parms.domRad    ", 
      "      minr = -parms.domRad    ", 
      "      if(mode==\"line\"):   ", 
      "        res = 10000", 
      "        (gx,gy) = np.mgrid[0:0:1j,minr:maxr:res*1j]", 
      "        interp = griddata(mesh.coordinates(),x.vector(),(gx,gy))", 
      "        interp[np.isnan(interp)]=0", 
      "        interp = np.reshape(interp,res)", 
      "        gy = np.reshape(gy,res)", 
      "", 
      "        return gy,interp", 
      "", 
      "      if(mode==\"plane\"):# quarter plane", 
      "        res = 1000", 
      "        (gx,gy) = np.mgrid[0:maxr:res*1j,0:maxr:res*1j]", 
      "        interp = griddata(mesh.coordinates(),x.vector(),(gx,gy))", 
      "        interp[np.isnan(interp)]=0", 
      "        return gx,gy,interp", 
      "", 
      "def fig7Murad():", 
      "  print \"WARNING: should do for bilayer, not cylinder [graham eqn, etc]\"", 
      "  parms.res=0.01", 
      "  # separate spheres by 2nm [equiv to H=1nm in Fig 7]", 
      "    ", 
      "  domRads=[20.,30.] # A ", 
      "  parms.molRad=10. # A   ", 
      "  abssigma = 0.01 #  \\cite{Anonymous:pvWPv9jI} for lipid bilayer ", 
      "  nCbs=6", 
      "  cbs =10.**(-1*np.arange(nCbs) )", 
      "  nDomRads = np.shape(domRads)[0] ", 
      "    ", 
      "  Dms = np.zeros([nCbs,nDomRads])  ", 
      "  Dps = np.zeros([nCbs,nDomRads])  ", 
      "    ", 
      "  #molRads=[molRads[8]]; ", 
      "  #sigmas=[sigmas[0] ]", 
      "  for i,cb in enumerate(cbs):", 
      "    for j,domRad in enumerate(domRads):", 
      "        parms.domRad=domRad # A ", 
      "        parms.ionC = cb", 
      "        ", 
      "        parms.sigma = -1.*abssigma", 
      "        results = runCase()", 
      "        Dms[i,j] = results.Ds[0]", 
      "        print results.Ds[0]    ", 
      "", 
      "        parms.sigma = abssigma", 
      "        results = runCase()", 
      "        Dps[i,j] = results.Ds[0]", 
      "        print results.Ds[0]    ", 
      "        ", 
      "        ", 
      "  ps=['b','b--']", 
      "  ms=['r','r--']", 
      "    ", 
      "  plt.figure()", 
      "", 
      "  for j in range(nDomRads):", 
      "    plt.plot(cbs,Dms[:,j],ms[j],label=\"$\\sigma=%5.3f$ $[C/m^2]$, H=%3.1f [A]\" %\\", 
      "         (-1*abssigma,domRads[j]))", 
      "    plt.plot(cbs,Dps[:,j],ps[j],label=\"$\\sigma=%5.3f$ $[C/m^2]$, H=%3.1f [A]\" %\\", 
      "         ( 1*abssigma,domRads[j]))", 
      "", 
      "  #plt.plot(cbs,Dms,'r',label=\"$\\sigma=%5.3f$ $[C/m^2]$\" % (-1*abssigma))", 
      "  #plt.plot(cbs,Dps,'b',label=\"$\\sigma=%5.3f$ $[C/m^2]$\" % (abssigma))", 
      "  plt.yscale('log')", 
      "  plt.xscale('log')", 
      "  plt.ylabel('D')", 
      "  plt.xlabel('[cb] [M]')", 
      "  plt.legend(loc=0)        ", 
      "  plt.gcf().savefig(\"fig7murad.png\")", 
      "        ", 
      "# for validating PB equation against Fig 3 of Bourbatacha", 
      "def fig3():", 
      "  plt.figure()", 
      "  parms.mode='linear'", 
      "  # Mesh is made according to Bourbatache", 
      "  # R = 10^-8 [M] --> 100 nm --> 1000A", 
      "  # separation is ", 
      "  # 2e-8 m --> 20 nm, which implies R + 10 nm per box half-width --> 1100A", 
      "  fileIn= \"/net/home/huskeypm/Sources/smolhomog/example/validation/cylinder.xml\"", 
      "  fileIn= \"/home/huskeypm/sources/smolhomog/example/validation/cylinder.xml\"", 
      "  parms.molRad=1e-8*m_to_A  # A ", 
      "  parms.domRad=parms.molRad+1e-8*m_to_A # A ", 
      "    ", 
      "  fileIn = buildMesh.makeGmshMesh(parms.domRad,parms.molRad,parms.res)            ", 
      "  mesh = Mesh(fileIn)", 
      "  ", 
      "  # DH   ", 
      "  #parms.ionC = 0.1 # M ", 
      "  #parms.z = -2", 
      "  #boundaryPotential=\"DH\"", 
      "  #(V,x)= SolvePoissonBoltzmann(mesh,boundaryPotential=boundaryPotential)", 
      "  #gy,interp=interp2d(mesh,x)", 
      "  #plt.plot(gy,interp,\"b\",label=\"DH [I] %3.1f M\" % parms.ionC)", 
      "  ", 
      "  # VALIDATED Potential looks validated against Fig 3 of Bourbatche 2012 paper", 
      "  sigma = -0.01 # C/m^2", 
      "  cb = 50 * 1e-3 # mol/m^3 --> M", 
      "  parms.ionC = cb", 
      "  boundaryPotential = pb.Grahame(sigma,cb)", 
      "  (V,x)= pb.SolvePoissonBoltzmann(mesh,boundaryPotential=boundaryPotential)", 
      "  gy,interp=interp2d(mesh,x)", 
      "  plt.plot(gy,interp,\"r\",label=\"psi0=%4.1f mV [I] %4.2f M\" % (boundaryPotential,parms.ionC))", 
      "", 
      "  cb = 200 * 1e-3 # mol/m^3 --> M", 
      "  parms.ionC = cb", 
      "  boundaryPotential = pb.Grahame(sigma,cb)", 
      "  (V,x)= pb.SolvePoissonBoltzmann(mesh,boundaryPotential=boundaryPotential)", 
      "  gy,interp=interp2d(mesh,x)", 
      "  plt.plot(gy,interp,\"g\",label=\"psi0=%4.1f mV [I] %4.2f M\" % (boundaryPotential,parms.ionC))", 
      "   ", 
      "  plt.legend(loc=0)", 
      "  plt.xlim([parms.molRad,parms.domRad])", 
      "  #plt.ylim([0,-45])", 
      "  plt.xlabel(\"1e-8 m\")", 
      "  plt.gca().invert_yaxis()", 
      "  plt.gcf().savefig(\"bourbfig3.png\")", 
      "", 
      "def fig7():   ", 
      "    #res = 10 # min res for cb=86, sigma = 0.0185", 
      "    parms.molRad=20; # 0.3 e-8", 
      "    parms.domRad=50; # 0.5e-8 m", 
      "    fileIn = buildMesh.makeGmshMesh(parms.domRad,parms.molRad,parms.res) ", 
      " ", 
      "    cb=86e-3; sigma = -0.0185; # for comparing against Fig 7 ESP ", 
      "    boundaryPotential = pb.Grahame(sigma,cb)", 
      "    mesh = Mesh(fileIn)", 
      "    ", 
      "    (V,potential)= pb.SolvePoissonBoltzmann(mesh,boundaryPotential=boundaryPotential)", 
      "    (gy,interp) = interp2d(mesh,potential)", 
      "    plt.figure()", 
      "    plt.plot(gy,interp)", 
      "    plt.xlim([parms.molRad,parms.domRad])", 
      "    plt.figure()", 
      "    plt.subplot(111,aspect='equal')", 
      "    (gx,gy,interp) = interp2d(mesh,potential,mode=\"plane\")", 
      "    plt.pcolormesh(gx,gy,interp)", 
      "    plt.xlabel(\"A\")", 
      "    clb=plt.colorbar()", 
      "    clb.set_label(\"[mV]\")", 
      "    plt.gcf().savefig(\"fig7.png\")", 
      "", 
      "    ", 
      "", 
      "  #Fig. 9. Relative homogenized diffusion coefficient ", 
      "  #report Dhom/D for ep=0 -- 1.", 
      "  # for sig = 0.07, 0.05,  0.001", 
      "  #might also compare w Fig 7 of Murad, but should probably suffice to show opposite", 
      "  #tends noted for D- vs D+ [actually, they aren't opposites, so look closer]  ", 
      "", 
      "def runCase():     ", 
      "    print parms.res", 
      "    fileIn = buildMesh.makeGmshMesh(parms.domRad,parms.molRad,parms.res)          ", 
      "    mesh = Mesh(fileIn)", 
      "    ", 
      "    # get electro potential (OVERRIDING) ", 
      "    boundaryPotential = pb.Grahame(parms.sigma,parms.ionC)", 
      "    print parms.sigma,parms.ionC", 
      "    print \"boundaryPotential \", boundaryPotential", 
      "    # potential is mV ", 
      "    (V,potential)= pb.SolvePoissonBoltzmann(mesh,boundaryPotential=boundaryPotential)", 
      "    ", 
      "    #(gy,interp) = interp2d(mesh,potential)", 
      "    #plt.figure()", 
      "    #plt.plot(gy,interp)", 
      "    #plt.figure()", 
      "    #(gx,gy,interp) = interp2d(mesh,potential,mode=\"plane\")", 
      "    #plt.pcolormesh(gx,gy,interp)", 
      "    #plt.figure()", 
      "    ", 
      "    #potential = Function(FunctionSpace(mesh,\"CG\",1))", 
      "    #potential.vector()[:] = 0.  ", 
      "    ", 
      "    # multiply potential [mV] by F/RT [1/mV] s.t. potential is unitless ", 
      "    unitlessPotential = Function(V)", 
      "    unitlessPotential.vector()[:] = Fz_o_RT*potential.vector()[:] ", 
      "    ", 
      "    results = test.doit(mode=\"hack2\",discontinuous=False,dim=2,fileIn=fileIn,potential=unitlessPotential)", 
      "    return results ", 
      "", 
      "# for validating against fig 9 of bourbatache ", 
      "def fig9ops():", 
      "  # all cases ", 
      "  ", 
      "  parms.domRad=0.5e-8 * m_to_A # A ", 
      "  sigmas = -1*np.array([0,0.01,0.05,0.1, 0.15]) # [C/m^2]", 
      "  #sigmas = np.array([-0.07, -0.05,  -0.001 ]) ", 
      "  sigmas = np.array([0.01,0,-0.01])      ", 
      "  nMolRads = 3  ", 
      "  molRads = np.linspace(parms.domRad*0.1,parms.domRad*0.9,nMolRads)", 
      "  cb = 500 * 1e-3 # mol/m^3 --> M  ", 
      "  parms.ionC = cb", 
      "", 
      "  nSigma = np.shape(sigmas)[0]", 
      "  outs = np.zeros([nSigma,nMolRads])", 
      "  vFracs = np.zeros(nMolRads)  ", 
      "    ", 
      "  #molRads=[molRads[8]]; ", 
      "  #sigmas=[sigmas[0] ]", 
      "  for i,molRad in enumerate(molRads): ", 
      "        print molRad", 
      "        for j,sigma in enumerate(sigmas):", 
      "          print sigma", 
      "          parms.sigma = sigmas[j]   ", 
      "          if(1):  ", 
      "            # make Mesh ", 
      "            parms.molRad=molRad  # A ", 
      "            results = runCase()", 
      "            vFracs[i] = results.phi", 
      "            outs[j,i] = results.Ds[0]", 
      "            print results.Ds[0]", 
      "            ", 
      "  return vFracs,outs,sigmas", 
      "        ", 
      "def fig9():", 
      "    vFracs,outs,sigmas = fig9ops()", 
      "    #vFracs,outs,sigmas = test2()", 
      "    ns = np.shape(outs)[0]", 
      "    ", 
      "    for j in range(ns):", 
      "      plt.plot(vFracs, outs[j,:],label=\"$\\sigma$=%5.3f $[C/m^2]$\" % sigmas[j] )", 
      "    ", 
      "    hs = vFracs/(2-vFracs)      ", 
      "    plt.plot(vFracs, hs,'k.',label=\"HS\")      ", 
      "    plt.legend(loc=0)", 
      "    plt.xlabel(\"$\\phi$\") ", 
      "    plt.ylabel(\"D\")", 
      "    plt.xlim([0.0,1])", 
      "    plt.grid(True)  ", 
      "    plt.title(\"My version of fig 9, bourb\")", 
      "    plt.gcf().savefig(\"fig9.png\")     ", 
      "", 
      "def fig8():", 
      "  parms.domRad=0.5e-8 * m_to_A # A ", 
      "  sigmas = -1*np.array([0,0.01,0.05,0.1, 0.15]) # [C/m^2]", 
      "  #sigmas = np.array([-0.07, -0.05,  -0.001 ]) ", 
      "  sigmas =np.array([0.10,0.05,0.01,0,-0.01,-0.05,-0.1])      ", 
      "  parms.molRad = 0.4e-8*m_to_A", 
      "  cb = 86 * 1e-3 # mol/m^3 --> M  ", 
      "  parms.ionC = cb", 
      "", 
      "  nSigma = np.shape(sigmas)[0]", 
      "  Ds = np.zeros(nSigma)  ", 
      "  for i, sigma in enumerate(sigmas):", 
      "    parms.sigma = sigma    ", 
      "    results = runCase() ", 
      "    Ds[i] = results.Ds[0]", 
      "", 
      "  print Ds", 
      "  idx=np.where(sigmas>=0)", 
      "  Dps=Ds[idx]", 
      "  sps=sigmas[idx]", 
      "", 
      "  idx=np.where(sigmas<0)", 
      "  Dms=Ds[idx]", 
      "  sms =np.abs(sigmas[idx])", 
      "", 
      "  plt.figure()  ", 
      "  plt.plot(sms,Dms,'b',label=\"$\\sigma< 0$\")", 
      "  plt.plot(sps,Dps,'r',label=\"$\\sigma> 0$\")", 
      "  plt.xlabel(\"$|\\sigma|$ [C/m^2]\")", 
      "  plt.ylabel(\"D\")", 
      "  plt.legend(loc=0)", 
      "  plt.grid(True)", 
      "  plt.gcf().savefig(\"fig8.png\") ", 
      "#test1()", 
      "#test2()", 
      "", 
      "", 
      "", 
      "", 
      "", 
      "      ", 
      "", 
      "#test1()", 
      "#!/usr/bin/env python", 
      "import sys", 
      "#", 
      "# Revisions", 
      "#       10.08.10 inception", 
      "#", 
      "", 
      "if __name__ == \"__main__\":", 
      "  import sys", 
      "  scriptName= sys.argv[0]", 
      "  msg=\"\"\"", 
      "Purpose: ", 
      " ", 
      "Usage:", 
      "\"\"\"", 
      "  msg+=\"  %s -validation\" % (scriptName)", 
      "  msg+=\"\"\"", 
      "  ", 
      " ", 
      "Notes:", 
      "", 
      "\"\"\"", 
      "  remap = \"none\"", 
      "", 
      "  if len(sys.argv) < 2:", 
      "      raise RuntimeError(msg)", 
      "", 
      "  fileIn= sys.argv[1]", 
      "  if(len(sys.argv)==3):", 
      "    print \"arg\"", 
      "", 
      "  for i,arg in enumerate(sys.argv):", 
      "    if(arg==\"-fig3\"):", 
      "      fig3()", 
      "    if(arg==\"-fig7\"):", 
      "      fig7()", 
      "    if(arg==\"-fig8\"):", 
      "      fig8()", 
      "    if(arg==\"-fig9\"):", 
      "      fig9()", 
      ""
     ], 
     "language": "python", 
     "outputs": [
      {
       "output_type": "stream", 
       "stream": "stdout", 
       "text": [
        "25.6791497017", 
        "WARNING: should compare PB results against soln in cylinderical coords", 
        "WARNING: using Grahame eqn, which is valid for planes, not cylinders"
       ]
      }
     ], 
     "prompt_number": 143
    }, 
    {
     "cell_type": "code", 
     "collapsed": false, 
     "input": [
      "pb.Grahame(0.00038,2.32e-4)"
     ], 
     "language": "python", 
     "outputs": [
      {
       "output_type": "pyout", 
       "prompt_number": 94, 
       "text": [
        "10.878757549301081"
       ]
      }
     ], 
     "prompt_number": 94
    }, 
    {
     "cell_type": "code", 
     "collapsed": false, 
     "input": [
      "fig7Murad()"
     ], 
     "language": "python", 
     "outputs": [
      {
       "output_type": "stream", 
       "stream": "stdout", 
       "text": [
        "WARNING: should do for bilayer, not cylinder [graham eqn, etc]", 
        "-0.01"
       ]
      }, 
      {
       "output_type": "stream", 
       "stream": "stdout", 
       "text": [
        " 1.0", 
        "boundaryPotential  -4.38783112574", 
        "Assuming your sphere is centered at 000", 
        "Solving linear form of PBE", 
        "hack2", 
        "Using imported grid", 
        "(72,)", 
        "(72,)", 
        "Exp(-p) min 0.842930", 
        "Exp(-p) max 1.000000", 
        "WARNING: double check that pmf should be applied to delta"
       ]
      }, 
      {
       "output_type": "stream", 
       "stream": "stdout", 
       "text": [
        "", 
        "WARNING: double check that pmf should be applied to delta", 
        "0.82322325", 
        "Ds anal est (2D)  0.69955771135", 
        "Ds pred  [ 0.68916896  0.6891718 ]", 
        "0.689168955823", 
        "0.01"
       ]
      }, 
      {
       "output_type": "stream", 
       "stream": "stdout", 
       "text": [
        " 1.0", 
        "boundaryPotential  4.38783112574", 
        "Assuming your sphere is centered at 000", 
        "Solving linear form of PBE", 
        "hack2", 
        "Using imported grid", 
        "(72,)", 
        "(72,)", 
        "Exp(-p) min 1.000000", 
        "Exp(-p) max 1.186338", 
        "WARNING: double check that pmf should be applied to delta"
       ]
      }, 
      {
       "output_type": "stream", 
       "stream": "stdout", 
       "text": [
        "", 
        "WARNING: double check that pmf should be applied to delta", 
        "0.82322325", 
        "Ds anal est (2D)  0.69955771135", 
        "Ds pred  [ 0.74893426  0.74893058]", 
        "0.748934262666", 
        "-0.01"
       ]
      }, 
      {
       "output_type": "stream", 
       "stream": "stdout", 
       "text": [
        " 1.0", 
        "boundaryPotential  -4.38783112574", 
        "Assuming your sphere is centered at 000", 
        "Solving linear form of PBE", 
        "hack2", 
        "Using imported grid", 
        "(108,)", 
        "(108,)", 
        "Exp(-p) min 0.842930", 
        "Exp(-p) max 1.000000", 
        "WARNING: double check that pmf should be applied to delta"
       ]
      }, 
      {
       "output_type": "stream", 
       "stream": "stdout", 
       "text": [
        "", 
        "WARNING: double check that pmf should be applied to delta", 
        "0.921432555556", 
        "Ds anal est (2D)  0.854311485389", 
        "Ds pred  [ 0.85114466  0.85122072]", 
        "0.851144656324", 
        "0.01"
       ]
      }, 
      {
       "output_type": "stream", 
       "stream": "stdout", 
       "text": [
        " 1.0", 
        "boundaryPotential  4.38783112574", 
        "Assuming your sphere is centered at 000", 
        "Solving linear form of PBE", 
        "hack2", 
        "Using imported grid", 
        "(108,)", 
        "(108,)", 
        "Exp(-p) min 1.000000", 
        "Exp(-p) max 1.186338", 
        "WARNING: double check that pmf should be applied to delta"
       ]
      }, 
      {
       "output_type": "stream", 
       "stream": "stdout", 
       "text": [
        "", 
        "WARNING: double check that pmf should be applied to delta", 
        "0.921432555556", 
        "Ds anal est (2D)  0.854311485389", 
        "Ds pred  [ 0.88104332  0.88105217]", 
        "0.881043319979", 
        "-0.01"
       ]
      }, 
      {
       "output_type": "stream", 
       "stream": "stdout", 
       "text": [
        " 0.1", 
        "boundaryPotential  -13.7285860856", 
        "Assuming your sphere is centered at 000", 
        "Solving linear form of PBE", 
        "hack2", 
        "Using imported grid", 
        "(72,)", 
        "(72,)", 
        "Exp(-p) min 0.585892", 
        "Exp(-p) max 1.000000", 
        "WARNING: double check that pmf should be applied to delta"
       ]
      }, 
      {
       "output_type": "stream", 
       "stream": "stdout", 
       "text": [
        "", 
        "WARNING: double check that pmf should be applied to delta", 
        "0.82322325", 
        "Ds anal est (2D)  0.69955771135", 
        "Ds pred  [ 0.5956983   0.59569921]", 
        "0.59569830202", 
        "0.01"
       ]
      }, 
      {
       "output_type": "stream", 
       "stream": "stdout", 
       "text": [
        " 0.1", 
        "boundaryPotential  13.7285860856", 
        "Assuming your sphere is centered at 000", 
        "Solving linear form of PBE", 
        "hack2", 
        "Using imported grid", 
        "(72,)", 
        "(72,)", 
        "Exp(-p) min 1.000000", 
        "Exp(-p) max 1.706799", 
        "WARNING: double check that pmf should be applied to delta"
       ]
      }, 
      {
       "output_type": "stream", 
       "stream": "stdout", 
       "text": [
        "", 
        "WARNING: double check that pmf should be applied to delta", 
        "0.82322325", 
        "Ds anal est (2D)  0.69955771135", 
        "Ds pred  [ 0.88424713  0.88423987]", 
        "0.884247134005", 
        "-0.01"
       ]
      }, 
      {
       "output_type": "stream", 
       "stream": "stdout", 
       "text": [
        " 0.1", 
        "boundaryPotential  -13.7285860856", 
        "Assuming your sphere is centered at 000", 
        "Solving linear form of PBE", 
        "hack2", 
        "Using imported grid", 
        "(108,)", 
        "(108,)", 
        "Exp(-p) min 0.585892", 
        "Exp(-p) max 1.000000", 
        "WARNING: double check that pmf should be applied to delta"
       ]
      }, 
      {
       "output_type": "stream", 
       "stream": "stdout", 
       "text": [
        "", 
        "WARNING: double check that pmf should be applied to delta", 
        "0.921432555556", 
        "Ds anal est (2D)  0.854311485389", 
        "Ds pred  [ 0.76563194  0.76563963]", 
        "0.765631941436", 
        "0.01"
       ]
      }, 
      {
       "output_type": "stream", 
       "stream": "stdout", 
       "text": [
        " 0.1", 
        "boundaryPotential  13.7285860856", 
        "Assuming your sphere is centered at 000", 
        "Solving linear form of PBE", 
        "hack2", 
        "Using imported grid", 
        "(108,)", 
        "(108,)", 
        "Exp(-p) min 1.000000", 
        "Exp(-p) max 1.706799", 
        "WARNING: double check that pmf should be applied to delta"
       ]
      }, 
      {
       "output_type": "stream", 
       "stream": "stdout", 
       "text": [
        "", 
        "WARNING: double check that pmf should be applied to delta", 
        "0.921432555556", 
        "Ds anal est (2D)  0.854311485389", 
        "Ds pred  [ 0.98600315  0.98601385]", 
        "0.986003152989", 
        "-0.01"
       ]
      }, 
      {
       "output_type": "stream", 
       "stream": "stdout", 
       "text": [
        " 0.01", 
        "boundaryPotential  -39.8254934167", 
        "Assuming your sphere is centered at 000", 
        "Solving linear form of PBE", 
        "hack2", 
        "Using imported grid", 
        "(72,)", 
        "(72,)", 
        "Exp(-p) min 0.212060", 
        "Exp(-p) max 1.000000", 
        "WARNING: double check that pmf should be applied to delta"
       ]
      }, 
      {
       "output_type": "stream", 
       "stream": "stdout", 
       "text": [
        "", 
        "WARNING: double check that pmf should be applied to delta", 
        "0.82322325", 
        "Ds anal est (2D)  0.69955771135", 
        "Ds pred  [ 0.42455507  0.42455153]", 
        "0.424555067145", 
        "0.01"
       ]
      }, 
      {
       "output_type": "stream", 
       "stream": "stdout", 
       "text": [
        " 0.01", 
        "boundaryPotential  39.8254934167", 
        "Assuming your sphere is centered at 000", 
        "Solving linear form of PBE", 
        "hack2", 
        "Using imported grid", 
        "(72,)", 
        "(72,)", 
        "Exp(-p) min 1.000000", 
        "Exp(-p) max 4.715657", 
        "WARNING: double check that pmf should be applied to delta"
       ]
      }, 
      {
       "output_type": "stream", 
       "stream": "stdout", 
       "text": [
        "", 
        "WARNING: double check that pmf should be applied to delta", 
        "0.82322325", 
        "Ds anal est (2D)  0.69955771135", 
        "Ds pred  [ 1.45081505  1.45076968]", 
        "1.45081504655", 
        "-0.01"
       ]
      }, 
      {
       "output_type": "stream", 
       "stream": "stdout", 
       "text": [
        " 0.01", 
        "boundaryPotential  -39.8254934167", 
        "Assuming your sphere is centered at 000", 
        "Solving linear form of PBE", 
        "hack2", 
        "Using imported grid", 
        "(108,)", 
        "(108,)", 
        "Exp(-p) min 0.212060", 
        "Exp(-p) max 1.000000", 
        "WARNING: double check that pmf should be applied to delta"
       ]
      }, 
      {
       "output_type": "stream", 
       "stream": "stdout", 
       "text": [
        "", 
        "WARNING: double check that pmf should be applied to delta", 
        "0.921432555556", 
        "Ds anal est (2D)  0.854311485389", 
        "Ds pred  [ 0.55420837  0.55421366]", 
        "0.554208365758", 
        "0.01"
       ]
      }, 
      {
       "output_type": "stream", 
       "stream": "stdout", 
       "text": [
        " 0.01", 
        "boundaryPotential  39.8254934167", 
        "Assuming your sphere is centered at 000", 
        "Solving linear form of PBE", 
        "hack2", 
        "Using imported grid", 
        "(108,)", 
        "(108,)", 
        "Exp(-p) min 1.000000", 
        "Exp(-p) max 4.715657", 
        "WARNING: double check that pmf should be applied to delta"
       ]
      }, 
      {
       "output_type": "stream", 
       "stream": "stdout", 
       "text": [
        "", 
        "WARNING: double check that pmf should be applied to delta", 
        "0.921432555556", 
        "Ds anal est (2D)  0.854311485389", 
        "Ds pred  [ 1.45322554  1.45324503]", 
        "1.45322553589", 
        "-0.01"
       ]
      }, 
      {
       "output_type": "stream", 
       "stream": "stdout", 
       "text": [
        " 0.001", 
        "boundaryPotential  -88.4092531631", 
        "Assuming your sphere is centered at 000", 
        "Solving linear form of PBE", 
        "hack2", 
        "Using imported grid", 
        "(72,)", 
        "(72,)", 
        "Exp(-p) min 0.031974", 
        "Exp(-p) max 1.000000", 
        "WARNING: double check that pmf should be applied to delta"
       ]
      }, 
      {
       "output_type": "stream", 
       "stream": "stdout", 
       "text": [
        "", 
        "WARNING: double check that pmf should be applied to delta", 
        "0.82322325", 
        "Ds anal est (2D)  0.69955771135", 
        "Ds pred  [ 0.27580562  0.27580594]", 
        "0.275805619062", 
        "0.01"
       ]
      }, 
      {
       "output_type": "stream", 
       "stream": "stdout", 
       "text": [
        " 0.001", 
        "boundaryPotential  88.4092531631", 
        "Assuming your sphere is centered at 000", 
        "Solving linear form of PBE", 
        "hack2", 
        "Using imported grid", 
        "(72,)", 
        "(72,)", 
        "Exp(-p) min 1.000000", 
        "Exp(-p) max 31.275715", 
        "WARNING: double check that pmf should be applied to delta"
       ]
      }, 
      {
       "output_type": "stream", 
       "stream": "stdout", 
       "text": [
        "", 
        "WARNING: double check that pmf should be applied to delta", 
        "0.82322325", 
        "Ds anal est (2D)  0.69955771135", 
        "Ds pred  [ 3.81378456  3.81328166]", 
        "3.81378455693", 
        "-0.01"
       ]
      }, 
      {
       "output_type": "stream", 
       "stream": "stdout", 
       "text": [
        " 0.001", 
        "boundaryPotential  -88.4092531631", 
        "Assuming your sphere is centered at 000", 
        "Solving linear form of PBE", 
        "hack2", 
        "Using imported grid", 
        "(108,)", 
        "(108,)", 
        "Exp(-p) min 0.031974", 
        "Exp(-p) max 1.000000", 
        "WARNING: double check that pmf should be applied to delta"
       ]
      }, 
      {
       "output_type": "stream", 
       "stream": "stdout", 
       "text": [
        "", 
        "WARNING: double check that pmf should be applied to delta", 
        "0.921432555556", 
        "Ds anal est (2D)  0.854311485389", 
        "Ds pred  [ 0.3553888   0.35539717]", 
        "0.355388800206", 
        "0.01"
       ]
      }, 
      {
       "output_type": "stream", 
       "stream": "stdout", 
       "text": [
        " 0.001", 
        "boundaryPotential  88.4092531631", 
        "Assuming your sphere is centered at 000", 
        "Solving linear form of PBE", 
        "hack2", 
        "Using imported grid", 
        "(108,)", 
        "(108,)", 
        "Exp(-p) min 1.000000", 
        "Exp(-p) max 31.275715", 
        "WARNING: double check that pmf should be applied to delta"
       ]
      }, 
      {
       "output_type": "stream", 
       "stream": "stdout", 
       "text": [
        "", 
        "WARNING: double check that pmf should be applied to delta", 
        "0.921432555556", 
        "Ds anal est (2D)  0.854311485389", 
        "Ds pred  [ 2.80707758  2.80702836]", 
        "2.807077576", 
        "-0.01"
       ]
      }, 
      {
       "output_type": "stream", 
       "stream": "stdout", 
       "text": [
        " 0.0001", 
        "boundaryPotential  -146.085653649", 
        "Assuming your sphere is centered at 000", 
        "Solving linear form of PBE", 
        "hack2", 
        "Using imported grid", 
        "(72,)", 
        "(72,)", 
        "Exp(-p) min 0.003383", 
        "Exp(-p) max 1.000000", 
        "WARNING: double check that pmf should be applied to delta"
       ]
      }, 
      {
       "output_type": "stream", 
       "stream": "stdout", 
       "text": [
        "", 
        "WARNING: double check that pmf should be applied to delta", 
        "0.82322325", 
        "Ds anal est (2D)  0.69955771135", 
        "Ds pred  [ 0.2029783   0.20300829]", 
        "0.202978296121", 
        "0.01"
       ]
      }, 
      {
       "output_type": "stream", 
       "stream": "stdout", 
       "text": [
        " 0.0001", 
        "boundaryPotential  146.085653649", 
        "Assuming your sphere is centered at 000", 
        "Solving linear form of PBE", 
        "hack2", 
        "Using imported grid", 
        "(72,)", 
        "(72,)", 
        "Exp(-p) min 1.000000", 
        "Exp(-p) max 295.563009", 
        "WARNING: double check that pmf should be applied to delta"
       ]
      }, 
      {
       "output_type": "stream", 
       "stream": "stdout", 
       "text": [
        "", 
        "WARNING: double check that pmf should be applied to delta", 
        "0.82322325", 
        "Ds anal est (2D)  0.69955771135", 
        "Ds pred  [ 10.36989713  10.36332242]", 
        "10.3698971288", 
        "-0.01"
       ]
      }, 
      {
       "output_type": "stream", 
       "stream": "stdout", 
       "text": [
        " 0.0001", 
        "boundaryPotential  -146.085653649", 
        "Assuming your sphere is centered at 000", 
        "Solving linear form of PBE", 
        "hack2", 
        "Using imported grid", 
        "(108,)", 
        "(108,)", 
        "Exp(-p) min 0.003383", 
        "Exp(-p) max 1.000000", 
        "WARNING: double check that pmf should be applied to delta"
       ]
      }, 
      {
       "output_type": "stream", 
       "stream": "stdout", 
       "text": [
        "", 
        "WARNING: double check that pmf should be applied to delta", 
        "0.921432555556", 
        "Ds anal est (2D)  0.854311485389", 
        "Ds pred  [ 0.25124836  0.25127456]", 
        "0.251248361895", 
        "0.01"
       ]
      }, 
      {
       "output_type": "stream", 
       "stream": "stdout", 
       "text": [
        " 0.0001", 
        "boundaryPotential  146.085653649", 
        "Assuming your sphere is centered at 000", 
        "Solving linear form of PBE", 
        "hack2", 
        "Using imported grid", 
        "(108,)", 
        "(108,)", 
        "Exp(-p) min 1.000000", 
        "Exp(-p) max 295.563009", 
        "WARNING: double check that pmf should be applied to delta"
       ]
      }, 
      {
       "output_type": "stream", 
       "stream": "stdout", 
       "text": [
        "", 
        "WARNING: double check that pmf should be applied to delta", 
        "0.921432555556", 
        "Ds anal est (2D)  0.854311485389", 
        "Ds pred  [ 5.15876692  5.15738526]", 
        "5.15876692342", 
        "-0.01"
       ]
      }, 
      {
       "output_type": "stream", 
       "stream": "stdout", 
       "text": [
        " 1e-05", 
        "boundaryPotential  -205.104664404", 
        "Assuming your sphere is centered at 000", 
        "Solving linear form of PBE", 
        "hack2", 
        "Using imported grid", 
        "(72,)", 
        "(72,)", 
        "Exp(-p) min 0.000340", 
        "Exp(-p) max 1.000000", 
        "WARNING: double check that pmf should be applied to delta"
       ]
      }, 
      {
       "output_type": "stream", 
       "stream": "stdout", 
       "text": [
        "", 
        "WARNING: double check that pmf should be applied to delta", 
        "0.82322325", 
        "Ds anal est (2D)  0.69955771135", 
        "Ds pred  [ 0.16874789  0.16882279]", 
        "0.168747885218", 
        "0.01"
       ]
      }, 
      {
       "output_type": "stream", 
       "stream": "stdout", 
       "text": [
        " 1e-05", 
        "boundaryPotential  205.104664404", 
        "Assuming your sphere is centered at 000", 
        "Solving linear form of PBE", 
        "hack2", 
        "Using imported grid", 
        "(72,)", 
        "(72,)", 
        "Exp(-p) min 1.000000", 
        "Exp(-p) max 2943.063213", 
        "WARNING: double check that pmf should be applied to delta"
       ]
      }, 
      {
       "output_type": "stream", 
       "stream": "stdout", 
       "text": [
        "", 
        "WARNING: double check that pmf should be applied to delta", 
        "0.82322325", 
        "Ds anal est (2D)  0.69955771135", 
        "Ds pred  [ 25.185243    25.14693016]", 
        "25.185243", 
        "-0.01"
       ]
      }, 
      {
       "output_type": "stream", 
       "stream": "stdout", 
       "text": [
        " 1e-05", 
        "boundaryPotential  -205.104664404", 
        "Assuming your sphere is centered at 000", 
        "Solving linear form of PBE", 
        "hack2", 
        "Using imported grid", 
        "(108,)", 
        "(108,)", 
        "Exp(-p) min 0.000340", 
        "Exp(-p) max 1.000000", 
        "WARNING: double check that pmf should be applied to delta"
       ]
      }, 
      {
       "output_type": "stream", 
       "stream": "stdout", 
       "text": [
        "", 
        "WARNING: double check that pmf should be applied to delta", 
        "0.921432555556", 
        "Ds anal est (2D)  0.854311485389", 
        "Ds pred  [ 0.19971886  0.19977334]", 
        "0.199718860979", 
        "0.01"
       ]
      }, 
      {
       "output_type": "stream", 
       "stream": "stdout", 
       "text": [
        " 1e-05", 
        "boundaryPotential  205.104664404", 
        "Assuming your sphere is centered at 000", 
        "Solving linear form of PBE", 
        "hack2", 
        "Using imported grid", 
        "(108,)", 
        "(108,)", 
        "Exp(-p) min 1.000000", 
        "Exp(-p) max 2943.063213", 
        "WARNING: double check that pmf should be applied to delta"
       ]
      }, 
      {
       "output_type": "stream", 
       "stream": "stdout", 
       "text": [
        "", 
        "WARNING: double check that pmf should be applied to delta", 
        "0.921432555556", 
        "Ds anal est (2D)  0.854311485389", 
        "Ds pred  [ 8.42579085  8.41792944]", 
        "8.42579085102"
       ]
      }, 
      {
       "output_type": "display_data", 
       "png": "[encoded data removed]"
      }
     ], 
     "prompt_number": 142
    }, 
    {
     "cell_type": "code", 
     "collapsed": true, 
     "input": [], 
     "language": "python", 
     "outputs": []
    }
   ]
  }
 ]
}