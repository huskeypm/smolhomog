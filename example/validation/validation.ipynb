{
 "metadata": {
  "name": "validation"
 }, 
 "nbformat": 2, 
 "worksheets": [
  {
   "cells": [
    {
     "cell_type": "code", 
     "collapsed": false, 
     "input": [
      "import sys", 
      "sys.path.append(\"/net/home/huskeypm/Sources/modified-pb/example\")", 
      "import poissonboltzmann as pb"
     ], 
     "language": "python", 
     "outputs": [
      {
       "output_type": "stream", 
       "stream": "stdout", 
       "text": [
        "WARNING: This code is no-where close to being validated (use at your own risk)"
       ]
      }
     ], 
     "prompt_number": 1
    }, 
    {
     "cell_type": "code", 
     "collapsed": true, 
     "input": [
      "# Validation of figure 2 in Bourbatache"
     ], 
     "language": "python", 
     "outputs": [], 
     "prompt_number": 2
    }, 
    {
     "cell_type": "code", 
     "collapsed": false, 
     "input": [
      "#", 
      "# Still in development ", 
      "#", 
      "from dolfin import *", 
      "import matplotlib.pyplot as plt", 
      "import sys", 
      "import numpy as np", 
      "sys.path.append(\"/home/huskeypm/sources/modified-pb/example\")", 
      "import poissonboltzmann as pb", 
      "parms = pb.parms", 
      "", 
      "m_to_A = 1e10", 
      "", 
      "from scipy.interpolate import griddata", 
      "", 
      "# for interpolating solutions onto 2d mesh ", 
      "def interp2d(mesh,x,mode=\"line\"):", 
      "      maxr = parms.domRad    ", 
      "      minr = -parms.domRad    ", 
      "      if(mode==\"line\"):   ", 
      "        res = 10000", 
      "        (gx,gy) = np.mgrid[0:0:1j,minr:maxr:res*1j]", 
      "        interp = griddata(mesh.coordinates(),x.vector(),(gx,gy))", 
      "        interp[np.isnan(interp)]=0", 
      "        interp = np.reshape(interp,res)", 
      "        gy = np.reshape(gy,res)", 
      "", 
      "        return gy,interp", 
      "      if(mode==\"plane\"):# quarter plane", 
      "        res = 1000", 
      "        (gx,gy) = np.mgrid[0:maxr:res*1j,0:maxr:res*1j]", 
      "        interp = griddata(mesh.coordinates(),x.vector(),(gx,gy))", 
      "        interp[np.isnan(interp)]=0", 
      "        return gx,gy,interp", 
      "", 
      "        return gy,interp", 
      "", 
      "", 
      "# for validating PB equation against Fig 3 of Bourbatacha", 
      "def test1():", 
      "  plt.figure()", 
      "  parms.mode='linear'", 
      "  # Mesh is made according to Bourbatache", 
      "  # R = 10^-8 [M] --> 100 nm --> 1000A", 
      "  # separation is ", 
      "  # 2e-8 m --> 20 nm, which implies R + 10 nm per box half-width --> 1100A", 
      "  fileIn= \"/net/home/huskeypm/Sources/smolhomog/example/validation/cylinder.xml\"", 
      "  fileIn= \"/home/huskeypm/sources/smolhomog/example/validation/cylinder.xml\"", 
      "  res = 10", 
      "  parms.molRad=1e-8*m_to_A  # A ", 
      "  parms.domRad=parms.molRad+1e-8*m_to_A # A ", 
      "    ", 
      "  fileIn = buildMesh.makeGmshMesh(parms.domRad,parms.molRad,res)            ", 
      "  mesh = Mesh(fileIn)", 
      "  ", 
      "  # DH   ", 
      "  #parms.ionC = 0.1 # M ", 
      "  #parms.z = -2", 
      "  #boundaryPotential=\"DH\"", 
      "  #(V,x)= SolvePoissonBoltzmann(mesh,boundaryPotential=boundaryPotential)", 
      "  #gy,interp=interp2d(mesh,x)", 
      "  #plt.plot(gy,interp,\"b\",label=\"DH [I] %3.1f M\" % parms.ionC)", 
      "  ", 
      "  # VALIDATED Potential looks validated against Fig 3 of Bourbatche 2012 paper", 
      "  sigma = -0.01 # C/m^2", 
      "  cb = 50 * 1e-3 # mol/m^3 --> M", 
      "  parms.ionC = cb", 
      "  boundaryPotential = pb.Grahame(sigma,cb)", 
      "  (V,x)= pb.SolvePoissonBoltzmann(mesh,boundaryPotential=boundaryPotential)", 
      "  gy,interp=interp2d(mesh,x)", 
      "  plt.plot(gy,interp,\"r\",label=\"psi0=%4.1f mV [I] %4.2f M\" % (boundaryPotential,parms.ionC))", 
      "", 
      "  cb = 200 * 1e-3 # mol/m^3 --> M", 
      "  parms.ionC = cb", 
      "  boundaryPotential = pb.Grahame(sigma,cb)", 
      "  (V,x)= pb.SolvePoissonBoltzmann(mesh,boundaryPotential=boundaryPotential)", 
      "  gy,interp=interp2d(mesh,x)", 
      "  plt.plot(gy,interp,\"g\",label=\"psi0=%4.1f mV [I] %4.2f M\" % (boundaryPotential,parms.ionC))", 
      "   ", 
      "  plt.legend(loc=0)", 
      "  plt.xlim([parms.molRad,parms.domRad])", 
      "  #plt.ylim([0,-45])", 
      "  plt.xlabel(\"1e-8 m\")", 
      "  plt.gca().invert_yaxis()", 
      "  plt.gcf().savefig(\"bourbfig3.png\")", 
      "", 
      "", 
      "  #Fig. 9. Relative homogenized diffusion coefficient ", 
      "  #report Dhom/D for ep=0 -- 1.", 
      "  # for sig = 0.07, 0.05,  0.001", 
      "  #might also compare w Fig 7 of Murad, but should probably suffice to show opposite", 
      "  #tends noted for D- vs D+ [actually, they aren't opposites, so look closer]  ", 
      "", 
      "", 
      "# for validating against fig 9 of bourbatache ", 
      "#def test2():", 
      "if(1):    ", 
      "  sys.path.append(\"/net/home/huskeypm/Sources/smolhomog/example/noobstacle/\")", 
      "  import testing as test", 
      "  ", 
      "  # all cases ", 
      "  ", 
      "  parms.domRad=1e-8 * m_to_A # A ", 
      "  res = 10            ", 
      "  z = -1.  # lig charge    [Chloride]", 
      "  sigmas = np.array([-0.07, -0.05,  -0.001 ]) ", 
      "  nSigma = np.shape(sigmas)[0]", 
      "  molRads = np.linspace(10,90,9)", 
      "  nMolRads = np.shape(molRads)[0]  ", 
      "  outs = np.zeros([nSigma,nMolRads])", 
      "  cb = 500 * 1e-3 # mol/m^3 --> M  ", 
      "  vFracs = np.zeros(nMolRads)  ", 
      "  parms.ionC = cb", 
      "    ", 
      "  molRads=[80]; sigmas=[0.07]  # [C/m^2]  Dbour~0.22", 
      "  cb=86e-3; parms.ionC=cb;molRads=[80]; sigmas=[0,-0.0185]  # [C/m^2]  Dbour~0.22  ", 
      "  #molRads=[800]; sigmas=[0] # Dbour ~ 0.32", 
      "", 
      "  F=96485.3365 # Faradays constant [C/mol]", 
      "  R = 8.3143   # Gas const [J/mol K] ", 
      "  T = 298.     # Temp [K] ", 
      "  RT_o_F=(R*T)/F*1e3  # [mV]   ", 
      "  print RT_o_F", 
      "  Fz_o_RT=z/RT_o_F     # [1/mV] ", 
      "  import buildMesh   ", 
      "      ", 
      "if(0):    ", 
      "  fileIn = 'cylinderTmp.xml';", 
      "  for i,molRad in enumerate(molRads): ", 
      "        print molRad", 
      "        for j,sigma in enumerate(sigmas):", 
      "            #boundaryPotential = pb.Grahame(sigma,cb)", 
      "            #(V,potential)= pb.SolvePoissonBoltzmann(mesh,boundaryPotential=boundaryPotential)", 
      "            #", 
      "            #diff test.doit(mode=\"hack2\",fileIn=fileIn,potential=potential)", 
      "            #outs[j,i] = Deff", 
      "            # vFracs[i] = V", 
      "            ", 
      "            # make Mesh ", 
      "            parms.molRad=molRad  # A ", 
      "            fileIn = buildMesh.makeGmshMesh(parms.domRad,parms.molRad,res)          ", 
      "            mesh = Mesh(fileIn)", 
      "            ", 
      "            # get electro potential (OVERRIDING) ", 
      "            sigma = sigmas[j] ", 
      "            boundaryPotential = pb.Grahame(sigma,cb)", 
      "            print \"boundaryPotential \", boundaryPotential", 
      "            # potential is mV ", 
      "            (V,potential)= pb.SolvePoissonBoltzmann(mesh,boundaryPotential=boundaryPotential)", 
      "            ", 
      "            (gy,interp) = interp2d(mesh,potential)", 
      "            plt.figure()", 
      "            plt.plot(gy,interp)", 
      "            plt.figure()", 
      "            (gx,gy,interp) = interp2d(mesh,potential,mode=\"plane\")", 
      "            plt.pcolormesh(gx,gy,interp)", 
      "            plt.figure()", 
      "           ", 
      "            #potential = Function(FunctionSpace(mesh,\"CG\",1))", 
      "            #potential.vector()[:] = 0.  ", 
      "", 
      "            # multiply potential [mV] by F/RT [1/mV] s.t. potential is unitless ", 
      "            unitlessPotential = Function(V)", 
      "            unitlessPotential.vector()[:] = Fz_o_RT*potential.vector()[:] ", 
      "            ", 
      "            ", 
      "            results = test.doit(mode=\"hack2\",discontinuous=False,dim=2,fileIn=fileIn,potential=unitlessPotential)", 
      "            vFracs[i] = results.phi", 
      "            outs[j,i] = results.Ds[0]", 
      "            print results.Ds[0]", 
      "            ", 
      "    ", 
      "    ", 
      "", 
      "", 
      "", 
      "", 
      "", 
      "      ", 
      "", 
      "#test1()", 
      "#test2()"
     ], 
     "language": "python", 
     "outputs": [
      {
       "output_type": "stream", 
       "stream": "stdout", 
       "text": [
        "25.6791497017", 
        "Assuming your sphere is centered at 000"
       ]
      }, 
      {
       "output_type": "stream", 
       "stream": "stdout", 
       "text": [
        "", 
        "Solving linear form of PBE"
       ]
      }, 
      {
       "output_type": "stream", 
       "stream": "stdout", 
       "text": [
        "", 
        "Assuming your sphere is centered at 000"
       ]
      }, 
      {
       "output_type": "stream", 
       "stream": "stdout", 
       "text": [
        "", 
        "Solving linear form of PBE"
       ]
      }, 
      {
       "output_type": "stream", 
       "stream": "stdout", 
       "text": [
        ""
       ]
      }, 
      {
       "output_type": "display_data", 
       "png": "[encoded data removed]"
      }
     ], 
     "prompt_number": 20
    }, 
    {
     "cell_type": "code", 
     "collapsed": true, 
     "input": [
      "res=1 # good res", 
      "#res = 10 # min res for cb=86, sigma = 0.0185", 
      "parms.molRad=20; # 0.3 e-8", 
      "parms.domRad=50; # 0.5e-8 m", 
      "fileIn = buildMesh.makeGmshMesh(parms.domRad,parms.molRad,res) ", 
      "if(res>5):", 
      "    print \"WARNING: mesh resolution is too low, don't trust results\"", 
      "    "
     ], 
     "language": "python", 
     "outputs": [], 
     "prompt_number": 28
    }, 
    {
     "cell_type": "code", 
     "collapsed": false, 
     "input": [
      "cb=86e-3; sigma = -0.0185; # for comparing against Fig 7 ESP ", 
      "cb=86e-3; sigma = -0.15; # for comparing against Fig 8 ", 
      "boundaryPotential = pb.Grahame(sigma,cb)", 
      "print boundaryPotential", 
      "mesh = Mesh(fileIn)", 
      "(V,potential)= pb.SolvePoissonBoltzmann(mesh,boundaryPotential=boundaryPotential)", 
      "(gy,interp) = interp2d(mesh,potential)", 
      "plt.figure()", 
      "plt.plot(gy,interp)", 
      "plt.xlim([parms.molRad,parms.domRad])", 
      "plt.figure()", 
      "plt.subplot(111,aspect='equal')", 
      "(gx,gy,interp) = interp2d(mesh,potential,mode=\"plane\")", 
      "plt.pcolormesh(gx,gy,interp)", 
      "plt.colorbar()", 
      "plt.figure()", 
      "", 
      "", 
      "", 
      ""
     ], 
     "language": "python", 
     "outputs": [
      {
       "output_type": "stream", 
       "stream": "stdout", 
       "text": [
        "-112.110785748", 
        "Assuming your sphere is centered at 000", 
        "Solving linear form of PBE"
       ]
      }, 
      {
       "output_type": "stream", 
       "stream": "stdout", 
       "text": [
        ""
       ]
      }, 
      {
       "output_type": "pyout", 
       "prompt_number": 29, 
       "text": [
        "<matplotlib.figure.Figure at 0x6a2b2d0>"
       ]
      }, 
      {
       "output_type": "display_data", 
       "png": "[encoded data removed]"
      }, 
      {
       "output_type": "display_data", 
       "png": "[encoded data removed]"
      }
     ], 
     "prompt_number": 29
    }, 
    {
     "cell_type": "code", 
     "collapsed": false, 
     "input": [
      "unitlessPotential = Function(V)", 
      "unitlessPotential.vector()[:] = Fz_o_RT*potential.vector()[:] ", 
      "", 
      "#unitlessPotential.vector()[:] = 9", 
      "print \"min potent\", np.min(np.array(potential.vector()))", 
      "print \"max potent\", np.max(np.array(potential.vector()))", 
      "print \"min potent\", np.min(np.array(unitlessPotential.vector()))", 
      "print \"max potent\", np.max(np.array(unitlessPotential.vector()))", 
      "", 
      "print z", 
      "print 1/Fz_o_RT", 
      "results = test.doit(mode=\"hack2\",discontinuous=False,dim=2,fileIn=fileIn,potential=unitlessPotential)", 
      "#vFracs[i] = results.phi", 
      "#outs[j,i] = results.Ds[0]", 
      "#print results.Ds[0]"
     ], 
     "language": "python", 
     "outputs": [
      {
       "output_type": "stream", 
       "stream": "stdout", 
       "text": [
        "min potent "
       ]
      }, 
      {
       "output_type": "stream", 
       "stream": "stdout", 
       "text": [
        "-112.110785748", 
        "max potent "
       ]
      }, 
      {
       "output_type": "stream", 
       "stream": "stdout", 
       "text": [
        "0.0", 
        "min potent "
       ]
      }, 
      {
       "output_type": "stream", 
       "stream": "stdout", 
       "text": [
        "-0", 
        "max potent "
       ]
      }, 
      {
       "output_type": "stream", 
       "stream": "stdout", 
       "text": [
        "4.36582936156", 
        "-1.0", 
        "-25.6791497017", 
        "hack2", 
        "Using imported grid", 
        "(11944,)"
       ]
      }, 
      {
       "output_type": "stream", 
       "stream": "stdout", 
       "text": [
        "", 
        "(11944,)"
       ]
      }, 
      {
       "output_type": "stream", 
       "stream": "stdout", 
       "text": [
        "", 
        "Exp(-p) min 0.012704"
       ]
      }, 
      {
       "output_type": "stream", 
       "stream": "stdout", 
       "text": [
        "", 
        "Exp(-p) max 1.000000", 
        "WARNING: double check that pmf should be applied to delta"
       ]
      }, 
      {
       "output_type": "stream", 
       "stream": "stdout", 
       "text": [
        "", 
        "WARNING: double check that pmf should be applied to delta", 
        "0.874386730366"
       ]
      }, 
      {
       "output_type": "stream", 
       "stream": "stdout", 
       "text": [
        "", 
        "Ds anal est (2D)  0.776809188337", 
        "Ds pred  [ 0.51666342  0.51666342]"
       ]
      }
     ], 
     "prompt_number": 30
    }, 
    {
     "cell_type": "code", 
     "collapsed": false, 
     "input": [
      "np.min(np.array(potential.vector()))", 
      "np.min(np.array(unitlessPotential.vector()))"
     ], 
     "language": "python", 
     "outputs": [
      {
       "output_type": "pyout", 
       "prompt_number": 10, 
       "text": [
        "-1.5832194017647732"
       ]
      }
     ], 
     "prompt_number": 10
    }, 
    {
     "cell_type": "code", 
     "collapsed": false, 
     "input": [
      "", 
      "if(1):", 
      "  plt.plot(vFracs, outs[j,:],'b.',label=\"$\\sigma$=%5.1f $[C/m^2]$\" % sigmas[j] )", 
      "  hs = vFracs/(2-vFracs)      ", 
      "  plt.plot(vFracs, hs,'k--',label=\"HS\")      ", 
      "  plt.legend(loc=0)", 
      "  plt.xlabel(\"$\\phi$\") ", 
      "  plt.ylabel(\"D\")", 
      "  plt.xlim([0.0,1])", 
      "  grid(True)  ", 
      "  plt.gcf().savefig(\"fig9.png\")           ", 
      "  "
     ], 
     "language": "python", 
     "outputs": [
      {
       "output_type": "pyout", 
       "prompt_number": 25, 
       "text": [
        "800.0"
       ]
      }, 
      {
       "output_type": "display_data", 
       "png": "[encoded data removed]"
      }
     ], 
     "prompt_number": 25
    }, 
    {
     "cell_type": "code", 
     "collapsed": true, 
     "input": [], 
     "language": "python", 
     "outputs": []
    }
   ]
  }
 ]
}