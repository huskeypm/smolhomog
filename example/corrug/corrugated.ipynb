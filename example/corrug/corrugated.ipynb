{
 "metadata": {
  "name": "corrugated"
 }, 
 "nbformat": 2, 
 "worksheets": [
  {
   "cells": [
    {
     "cell_type": "code", 
     "collapsed": false, 
     "input": [
      "from dolfin import *", 
      "import sys", 
      "sys.path.append(\"/home/huskeypm/sources/smolhomog/example/myofibril/\")"
     ], 
     "language": "python", 
     "outputs": [], 
     "prompt_number": 19
    }, 
    {
     "cell_type": "code", 
     "collapsed": true, 
     "input": [
      "mf.tol = 4.", 
      "class outerBoundary(SubDomain):", 
      "  def inside(self,x,on_boundary):", 
      "    outer = x[1] > (mf.maxs[1]-mf.tol)  or x[1] < (mf.mins[1]+mf.tol)", 
      "    #if outer:", 
      "    #  print x[1], mf.mins[1],mf.maxs[1], outer", 
      "    return outer and on_boundary", 
      "", 
      "class innerBoundary(SubDomain):", 
      "  def inside(self,x,on_boundary):", 
      "    inner = x[1] <= (mf.maxs[1]+mf.tol) or x[1] >= (mf.mins[1]-mf.tol)", 
      "    return inner and on_boundary", 
      "", 
      "# overwrite definition ", 
      "mf.outerBoundary = outerBoundary", 
      "mf.innerBoundary = innerBoundary"
     ], 
     "language": "python", 
     "outputs": [], 
     "prompt_number": 20
    }, 
    {
     "cell_type": "code", 
     "collapsed": false, 
     "input": [
      "import poissonboltzmann as pb", 
      "import homoglight as hl", 
      "import myofibril as mf # just for PB stuff", 
      "", 
      "# ionC [M]", 
      "# sigma [C/m^2]", 
      "def runCase(meshFile,ionC=0.15,sigma=-0.01):", 
      "    mesh = Mesh(meshFile)", 
      "    ", 
      "    mf.mins=np.min(mesh.coordinates(),axis=0)", 
      "    mf.maxs=np.max(mesh.coordinates(),axis=0)", 
      "    ", 
      "    ", 
      "    V = FunctionSpace(mesh,\"CG\",1)", 
      "    dim=2", 
      "    subdomains = MeshFunction(\"uint\",mesh,dim-1)", 
      "    boundary = outerBoundary();", 
      "    outerMarker = 2", 
      "    boundary.mark(subdomains,outerMarker) ", 
      "  ", 
      "    #f = Constant(1.)    ", 
      "    #bc = DirichletBC(V, f, subdomains,outerMarker)", 
      "    #view = Function(V)", 
      "    #bc.apply(view.vector())", 
      "    #File(\"view.pvd\") << view", 
      "    ", 
      "    #import view", 
      "    #view.PrintBoundary(mesh,bcs)", 
      "    parms = pb.parms", 
      "    parms.ionC = ionC # M ", 
      "    boundaryPotential = pb.Grahame(sigma,parms.ionC)", 
      "    print boundaryPotential", 
      "    parms.update()", 
      "", 
      "    bcs=[]", 
      "    f = Constant(boundaryPotential)", 
      "    bcs.append(DirichletBC(V, f, subdomains,outerMarker))", 
      "    ", 
      "    ## Solve PB eqn ", 
      "    (V,potential)= pb.PBEngine(mesh,V,subdomains,bcs)", 
      "    File(\"psi.pvd\") << potential", 
      "    scaledPotential = Function(V)", 
      "", 
      "    ", 
      "    zLigs = np.array([-1,0,1])", 
      "    Ds = np.zeros(np.shape(zLigs)[0])", 
      "    for i,zLig in enumerate(zLigs):", 
      "      parms.zLig = zLig", 
      "", 
      "      #scaledPotential.vector()[:] = parms.Fz_o_RT*potential.vector()[:]  ", 
      "      scaledPotential.vector()[:] = parms.F_o_RT*potential.vector()[:]", 
      "      scaledPotential.vector()[:] = parms.kT * scaledPotential.vector()[:]  # (z=+,psi=+) --> V", 
      "      results = hl.runHomog(fileXML=meshFile,psi=scaledPotential,\\", 
      "                            reflectiveBoundary=\"backfront\",q=parms.zLig,smolMode=True)", 
      "      #print \"y dir \", results.d_eff[1] ", 
      "      Ds[i] =results.d_eff[0]", 
      "        ", 
      "    return zLigs, Ds", 
      "", 
      "     "
     ], 
     "language": "python", 
     "outputs": [], 
     "prompt_number": 22
    }, 
    {
     "cell_type": "code", 
     "collapsed": false, 
     "input": [
      "class empty:pass", 
      "shallow = empty()", 
      "shallow.meshFile=\"meshShallow.xml\"", 
      "shallow.zLigs,shallow.Ds=runCase(shallow.meshFile,ionC=0.15,sigma=-0.01)   ", 
      "", 
      "deep = empty()", 
      "deep.meshFile=\"meshDeep.xml\"", 
      "deep.zLigs,deep.Ds=runCase(deep.meshFile,ionC=0.15,sigma=-0.01)   "
     ], 
     "language": "python", 
     "outputs": [
      {
       "output_type": "stream", 
       "stream": "stdout", 
       "text": [
        "-11.2529878105", 
        "Solving linear form of PBE", 
        "[-40. -10.]"
       ]
      }, 
      {
       "output_type": "stream", 
       "stream": "stdout", 
       "text": [
        "  maps to  (40.0, -10.0)", 
        "[-40. -10.]  maps to  (-40.0, 10.0)", 
        "Not loading subdomains, since don't think they're needed", 
        "Loading electrostatic potential from argument", 
        "Using z=-1.000000 for the ligand", 
        "Potential range: 0.172249 - 0.259861 "
       ]
      }, 
      {
       "output_type": "stream", 
       "stream": "stdout", 
       "text": [
        "", 
        "WARNING: Your potential does not seem to cross through 0 (reguirement at outer boundary", 
        "SA: 4.000000e+02 [um^2]", 
        "Volume: 1.400000e+03 [um^3]", 
        "Total volume (assuming rectangular): 1.600000e+03 [um^3]", 
        "volume fraction (assuming rectangular): 8.750000e-01 [um^3]", 
        "Labeling backfront as reflective"
       ]
      }, 
      {
       "output_type": "stream", 
       "stream": "stdout", 
       "text": [
        "", 
        "WARNING: assuming D=1.", 
        "Adding in electrostatic component", 
        "pmf REMOVEME 0.172249,0.259861 "
       ]
      }, 
      {
       "output_type": "stream", 
       "stream": "stdout", 
       "text": [
        "", 
        "Intfact: exp(p); 0.645187,0.747911 ", 
        "Using amg preconditioner instead of ilu"
       ]
      }, 
      {
       "output_type": "stream", 
       "stream": "stdout", 
       "text": [
        "", 
        "Writing "
       ]
      }, 
      {
       "output_type": "stream", 
       "stream": "stdout", 
       "text": [
        " ./Molecular_unit.pvd", 
        "omegasO"
       ]
      }, 
      {
       "output_type": "stream", 
       "stream": "stdout", 
       "text": [
        "", 
        "[  8.79551900e+02   2.67132521e-04]", 
        "omegas", 
        "[  8.79551900e+02   2.67132521e-04]", 
        "Reweighting by unit cell vol", 
        "d_eff= [0.55,0.00] for d=1.00", 
        "problem.volUnitCell 1600.0", 
        "[-40. -10.]  maps to  (40.0, -10.0)", 
        "[-40. -10.]  maps to  (-40.0, 10.0)", 
        "Not loading subdomains, since don't think they're needed", 
        "Loading electrostatic potential from argument", 
        "Using z=0.000000 for the ligand", 
        "Potential range: -0.000000 - -0.000000 "
       ]
      }, 
      {
       "output_type": "stream", 
       "stream": "stdout", 
       "text": [
        "", 
        "SA: 4.000000e+02 [um^2]", 
        "Volume: 1.400000e+03 [um^3]", 
        "Total volume (assuming rectangular): 1.600000e+03 [um^3]", 
        "volume fraction (assuming rectangular): 8.750000e-01 [um^3]", 
        "Labeling backfront as reflective"
       ]
      }, 
      {
       "output_type": "stream", 
       "stream": "stdout", 
       "text": [
        "", 
        "WARNING: assuming D=1.", 
        "Adding in electrostatic component", 
        "pmf REMOVEME -0.000000,-0.000000 "
       ]
      }, 
      {
       "output_type": "stream", 
       "stream": "stdout", 
       "text": [
        "", 
        "Intfact: exp(p); 1.000000,1.000000 "
       ]
      }, 
      {
       "output_type": "stream", 
       "stream": "stdout", 
       "text": [
        "", 
        "Using amg preconditioner instead of ilu", 
        "Writing "
       ]
      }, 
      {
       "output_type": "stream", 
       "stream": "stdout", 
       "text": [
        " ./Molecular_unit.pvd", 
        "omegasO"
       ]
      }, 
      {
       "output_type": "stream", 
       "stream": "stdout", 
       "text": [
        "", 
        "[  1.23477320e+03   3.84057275e-04]", 
        "omegas", 
        "[  1.23477320e+03   3.84057275e-04]", 
        "Reweighting by unit cell vol", 
        "d_eff= [0.77,0.00] for d=1.00", 
        "problem.volUnitCell 1600.0", 
        "[-40. -10.]  maps to  (40.0, -10.0)", 
        "[-40. -10.]  maps to  (-40.0, 10.0)", 
        "Not loading subdomains, since don't think they're needed", 
        "Loading electrostatic potential from argument", 
        "Using z=1.000000 for the ligand", 
        "Potential range: -0.259861 - -0.172249 "
       ]
      }, 
      {
       "output_type": "stream", 
       "stream": "stdout", 
       "text": [
        "", 
        "WARNING: Your potential does not seem to cross through 0 (reguirement at outer boundary", 
        "SA: 4.000000e+02 [um^2]", 
        "Volume: 1.400000e+03 [um^3]", 
        "Total volume (assuming rectangular): 1.600000e+03 [um^3]", 
        "volume fraction (assuming rectangular): 8.750000e-01 [um^3]", 
        "Labeling backfront as reflective"
       ]
      }, 
      {
       "output_type": "stream", 
       "stream": "stdout", 
       "text": [
        "", 
        "WARNING: assuming D=1.", 
        "Adding in electrostatic component", 
        "pmf REMOVEME -0.259861,-0.172249 "
       ]
      }, 
      {
       "output_type": "stream", 
       "stream": "stdout", 
       "text": [
        "", 
        "Intfact: exp(p); 1.337057,1.549938 "
       ]
      }, 
      {
       "output_type": "stream", 
       "stream": "stdout", 
       "text": [
        "", 
        "Using amg preconditioner instead of ilu", 
        "Writing "
       ]
      }, 
      {
       "output_type": "stream", 
       "stream": "stdout", 
       "text": [
        " ./Molecular_unit.pvd", 
        "omegasO"
       ]
      }, 
      {
       "output_type": "stream", 
       "stream": "stdout", 
       "text": [
        "", 
        "[  1.73691759e+03   1.66552568e-04]", 
        "omegas", 
        "[  1.73691759e+03   1.66552568e-04]", 
        "Reweighting by unit cell vol", 
        "d_eff= [1.09,0.00] for d=1.00", 
        "problem.volUnitCell 1600.0", 
        "-11.2529878105"
       ]
      }, 
      {
       "output_type": "stream", 
       "stream": "stdout", 
       "text": [
        "", 
        "Solving linear form of PBE", 
        "[-40. -10.]"
       ]
      }, 
      {
       "output_type": "stream", 
       "stream": "stdout", 
       "text": [
        "  maps to  (40.0, -10.0)", 
        "[-40. -10.]  maps to  (-40.0, 10.0)", 
        "Not loading subdomains, since don't think they're needed", 
        "Loading electrostatic potential from argument", 
        "Using z=-1.000000 for the ligand", 
        "Potential range: 0.167006 - 0.259861 "
       ]
      }, 
      {
       "output_type": "stream", 
       "stream": "stdout", 
       "text": [
        "", 
        "WARNING: Your potential does not seem to cross through 0 (reguirement at outer boundary", 
        "SA: 8.000000e+02 [um^2]", 
        "Volume: 1.000000e+03 [um^3]", 
        "Total volume (assuming rectangular): 1.600000e+03 [um^3]", 
        "volume fraction (assuming rectangular): 6.250000e-01 [um^3]", 
        "Labeling backfront as reflective"
       ]
      }, 
      {
       "output_type": "stream", 
       "stream": "stdout", 
       "text": [
        "", 
        "WARNING: assuming D=1.", 
        "Adding in electrostatic component", 
        "pmf REMOVEME 0.167006,0.259861 "
       ]
      }, 
      {
       "output_type": "stream", 
       "stream": "stdout", 
       "text": [
        "", 
        "Intfact: exp(p); 0.645187,0.754554 "
       ]
      }, 
      {
       "output_type": "stream", 
       "stream": "stdout", 
       "text": [
        "", 
        "Using amg preconditioner instead of ilu", 
        "Writing "
       ]
      }, 
      {
       "output_type": "stream", 
       "stream": "stdout", 
       "text": [
        " ./Molecular_unit.pvd", 
        "omegasO"
       ]
      }, 
      {
       "output_type": "stream", 
       "stream": "stdout", 
       "text": [
        "", 
        "[  3.26008374e+02  -1.96660584e-04]", 
        "omegas", 
        "[  3.26008374e+02  -1.96660584e-04]", 
        "Reweighting by unit cell vol", 
        "d_eff= [0.20,-0.00] for d=1.00", 
        "problem.volUnitCell 1600.0", 
        "[-40. -10.]  maps to  (40.0, -10.0)", 
        "[-40. -10.]  maps to  (-40.0, 10.0)", 
        "Not loading subdomains, since don't think they're needed", 
        "Loading electrostatic potential from argument", 
        "Using z=0.000000 for the ligand", 
        "Potential range: -0.000000 - -0.000000 "
       ]
      }, 
      {
       "output_type": "stream", 
       "stream": "stdout", 
       "text": [
        "", 
        "SA: 8.000000e+02 [um^2]", 
        "Volume: 1.000000e+03 [um^3]", 
        "Total volume (assuming rectangular): 1.600000e+03 [um^3]", 
        "volume fraction (assuming rectangular): 6.250000e-01 [um^3]", 
        "Labeling backfront as reflective"
       ]
      }, 
      {
       "output_type": "stream", 
       "stream": "stdout", 
       "text": [
        "", 
        "WARNING: assuming D=1.", 
        "Adding in electrostatic component", 
        "pmf REMOVEME -0.000000,-0.000000 "
       ]
      }, 
      {
       "output_type": "stream", 
       "stream": "stdout", 
       "text": [
        "", 
        "Intfact: exp(p); 1.000000,1.000000 "
       ]
      }, 
      {
       "output_type": "stream", 
       "stream": "stdout", 
       "text": [
        "", 
        "Using amg preconditioner instead of ilu", 
        "Writing "
       ]
      }, 
      {
       "output_type": "stream", 
       "stream": "stdout", 
       "text": [
        " ./Molecular_unit.pvd", 
        "omegasO"
       ]
      }, 
      {
       "output_type": "stream", 
       "stream": "stdout", 
       "text": [
        "", 
        "[  4.34727341e+02  -7.49848870e-05]", 
        "omegas", 
        "[  4.34727341e+02  -7.49848870e-05]", 
        "Reweighting by unit cell vol", 
        "d_eff= [0.27,-0.00] for d=1.00", 
        "problem.volUnitCell 1600.0", 
        "[-40. -10.]  maps to  (40.0, -10.0)", 
        "[-40. -10.]  maps to  (-40.0, 10.0)", 
        "Not loading subdomains, since don't think they're needed", 
        "Loading electrostatic potential from argument", 
        "Using z=1.000000 for the ligand", 
        "Potential range: -0.259861 - -0.167006 "
       ]
      }, 
      {
       "output_type": "stream", 
       "stream": "stdout", 
       "text": [
        "", 
        "WARNING: Your potential does not seem to cross through 0 (reguirement at outer boundary", 
        "SA: 8.000000e+02 [um^2]", 
        "Volume: 1.000000e+03 [um^3]", 
        "Total volume (assuming rectangular): 1.600000e+03 [um^3]", 
        "volume fraction (assuming rectangular): 6.250000e-01 [um^3]", 
        "Labeling backfront as reflective"
       ]
      }, 
      {
       "output_type": "stream", 
       "stream": "stdout", 
       "text": [
        "", 
        "WARNING: assuming D=1.", 
        "Adding in electrostatic component", 
        "pmf REMOVEME -0.259861,-0.167006 "
       ]
      }, 
      {
       "output_type": "stream", 
       "stream": "stdout", 
       "text": [
        "", 
        "Intfact: exp(p); 1.325286,1.549938 ", 
        "Using amg preconditioner instead of ilu"
       ]
      }, 
      {
       "output_type": "stream", 
       "stream": "stdout", 
       "text": [
        "", 
        "Writing "
       ]
      }, 
      {
       "output_type": "stream", 
       "stream": "stdout", 
       "text": [
        " ./Molecular_unit.pvd", 
        "omegasO"
       ]
      }, 
      {
       "output_type": "stream", 
       "stream": "stdout", 
       "text": [
        "", 
        "[  5.79717795e+02  -2.49840560e-04]", 
        "omegas", 
        "[  5.79717795e+02  -2.49840560e-04]", 
        "Reweighting by unit cell vol", 
        "d_eff= [0.36,-0.00] for d=1.00", 
        "problem.volUnitCell 1600.0"
       ]
      }
     ], 
     "prompt_number": 28
    }, 
    {
     "cell_type": "code", 
     "collapsed": false, 
     "input": [
      "shallow.Ds"
     ], 
     "language": "python", 
     "outputs": [
      {
       "output_type": "pyout", 
       "prompt_number": 29, 
       "text": [
        "array([ 0.54971994,  0.77173325,  1.08557349])"
       ]
      }
     ], 
     "prompt_number": 29
    }, 
    {
     "cell_type": "code", 
     "collapsed": false, 
     "input": [
      "deep.Ds"
     ], 
     "language": "python", 
     "outputs": [
      {
       "output_type": "pyout", 
       "prompt_number": 30, 
       "text": [
        "array([ 0.20375523,  0.27170459,  0.36232362])"
       ]
      }
     ], 
     "prompt_number": 30
    }, 
    {
     "cell_type": "code", 
     "collapsed": false, 
     "input": [
      "deep.zLigs"
     ], 
     "language": "python", 
     "outputs": [
      {
       "output_type": "pyout", 
       "prompt_number": 31, 
       "text": [
        "array([-1,  0,  1])"
       ]
      }
     ], 
     "prompt_number": 31
    }, 
    {
     "cell_type": "code", 
     "collapsed": false, 
     "input": [
      "N=3", 
      "ind = np.arange(N)  # the x locations for the groups", 
      "width = 0.35       # the width of the bars", 
      "", 
      "fig, ax = plt.subplots()", 
      "rects1 = ax.bar(ind, shallow.Ds, width, color='r')", 
      "rects2 = ax.bar(ind+width, deep.Ds, width, color='y')", 
      "", 
      "ax.set_ylabel('D')", 
      "ax.set_xlabel('z')", 
      "ax.set_title('Corrugated mesh with $\\sigma$=-0.01 [C/m2]')", 
      "ax.set_xticks(ind+width)", 
      "ax.set_xticklabels( deep.zLigs )", 
      "", 
      "ax.legend((rects1[0], rects2[0]), ('Shallow', 'Deep') )", 
      "plt.gcf().savefig(\"corrugated.png\")"
     ], 
     "language": "python", 
     "outputs": [
      {
       "output_type": "display_data", 
       "png": "[encoded data removed]"
      }
     ], 
     "prompt_number": 41
    }, 
    {
     "cell_type": "code", 
     "collapsed": true, 
     "input": [], 
     "language": "python", 
     "outputs": []
    }
   ]
  }
 ]
}