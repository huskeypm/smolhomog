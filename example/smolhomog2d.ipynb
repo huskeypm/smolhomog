{
 "metadata": {
  "name": "smolhomog2d"
 }, 
 "nbformat": 2, 
 "worksheets": [
  {
   "cells": [
    {
     "cell_type": "code", 
     "collapsed": true, 
     "input": [
      "from dolfin import *", 
      "import sys, math, numpy", 
      "import numpy as np", 
      "", 
      "tol = 1E-14   # tolerance for coordinate comparisons", 
      "EPS=tol", 
      "boundsMin = np.zeros(3)", 
      "boundsMax = np.zeros(3)"
     ], 
     "language": "python", 
     "outputs": [], 
     "prompt_number": 145
    }, 
    {
     "cell_type": "code", 
     "collapsed": false, 
     "input": [
      "## Define layered problem over omega in [0,1] where obstacles ", 
      "## are represented by large PMF (Omega0, Omega2)", 
      "## Note that I am using a dirichlet condition of X=0 on both ends, since ", 
      "## the periodic BCs weren't working; results are independent of the value of the dirichlet cond", 
      "## so I should get the same result had periodic BCs been used ", 
      "", 
      "class params():", 
      "    def __init__(self,margin=0.1):", 
      "        self.mid = 0.5", 
      "        self.margin = margin", 
      "        self.update()", 
      "    def update(self):    ", 
      "        self.minSide = self.mid-self.margin", 
      "        self.maxSide = self.mid+self.margin   ", 
      "", 
      "parms = params()", 
      "", 
      "    ", 
      "def DefineBoundary(x,btype,on_boundary):", 
      "  if(not on_boundary):", 
      "    return 0", 
      "", 
      "  # need this, since for some reason 'dim' is not global", 
      "  dim = np.shape(x)[0]", 
      "", 
      "  tb = fb = 0", 
      "  lr = ( np.abs(x[0]-boundsMin[0]) < EPS or np.abs(x[0]-boundsMax[0]) < EPS)", 
      "  if(dim>=2):", 
      "    tb = ( np.abs(x[1]-boundsMin[1]) < EPS or np.abs(x[1]-boundsMax[1]) < EPS)", 
      "  if(dim==3):", 
      "    fb = ( np.abs(x[2]-boundsMin[2]) < EPS or np.abs(x[2]-boundsMax[2]) < EPS)", 
      "", 
      "  obs = (not tb and not lr and not fb)", 
      "", 
      "  if(btype==\"lr\"):", 
      "    return lr", 
      "", 
      "  if(btype==\"obs\"):", 
      "    return obs", 
      "", 
      "  if(btype==\"tb\"):", 
      "    return tb", 
      "", 
      "  if(btype==\"fb\"):", 
      "    return fb", 
      "", 
      "class XBoundary(SubDomain):", 
      "  def inside(self, x, on_boundary):", 
      "    #return (( x[0] < 0 or x[0] > 7) and on_boundary)", 
      "    return (DefineBoundary(x,\"lr\",on_boundary))", 
      "", 
      "class YBoundary(SubDomain):", 
      "  def inside(self, x, on_boundary):", 
      "    return (DefineBoundary(x,\"tb\", on_boundary))", 
      "", 
      "class ZBoundary(SubDomain):", 
      "  def inside(self, x, on_boundary):", 
      "    return (DefineBoundary(x,\"fb\", on_boundary))", 
      "", 
      "class Omega1(SubDomain):", 
      "    def inside(self, x, on_boundary):", 
      "        dim = np.shape(x)[0]", 
      "        if(dim==1):", 
      "          return True if (x[0] >= parms.minSide and x[0]<=parms.maxSide) else False", 
      "        else:", 
      "          return True if (x[0] >= parms.minSide and x[0]<=parms.maxSide \\", 
      "                          and x[1]>= parms.minSide and x[1]<=parms.maxSide) else False "
     ], 
     "language": "python", 
     "outputs": [], 
     "prompt_number": 146
    }, 
    {
     "cell_type": "code", 
     "collapsed": false, 
     "input": [
      "# barrier height is in units E/kT", 
      "def doit(dim=1,margin=.1,barrierHeight=50,plot=False):", 
      "    ## params", 
      "    parms.margin=margin", 
      "    parms.update()", 
      "    ", 
      "    ## Define Mesh", 
      "    nx = 100; ", 
      "    #dim = 1", 
      "    if(dim==1):", 
      "        mesh = UnitInterval(nx)", 
      "    else:", 
      "        mesh = UnitSquare(nx,nx)", 
      "    #dim = mesh.ufl_cell().geometric_dimension()", 
      "", 
      "    ## Define a MeshFunction over two subdomains", 
      "    subdomains = MeshFunction('uint', mesh, dim)", 
      "", 
      "    # Mark subdomains with numbers 0 and 1", 
      "    markerFree=0;", 
      "    markerObstacle=1;", 
      "    for cell_no in range(len(subdomains.array())):", 
      "        subdomains.array()[cell_no]=markerFree", 
      "    ", 
      "    #subdomain0 = Omega0() ", 
      "    #subdomain0.mark(subdomains, 0)", 
      "    subdomain1 = Omega1() # obstacle", 
      "    subdomain1.mark(subdomains, markerObstacle)", 
      "", 
      "", 
      "    ## Define diffusion constant (D = exp(-V)) within two domains ", 
      "    # Discontinuous basis is used for boundary condition", 
      "    # LAter, continuous basis used for PDE solution ", 
      "    V0 = FunctionSpace(mesh, 'DG', 0)", 
      "    k = Function(V0)", 
      "    ", 
      "    ## Define diffusion constant to assume large values at 'edges' (Omega0 and Omega2), and ", 
      "    ## small value at middle (Omega1). We assume D(y) = exp(-V(y)), so large D corresponds to a obstacle", 
      "    Vpmf = np.array([0,barrierHeight]) # pmg ", 
      "    expnv = np.exp(-Vpmf)", 
      "    k_values = expnv", 
      "", 
      "    # populate ", 
      "    import numpy", 
      "    help = numpy.asarray(subdomains.array(), dtype=numpy.int32)", 
      "    k.vector()[:] = numpy.choose(help, k_values)", 
      "    #print \"exp(-V): \", k.vector().array()", 
      "    ", 
      "    #plot(subdomains, title='subdomains')", 
      "    dx = Measure(\"dx\")[subdomains] ", 
      "    ", 
      "", 
      "    ## Assign BC ", 
      "    for i in np.arange( dim ):", 
      "        boundsMin[i] = np.min(mesh.coordinates()[:,i])", 
      "        boundsMax[i] = np.max(mesh.coordinates()[:,i])", 
      "", 
      "    bcs=[]", 
      "    if(dim==1):", 
      "        V = FunctionSpace(mesh, 'Lagrange', 1)", 
      "        bcs.append(DirichletBC(V,Constant(0),XBoundary()))", 
      "    else:", 
      "        V = VectorFunctionSpace(mesh, 'Lagrange', 1)", 
      "        bcs.append(DirichletBC(V.sub(0),Constant(0),XBoundary()))", 
      "        bcs.append(DirichletBC(V.sub(1),Constant(0),YBoundary()))", 
      "", 
      "    ", 
      "    ## Define weak form of homogenized smol eqn ", 
      "    D0    = Constant(1.)    ", 
      "    Dij = D0*Identity( dim )    ", 
      "    Delta = Identity( dim )", 
      "    ", 
      "    #  D [del u + 1] del v = 0", 
      "    u = TrialFunction(V)", 
      "    v = TestFunction(V)", 
      "    formi = inner(Dij*k*(grad(u)+Delta), grad(v)) ", 
      "    form = formi*dx(markerFree) + formi*dx(markerObstacle)", 
      "    a = lhs(form)", 
      "    L = rhs(form)", 
      "    ", 
      "    ## Compute solution", 
      "    u = Function(V)", 
      "    solve(a == L, u, bcs)", 
      "    ", 
      "    ", 
      "    ## Show chi solution  ", 
      "    from scipy.interpolate import griddata   ", 
      "    if(dim==1):", 
      "        gx = np.mgrid[0:1:100j]", 
      "        interp0 = griddata(mesh.coordinates(),u.vector(),(gx))", 
      "        interp1 = interp0", 
      "        ", 
      "    else:", 
      "        Vs = FunctionSpace(mesh,\"CG\",1)", 
      "        up = project(u[0],V=Vs)    ", 
      "        ", 
      "        gx,gy = np.mgrid[0:1:100j,0:1:1j]", 
      "        interp1 = griddata(mesh.coordinates(),up.vector(),(gx,gy))", 
      "        gx,gy = np.mgrid[0:1:100j,0:1:100j]", 
      "        interp0 = griddata(mesh.coordinates(),up.vector(),(gx,gy))", 
      "      ", 
      "    if(plot):      ", 
      "        plt.subplot(121)  ", 
      "        if(dim==2):", 
      "            plt.pcolormesh(gx[:,0],gy[0,:],interp0)", 
      "        plt.subplot(122)  ", 
      "        plt.plot(gx[:,0],interp1)", 
      "", 
      " ", 
      "    ## Compute effective diff. tensor     ", 
      "    # define form for grad(chi) + delta ", 
      "    omegas = np.zeros(dim)    ", 
      "    forms = []", 
      "    if(dim==1):    ", 
      "        grad_Xi_component = k*(grad(u)+Constant(1.0))  ", 
      "        forms.append(grad_Xi_component)", 
      "    ", 
      "    if(dim==2):", 
      "      for i in range(dim):", 
      "            v = [0,0,0]", 
      "            v[i] = 1", 
      "            grad_Xi_component = k*(inner(grad(u[i]),Constant((v[0],v[1]))) + Constant(1))", 
      "            forms.append(grad_Xi_component)", 
      "            ", 
      "    # Evaluate form ", 
      "    for i,grad_Xi_component in enumerate(forms):     ", 
      "        print \"WARNING: double check that pmf should be applied to delta\"", 
      "        form = grad_Xi_component * dx(markerFree) + grad_Xi_component*dx(markerObstacle)  ", 
      "        integrand = assemble(form)", 
      "        omegas[i] = integrand", 
      "    ", 
      "    ## Compare diff const. with analytical bounds (2D) ", 
      "    diff=boundsMax-boundsMin", 
      "    unitCellVol =   np.prod(diff[0:dim])", 
      "    freeVol = assemble(Constant(1.)*dx(markerFree),mesh=mesh)", 
      "    phi = freeVol/unitCellVol", 
      "    Dsanal = phi/(2-phi)", 
      "    Ds = omegas/unitCellVol", 
      "    print phi", 
      "    print \"Ds anal est (2D) \", Dsanal", 
      "    print \"Ds pred \", Ds", 
      "    class empty:pass", 
      "    results = empty()", 
      "    results.phi = phi", 
      "    results.Ds = Ds", 
      "    results.Dsanal= Dsanal", 
      "    results.interp1 = interp1", 
      "    results.gx=gx", 
      "    return results", 
      "    ", 
      "", 
      "   "
     ], 
     "language": "python", 
     "outputs": [], 
     "prompt_number": 213
    }, 
    {
     "cell_type": "code", 
     "collapsed": false, 
     "input": [
      "results=doit(dim=2,margin=0.1,plot=True)"
     ], 
     "language": "python", 
     "outputs": [
      {
       "output_type": "stream", 
       "stream": "stdout", 
       "text": [
        "WARNING: double check that pmf should be applied to delta", 
        "WARNING: double check that pmf should be applied to delta", 
        "0.96", 
        "Ds anal est (2D)  0.923076923077", 
        "Ds pred  [ 0.91685748  0.91685748]"
       ]
      }, 
      {
       "output_type": "display_data", 
       "png": "[encoded data removed]"
      }
     ], 
     "prompt_number": 214
    }, 
    {
     "cell_type": "code", 
     "collapsed": false, 
     "input": [
      "margins=np.linspace(0.05,0.48,20);", 
      "Dss = []", 
      "Dsanals=[]", 
      "phis=[]", 
      "for i,margin in enumerate(margins):", 
      "    results = doit(dim=2,margin=margin,plot=False)", 
      "    Dss.append(results.Ds[0])", 
      "    Dsanals.append(results.Dsanal)", 
      "    phis.append(results.phi)", 
      "    ", 
      "Dss = np.array(Dss) ", 
      "Dsanals = np.array(Dsanals)", 
      "phis = np.array(phis)"
     ], 
     "language": "python", 
     "outputs": [
      {
       "output_type": "stream", 
       "stream": "stdout", 
       "text": [
        "WARNING: double check that pmf should be applied to delta", 
        "WARNING: double check that pmf should be applied to delta", 
        "0.99"
       ]
      }, 
      {
       "output_type": "stream", 
       "stream": "stdout", 
       "text": [
        "", 
        "Ds anal est (2D)  0.980198019802", 
        "Ds pred  [ 0.97880373  0.97880373]", 
        "WARNING: double check that pmf should be applied to delta"
       ]
      }, 
      {
       "output_type": "stream", 
       "stream": "stdout", 
       "text": [
        "", 
        "WARNING: double check that pmf should be applied to delta", 
        "0.9804"
       ]
      }, 
      {
       "output_type": "stream", 
       "stream": "stdout", 
       "text": [
        "", 
        "Ds anal est (2D)  0.961553550412", 
        "Ds pred  [ 0.95856836  0.95856836]", 
        "WARNING: double check that pmf should be applied to delta"
       ]
      }, 
      {
       "output_type": "stream", 
       "stream": "stdout", 
       "text": [
        "", 
        "WARNING: double check that pmf should be applied to delta", 
        "0.9676", 
        "Ds anal est (2D)  0.937233630376", 
        "Ds pred  [ 0.93218859  0.93218859]", 
        "WARNING: double check that pmf should be applied to delta"
       ]
      }, 
      {
       "output_type": "stream", 
       "stream": "stdout", 
       "text": [
        "", 
        "WARNING: double check that pmf should be applied to delta", 
        "0.9516", 
        "Ds anal est (2D)  0.907668828691", 
        "Ds pred  [ 0.90019854  0.90019854]", 
        "WARNING: double check that pmf should be applied to delta"
       ]
      }, 
      {
       "output_type": "stream", 
       "stream": "stdout", 
       "text": [
        "", 
        "WARNING: double check that pmf should be applied to delta", 
        "0.9216"
       ]
      }, 
      {
       "output_type": "stream", 
       "stream": "stdout", 
       "text": [
        "", 
        "Ds anal est (2D)  0.854599406528", 
        "Ds pred  [ 0.84309355  0.84309355]", 
        "WARNING: double check that pmf should be applied to delta"
       ]
      }, 
      {
       "output_type": "stream", 
       "stream": "stdout", 
       "text": [
        "", 
        "WARNING: double check that pmf should be applied to delta", 
        "0.8976", 
        "Ds anal est (2D)  0.814223512337", 
        "Ds pred  [ 0.79999041  0.79999041]", 
        "WARNING: double check that pmf should be applied to delta"
       ]
      }, 
      {
       "output_type": "stream", 
       "stream": "stdout", 
       "text": [
        "", 
        "WARNING: double check that pmf should be applied to delta", 
        "0.8704", 
        "Ds anal est (2D)  0.770538243626", 
        "Ds pred  [ 0.75375178  0.75375178]", 
        "WARNING: double check that pmf should be applied to delta"
       ]
      }, 
      {
       "output_type": "stream", 
       "stream": "stdout", 
       "text": [
        "", 
        "WARNING: double check that pmf should be applied to delta", 
        "0.84", 
        "Ds anal est (2D)  0.724137931034", 
        "Ds pred  [ 0.70515146  0.70515146]", 
        "WARNING: double check that pmf should be applied to delta"
       ]
      }, 
      {
       "output_type": "stream", 
       "stream": "stdout", 
       "text": [
        "", 
        "WARNING: double check that pmf should be applied to delta", 
        "0.7884"
       ]
      }, 
      {
       "output_type": "stream", 
       "stream": "stdout", 
       "text": [
        "", 
        "Ds anal est (2D)  0.650709805216", 
        "Ds pred  [ 0.62944661  0.62944661]", 
        "WARNING: double check that pmf should be applied to delta"
       ]
      }, 
      {
       "output_type": "stream", 
       "stream": "stdout", 
       "text": [
        "", 
        "WARNING: double check that pmf should be applied to delta", 
        "0.75", 
        "Ds anal est (2D)  0.6", 
        "Ds pred  [ 0.5780895  0.5780895]", 
        "WARNING: double check that pmf should be applied to delta"
       ]
      }, 
      {
       "output_type": "stream", 
       "stream": "stdout", 
       "text": [
        "", 
        "WARNING: double check that pmf should be applied to delta", 
        "0.7084", 
        "Ds anal est (2D)  0.548467017652", 
        "Ds pred  [ 0.52669073  0.52669073]", 
        "WARNING: double check that pmf should be applied to delta"
       ]
      }, 
      {
       "output_type": "stream", 
       "stream": "stdout", 
       "text": [
        "", 
        "WARNING: double check that pmf should be applied to delta", 
        "0.6636", 
        "Ds anal est (2D)  0.496557916791", 
        "Ds pred  [ 0.47569911  0.47569911]", 
        "WARNING: double check that pmf should be applied to delta"
       ]
      }, 
      {
       "output_type": "stream", 
       "stream": "stdout", 
       "text": [
        "", 
        "WARNING: double check that pmf should be applied to delta", 
        "0.5904", 
        "Ds anal est (2D)  0.418842224745", 
        "Ds pred  [ 0.40066569  0.40066569]", 
        "WARNING: double check that pmf should be applied to delta"
       ]
      }, 
      {
       "output_type": "stream", 
       "stream": "stdout", 
       "text": [
        "", 
        "WARNING: double check that pmf should be applied to delta", 
        "0.5376", 
        "Ds anal est (2D)  0.36761487965", 
        "Ds pred  [ 0.35189055  0.35189055]", 
        "WARNING: double check that pmf should be applied to delta"
       ]
      }, 
      {
       "output_type": "stream", 
       "stream": "stdout", 
       "text": [
        "", 
        "WARNING: double check that pmf should be applied to delta", 
        "0.4816", 
        "Ds anal est (2D)  0.31717597471", 
        "Ds pred  [ 0.30421482  0.30421482]", 
        "WARNING: double check that pmf should be applied to delta"
       ]
      }, 
      {
       "output_type": "stream", 
       "stream": "stdout", 
       "text": [
        "", 
        "WARNING: double check that pmf should be applied to delta", 
        "0.4224", 
        "Ds anal est (2D)  0.267748478702", 
        "Ds pred  [ 0.25765369  0.25765369]", 
        "WARNING: double check that pmf should be applied to delta"
       ]
      }, 
      {
       "output_type": "stream", 
       "stream": "stdout", 
       "text": [
        "", 
        "WARNING: double check that pmf should be applied to delta", 
        "0.3276"
       ]
      }, 
      {
       "output_type": "stream", 
       "stream": "stdout", 
       "text": [
        "", 
        "Ds anal est (2D)  0.195886151638", 
        "Ds pred  [ 0.18985448  0.18985448]", 
        "WARNING: double check that pmf should be applied to delta"
       ]
      }, 
      {
       "output_type": "stream", 
       "stream": "stdout", 
       "text": [
        "", 
        "WARNING: double check that pmf should be applied to delta", 
        "0.2604", 
        "Ds anal est (2D)  0.149689583812", 
        "Ds pred  [ 0.14596565  0.14596565]", 
        "WARNING: double check that pmf should be applied to delta"
       ]
      }, 
      {
       "output_type": "stream", 
       "stream": "stdout", 
       "text": [
        "", 
        "WARNING: double check that pmf should be applied to delta", 
        "0.19", 
        "Ds anal est (2D)  0.104972375691", 
        "Ds pred  [ 0.10308199  0.10308199]", 
        "WARNING: double check that pmf should be applied to delta"
       ]
      }, 
      {
       "output_type": "stream", 
       "stream": "stdout", 
       "text": [
        "", 
        "WARNING: double check that pmf should be applied to delta", 
        "0.0975", 
        "Ds anal est (2D)  0.0512483574244", 
        "Ds pred  [ 0.05084052  0.05084052]"
       ]
      }
     ], 
     "prompt_number": 190
    }, 
    {
     "cell_type": "code", 
     "collapsed": false, 
     "input": [
      "# plot and process", 
      "plt.figure()", 
      "plt.plot(phis,Dss,'k.',label=\"Predicted\")", 
      "plt.plot(phis,Dsanals,'k--',label=\"HS bound\")", 
      "plt.legend(loc=0)", 
      "plt.ylabel(\"D\")", 
      "plt.xlabel(\"Accessible volume fraction, $\\phi$\")", 
      "plt.title(\"Homogenized smoluchowski equation with Box PMF\")"
     ], 
     "language": "python", 
     "outputs": [
      {
       "output_type": "pyout", 
       "prompt_number": 191, 
       "text": [
        "<matplotlib.text.Text at 0x9ca1b50>"
       ]
      }, 
      {
       "output_type": "display_data", 
       "png": "[encoded data removed]"
      }
     ], 
     "prompt_number": 191
    }, 
    {
     "cell_type": "code", 
     "collapsed": false, 
     "input": [
      "allResults = []", 
      "", 
      "kT = 0.6 # [kcal/mol]", 
      "barrierHeights = np.linspace(-1,1,5)", 
      "", 
      "cols=['r-','r--','k-','b--','b-']", 
      "", 
      "plt.figure()", 
      "plt.subplot(121)", 
      "Dss = []", 
      "for i,barrierHeight in enumerate(barrierHeights):", 
      "  expV = np.exp(-barrierHeight/kT)", 
      "  results=doit(dim=2,margin=0.3,barrierHeight=expV,plot=False)", 
      "  Dss.append(results.Ds[0])", 
      "  label = \"V=%3.1f\" % barrierHeight", 
      "  plt.plot(results.gx[:,0],results.interp1,cols[i],label=label)", 
      "  allResults.append(results)", 
      "plt.legend(loc=0)", 
      "plt.xlabel(\"x\")", 
      "plt.ylabel(\"$\\chi_x$\") ", 
      "", 
      "Dss = np.asarray(Dss)", 
      "plt.subplot(122)", 
      "plt.plot(barrierHeights,Dss,'k-',label=\"Predicted\")", 
      "plt.legend(loc=0)", 
      "plt.ylabel(\"D\")", 
      "plt.xlabel(\"V [kcal/mol]\")", 
      "plt.title(\"Homogenized smoluchowski equation with Box PMF\")"
     ], 
     "language": "python", 
     "outputs": [
      {
       "output_type": "stream", 
       "stream": "stdout", 
       "text": [
        "WARNING: double check that pmf should be applied to delta", 
        "WARNING: double check that pmf should be applied to delta", 
        "0.64", 
        "Ds anal est (2D)  0.470588235294", 
        "Ds pred  [ 0.45489876  0.45489876]", 
        "WARNING: double check that pmf should be applied to delta"
       ]
      }, 
      {
       "output_type": "stream", 
       "stream": "stdout", 
       "text": [
        "", 
        "WARNING: double check that pmf should be applied to delta", 
        "0.64", 
        "Ds anal est (2D)  0.470588235294", 
        "Ds pred  [ 0.53333996  0.53333996]", 
        "WARNING: double check that pmf should be applied to delta"
       ]
      }, 
      {
       "output_type": "stream", 
       "stream": "stdout", 
       "text": [
        "", 
        "WARNING: double check that pmf should be applied to delta", 
        "0.64"
       ]
      }, 
      {
       "output_type": "stream", 
       "stream": "stdout", 
       "text": [
        "", 
        "Ds anal est (2D)  0.470588235294", 
        "Ds pred  [ 0.71226731  0.71226731]", 
        "WARNING: double check that pmf should be applied to delta"
       ]
      }, 
      {
       "output_type": "stream", 
       "stream": "stdout", 
       "text": [
        "", 
        "WARNING: double check that pmf should be applied to delta", 
        "0.64", 
        "Ds anal est (2D)  0.470588235294", 
        "Ds pred  [ 0.85670107  0.85670107]", 
        "WARNING: double check that pmf should be applied to delta"
       ]
      }, 
      {
       "output_type": "stream", 
       "stream": "stdout", 
       "text": [
        "", 
        "WARNING: double check that pmf should be applied to delta", 
        "0.64", 
        "Ds anal est (2D)  0.470588235294", 
        "Ds pred  [ 0.93440483  0.93440483]"
       ]
      }, 
      {
       "output_type": "pyout", 
       "prompt_number": 238, 
       "text": [
        "<matplotlib.text.Text at 0x99b09d0>"
       ]
      }, 
      {
       "output_type": "display_data", 
       "png": "[encoded data removed]"
      }
     ], 
     "prompt_number": 238
    }, 
    {
     "cell_type": "code", 
     "collapsed": false, 
     "input": [
      ""
     ], 
     "language": "python", 
     "outputs": [
      {
       "output_type": "stream", 
       "stream": "stdout", 
       "text": [
        "WARNING: double check that pmf should be applied to delta", 
        "WARNING: double check that pmf should be applied to delta", 
        "0.96", 
        "Ds anal est (2D)  0.923076923077", 
        "Ds pred  [ 0.96314198  0.96314198]"
       ]
      }, 
      {
       "output_type": "pyout", 
       "prompt_number": 225, 
       "text": [
        "[<matplotlib.lines.Line2D at 0xaaf5190>]"
       ]
      }, 
      {
       "output_type": "display_data", 
       "png": "[encoded data removed]"
      }
     ], 
     "prompt_number": 225
    }, 
    {
     "cell_type": "code", 
     "collapsed": true, 
     "input": [], 
     "language": "python", 
     "outputs": []
    }
   ]
  }
 ]
}