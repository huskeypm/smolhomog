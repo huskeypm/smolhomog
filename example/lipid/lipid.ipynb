{
 "metadata": {
  "name": "lipid"
 }, 
 "nbformat": 2, 
 "worksheets": [
  {
   "cells": [
    {
     "cell_type": "code", 
     "collapsed": false, 
     "input": [
      "# for chemcca11 only", 
      "import sys", 
      "from dolfin import *", 
      "sys.path.append(\"/net/home/huskeypm/bin/grids/\")", 
      "sys.path.append(\"/net/home/huskeypm/Sources/smolhomog/example/\")", 
      "sys.path.append(\"/net/home/huskeypm/Sources/homogenization/\")", 
      "import caseRunner as cr # just for PB stuff", 
      "import poissonboltzmann as pb", 
      "", 
      "## make mesh ", 
      "# use markLipid.ipylb", 
      "# \"WARNING: will want to remove <domain> section  from xml file and resave\"", 
      "", 
      "## assign charge ", 
      "", 
      "class allBoundary(SubDomain):", 
      "  def inside(self,x,on_boundary):", 
      "        return on_boundary", 
      "class innerBoundary(SubDomain):", 
      "  def inside(self,x,on_boundary):", 
      "    tol = cr.tol    ", 
      "    inner = (\\", 
      "       x[0]>cr.mins[0]+tol and x[0]<cr.maxs[0]-tol and \\", 
      "       x[1]>cr.mins[1]+tol and x[1]<cr.maxs[1]-tol and\\", 
      "       x[2]>cr.mins[2]+tol and x[2]<cr.maxs[2]-tol)", 
      "       ", 
      "    return inner and on_boundary", 
      "", 
      "", 
      "meshFile = \"bilayer.xml.gz\"", 
      "#meshFile = \"../tnc/tnc_mesh.xml.gz\"", 
      "", 
      "# Create mesh and define function space", 
      "mesh = Mesh(meshFile)", 
      "import numpy as np  ", 
      "mins=np.min(mesh.coordinates(),axis=0)", 
      "maxs=np.max(mesh.coordinates(),axis=0)", 
      "", 
      "tol = 6.", 
      "checkBC=False", 
      "if(checkBC):", 
      "    import view ", 
      "    mesh = Mesh(meshFile)", 
      "    V = FunctionSpace(mesh,\"CG\",1)", 
      "    subdomains = MeshFunction(\"uint\",mesh,3-1)", 
      "    boundary = innerBoundary();", 
      "    boundary.mins =mins; boundary.maxs=maxs ; boundary.tol = tol", 
      "    chargeMarker = 2", 
      "    boundary.mark(subdomains,chargeMarker)", 
      "    bcs = [DirichletBC(V,Constant(1.),subdomains,chargeMarker)]", 
      "    view.PrintBoundary(mesh,bcs)", 
      "#import homoglight as hl", 
      "#results = hl.runHomog(fileXML=meshFile,gamer=1)", 
      "", 
      "#z,Ds=cr.runCase(meshFile=meshFile,\\", 
      "#                ionC=0.15,sigma=-0.01,chargeBoundary=innerBoundary,singleCase=True,\\", 
      "#                meshType=\"gamer\")", 
      "", 
      "", 
      "parms = pb.parms", 
      "cr.dims = 3", 
      "cr.mins =mins; cr.maxs=maxs ; cr.tol = tol", 
      "", 
      "nCs=8", 
      "ionCs = 10**np.linspace(-3,0,nCs)", 
      "nLigs = 5", 
      "allDs = np.zeros((nCs,nLigs))", 
      "sigma = -0.01 # C/,^2", 
      "", 
      "for i,ionC in enumerate(ionCs):", 
      "    # compute esp for given ionC (need to use APBS here) ", 
      "    parms.ionC = ionC # M ", 
      "    parms.update()", 
      "    boundaryPotential = pb.Grahame(sigma,parms.ionC)", 
      "    potentExpr = Expression(\"sin(x[1]*a)*sin(x[0]*a)*b+c\",a=0.5,b=8.5,c=boundaryPotential)", 
      "    potential, V = cr.CalcPotential(mesh,ionC,0,chargeBoundary=innerBoundary,f=potentExpr)", 
      "    ", 
      "    # get diff coeff ", 
      "    z,Ds=cr.runCase(meshFile=meshFile,\\", 
      "                potential = potential)#    ,singleCase=True)", 
      "                #ionC=ionC,sigma=-0.01,chargeBoundary=innerBoundary) #,singleCase=True)", 
      "    allDs[i,:] = Ds", 
      "    "
     ], 
     "language": "python", 
     "outputs": [
      {
       "output_type": "stream", 
       "stream": "stdout", 
       "text": [
        "WARNING: This code is no-where close to being validated (use at your own risk)", 
        "WARNING: removed ANG TO UM", 
        "WARNING: removed ANG TO UM", 
        "WARNING: bounds are hardcoded", 
        "0.0"
       ]
      }, 
      {
       "output_type": "stream", 
       "stream": "stdout", 
       "text": [
        "", 
        "Solving linear form of PBE"
       ]
      }, 
      {
       "output_type": "stream", 
       "stream": "stdout", 
       "text": [
        "", 
        "[-42.5 -75.   34. ]"
       ]
      }, 
      {
       "output_type": "stream", 
       "stream": "stdout", 
       "text": [
        "  maps to  (42.5, 75.0, -34.0)", 
        "[-42.5 -75.   34. ]  maps to  (-42.5, 75.0, -34.0)", 
        "[-42.5  75.  -34. ]  maps to  (-42.5, -75.0, 34.0)", 
        "Not loading subdomains, since don't think they're needed", 
        "Loading electrostatic potential from argument"
       ]
      }, 
      {
       "output_type": "stream", 
       "stream": "stdout", 
       "text": [
        "", 
        "Using z=-2.000000 for the ligand", 
        "Potential range: 3.453087 - 4.475773 "
       ]
      }, 
      {
       "output_type": "stream", 
       "stream": "stdout", 
       "text": [
        "", 
        "WARNING: Your potential does not seem to cross through 0 (reguirement at outer boundary", 
        "SA: 1.169764e+05 [um^2]"
       ]
      }, 
      {
       "output_type": "stream", 
       "stream": "stdout", 
       "text": [
        "", 
        "Volume: 6.192545e+05 [um^3]"
       ]
      }, 
      {
       "output_type": "stream", 
       "stream": "stdout", 
       "text": [
        "", 
        "Total volume (assuming rectangular): 8.670000e+05 [um^3]", 
        "volume fraction (assuming rectangular): 7.142497e-01 [um^3]", 
        "Adding in electrostatic component"
       ]
      }, 
      {
       "output_type": "stream", 
       "stream": "stdout", 
       "text": [
        "", 
        "pmf REMOVEME 3.453087,4.475773 "
       ]
      }, 
      {
       "output_type": "stream", 
       "stream": "stdout", 
       "text": [
        "", 
        "Intfact: exp(p); 0.000527,0.002958 "
       ]
      }, 
      {
       "output_type": "stream", 
       "stream": "stdout", 
       "text": [
        "", 
        "Using amg preconditioner instead of ilu"
       ]
      }, 
      {
       "output_type": "stream", 
       "stream": "stdout", 
       "text": [
        "", 
        "Writing "
       ]
      }, 
      {
       "output_type": "stream", 
       "stream": "stdout", 
       "text": [
        " ./Molecular_unit.pvd", 
        "omegasO"
       ]
      }, 
      {
       "output_type": "stream", 
       "stream": "stdout", 
       "text": [
        "", 
        "[ 766.13655595  763.97658361  190.47370727]", 
        "omegas", 
        "[ 766.13655595  763.97658361  190.47370727]", 
        "Reweighting by unit cell vol", 
        "d_eff= [0.00,0.00,0.00] for d=1.00", 
        "problem.volUnitCell 867000.0", 
        "[-42.5 -75.   34. ]"
       ]
      }, 
      {
       "output_type": "stream", 
       "stream": "stdout", 
       "text": [
        "  maps to  (42.5, 75.0, -34.0)", 
        "[-42.5 -75.   34. ]  maps to  (-42.5, 75.0, -34.0)", 
        "[-42.5  75.  -34. ]  maps to  (-42.5, -75.0, 34.0)", 
        "Not loading subdomains, since don't think they're needed", 
        "Loading electrostatic potential from argument", 
        "Using z=-1.000000 for the ligand"
       ]
      }, 
      {
       "output_type": "stream", 
       "stream": "stdout", 
       "text": [
        "", 
        "Potential range: 1.726544 - 2.237886 "
       ]
      }, 
      {
       "output_type": "stream", 
       "stream": "stdout", 
       "text": [
        "", 
        "WARNING: Your potential does not seem to cross through 0 (reguirement at outer boundary", 
        "SA: 1.169764e+05 [um^2]"
       ]
      }, 
      {
       "output_type": "stream", 
       "stream": "stdout", 
       "text": [
        "", 
        "Volume: 6.192545e+05 [um^3]"
       ]
      }, 
      {
       "output_type": "stream", 
       "stream": "stdout", 
       "text": [
        "", 
        "Total volume (assuming rectangular): 8.670000e+05 [um^3]", 
        "volume fraction (assuming rectangular): 7.142497e-01 [um^3]", 
        "Adding in electrostatic component"
       ]
      }, 
      {
       "output_type": "stream", 
       "stream": "stdout", 
       "text": [
        "", 
        "pmf REMOVEME 1.726544,2.237886 "
       ]
      }, 
      {
       "output_type": "stream", 
       "stream": "stdout", 
       "text": [
        "", 
        "Intfact: exp(p); 0.022964,0.054392 "
       ]
      }, 
      {
       "output_type": "stream", 
       "stream": "stdout", 
       "text": [
        "", 
        "Using amg preconditioner instead of ilu"
       ]
      }, 
      {
       "output_type": "stream", 
       "stream": "stdout", 
       "text": [
        "", 
        "Writing "
       ]
      }, 
      {
       "output_type": "stream", 
       "stream": "stdout", 
       "text": [
        " ./Molecular_unit.pvd", 
        "omegasO"
       ]
      }, 
      {
       "output_type": "stream", 
       "stream": "stdout", 
       "text": [
        "", 
        "[ 21354.02622772  21312.39674083   5220.18313202]", 
        "omegas", 
        "[ 21354.02622772  21312.39674083   5220.18313202]", 
        "Reweighting by unit cell vol", 
        "d_eff= [0.02,0.02,0.01] for d=1.00", 
        "problem.volUnitCell 867000.0", 
        "[-42.5 -75.   34. ]"
       ]
      }, 
      {
       "output_type": "stream", 
       "stream": "stdout", 
       "text": [
        "  maps to  (42.5, 75.0, -34.0)", 
        "[-42.5 -75.   34. ]  maps to  (-42.5, 75.0, -34.0)", 
        "[-42.5  75.  -34. ]  maps to  (-42.5, -75.0, 34.0)", 
        "Not loading subdomains, since don't think they're needed", 
        "Loading electrostatic potential from argument"
       ]
      }, 
      {
       "output_type": "stream", 
       "stream": "stdout", 
       "text": [
        "", 
        "Using z=0.000000 for the ligand", 
        "Potential range: -0.000000 - -0.000000 "
       ]
      }, 
      {
       "output_type": "stream", 
       "stream": "stdout", 
       "text": [
        "", 
        "SA: 1.169764e+05 [um^2]"
       ]
      }, 
      {
       "output_type": "stream", 
       "stream": "stdout", 
       "text": [
        "", 
        "Volume: 6.192545e+05 [um^3]"
       ]
      }, 
      {
       "output_type": "stream", 
       "stream": "stdout", 
       "text": [
        "", 
        "Total volume (assuming rectangular): 8.670000e+05 [um^3]", 
        "volume fraction (assuming rectangular): 7.142497e-01 [um^3]", 
        "Adding in electrostatic component"
       ]
      }, 
      {
       "output_type": "stream", 
       "stream": "stdout", 
       "text": [
        "", 
        "pmf REMOVEME -0.000000,-0.000000 "
       ]
      }, 
      {
       "output_type": "stream", 
       "stream": "stdout", 
       "text": [
        "", 
        "Intfact: exp(p); 1.000000,1.000000 "
       ]
      }, 
      {
       "output_type": "stream", 
       "stream": "stdout", 
       "text": [
        "", 
        "Using amg preconditioner instead of ilu"
       ]
      }, 
      {
       "output_type": "stream", 
       "stream": "stdout", 
       "text": [
        "", 
        "Writing "
       ]
      }, 
      {
       "output_type": "stream", 
       "stream": "stdout", 
       "text": [
        " ./Molecular_unit.pvd", 
        "omegasO"
       ]
      }, 
      {
       "output_type": "stream", 
       "stream": "stdout", 
       "text": [
        "", 
        "[ 605251.37075516  603599.73828175  142698.65360351]", 
        "omegas", 
        "[ 605251.37075516  603599.73828175  142698.65360351]", 
        "Reweighting by unit cell vol", 
        "d_eff= [0.70,0.70,0.16] for d=1.00", 
        "problem.volUnitCell 867000.0", 
        "[-42.5 -75.   34. ]"
       ]
      }, 
      {
       "output_type": "stream", 
       "stream": "stdout", 
       "text": [
        "  maps to  (42.5, 75.0, -34.0)", 
        "[-42.5 -75.   34. ]  maps to  (-42.5, 75.0, -34.0)", 
        "[-42.5  75.  -34. ]  maps to  (-42.5, -75.0, 34.0)", 
        "Not loading subdomains, since don't think they're needed", 
        "Loading electrostatic potential from argument", 
        "Using z=1.000000 for the ligand", 
        "Potential range: -2.237886 - -1.726544 "
       ]
      }, 
      {
       "output_type": "stream", 
       "stream": "stdout", 
       "text": [
        "", 
        "WARNING: Your potential does not seem to cross through 0 (reguirement at outer boundary", 
        "SA: 1.169764e+05 [um^2]"
       ]
      }, 
      {
       "output_type": "stream", 
       "stream": "stdout", 
       "text": [
        "", 
        "Volume: 6.192545e+05 [um^3]"
       ]
      }, 
      {
       "output_type": "stream", 
       "stream": "stdout", 
       "text": [
        "", 
        "Total volume (assuming rectangular): 8.670000e+05 [um^3]", 
        "volume fraction (assuming rectangular): 7.142497e-01 [um^3]", 
        "Adding in electrostatic component"
       ]
      }, 
      {
       "output_type": "stream", 
       "stream": "stdout", 
       "text": [
        "", 
        "pmf REMOVEME -2.237886,-1.726544 "
       ]
      }, 
      {
       "output_type": "stream", 
       "stream": "stdout", 
       "text": [
        "", 
        "Intfact: exp(p); 18.385103,43.546909 "
       ]
      }, 
      {
       "output_type": "stream", 
       "stream": "stdout", 
       "text": [
        "", 
        "Using amg preconditioner instead of ilu"
       ]
      }, 
      {
       "output_type": "stream", 
       "stream": "stdout", 
       "text": [
        "", 
        "Writing "
       ]
      }, 
      {
       "output_type": "stream", 
       "stream": "stdout", 
       "text": [
        " ./Molecular_unit.pvd", 
        "omegasO"
       ]
      }, 
      {
       "output_type": "stream", 
       "stream": "stdout", 
       "text": [
        "", 
        "[ 17392060.33641055  17321110.49730505   3891252.67867953]", 
        "omegas", 
        "[ 17392060.33641055  17321110.49730505   3891252.67867953]", 
        "Reweighting by unit cell vol", 
        "d_eff= [20.06,19.98,4.49] for d=1.00", 
        "problem.volUnitCell 867000.0", 
        "[-42.5 -75.   34. ]"
       ]
      }, 
      {
       "output_type": "stream", 
       "stream": "stdout", 
       "text": [
        "  maps to  (42.5, 75.0, -34.0)", 
        "[-42.5 -75.   34. ]  maps to  (-42.5, 75.0, -34.0)", 
        "[-42.5  75.  -34. ]  maps to  (-42.5, -75.0, 34.0)", 
        "Not loading subdomains, since don't think they're needed", 
        "Loading electrostatic potential from argument"
       ]
      }, 
      {
       "output_type": "stream", 
       "stream": "stdout", 
       "text": [
        "", 
        "Using z=2.000000 for the ligand", 
        "Potential range: -4.475773 - -3.453087 "
       ]
      }, 
      {
       "output_type": "stream", 
       "stream": "stdout", 
       "text": [
        "", 
        "WARNING: Your potential does not seem to cross through 0 (reguirement at outer boundary", 
        "SA: 1.169764e+05 [um^2]"
       ]
      }, 
      {
       "output_type": "stream", 
       "stream": "stdout", 
       "text": [
        "", 
        "Volume: 6.192545e+05 [um^3]"
       ]
      }, 
      {
       "output_type": "stream", 
       "stream": "stdout", 
       "text": [
        "", 
        "Total volume (assuming rectangular): 8.670000e+05 [um^3]", 
        "volume fraction (assuming rectangular): 7.142497e-01 [um^3]", 
        "Adding in electrostatic component"
       ]
      }, 
      {
       "output_type": "stream", 
       "stream": "stdout", 
       "text": [
        "", 
        "pmf REMOVEME -4.475773,-3.453087 "
       ]
      }, 
      {
       "output_type": "stream", 
       "stream": "stdout", 
       "text": [
        "", 
        "Intfact: exp(p); 338.012019,1896.333263 "
       ]
      }, 
      {
       "output_type": "stream", 
       "stream": "stdout", 
       "text": [
        "", 
        "Using amg preconditioner instead of ilu"
       ]
      }, 
      {
       "output_type": "stream", 
       "stream": "stdout", 
       "text": [
        "", 
        "Writing "
       ]
      }, 
      {
       "output_type": "stream", 
       "stream": "stdout", 
       "text": [
        " ./Molecular_unit.pvd", 
        "omegasO"
       ]
      }, 
      {
       "output_type": "stream", 
       "stream": "stdout", 
       "text": [
        "", 
        "[  5.05357215e+08   5.02627808e+08   1.05867021e+08]", 
        "omegas", 
        "[  5.05357215e+08   5.02627808e+08   1.05867021e+08]", 
        "Reweighting by unit cell vol", 
        "d_eff= [582.88,579.73,122.11] for d=1.00", 
        "problem.volUnitCell 867000.0", 
        "0.0", 
        "Solving linear form of PBE"
       ]
      }, 
      {
       "output_type": "stream", 
       "stream": "stdout", 
       "text": [
        "", 
        "[-42.5 -75.   34. ]"
       ]
      }, 
      {
       "output_type": "stream", 
       "stream": "stdout", 
       "text": [
        "  maps to  (42.5, 75.0, -34.0)", 
        "[-42.5 -75.   34. ]  maps to  (-42.5, 75.0, -34.0)", 
        "[-42.5  75.  -34. ]  maps to  (-42.5, -75.0, 34.0)", 
        "Not loading subdomains, since don't think they're needed", 
        "Loading electrostatic potential from argument", 
        "Using z=-2.000000 for the ligand", 
        "Potential range: 1.984011 - 3.419975 "
       ]
      }, 
      {
       "output_type": "stream", 
       "stream": "stdout", 
       "text": [
        "", 
        "WARNING: Your potential does not seem to cross through 0 (reguirement at outer boundary", 
        "SA: 1.169764e+05 [um^2]"
       ]
      }, 
      {
       "output_type": "stream", 
       "stream": "stdout", 
       "text": [
        "", 
        "Volume: 6.192545e+05 [um^3]"
       ]
      }, 
      {
       "output_type": "stream", 
       "stream": "stdout", 
       "text": [
        "", 
        "Total volume (assuming rectangular): 8.670000e+05 [um^3]", 
        "volume fraction (assuming rectangular): 7.142497e-01 [um^3]", 
        "Adding in electrostatic component"
       ]
      }, 
      {
       "output_type": "stream", 
       "stream": "stdout", 
       "text": [
        "", 
        "pmf REMOVEME 1.984011,3.419975 "
       ]
      }, 
      {
       "output_type": "stream", 
       "stream": "stdout", 
       "text": [
        "", 
        "Intfact: exp(p); 0.003128,0.035235 "
       ]
      }, 
      {
       "output_type": "stream", 
       "stream": "stdout", 
       "text": [
        "", 
        "Using amg preconditioner instead of ilu"
       ]
      }, 
      {
       "output_type": "stream", 
       "stream": "stdout", 
       "text": [
        "", 
        "Writing "
       ]
      }, 
      {
       "output_type": "stream", 
       "stream": "stdout", 
       "text": [
        " ./Molecular_unit.pvd", 
        "omegasO"
       ]
      }, 
      {
       "output_type": "stream", 
       "stream": "stdout", 
       "text": [
        "", 
        "[ 5601.32523355  5554.12613322  1378.99365219]", 
        "omegas", 
        "[ 5601.32523355  5554.12613322  1378.99365219]", 
        "Reweighting by unit cell vol", 
        "d_eff= [0.01,0.01,0.00] for d=1.00", 
        "problem.volUnitCell 867000.0", 
        "[-42.5 -75.   34. ]"
       ]
      }, 
      {
       "output_type": "stream", 
       "stream": "stdout", 
       "text": [
        "  maps to  (42.5, 75.0, -34.0)", 
        "[-42.5 -75.   34. ]  maps to  (-42.5, 75.0, -34.0)", 
        "[-42.5  75.  -34. ]  maps to  (-42.5, -75.0, 34.0)", 
        "Not loading subdomains, since don't think they're needed", 
        "Loading electrostatic potential from argument"
       ]
      }, 
      {
       "output_type": "stream", 
       "stream": "stdout", 
       "text": [
        "", 
        "Using z=-1.000000 for the ligand", 
        "Potential range: 0.992005 - 1.709987 "
       ]
      }, 
      {
       "output_type": "stream", 
       "stream": "stdout", 
       "text": [
        "", 
        "WARNING: Your potential does not seem to cross through 0 (reguirement at outer boundary", 
        "SA: 1.169764e+05 [um^2]"
       ]
      }, 
      {
       "output_type": "stream", 
       "stream": "stdout", 
       "text": [
        "", 
        "Volume: 6.192545e+05 [um^3]"
       ]
      }, 
      {
       "output_type": "stream", 
       "stream": "stdout", 
       "text": [
        "", 
        "Total volume (assuming rectangular): 8.670000e+05 [um^3]", 
        "volume fraction (assuming rectangular): 7.142497e-01 [um^3]", 
        "Adding in electrostatic component"
       ]
      }, 
      {
       "output_type": "stream", 
       "stream": "stdout", 
       "text": [
        "", 
        "pmf REMOVEME 0.992005,1.709987 "
       ]
      }, 
      {
       "output_type": "stream", 
       "stream": "stdout", 
       "text": [
        "", 
        "Intfact: exp(p); 0.055932,0.187710 "
       ]
      }, 
      {
       "output_type": "stream", 
       "stream": "stdout", 
       "text": [
        "", 
        "Using amg preconditioner instead of ilu"
       ]
      }, 
      {
       "output_type": "stream", 
       "stream": "stdout", 
       "text": [
        "", 
        "Writing "
       ]
      }, 
      {
       "output_type": "stream", 
       "stream": "stdout", 
       "text": [
        " ./Molecular_unit.pvd", 
        "omegasO"
       ]
      }, 
      {
       "output_type": "stream", 
       "stream": "stdout", 
       "text": [
        "", 
        "[ 56784.07893517  56654.90442019  14085.17839525]", 
        "omegas", 
        "[ 56784.07893517  56654.90442019  14085.17839525]", 
        "Reweighting by unit cell vol", 
        "d_eff= [0.07,0.07,0.02] for d=1.00", 
        "problem.volUnitCell 867000.0", 
        "[-42.5 -75.   34. ]"
       ]
      }, 
      {
       "output_type": "stream", 
       "stream": "stdout", 
       "text": [
        "  maps to  (42.5, 75.0, -34.0)", 
        "[-42.5 -75.   34. ]  maps to  (-42.5, 75.0, -34.0)", 
        "[-42.5  75.  -34. ]  maps to  (-42.5, -75.0, 34.0)", 
        "Not loading subdomains, since don't think they're needed", 
        "Loading electrostatic potential from argument", 
        "Using z=0.000000 for the ligand", 
        "Potential range: -0.000000 - -0.000000 "
       ]
      }, 
      {
       "output_type": "stream", 
       "stream": "stdout", 
       "text": [
        "", 
        "SA: 1.169764e+05 [um^2]"
       ]
      }, 
      {
       "output_type": "stream", 
       "stream": "stdout", 
       "text": [
        "", 
        "Volume: 6.192545e+05 [um^3]"
       ]
      }, 
      {
       "output_type": "stream", 
       "stream": "stdout", 
       "text": [
        "", 
        "Total volume (assuming rectangular): 8.670000e+05 [um^3]", 
        "volume fraction (assuming rectangular): 7.142497e-01 [um^3]", 
        "Adding in electrostatic component"
       ]
      }, 
      {
       "output_type": "stream", 
       "stream": "stdout", 
       "text": [
        "", 
        "pmf REMOVEME -0.000000,-0.000000 "
       ]
      }, 
      {
       "output_type": "stream", 
       "stream": "stdout", 
       "text": [
        "", 
        "Intfact: exp(p); 1.000000,1.000000 "
       ]
      }, 
      {
       "output_type": "stream", 
       "stream": "stdout", 
       "text": [
        "", 
        "Using amg preconditioner instead of ilu"
       ]
      }, 
      {
       "output_type": "stream", 
       "stream": "stdout", 
       "text": [
        "", 
        "Writing "
       ]
      }, 
      {
       "output_type": "stream", 
       "stream": "stdout", 
       "text": [
        " ./Molecular_unit.pvd", 
        "omegasO"
       ]
      }, 
      {
       "output_type": "stream", 
       "stream": "stdout", 
       "text": [
        "", 
        "[ 605251.37075516  603599.73828175  142698.65360351]", 
        "omegas", 
        "[ 605251.37075516  603599.73828175  142698.65360351]", 
        "Reweighting by unit cell vol", 
        "d_eff= [0.70,0.70,0.16] for d=1.00", 
        "problem.volUnitCell 867000.0", 
        "[-42.5 -75.   34. ]"
       ]
      }, 
      {
       "output_type": "stream", 
       "stream": "stdout", 
       "text": [
        "  maps to  (42.5, 75.0, -34.0)", 
        "[-42.5 -75.   34. ]  maps to  (-42.5, 75.0, -34.0)", 
        "[-42.5  75.  -34. ]  maps to  (-42.5, -75.0, 34.0)", 
        "Not loading subdomains, since don't think they're needed", 
        "Loading electrostatic potential from argument"
       ]
      }, 
      {
       "output_type": "stream", 
       "stream": "stdout", 
       "text": [
        "", 
        "Using z=1.000000 for the ligand", 
        "Potential range: -1.709987 - -0.992005 "
       ]
      }, 
      {
       "output_type": "stream", 
       "stream": "stdout", 
       "text": [
        "", 
        "WARNING: Your potential does not seem to cross through 0 (reguirement at outer boundary", 
        "SA: 1.169764e+05 [um^2]"
       ]
      }, 
      {
       "output_type": "stream", 
       "stream": "stdout", 
       "text": [
        "", 
        "Volume: 6.192545e+05 [um^3]"
       ]
      }, 
      {
       "output_type": "stream", 
       "stream": "stdout", 
       "text": [
        "", 
        "Total volume (assuming rectangular): 8.670000e+05 [um^3]", 
        "volume fraction (assuming rectangular): 7.142497e-01 [um^3]", 
        "Adding in electrostatic component"
       ]
      }, 
      {
       "output_type": "stream", 
       "stream": "stdout", 
       "text": [
        "", 
        "pmf REMOVEME -1.709987,-0.992005 "
       ]
      }, 
      {
       "output_type": "stream", 
       "stream": "stdout", 
       "text": [
        "", 
        "Intfact: exp(p); 5.327378,17.878897 "
       ]
      }, 
      {
       "output_type": "stream", 
       "stream": "stdout", 
       "text": [
        "", 
        "Using amg preconditioner instead of ilu"
       ]
      }, 
      {
       "output_type": "stream", 
       "stream": "stdout", 
       "text": [
        "", 
        "Writing "
       ]
      }, 
      {
       "output_type": "stream", 
       "stream": "stdout", 
       "text": [
        " ./Molecular_unit.pvd", 
        "omegasO"
       ]
      }, 
      {
       "output_type": "stream", 
       "stream": "stdout", 
       "text": [
        "", 
        "[ 6685404.09056956  6654909.38192342  1434617.98258544]", 
        "omegas", 
        "[ 6685404.09056956  6654909.38192342  1434617.98258544]", 
        "Reweighting by unit cell vol", 
        "d_eff= [7.71,7.68,1.65] for d=1.00", 
        "problem.volUnitCell 867000.0", 
        "[-42.5 -75.   34. ]"
       ]
      }, 
      {
       "output_type": "stream", 
       "stream": "stdout", 
       "text": [
        "  maps to  (42.5, 75.0, -34.0)", 
        "[-42.5 -75.   34. ]  maps to  (-42.5, 75.0, -34.0)", 
        "[-42.5  75.  -34. ]  maps to  (-42.5, -75.0, 34.0)", 
        "Not loading subdomains, since don't think they're needed", 
        "Loading electrostatic potential from argument"
       ]
      }, 
      {
       "output_type": "stream", 
       "stream": "stdout", 
       "text": [
        "", 
        "Using z=2.000000 for the ligand", 
        "Potential range: -3.419975 - -1.984011 "
       ]
      }, 
      {
       "output_type": "stream", 
       "stream": "stdout", 
       "text": [
        "", 
        "WARNING: Your potential does not seem to cross through 0 (reguirement at outer boundary", 
        "SA: 1.169764e+05 [um^2]"
       ]
      }, 
      {
       "output_type": "stream", 
       "stream": "stdout", 
       "text": [
        "", 
        "Volume: 6.192545e+05 [um^3]"
       ]
      }, 
      {
       "output_type": "stream", 
       "stream": "stdout", 
       "text": [
        "", 
        "Total volume (assuming rectangular): 8.670000e+05 [um^3]", 
        "volume fraction (assuming rectangular): 7.142497e-01 [um^3]", 
        "Adding in electrostatic component"
       ]
      }, 
      {
       "output_type": "stream", 
       "stream": "stdout", 
       "text": [
        "", 
        "pmf REMOVEME -3.419975,-1.984011 "
       ]
      }, 
      {
       "output_type": "stream", 
       "stream": "stdout", 
       "text": [
        "", 
        "Intfact: exp(p); 28.380956,319.654952 "
       ]
      }, 
      {
       "output_type": "stream", 
       "stream": "stdout", 
       "text": [
        "", 
        "Using amg preconditioner instead of ilu"
       ]
      }, 
      {
       "output_type": "stream", 
       "stream": "stdout", 
       "text": [
        "", 
        "Writing "
       ]
      }, 
      {
       "output_type": "stream", 
       "stream": "stdout", 
       "text": [
        " ./Molecular_unit.pvd", 
        "omegasO"
       ]
      }, 
      {
       "output_type": "stream", 
       "stream": "stdout", 
       "text": [
        "", 
        "[ 75661743.24547896  75226669.29736738  14322650.42419267]", 
        "omegas", 
        "[ 75661743.24547896  75226669.29736738  14322650.42419267]", 
        "Reweighting by unit cell vol", 
        "d_eff= [87.27,86.77,16.52] for d=1.00", 
        "problem.volUnitCell 867000.0", 
        "0.0", 
        "Solving linear form of PBE"
       ]
      }, 
      {
       "output_type": "stream", 
       "stream": "stdout", 
       "text": [
        "", 
        "[-42.5 -75.   34. ]"
       ]
      }, 
      {
       "output_type": "stream", 
       "stream": "stdout", 
       "text": [
        "  maps to  (42.5, 75.0, -34.0)", 
        "[-42.5 -75.   34. ]  maps to  (-42.5, 75.0, -34.0)", 
        "[-42.5  75.  -34. ]  maps to  (-42.5, -75.0, 34.0)", 
        "Not loading subdomains, since don't think they're needed", 
        "Loading electrostatic potential from argument"
       ]
      }, 
      {
       "output_type": "stream", 
       "stream": "stdout", 
       "text": [
        "", 
        "Using z=-2.000000 for the ligand", 
        "Potential range: 0.794134 - 2.497435 "
       ]
      }, 
      {
       "output_type": "stream", 
       "stream": "stdout", 
       "text": [
        "", 
        "WARNING: Your potential does not seem to cross through 0 (reguirement at outer boundary", 
        "SA: 1.169764e+05 [um^2]"
       ]
      }, 
      {
       "output_type": "stream", 
       "stream": "stdout", 
       "text": [
        "", 
        "Volume: 6.192545e+05 [um^3]"
       ]
      }, 
      {
       "output_type": "stream", 
       "stream": "stdout", 
       "text": [
        "", 
        "Total volume (assuming rectangular): 8.670000e+05 [um^3]", 
        "volume fraction (assuming rectangular): 7.142497e-01 [um^3]", 
        "Adding in electrostatic component"
       ]
      }, 
      {
       "output_type": "stream", 
       "stream": "stdout", 
       "text": [
        "", 
        "pmf REMOVEME 0.794134,2.497435 "
       ]
      }, 
      {
       "output_type": "stream", 
       "stream": "stdout", 
       "text": [
        "", 
        "Intfact: exp(p); 0.014824,0.262061 "
       ]
      }, 
      {
       "output_type": "stream", 
       "stream": "stdout", 
       "text": [
        "", 
        "Using amg preconditioner instead of ilu"
       ]
      }, 
      {
       "output_type": "stream", 
       "stream": "stdout", 
       "text": [
        "", 
        "Writing "
       ]
      }, 
      {
       "output_type": "stream", 
       "stream": "stdout", 
       "text": [
        " ./Molecular_unit.pvd", 
        "omegasO"
       ]
      }, 
      {
       "output_type": "stream", 
       "stream": "stdout", 
       "text": [
        "", 
        "[ 33050.13152148  32707.7617961    7996.28779689]", 
        "omegas", 
        "[ 33050.13152148  32707.7617961    7996.28779689]", 
        "Reweighting by unit cell vol", 
        "d_eff= [0.04,0.04,0.01] for d=1.00", 
        "problem.volUnitCell 867000.0", 
        "[-42.5 -75.   34. ]"
       ]
      }, 
      {
       "output_type": "stream", 
       "stream": "stdout", 
       "text": [
        "  maps to  (42.5, 75.0, -34.0)", 
        "[-42.5 -75.   34. ]  maps to  (-42.5, 75.0, -34.0)", 
        "[-42.5  75.  -34. ]  maps to  (-42.5, -75.0, 34.0)", 
        "Not loading subdomains, since don't think they're needed", 
        "Loading electrostatic potential from argument", 
        "Using z=-1.000000 for the ligand", 
        "Potential range: 0.397067 - 1.248717 "
       ]
      }, 
      {
       "output_type": "stream", 
       "stream": "stdout", 
       "text": [
        "", 
        "WARNING: Your potential does not seem to cross through 0 (reguirement at outer boundary", 
        "SA: 1.169764e+05 [um^2]"
       ]
      }, 
      {
       "output_type": "stream", 
       "stream": "stdout", 
       "text": [
        "", 
        "Volume: 6.192545e+05 [um^3]"
       ]
      }, 
      {
       "output_type": "stream", 
       "stream": "stdout", 
       "text": [
        "", 
        "Total volume (assuming rectangular): 8.670000e+05 [um^3]", 
        "volume fraction (assuming rectangular): 7.142497e-01 [um^3]", 
        "Adding in electrostatic component"
       ]
      }, 
      {
       "output_type": "stream", 
       "stream": "stdout", 
       "text": [
        "", 
        "pmf REMOVEME 0.397067,1.248717 "
       ]
      }, 
      {
       "output_type": "stream", 
       "stream": "stdout", 
       "text": [
        "", 
        "Intfact: exp(p); 0.121753,0.511918 "
       ]
      }, 
      {
       "output_type": "stream", 
       "stream": "stdout", 
       "text": [
        "", 
        "Using amg preconditioner instead of ilu"
       ]
      }, 
      {
       "output_type": "stream", 
       "stream": "stdout", 
       "text": [
        "", 
        "Writing "
       ]
      }, 
      {
       "output_type": "stream", 
       "stream": "stdout", 
       "text": [
        " ./Molecular_unit.pvd", 
        "omegasO"
       ]
      }, 
      {
       "output_type": "stream", 
       "stream": "stdout", 
       "text": [
        "", 
        "[ 135975.80565211  135657.02965217   34003.85023393]", 
        "omegas", 
        "[ 135975.80565211  135657.02965217   34003.85023393]", 
        "Reweighting by unit cell vol", 
        "d_eff= [0.16,0.16,0.04] for d=1.00", 
        "problem.volUnitCell 867000.0", 
        "[-42.5 -75.   34. ]"
       ]
      }, 
      {
       "output_type": "stream", 
       "stream": "stdout", 
       "text": [
        "  maps to  (42.5, 75.0, -34.0)", 
        "[-42.5 -75.   34. ]  maps to  (-42.5, 75.0, -34.0)", 
        "[-42.5  75.  -34. ]  maps to  (-42.5, -75.0, 34.0)", 
        "Not loading subdomains, since don't think they're needed", 
        "Loading electrostatic potential from argument"
       ]
      }, 
      {
       "output_type": "stream", 
       "stream": "stdout", 
       "text": [
        "", 
        "Using z=0.000000 for the ligand", 
        "Potential range: -0.000000 - -0.000000 "
       ]
      }, 
      {
       "output_type": "stream", 
       "stream": "stdout", 
       "text": [
        "", 
        "SA: 1.169764e+05 [um^2]"
       ]
      }, 
      {
       "output_type": "stream", 
       "stream": "stdout", 
       "text": [
        "", 
        "Volume: 6.192545e+05 [um^3]"
       ]
      }, 
      {
       "output_type": "stream", 
       "stream": "stdout", 
       "text": [
        "", 
        "Total volume (assuming rectangular): 8.670000e+05 [um^3]", 
        "volume fraction (assuming rectangular): 7.142497e-01 [um^3]", 
        "Adding in electrostatic component"
       ]
      }, 
      {
       "output_type": "stream", 
       "stream": "stdout", 
       "text": [
        "", 
        "pmf REMOVEME -0.000000,-0.000000 "
       ]
      }, 
      {
       "output_type": "stream", 
       "stream": "stdout", 
       "text": [
        "", 
        "Intfact: exp(p); 1.000000,1.000000 "
       ]
      }, 
      {
       "output_type": "stream", 
       "stream": "stdout", 
       "text": [
        "", 
        "Using amg preconditioner instead of ilu"
       ]
      }, 
      {
       "output_type": "stream", 
       "stream": "stdout", 
       "text": [
        "", 
        "Writing "
       ]
      }, 
      {
       "output_type": "stream", 
       "stream": "stdout", 
       "text": [
        " ./Molecular_unit.pvd", 
        "omegasO"
       ]
      }, 
      {
       "output_type": "stream", 
       "stream": "stdout", 
       "text": [
        "", 
        "[ 605251.37075516  603599.73828175  142698.65360351]", 
        "omegas", 
        "[ 605251.37075516  603599.73828175  142698.65360351]", 
        "Reweighting by unit cell vol", 
        "d_eff= [0.70,0.70,0.16] for d=1.00", 
        "problem.volUnitCell 867000.0", 
        "[-42.5 -75.   34. ]"
       ]
      }, 
      {
       "output_type": "stream", 
       "stream": "stdout", 
       "text": [
        "  maps to  (42.5, 75.0, -34.0)", 
        "[-42.5 -75.   34. ]  maps to  (-42.5, 75.0, -34.0)", 
        "[-42.5  75.  -34. ]  maps to  (-42.5, -75.0, 34.0)", 
        "Not loading subdomains, since don't think they're needed", 
        "Loading electrostatic potential from argument", 
        "Using z=1.000000 for the ligand", 
        "Potential range: -1.248717 - -0.397067 "
       ]
      }, 
      {
       "output_type": "stream", 
       "stream": "stdout", 
       "text": [
        "", 
        "WARNING: Your potential does not seem to cross through 0 (reguirement at outer boundary", 
        "SA: 1.169764e+05 [um^2]"
       ]
      }, 
      {
       "output_type": "stream", 
       "stream": "stdout", 
       "text": [
        "", 
        "Volume: 6.192545e+05 [um^3]"
       ]
      }, 
      {
       "output_type": "stream", 
       "stream": "stdout", 
       "text": [
        "", 
        "Total volume (assuming rectangular): 8.670000e+05 [um^3]", 
        "volume fraction (assuming rectangular): 7.142497e-01 [um^3]", 
        "Adding in electrostatic component"
       ]
      }, 
      {
       "output_type": "stream", 
       "stream": "stdout", 
       "text": [
        "", 
        "pmf REMOVEME -1.248717,-0.397067 "
       ]
      }, 
      {
       "output_type": "stream", 
       "stream": "stdout", 
       "text": [
        "", 
        "Intfact: exp(p); 1.953436,8.213367 "
       ]
      }, 
      {
       "output_type": "stream", 
       "stream": "stdout", 
       "text": [
        "", 
        "Using amg preconditioner instead of ilu"
       ]
      }, 
      {
       "output_type": "stream", 
       "stream": "stdout", 
       "text": [
        "", 
        "Writing "
       ]
      }, 
      {
       "output_type": "stream", 
       "stream": "stdout", 
       "text": [
        " ./Molecular_unit.pvd", 
        "omegasO"
       ]
      }, 
      {
       "output_type": "stream", 
       "stream": "stdout", 
       "text": [
        "", 
        "[ 2843858.97189747  2832327.96136323   591255.66640515]", 
        "omegas", 
        "[ 2843858.97189747  2832327.96136323   591255.66640515]", 
        "Reweighting by unit cell vol", 
        "d_eff= [3.28,3.27,0.68] for d=1.00", 
        "problem.volUnitCell 867000.0", 
        "[-42.5 -75.   34. ]"
       ]
      }, 
      {
       "output_type": "stream", 
       "stream": "stdout", 
       "text": [
        "  maps to  (42.5, 75.0, -34.0)", 
        "[-42.5 -75.   34. ]  maps to  (-42.5, 75.0, -34.0)", 
        "[-42.5  75.  -34. ]  maps to  (-42.5, -75.0, 34.0)", 
        "Not loading subdomains, since don't think they're needed", 
        "Loading electrostatic potential from argument", 
        "Using z=2.000000 for the ligand", 
        "Potential range: -2.497435 - -0.794134 "
       ]
      }, 
      {
       "output_type": "stream", 
       "stream": "stdout", 
       "text": [
        "", 
        "WARNING: Your potential does not seem to cross through 0 (reguirement at outer boundary", 
        "SA: 1.169764e+05 [um^2]"
       ]
      }, 
      {
       "output_type": "stream", 
       "stream": "stdout", 
       "text": [
        "", 
        "Volume: 6.192545e+05 [um^3]"
       ]
      }, 
      {
       "output_type": "stream", 
       "stream": "stdout", 
       "text": [
        "", 
        "Total volume (assuming rectangular): 8.670000e+05 [um^3]", 
        "volume fraction (assuming rectangular): 7.142497e-01 [um^3]", 
        "Adding in electrostatic component"
       ]
      }, 
      {
       "output_type": "stream", 
       "stream": "stdout", 
       "text": [
        "", 
        "pmf REMOVEME -2.497435,-0.794134 "
       ]
      }, 
      {
       "output_type": "stream", 
       "stream": "stdout", 
       "text": [
        "", 
        "Intfact: exp(p); 3.815913,67.459391 "
       ]
      }, 
      {
       "output_type": "stream", 
       "stream": "stdout", 
       "text": [
        "", 
        "Using amg preconditioner instead of ilu"
       ]
      }, 
      {
       "output_type": "stream", 
       "stream": "stdout", 
       "text": [
        "", 
        "Writing "
       ]
      }, 
      {
       "output_type": "stream", 
       "stream": "stdout", 
       "text": [
        " ./Molecular_unit.pvd", 
        "omegasO"
       ]
      }, 
      {
       "output_type": "stream", 
       "stream": "stdout", 
       "text": [
        "", 
        "[ 13839847.60158757  13782984.98389613   2421453.64967995]", 
        "omegas", 
        "[ 13839847.60158757  13782984.98389613   2421453.64967995]", 
        "Reweighting by unit cell vol", 
        "d_eff= [15.96,15.90,2.79] for d=1.00", 
        "problem.volUnitCell 867000.0", 
        "0.0", 
        "Solving linear form of PBE"
       ]
      }, 
      {
       "output_type": "stream", 
       "stream": "stdout", 
       "text": [
        "", 
        "[-42.5 -75.   34. ]"
       ]
      }, 
      {
       "output_type": "stream", 
       "stream": "stdout", 
       "text": [
        "  maps to  (42.5, 75.0, -34.0)", 
        "[-42.5 -75.   34. ]  maps to  (-42.5, 75.0, -34.0)", 
        "[-42.5  75.  -34. ]  maps to  (-42.5, -75.0, 34.0)", 
        "Not loading subdomains, since don't think they're needed", 
        "Loading electrostatic potential from argument", 
        "Using z=-2.000000 for the ligand", 
        "Potential range: 0.173747 - 1.773578 "
       ]
      }, 
      {
       "output_type": "stream", 
       "stream": "stdout", 
       "text": [
        "", 
        "WARNING: Your potential does not seem to cross through 0 (reguirement at outer boundary", 
        "SA: 1.169764e+05 [um^2]"
       ]
      }, 
      {
       "output_type": "stream", 
       "stream": "stdout", 
       "text": [
        "", 
        "Volume: 6.192545e+05 [um^3]"
       ]
      }, 
      {
       "output_type": "stream", 
       "stream": "stdout", 
       "text": [
        "", 
        "Total volume (assuming rectangular): 8.670000e+05 [um^3]", 
        "volume fraction (assuming rectangular): 7.142497e-01 [um^3]", 
        "Adding in electrostatic component"
       ]
      }, 
      {
       "output_type": "stream", 
       "stream": "stdout", 
       "text": [
        "", 
        "pmf REMOVEME 0.173747,1.773578 "
       ]
      }, 
      {
       "output_type": "stream", 
       "stream": "stdout", 
       "text": [
        "", 
        "Intfact: exp(p); 0.050244,0.746025 "
       ]
      }, 
      {
       "output_type": "stream", 
       "stream": "stdout", 
       "text": [
        "", 
        "Using amg preconditioner instead of ilu"
       ]
      }, 
      {
       "output_type": "stream", 
       "stream": "stdout", 
       "text": [
        "", 
        "Writing "
       ]
      }, 
      {
       "output_type": "stream", 
       "stream": "stdout", 
       "text": [
        " ./Molecular_unit.pvd", 
        "omegasO"
       ]
      }, 
      {
       "output_type": "stream", 
       "stream": "stdout", 
       "text": [
        "", 
        "[ 125091.87515534  124715.06631415   31200.18734356]", 
        "omegas", 
        "[ 125091.87515534  124715.06631415   31200.18734356]", 
        "Reweighting by unit cell vol", 
        "d_eff= [0.14,0.14,0.04] for d=1.00", 
        "problem.volUnitCell 867000.0", 
        "[-42.5 -75.   34. ]"
       ]
      }, 
      {
       "output_type": "stream", 
       "stream": "stdout", 
       "text": [
        "  maps to  (42.5, 75.0, -34.0)", 
        "[-42.5 -75.   34. ]  maps to  (-42.5, 75.0, -34.0)", 
        "[-42.5  75.  -34. ]  maps to  (-42.5, -75.0, 34.0)", 
        "Not loading subdomains, since don't think they're needed", 
        "Loading electrostatic potential from argument"
       ]
      }, 
      {
       "output_type": "stream", 
       "stream": "stdout", 
       "text": [
        "", 
        "Using z=-1.000000 for the ligand", 
        "Potential range: 0.086873 - 0.886789 "
       ]
      }, 
      {
       "output_type": "stream", 
       "stream": "stdout", 
       "text": [
        "", 
        "WARNING: Your potential does not seem to cross through 0 (reguirement at outer boundary", 
        "SA: 1.169764e+05 [um^2]"
       ]
      }, 
      {
       "output_type": "stream", 
       "stream": "stdout", 
       "text": [
        "", 
        "Volume: 6.192545e+05 [um^3]"
       ]
      }, 
      {
       "output_type": "stream", 
       "stream": "stdout", 
       "text": [
        "", 
        "Total volume (assuming rectangular): 8.670000e+05 [um^3]", 
        "volume fraction (assuming rectangular): 7.142497e-01 [um^3]", 
        "Adding in electrostatic component"
       ]
      }, 
      {
       "output_type": "stream", 
       "stream": "stdout", 
       "text": [
        "", 
        "pmf REMOVEME 0.086873,0.886789 "
       ]
      }, 
      {
       "output_type": "stream", 
       "stream": "stdout", 
       "text": [
        "", 
        "Intfact: exp(p); 0.224153,0.863727 "
       ]
      }, 
      {
       "output_type": "stream", 
       "stream": "stdout", 
       "text": [
        "", 
        "Using amg preconditioner instead of ilu"
       ]
      }, 
      {
       "output_type": "stream", 
       "stream": "stdout", 
       "text": [
        "", 
        "Writing "
       ]
      }, 
      {
       "output_type": "stream", 
       "stream": "stdout", 
       "text": [
        " ./Molecular_unit.pvd", 
        "omegasO"
       ]
      }, 
      {
       "output_type": "stream", 
       "stream": "stdout", 
       "text": [
        "", 
        "[ 266668.23728511  266210.27418544   67122.08576471]", 
        "omegas", 
        "[ 266668.23728511  266210.27418544   67122.08576471]", 
        "Reweighting by unit cell vol", 
        "d_eff= [0.31,0.31,0.08] for d=1.00", 
        "problem.volUnitCell 867000.0", 
        "[-42.5 -75.   34. ]"
       ]
      }, 
      {
       "output_type": "stream", 
       "stream": "stdout", 
       "text": [
        "  maps to  (42.5, 75.0, -34.0)", 
        "[-42.5 -75.   34. ]  maps to  (-42.5, 75.0, -34.0)", 
        "[-42.5  75.  -34. ]  maps to  (-42.5, -75.0, 34.0)", 
        "Not loading subdomains, since don't think they're needed", 
        "Loading electrostatic potential from argument", 
        "Using z=0.000000 for the ligand", 
        "Potential range: -0.000000 - -0.000000 "
       ]
      }, 
      {
       "output_type": "stream", 
       "stream": "stdout", 
       "text": [
        "", 
        "SA: 1.169764e+05 [um^2]"
       ]
      }, 
      {
       "output_type": "stream", 
       "stream": "stdout", 
       "text": [
        "", 
        "Volume: 6.192545e+05 [um^3]"
       ]
      }, 
      {
       "output_type": "stream", 
       "stream": "stdout", 
       "text": [
        "", 
        "Total volume (assuming rectangular): 8.670000e+05 [um^3]", 
        "volume fraction (assuming rectangular): 7.142497e-01 [um^3]", 
        "Adding in electrostatic component"
       ]
      }, 
      {
       "output_type": "stream", 
       "stream": "stdout", 
       "text": [
        "", 
        "pmf REMOVEME -0.000000,-0.000000 "
       ]
      }, 
      {
       "output_type": "stream", 
       "stream": "stdout", 
       "text": [
        "", 
        "Intfact: exp(p); 1.000000,1.000000 "
       ]
      }, 
      {
       "output_type": "stream", 
       "stream": "stdout", 
       "text": [
        "", 
        "Using amg preconditioner instead of ilu"
       ]
      }, 
      {
       "output_type": "stream", 
       "stream": "stdout", 
       "text": [
        "", 
        "Writing "
       ]
      }, 
      {
       "output_type": "stream", 
       "stream": "stdout", 
       "text": [
        " ./Molecular_unit.pvd", 
        "omegasO"
       ]
      }, 
      {
       "output_type": "stream", 
       "stream": "stdout", 
       "text": [
        "", 
        "[ 605251.37075516  603599.73828175  142698.65360351]", 
        "omegas", 
        "[ 605251.37075516  603599.73828175  142698.65360351]", 
        "Reweighting by unit cell vol", 
        "d_eff= [0.70,0.70,0.16] for d=1.00", 
        "problem.volUnitCell 867000.0", 
        "[-42.5 -75.   34. ]"
       ]
      }, 
      {
       "output_type": "stream", 
       "stream": "stdout", 
       "text": [
        "  maps to  (42.5, 75.0, -34.0)", 
        "[-42.5 -75.   34. ]  maps to  (-42.5, 75.0, -34.0)", 
        "[-42.5  75.  -34. ]  maps to  (-42.5, -75.0, 34.0)", 
        "Not loading subdomains, since don't think they're needed", 
        "Loading electrostatic potential from argument"
       ]
      }, 
      {
       "output_type": "stream", 
       "stream": "stdout", 
       "text": [
        "", 
        "Using z=1.000000 for the ligand", 
        "Potential range: -0.886789 - -0.086873 "
       ]
      }, 
      {
       "output_type": "stream", 
       "stream": "stdout", 
       "text": [
        "", 
        "WARNING: Your potential does not seem to cross through 0 (reguirement at outer boundary", 
        "SA: 1.169764e+05 [um^2]"
       ]
      }, 
      {
       "output_type": "stream", 
       "stream": "stdout", 
       "text": [
        "", 
        "Volume: 6.192545e+05 [um^3]"
       ]
      }, 
      {
       "output_type": "stream", 
       "stream": "stdout", 
       "text": [
        "", 
        "Total volume (assuming rectangular): 8.670000e+05 [um^3]", 
        "volume fraction (assuming rectangular): 7.142497e-01 [um^3]", 
        "Adding in electrostatic component"
       ]
      }, 
      {
       "output_type": "stream", 
       "stream": "stdout", 
       "text": [
        "", 
        "pmf REMOVEME -0.886789,-0.086873 "
       ]
      }, 
      {
       "output_type": "stream", 
       "stream": "stdout", 
       "text": [
        "", 
        "Intfact: exp(p); 1.157773,4.461247 "
       ]
      }, 
      {
       "output_type": "stream", 
       "stream": "stdout", 
       "text": [
        "", 
        "Using amg preconditioner instead of ilu"
       ]
      }, 
      {
       "output_type": "stream", 
       "stream": "stdout", 
       "text": [
        "", 
        "Writing "
       ]
      }, 
      {
       "output_type": "stream", 
       "stream": "stdout", 
       "text": [
        " ./Molecular_unit.pvd", 
        "omegasO"
       ]
      }, 
      {
       "output_type": "stream", 
       "stream": "stdout", 
       "text": [
        "", 
        "[ 1441701.60861955  1437179.98332095   299754.54230549]", 
        "omegas", 
        "[ 1441701.60861955  1437179.98332095   299754.54230549]", 
        "Reweighting by unit cell vol", 
        "d_eff= [1.66,1.66,0.35] for d=1.00", 
        "problem.volUnitCell 867000.0", 
        "[-42.5 -75.   34. ]"
       ]
      }, 
      {
       "output_type": "stream", 
       "stream": "stdout", 
       "text": [
        "  maps to  (42.5, 75.0, -34.0)", 
        "[-42.5 -75.   34. ]  maps to  (-42.5, 75.0, -34.0)", 
        "[-42.5  75.  -34. ]  maps to  (-42.5, -75.0, 34.0)", 
        "Not loading subdomains, since don't think they're needed", 
        "Loading electrostatic potential from argument", 
        "Using z=2.000000 for the ligand", 
        "Potential range: -1.773578 - -0.173747 "
       ]
      }, 
      {
       "output_type": "stream", 
       "stream": "stdout", 
       "text": [
        "", 
        "WARNING: Your potential does not seem to cross through 0 (reguirement at outer boundary", 
        "SA: 1.169764e+05 [um^2]"
       ]
      }, 
      {
       "output_type": "stream", 
       "stream": "stdout", 
       "text": [
        "", 
        "Volume: 6.192545e+05 [um^3]"
       ]
      }, 
      {
       "output_type": "stream", 
       "stream": "stdout", 
       "text": [
        "", 
        "Total volume (assuming rectangular): 8.670000e+05 [um^3]", 
        "volume fraction (assuming rectangular): 7.142497e-01 [um^3]", 
        "Adding in electrostatic component"
       ]
      }, 
      {
       "output_type": "stream", 
       "stream": "stdout", 
       "text": [
        "", 
        "pmf REMOVEME -1.773578,-0.173747 "
       ]
      }, 
      {
       "output_type": "stream", 
       "stream": "stdout", 
       "text": [
        "", 
        "Intfact: exp(p); 1.340438,19.902726 "
       ]
      }, 
      {
       "output_type": "stream", 
       "stream": "stdout", 
       "text": [
        "", 
        "Using amg preconditioner instead of ilu"
       ]
      }, 
      {
       "output_type": "stream", 
       "stream": "stdout", 
       "text": [
        "", 
        "Writing "
       ]
      }, 
      {
       "output_type": "stream", 
       "stream": "stdout", 
       "text": [
        " ./Molecular_unit.pvd", 
        "omegasO"
       ]
      }, 
      {
       "output_type": "stream", 
       "stream": "stdout", 
       "text": [
        "", 
        "[ 3561351.0778475   3554174.46771568   622361.54536546]", 
        "omegas", 
        "[ 3561351.0778475   3554174.46771568   622361.54536546]", 
        "Reweighting by unit cell vol", 
        "d_eff= [4.11,4.10,0.72] for d=1.00", 
        "problem.volUnitCell 867000.0", 
        "0.0", 
        "Solving linear form of PBE"
       ]
      }, 
      {
       "output_type": "stream", 
       "stream": "stdout", 
       "text": [
        "", 
        "[-42.5 -75.   34. ]"
       ]
      }, 
      {
       "output_type": "stream", 
       "stream": "stdout", 
       "text": [
        "  maps to  (42.5, 75.0, -34.0)", 
        "[-42.5 -75.   34. ]  maps to  (-42.5, 75.0, -34.0)", 
        "[-42.5  75.  -34. ]  maps to  (-42.5, -75.0, 34.0)", 
        "Not loading subdomains, since don't think they're needed", 
        "Loading electrostatic potential from argument", 
        "Using z=-2.000000 for the ligand", 
        "Potential range: 0.479306 - 1.264368 "
       ]
      }, 
      {
       "output_type": "stream", 
       "stream": "stdout", 
       "text": [
        "", 
        "WARNING: Your potential does not seem to cross through 0 (reguirement at outer boundary", 
        "SA: 1.169764e+05 [um^2]"
       ]
      }, 
      {
       "output_type": "stream", 
       "stream": "stdout", 
       "text": [
        "", 
        "Volume: 6.192545e+05 [um^3]"
       ]
      }, 
      {
       "output_type": "stream", 
       "stream": "stdout", 
       "text": [
        "", 
        "Total volume (assuming rectangular): 8.670000e+05 [um^3]", 
        "volume fraction (assuming rectangular): 7.142497e-01 [um^3]", 
        "Adding in electrostatic component"
       ]
      }, 
      {
       "output_type": "stream", 
       "stream": "stdout", 
       "text": [
        "", 
        "pmf REMOVEME 0.479306,1.264368 "
       ]
      }, 
      {
       "output_type": "stream", 
       "stream": "stdout", 
       "text": [
        "", 
        "Intfact: exp(p); 0.118581,0.445627 "
       ]
      }, 
      {
       "output_type": "stream", 
       "stream": "stdout", 
       "text": [
        "", 
        "Using amg preconditioner instead of ilu"
       ]
      }, 
      {
       "output_type": "stream", 
       "stream": "stdout", 
       "text": [
        "", 
        "Writing "
       ]
      }, 
      {
       "output_type": "stream", 
       "stream": "stdout", 
       "text": [
        " ./Molecular_unit.pvd", 
        "omegasO"
       ]
      }, 
      {
       "output_type": "stream", 
       "stream": "stdout", 
       "text": [
        "", 
        "[ 145306.13146189  144757.64422358   34673.69227462]", 
        "omegas", 
        "[ 145306.13146189  144757.64422358   34673.69227462]", 
        "Reweighting by unit cell vol", 
        "d_eff= [0.17,0.17,0.04] for d=1.00", 
        "problem.volUnitCell 867000.0", 
        "[-42.5 -75.   34. ]"
       ]
      }, 
      {
       "output_type": "stream", 
       "stream": "stdout", 
       "text": [
        "  maps to  (42.5, 75.0, -34.0)", 
        "[-42.5 -75.   34. ]  maps to  (-42.5, 75.0, -34.0)", 
        "[-42.5  75.  -34. ]  maps to  (-42.5, -75.0, 34.0)", 
        "Not loading subdomains, since don't think they're needed", 
        "Loading electrostatic potential from argument"
       ]
      }, 
      {
       "output_type": "stream", 
       "stream": "stdout", 
       "text": [
        "", 
        "Using z=-1.000000 for the ligand", 
        "Potential range: 0.239653 - 0.632184 "
       ]
      }, 
      {
       "output_type": "stream", 
       "stream": "stdout", 
       "text": [
        "", 
        "WARNING: Your potential does not seem to cross through 0 (reguirement at outer boundary", 
        "SA: 1.169764e+05 [um^2]"
       ]
      }, 
      {
       "output_type": "stream", 
       "stream": "stdout", 
       "text": [
        "", 
        "Volume: 6.192545e+05 [um^3]"
       ]
      }, 
      {
       "output_type": "stream", 
       "stream": "stdout", 
       "text": [
        "", 
        "Total volume (assuming rectangular): 8.670000e+05 [um^3]", 
        "volume fraction (assuming rectangular): 7.142497e-01 [um^3]", 
        "Adding in electrostatic component"
       ]
      }, 
      {
       "output_type": "stream", 
       "stream": "stdout", 
       "text": [
        "", 
        "pmf REMOVEME 0.239653,0.632184 "
       ]
      }, 
      {
       "output_type": "stream", 
       "stream": "stdout", 
       "text": [
        "", 
        "Intfact: exp(p); 0.344356,0.667553 "
       ]
      }, 
      {
       "output_type": "stream", 
       "stream": "stdout", 
       "text": [
        "", 
        "Using amg preconditioner instead of ilu"
       ]
      }, 
      {
       "output_type": "stream", 
       "stream": "stdout", 
       "text": [
        "", 
        "Writing "
       ]
      }, 
      {
       "output_type": "stream", 
       "stream": "stdout", 
       "text": [
        " ./Molecular_unit.pvd", 
        "omegasO"
       ]
      }, 
      {
       "output_type": "stream", 
       "stream": "stdout", 
       "text": [
        "", 
        "[ 294210.36351786  293322.79192306   69555.31610022]", 
        "omegas", 
        "[ 294210.36351786  293322.79192306   69555.31610022]", 
        "Reweighting by unit cell vol", 
        "d_eff= [0.34,0.34,0.08] for d=1.00", 
        "problem.volUnitCell 867000.0", 
        "[-42.5 -75.   34. ]"
       ]
      }, 
      {
       "output_type": "stream", 
       "stream": "stdout", 
       "text": [
        "  maps to  (42.5, 75.0, -34.0)", 
        "[-42.5 -75.   34. ]  maps to  (-42.5, 75.0, -34.0)", 
        "[-42.5  75.  -34. ]  maps to  (-42.5, -75.0, 34.0)", 
        "Not loading subdomains, since don't think they're needed", 
        "Loading electrostatic potential from argument", 
        "Using z=0.000000 for the ligand", 
        "Potential range: -0.000000 - -0.000000 "
       ]
      }, 
      {
       "output_type": "stream", 
       "stream": "stdout", 
       "text": [
        "", 
        "SA: 1.169764e+05 [um^2]"
       ]
      }, 
      {
       "output_type": "stream", 
       "stream": "stdout", 
       "text": [
        "", 
        "Volume: 6.192545e+05 [um^3]"
       ]
      }, 
      {
       "output_type": "stream", 
       "stream": "stdout", 
       "text": [
        "", 
        "Total volume (assuming rectangular): 8.670000e+05 [um^3]", 
        "volume fraction (assuming rectangular): 7.142497e-01 [um^3]", 
        "Adding in electrostatic component"
       ]
      }, 
      {
       "output_type": "stream", 
       "stream": "stdout", 
       "text": [
        "", 
        "pmf REMOVEME -0.000000,-0.000000 "
       ]
      }, 
      {
       "output_type": "stream", 
       "stream": "stdout", 
       "text": [
        "", 
        "Intfact: exp(p); 1.000000,1.000000 "
       ]
      }, 
      {
       "output_type": "stream", 
       "stream": "stdout", 
       "text": [
        "", 
        "Using amg preconditioner instead of ilu"
       ]
      }, 
      {
       "output_type": "stream", 
       "stream": "stdout", 
       "text": [
        "", 
        "Writing "
       ]
      }, 
      {
       "output_type": "stream", 
       "stream": "stdout", 
       "text": [
        " ./Molecular_unit.pvd", 
        "omegasO"
       ]
      }, 
      {
       "output_type": "stream", 
       "stream": "stdout", 
       "text": [
        "", 
        "[ 605251.37075516  603599.73828175  142698.65360351]", 
        "omegas", 
        "[ 605251.37075516  603599.73828175  142698.65360351]", 
        "Reweighting by unit cell vol", 
        "d_eff= [0.70,0.70,0.16] for d=1.00", 
        "problem.volUnitCell 867000.0", 
        "[-42.5 -75.   34. ]"
       ]
      }, 
      {
       "output_type": "stream", 
       "stream": "stdout", 
       "text": [
        "  maps to  (42.5, 75.0, -34.0)", 
        "[-42.5 -75.   34. ]  maps to  (-42.5, 75.0, -34.0)", 
        "[-42.5  75.  -34. ]  maps to  (-42.5, -75.0, 34.0)", 
        "Not loading subdomains, since don't think they're needed", 
        "Loading electrostatic potential from argument", 
        "Using z=1.000000 for the ligand", 
        "Potential range: -0.632184 - -0.239653 "
       ]
      }, 
      {
       "output_type": "stream", 
       "stream": "stdout", 
       "text": [
        "", 
        "WARNING: Your potential does not seem to cross through 0 (reguirement at outer boundary", 
        "SA: 1.169764e+05 [um^2]"
       ]
      }, 
      {
       "output_type": "stream", 
       "stream": "stdout", 
       "text": [
        "", 
        "Volume: 6.192545e+05 [um^3]"
       ]
      }, 
      {
       "output_type": "stream", 
       "stream": "stdout", 
       "text": [
        "", 
        "Total volume (assuming rectangular): 8.670000e+05 [um^3]", 
        "volume fraction (assuming rectangular): 7.142497e-01 [um^3]", 
        "Adding in electrostatic component"
       ]
      }, 
      {
       "output_type": "stream", 
       "stream": "stdout", 
       "text": [
        "", 
        "pmf REMOVEME -0.632184,-0.239653 "
       ]
      }, 
      {
       "output_type": "stream", 
       "stream": "stdout", 
       "text": [
        "", 
        "Intfact: exp(p); 1.498008,2.903968 "
       ]
      }, 
      {
       "output_type": "stream", 
       "stream": "stdout", 
       "text": [
        "", 
        "Using amg preconditioner instead of ilu"
       ]
      }, 
      {
       "output_type": "stream", 
       "stream": "stdout", 
       "text": [
        "", 
        "Writing "
       ]
      }, 
      {
       "output_type": "stream", 
       "stream": "stdout", 
       "text": [
        " ./Molecular_unit.pvd", 
        "omegasO"
       ]
      }, 
      {
       "output_type": "stream", 
       "stream": "stdout", 
       "text": [
        "", 
        "[ 1265426.2896737   1261705.78248821   299516.65767372]", 
        "omegas", 
        "[ 1265426.2896737   1261705.78248821   299516.65767372]", 
        "Reweighting by unit cell vol", 
        "d_eff= [1.46,1.46,0.35] for d=1.00", 
        "problem.volUnitCell 867000.0", 
        "[-42.5 -75.   34. ]"
       ]
      }, 
      {
       "output_type": "stream", 
       "stream": "stdout", 
       "text": [
        "  maps to  (42.5, 75.0, -34.0)", 
        "[-42.5 -75.   34. ]  maps to  (-42.5, 75.0, -34.0)", 
        "[-42.5  75.  -34. ]  maps to  (-42.5, -75.0, 34.0)", 
        "Not loading subdomains, since don't think they're needed", 
        "Loading electrostatic potential from argument"
       ]
      }, 
      {
       "output_type": "stream", 
       "stream": "stdout", 
       "text": [
        "", 
        "Using z=2.000000 for the ligand", 
        "Potential range: -1.264368 - -0.479306 "
       ]
      }, 
      {
       "output_type": "stream", 
       "stream": "stdout", 
       "text": [
        "", 
        "WARNING: Your potential does not seem to cross through 0 (reguirement at outer boundary", 
        "SA: 1.169764e+05 [um^2]"
       ]
      }, 
      {
       "output_type": "stream", 
       "stream": "stdout", 
       "text": [
        "", 
        "Volume: 6.192545e+05 [um^3]"
       ]
      }, 
      {
       "output_type": "stream", 
       "stream": "stdout", 
       "text": [
        "", 
        "Total volume (assuming rectangular): 8.670000e+05 [um^3]", 
        "volume fraction (assuming rectangular): 7.142497e-01 [um^3]", 
        "Adding in electrostatic component"
       ]
      }, 
      {
       "output_type": "stream", 
       "stream": "stdout", 
       "text": [
        "", 
        "pmf REMOVEME -1.264368,-0.479306 "
       ]
      }, 
      {
       "output_type": "stream", 
       "stream": "stdout", 
       "text": [
        "", 
        "Intfact: exp(p); 2.244028,8.433028 "
       ]
      }, 
      {
       "output_type": "stream", 
       "stream": "stdout", 
       "text": [
        "", 
        "Using amg preconditioner instead of ilu"
       ]
      }, 
      {
       "output_type": "stream", 
       "stream": "stdout", 
       "text": [
        "", 
        "Writing "
       ]
      }, 
      {
       "output_type": "stream", 
       "stream": "stdout", 
       "text": [
        " ./Molecular_unit.pvd", 
        "omegasO"
       ]
      }, 
      {
       "output_type": "stream", 
       "stream": "stdout", 
       "text": [
        "", 
        "[ 2689030.62351513  2679299.21098116   643010.06688441]", 
        "omegas", 
        "[ 2689030.62351513  2679299.21098116   643010.06688441]", 
        "Reweighting by unit cell vol", 
        "d_eff= [3.10,3.09,0.74] for d=1.00", 
        "problem.volUnitCell 867000.0", 
        "0.0", 
        "Solving linear form of PBE"
       ]
      }, 
      {
       "output_type": "stream", 
       "stream": "stdout", 
       "text": [
        "", 
        "[-42.5 -75.   34. ]"
       ]
      }, 
      {
       "output_type": "stream", 
       "stream": "stdout", 
       "text": [
        "  maps to  (42.5, 75.0, -34.0)", 
        "[-42.5 -75.   34. ]  maps to  (-42.5, 75.0, -34.0)", 
        "[-42.5  75.  -34. ]  maps to  (-42.5, -75.0, 34.0)", 
        "Not loading subdomains, since don't think they're needed", 
        "Loading electrostatic potential from argument"
       ]
      }, 
      {
       "output_type": "stream", 
       "stream": "stdout", 
       "text": [
        "", 
        "Using z=-2.000000 for the ligand", 
        "Potential range: 0.000506 - 0.932220 "
       ]
      }, 
      {
       "output_type": "stream", 
       "stream": "stdout", 
       "text": [
        "", 
        "WARNING: Your potential does not seem to cross through 0 (reguirement at outer boundary", 
        "SA: 1.169764e+05 [um^2]"
       ]
      }, 
      {
       "output_type": "stream", 
       "stream": "stdout", 
       "text": [
        "", 
        "Volume: 6.192545e+05 [um^3]"
       ]
      }, 
      {
       "output_type": "stream", 
       "stream": "stdout", 
       "text": [
        "", 
        "Total volume (assuming rectangular): 8.670000e+05 [um^3]", 
        "volume fraction (assuming rectangular): 7.142497e-01 [um^3]", 
        "Adding in electrostatic component"
       ]
      }, 
      {
       "output_type": "stream", 
       "stream": "stdout", 
       "text": [
        "", 
        "pmf REMOVEME 0.000506,0.932220 "
       ]
      }, 
      {
       "output_type": "stream", 
       "stream": "stdout", 
       "text": [
        "", 
        "Intfact: exp(p); 0.207621,0.999148 "
       ]
      }, 
      {
       "output_type": "stream", 
       "stream": "stdout", 
       "text": [
        "", 
        "Using amg preconditioner instead of ilu"
       ]
      }, 
      {
       "output_type": "stream", 
       "stream": "stdout", 
       "text": [
        "", 
        "Writing "
       ]
      }, 
      {
       "output_type": "stream", 
       "stream": "stdout", 
       "text": [
        " ./Molecular_unit.pvd", 
        "omegasO"
       ]
      }, 
      {
       "output_type": "stream", 
       "stream": "stdout", 
       "text": [
        "", 
        "[ 447395.3205134   446784.66037147  112064.70935941]", 
        "omegas", 
        "[ 447395.3205134   446784.66037147  112064.70935941]", 
        "Reweighting by unit cell vol", 
        "d_eff= [0.52,0.52,0.13] for d=1.00", 
        "problem.volUnitCell 867000.0", 
        "[-42.5 -75.   34. ]"
       ]
      }, 
      {
       "output_type": "stream", 
       "stream": "stdout", 
       "text": [
        "  maps to  (42.5, 75.0, -34.0)", 
        "[-42.5 -75.   34. ]  maps to  (-42.5, 75.0, -34.0)", 
        "[-42.5  75.  -34. ]  maps to  (-42.5, -75.0, 34.0)", 
        "Not loading subdomains, since don't think they're needed", 
        "Loading electrostatic potential from argument", 
        "Using z=-1.000000 for the ligand", 
        "Potential range: 0.000253 - 0.466110 "
       ]
      }, 
      {
       "output_type": "stream", 
       "stream": "stdout", 
       "text": [
        "", 
        "WARNING: Your potential does not seem to cross through 0 (reguirement at outer boundary", 
        "SA: 1.169764e+05 [um^2]"
       ]
      }, 
      {
       "output_type": "stream", 
       "stream": "stdout", 
       "text": [
        "", 
        "Volume: 6.192545e+05 [um^3]"
       ]
      }, 
      {
       "output_type": "stream", 
       "stream": "stdout", 
       "text": [
        "", 
        "Total volume (assuming rectangular): 8.670000e+05 [um^3]", 
        "volume fraction (assuming rectangular): 7.142497e-01 [um^3]", 
        "Adding in electrostatic component"
       ]
      }, 
      {
       "output_type": "stream", 
       "stream": "stdout", 
       "text": [
        "", 
        "pmf REMOVEME 0.000253,0.466110 "
       ]
      }, 
      {
       "output_type": "stream", 
       "stream": "stdout", 
       "text": [
        "", 
        "Intfact: exp(p); 0.455655,0.999574 "
       ]
      }, 
      {
       "output_type": "stream", 
       "stream": "stdout", 
       "text": [
        "", 
        "Using amg preconditioner instead of ilu"
       ]
      }, 
      {
       "output_type": "stream", 
       "stream": "stdout", 
       "text": [
        "", 
        "Writing "
       ]
      }, 
      {
       "output_type": "stream", 
       "stream": "stdout", 
       "text": [
        " ./Molecular_unit.pvd", 
        "omegasO"
       ]
      }, 
      {
       "output_type": "stream", 
       "stream": "stdout", 
       "text": [
        "", 
        "[ 517203.6425715   516025.87206811  126516.22653267]", 
        "omegas", 
        "[ 517203.6425715   516025.87206811  126516.22653267]", 
        "Reweighting by unit cell vol", 
        "d_eff= [0.60,0.60,0.15] for d=1.00", 
        "problem.volUnitCell 867000.0", 
        "[-42.5 -75.   34. ]"
       ]
      }, 
      {
       "output_type": "stream", 
       "stream": "stdout", 
       "text": [
        "  maps to  (42.5, 75.0, -34.0)", 
        "[-42.5 -75.   34. ]  maps to  (-42.5, 75.0, -34.0)", 
        "[-42.5  75.  -34. ]  maps to  (-42.5, -75.0, 34.0)", 
        "Not loading subdomains, since don't think they're needed", 
        "Loading electrostatic potential from argument", 
        "Using z=0.000000 for the ligand", 
        "Potential range: -0.000000 - -0.000000 "
       ]
      }, 
      {
       "output_type": "stream", 
       "stream": "stdout", 
       "text": [
        "", 
        "SA: 1.169764e+05 [um^2]"
       ]
      }, 
      {
       "output_type": "stream", 
       "stream": "stdout", 
       "text": [
        "", 
        "Volume: 6.192545e+05 [um^3]"
       ]
      }, 
      {
       "output_type": "stream", 
       "stream": "stdout", 
       "text": [
        "", 
        "Total volume (assuming rectangular): 8.670000e+05 [um^3]", 
        "volume fraction (assuming rectangular): 7.142497e-01 [um^3]", 
        "Adding in electrostatic component"
       ]
      }, 
      {
       "output_type": "stream", 
       "stream": "stdout", 
       "text": [
        "", 
        "pmf REMOVEME -0.000000,-0.000000 "
       ]
      }, 
      {
       "output_type": "stream", 
       "stream": "stdout", 
       "text": [
        "", 
        "Intfact: exp(p); 1.000000,1.000000 "
       ]
      }, 
      {
       "output_type": "stream", 
       "stream": "stdout", 
       "text": [
        "", 
        "Using amg preconditioner instead of ilu"
       ]
      }, 
      {
       "output_type": "stream", 
       "stream": "stdout", 
       "text": [
        "", 
        "Writing "
       ]
      }, 
      {
       "output_type": "stream", 
       "stream": "stdout", 
       "text": [
        " ./Molecular_unit.pvd", 
        "omegasO"
       ]
      }, 
      {
       "output_type": "stream", 
       "stream": "stdout", 
       "text": [
        "", 
        "[ 605251.37075516  603599.73828175  142698.65360351]", 
        "omegas", 
        "[ 605251.37075516  603599.73828175  142698.65360351]", 
        "Reweighting by unit cell vol", 
        "d_eff= [0.70,0.70,0.16] for d=1.00", 
        "problem.volUnitCell 867000.0", 
        "[-42.5 -75.   34. ]"
       ]
      }, 
      {
       "output_type": "stream", 
       "stream": "stdout", 
       "text": [
        "  maps to  (42.5, 75.0, -34.0)", 
        "[-42.5 -75.   34. ]  maps to  (-42.5, 75.0, -34.0)", 
        "[-42.5  75.  -34. ]  maps to  (-42.5, -75.0, 34.0)", 
        "Not loading subdomains, since don't think they're needed", 
        "Loading electrostatic potential from argument", 
        "Using z=1.000000 for the ligand", 
        "Potential range: -0.466110 - -0.000253 "
       ]
      }, 
      {
       "output_type": "stream", 
       "stream": "stdout", 
       "text": [
        "", 
        "WARNING: Your potential does not seem to cross through 0 (reguirement at outer boundary", 
        "SA: 1.169764e+05 [um^2]"
       ]
      }, 
      {
       "output_type": "stream", 
       "stream": "stdout", 
       "text": [
        "", 
        "Volume: 6.192545e+05 [um^3]"
       ]
      }, 
      {
       "output_type": "stream", 
       "stream": "stdout", 
       "text": [
        "", 
        "Total volume (assuming rectangular): 8.670000e+05 [um^3]", 
        "volume fraction (assuming rectangular): 7.142497e-01 [um^3]", 
        "Adding in electrostatic component"
       ]
      }, 
      {
       "output_type": "stream", 
       "stream": "stdout", 
       "text": [
        "", 
        "pmf REMOVEME -0.466110,-0.000253 "
       ]
      }, 
      {
       "output_type": "stream", 
       "stream": "stdout", 
       "text": [
        "", 
        "Intfact: exp(p); 1.000426,2.194645 "
       ]
      }, 
      {
       "output_type": "stream", 
       "stream": "stdout", 
       "text": [
        "", 
        "Using amg preconditioner instead of ilu"
       ]
      }, 
      {
       "output_type": "stream", 
       "stream": "stdout", 
       "text": [
        "", 
        "Writing "
       ]
      }, 
      {
       "output_type": "stream", 
       "stream": "stdout", 
       "text": [
        " ./Molecular_unit.pvd", 
        "omegasO"
       ]
      }, 
      {
       "output_type": "stream", 
       "stream": "stdout", 
       "text": [
        "", 
        "[ 718129.45439969  716333.34239827  160802.60692047]", 
        "omegas", 
        "[ 718129.45439969  716333.34239827  160802.60692047]", 
        "Reweighting by unit cell vol", 
        "d_eff= [0.83,0.83,0.19] for d=1.00", 
        "problem.volUnitCell 867000.0", 
        "[-42.5 -75.   34. ]"
       ]
      }, 
      {
       "output_type": "stream", 
       "stream": "stdout", 
       "text": [
        "  maps to  (42.5, 75.0, -34.0)", 
        "[-42.5 -75.   34. ]  maps to  (-42.5, 75.0, -34.0)", 
        "[-42.5  75.  -34. ]  maps to  (-42.5, -75.0, 34.0)", 
        "Not loading subdomains, since don't think they're needed", 
        "Loading electrostatic potential from argument"
       ]
      }, 
      {
       "output_type": "stream", 
       "stream": "stdout", 
       "text": [
        "", 
        "Using z=2.000000 for the ligand", 
        "Potential range: -0.932220 - -0.000506 "
       ]
      }, 
      {
       "output_type": "stream", 
       "stream": "stdout", 
       "text": [
        "", 
        "WARNING: Your potential does not seem to cross through 0 (reguirement at outer boundary", 
        "SA: 1.169764e+05 [um^2]"
       ]
      }, 
      {
       "output_type": "stream", 
       "stream": "stdout", 
       "text": [
        "", 
        "Volume: 6.192545e+05 [um^3]"
       ]
      }, 
      {
       "output_type": "stream", 
       "stream": "stdout", 
       "text": [
        "", 
        "Total volume (assuming rectangular): 8.670000e+05 [um^3]", 
        "volume fraction (assuming rectangular): 7.142497e-01 [um^3]", 
        "Adding in electrostatic component"
       ]
      }, 
      {
       "output_type": "stream", 
       "stream": "stdout", 
       "text": [
        "", 
        "pmf REMOVEME -0.932220,-0.000506 "
       ]
      }, 
      {
       "output_type": "stream", 
       "stream": "stdout", 
       "text": [
        "", 
        "Intfact: exp(p); 1.000853,4.816468 "
       ]
      }, 
      {
       "output_type": "stream", 
       "stream": "stdout", 
       "text": [
        "", 
        "Using amg preconditioner instead of ilu"
       ]
      }, 
      {
       "output_type": "stream", 
       "stream": "stdout", 
       "text": [
        "", 
        "Writing "
       ]
      }, 
      {
       "output_type": "stream", 
       "stream": "stdout", 
       "text": [
        " ./Molecular_unit.pvd", 
        "omegasO"
       ]
      }, 
      {
       "output_type": "stream", 
       "stream": "stdout", 
       "text": [
        "", 
        "[ 865328.01166191  864212.50724019  181032.38955839]", 
        "omegas", 
        "[ 865328.01166191  864212.50724019  181032.38955839]", 
        "Reweighting by unit cell vol", 
        "d_eff= [1.00,1.00,0.21] for d=1.00", 
        "problem.volUnitCell 867000.0", 
        "0.0", 
        "Solving linear form of PBE"
       ]
      }, 
      {
       "output_type": "stream", 
       "stream": "stdout", 
       "text": [
        "", 
        "[-42.5 -75.   34. ]"
       ]
      }, 
      {
       "output_type": "stream", 
       "stream": "stdout", 
       "text": [
        "  maps to  (42.5, 75.0, -34.0)", 
        "[-42.5 -75.   34. ]  maps to  (-42.5, 75.0, -34.0)", 
        "[-42.5  75.  -34. ]  maps to  (-42.5, -75.0, 34.0)", 
        "Not loading subdomains, since don't think they're needed", 
        "Loading electrostatic potential from argument", 
        "Using z=-2.000000 for the ligand", 
        "Potential range: -0.061249 - 0.723814 "
       ]
      }, 
      {
       "output_type": "stream", 
       "stream": "stdout", 
       "text": [
        "", 
        "SA: 1.169764e+05 [um^2]"
       ]
      }, 
      {
       "output_type": "stream", 
       "stream": "stdout", 
       "text": [
        "", 
        "Volume: 6.192545e+05 [um^3]"
       ]
      }, 
      {
       "output_type": "stream", 
       "stream": "stdout", 
       "text": [
        "", 
        "Total volume (assuming rectangular): 8.670000e+05 [um^3]", 
        "volume fraction (assuming rectangular): 7.142497e-01 [um^3]", 
        "Adding in electrostatic component"
       ]
      }, 
      {
       "output_type": "stream", 
       "stream": "stdout", 
       "text": [
        "", 
        "pmf REMOVEME -0.061249,0.723814 "
       ]
      }, 
      {
       "output_type": "stream", 
       "stream": "stdout", 
       "text": [
        "", 
        "Intfact: exp(p); 0.295054,1.108808 "
       ]
      }, 
      {
       "output_type": "stream", 
       "stream": "stdout", 
       "text": [
        "", 
        "Using amg preconditioner instead of ilu"
       ]
      }, 
      {
       "output_type": "stream", 
       "stream": "stdout", 
       "text": [
        "", 
        "Writing "
       ]
      }, 
      {
       "output_type": "stream", 
       "stream": "stdout", 
       "text": [
        " ./Molecular_unit.pvd", 
        "omegasO"
       ]
      }, 
      {
       "output_type": "stream", 
       "stream": "stdout", 
       "text": [
        "", 
        "[ 539914.50950536  538712.64160531  132264.44924756]", 
        "omegas", 
        "[ 539914.50950536  538712.64160531  132264.44924756]", 
        "Reweighting by unit cell vol", 
        "d_eff= [0.62,0.62,0.15] for d=1.00", 
        "problem.volUnitCell 867000.0", 
        "[-42.5 -75.   34. ]"
       ]
      }, 
      {
       "output_type": "stream", 
       "stream": "stdout", 
       "text": [
        "  maps to  (42.5, 75.0, -34.0)", 
        "[-42.5 -75.   34. ]  maps to  (-42.5, 75.0, -34.0)", 
        "[-42.5  75.  -34. ]  maps to  (-42.5, -75.0, 34.0)", 
        "Not loading subdomains, since don't think they're needed", 
        "Loading electrostatic potential from argument", 
        "Using z=-1.000000 for the ligand", 
        "Potential range: -0.030624 - 0.361907 "
       ]
      }, 
      {
       "output_type": "stream", 
       "stream": "stdout", 
       "text": [
        "", 
        "SA: 1.169764e+05 [um^2]"
       ]
      }, 
      {
       "output_type": "stream", 
       "stream": "stdout", 
       "text": [
        "", 
        "Volume: 6.192545e+05 [um^3]"
       ]
      }, 
      {
       "output_type": "stream", 
       "stream": "stdout", 
       "text": [
        "", 
        "Total volume (assuming rectangular): 8.670000e+05 [um^3]", 
        "volume fraction (assuming rectangular): 7.142497e-01 [um^3]", 
        "Adding in electrostatic component"
       ]
      }, 
      {
       "output_type": "stream", 
       "stream": "stdout", 
       "text": [
        "", 
        "pmf REMOVEME -0.030624,0.361907 "
       ]
      }, 
      {
       "output_type": "stream", 
       "stream": "stdout", 
       "text": [
        "", 
        "Intfact: exp(p); 0.543189,1.053000 "
       ]
      }, 
      {
       "output_type": "stream", 
       "stream": "stdout", 
       "text": [
        "", 
        "Using amg preconditioner instead of ilu"
       ]
      }, 
      {
       "output_type": "stream", 
       "stream": "stdout", 
       "text": [
        "", 
        "Writing "
       ]
      }, 
      {
       "output_type": "stream", 
       "stream": "stdout", 
       "text": [
        " ./Molecular_unit.pvd", 
        "omegasO"
       ]
      }, 
      {
       "output_type": "stream", 
       "stream": "stdout", 
       "text": [
        "", 
        "[ 570141.37639582  568685.17571904  137364.0491137 ]", 
        "omegas", 
        "[ 570141.37639582  568685.17571904  137364.0491137 ]", 
        "Reweighting by unit cell vol", 
        "d_eff= [0.66,0.66,0.16] for d=1.00", 
        "problem.volUnitCell 867000.0", 
        "[-42.5 -75.   34. ]"
       ]
      }, 
      {
       "output_type": "stream", 
       "stream": "stdout", 
       "text": [
        "  maps to  (42.5, 75.0, -34.0)", 
        "[-42.5 -75.   34. ]  maps to  (-42.5, 75.0, -34.0)", 
        "[-42.5  75.  -34. ]  maps to  (-42.5, -75.0, 34.0)", 
        "Not loading subdomains, since don't think they're needed", 
        "Loading electrostatic potential from argument"
       ]
      }, 
      {
       "output_type": "stream", 
       "stream": "stdout", 
       "text": [
        "", 
        "Using z=0.000000 for the ligand", 
        "Potential range: -0.000000 - -0.000000 "
       ]
      }, 
      {
       "output_type": "stream", 
       "stream": "stdout", 
       "text": [
        "", 
        "SA: 1.169764e+05 [um^2]"
       ]
      }, 
      {
       "output_type": "stream", 
       "stream": "stdout", 
       "text": [
        "", 
        "Volume: 6.192545e+05 [um^3]"
       ]
      }, 
      {
       "output_type": "stream", 
       "stream": "stdout", 
       "text": [
        "", 
        "Total volume (assuming rectangular): 8.670000e+05 [um^3]", 
        "volume fraction (assuming rectangular): 7.142497e-01 [um^3]", 
        "Adding in electrostatic component"
       ]
      }, 
      {
       "output_type": "stream", 
       "stream": "stdout", 
       "text": [
        "", 
        "pmf REMOVEME -0.000000,-0.000000 "
       ]
      }, 
      {
       "output_type": "stream", 
       "stream": "stdout", 
       "text": [
        "", 
        "Intfact: exp(p); 1.000000,1.000000 "
       ]
      }, 
      {
       "output_type": "stream", 
       "stream": "stdout", 
       "text": [
        "", 
        "Using amg preconditioner instead of ilu"
       ]
      }, 
      {
       "output_type": "stream", 
       "stream": "stdout", 
       "text": [
        "", 
        "Writing "
       ]
      }, 
      {
       "output_type": "stream", 
       "stream": "stdout", 
       "text": [
        " ./Molecular_unit.pvd", 
        "omegasO"
       ]
      }, 
      {
       "output_type": "stream", 
       "stream": "stdout", 
       "text": [
        "", 
        "[ 605251.37075516  603599.73828175  142698.65360351]", 
        "omegas", 
        "[ 605251.37075516  603599.73828175  142698.65360351]", 
        "Reweighting by unit cell vol", 
        "d_eff= [0.70,0.70,0.16] for d=1.00", 
        "problem.volUnitCell 867000.0", 
        "[-42.5 -75.   34. ]"
       ]
      }, 
      {
       "output_type": "stream", 
       "stream": "stdout", 
       "text": [
        "  maps to  (42.5, 75.0, -34.0)", 
        "[-42.5 -75.   34. ]  maps to  (-42.5, 75.0, -34.0)", 
        "[-42.5  75.  -34. ]  maps to  (-42.5, -75.0, 34.0)", 
        "Not loading subdomains, since don't think they're needed", 
        "Loading electrostatic potential from argument", 
        "Using z=1.000000 for the ligand", 
        "Potential range: -0.361907 - 0.030624 "
       ]
      }, 
      {
       "output_type": "stream", 
       "stream": "stdout", 
       "text": [
        "", 
        "SA: 1.169764e+05 [um^2]"
       ]
      }, 
      {
       "output_type": "stream", 
       "stream": "stdout", 
       "text": [
        "", 
        "Volume: 6.192545e+05 [um^3]"
       ]
      }, 
      {
       "output_type": "stream", 
       "stream": "stdout", 
       "text": [
        "", 
        "Total volume (assuming rectangular): 8.670000e+05 [um^3]", 
        "volume fraction (assuming rectangular): 7.142497e-01 [um^3]", 
        "Adding in electrostatic component"
       ]
      }, 
      {
       "output_type": "stream", 
       "stream": "stdout", 
       "text": [
        "", 
        "pmf REMOVEME -0.361907,0.030624 "
       ]
      }, 
      {
       "output_type": "stream", 
       "stream": "stdout", 
       "text": [
        "", 
        "Intfact: exp(p); 0.949668,1.840981 "
       ]
      }, 
      {
       "output_type": "stream", 
       "stream": "stdout", 
       "text": [
        "", 
        "Using amg preconditioner instead of ilu"
       ]
      }, 
      {
       "output_type": "stream", 
       "stream": "stdout", 
       "text": [
        "", 
        "Writing "
       ]
      }, 
      {
       "output_type": "stream", 
       "stream": "stdout", 
       "text": [
        " ./Molecular_unit.pvd", 
        "omegasO"
       ]
      }, 
      {
       "output_type": "stream", 
       "stream": "stdout", 
       "text": [
        "", 
        "[ 646537.33267528  644814.23081692  148288.83009407]", 
        "omegas", 
        "[ 646537.33267528  644814.23081692  148288.83009407]", 
        "Reweighting by unit cell vol", 
        "d_eff= [0.75,0.74,0.17] for d=1.00", 
        "problem.volUnitCell 867000.0", 
        "[-42.5 -75.   34. ]"
       ]
      }, 
      {
       "output_type": "stream", 
       "stream": "stdout", 
       "text": [
        "  maps to  (42.5, 75.0, -34.0)", 
        "[-42.5 -75.   34. ]  maps to  (-42.5, 75.0, -34.0)", 
        "[-42.5  75.  -34. ]  maps to  (-42.5, -75.0, 34.0)", 
        "Not loading subdomains, since don't think they're needed", 
        "Loading electrostatic potential from argument", 
        "Using z=2.000000 for the ligand", 
        "Potential range: -0.723814 - 0.061249 "
       ]
      }, 
      {
       "output_type": "stream", 
       "stream": "stdout", 
       "text": [
        "", 
        "SA: 1.169764e+05 [um^2]"
       ]
      }, 
      {
       "output_type": "stream", 
       "stream": "stdout", 
       "text": [
        "", 
        "Volume: 6.192545e+05 [um^3]"
       ]
      }, 
      {
       "output_type": "stream", 
       "stream": "stdout", 
       "text": [
        "", 
        "Total volume (assuming rectangular): 8.670000e+05 [um^3]", 
        "volume fraction (assuming rectangular): 7.142497e-01 [um^3]", 
        "Adding in electrostatic component"
       ]
      }, 
      {
       "output_type": "stream", 
       "stream": "stdout", 
       "text": [
        "", 
        "pmf REMOVEME -0.723814,0.061249 "
       ]
      }, 
      {
       "output_type": "stream", 
       "stream": "stdout", 
       "text": [
        "", 
        "Intfact: exp(p); 0.901869,3.389212 "
       ]
      }, 
      {
       "output_type": "stream", 
       "stream": "stdout", 
       "text": [
        "", 
        "Using amg preconditioner instead of ilu"
       ]
      }, 
      {
       "output_type": "stream", 
       "stream": "stdout", 
       "text": [
        "", 
        "Writing "
       ]
      }, 
      {
       "output_type": "stream", 
       "stream": "stdout", 
       "text": [
        " ./Molecular_unit.pvd", 
        "omegasO"
       ]
      }, 
      {
       "output_type": "stream", 
       "stream": "stdout", 
       "text": [
        "", 
        "[ 695693.42408944  694137.73372981  154155.89792876]", 
        "omegas", 
        "[ 695693.42408944  694137.73372981  154155.89792876]", 
        "Reweighting by unit cell vol", 
        "d_eff= [0.80,0.80,0.18] for d=1.00", 
        "problem.volUnitCell 867000.0", 
        "0.0", 
        "Solving linear form of PBE"
       ]
      }, 
      {
       "output_type": "stream", 
       "stream": "stdout", 
       "text": [
        "", 
        "[-42.5 -75.   34. ]"
       ]
      }, 
      {
       "output_type": "stream", 
       "stream": "stdout", 
       "text": [
        "  maps to  (42.5, 75.0, -34.0)", 
        "[-42.5 -75.   34. ]  maps to  (-42.5, 75.0, -34.0)", 
        "[-42.5  75.  -34. ]  maps to  (-42.5, -75.0, 34.0)", 
        "Not loading subdomains, since don't think they're needed", 
        "Loading electrostatic potential from argument", 
        "Using z=-2.000000 for the ligand", 
        "Potential range: -0.189847 - 0.595216 "
       ]
      }, 
      {
       "output_type": "stream", 
       "stream": "stdout", 
       "text": [
        "", 
        "SA: 1.169764e+05 [um^2]"
       ]
      }, 
      {
       "output_type": "stream", 
       "stream": "stdout", 
       "text": [
        "", 
        "Volume: 6.192545e+05 [um^3]"
       ]
      }, 
      {
       "output_type": "stream", 
       "stream": "stdout", 
       "text": [
        "", 
        "Total volume (assuming rectangular): 8.670000e+05 [um^3]", 
        "volume fraction (assuming rectangular): 7.142497e-01 [um^3]", 
        "Adding in electrostatic component"
       ]
      }, 
      {
       "output_type": "stream", 
       "stream": "stdout", 
       "text": [
        "", 
        "pmf REMOVEME -0.189847,0.595216 "
       ]
      }, 
      {
       "output_type": "stream", 
       "stream": "stdout", 
       "text": [
        "", 
        "Intfact: exp(p); 0.366507,1.377330 "
       ]
      }, 
      {
       "output_type": "stream", 
       "stream": "stdout", 
       "text": [
        "", 
        "Using amg preconditioner instead of ilu"
       ]
      }, 
      {
       "output_type": "stream", 
       "stream": "stdout", 
       "text": [
        "", 
        "Writing "
       ]
      }, 
      {
       "output_type": "stream", 
       "stream": "stdout", 
       "text": [
        " ./Molecular_unit.pvd", 
        "omegasO"
       ]
      }, 
      {
       "output_type": "stream", 
       "stream": "stdout", 
       "text": [
        "", 
        "[ 465260.5865939   464011.94593413  108435.41962266]", 
        "omegas", 
        "[ 465260.5865939   464011.94593413  108435.41962266]", 
        "Reweighting by unit cell vol", 
        "d_eff= [0.54,0.54,0.13] for d=1.00", 
        "problem.volUnitCell 867000.0", 
        "[-42.5 -75.   34. ]"
       ]
      }, 
      {
       "output_type": "stream", 
       "stream": "stdout", 
       "text": [
        "  maps to  (42.5, 75.0, -34.0)", 
        "[-42.5 -75.   34. ]  maps to  (-42.5, 75.0, -34.0)", 
        "[-42.5  75.  -34. ]  maps to  (-42.5, -75.0, 34.0)", 
        "Not loading subdomains, since don't think they're needed", 
        "Loading electrostatic potential from argument"
       ]
      }, 
      {
       "output_type": "stream", 
       "stream": "stdout", 
       "text": [
        "", 
        "Using z=-1.000000 for the ligand", 
        "Potential range: -0.094924 - 0.297608 "
       ]
      }, 
      {
       "output_type": "stream", 
       "stream": "stdout", 
       "text": [
        "", 
        "SA: 1.169764e+05 [um^2]"
       ]
      }, 
      {
       "output_type": "stream", 
       "stream": "stdout", 
       "text": [
        "", 
        "Volume: 6.192545e+05 [um^3]"
       ]
      }, 
      {
       "output_type": "stream", 
       "stream": "stdout", 
       "text": [
        "", 
        "Total volume (assuming rectangular): 8.670000e+05 [um^3]", 
        "volume fraction (assuming rectangular): 7.142497e-01 [um^3]", 
        "Adding in electrostatic component"
       ]
      }, 
      {
       "output_type": "stream", 
       "stream": "stdout", 
       "text": [
        "", 
        "pmf REMOVEME -0.094924,0.297608 "
       ]
      }, 
      {
       "output_type": "stream", 
       "stream": "stdout", 
       "text": [
        "", 
        "Intfact: exp(p); 0.605399,1.173597 "
       ]
      }, 
      {
       "output_type": "stream", 
       "stream": "stdout", 
       "text": [
        "", 
        "Using amg preconditioner instead of ilu"
       ]
      }, 
      {
       "output_type": "stream", 
       "stream": "stdout", 
       "text": [
        "", 
        "Writing "
       ]
      }, 
      {
       "output_type": "stream", 
       "stream": "stdout", 
       "text": [
        " ./Molecular_unit.pvd", 
        "omegasO"
       ]
      }, 
      {
       "output_type": "stream", 
       "stream": "stdout", 
       "text": [
        "", 
        "[ 526084.1261414   524648.75154959  123083.48112844]", 
        "omegas", 
        "[ 526084.1261414   524648.75154959  123083.48112844]", 
        "Reweighting by unit cell vol", 
        "d_eff= [0.61,0.61,0.14] for d=1.00", 
        "problem.volUnitCell 867000.0", 
        "[-42.5 -75.   34. ]"
       ]
      }, 
      {
       "output_type": "stream", 
       "stream": "stdout", 
       "text": [
        "  maps to  (42.5, 75.0, -34.0)", 
        "[-42.5 -75.   34. ]  maps to  (-42.5, 75.0, -34.0)", 
        "[-42.5  75.  -34. ]  maps to  (-42.5, -75.0, 34.0)", 
        "Not loading subdomains, since don't think they're needed", 
        "Loading electrostatic potential from argument", 
        "Using z=0.000000 for the ligand", 
        "Potential range: -0.000000 - -0.000000 "
       ]
      }, 
      {
       "output_type": "stream", 
       "stream": "stdout", 
       "text": [
        "", 
        "SA: 1.169764e+05 [um^2]"
       ]
      }, 
      {
       "output_type": "stream", 
       "stream": "stdout", 
       "text": [
        "", 
        "Volume: 6.192545e+05 [um^3]"
       ]
      }, 
      {
       "output_type": "stream", 
       "stream": "stdout", 
       "text": [
        "", 
        "Total volume (assuming rectangular): 8.670000e+05 [um^3]", 
        "volume fraction (assuming rectangular): 7.142497e-01 [um^3]", 
        "Adding in electrostatic component"
       ]
      }, 
      {
       "output_type": "stream", 
       "stream": "stdout", 
       "text": [
        "", 
        "pmf REMOVEME -0.000000,-0.000000 "
       ]
      }, 
      {
       "output_type": "stream", 
       "stream": "stdout", 
       "text": [
        "", 
        "Intfact: exp(p); 1.000000,1.000000 "
       ]
      }, 
      {
       "output_type": "stream", 
       "stream": "stdout", 
       "text": [
        "", 
        "Using amg preconditioner instead of ilu"
       ]
      }, 
      {
       "output_type": "stream", 
       "stream": "stdout", 
       "text": [
        "", 
        "Writing "
       ]
      }, 
      {
       "output_type": "stream", 
       "stream": "stdout", 
       "text": [
        " ./Molecular_unit.pvd", 
        "omegasO"
       ]
      }, 
      {
       "output_type": "stream", 
       "stream": "stdout", 
       "text": [
        "", 
        "[ 605251.37075516  603599.73828175  142698.65360351]", 
        "omegas", 
        "[ 605251.37075516  603599.73828175  142698.65360351]", 
        "Reweighting by unit cell vol", 
        "d_eff= [0.70,0.70,0.16] for d=1.00", 
        "problem.volUnitCell 867000.0", 
        "[-42.5 -75.   34. ]"
       ]
      }, 
      {
       "output_type": "stream", 
       "stream": "stdout", 
       "text": [
        "  maps to  (42.5, 75.0, -34.0)", 
        "[-42.5 -75.   34. ]  maps to  (-42.5, 75.0, -34.0)", 
        "[-42.5  75.  -34. ]  maps to  (-42.5, -75.0, 34.0)", 
        "Not loading subdomains, since don't think they're needed", 
        "Loading electrostatic potential from argument"
       ]
      }, 
      {
       "output_type": "stream", 
       "stream": "stdout", 
       "text": [
        "", 
        "Using z=1.000000 for the ligand", 
        "Potential range: -0.297608 - 0.094924 "
       ]
      }, 
      {
       "output_type": "stream", 
       "stream": "stdout", 
       "text": [
        "", 
        "SA: 1.169764e+05 [um^2]"
       ]
      }, 
      {
       "output_type": "stream", 
       "stream": "stdout", 
       "text": [
        "", 
        "Volume: 6.192545e+05 [um^3]"
       ]
      }, 
      {
       "output_type": "stream", 
       "stream": "stdout", 
       "text": [
        "", 
        "Total volume (assuming rectangular): 8.670000e+05 [um^3]", 
        "volume fraction (assuming rectangular): 7.142497e-01 [um^3]", 
        "Adding in electrostatic component"
       ]
      }, 
      {
       "output_type": "stream", 
       "stream": "stdout", 
       "text": [
        "", 
        "pmf REMOVEME -0.297608,0.094924 "
       ]
      }, 
      {
       "output_type": "stream", 
       "stream": "stdout", 
       "text": [
        "", 
        "Intfact: exp(p); 0.852081,1.651804 "
       ]
      }, 
      {
       "output_type": "stream", 
       "stream": "stdout", 
       "text": [
        "", 
        "Using amg preconditioner instead of ilu"
       ]
      }, 
      {
       "output_type": "stream", 
       "stream": "stdout", 
       "text": [
        "", 
        "Writing "
       ]
      }, 
      {
       "output_type": "stream", 
       "stream": "stdout", 
       "text": [
        " ./Molecular_unit.pvd", 
        "omegasO"
       ]
      }, 
      {
       "output_type": "stream", 
       "stream": "stdout", 
       "text": [
        "", 
        "[ 708972.49135879  706990.35892353  169074.32679158]", 
        "omegas", 
        "[ 708972.49135879  706990.35892353  169074.32679158]", 
        "Reweighting by unit cell vol", 
        "d_eff= [0.82,0.82,0.20] for d=1.00", 
        "problem.volUnitCell 867000.0", 
        "[-42.5 -75.   34. ]"
       ]
      }, 
      {
       "output_type": "stream", 
       "stream": "stdout", 
       "text": [
        "  maps to  (42.5, 75.0, -34.0)", 
        "[-42.5 -75.   34. ]  maps to  (-42.5, 75.0, -34.0)", 
        "[-42.5  75.  -34. ]  maps to  (-42.5, -75.0, 34.0)", 
        "Not loading subdomains, since don't think they're needed", 
        "Loading electrostatic potential from argument", 
        "Using z=2.000000 for the ligand", 
        "Potential range: -0.595216 - 0.189847 "
       ]
      }, 
      {
       "output_type": "stream", 
       "stream": "stdout", 
       "text": [
        "", 
        "SA: 1.169764e+05 [um^2]"
       ]
      }, 
      {
       "output_type": "stream", 
       "stream": "stdout", 
       "text": [
        "", 
        "Volume: 6.192545e+05 [um^3]"
       ]
      }, 
      {
       "output_type": "stream", 
       "stream": "stdout", 
       "text": [
        "", 
        "Total volume (assuming rectangular): 8.670000e+05 [um^3]", 
        "volume fraction (assuming rectangular): 7.142497e-01 [um^3]", 
        "Adding in electrostatic component"
       ]
      }, 
      {
       "output_type": "stream", 
       "stream": "stdout", 
       "text": [
        "", 
        "pmf REMOVEME -0.595216,0.189847 "
       ]
      }, 
      {
       "output_type": "stream", 
       "stream": "stdout", 
       "text": [
        "", 
        "Intfact: exp(p); 0.726042,2.728457 "
       ]
      }, 
      {
       "output_type": "stream", 
       "stream": "stdout", 
       "text": [
        "", 
        "Using amg preconditioner instead of ilu"
       ]
      }, 
      {
       "output_type": "stream", 
       "stream": "stdout", 
       "text": [
        "", 
        "Writing "
       ]
      }, 
      {
       "output_type": "stream", 
       "stream": "stdout", 
       "text": [
        " ./Molecular_unit.pvd", 
        "omegasO"
       ]
      }, 
      {
       "output_type": "stream", 
       "stream": "stdout", 
       "text": [
        "", 
        "[ 845880.70550259  843321.72288044  204735.75265711]", 
        "omegas", 
        "[ 845880.70550259  843321.72288044  204735.75265711]", 
        "Reweighting by unit cell vol", 
        "d_eff= [0.98,0.97,0.24] for d=1.00", 
        "problem.volUnitCell 867000.0"
       ]
      }
     ], 
     "prompt_number": 1
    }, 
    {
     "cell_type": "code", 
     "collapsed": false, 
     "input": [
      "Ds"
     ], 
     "language": "python", 
     "outputs": [
      {
       "output_type": "pyout", 
       "prompt_number": 3, 
       "text": [
        "array([ 0.67139983])"
       ]
      }
     ], 
     "prompt_number": 3
    }, 
    {
     "cell_type": "code", 
     "collapsed": false, 
     "input": [
      "i=0", 
      "cols = ['r-','r--','k','b--','b-']", 
      "if(1):", 
      "  for i in range(nLigs):", 
      "    plt.plot(ionCs,allDs[:,i],cols[i],label=\"z=%d\" % z[i])", 
      "", 
      "  plt.xscale(\"log\")", 
      "  plt.yscale(\"log\")  ", 
      "  plt.xlabel(\"[I] [M]\") ", 
      "  plt.ylabel(\"D$_x$\")", 
      "  plt.title(\"Diffusion between non-uniformly charged lipids\") ", 
      "  plt.legend(loc=0)", 
      "    ", 
      "  a = plt.axes([0.6, 0.65, .3, .2])  ", 
      "#plt.figure()", 
      "", 
      "for i in range(nLigs):", 
      "  plt.plot(ionCs,allDs[:,i],cols[i],label=\"z=%d\" % z[i])", 
      "#plt.xscale(\"log\")", 
      "#plt.yscale(\"log\")  ", 
      "plt.xlim([0.05,0.3])", 
      "plt.ylim([0.1,4])", 
      "plt.yticks([0.0,1,3.])", 
      "plt.xticks([0.05,0.15,0.25])", 
      "    ", 
      "plt.gcf().savefig(\"real_lipid.png\") "
     ], 
     "language": "python", 
     "outputs": [
      {
       "output_type": "display_data", 
       "png": "[encoded data removed]"
      }
     ], 
     "prompt_number": 18
    }, 
    {
     "cell_type": "code", 
     "collapsed": false, 
     "input": [
      "range(nLigs)"
     ], 
     "language": "python", 
     "outputs": [
      {
       "output_type": "pyout", 
       "prompt_number": 22, 
       "text": [
        "[0, 1, 2, 3, 4]"
       ]
      }
     ], 
     "prompt_number": 22
    }, 
    {
     "cell_type": "code", 
     "collapsed": true, 
     "input": [], 
     "language": "python", 
     "outputs": []
    }
   ]
  }
 ]
}