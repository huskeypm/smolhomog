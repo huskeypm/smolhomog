{
 "metadata": {
  "name": "markLipid"
 }, 
 "nbformat": 2, 
 "worksheets": [
  {
   "cells": [
    {
     "cell_type": "code", 
     "collapsed": false, 
     "input": [
      "from dolfin import *", 
      "", 
      "dolf=0", 
      "", 
      "tol=6.", 
      "# Define Dirichlet boundary (x = 0 or x = 1)", 
      "class leftBoundary(SubDomain):", 
      "  def inside(self,x,on_boundary):", 
      "    outer = (\\", 
      "       x[0]>self.mins[0]+tol and x[0]<self.maxs[0]-tol and \\", 
      "       x[1]>self.mins[1]+tol and x[1]<self.maxs[1]-tol and\\", 
      "       x[2]>self.mins[2]+tol and x[2]<self.maxs[2]-tol)", 
      "       ", 
      "    return outer and on_boundary", 
      "", 
      "", 
      "# Create mesh and define function space", 
      "def doit(filename=\"none\"):", 
      "  fileName = \"bilayer.xml.gz\"", 
      "  # Create mesh and define function space", 
      "  mesh = Mesh(fileName)", 
      "  import numpy as np  ", 
      "  mins=np.min(mesh.coordinates(),axis=0)", 
      "  maxs=np.max(mesh.coordinates(),axis=0)", 
      "  ", 
      "  V = FunctionSpace(mesh, \"Lagrange\", 1)", 
      "", 
      "  # Define boundary condition", 
      "  subdomains = MeshFunction(\"uint\",mesh,2)", 
      "  boundary = leftBoundary()", 
      "  boundary.mins =mins; boundary.maxs=maxs  ", 
      "  leftmarker = 2", 
      "  boundary.mark(subdomains,leftmarker)", 
      "  ds = Measure(\"ds\")[subdomains] ", 
      "", 
      "  # save ", 
      "  File(\"subdomain.xml.gz\") << subdomains", 
      "  ", 
      "  bcs = []", 
      "  u0 = Expression(\"sin(x[1]*a)*sin(x[0]*a)*b+c\",a=0.5,b=8.5,c=-8.5)", 
      "  #u0=Constant(1.)  ", 
      "  bcs.append(DirichletBC(V, u0, subdomains,leftmarker))", 
      "  import sys", 
      "  sys.path.append(\"/home/huskeypm/sources/smolfin/\")", 
      "  import view", 
      "  view.PrintBoundary(mesh,bcs)", 
      "", 
      "#sphere", 
      "if __name__ == \"__main__\":", 
      "  msg=\"Purpose: To test messh\"", 
      "  msg=msg+\"Usage: \"", 
      "  msg=msg+\".py <file.xml/-validate> [-gamer]\"", 
      "  msg=msg+\"Notes:\"", 
      "  remap = \"none\"", 
      "", 
      "", 
      "", 
      "  mode = \"none\"", 
      "  import sys", 
      "  if len(sys.argv) < 2:", 
      "      raise RuntimeError(msg)", 
      "", 
      "  fileIn= sys.argv[1]", 
      "  if(len(sys.argv)==3):", 
      "    print \"arg\"", 
      "", 
      "  for i,arg in enumerate(sys.argv):", 
      "    if(arg==\"-gamer\"):", 
      "      dolf=0", 
      "    if(arg==\"-validate\"):", 
      "      mode=\"-validate\"", 
      "", 
      "   ", 
      "", 
      "", 
      "  if(mode==\"-validate\"):", 
      "    doit(filename=\"none\") ", 
      "  else:", 
      "    doit(fileIn)", 
      ""
     ], 
     "language": "python", 
     "outputs": [
      {
       "output_type": "stream", 
       "stream": "stdout", 
       "text": [
        "Printing boundary 0", 
        "Marked 0/54795 ", 
        "Printing marked.pvd for viewing"
       ]
      }
     ], 
     "prompt_number": 34
    }, 
    {
     "cell_type": "code", 
     "collapsed": true, 
     "input": [], 
     "language": "python", 
     "outputs": []
    }
   ]
  }
 ]
}