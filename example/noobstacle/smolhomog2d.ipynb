{
 "metadata": {
  "name": "smolhomog2d"
 }, 
 "nbformat": 2, 
 "worksheets": [
  {
   "cells": [
    {
     "cell_type": "code", 
     "collapsed": true, 
     "input": [
      "# everythin has been merged into noobstactle.py now "
     ], 
     "language": "python", 
     "outputs": []
    }
   ]
  }
 ]
}