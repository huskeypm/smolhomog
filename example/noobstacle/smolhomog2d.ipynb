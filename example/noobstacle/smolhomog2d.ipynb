{
 "metadata": {
  "name": "smolhomog2d"
 }, 
 "nbformat": 2, 
 "worksheets": [
  {
   "cells": [
    {
     "cell_type": "code", 
     "collapsed": true, 
     "input": [
      "from dolfin import *", 
      "import sys, math, numpy", 
      "import numpy as np", 
      "", 
      "tol = 1E-14   # tolerance for coordinate comparisons", 
      "EPS=tol", 
      "boundsMin = np.zeros(3)", 
      "boundsMax = np.zeros(3)"
     ], 
     "language": "python", 
     "outputs": [], 
     "prompt_number": 1
    }, 
    {
     "cell_type": "code", 
     "collapsed": true, 
     "input": [
      "## Define layered problem over omega in [0,1] where obstacles ", 
      "## are represented by large PMF (Omega0, Omega2)", 
      "## Note that I am using a dirichlet condition of X=0 on both ends, since ", 
      "## the periodic BCs weren't working; results are independent of the value of the dirichlet cond", 
      "## so I should get the same result had periodic BCs been used ", 
      "", 
      "class params():", 
      "    def __init__(self,margin=0.1):", 
      "        self.mid = 0.5", 
      "        self.margin = margin", 
      "        self.update()", 
      "    def update(self):    ", 
      "        self.minSide = self.mid-self.margin", 
      "        self.maxSide = self.mid+self.margin   ", 
      "", 
      "parms = params()", 
      "", 
      "    ", 
      "def DefineBoundary(x,btype,on_boundary):", 
      "  if(not on_boundary):", 
      "    return 0", 
      "", 
      "  # need this, since for some reason 'dim' is not global", 
      "  dim = np.shape(x)[0]", 
      "", 
      "  tb = fb = 0", 
      "  lr = ( np.abs(x[0]-boundsMin[0]) < EPS or np.abs(x[0]-boundsMax[0]) < EPS)", 
      "  if(dim>=2):", 
      "    tb = ( np.abs(x[1]-boundsMin[1]) < EPS or np.abs(x[1]-boundsMax[1]) < EPS)", 
      "  if(dim==3):", 
      "    fb = ( np.abs(x[2]-boundsMin[2]) < EPS or np.abs(x[2]-boundsMax[2]) < EPS)", 
      "", 
      "  obs = (not tb and not lr and not fb)", 
      "", 
      "  if(btype==\"lr\"):", 
      "    return lr", 
      "", 
      "  if(btype==\"obs\"):", 
      "    return obs", 
      "", 
      "  if(btype==\"tb\"):", 
      "    return tb", 
      "", 
      "  if(btype==\"fb\"):", 
      "    return fb", 
      "", 
      "class XBoundary(SubDomain):", 
      "  def inside(self, x, on_boundary):", 
      "    #return (( x[0] < 0 or x[0] > 7) and on_boundary)", 
      "    return (DefineBoundary(x,\"lr\",on_boundary))", 
      "", 
      "class YBoundary(SubDomain):", 
      "  def inside(self, x, on_boundary):", 
      "    return (DefineBoundary(x,\"tb\", on_boundary))", 
      "", 
      "class ZBoundary(SubDomain):", 
      "  def inside(self, x, on_boundary):", 
      "    return (DefineBoundary(x,\"fb\", on_boundary))", 
      "", 
      "#print \"WARNING: I 'flipped' the obstacle location here\" ", 
      "class Omega1(SubDomain):", 
      "    def inside(self, x, on_boundary):", 
      "        dim = np.shape(x)[0]", 
      "        if(dim==1):", 
      "          return True if (x[0] >= parms.minSide and x[0]<=parms.maxSide) else False", 
      "          #return True if (x[0] <= parms.minSide and x[0]>=parms.maxSide) else False", 
      "        else:", 
      "          return True if (x[0] >= parms.minSide and x[0]<=parms.maxSide \\", 
      "                          and x[1]>= parms.minSide and x[1]<=parms.maxSide) else False "
     ], 
     "language": "python", 
     "outputs": [], 
     "prompt_number": 2
    }, 
    {
     "cell_type": "code", 
     "collapsed": false, 
     "input": [
      "# barrier height is in units E/kT", 
      "# discontinuous - use 'discontinuous' PMF [e.g. 0 for free region, non-zero elsewhere]. ", 
      "#                 If False, a smoothly varying PMF is used ", 
      "# pmfScale - scales Gaussian used for pmf when  discontinuous=False", 
      "def doit(dim=1,margin=.1,barrierHeight=50,discontinuous=True,\\", 
      "         mode=\"default\",pmfScale=1, plot=False,outName=\"img.png\"):", 
      "    ## params", 
      "    parms.margin=margin", 
      "    parms.update()", 
      "    ", 
      "    ## Define Mesh", 
      "    nx = 100; ", 
      "    #dim = 1", 
      "    if(dim==1):", 
      "        mesh = UnitInterval(nx)", 
      "    elif(mode==\"hole\"):", 
      "        discontinuous=False", 
      "        mesh = Mesh(\"cylinder.xml\") ", 
      "    else:", 
      "        mesh = UnitSquare(nx,nx)", 
      "    #dim = mesh.ufl_cell().geometric_dimension()", 
      "", 
      "    ## Define a MeshFunction over two subdomains", 
      "    subdomains = MeshFunction('uint', mesh, dim)", 
      "", 
      "    # Mark subdomains with numbers 0 and 1", 
      "    markerFree=0;", 
      "    markerObstacle=1;", 
      "    for cell_no in range(len(subdomains.array())):", 
      "        subdomains.array()[cell_no]=markerFree", 
      "", 
      "    if(discontinuous): ", 
      "        #subdomain0 = Omega0() ", 
      "        #subdomain0.mark(subdomains, 0)", 
      "        subdomain1 = Omega1() # obstacle", 
      "        subdomain1.mark(subdomains, markerObstacle)", 
      "        ", 
      "        ", 
      "        ## Define diffusion constant (D = exp(-V)) within two domains ", 
      "        # Discontinuous basis is used for boundary condition", 
      "        # LAter, continuous basis used for PDE solution ", 
      "        V0 = FunctionSpace(mesh, 'DG', 0)", 
      "        k = Function(V0)", 
      "        ", 
      "        ## Define diffusion constant to assume large values at 'edges' (Omega0 and Omega2), and ", 
      "        ## small value at middle (Omega1). We assume D(y) = exp(-V(y)), so large D corresponds to a obstacle", 
      "        Vpmf = np.array([0,barrierHeight]) # pmg ", 
      "        expnv = np.exp(-Vpmf)", 
      "        k_values = expnv", 
      "        ", 
      "        # populate ", 
      "        import numpy", 
      "        help = numpy.asarray(subdomains.array(), dtype=numpy.int32)", 
      "        k.vector()[:] = numpy.choose(help, k_values)", 
      "        #print \"exp(-V): \", k.vector().array()", 
      "    else:", 
      "        print \"Using a continuously-varying PMF\" ", 
      "        # exp(-V), where V = exp(-x^2/v)", 
      "        expr = Expression(\"exp(-A*exp(-(pow(x[0]-x0,2) + pow(x[1]-x1,2))/0.02))\",\\", 
      "                          x0=0.5,x1=0.5,A=pmfScale)", 
      "        k=expr", 
      "        pmf = Function(FunctionSpace(mesh,\"CG\",1))", 
      "        pmf.interpolate(k)", 
      "        File(\"test.pvd\") << pmf", 
      "        ", 
      "    ", 
      "    #plot(subdomains, title='subdomains')", 
      "    dx = Measure(\"dx\")[subdomains] ", 
      "    ", 
      "", 
      "    ## Assign BC ", 
      "    for i in np.arange( dim ):", 
      "        boundsMin[i] = np.min(mesh.coordinates()[:,i])", 
      "        boundsMax[i] = np.max(mesh.coordinates()[:,i])", 
      "", 
      "    bcs=[]", 
      "    if(dim==1):", 
      "        V = FunctionSpace(mesh, 'Lagrange', 1)", 
      "        bcs.append(DirichletBC(V,Constant(0),XBoundary()))", 
      "    else:", 
      "        V = VectorFunctionSpace(mesh, 'Lagrange', 1)", 
      "        bcs.append(DirichletBC(V.sub(0),Constant(0),XBoundary()))", 
      "        bcs.append(DirichletBC(V.sub(1),Constant(0),YBoundary()))", 
      "", 
      "    ", 
      "    ## Define weak form of homogenized smol eqn ", 
      "    D0    = Constant(1.)    # WARNING: we ignore Dij for these calcs", 
      "    Dij = D0*Identity( dim )    ", 
      "    Delta = Identity( dim )", 
      "    ", 
      "    #  D [del u + 1] del v = 0", 
      "    u = TrialFunction(V)", 
      "    v = TestFunction(V)", 
      "    # leaving out Dij=const, since solving steady state ", 
      "    formi = k*inner((grad(u)+Delta), grad(v)) ", 
      "    #print \"CODE IS WRONG - DO NOT USE\"", 
      "    #formi = inner((grad(u)+Delta), grad(v)) ", 
      "    ", 
      "    form = formi*dx(markerFree) + formi*dx(markerObstacle)", 
      "    a = lhs(form)", 
      "    L = rhs(form)", 
      "    ", 
      "    ## Compute solution", 
      "    u = Function(V)", 
      "    solve(a == L, u, bcs)", 
      "    File(\"out.pvd\") << u", 
      "    z = project(k*u,V)", 
      "    File(\"wrong.pvd\") << z", 
      "    ", 
      "    ## Show chi solution  ", 
      "    from scipy.interpolate import griddata   ", 
      "    if(dim==1):", 
      "        gx = np.mgrid[0:1:100j]", 
      "        interp0 = griddata(mesh.coordinates(),u.vector(),(gx))", 
      "        interp1 = interp0", 
      "        ", 
      "    else:", 
      "        Vs = FunctionSpace(mesh,\"CG\",1)", 
      "        up = project(u[0],V=Vs)    ", 
      "       ", 
      "        gx,gy = np.mgrid[0:1:100j,0.5:0.5:1j]", 
      "        interp1 = griddata(mesh.coordinates(),up.vector(),(gx,gy))", 
      "        gx,gy = np.mgrid[0:1:100j,0:1:100j]", 
      "        interp0 = griddata(mesh.coordinates(),up.vector(),(gx,gy))", 
      "        ", 
      "        ", 
      "        up = project(u[1],V=Vs) ", 
      "        interpx = griddata(mesh.coordinates(),up.vector(),(gx,gy))", 
      "        plt.figure()", 
      "        plt.subplot(421)", 
      "        plt.pcolormesh(interp0.T)", 
      "        plt.title(\"u0\") ", 
      "        plt.subplot(422)", 
      "        plt.pcolormesh(interpx.T)", 
      "        #def doplt(up):", 
      "        #    interpgx = griddata(mesh.coordinates(),up.vector(),(gx,gy))", 
      "        #    plt.pcolormesh(interpgx.T)", 
      "        plt.title(\"u1\")", 
      "            ", 
      "        _component = grad(u[0])", 
      "        up = project(_component[0],V=Vs) ", 
      "        interpgx = griddata(mesh.coordinates(),up.vector(),(gx,gy))", 
      "        plt.subplot(423)", 
      "        plt.pcolormesh(interpgx.T)", 
      "        plt.title(\"du0\")       ", 
      "        _component = grad(u[1])", 
      "        up = project(_component[1],V=Vs) ", 
      "        interpgx = griddata(mesh.coordinates(),up.vector(),(gx,gy))", 
      "        plt.subplot(424)", 
      "        plt.pcolormesh(interpgx.T)", 
      "        plt.title(\"du1\")     ", 
      "        ", 
      "        ", 
      "        _component = grad(u[0])", 
      "        up = project(k*(_component[0]),V=Vs) ", 
      "        interpgx = griddata(mesh.coordinates(),up.vector(),(gx,gy))", 
      "        plt.subplot(425)", 
      "        plt.pcolormesh(interpgx.T)", 
      "        plt.title(\"du0\")    ", 
      "        ", 
      "              ", 
      "        _component = grad(u[0])", 
      "        up = project(k*(_component[0]+1.),V=Vs) ", 
      "        interpgx = griddata(mesh.coordinates(),up.vector(),(gx,gy))", 
      "        plt.subplot(427)", 
      "        plt.pcolormesh(interpgx.T)", 
      "        plt.title(\"k*du0+1)\")    ", 
      "        print \"Assemble x %f\" % (assemble(up*dx(0) + up*dx(1),mesh=mesh))", 
      "        ", 
      "        ", 
      "      ", 
      "    if(plot):     ", 
      "        plt.figure()", 
      "        plt.subplot(121)  ", 
      "        if(dim==2):", 
      "            plt.pcolormesh(gx[:,0],gy[0,:],interp0)", 
      "            plt.colorbar()", 
      "        plt.subplot(122)  ", 
      "        if(dim==2):", 
      "          plt.plot(gx[:,0],interp1)", 
      "        else:", 
      "          plt.plot(gx,interp1)", 
      "        plt.gcf().savefig(outName)", 
      "", 
      " ", 
      "    ## Compute effective diff. tensor     ", 
      "    # define form for grad(chi) + delta ", 
      "    ", 
      "    omegas = np.zeros(dim)    ", 
      "    forms = []", 
      "    if(dim==1):    ", 
      "        grad_Xi_component = k*(grad(u)+Constant(1.0))  ", 
      "        forms.append(grad_Xi_component)", 
      "        ", 
      "        _component = grad(u)", 
      "        g=project(_component,FunctionSpace(mesh,\"CG\",1))", 
      "        interp2 = griddata(mesh.coordinates(),g.vector(),(gx))", 
      "        plt.figure()", 
      "        plt.plot(interp2,label=\"grad\")", 
      "        plt.plot(interp1,label=\"sol\")", 
      "        plt.legend()", 
      " ", 
      "    ", 
      "    if(dim==2):", 
      "      for i in range(dim):", 
      "            v = [0,0,0]", 
      "            v[i] = 1", 
      "            grad_Xi_component = k*(inner(grad(u[i]),Constant((v[0],v[1]))) + Constant(1))", 
      "            _component = (inner(grad(u[i]),Constant((v[0],v[1]))))", 
      "            _component = grad(u[i])", 
      "            g=project(_component[1],FunctionSpace(mesh,\"CG\",1))", 
      "            interp2 = griddata(mesh.coordinates(),g.vector(),(gx,gy))", 
      "            print \"inerpmin %f\" % (np.min(interp2[:,50]))", 
      "            if(i==1):", 
      "              plt.figure()", 
      "              pcolormesh(interp2)", 
      "              plt.colorbar()", 
      "              File(\"comp.pvd\") << g", 
      "              plt.figure()", 
      "              gx,gy = np.mgrid[0:1:100j,0.5:0.5:1j]", 
      "              interp1 = griddata(mesh.coordinates(),up.vector(),(gx,gy))               ", 
      "              plt.plot(gx[:,0],interp1,label=\"sol\")", 
      "              interp2 = griddata(mesh.coordinates(),g.vector(),(gx,gy)) ", 
      "              plt.plot(gx[:,0],interp2,label=\"grad\")", 
      "              plt.legend()  ", 
      "            forms.append(grad_Xi_component)", 
      "            ", 
      "    # Evaluate form ", 
      "    for i,grad_Xi_component in enumerate(forms):     ", 
      "        print \"WARNING: double check that pmf should be applied to delta\"", 
      "        form = grad_Xi_component * dx(markerFree) + grad_Xi_component*dx(markerObstacle)  ", 
      "        integrand = assemble(form)", 
      "        omegas[i] = integrand", 
      "    ", 
      "    ## Compare diff const. with analytical bounds (2D) ", 
      "    diff=boundsMax-boundsMin", 
      "    unitCellVol =   np.prod(diff[0:dim])", 
      "    freeVol = assemble(Constant(1.)*dx(markerFree),mesh=mesh)", 
      "    phi = freeVol/unitCellVol", 
      "    Dsanal = phi/(2-phi)", 
      "    Ds = omegas/unitCellVol", 
      "    print phi", 
      "    print \"Ds anal est (2D) \", Dsanal", 
      "    print \"Ds pred \", Ds", 
      "    class empty:pass", 
      "    results = empty()", 
      "    results.phi = phi", 
      "    results.Ds = Ds", 
      "    results.Dsanal= Dsanal", 
      "    results.interp1 = interp1", 
      "    results.gx=gx", 
      "    return results", 
      "    ", 
      "", 
      "   "
     ], 
     "language": "python", 
     "outputs": [], 
     "prompt_number": 32
    }, 
    {
     "cell_type": "code", 
     "collapsed": false, 
     "input": [
      "#print \"RMOVE\"", 
      "#results=doit(dim=1,discontinuous=True,barrierHeight=1,pmfScale=-1,plot=True)", 
      "results=doit(dim=2,discontinuous=False,pmfScale=0,mode=\"hole\",plot=True,outName=\"holeAttractive.png\")"
     ], 
     "language": "python", 
     "outputs": [
      {
       "output_type": "stream", 
       "stream": "stdout", 
       "text": [
        "Using a continuously-varying PMF", 
        "Assemble x 0.985221"
       ]
      }, 
      {
       "output_type": "stream", 
       "stream": "stdout", 
       "text": [
        "", 
        "inerpmin -0.148229"
       ]
      }, 
      {
       "output_type": "stream", 
       "stream": "stdout", 
       "text": [
        "", 
        "inerpmin 0.008726", 
        "WARNING: double check that pmf should be applied to delta"
       ]
      }, 
      {
       "output_type": "stream", 
       "stream": "stdout", 
       "text": [
        "", 
        "WARNING: double check that pmf should be applied to delta", 
        "0.9923463748", 
        "Ds anal est (2D)  0.9848090157", 
        "Ds pred  [ 0.98522063  0.98522781]"
       ]
      }, 
      {
       "output_type": "display_data", 
       "png": "[encoded data removed]"
      }, 
      {
       "output_type": "display_data", 
       "png": "[encoded data removed]"
      }, 
      {
       "output_type": "display_data", 
       "png": "[encoded data removed]"
      }, 
      {
       "output_type": "display_data", 
       "png": "[encoded data removed]"
      }
     ], 
     "prompt_number": 37
    }, 
    {
     "cell_type": "code", 
     "collapsed": false, 
     "input": [
      "results=doit(dim=2,discontinuous=False,pmfScale=-1,mode=\"hole\",plot=True,outName=\"holeAttractive.png\")"
     ], 
     "language": "python", 
     "outputs": [
      {
       "output_type": "stream", 
       "stream": "stdout", 
       "text": [
        "Using a continuously-varying PMF", 
        "Assemble x 1.047842"
       ]
      }, 
      {
       "output_type": "stream", 
       "stream": "stdout", 
       "text": [
        "", 
        "inerpmin -0.104594"
       ]
      }, 
      {
       "output_type": "stream", 
       "stream": "stdout", 
       "text": [
        "", 
        "inerpmin -0.245283", 
        "WARNING: double check that pmf should be applied to delta"
       ]
      }, 
      {
       "output_type": "stream", 
       "stream": "stdout", 
       "text": [
        "", 
        "WARNING: double check that pmf should be applied to delta", 
        "0.9923463748", 
        "Ds anal est (2D)  0.9848090157", 
        "Ds pred  [ 1.04784192  1.04786068]"
       ]
      }, 
      {
       "output_type": "display_data", 
       "png": "[encoded data removed]"
      }, 
      {
       "output_type": "display_data", 
       "png": "[encoded data removed]"
      }, 
      {
       "output_type": "display_data", 
       "png": "[encoded data removed]"
      }, 
      {
       "output_type": "display_data", 
       "png": "[encoded data removed]"
      }
     ], 
     "prompt_number": 38
    }, 
    {
     "cell_type": "code", 
     "collapsed": false, 
     "input": [
      "results=doit(dim=2,margin=0.1,plot=True,outName=\"discontinuousRepulsive.png\")"
     ], 
     "language": "python", 
     "outputs": [
      {
       "output_type": "stream", 
       "stream": "stdout", 
       "text": [
        "CODE IS WRONG - DO NOT USE", 
        "WARNING: double check that pmf should be applied to delta"
       ]
      }, 
      {
       "output_type": "stream", 
       "stream": "stdout", 
       "text": [
        "", 
        "WARNING: double check that pmf should be applied to delta", 
        "0.96"
       ]
      }, 
      {
       "output_type": "stream", 
       "stream": "stdout", 
       "text": [
        "", 
        "Ds anal est (2D)  0.923076923077", 
        "Ds pred  [ 0.96  0.96]"
       ]
      }, 
      {
       "output_type": "display_data", 
       "png": "[encoded data removed]"
      }, 
      {
       "output_type": "display_data", 
       "png": "[encoded data removed]"
      }
     ], 
     "prompt_number": 53
    }, 
    {
     "cell_type": "code", 
     "collapsed": false, 
     "input": [
      "results=doit(dim=2,discontinuous=False,pmfScale=1,plot=True,outName=\"smoothRepulsive.png\")"
     ], 
     "language": "python", 
     "outputs": [
      {
       "output_type": "stream", 
       "stream": "stdout", 
       "text": [
        "Using a continuously-varying PMF", 
        "CODE IS WRONG - DO NOT USE"
       ]
      }, 
      {
       "output_type": "stream", 
       "stream": "stdout", 
       "text": [
        "", 
        "Calling FFC just-in-time (JIT) compiler, this may take some time."
       ]
      }, 
      {
       "output_type": "stream", 
       "stream": "stdout", 
       "text": [
        "Calling FFC just-in-time (JIT) compiler, this may take some time."
       ]
      }, 
      {
       "output_type": "stream", 
       "stream": "stdout", 
       "text": [
        "WARNING: double check that pmf should be applied to delta", 
        "WARNING: double check that pmf should be applied to delta", 
        "1.0"
       ]
      }, 
      {
       "output_type": "stream", 
       "stream": "stdout", 
       "text": [
        "", 
        "Ds anal est (2D)  1.0", 
        "Ds pred  [ 0.94994824  0.94994824]"
       ]
      }, 
      {
       "output_type": "display_data", 
       "png": "[encoded data removed]"
      }
     ], 
     "prompt_number": 31
    }, 
    {
     "cell_type": "code", 
     "collapsed": false, 
     "input": [
      "results=doit(dim=2,discontinuous=False,pmfScale=-1,plot=True,outName=\"smoothAttractive.png\")"
     ], 
     "language": "python", 
     "outputs": [
      {
       "output_type": "stream", 
       "stream": "stdout", 
       "text": [
        "Using a continuously-varying PMF", 
        "WARNING: double check that pmf should be applied to delta"
       ]
      }, 
      {
       "output_type": "stream", 
       "stream": "stdout", 
       "text": [
        "", 
        "WARNING: double check that pmf should be applied to delta", 
        "1.0"
       ]
      }, 
      {
       "output_type": "stream", 
       "stream": "stdout", 
       "text": [
        "", 
        "Ds anal est (2D)  1.0", 
        "Ds pred  [ 1.06385303  1.06385303]"
       ]
      }, 
      {
       "output_type": "display_data", 
       "png": "[encoded data removed]"
      }
     ], 
     "prompt_number": 24
    }, 
    {
     "cell_type": "code", 
     "collapsed": false, 
     "input": [
      "results=doit(dim=2,discontinuous=False,pmfScale=-1,mode=\"hole\",plot=True,outName=\"holeAttractive.png\")", 
      "#results=doit(dim=2,discontinuous=False,pmfScale=0,mode=\"hole\",plot=True,outName=\"holeNeutral.png\")", 
      "#results=doit(dim=2,discontinuous=False,pmfScale=1,mode=\"hole\",plot=True,outName=\"holeRepulsive.png\")"
     ], 
     "language": "python", 
     "outputs": [
      {
       "output_type": "stream", 
       "stream": "stdout", 
       "text": [
        "Using a continuously-varying PMF", 
        "CODE IS WRONG - DO NOT USE", 
        "Calling FFC just-in-time (JIT) compiler, this may take some time."
       ]
      }, 
      {
       "output_type": "stream", 
       "stream": "stdout", 
       "text": [
        "Calling FFC just-in-time (JIT) compiler, this may take some time."
       ]
      }, 
      {
       "output_type": "stream", 
       "stream": "stdout", 
       "text": [
        "WARNING: double check that pmf should be applied to delta", 
        "WARNING: double check that pmf should be applied to delta", 
        "0.9923463748", 
        "Ds anal est (2D)  0.9848090157", 
        "Ds pred  [ 1.05615247  1.05616924]"
       ]
      }, 
      {
       "output_type": "display_data", 
       "png": "[encoded data removed]"
      }, 
      {
       "output_type": "display_data", 
       "png": "[encoded data removed]"
      }
     ], 
     "prompt_number": 56
    }, 
    {
     "cell_type": "code", 
     "collapsed": false, 
     "input": [
      "margins=np.linspace(0.05,0.48,20);", 
      "Dss = []", 
      "Dsanals=[]", 
      "phis=[]", 
      "for i,margin in enumerate(margins):", 
      "    results = doit(dim=2,margin=margin,plot=False)", 
      "    Dss.append(results.Ds[0])", 
      "    Dsanals.append(results.Dsanal)", 
      "    phis.append(results.phi)", 
      "    ", 
      "Dss = np.array(Dss) ", 
      "Dsanals = np.array(Dsanals)", 
      "phis = np.array(phis)"
     ], 
     "language": "python", 
     "outputs": [
      {
       "output_type": "stream", 
       "stream": "stdout", 
       "text": [
        "WARNING: double check that pmf should be applied to delta", 
        "WARNING: double check that pmf should be applied to delta", 
        "0.99", 
        "Ds anal est (2D)  0.980198019802", 
        "Ds pred  [ 0.97880373  0.97880373]", 
        "WARNING: double check that pmf should be applied to delta"
       ]
      }, 
      {
       "output_type": "stream", 
       "stream": "stdout", 
       "text": [
        "", 
        "WARNING: double check that pmf should be applied to delta", 
        "0.9804"
       ]
      }, 
      {
       "output_type": "stream", 
       "stream": "stdout", 
       "text": [
        "", 
        "Ds anal est (2D)  0.961553550412", 
        "Ds pred  [ 0.95856836  0.95856836]", 
        "WARNING: double check that pmf should be applied to delta"
       ]
      }, 
      {
       "output_type": "stream", 
       "stream": "stdout", 
       "text": [
        "", 
        "WARNING: double check that pmf should be applied to delta", 
        "0.9676", 
        "Ds anal est (2D)  0.937233630376", 
        "Ds pred  [ 0.93218859  0.93218859]", 
        "WARNING: double check that pmf should be applied to delta"
       ]
      }, 
      {
       "output_type": "stream", 
       "stream": "stdout", 
       "text": [
        "", 
        "WARNING: double check that pmf should be applied to delta", 
        "0.9516"
       ]
      }, 
      {
       "output_type": "stream", 
       "stream": "stdout", 
       "text": [
        "", 
        "Ds anal est (2D)  0.907668828691", 
        "Ds pred  [ 0.90019854  0.90019854]", 
        "WARNING: double check that pmf should be applied to delta"
       ]
      }, 
      {
       "output_type": "stream", 
       "stream": "stdout", 
       "text": [
        "", 
        "WARNING: double check that pmf should be applied to delta", 
        "0.9216"
       ]
      }, 
      {
       "output_type": "stream", 
       "stream": "stdout", 
       "text": [
        "", 
        "Ds anal est (2D)  0.854599406528", 
        "Ds pred  [ 0.84309355  0.84309355]", 
        "WARNING: double check that pmf should be applied to delta"
       ]
      }, 
      {
       "output_type": "stream", 
       "stream": "stdout", 
       "text": [
        "", 
        "WARNING: double check that pmf should be applied to delta", 
        "0.8976", 
        "Ds anal est (2D)  0.814223512337", 
        "Ds pred  [ 0.79999041  0.79999041]", 
        "WARNING: double check that pmf should be applied to delta"
       ]
      }, 
      {
       "output_type": "stream", 
       "stream": "stdout", 
       "text": [
        "", 
        "WARNING: double check that pmf should be applied to delta", 
        "0.8704", 
        "Ds anal est (2D)  0.770538243626", 
        "Ds pred  [ 0.75375178  0.75375178]", 
        "WARNING: double check that pmf should be applied to delta"
       ]
      }, 
      {
       "output_type": "stream", 
       "stream": "stdout", 
       "text": [
        "", 
        "WARNING: double check that pmf should be applied to delta", 
        "0.84", 
        "Ds anal est (2D)  0.724137931034", 
        "Ds pred  [ 0.70515146  0.70515146]", 
        "WARNING: double check that pmf should be applied to delta"
       ]
      }, 
      {
       "output_type": "stream", 
       "stream": "stdout", 
       "text": [
        "", 
        "WARNING: double check that pmf should be applied to delta", 
        "0.7884", 
        "Ds anal est (2D)  0.650709805216", 
        "Ds pred  [ 0.62944661  0.62944661]", 
        "WARNING: double check that pmf should be applied to delta"
       ]
      }, 
      {
       "output_type": "stream", 
       "stream": "stdout", 
       "text": [
        "", 
        "WARNING: double check that pmf should be applied to delta", 
        "0.75", 
        "Ds anal est (2D)  0.6", 
        "Ds pred  [ 0.5780895  0.5780895]", 
        "WARNING: double check that pmf should be applied to delta"
       ]
      }, 
      {
       "output_type": "stream", 
       "stream": "stdout", 
       "text": [
        "", 
        "WARNING: double check that pmf should be applied to delta", 
        "0.7084"
       ]
      }, 
      {
       "output_type": "stream", 
       "stream": "stdout", 
       "text": [
        "", 
        "Ds anal est (2D)  0.548467017652", 
        "Ds pred  [ 0.52669073  0.52669073]", 
        "WARNING: double check that pmf should be applied to delta"
       ]
      }, 
      {
       "output_type": "stream", 
       "stream": "stdout", 
       "text": [
        "", 
        "WARNING: double check that pmf should be applied to delta", 
        "0.6636"
       ]
      }, 
      {
       "output_type": "stream", 
       "stream": "stdout", 
       "text": [
        "", 
        "Ds anal est (2D)  0.496557916791", 
        "Ds pred  [ 0.47569911  0.47569911]", 
        "WARNING: double check that pmf should be applied to delta"
       ]
      }, 
      {
       "output_type": "stream", 
       "stream": "stdout", 
       "text": [
        "", 
        "WARNING: double check that pmf should be applied to delta", 
        "0.5904"
       ]
      }, 
      {
       "output_type": "stream", 
       "stream": "stdout", 
       "text": [
        "", 
        "Ds anal est (2D)  0.418842224745", 
        "Ds pred  [ 0.40066569  0.40066569]", 
        "WARNING: double check that pmf should be applied to delta"
       ]
      }, 
      {
       "output_type": "stream", 
       "stream": "stdout", 
       "text": [
        "", 
        "WARNING: double check that pmf should be applied to delta", 
        "0.5376"
       ]
      }, 
      {
       "output_type": "stream", 
       "stream": "stdout", 
       "text": [
        "", 
        "Ds anal est (2D)  0.36761487965", 
        "Ds pred  [ 0.35189055  0.35189055]", 
        "WARNING: double check that pmf should be applied to delta"
       ]
      }, 
      {
       "output_type": "stream", 
       "stream": "stdout", 
       "text": [
        "", 
        "WARNING: double check that pmf should be applied to delta", 
        "0.4816"
       ]
      }, 
      {
       "output_type": "stream", 
       "stream": "stdout", 
       "text": [
        "", 
        "Ds anal est (2D)  0.31717597471", 
        "Ds pred  [ 0.30421482  0.30421482]", 
        "WARNING: double check that pmf should be applied to delta"
       ]
      }, 
      {
       "output_type": "stream", 
       "stream": "stdout", 
       "text": [
        "", 
        "WARNING: double check that pmf should be applied to delta", 
        "0.4224"
       ]
      }, 
      {
       "output_type": "stream", 
       "stream": "stdout", 
       "text": [
        "", 
        "Ds anal est (2D)  0.267748478702", 
        "Ds pred  [ 0.25765369  0.25765369]", 
        "WARNING: double check that pmf should be applied to delta"
       ]
      }, 
      {
       "output_type": "stream", 
       "stream": "stdout", 
       "text": [
        "", 
        "WARNING: double check that pmf should be applied to delta", 
        "0.3276"
       ]
      }, 
      {
       "output_type": "stream", 
       "stream": "stdout", 
       "text": [
        "", 
        "Ds anal est (2D)  0.195886151638", 
        "Ds pred  [ 0.18985448  0.18985448]", 
        "WARNING: double check that pmf should be applied to delta"
       ]
      }, 
      {
       "output_type": "stream", 
       "stream": "stdout", 
       "text": [
        "", 
        "WARNING: double check that pmf should be applied to delta", 
        "0.2604"
       ]
      }, 
      {
       "output_type": "stream", 
       "stream": "stdout", 
       "text": [
        "", 
        "Ds anal est (2D)  0.149689583812", 
        "Ds pred  [ 0.14596565  0.14596565]", 
        "WARNING: double check that pmf should be applied to delta"
       ]
      }, 
      {
       "output_type": "stream", 
       "stream": "stdout", 
       "text": [
        "", 
        "WARNING: double check that pmf should be applied to delta", 
        "0.19"
       ]
      }, 
      {
       "output_type": "stream", 
       "stream": "stdout", 
       "text": [
        "", 
        "Ds anal est (2D)  0.104972375691", 
        "Ds pred  [ 0.10308199  0.10308199]", 
        "WARNING: double check that pmf should be applied to delta"
       ]
      }, 
      {
       "output_type": "stream", 
       "stream": "stdout", 
       "text": [
        "", 
        "WARNING: double check that pmf should be applied to delta", 
        "0.0975"
       ]
      }, 
      {
       "output_type": "stream", 
       "stream": "stdout", 
       "text": [
        "", 
        "Ds anal est (2D)  0.0512483574244", 
        "Ds pred  [ 0.05084052  0.05084052]"
       ]
      }
     ], 
     "prompt_number": 13
    }, 
    {
     "cell_type": "code", 
     "collapsed": false, 
     "input": [
      "# plot and process", 
      "plt.figure()", 
      "plt.plot(phis,Dss,'k.',label=\"Predicted\")", 
      "plt.plot(phis,Dsanals,'k--',label=\"HS bound\")", 
      "plt.legend(loc=0)", 
      "plt.ylabel(\"D\")", 
      "plt.xlabel(\"Accessible volume fraction, $\\phi$\")", 
      "plt.title(\"Homogenized smoluchowski equation with Box PMF\")", 
      "plt.gcf().savefig(\"validationDiscontinuousRepulsive.png\")"
     ], 
     "language": "python", 
     "outputs": [
      {
       "output_type": "display_data", 
       "png": "[encoded data removed]"
      }
     ], 
     "prompt_number": 14
    }, 
    {
     "cell_type": "code", 
     "collapsed": false, 
     "input": [
      "allResults = []", 
      "", 
      "kT = 0.6 # [kcal/mol]", 
      "barrierHeights = np.linspace(-5,5,9)", 
      "#barrierHeights = np.array([-6,-1,0,1,2])", 
      "cols=['b-','b--','b-.','b.','k-','r.','r-.','r--','r-']", 
      "margin=0.2", 
      "", 
      "plt.figure()", 
      "plt.subplot(121)", 
      "Dss = []", 
      "for i,barrierHeight in enumerate(barrierHeights):", 
      "  VkT = barrierHeight/kT", 
      "  results=doit(dim=2,margin=margin,barrierHeight=VkT,plot=False)", 
      "  Dss.append(results.Ds[0])", 
      "  label = \"V=%3.1f\" % barrierHeight", 
      "  plt.plot(results.gx[:,0],results.interp1,cols[i],label=label)", 
      "  allResults.append(results)", 
      "    ", 
      "", 
      "plt.legend(bbox_to_anchor=(2.5, -.2),ncol=5)", 
      "plt.xlabel(\"x\")", 
      "plt.ylabel(\"$\\chi_x$\") ", 
      "plt.title(\"$\\chi$\")", 
      "", 
      "maxHeight = 10", 
      "results=doit(dim=2,margin=margin,barrierHeight=maxHeight,plot=False)", 
      "Dss = np.asarray(Dss)", 
      "plt.subplot(122)", 
      "plt.plot(barrierHeights,Dss,'k-',label=\"Predicted\")", 
      "plt.scatter(0, 1.0, s=80, facecolors='none', edgecolors='k',label=\"Free\")", 
      "plt.scatter(maxHeight, results.phi/(2-results.phi), s=80, facecolors='k', edgecolors='k',label=\"HS\")", 
      "plt.legend(loc=0)", 
      "plt.ylabel(\"D\")", 
      "plt.xlabel(\"V [kcal/mol]\")", 
      "plt.title(\"Effective Diff\")", 
      "plt.gcf().savefig(\"discontinuousPmfRange.png\")", 
      "#plt.title(\"Homogenized smoluchowski equation with Box PMF\")"
     ], 
     "language": "python", 
     "outputs": [
      {
       "output_type": "stream", 
       "stream": "stdout", 
       "text": [
        "WARNING: double check that pmf should be applied to delta", 
        "WARNING: double check that pmf should be applied to delta", 
        "0.84", 
        "Ds anal est (2D)  0.724137931034", 
        "Ds pred  [ 1.42109655  1.42109655]", 
        "WARNING: double check that pmf should be applied to delta"
       ]
      }, 
      {
       "output_type": "stream", 
       "stream": "stdout", 
       "text": [
        "", 
        "WARNING: double check that pmf should be applied to delta", 
        "0.84"
       ]
      }, 
      {
       "output_type": "stream", 
       "stream": "stdout", 
       "text": [
        "", 
        "Ds anal est (2D)  0.724137931034", 
        "Ds pred  [ 1.41905258  1.41905258]", 
        "WARNING: double check that pmf should be applied to delta"
       ]
      }, 
      {
       "output_type": "stream", 
       "stream": "stdout", 
       "text": [
        "", 
        "WARNING: double check that pmf should be applied to delta", 
        "0.84"
       ]
      }, 
      {
       "output_type": "stream", 
       "stream": "stdout", 
       "text": [
        "", 
        "Ds anal est (2D)  0.724137931034", 
        "Ds pred  [ 1.40314601  1.40314601]", 
        "WARNING: double check that pmf should be applied to delta"
       ]
      }, 
      {
       "output_type": "stream", 
       "stream": "stdout", 
       "text": [
        "", 
        "WARNING: double check that pmf should be applied to delta", 
        "0.84"
       ]
      }, 
      {
       "output_type": "stream", 
       "stream": "stdout", 
       "text": [
        "", 
        "Ds anal est (2D)  0.724137931034", 
        "Ds pred  [ 1.30085205  1.30085205]", 
        "WARNING: double check that pmf should be applied to delta"
       ]
      }, 
      {
       "output_type": "stream", 
       "stream": "stdout", 
       "text": [
        "", 
        "WARNING: double check that pmf should be applied to delta", 
        "0.84"
       ]
      }, 
      {
       "output_type": "stream", 
       "stream": "stdout", 
       "text": [
        "", 
        "Ds anal est (2D)  0.724137931034", 
        "Ds pred  [ 1.  1.]", 
        "WARNING: double check that pmf should be applied to delta"
       ]
      }, 
      {
       "output_type": "stream", 
       "stream": "stdout", 
       "text": [
        "", 
        "WARNING: double check that pmf should be applied to delta", 
        "0.84"
       ]
      }, 
      {
       "output_type": "stream", 
       "stream": "stdout", 
       "text": [
        "", 
        "Ds anal est (2D)  0.724137931034", 
        "Ds pred  [ 0.76938598  0.76938598]", 
        "WARNING: double check that pmf should be applied to delta"
       ]
      }, 
      {
       "output_type": "stream", 
       "stream": "stdout", 
       "text": [
        "", 
        "WARNING: double check that pmf should be applied to delta", 
        "0.84"
       ]
      }, 
      {
       "output_type": "stream", 
       "stream": "stdout", 
       "text": [
        "", 
        "Ds anal est (2D)  0.724137931034", 
        "Ds pred  [ 0.71411369  0.71411369]", 
        "WARNING: double check that pmf should be applied to delta"
       ]
      }, 
      {
       "output_type": "stream", 
       "stream": "stdout", 
       "text": [
        "", 
        "WARNING: double check that pmf should be applied to delta", 
        "0.84"
       ]
      }, 
      {
       "output_type": "stream", 
       "stream": "stdout", 
       "text": [
        "", 
        "Ds anal est (2D)  0.724137931034", 
        "Ds pred  [ 0.70628502  0.70628502]", 
        "WARNING: double check that pmf should be applied to delta"
       ]
      }, 
      {
       "output_type": "stream", 
       "stream": "stdout", 
       "text": [
        "", 
        "WARNING: double check that pmf should be applied to delta", 
        "0.84"
       ]
      }, 
      {
       "output_type": "stream", 
       "stream": "stdout", 
       "text": [
        "", 
        "Ds anal est (2D)  0.724137931034", 
        "Ds pred  [ 0.70529288  0.70529288]", 
        "WARNING: double check that pmf should be applied to delta"
       ]
      }, 
      {
       "output_type": "stream", 
       "stream": "stdout", 
       "text": [
        "", 
        "WARNING: double check that pmf should be applied to delta", 
        "0.84"
       ]
      }, 
      {
       "output_type": "stream", 
       "stream": "stdout", 
       "text": [
        "", 
        "Ds anal est (2D)  0.724137931034", 
        "Ds pred  [ 0.70517818  0.70517818]"
       ]
      }, 
      {
       "output_type": "display_data", 
       "png": "[encoded data removed]"
      }
     ], 
     "prompt_number": 21
    }, 
    {
     "cell_type": "code", 
     "collapsed": false, 
     "input": [
      "kT = 0.6 # [kcal/mol]", 
      "#nBarriers=5", 
      "#nMargins=8", 
      "nBarriers=11", 
      "nMargins=8", 
      "", 
      "barrierHeights = np.linspace(-5,5,nBarriers)", 
      "margins = np.linspace(0,0.48,nMargins)", 
      "", 
      "Ds = np.zeros([nBarriers,nMargins])", 
      "phis = np.zeros(nMargins)", 
      "for i,barrierHeight in enumerate(barrierHeights):", 
      "  for j,margin in enumerate(margins):", 
      "    VkT = barrierHeight/kT", 
      "    results=doit(dim=2,margin=margin,barrierHeight=VkT,plot=False)", 
      "    Ds[i,j]=results.Ds[0]", 
      "    phis[j] = results.phi", 
      "    ", 
      "", 
      "    "
     ], 
     "language": "python", 
     "outputs": [
      {
       "output_type": "stream", 
       "stream": "stdout", 
       "text": [
        "WARNING: double check that pmf should be applied to delta", 
        "WARNING: double check that pmf should be applied to delta", 
        "1.0", 
        "Ds anal est (2D)  1.0", 
        "Ds pred  [ 1.  1.]", 
        "WARNING: double check that pmf should be applied to delta"
       ]
      }, 
      {
       "output_type": "stream", 
       "stream": "stdout", 
       "text": [
        "", 
        "WARNING: double check that pmf should be applied to delta", 
        "0.9856"
       ]
      }, 
      {
       "output_type": "stream", 
       "stream": "stdout", 
       "text": [
        "", 
        "Ds anal est (2D)  0.971608832807", 
        "Ds pred  [ 1.03254931  1.03254931]", 
        "WARNING: double check that pmf should be applied to delta"
       ]
      }, 
      {
       "output_type": "stream", 
       "stream": "stdout", 
       "text": [
        "", 
        "WARNING: double check that pmf should be applied to delta"
       ]
      }, 
      {
       "output_type": "stream", 
       "stream": "stdout", 
       "text": [
        "", 
        "0.9324"
       ]
      }, 
      {
       "output_type": "stream", 
       "stream": "stdout", 
       "text": [
        "", 
        "Ds anal est (2D)  0.873360809292", 
        "Ds pred  [ 1.1603889  1.1603889]", 
        "WARNING: double check that pmf should be applied to delta"
       ]
      }, 
      {
       "output_type": "stream", 
       "stream": "stdout", 
       "text": [
        "", 
        "WARNING: double check that pmf should be applied to delta"
       ]
      }, 
      {
       "output_type": "stream", 
       "stream": "stdout", 
       "text": [
        "", 
        "0.84"
       ]
      }, 
      {
       "output_type": "stream", 
       "stream": "stdout", 
       "text": [
        "", 
        "Ds anal est (2D)  0.724137931034", 
        "Ds pred  [ 1.42109655  1.42109655]", 
        "WARNING: double check that pmf should be applied to delta"
       ]
      }, 
      {
       "output_type": "stream", 
       "stream": "stdout", 
       "text": [
        "", 
        "WARNING: double check that pmf should be applied to delta"
       ]
      }, 
      {
       "output_type": "stream", 
       "stream": "stdout", 
       "text": [
        "", 
        "0.7084"
       ]
      }, 
      {
       "output_type": "stream", 
       "stream": "stdout", 
       "text": [
        "", 
        "Ds anal est (2D)  0.548467017652", 
        "Ds pred  [ 1.90295273  1.90295273]", 
        "WARNING: double check that pmf should be applied to delta"
       ]
      }, 
      {
       "output_type": "stream", 
       "stream": "stdout", 
       "text": [
        "", 
        "WARNING: double check that pmf should be applied to delta"
       ]
      }, 
      {
       "output_type": "stream", 
       "stream": "stdout", 
       "text": [
        "", 
        "0.5376"
       ]
      }, 
      {
       "output_type": "stream", 
       "stream": "stdout", 
       "text": [
        "", 
        "Ds anal est (2D)  0.36761487965", 
        "Ds pred  [ 2.84824461  2.84824461]", 
        "WARNING: double check that pmf should be applied to delta"
       ]
      }, 
      {
       "output_type": "stream", 
       "stream": "stdout", 
       "text": [
        "", 
        "WARNING: double check that pmf should be applied to delta"
       ]
      }, 
      {
       "output_type": "stream", 
       "stream": "stdout", 
       "text": [
        "", 
        "0.3276"
       ]
      }, 
      {
       "output_type": "stream", 
       "stream": "stdout", 
       "text": [
        "", 
        "Ds anal est (2D)  0.195886151638", 
        "Ds pred  [ 5.27837896  5.27837896]", 
        "WARNING: double check that pmf should be applied to delta"
       ]
      }, 
      {
       "output_type": "stream", 
       "stream": "stdout", 
       "text": [
        "", 
        "WARNING: double check that pmf should be applied to delta"
       ]
      }, 
      {
       "output_type": "stream", 
       "stream": "stdout", 
       "text": [
        "", 
        "0.0975"
       ]
      }, 
      {
       "output_type": "stream", 
       "stream": "stdout", 
       "text": [
        "", 
        "Ds anal est (2D)  0.0512483574244", 
        "Ds pred  [ 19.66973871  19.66973871]", 
        "WARNING: double check that pmf should be applied to delta"
       ]
      }, 
      {
       "output_type": "stream", 
       "stream": "stdout", 
       "text": [
        "", 
        "WARNING: double check that pmf should be applied to delta"
       ]
      }, 
      {
       "output_type": "stream", 
       "stream": "stdout", 
       "text": [
        "", 
        "1.0"
       ]
      }, 
      {
       "output_type": "stream", 
       "stream": "stdout", 
       "text": [
        "", 
        "Ds anal est (2D)  1.0", 
        "Ds pred  [ 1.  1.]", 
        "WARNING: double check that pmf should be applied to delta"
       ]
      }, 
      {
       "output_type": "stream", 
       "stream": "stdout", 
       "text": [
        "", 
        "WARNING: double check that pmf should be applied to delta"
       ]
      }, 
      {
       "output_type": "stream", 
       "stream": "stdout", 
       "text": [
        "", 
        "0.9856"
       ]
      }, 
      {
       "output_type": "stream", 
       "stream": "stdout", 
       "text": [
        "", 
        "Ds anal est (2D)  0.971608832807", 
        "Ds pred  [ 1.03246477  1.03246477]", 
        "WARNING: double check that pmf should be applied to delta"
       ]
      }, 
      {
       "output_type": "stream", 
       "stream": "stdout", 
       "text": [
        "", 
        "WARNING: double check that pmf should be applied to delta"
       ]
      }, 
      {
       "output_type": "stream", 
       "stream": "stdout", 
       "text": [
        "", 
        "0.9324"
       ]
      }, 
      {
       "output_type": "stream", 
       "stream": "stdout", 
       "text": [
        "", 
        "Ds anal est (2D)  0.873360809292", 
        "Ds pred  [ 1.15995529  1.15995529]", 
        "WARNING: double check that pmf should be applied to delta"
       ]
      }, 
      {
       "output_type": "stream", 
       "stream": "stdout", 
       "text": [
        "", 
        "WARNING: double check that pmf should be applied to delta"
       ]
      }, 
      {
       "output_type": "stream", 
       "stream": "stdout", 
       "text": [
        "", 
        "0.84"
       ]
      }, 
      {
       "output_type": "stream", 
       "stream": "stdout", 
       "text": [
        "", 
        "Ds anal est (2D)  0.724137931034", 
        "Ds pred  [ 1.41984642  1.41984642]", 
        "WARNING: double check that pmf should be applied to delta"
       ]
      }, 
      {
       "output_type": "stream", 
       "stream": "stdout", 
       "text": [
        "", 
        "WARNING: double check that pmf should be applied to delta"
       ]
      }, 
      {
       "output_type": "stream", 
       "stream": "stdout", 
       "text": [
        "", 
        "0.7084"
       ]
      }, 
      {
       "output_type": "stream", 
       "stream": "stdout", 
       "text": [
        "", 
        "Ds anal est (2D)  0.548467017652", 
        "Ds pred  [ 1.89985689  1.89985689]", 
        "WARNING: double check that pmf should be applied to delta"
       ]
      }, 
      {
       "output_type": "stream", 
       "stream": "stdout", 
       "text": [
        "", 
        "WARNING: double check that pmf should be applied to delta"
       ]
      }, 
      {
       "output_type": "stream", 
       "stream": "stdout", 
       "text": [
        "", 
        "0.5376"
       ]
      }, 
      {
       "output_type": "stream", 
       "stream": "stdout", 
       "text": [
        "", 
        "Ds anal est (2D)  0.36761487965", 
        "Ds pred  [ 2.84028064  2.84028064]", 
        "WARNING: double check that pmf should be applied to delta"
       ]
      }, 
      {
       "output_type": "stream", 
       "stream": "stdout", 
       "text": [
        "", 
        "WARNING: double check that pmf should be applied to delta"
       ]
      }, 
      {
       "output_type": "stream", 
       "stream": "stdout", 
       "text": [
        "", 
        "0.3276"
       ]
      }, 
      {
       "output_type": "stream", 
       "stream": "stdout", 
       "text": [
        "", 
        "Ds anal est (2D)  0.195886151638", 
        "Ds pred  [ 5.24985102  5.24985102]", 
        "WARNING: double check that pmf should be applied to delta"
       ]
      }, 
      {
       "output_type": "stream", 
       "stream": "stdout", 
       "text": [
        "", 
        "WARNING: double check that pmf should be applied to delta"
       ]
      }, 
      {
       "output_type": "stream", 
       "stream": "stdout", 
       "text": [
        "", 
        "0.0975"
       ]
      }, 
      {
       "output_type": "stream", 
       "stream": "stdout", 
       "text": [
        "", 
        "Ds anal est (2D)  0.0512483574244", 
        "Ds pred  [ 19.27771551  19.27771551]", 
        "WARNING: double check that pmf should be applied to delta"
       ]
      }, 
      {
       "output_type": "stream", 
       "stream": "stdout", 
       "text": [
        "", 
        "WARNING: double check that pmf should be applied to delta"
       ]
      }, 
      {
       "output_type": "stream", 
       "stream": "stdout", 
       "text": [
        "", 
        "1.0"
       ]
      }, 
      {
       "output_type": "stream", 
       "stream": "stdout", 
       "text": [
        "", 
        "Ds anal est (2D)  1.0", 
        "Ds pred  [ 1.  1.]", 
        "WARNING: double check that pmf should be applied to delta"
       ]
      }, 
      {
       "output_type": "stream", 
       "stream": "stdout", 
       "text": [
        "", 
        "WARNING: double check that pmf should be applied to delta", 
        "0.9856"
       ]
      }, 
      {
       "output_type": "stream", 
       "stream": "stdout", 
       "text": [
        "", 
        "Ds anal est (2D)  0.971608832807", 
        "Ds pred  [ 1.03202229  1.03202229]", 
        "WARNING: double check that pmf should be applied to delta"
       ]
      }, 
      {
       "output_type": "stream", 
       "stream": "stdout", 
       "text": [
        "", 
        "WARNING: double check that pmf should be applied to delta"
       ]
      }, 
      {
       "output_type": "stream", 
       "stream": "stdout", 
       "text": [
        "", 
        "0.9324"
       ]
      }, 
      {
       "output_type": "stream", 
       "stream": "stdout", 
       "text": [
        "", 
        "Ds anal est (2D)  0.873360809292", 
        "Ds pred  [ 1.15768711  1.15768711]", 
        "WARNING: double check that pmf should be applied to delta"
       ]
      }, 
      {
       "output_type": "stream", 
       "stream": "stdout", 
       "text": [
        "", 
        "WARNING: double check that pmf should be applied to delta"
       ]
      }, 
      {
       "output_type": "stream", 
       "stream": "stdout", 
       "text": [
        "", 
        "0.84"
       ]
      }, 
      {
       "output_type": "stream", 
       "stream": "stdout", 
       "text": [
        "", 
        "Ds anal est (2D)  0.724137931034", 
        "Ds pred  [ 1.41331676  1.41331676]", 
        "WARNING: double check that pmf should be applied to delta"
       ]
      }, 
      {
       "output_type": "stream", 
       "stream": "stdout", 
       "text": [
        "", 
        "WARNING: double check that pmf should be applied to delta"
       ]
      }, 
      {
       "output_type": "stream", 
       "stream": "stdout", 
       "text": [
        "", 
        "0.7084"
       ]
      }, 
      {
       "output_type": "stream", 
       "stream": "stdout", 
       "text": [
        "", 
        "Ds anal est (2D)  0.548467017652", 
        "Ds pred  [ 1.88372893  1.88372893]", 
        "WARNING: double check that pmf should be applied to delta"
       ]
      }, 
      {
       "output_type": "stream", 
       "stream": "stdout", 
       "text": [
        "", 
        "WARNING: double check that pmf should be applied to delta"
       ]
      }, 
      {
       "output_type": "stream", 
       "stream": "stdout", 
       "text": [
        "", 
        "0.5376"
       ]
      }, 
      {
       "output_type": "stream", 
       "stream": "stdout", 
       "text": [
        "", 
        "Ds anal est (2D)  0.36761487965", 
        "Ds pred  [ 2.79900388  2.79900388]", 
        "WARNING: double check that pmf should be applied to delta"
       ]
      }, 
      {
       "output_type": "stream", 
       "stream": "stdout", 
       "text": [
        "", 
        "WARNING: double check that pmf should be applied to delta"
       ]
      }, 
      {
       "output_type": "stream", 
       "stream": "stdout", 
       "text": [
        "", 
        "0.3276"
       ]
      }, 
      {
       "output_type": "stream", 
       "stream": "stdout", 
       "text": [
        "", 
        "Ds anal est (2D)  0.195886151638", 
        "Ds pred  [ 5.10407912  5.10407912]", 
        "WARNING: double check that pmf should be applied to delta"
       ]
      }, 
      {
       "output_type": "stream", 
       "stream": "stdout", 
       "text": [
        "", 
        "WARNING: double check that pmf should be applied to delta"
       ]
      }, 
      {
       "output_type": "stream", 
       "stream": "stdout", 
       "text": [
        "", 
        "0.0975"
       ]
      }, 
      {
       "output_type": "stream", 
       "stream": "stdout", 
       "text": [
        "", 
        "Ds anal est (2D)  0.0512483574244", 
        "Ds pred  [ 17.4384555  17.4384555]", 
        "WARNING: double check that pmf should be applied to delta"
       ]
      }, 
      {
       "output_type": "stream", 
       "stream": "stdout", 
       "text": [
        "", 
        "WARNING: double check that pmf should be applied to delta", 
        "1.0"
       ]
      }, 
      {
       "output_type": "stream", 
       "stream": "stdout", 
       "text": [
        "", 
        "Ds anal est (2D)  1.0", 
        "Ds pred  [ 1.  1.]", 
        "WARNING: double check that pmf should be applied to delta"
       ]
      }, 
      {
       "output_type": "stream", 
       "stream": "stdout", 
       "text": [
        "", 
        "WARNING: double check that pmf should be applied to delta"
       ]
      }, 
      {
       "output_type": "stream", 
       "stream": "stdout", 
       "text": [
        "", 
        "0.9856"
       ]
      }, 
      {
       "output_type": "stream", 
       "stream": "stdout", 
       "text": [
        "", 
        "Ds anal est (2D)  0.971608832807", 
        "Ds pred  [ 1.02981341  1.02981341]", 
        "WARNING: double check that pmf should be applied to delta"
       ]
      }, 
      {
       "output_type": "stream", 
       "stream": "stdout", 
       "text": [
        "", 
        "WARNING: double check that pmf should be applied to delta"
       ]
      }, 
      {
       "output_type": "stream", 
       "stream": "stdout", 
       "text": [
        "", 
        "0.9324"
       ]
      }, 
      {
       "output_type": "stream", 
       "stream": "stdout", 
       "text": [
        "", 
        "Ds anal est (2D)  0.873360809292", 
        "Ds pred  [ 1.14639421  1.14639421]", 
        "WARNING: double check that pmf should be applied to delta"
       ]
      }, 
      {
       "output_type": "stream", 
       "stream": "stdout", 
       "text": [
        "", 
        "WARNING: double check that pmf should be applied to delta"
       ]
      }, 
      {
       "output_type": "stream", 
       "stream": "stdout", 
       "text": [
        "", 
        "0.84"
       ]
      }, 
      {
       "output_type": "stream", 
       "stream": "stdout", 
       "text": [
        "", 
        "Ds anal est (2D)  0.724137931034", 
        "Ds pred  [ 1.38105178  1.38105178]", 
        "WARNING: double check that pmf should be applied to delta"
       ]
      }, 
      {
       "output_type": "stream", 
       "stream": "stdout", 
       "text": [
        "", 
        "WARNING: double check that pmf should be applied to delta"
       ]
      }, 
      {
       "output_type": "stream", 
       "stream": "stdout", 
       "text": [
        "", 
        "0.7084"
       ]
      }, 
      {
       "output_type": "stream", 
       "stream": "stdout", 
       "text": [
        "", 
        "Ds anal est (2D)  0.548467017652", 
        "Ds pred  [ 1.80506756  1.80506756]", 
        "WARNING: double check that pmf should be applied to delta"
       ]
      }, 
      {
       "output_type": "stream", 
       "stream": "stdout", 
       "text": [
        "", 
        "WARNING: double check that pmf should be applied to delta"
       ]
      }, 
      {
       "output_type": "stream", 
       "stream": "stdout", 
       "text": [
        "", 
        "0.5376"
       ]
      }, 
      {
       "output_type": "stream", 
       "stream": "stdout", 
       "text": [
        "", 
        "Ds anal est (2D)  0.36761487965", 
        "Ds pred  [ 2.60267802  2.60267802]", 
        "WARNING: double check that pmf should be applied to delta"
       ]
      }, 
      {
       "output_type": "stream", 
       "stream": "stdout", 
       "text": [
        "", 
        "WARNING: double check that pmf should be applied to delta", 
        "0.3276"
       ]
      }, 
      {
       "output_type": "stream", 
       "stream": "stdout", 
       "text": [
        "", 
        "Ds anal est (2D)  0.195886151638", 
        "Ds pred  [ 4.45552186  4.45552186]", 
        "WARNING: double check that pmf should be applied to delta"
       ]
      }, 
      {
       "output_type": "stream", 
       "stream": "stdout", 
       "text": [
        "", 
        "WARNING: double check that pmf should be applied to delta"
       ]
      }, 
      {
       "output_type": "stream", 
       "stream": "stdout", 
       "text": [
        "", 
        "0.0975"
       ]
      }, 
      {
       "output_type": "stream", 
       "stream": "stdout", 
       "text": [
        "", 
        "Ds anal est (2D)  0.0512483574244", 
        "Ds pred  [ 11.59505963  11.59505963]", 
        "WARNING: double check that pmf should be applied to delta"
       ]
      }, 
      {
       "output_type": "stream", 
       "stream": "stdout", 
       "text": [
        "", 
        "WARNING: double check that pmf should be applied to delta", 
        "1.0"
       ]
      }, 
      {
       "output_type": "stream", 
       "stream": "stdout", 
       "text": [
        "", 
        "Ds anal est (2D)  1.0", 
        "Ds pred  [ 1.  1.]", 
        "WARNING: double check that pmf should be applied to delta"
       ]
      }, 
      {
       "output_type": "stream", 
       "stream": "stdout", 
       "text": [
        "", 
        "WARNING: double check that pmf should be applied to delta"
       ]
      }, 
      {
       "output_type": "stream", 
       "stream": "stdout", 
       "text": [
        "", 
        "0.9856"
       ]
      }, 
      {
       "output_type": "stream", 
       "stream": "stdout", 
       "text": [
        "", 
        "Ds anal est (2D)  0.971608832807", 
        "Ds pred  [ 1.02081812  1.02081812]", 
        "WARNING: double check that pmf should be applied to delta"
       ]
      }, 
      {
       "output_type": "stream", 
       "stream": "stdout", 
       "text": [
        "", 
        "WARNING: double check that pmf should be applied to delta"
       ]
      }, 
      {
       "output_type": "stream", 
       "stream": "stdout", 
       "text": [
        "", 
        "0.9324"
       ]
      }, 
      {
       "output_type": "stream", 
       "stream": "stdout", 
       "text": [
        "", 
        "Ds anal est (2D)  0.873360809292", 
        "Ds pred  [ 1.10096685  1.10096685]", 
        "WARNING: double check that pmf should be applied to delta"
       ]
      }, 
      {
       "output_type": "stream", 
       "stream": "stdout", 
       "text": [
        "", 
        "WARNING: double check that pmf should be applied to delta"
       ]
      }, 
      {
       "output_type": "stream", 
       "stream": "stdout", 
       "text": [
        "", 
        "0.84"
       ]
      }, 
      {
       "output_type": "stream", 
       "stream": "stdout", 
       "text": [
        "", 
        "Ds anal est (2D)  0.724137931034", 
        "Ds pred  [ 1.25539926  1.25539926]", 
        "WARNING: double check that pmf should be applied to delta"
       ]
      }, 
      {
       "output_type": "stream", 
       "stream": "stdout", 
       "text": [
        "", 
        "WARNING: double check that pmf should be applied to delta"
       ]
      }, 
      {
       "output_type": "stream", 
       "stream": "stdout", 
       "text": [
        "", 
        "0.7084"
       ]
      }, 
      {
       "output_type": "stream", 
       "stream": "stdout", 
       "text": [
        "", 
        "Ds anal est (2D)  0.548467017652", 
        "Ds pred  [ 1.51473297  1.51473297]", 
        "WARNING: double check that pmf should be applied to delta"
       ]
      }, 
      {
       "output_type": "stream", 
       "stream": "stdout", 
       "text": [
        "", 
        "WARNING: double check that pmf should be applied to delta", 
        "0.5376"
       ]
      }, 
      {
       "output_type": "stream", 
       "stream": "stdout", 
       "text": [
        "", 
        "Ds anal est (2D)  0.36761487965", 
        "Ds pred  [ 1.94451648  1.94451648]", 
        "WARNING: double check that pmf should be applied to delta"
       ]
      }, 
      {
       "output_type": "stream", 
       "stream": "stdout", 
       "text": [
        "", 
        "WARNING: double check that pmf should be applied to delta"
       ]
      }, 
      {
       "output_type": "stream", 
       "stream": "stdout", 
       "text": [
        "", 
        "0.3276"
       ]
      }, 
      {
       "output_type": "stream", 
       "stream": "stdout", 
       "text": [
        "", 
        "Ds anal est (2D)  0.195886151638", 
        "Ds pred  [ 2.71317856  2.71317856]", 
        "WARNING: double check that pmf should be applied to delta"
       ]
      }, 
      {
       "output_type": "stream", 
       "stream": "stdout", 
       "text": [
        "", 
        "WARNING: double check that pmf should be applied to delta"
       ]
      }, 
      {
       "output_type": "stream", 
       "stream": "stdout", 
       "text": [
        "", 
        "0.0975"
       ]
      }, 
      {
       "output_type": "stream", 
       "stream": "stdout", 
       "text": [
        "", 
        "Ds anal est (2D)  0.0512483574244", 
        "Ds pred  [ 4.20885535  4.20885535]", 
        "WARNING: double check that pmf should be applied to delta"
       ]
      }, 
      {
       "output_type": "stream", 
       "stream": "stdout", 
       "text": [
        "", 
        "WARNING: double check that pmf should be applied to delta"
       ]
      }, 
      {
       "output_type": "stream", 
       "stream": "stdout", 
       "text": [
        "", 
        "1.0"
       ]
      }, 
      {
       "output_type": "stream", 
       "stream": "stdout", 
       "text": [
        "", 
        "Ds anal est (2D)  1.0", 
        "Ds pred  [ 1.  1.]", 
        "WARNING: double check that pmf should be applied to delta"
       ]
      }, 
      {
       "output_type": "stream", 
       "stream": "stdout", 
       "text": [
        "", 
        "WARNING: double check that pmf should be applied to delta"
       ]
      }, 
      {
       "output_type": "stream", 
       "stream": "stdout", 
       "text": [
        "", 
        "0.9856"
       ]
      }, 
      {
       "output_type": "stream", 
       "stream": "stdout", 
       "text": [
        "", 
        "Ds anal est (2D)  0.971608832807", 
        "Ds pred  [ 1.  1.]", 
        "WARNING: double check that pmf should be applied to delta"
       ]
      }, 
      {
       "output_type": "stream", 
       "stream": "stdout", 
       "text": [
        "", 
        "WARNING: double check that pmf should be applied to delta", 
        "0.9324"
       ]
      }, 
      {
       "output_type": "stream", 
       "stream": "stdout", 
       "text": [
        "", 
        "Ds anal est (2D)  0.873360809292", 
        "Ds pred  [ 1.  1.]", 
        "WARNING: double check that pmf should be applied to delta"
       ]
      }, 
      {
       "output_type": "stream", 
       "stream": "stdout", 
       "text": [
        "", 
        "WARNING: double check that pmf should be applied to delta"
       ]
      }, 
      {
       "output_type": "stream", 
       "stream": "stdout", 
       "text": [
        "", 
        "0.84"
       ]
      }, 
      {
       "output_type": "stream", 
       "stream": "stdout", 
       "text": [
        "", 
        "Ds anal est (2D)  0.724137931034", 
        "Ds pred  [ 1.  1.]", 
        "WARNING: double check that pmf should be applied to delta"
       ]
      }, 
      {
       "output_type": "stream", 
       "stream": "stdout", 
       "text": [
        "", 
        "WARNING: double check that pmf should be applied to delta"
       ]
      }, 
      {
       "output_type": "stream", 
       "stream": "stdout", 
       "text": [
        "", 
        "0.7084"
       ]
      }, 
      {
       "output_type": "stream", 
       "stream": "stdout", 
       "text": [
        "", 
        "Ds anal est (2D)  0.548467017652", 
        "Ds pred  [ 1.  1.]", 
        "WARNING: double check that pmf should be applied to delta"
       ]
      }, 
      {
       "output_type": "stream", 
       "stream": "stdout", 
       "text": [
        "", 
        "WARNING: double check that pmf should be applied to delta"
       ]
      }, 
      {
       "output_type": "stream", 
       "stream": "stdout", 
       "text": [
        "", 
        "0.5376"
       ]
      }, 
      {
       "output_type": "stream", 
       "stream": "stdout", 
       "text": [
        "", 
        "Ds anal est (2D)  0.36761487965", 
        "Ds pred  [ 1.  1.]", 
        "WARNING: double check that pmf should be applied to delta"
       ]
      }, 
      {
       "output_type": "stream", 
       "stream": "stdout", 
       "text": [
        "", 
        "WARNING: double check that pmf should be applied to delta"
       ]
      }, 
      {
       "output_type": "stream", 
       "stream": "stdout", 
       "text": [
        "", 
        "0.3276"
       ]
      }, 
      {
       "output_type": "stream", 
       "stream": "stdout", 
       "text": [
        "", 
        "Ds anal est (2D)  0.195886151638", 
        "Ds pred  [ 1.  1.]", 
        "WARNING: double check that pmf should be applied to delta"
       ]
      }, 
      {
       "output_type": "stream", 
       "stream": "stdout", 
       "text": [
        "", 
        "WARNING: double check that pmf should be applied to delta"
       ]
      }, 
      {
       "output_type": "stream", 
       "stream": "stdout", 
       "text": [
        "", 
        "0.0975"
       ]
      }, 
      {
       "output_type": "stream", 
       "stream": "stdout", 
       "text": [
        "", 
        "Ds anal est (2D)  0.0512483574244", 
        "Ds pred  [ 1.  1.]", 
        "WARNING: double check that pmf should be applied to delta"
       ]
      }, 
      {
       "output_type": "stream", 
       "stream": "stdout", 
       "text": [
        "", 
        "WARNING: double check that pmf should be applied to delta", 
        "1.0"
       ]
      }, 
      {
       "output_type": "stream", 
       "stream": "stdout", 
       "text": [
        "", 
        "Ds anal est (2D)  1.0", 
        "Ds pred  [ 1.  1.]", 
        "WARNING: double check that pmf should be applied to delta"
       ]
      }, 
      {
       "output_type": "stream", 
       "stream": "stdout", 
       "text": [
        "", 
        "WARNING: double check that pmf should be applied to delta", 
        "0.9856"
       ]
      }, 
      {
       "output_type": "stream", 
       "stream": "stdout", 
       "text": [
        "", 
        "Ds anal est (2D)  0.971608832807", 
        "Ds pred  [ 0.97992509  0.97992509]", 
        "WARNING: double check that pmf should be applied to delta"
       ]
      }, 
      {
       "output_type": "stream", 
       "stream": "stdout", 
       "text": [
        "", 
        "WARNING: double check that pmf should be applied to delta"
       ]
      }, 
      {
       "output_type": "stream", 
       "stream": "stdout", 
       "text": [
        "", 
        "0.9324"
       ]
      }, 
      {
       "output_type": "stream", 
       "stream": "stdout", 
       "text": [
        "", 
        "Ds anal est (2D)  0.873360809292", 
        "Ds pred  [ 0.90871366  0.90871366]", 
        "WARNING: double check that pmf should be applied to delta"
       ]
      }, 
      {
       "output_type": "stream", 
       "stream": "stdout", 
       "text": [
        "", 
        "WARNING: double check that pmf should be applied to delta", 
        "0.84"
       ]
      }, 
      {
       "output_type": "stream", 
       "stream": "stdout", 
       "text": [
        "", 
        "Ds anal est (2D)  0.724137931034", 
        "Ds pred  [ 0.79699716  0.79699716]", 
        "WARNING: double check that pmf should be applied to delta"
       ]
      }, 
      {
       "output_type": "stream", 
       "stream": "stdout", 
       "text": [
        "", 
        "WARNING: double check that pmf should be applied to delta", 
        "0.7084"
       ]
      }, 
      {
       "output_type": "stream", 
       "stream": "stdout", 
       "text": [
        "", 
        "Ds anal est (2D)  0.548467017652", 
        "Ds pred  [ 0.6605733  0.6605733]", 
        "WARNING: double check that pmf should be applied to delta"
       ]
      }, 
      {
       "output_type": "stream", 
       "stream": "stdout", 
       "text": [
        "", 
        "WARNING: double check that pmf should be applied to delta", 
        "0.5376"
       ]
      }, 
      {
       "output_type": "stream", 
       "stream": "stdout", 
       "text": [
        "", 
        "Ds anal est (2D)  0.36761487965", 
        "Ds pred  [ 0.51457386  0.51457386]", 
        "WARNING: double check that pmf should be applied to delta"
       ]
      }, 
      {
       "output_type": "stream", 
       "stream": "stdout", 
       "text": [
        "", 
        "WARNING: double check that pmf should be applied to delta"
       ]
      }, 
      {
       "output_type": "stream", 
       "stream": "stdout", 
       "text": [
        "", 
        "0.3276"
       ]
      }, 
      {
       "output_type": "stream", 
       "stream": "stdout", 
       "text": [
        "", 
        "Ds anal est (2D)  0.195886151638", 
        "Ds pred  [ 0.36878005  0.36878005]", 
        "WARNING: double check that pmf should be applied to delta"
       ]
      }, 
      {
       "output_type": "stream", 
       "stream": "stdout", 
       "text": [
        "", 
        "WARNING: double check that pmf should be applied to delta", 
        "0.0975"
       ]
      }, 
      {
       "output_type": "stream", 
       "stream": "stdout", 
       "text": [
        "", 
        "Ds anal est (2D)  0.0512483574244", 
        "Ds pred  [ 0.23768803  0.23768803]", 
        "WARNING: double check that pmf should be applied to delta"
       ]
      }, 
      {
       "output_type": "stream", 
       "stream": "stdout", 
       "text": [
        "", 
        "WARNING: double check that pmf should be applied to delta"
       ]
      }, 
      {
       "output_type": "stream", 
       "stream": "stdout", 
       "text": [
        "", 
        "1.0"
       ]
      }, 
      {
       "output_type": "stream", 
       "stream": "stdout", 
       "text": [
        "", 
        "Ds anal est (2D)  1.0", 
        "Ds pred  [ 1.  1.]", 
        "WARNING: double check that pmf should be applied to delta"
       ]
      }, 
      {
       "output_type": "stream", 
       "stream": "stdout", 
       "text": [
        "", 
        "WARNING: double check that pmf should be applied to delta"
       ]
      }, 
      {
       "output_type": "stream", 
       "stream": "stdout", 
       "text": [
        "", 
        "0.9856"
       ]
      }, 
      {
       "output_type": "stream", 
       "stream": "stdout", 
       "text": [
        "", 
        "Ds anal est (2D)  0.971608832807", 
        "Ds pred  [ 0.97185421  0.97185421]", 
        "WARNING: double check that pmf should be applied to delta"
       ]
      }, 
      {
       "output_type": "stream", 
       "stream": "stdout", 
       "text": [
        "", 
        "WARNING: double check that pmf should be applied to delta"
       ]
      }, 
      {
       "output_type": "stream", 
       "stream": "stdout", 
       "text": [
        "", 
        "0.9324"
       ]
      }, 
      {
       "output_type": "stream", 
       "stream": "stdout", 
       "text": [
        "", 
        "Ds anal est (2D)  0.873360809292", 
        "Ds pred  [ 0.87346349  0.87346349]", 
        "WARNING: double check that pmf should be applied to delta"
       ]
      }, 
      {
       "output_type": "stream", 
       "stream": "stdout", 
       "text": [
        "", 
        "WARNING: double check that pmf should be applied to delta", 
        "0.84"
       ]
      }, 
      {
       "output_type": "stream", 
       "stream": "stdout", 
       "text": [
        "", 
        "Ds anal est (2D)  0.724137931034", 
        "Ds pred  [ 0.72531235  0.72531235]", 
        "WARNING: double check that pmf should be applied to delta"
       ]
      }, 
      {
       "output_type": "stream", 
       "stream": "stdout", 
       "text": [
        "", 
        "WARNING: double check that pmf should be applied to delta"
       ]
      }, 
      {
       "output_type": "stream", 
       "stream": "stdout", 
       "text": [
        "", 
        "0.7084"
       ]
      }, 
      {
       "output_type": "stream", 
       "stream": "stdout", 
       "text": [
        "", 
        "Ds anal est (2D)  0.548467017652", 
        "Ds pred  [ 0.55506053  0.55506053]", 
        "WARNING: double check that pmf should be applied to delta"
       ]
      }, 
      {
       "output_type": "stream", 
       "stream": "stdout", 
       "text": [
        "", 
        "WARNING: double check that pmf should be applied to delta"
       ]
      }, 
      {
       "output_type": "stream", 
       "stream": "stdout", 
       "text": [
        "", 
        "0.5376"
       ]
      }, 
      {
       "output_type": "stream", 
       "stream": "stdout", 
       "text": [
        "", 
        "Ds anal est (2D)  0.36761487965", 
        "Ds pred  [ 0.38501459  0.38501459]", 
        "WARNING: double check that pmf should be applied to delta"
       ]
      }, 
      {
       "output_type": "stream", 
       "stream": "stdout", 
       "text": [
        "", 
        "WARNING: double check that pmf should be applied to delta", 
        "0.3276"
       ]
      }, 
      {
       "output_type": "stream", 
       "stream": "stdout", 
       "text": [
        "", 
        "Ds anal est (2D)  0.195886151638", 
        "Ds pred  [ 0.22494474  0.22494474]", 
        "WARNING: double check that pmf should be applied to delta"
       ]
      }, 
      {
       "output_type": "stream", 
       "stream": "stdout", 
       "text": [
        "", 
        "WARNING: double check that pmf should be applied to delta", 
        "0.0975", 
        "Ds anal est (2D)  0.0512483574244", 
        "Ds pred  [ 0.08643824  0.08643824]", 
        "WARNING: double check that pmf should be applied to delta"
       ]
      }, 
      {
       "output_type": "stream", 
       "stream": "stdout", 
       "text": [
        "", 
        "WARNING: double check that pmf should be applied to delta", 
        "1.0"
       ]
      }, 
      {
       "output_type": "stream", 
       "stream": "stdout", 
       "text": [
        "", 
        "Ds anal est (2D)  1.0", 
        "Ds pred  [ 1.  1.]", 
        "WARNING: double check that pmf should be applied to delta"
       ]
      }, 
      {
       "output_type": "stream", 
       "stream": "stdout", 
       "text": [
        "", 
        "WARNING: double check that pmf should be applied to delta", 
        "0.9856", 
        "Ds anal est (2D)  0.971608832807"
       ]
      }, 
      {
       "output_type": "stream", 
       "stream": "stdout", 
       "text": [
        "", 
        "Ds pred  [ 0.96994945  0.96994945]", 
        "WARNING: double check that pmf should be applied to delta"
       ]
      }, 
      {
       "output_type": "stream", 
       "stream": "stdout", 
       "text": [
        "", 
        "WARNING: double check that pmf should be applied to delta", 
        "0.9324", 
        "Ds anal est (2D)  0.873360809292", 
        "Ds pred  [ 0.86523715  0.86523715]", 
        "WARNING: double check that pmf should be applied to delta"
       ]
      }, 
      {
       "output_type": "stream", 
       "stream": "stdout", 
       "text": [
        "", 
        "WARNING: double check that pmf should be applied to delta", 
        "0.84"
       ]
      }, 
      {
       "output_type": "stream", 
       "stream": "stdout", 
       "text": [
        "", 
        "Ds anal est (2D)  0.724137931034", 
        "Ds pred  [ 0.70908589  0.70908589]", 
        "WARNING: double check that pmf should be applied to delta"
       ]
      }, 
      {
       "output_type": "stream", 
       "stream": "stdout", 
       "text": [
        "", 
        "WARNING: double check that pmf should be applied to delta", 
        "0.7084", 
        "Ds anal est (2D)  0.548467017652", 
        "Ds pred  [ 0.53218288  0.53218288]", 
        "WARNING: double check that pmf should be applied to delta"
       ]
      }, 
      {
       "output_type": "stream", 
       "stream": "stdout", 
       "text": [
        "", 
        "WARNING: double check that pmf should be applied to delta", 
        "0.5376", 
        "Ds anal est (2D)  0.36761487965", 
        "Ds pred  [ 0.35824679  0.35824679]", 
        "WARNING: double check that pmf should be applied to delta"
       ]
      }, 
      {
       "output_type": "stream", 
       "stream": "stdout", 
       "text": [
        "", 
        "WARNING: double check that pmf should be applied to delta", 
        "0.3276", 
        "Ds anal est (2D)  0.195886151638", 
        "Ds pred  [ 0.19653433  0.19653433]", 
        "WARNING: double check that pmf should be applied to delta"
       ]
      }, 
      {
       "output_type": "stream", 
       "stream": "stdout", 
       "text": [
        "", 
        "WARNING: double check that pmf should be applied to delta", 
        "0.0975", 
        "Ds anal est (2D)  0.0512483574244", 
        "Ds pred  [ 0.05757601  0.05757601]", 
        "WARNING: double check that pmf should be applied to delta"
       ]
      }, 
      {
       "output_type": "stream", 
       "stream": "stdout", 
       "text": [
        "", 
        "WARNING: double check that pmf should be applied to delta", 
        "1.0"
       ]
      }, 
      {
       "output_type": "stream", 
       "stream": "stdout", 
       "text": [
        "", 
        "Ds anal est (2D)  1.0", 
        "Ds pred  [ 1.  1.]", 
        "WARNING: double check that pmf should be applied to delta"
       ]
      }, 
      {
       "output_type": "stream", 
       "stream": "stdout", 
       "text": [
        "", 
        "WARNING: double check that pmf should be applied to delta", 
        "0.9856"
       ]
      }, 
      {
       "output_type": "stream", 
       "stream": "stdout", 
       "text": [
        "", 
        "Ds anal est (2D)  0.971608832807", 
        "Ds pred  [ 0.96957198  0.96957198]", 
        "WARNING: double check that pmf should be applied to delta"
       ]
      }, 
      {
       "output_type": "stream", 
       "stream": "stdout", 
       "text": [
        "", 
        "WARNING: double check that pmf should be applied to delta", 
        "0.9324", 
        "Ds anal est (2D)  0.873360809292", 
        "Ds pred  [ 0.86361059  0.86361059]", 
        "WARNING: double check that pmf should be applied to delta"
       ]
      }, 
      {
       "output_type": "stream", 
       "stream": "stdout", 
       "text": [
        "", 
        "WARNING: double check that pmf should be applied to delta", 
        "0.84", 
        "Ds anal est (2D)  0.724137931034", 
        "Ds pred  [ 0.70589932  0.70589932]", 
        "WARNING: double check that pmf should be applied to delta"
       ]
      }, 
      {
       "output_type": "stream", 
       "stream": "stdout", 
       "text": [
        "", 
        "WARNING: double check that pmf should be applied to delta", 
        "0.7084", 
        "Ds anal est (2D)  0.548467017652", 
        "Ds pred  [ 0.52773304  0.52773304]", 
        "WARNING: double check that pmf should be applied to delta"
       ]
      }, 
      {
       "output_type": "stream", 
       "stream": "stdout", 
       "text": [
        "", 
        "WARNING: double check that pmf should be applied to delta", 
        "0.5376", 
        "Ds anal est (2D)  0.36761487965", 
        "Ds pred  [ 0.35309477  0.35309477]", 
        "WARNING: double check that pmf should be applied to delta"
       ]
      }, 
      {
       "output_type": "stream", 
       "stream": "stdout", 
       "text": [
        "", 
        "WARNING: double check that pmf should be applied to delta", 
        "0.3276", 
        "Ds anal est (2D)  0.195886151638", 
        "Ds pred  [ 0.19111805  0.19111805]", 
        "WARNING: double check that pmf should be applied to delta"
       ]
      }, 
      {
       "output_type": "stream", 
       "stream": "stdout", 
       "text": [
        "", 
        "WARNING: double check that pmf should be applied to delta", 
        "0.0975", 
        "Ds anal est (2D)  0.0512483574244", 
        "Ds pred  [ 0.05211313  0.05211313]", 
        "WARNING: double check that pmf should be applied to delta"
       ]
      }, 
      {
       "output_type": "stream", 
       "stream": "stdout", 
       "text": [
        "", 
        "WARNING: double check that pmf should be applied to delta", 
        "1.0"
       ]
      }, 
      {
       "output_type": "stream", 
       "stream": "stdout", 
       "text": [
        "", 
        "Ds anal est (2D)  1.0", 
        "Ds pred  [ 1.  1.]", 
        "WARNING: double check that pmf should be applied to delta"
       ]
      }, 
      {
       "output_type": "stream", 
       "stream": "stdout", 
       "text": [
        "", 
        "WARNING: double check that pmf should be applied to delta", 
        "0.9856", 
        "Ds anal est (2D)  0.971608832807", 
        "Ds pred  [ 0.96950002  0.96950002]"
       ]
      }, 
      {
       "output_type": "stream", 
       "stream": "stdout", 
       "text": [
        "", 
        "WARNING: double check that pmf should be applied to delta"
       ]
      }, 
      {
       "output_type": "stream", 
       "stream": "stdout", 
       "text": [
        "", 
        "WARNING: double check that pmf should be applied to delta", 
        "0.9324"
       ]
      }, 
      {
       "output_type": "stream", 
       "stream": "stdout", 
       "text": [
        "", 
        "Ds anal est (2D)  0.873360809292", 
        "Ds pred  [ 0.86330062  0.86330062]", 
        "WARNING: double check that pmf should be applied to delta"
       ]
      }, 
      {
       "output_type": "stream", 
       "stream": "stdout", 
       "text": [
        "", 
        "WARNING: double check that pmf should be applied to delta", 
        "0.84", 
        "Ds anal est (2D)  0.724137931034", 
        "Ds pred  [ 0.70529288  0.70529288]"
       ]
      }, 
      {
       "output_type": "stream", 
       "stream": "stdout", 
       "text": [
        "", 
        "WARNING: double check that pmf should be applied to delta"
       ]
      }, 
      {
       "output_type": "stream", 
       "stream": "stdout", 
       "text": [
        "", 
        "WARNING: double check that pmf should be applied to delta", 
        "0.7084"
       ]
      }, 
      {
       "output_type": "stream", 
       "stream": "stdout", 
       "text": [
        "", 
        "Ds anal est (2D)  0.548467017652", 
        "Ds pred  [ 0.52688777  0.52688777]", 
        "WARNING: double check that pmf should be applied to delta"
       ]
      }, 
      {
       "output_type": "stream", 
       "stream": "stdout", 
       "text": [
        "", 
        "WARNING: double check that pmf should be applied to delta", 
        "0.5376", 
        "Ds anal est (2D)  0.36761487965", 
        "Ds pred  [ 0.35211813  0.35211813]", 
        "WARNING: double check that pmf should be applied to delta"
       ]
      }, 
      {
       "output_type": "stream", 
       "stream": "stdout", 
       "text": [
        "", 
        "WARNING: double check that pmf should be applied to delta", 
        "0.3276", 
        "Ds anal est (2D)  0.195886151638", 
        "Ds pred  [ 0.19009321  0.19009321]", 
        "WARNING: double check that pmf should be applied to delta"
       ]
      }, 
      {
       "output_type": "stream", 
       "stream": "stdout", 
       "text": [
        "", 
        "WARNING: double check that pmf should be applied to delta", 
        "0.0975", 
        "Ds anal est (2D)  0.0512483574244", 
        "Ds pred  [ 0.0510809  0.0510809]"
       ]
      }
     ], 
     "prompt_number": 22
    }, 
    {
     "cell_type": "code", 
     "collapsed": false, 
     "input": [
      "# for the life of me I could not get pcolormesh to display correctly ", 
      "plt.figure()", 
      "#plt.pcolormesh(G,cmap=plt.cm.jet)", 
      "subplot(121)", 
      "plt.pcolormesh(Ds)#,cmap=plt.cm.jet)", 
      "plt.colorbar()", 
      "plt.clim([0,2])", 
      "subplot(122)", 
      "#plt.pcolormesh(np.arange(5),np.arange(8),G,cmap=plt.cm.jet)", 
      "#plt.pcolormesh(margins,barrierHeights,Ds,cmap=plt.cm.jet)", 
      "js = np.arange(nMargins)", 
      "js = [0,2,4,5,6]", 
      "ms=['r-','k-','k--','k-.','k.']", 
      "for j,i in enumerate(js):", 
      "  plt.plot(barrierHeights,Ds[:,i],ms[j],linewidth=2,label='$\\phi$=%2.1f' % phis[i])", 
      "", 
      "    ", 
      "    ", 
      "plt.xlabel(\"V [kcal/mol]\")", 
      "plt.ylabel(\"D\")", 
      "plt.ylim([0,2])", 
      "plt.xlim([-10,10])", 
      "", 
      "plt.legend(bbox_to_anchor=(2.5, -.2),ncol=5)", 
      "plt.gcf().savefig(\"dEffsSizePMF.png\")"
     ], 
     "language": "python", 
     "outputs": [
      {
       "output_type": "display_data", 
       "png": "[encoded data removed]"
      }
     ], 
     "prompt_number": 23
    }, 
    {
     "cell_type": "markdown", 
     "source": [
      "Misc messing around "
     ]
    }, 
    {
     "cell_type": "code", 
     "collapsed": true, 
     "input": [
      "mesh = UnitSquare(100,100)", 
      "V = FunctionSpace(mesh,\"CG\",1)", 
      "pmf = Function(V) ", 
      "", 
      "expr = Expression(\"exp(-(pow(x[0]-x0,2) + pow(x[1]-x1,2))/0.1)\",x0=0.5,x1=0.5)", 
      "pmf.interpolate(expr)", 
      "#expr = Expression(\"exp(-sqrt(pow(x[0]-0.5,2) + pow(x[1]-0.5,2)/2.)\")"
     ], 
     "language": "python", 
     "outputs": [], 
     "prompt_number": 20
    }, 
    {
     "cell_type": "code", 
     "collapsed": false, 
     "input": [
      "pmf(0.0,0.0)"
     ], 
     "language": "python", 
     "outputs": [
      {
       "output_type": "pyout", 
       "prompt_number": 22, 
       "text": [
        "0.00673794699908548"
       ]
      }
     ], 
     "prompt_number": 22
    }, 
    {
     "cell_type": "code", 
     "collapsed": true, 
     "input": [], 
     "language": "python", 
     "outputs": []
    }
   ]
  }
 ]
}